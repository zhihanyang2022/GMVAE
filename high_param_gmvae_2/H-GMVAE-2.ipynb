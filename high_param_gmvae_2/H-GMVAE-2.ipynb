{
 "cells": [
  {
   "cell_type": "markdown",
   "metadata": {},
   "source": [
    "# High-power GM-VAE bi-modal clustering to separate SMBA and KIA"
   ]
  },
  {
   "cell_type": "markdown",
   "metadata": {},
   "source": [
    "The purpose of this notebook is to test whether GM-VAE can successfully discover a simple structure hidden in labelled data. This gives us the confidence to apply GM-VAE to unlabelled data. The difficulty of applying GM-VAE to unlabelled data is that the resulting clusters are difficult to interpret with just examples. \n",
    "- They must be interpreted using summarizing statistics and hints (broad labels that don't necessary align with the clustering results, e.g., from which level).\n",
    "- Analysis to perform: \n",
    "    - Closeness to training data distribution in terms of metrics\n",
    "    - Novelty-quality tradeoff (we want to increase novelty without sacrificing quality)\n",
    "    - Interpretation of resulting clusters (since GM-VAE is not ad-hoc, its clusters may be more meaningful)"
   ]
  },
  {
   "cell_type": "markdown",
   "metadata": {
    "colab_type": "text",
    "id": "rGzTb0oswH5J"
   },
   "source": [
    "## Import Libraries"
   ]
  },
  {
   "cell_type": "code",
   "execution_count": 22,
   "metadata": {
    "colab": {},
    "colab_type": "code",
    "id": "ThVeaB3CwI4j"
   },
   "outputs": [],
   "source": [
    "import json\n",
    "\n",
    "import numpy as np\n",
    "import argparse\n",
    "import random\n",
    "from torchvision import datasets, transforms\n",
    "from torch.utils.data.sampler import SubsetRandomSampler\n",
    "import torch.utils.data\n",
    "from scipy.io import loadmat\n",
    "\n",
    "import sys\n",
    "sys.path.append('./pytorch')\n",
    "sys.path.append('../../1906-pcgml/pcgml-gmmVae-exp/modules/')\n",
    "import vglc_with_path_encodings\n",
    "\n",
    "from model.GMVAE import *\n",
    "import matplotlib.pyplot as plt\n",
    "%matplotlib inline"
   ]
  },
  {
   "cell_type": "markdown",
   "metadata": {},
   "source": [
    "## Load data"
   ]
  },
  {
   "cell_type": "code",
   "execution_count": 23,
   "metadata": {},
   "outputs": [],
   "source": [
    "def open_json_as_nparray(json_fname):\n",
    "    with open(json_fname, 'r') as json_f:\n",
    "        return np.array(json.load(json_f))"
   ]
  },
  {
   "cell_type": "markdown",
   "metadata": {},
   "source": [
    "Load SMB."
   ]
  },
  {
   "cell_type": "code",
   "execution_count": 24,
   "metadata": {},
   "outputs": [],
   "source": [
    "smb_int = open_json_as_nparray('smbWithPath-allLevels-chunks-int.json')"
   ]
  },
  {
   "cell_type": "code",
   "execution_count": 25,
   "metadata": {},
   "outputs": [
    {
     "data": {
      "text/plain": [
       "(2698, 16, 16, 18)"
      ]
     },
     "execution_count": 25,
     "metadata": {},
     "output_type": "execute_result"
    }
   ],
   "source": [
    "smb_onehot = np.eye(18)[smb_int]\n",
    "smb_onehot.shape"
   ]
  },
  {
   "cell_type": "code",
   "execution_count": 26,
   "metadata": {},
   "outputs": [
    {
     "data": {
      "text/plain": [
       "(2698, 4608)"
      ]
     },
     "execution_count": 26,
     "metadata": {},
     "output_type": "execute_result"
    }
   ],
   "source": [
    "smb_onehot = smb_onehot.reshape(\n",
    "    smb_onehot.shape[0], \n",
    "    smb_onehot.shape[1] * smb_onehot.shape[2] * smb_onehot.shape[3]\n",
    ")\n",
    "smb_onehot.shape"
   ]
  },
  {
   "cell_type": "code",
   "execution_count": 27,
   "metadata": {},
   "outputs": [
    {
     "data": {
      "text/plain": [
       "(2698,)"
      ]
     },
     "execution_count": 27,
     "metadata": {},
     "output_type": "execute_result"
    }
   ],
   "source": [
    "smb_labels = np.zeros(smb_onehot.shape[0])\n",
    "smb_labels.shape"
   ]
  },
  {
   "cell_type": "markdown",
   "metadata": {},
   "source": [
    "Load KI."
   ]
  },
  {
   "cell_type": "code",
   "execution_count": 28,
   "metadata": {},
   "outputs": [],
   "source": [
    "ki_int = open_json_as_nparray('kiWithPath-allLevels-chunks-int.json')"
   ]
  },
  {
   "cell_type": "code",
   "execution_count": 29,
   "metadata": {},
   "outputs": [],
   "source": [
    "ki_int = ki_int + 12  # plus 12 because there were 12 encodings for mario\n",
    "ki_int[ki_int == 18] = 11  # set the 18th index, which is P, to the path index for mario"
   ]
  },
  {
   "cell_type": "code",
   "execution_count": 30,
   "metadata": {},
   "outputs": [
    {
     "data": {
      "text/plain": [
       "(1142, 16, 16, 18)"
      ]
     },
     "execution_count": 30,
     "metadata": {},
     "output_type": "execute_result"
    }
   ],
   "source": [
    "ki_onehot = np.eye(18)[ki_int]\n",
    "ki_onehot.shape"
   ]
  },
  {
   "cell_type": "code",
   "execution_count": 31,
   "metadata": {},
   "outputs": [],
   "source": [
    "# ki_onehot_zero_padded = np.zeros(\n",
    "#     (\n",
    "#     ki_onehot.shape[0], \n",
    "#     16, 16,\n",
    "#     len(np.unique(smb_int))\n",
    "#     )\n",
    "# )"
   ]
  },
  {
   "cell_type": "code",
   "execution_count": 32,
   "metadata": {},
   "outputs": [],
   "source": [
    "# ki_onehot_zero_padded.shape"
   ]
  },
  {
   "cell_type": "code",
   "execution_count": 33,
   "metadata": {},
   "outputs": [],
   "source": [
    "# ki_onehot_zero_padded[\n",
    "#     :ki_onehot.shape[0],\n",
    "#     :ki_onehot.shape[1],\n",
    "#     :ki_onehot.shape[2],\n",
    "#     :ki_onehot.shape[3]\n",
    "# ] = ki_onehot"
   ]
  },
  {
   "cell_type": "code",
   "execution_count": 34,
   "metadata": {},
   "outputs": [],
   "source": [
    "# ki_onehot_zero_padded.shape"
   ]
  },
  {
   "cell_type": "code",
   "execution_count": 35,
   "metadata": {},
   "outputs": [],
   "source": [
    "# ki_onehot_zero_padded[:,:,:,6].max(), ki_onehot_zero_padded[:,:,:,7].max()"
   ]
  },
  {
   "cell_type": "code",
   "execution_count": 36,
   "metadata": {},
   "outputs": [],
   "source": [
    "# ki_onehot_zero_padded = ki_onehot_zero_padded.reshape(\n",
    "#     ki_onehot_zero_padded.shape[0], \n",
    "#     ki_onehot_zero_padded.shape[1] * ki_onehot_zero_padded.shape[2] * ki_onehot_zero_padded.shape[3]\n",
    "# )\n",
    "# ki_onehot_zero_padded.shape"
   ]
  },
  {
   "cell_type": "code",
   "execution_count": 37,
   "metadata": {},
   "outputs": [
    {
     "data": {
      "text/plain": [
       "(1142, 4608)"
      ]
     },
     "execution_count": 37,
     "metadata": {},
     "output_type": "execute_result"
    }
   ],
   "source": [
    "ki_onehot = ki_onehot.reshape(ki_onehot.shape[0], -1)\n",
    "ki_onehot.shape"
   ]
  },
  {
   "cell_type": "code",
   "execution_count": 38,
   "metadata": {},
   "outputs": [],
   "source": [
    "ki_labels = np.ones(len(ki_onehot))"
   ]
  },
  {
   "cell_type": "markdown",
   "metadata": {},
   "source": [
    "Create labels."
   ]
  },
  {
   "cell_type": "code",
   "execution_count": 39,
   "metadata": {},
   "outputs": [
    {
     "data": {
      "text/plain": [
       "((3840,), array([0., 0., 0., ..., 1., 1., 1.]))"
      ]
     },
     "execution_count": 39,
     "metadata": {},
     "output_type": "execute_result"
    }
   ],
   "source": [
    "labels = np.concatenate([smb_labels, ki_labels])\n",
    "labels.shape, labels"
   ]
  },
  {
   "cell_type": "code",
   "execution_count": 40,
   "metadata": {},
   "outputs": [],
   "source": [
    "chunks = np.concatenate([smb_onehot, ki_onehot])"
   ]
  },
  {
   "cell_type": "code",
   "execution_count": 41,
   "metadata": {},
   "outputs": [
    {
     "data": {
      "image/png": "[encoded data removed]",
      "text/plain": [
       "<Figure size 432x288 with 1 Axes>"
      ]
     },
     "metadata": {
      "needs_background": "light"
     },
     "output_type": "display_data"
    }
   ],
   "source": [
    "plt.hist(labels)\n",
    "plt.show()"
   ]
  },
  {
   "cell_type": "markdown",
   "metadata": {
    "colab_type": "text",
    "id": "3QNKItMHwQU2"
   },
   "source": [
    "## Input Parameters"
   ]
  },
  {
   "cell_type": "code",
   "execution_count": 51,
   "metadata": {
    "colab": {},
    "colab_type": "code",
    "id": "8tBHkTQ4wVIG"
   },
   "outputs": [],
   "source": [
    "########################################################\n",
    "## Input Parameters\n",
    "#########################################################\n",
    "parser = argparse.ArgumentParser(description='PyTorch Implementation of DGM Clustering')\n",
    "\n",
    "## Used only in notebooks\n",
    "parser.add_argument('-f', '--file',\n",
    "                    help='Path for input file. First line should contain number of lines to search in')\n",
    "\n",
    "## Dataset\n",
    "parser.add_argument('--dataset', type=str, choices=['mnist'],\n",
    "                    default='mnist', help='dataset (default: mnist)')\n",
    "parser.add_argument('--seed', type=int, default=1, help='random seed (default: 1)')\n",
    "\n",
    "## GPU\n",
    "parser.add_argument('--cuda', type=int, default=1,\n",
    "                    help='use of cuda (default: 1)')\n",
    "parser.add_argument('--gpuID', type=int, default=0,\n",
    "                    help='set gpu id to use (default: 0)')\n",
    "\n",
    "## Training\n",
    "parser.add_argument('--epochs', type=int, default=100,\n",
    "                    help='number of total epochs to run (default: 200)')\n",
    "parser.add_argument('--batch_size', default=64, type=int,\n",
    "                    help='mini-batch size (default: 64)')\n",
    "parser.add_argument('--batch_size_val', default=200, type=int,\n",
    "                    help='mini-batch size of validation (default: 200)')\n",
    "parser.add_argument('--learning_rate', default=1e-3, type=float,\n",
    "                    help='learning rate (default: 0.001)')\n",
    "parser.add_argument('--decay_epoch', default=-1, type=int, \n",
    "                    help='Reduces the learning rate every decay_epoch')\n",
    "parser.add_argument('--lr_decay', default=0.5, type=float,\n",
    "                    help='Learning rate decay for training (default: 0.5)')\n",
    "\n",
    "## Architecture\n",
    "parser.add_argument('--num_classes', type=int, default=2,\n",
    "                    help='number of classes (default: 10)')  # edited for this task\n",
    "parser.add_argument('--gaussian_size', default=64, type=int,\n",
    "                    help='gaussian size (default: 64)')\n",
    "parser.add_argument('--input_size', default=4608, type=int,\n",
    "                    help='input size (default: 784)')  # edited for this task\n",
    "\n",
    "## Partition parameters\n",
    "parser.add_argument('--train_proportion', default=0.9, type=float,\n",
    "                    help='proportion of examples to consider for training only (default: 1.0)')\n",
    "\n",
    "## Gumbel parameters\n",
    "parser.add_argument('--init_temp', default=1.0, type=float,\n",
    "                    help='Initial temperature used in gumbel-softmax (recommended 0.5-1.0, default:1.0)')\n",
    "parser.add_argument('--decay_temp', default=1, type=int, \n",
    "                    help='Set 1 to decay gumbel temperature at every epoch (default: 1)')\n",
    "parser.add_argument('--hard_gumbel', default=0, type=int, \n",
    "                    help='Set 1 to use the hard version of gumbel-softmax (default: 1)')\n",
    "parser.add_argument('--min_temp', default=0.5, type=float, \n",
    "                    help='Minimum temperature of gumbel-softmax after annealing (default: 0.5)' )\n",
    "parser.add_argument('--decay_temp_rate', default=0.013862944, type=float,\n",
    "                    help='Temperature decay rate at every epoch (default: 0.013862944)')\n",
    "\n",
    "## Loss function parameters\n",
    "parser.add_argument('--w_gauss', default=2, type=float,\n",
    "                    help='weight of gaussian loss (default: 1)')\n",
    "parser.add_argument('--w_categ', default=1, type=float,\n",
    "                    help='weight of categorical loss (default: 1)')\n",
    "parser.add_argument('--w_rec', default=1, type=float,\n",
    "                    help='weight of reconstruction loss (default: 1)')\n",
    "parser.add_argument('--rec_type', type=str, choices=['bce', 'mse'],\n",
    "                    default='bce', help='desired reconstruction loss function (default: bce)')\n",
    "\n",
    "## Others\n",
    "parser.add_argument('--verbose', default=0, type=int,\n",
    "                    help='print extra information at every epoch.(default: 0)')\n",
    "\n",
    "args = parser.parse_args()"
   ]
  },
  {
   "cell_type": "markdown",
   "metadata": {
    "colab_type": "text",
    "id": "Bti6lPHawc9z"
   },
   "source": [
    "Set random seed in case it was specified in the parameters\n"
   ]
  },
  {
   "cell_type": "code",
   "execution_count": 52,
   "metadata": {
    "colab": {},
    "colab_type": "code",
    "id": "IpWPxTy1wgbJ"
   },
   "outputs": [],
   "source": [
    "## Random Seed\n",
    "SEED = args.seed\n",
    "np.random.seed(SEED)\n",
    "random.seed(SEED)\n",
    "torch.manual_seed(SEED)\n",
    "if args.cuda:\n",
    "    torch.cuda.manual_seed(SEED)"
   ]
  },
  {
   "cell_type": "markdown",
   "metadata": {
    "colab_type": "text",
    "id": "fmrkmhttwkiD"
   },
   "source": [
    "## Data Partition"
   ]
  },
  {
   "cell_type": "markdown",
   "metadata": {
    "colab_type": "text",
    "id": "fUuTFMBhb2vZ"
   },
   "source": [
    "We split the training data into train and validation according to the *train_proportion* parameter:"
   ]
  },
  {
   "cell_type": "code",
   "execution_count": 53,
   "metadata": {},
   "outputs": [],
   "source": [
    "from torch.utils.data import TensorDataset, DataLoader"
   ]
  },
  {
   "cell_type": "code",
   "execution_count": 54,
   "metadata": {},
   "outputs": [],
   "source": [
    "assert args.train_proportion != 1"
   ]
  },
  {
   "cell_type": "code",
   "execution_count": 55,
   "metadata": {
    "colab": {},
    "colab_type": "code",
    "id": "P8F6pjC7cNX7"
   },
   "outputs": [],
   "source": [
    "def partition_dataset(n, proportion=1):\n",
    "    train_num = int(n * proportion)\n",
    "    indices = np.random.permutation(n)\n",
    "    train_indices, val_indices = indices[:train_num], indices[train_num:]\n",
    "    return train_indices, val_indices\n",
    "\n",
    "train_indices, val_indices = partition_dataset(len(chunks), args.train_proportion)\n",
    "train_ds = TensorDataset(torch.from_numpy(chunks).float(), torch.from_numpy(labels).long())\n",
    "train_dl = DataLoader(train_ds, batch_size=args.batch_size, sampler=SubsetRandomSampler(train_indices))\n",
    "valid_dl = DataLoader(train_ds, batch_size=args.batch_size_val, sampler=SubsetRandomSampler(val_indices))"
   ]
  },
  {
   "cell_type": "markdown",
   "metadata": {
    "colab_type": "text",
    "id": "Pt7sEfZWw_U7"
   },
   "source": [
    "## Train Model"
   ]
  },
  {
   "cell_type": "code",
   "execution_count": 71,
   "metadata": {
    "colab": {},
    "colab_type": "code",
    "id": "qTncRSCuxFEL"
   },
   "outputs": [],
   "source": [
    "# Model Initialization\n",
    "gmvae = GMVAE(args)"
   ]
  },
  {
   "cell_type": "code",
   "execution_count": 72,
   "metadata": {},
   "outputs": [],
   "source": []
  },
  {
   "cell_type": "code",
   "execution_count": 73,
   "metadata": {},
   "outputs": [],
   "source": []
  },
  {
   "cell_type": "code",
   "execution_count": 77,
   "metadata": {
    "colab": {
     "base_uri": "https://localhost:8080/",
     "height": 1000
    },
    "colab_type": "code",
    "id": "dQx-EzIexJFV",
    "outputId": "08a10916-7a0c-45cf-fec2-f1a164c13e70",
    "scrolled": true
   },
   "outputs": [],
   "source": [
    "# history_loss = gmvae.train(train_dl, valid_dl)"
   ]
  },
  {
   "cell_type": "code",
   "execution_count": 75,
   "metadata": {},
   "outputs": [],
   "source": [
    "# torch.save(gmvae.network.state_dict(), 'high_param_gmvae_binary.pth')"
   ]
  },
  {
   "cell_type": "code",
   "execution_count": 76,
   "metadata": {},
   "outputs": [
    {
     "data": {
      "text/plain": [
       "<All keys matched successfully>"
      ]
     },
     "execution_count": 76,
     "metadata": {},
     "output_type": "execute_result"
    }
   ],
   "source": [
    "gmvae.network.load_state_dict(torch.load('high_param_gmvae_binary.pth', map_location=torch.device('cpu')))"
   ]
  },
  {
   "cell_type": "markdown",
   "metadata": {
    "colab_type": "text",
    "id": "1bHWNxV-gAl2"
   },
   "source": [
    "## Image Reconstruction"
   ]
  },
  {
   "cell_type": "code",
   "execution_count": 78,
   "metadata": {
    "colab": {
     "base_uri": "https://localhost:8080/",
     "height": 160
    },
    "colab_type": "code",
    "id": "wd5jQFFHgCbD",
    "outputId": "8e1d4654-fb01-49dc-b512-e8e4bb259e0f"
   },
   "outputs": [],
   "source": [
    "original, reconstructed = gmvae.reconstruct_data(valid_dl, 15)  "
   ]
  },
  {
   "cell_type": "code",
   "execution_count": 85,
   "metadata": {},
   "outputs": [],
   "source": [
    "original_int = original.reshape(15, 16, 16, 18).argmax(axis=-1)\n",
    "reconstructed_int = reconstructed.reshape(15, 16, 16, 18).argmax(axis=-1)"
   ]
  },
  {
   "cell_type": "code",
   "execution_count": 88,
   "metadata": {},
   "outputs": [],
   "source": [
    "def get_classes(chunks_int):\n",
    "    classes = []\n",
    "    for i in chunks_int:\n",
    "        if i.max() == 17:\n",
    "            classes.append('kia')\n",
    "        else:\n",
    "            classes.append('smba')\n",
    "    return np.array(classes)"
   ]
  },
  {
   "cell_type": "code",
   "execution_count": 89,
   "metadata": {},
   "outputs": [
    {
     "data": {
      "text/plain": [
       "array(['smba', 'kia', 'kia', 'smba', 'smba', 'smba', 'smba', 'smba',\n",
       "       'kia', 'smba', 'kia', 'kia', 'kia', 'kia', 'smba'], dtype='<U4')"
      ]
     },
     "execution_count": 89,
     "metadata": {},
     "output_type": "execute_result"
    }
   ],
   "source": [
    "get_classes(original_int)"
   ]
  },
  {
   "cell_type": "code",
   "execution_count": 82,
   "metadata": {},
   "outputs": [],
   "source": [
    "org_classes = get_classes(original_int)\n",
    "rec_classes = get_classes(reconstructed_int)\n",
    "assert np.sum(org_classes == rec_classes) == len(org_classes)"
   ]
  },
  {
   "cell_type": "code",
   "execution_count": 83,
   "metadata": {},
   "outputs": [],
   "source": [
    "def get_images(chunks_int):\n",
    "    images = []\n",
    "    for game, chunk in zip(get_classes(chunks_int), chunks_int):\n",
    "        images.append(vglc_with_path_encodings.array_to_image([chunk], game=game)[0])\n",
    "    return images"
   ]
  },
  {
   "cell_type": "code",
   "execution_count": 84,
   "metadata": {},
   "outputs": [
    {
     "ename": "KeyError",
     "evalue": "15",
     "output_type": "error",
     "traceback": [
      "\u001b[0;31m---------------------------------------------------------------------------\u001b[0m",
      "\u001b[0;31mKeyError\u001b[0m                                  Traceback (most recent call last)",
      "\u001b[0;32m<ipython-input-84-f19fa5875f08>\u001b[0m in \u001b[0;36m<module>\u001b[0;34m\u001b[0m\n\u001b[0;32m----> 1\u001b[0;31m \u001b[0morg_images\u001b[0m \u001b[0;34m=\u001b[0m \u001b[0mget_images\u001b[0m\u001b[0;34m(\u001b[0m\u001b[0moriginal_int\u001b[0m\u001b[0;34m)\u001b[0m\u001b[0;34m\u001b[0m\u001b[0;34m\u001b[0m\u001b[0m\n\u001b[0m\u001b[1;32m      2\u001b[0m \u001b[0mrec_images\u001b[0m \u001b[0;34m=\u001b[0m \u001b[0mget_images\u001b[0m\u001b[0;34m(\u001b[0m\u001b[0mreconstructed_int\u001b[0m\u001b[0;34m)\u001b[0m\u001b[0;34m\u001b[0m\u001b[0;34m\u001b[0m\u001b[0m\n\u001b[1;32m      3\u001b[0m \u001b[0mlen\u001b[0m\u001b[0;34m(\u001b[0m\u001b[0morg_images\u001b[0m\u001b[0;34m)\u001b[0m\u001b[0;34m,\u001b[0m \u001b[0mlen\u001b[0m\u001b[0;34m(\u001b[0m\u001b[0mrec_images\u001b[0m\u001b[0;34m)\u001b[0m\u001b[0;34m\u001b[0m\u001b[0;34m\u001b[0m\u001b[0m\n",
      "\u001b[0;32m<ipython-input-83-5c9530fae3e8>\u001b[0m in \u001b[0;36mget_images\u001b[0;34m(chunks_int)\u001b[0m\n\u001b[1;32m      2\u001b[0m     \u001b[0mimages\u001b[0m \u001b[0;34m=\u001b[0m \u001b[0;34m[\u001b[0m\u001b[0;34m]\u001b[0m\u001b[0;34m\u001b[0m\u001b[0;34m\u001b[0m\u001b[0m\n\u001b[1;32m      3\u001b[0m     \u001b[0;32mfor\u001b[0m \u001b[0mgame\u001b[0m\u001b[0;34m,\u001b[0m \u001b[0mchunk\u001b[0m \u001b[0;32min\u001b[0m \u001b[0mzip\u001b[0m\u001b[0;34m(\u001b[0m\u001b[0mget_classes\u001b[0m\u001b[0;34m(\u001b[0m\u001b[0mchunks_int\u001b[0m\u001b[0;34m)\u001b[0m\u001b[0;34m,\u001b[0m \u001b[0mchunks_int\u001b[0m\u001b[0;34m)\u001b[0m\u001b[0;34m:\u001b[0m\u001b[0;34m\u001b[0m\u001b[0;34m\u001b[0m\u001b[0m\n\u001b[0;32m----> 4\u001b[0;31m         \u001b[0mimages\u001b[0m\u001b[0;34m.\u001b[0m\u001b[0mappend\u001b[0m\u001b[0;34m(\u001b[0m\u001b[0mvglc_with_path_encodings\u001b[0m\u001b[0;34m.\u001b[0m\u001b[0marray_to_image\u001b[0m\u001b[0;34m(\u001b[0m\u001b[0;34m[\u001b[0m\u001b[0mchunk\u001b[0m\u001b[0;34m]\u001b[0m\u001b[0;34m,\u001b[0m \u001b[0mgame\u001b[0m\u001b[0;34m=\u001b[0m\u001b[0mgame\u001b[0m\u001b[0;34m)\u001b[0m\u001b[0;34m[\u001b[0m\u001b[0;36m0\u001b[0m\u001b[0;34m]\u001b[0m\u001b[0;34m)\u001b[0m\u001b[0;34m\u001b[0m\u001b[0;34m\u001b[0m\u001b[0m\n\u001b[0m\u001b[1;32m      5\u001b[0m     \u001b[0;32mreturn\u001b[0m \u001b[0mimages\u001b[0m\u001b[0;34m\u001b[0m\u001b[0;34m\u001b[0m\u001b[0m\n",
      "\u001b[0;32m~/projects/1906-pcgml/pcgml-gmmVae-exp/modules/vglc_with_path_encodings.py\u001b[0m in \u001b[0;36marray_to_image\u001b[0;34m(array, game)\u001b[0m\n\u001b[1;32m     85\u001b[0m                     \u001b[0mimage\u001b[0m\u001b[0;34m.\u001b[0m\u001b[0mpaste\u001b[0m\u001b[0;34m(\u001b[0m\u001b[0mchars2pngs_smb\u001b[0m\u001b[0;34m[\u001b[0m\u001b[0mint2char_smb\u001b[0m\u001b[0;34m[\u001b[0m\u001b[0mtile\u001b[0m\u001b[0;34m]\u001b[0m\u001b[0;34m]\u001b[0m\u001b[0;34m,\u001b[0m \u001b[0;34m(\u001b[0m\u001b[0mcol\u001b[0m \u001b[0;34m*\u001b[0m \u001b[0;36m16\u001b[0m\u001b[0;34m,\u001b[0m \u001b[0mrow\u001b[0m \u001b[0;34m*\u001b[0m \u001b[0;36m16\u001b[0m\u001b[0;34m)\u001b[0m\u001b[0;34m)\u001b[0m\u001b[0;34m\u001b[0m\u001b[0;34m\u001b[0m\u001b[0m\n\u001b[1;32m     86\u001b[0m                 \u001b[0;32melif\u001b[0m \u001b[0mgame\u001b[0m \u001b[0;34m==\u001b[0m \u001b[0;34m'kia'\u001b[0m\u001b[0;34m:\u001b[0m\u001b[0;34m\u001b[0m\u001b[0;34m\u001b[0m\u001b[0m\n\u001b[0;32m---> 87\u001b[0;31m                     \u001b[0mimage\u001b[0m\u001b[0;34m.\u001b[0m\u001b[0mpaste\u001b[0m\u001b[0;34m(\u001b[0m\u001b[0mchars2pngs_ki\u001b[0m\u001b[0;34m[\u001b[0m\u001b[0mint2char_ki\u001b[0m\u001b[0;34m[\u001b[0m\u001b[0mtile\u001b[0m\u001b[0;34m]\u001b[0m\u001b[0;34m]\u001b[0m\u001b[0;34m,\u001b[0m \u001b[0;34m(\u001b[0m\u001b[0mcol\u001b[0m \u001b[0;34m*\u001b[0m \u001b[0;36m16\u001b[0m\u001b[0;34m,\u001b[0m \u001b[0mrow\u001b[0m \u001b[0;34m*\u001b[0m \u001b[0;36m16\u001b[0m\u001b[0;34m)\u001b[0m\u001b[0;34m)\u001b[0m\u001b[0;34m\u001b[0m\u001b[0;34m\u001b[0m\u001b[0m\n\u001b[0m\u001b[1;32m     88\u001b[0m         \u001b[0mimages\u001b[0m\u001b[0;34m.\u001b[0m\u001b[0mappend\u001b[0m\u001b[0;34m(\u001b[0m\u001b[0mimage\u001b[0m\u001b[0;34m)\u001b[0m\u001b[0;34m\u001b[0m\u001b[0;34m\u001b[0m\u001b[0m\n\u001b[1;32m     89\u001b[0m     \u001b[0;32mreturn\u001b[0m \u001b[0mimages\u001b[0m\u001b[0;34m\u001b[0m\u001b[0;34m\u001b[0m\u001b[0m\n",
      "\u001b[0;31mKeyError\u001b[0m: 15"
     ]
    }
   ],
   "source": [
    "org_images = get_images(original_int)\n",
    "rec_images = get_images(reconstructed_int)\n",
    "len(org_images), len(rec_images)"
   ]
  },
  {
   "cell_type": "code",
   "execution_count": 43,
   "metadata": {},
   "outputs": [
    {
     "data": {
      "image/png": "[encoded data removed]",
      "text/plain": [
       "<Figure size 1728x576 with 30 Axes>"
      ]
     },
     "metadata": {
      "needs_background": "light"
     },
     "output_type": "display_data"
    }
   ],
   "source": [
    "fig, axes = plt.subplots(nrows=3, ncols=10, figsize=(24, 8))\n",
    "axes = axes.flatten()\n",
    "nrows, ncols = 3, 10\n",
    "\n",
    "org_idxs = np.arange(0, 29, 2)\n",
    "rec_idxs = org_idxs + 1\n",
    "\n",
    "for idx in org_idxs:\n",
    "        \n",
    "    ax = axes[idx]\n",
    "\n",
    "    ax.imshow(np.asarray(org_images[idx // 2]))\n",
    "    ax.set_title(f'Org {idx // 2 + 1}')\n",
    "    \n",
    "    ax.axis('off')\n",
    "\n",
    "for idx in rec_idxs:\n",
    "        \n",
    "    ax = axes[idx]\n",
    "\n",
    "    ax.imshow(np.asarray(rec_images[idx // 2]))\n",
    "    ax.set_title(f'Rec {idx // 2 + 1}')\n",
    "\n",
    "    ax.axis('off')\n",
    "    \n",
    "plt.show()"
   ]
  },
  {
   "cell_type": "markdown",
   "metadata": {
    "colab_type": "text",
    "id": "CAyoGFFRgMgC"
   },
   "source": [
    "## Random Generation per Category"
   ]
  },
  {
   "cell_type": "code",
   "execution_count": 27,
   "metadata": {},
   "outputs": [],
   "source": [
    "idx2game = {\n",
    "    0:'smba',\n",
    "    1:'kia'\n",
    "}"
   ]
  },
  {
   "cell_type": "code",
   "execution_count": 28,
   "metadata": {
    "colab": {
     "base_uri": "https://localhost:8080/",
     "height": 595
    },
    "colab_type": "code",
    "id": "xE84c3U2gLjA",
    "outputId": "cd52f356-e53a-4844-9db2-3723d15ddb00"
   },
   "outputs": [
    {
     "data": {
      "image/png": "[encoded data removed]",
      "text/plain": [
       "<Figure size 1728x576 with 12 Axes>"
      ]
     },
     "metadata": {
      "needs_background": "light"
     },
     "output_type": "display_data"
    }
   ],
   "source": [
    "def display_random_generation(generated, num_classes, n=10):\n",
    "    plt.figure(figsize=[24,8])\n",
    "    for c in range(num_classes):\n",
    "        for i in range(n):\n",
    "            plt.subplot(num_classes, n, (c * n) + i + 1)\n",
    "            chunk_int = generated[(c * n) + i].reshape(16, 16, 12).argmax(axis=-1)\n",
    "            chunk_pix = vglc_with_path_encodings.array_to_image([chunk_int], game=idx2game[c])[0]\n",
    "            plt.imshow(chunk_pix)\n",
    "            plt.gray()\n",
    "            plt.axis('off')\n",
    "    plt.show()\n",
    "\n",
    "elem_per_category = 6\n",
    "generated = gmvae.random_generation(elem_per_category)\n",
    "display_random_generation(generated, args.num_classes, elem_per_category)"
   ]
  },
  {
   "cell_type": "code",
   "execution_count": 90,
   "metadata": {},
   "outputs": [],
   "source": [
    "generated = gmvae.random_generation(5000)"
   ]
  },
  {
   "cell_type": "code",
   "execution_count": 96,
   "metadata": {},
   "outputs": [
    {
     "data": {
      "text/plain": [
       "(10000, 256)"
      ]
     },
     "execution_count": 96,
     "metadata": {},
     "output_type": "execute_result"
    }
   ],
   "source": [
    "generated_int = generated.reshape(-1, 16, 16, 18).argmax(-1).reshape(-1, 16*16)\n",
    "generated_int.shape"
   ]
  },
  {
   "cell_type": "code",
   "execution_count": 105,
   "metadata": {
    "scrolled": true
   },
   "outputs": [],
   "source": [
    "smb_proportions = np.sum(generated_int < 11, axis=1) / 256"
   ]
  },
  {
   "cell_type": "code",
   "execution_count": 145,
   "metadata": {},
   "outputs": [
    {
     "data": {
      "image/png": "[encoded data removed]",
      "text/plain": [
       "<Figure size 864x360 with 1 Axes>"
      ]
     },
     "metadata": {
      "needs_background": "light"
     },
     "output_type": "display_data"
    }
   ],
   "source": [
    "plt.figure(figsize=(12, 5))\n",
    "counts, bins, patches = plt.hist(smb_proportions, rwidth=0.8)\n",
    "for p in patches:\n",
    "    percentage = '{:.1f}%'.format(100 * p.get_height()/np.sum(counts))\n",
    "    x = p.get_x() + p.get_width() / 2 - 0.03\n",
    "    y = p.get_y() + p.get_height() + 100\n",
    "    plt.annotate(percentage, (x, y), fontsize=15)\n",
    "plt.ylim(0, 6000)\n",
    "plt.title('Mario percentages for GM-VAE with 2 components trained on Mario + Kid Icarus', fontsize=15)\n",
    "plt.xlabel('Percentage Mario (1 - Percentage Kid Icarus)', fontsize=15)\n",
    "plt.ylabel('Count', fontsize=15)\n",
    "# plt.savefig('Mario percentages for GM-VAE with 2 components trained on Mario + Kid Icarus.png')\n",
    "plt.show()"
   ]
  },
  {
   "cell_type": "markdown",
   "metadata": {
    "colab_type": "text",
    "id": "-SbXR7FkhIcq"
   },
   "source": [
    "## Visualization of the feature latent space"
   ]
  },
  {
   "cell_type": "code",
   "execution_count": 50,
   "metadata": {
    "colab": {},
    "colab_type": "code",
    "id": "bTkEBA9JhQ2C"
   },
   "outputs": [],
   "source": [
    "# get feature representations\n",
    "test_features, test_labels = gmvae.latent_features(train_dl, True)"
   ]
  },
  {
   "cell_type": "code",
   "execution_count": 51,
   "metadata": {
    "colab": {},
    "colab_type": "code",
    "id": "LNmsz5rahZAY"
   },
   "outputs": [],
   "source": [
    "# import TSNE from scikit-learn library\n",
    "from sklearn.manifold import TSNE\n",
    "\n",
    "# reduce dimensionality to 2D, we consider a subset of data because TSNE\n",
    "# is a slow algorithm\n",
    "\n",
    "first_n = 1000\n",
    "tsne_features = TSNE(n_components=2).fit_transform(test_features[:first_n])"
   ]
  },
  {
   "cell_type": "code",
   "execution_count": 52,
   "metadata": {},
   "outputs": [],
   "source": [
    "test_labels_subset = test_labels[:first_n]\n",
    "tsne_features_smba = tsne_features[test_labels_subset == 0]\n",
    "tsne_features_kia  = tsne_features[test_labels_subset == 1]"
   ]
  },
  {
   "cell_type": "code",
   "execution_count": 53,
   "metadata": {},
   "outputs": [],
   "source": [
    "X_, Y_ = np.s_[:,0], np.s_[:,1]"
   ]
  },
  {
   "cell_type": "code",
   "execution_count": 54,
   "metadata": {},
   "outputs": [],
   "source": [
    "import seaborn as sns"
   ]
  },
  {
   "cell_type": "code",
   "execution_count": 64,
   "metadata": {
    "colab": {
     "base_uri": "https://localhost:8080/",
     "height": 395
    },
    "colab_type": "code",
    "id": "wyTtDdwyha-L",
    "outputId": "350e806a-6dd3-47f2-bd91-444aaf61b3dd"
   },
   "outputs": [
    {
     "data": {
      "image/png": "[encoded data removed]",
      "text/plain": [
       "<Figure size 504x504 with 1 Axes>"
      ]
     },
     "metadata": {
      "needs_background": "light"
     },
     "output_type": "display_data"
    }
   ],
   "source": [
    "fig = plt.figure(figsize=(7, 7))\n",
    "\n",
    "plt.scatter(tsne_features_smba[X_], tsne_features_smba[Y_], label='SMBA')\n",
    "plt.scatter(tsne_features_kia[X_], tsne_features_kia[Y_], label='KIA')\n",
    "\n",
    "plt.title('GM-VAE with 2 components - SMBA vs KIA - projection from latent space to 2D')\n",
    "plt.legend()\n",
    "plt.savefig('gmvae2_tsne.png')"
   ]
  },
  {
   "cell_type": "code",
   "execution_count": null,
   "metadata": {},
   "outputs": [],
   "source": []
  }
 ],
 "metadata": {
  "accelerator": "GPU",
  "colab": {
   "collapsed_sections": [],
   "include_colab_link": true,
   "name": "GMVAE_Pytorch.ipynb",
   "provenance": []
  },
  "kernelspec": {
   "display_name": "Python 3",
   "language": "python",
   "name": "python3"
  },
  "language_info": {
   "codemirror_mode": {
    "name": "ipython",
    "version": 3
   },
   "file_extension": ".py",
   "mimetype": "text/x-python",
   "name": "python",
   "nbconvert_exporter": "python",
   "pygments_lexer": "ipython3",
   "version": "3.7.6"
  },
  "toc": {
   "base_numbering": 1,
   "nav_menu": {},
   "number_sections": false,
   "sideBar": true,
   "skip_h1_title": false,
   "title_cell": "Table of Contents",
   "title_sidebar": "Contents",
   "toc_cell": false,
   "toc_position": {},
   "toc_section_display": true,
   "toc_window_display": false
  },
  "varInspector": {
   "cols": {
    "lenName": 16,
    "lenType": 16,
    "lenVar": 40
   },
   "kernels_config": {
    "python": {
     "delete_cmd_postfix": "",
     "delete_cmd_prefix": "del ",
     "library": "var_list.py",
     "varRefreshCmd": "print(var_dic_list())"
    },
    "r": {
     "delete_cmd_postfix": ") ",
     "delete_cmd_prefix": "rm(",
     "library": "var_list.r",
     "varRefreshCmd": "cat(var_dic_list()) "
    }
   },
   "types_to_exclude": [
    "module",
    "function",
    "builtin_function_or_method",
    "instance",
    "_Feature"
   ],
   "window_display": false
  }
 },
 "nbformat": 4,
 "nbformat_minor": 1
}
