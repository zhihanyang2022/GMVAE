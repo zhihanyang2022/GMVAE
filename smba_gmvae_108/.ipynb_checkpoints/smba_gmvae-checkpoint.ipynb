{
 "cells": [
  {
   "cell_type": "markdown",
   "metadata": {},
   "source": [
    "# GM-VAE for SMBA"
   ]
  },
  {
   "cell_type": "code",
   "execution_count": 1,
   "metadata": {},
   "outputs": [],
   "source": [
    "num_components=108"
   ]
  },
  {
   "cell_type": "markdown",
   "metadata": {
    "colab_type": "text",
    "id": "rGzTb0oswH5J"
   },
   "source": [
    "## Import Libraries"
   ]
  },
  {
   "cell_type": "code",
   "execution_count": 2,
   "metadata": {
    "colab": {},
    "colab_type": "code",
    "id": "ThVeaB3CwI4j"
   },
   "outputs": [],
   "source": [
    "import json\n",
    "\n",
    "import numpy as np\n",
    "import argparse\n",
    "import random\n",
    "from torchvision import datasets, transforms\n",
    "from torch.utils.data.sampler import SubsetRandomSampler\n",
    "import torch.utils.data\n",
    "from scipy.io import loadmat\n",
    "\n",
    "import sys\n",
    "sys.path.append('./pytorch')\n",
    "sys.path.append('../../1906-pcgml/pcgml-gmmVae-exp/modules/')\n",
    "import vglc_with_path_encodings\n",
    "\n",
    "from model.GMVAE import *\n",
    "import matplotlib.pyplot as plt\n",
    "import seaborn as sns\n",
    "%matplotlib inline\n",
    "\n",
    "import warnings\n",
    "warnings.filterwarnings('ignore')"
   ]
  },
  {
   "cell_type": "markdown",
   "metadata": {},
   "source": [
    "## Load data"
   ]
  },
  {
   "cell_type": "code",
   "execution_count": 3,
   "metadata": {},
   "outputs": [],
   "source": [
    "def open_json_as_nparray(json_fname):\n",
    "    with open(json_fname, 'r') as json_f:\n",
    "        return np.array(json.load(json_f))"
   ]
  },
  {
   "cell_type": "markdown",
   "metadata": {},
   "source": [
    "Load SMB."
   ]
  },
  {
   "cell_type": "code",
   "execution_count": 4,
   "metadata": {},
   "outputs": [],
   "source": [
    "smb_int = open_json_as_nparray('smbWithPath-allLevels-chunks-int.json')"
   ]
  },
  {
   "cell_type": "code",
   "execution_count": 5,
   "metadata": {},
   "outputs": [
    {
     "data": {
      "text/plain": [
       "(2698, 16, 16, 12)"
      ]
     },
     "execution_count": 5,
     "metadata": {},
     "output_type": "execute_result"
    }
   ],
   "source": [
    "smb_onehot = np.eye(len(np.unique(smb_int)))[smb_int]\n",
    "smb_onehot.shape"
   ]
  },
  {
   "cell_type": "code",
   "execution_count": 6,
   "metadata": {},
   "outputs": [
    {
     "data": {
      "text/plain": [
       "(2698, 3072)"
      ]
     },
     "execution_count": 6,
     "metadata": {},
     "output_type": "execute_result"
    }
   ],
   "source": [
    "smb_onehot = smb_onehot.reshape(\n",
    "    smb_onehot.shape[0], \n",
    "    smb_onehot.shape[1] * smb_onehot.shape[2] * smb_onehot.shape[3]\n",
    ")\n",
    "smb_onehot.shape"
   ]
  },
  {
   "cell_type": "code",
   "execution_count": 7,
   "metadata": {},
   "outputs": [
    {
     "data": {
      "text/plain": [
       "((2698,),\n",
       " array([102,  51,  92,  14, 106,  71,  60,  20, 102,  82,  86,  74,  74,\n",
       "         87,  99, 103,  23,   2,  21,  52]))"
      ]
     },
     "execution_count": 7,
     "metadata": {},
     "output_type": "execute_result"
    }
   ],
   "source": [
    "np.random.seed(42)\n",
    "smb_labels = np.random.randint(num_components, size=smb_onehot.shape[0])\n",
    "smb_labels.shape, smb_labels[:20]"
   ]
  },
  {
   "cell_type": "code",
   "execution_count": 8,
   "metadata": {},
   "outputs": [],
   "source": [
    "chunks, labels = smb_onehot, smb_labels"
   ]
  },
  {
   "cell_type": "code",
   "execution_count": 9,
   "metadata": {},
   "outputs": [
    {
     "data": {
      "image/png": "[encoded data removed]",
      "text/plain": [
       "<Figure size 432x288 with 1 Axes>"
      ]
     },
     "metadata": {
      "needs_background": "light"
     },
     "output_type": "display_data"
    }
   ],
   "source": [
    "plt.bar(np.arange(num_components), np.bincount(smb_labels))\n",
    "plt.show()"
   ]
  },
  {
   "cell_type": "markdown",
   "metadata": {
    "colab_type": "text",
    "id": "3QNKItMHwQU2"
   },
   "source": [
    "## Input Parameters"
   ]
  },
  {
   "cell_type": "code",
   "execution_count": 10,
   "metadata": {
    "colab": {},
    "colab_type": "code",
    "id": "8tBHkTQ4wVIG"
   },
   "outputs": [],
   "source": [
    "########################################################\n",
    "## Input Parameters\n",
    "#########################################################\n",
    "parser = argparse.ArgumentParser(description='PyTorch Implementation of DGM Clustering')\n",
    "\n",
    "## Used only in notebooks\n",
    "parser.add_argument('-f', '--file',\n",
    "                    help='Path for input file. First line should contain number of lines to search in')\n",
    "\n",
    "## Dataset\n",
    "parser.add_argument('--dataset', type=str, choices=['mnist'],\n",
    "                    default='mnist', help='dataset (default: mnist)')\n",
    "parser.add_argument('--seed', type=int, default=1, help='random seed (default: 1)')\n",
    "\n",
    "## GPU\n",
    "parser.add_argument('--cuda', type=int, default=1,\n",
    "                    help='use of cuda (default: 1)')\n",
    "parser.add_argument('--gpuID', type=int, default=0,\n",
    "                    help='set gpu id to use (default: 0)')\n",
    "\n",
    "## Training\n",
    "parser.add_argument('--epochs', type=int, default=100,\n",
    "                    help='number of total epochs to run (default: 200)')\n",
    "parser.add_argument('--batch_size', default=64, type=int,\n",
    "                    help='mini-batch size (default: 64)')\n",
    "parser.add_argument('--batch_size_val', default=200, type=int,\n",
    "                    help='mini-batch size of validation (default: 200)')\n",
    "parser.add_argument('--learning_rate', default=1e-3, type=float,\n",
    "                    help='learning rate (default: 0.001)')\n",
    "parser.add_argument('--decay_epoch', default=-1, type=int, \n",
    "                    help='Reduces the learning rate every decay_epoch')\n",
    "parser.add_argument('--lr_decay', default=0.5, type=float,\n",
    "                    help='Learning rate decay for training (default: 0.5)')\n",
    "\n",
    "## Architecture\n",
    "parser.add_argument('--num_classes', type=int, default=num_components,\n",
    "                    help='number of classes (default: 10)')  # edited for this task\n",
    "parser.add_argument('--gaussian_size', default=64, type=int,\n",
    "                    help='gaussian size (default: 64)')\n",
    "parser.add_argument('--input_size', default=3072, type=int,\n",
    "                    help='input size (default: 784)')  # edited for this task\n",
    "\n",
    "## Partition parameters\n",
    "parser.add_argument('--train_proportion', default=0.9, type=float,\n",
    "                    help='proportion of examples to consider for training only (default: 1.0)')\n",
    "\n",
    "## Gumbel parameters\n",
    "parser.add_argument('--init_temp', default=1.0, type=float,\n",
    "                    help='Initial temperature used in gumbel-softmax (recommended 0.5-1.0, default:1.0)')\n",
    "parser.add_argument('--decay_temp', default=1, type=int, \n",
    "                    help='Set 1 to decay gumbel temperature at every epoch (default: 1)')\n",
    "parser.add_argument('--hard_gumbel', default=0, type=int, \n",
    "                    help='Set 1 to use the hard version of gumbel-softmax (default: 1)')\n",
    "parser.add_argument('--min_temp', default=0.5, type=float, \n",
    "                    help='Minimum temperature of gumbel-softmax after annealing (default: 0.5)' )\n",
    "parser.add_argument('--decay_temp_rate', default=0.013862944, type=float,\n",
    "                    help='Temperature decay rate at every epoch (default: 0.013862944)')\n",
    "\n",
    "## Loss function parameters\n",
    "parser.add_argument('--w_gauss', default=2, type=float,\n",
    "                    help='weight of gaussian loss (default: 1)')\n",
    "parser.add_argument('--w_categ', default=1, type=float,\n",
    "                    help='weight of categorical loss (default: 1)')\n",
    "parser.add_argument('--w_rec', default=1, type=float,\n",
    "                    help='weight of reconstruction loss (default: 1)')\n",
    "parser.add_argument('--rec_type', type=str, choices=['bce', 'mse'],\n",
    "                    default='bce', help='desired reconstruction loss function (default: bce)')\n",
    "\n",
    "## Others\n",
    "parser.add_argument('--verbose', default=0, type=int,\n",
    "                    help='print extra information at every epoch.(default: 0)')\n",
    "\n",
    "args = parser.parse_args()"
   ]
  },
  {
   "cell_type": "markdown",
   "metadata": {
    "colab_type": "text",
    "id": "Bti6lPHawc9z"
   },
   "source": [
    "Set random seed in case it was specified in the parameters\n"
   ]
  },
  {
   "cell_type": "code",
   "execution_count": 11,
   "metadata": {
    "colab": {},
    "colab_type": "code",
    "id": "IpWPxTy1wgbJ"
   },
   "outputs": [],
   "source": [
    "## Random Seed\n",
    "SEED = args.seed\n",
    "np.random.seed(SEED)\n",
    "random.seed(SEED)\n",
    "torch.manual_seed(SEED)\n",
    "if args.cuda:\n",
    "    torch.cuda.manual_seed(SEED)"
   ]
  },
  {
   "cell_type": "markdown",
   "metadata": {
    "colab_type": "text",
    "id": "fmrkmhttwkiD"
   },
   "source": [
    "## Data Partition"
   ]
  },
  {
   "cell_type": "markdown",
   "metadata": {
    "colab_type": "text",
    "id": "fUuTFMBhb2vZ"
   },
   "source": [
    "We split the training data into train and validation according to the *train_proportion* parameter:"
   ]
  },
  {
   "cell_type": "code",
   "execution_count": 12,
   "metadata": {},
   "outputs": [],
   "source": [
    "from torch.utils.data import TensorDataset, DataLoader"
   ]
  },
  {
   "cell_type": "code",
   "execution_count": 13,
   "metadata": {},
   "outputs": [],
   "source": [
    "assert args.train_proportion != 1"
   ]
  },
  {
   "cell_type": "code",
   "execution_count": 14,
   "metadata": {
    "colab": {},
    "colab_type": "code",
    "id": "P8F6pjC7cNX7"
   },
   "outputs": [],
   "source": [
    "def partition_dataset(n, proportion=1):\n",
    "   train_num = int(n * proportion)\n",
    "   indices = np.random.permutation(n)\n",
    "   train_indices, val_indices = indices[:train_num], indices[train_num:]\n",
    "   return train_indices, val_indices\n",
    "\n",
    "train_indices, val_indices = partition_dataset(len(chunks), args.train_proportion)\n",
    "train_ds = TensorDataset(torch.from_numpy(chunks).float(), torch.from_numpy(labels).long())\n",
    "train_dl = DataLoader(train_ds, batch_size=args.batch_size, sampler=SubsetRandomSampler(train_indices))\n",
    "valid_dl = DataLoader(train_ds, batch_size=args.batch_size_val, sampler=SubsetRandomSampler(val_indices))"
   ]
  },
  {
   "cell_type": "markdown",
   "metadata": {
    "colab_type": "text",
    "id": "Pt7sEfZWw_U7"
   },
   "source": [
    "## Train Model"
   ]
  },
  {
   "cell_type": "code",
   "execution_count": 15,
   "metadata": {
    "colab": {},
    "colab_type": "code",
    "id": "qTncRSCuxFEL"
   },
   "outputs": [],
   "source": [
    "# Model Initialization\n",
    "gmvae = GMVAE(args)"
   ]
  },
  {
   "cell_type": "code",
   "execution_count": 16,
   "metadata": {},
   "outputs": [
    {
     "name": "stdout",
     "output_type": "stream",
     "text": [
      "(Epoch 1 / 100) Train_Loss: 483.145; Val_Loss: 237.658   Train_ACC: 3.501; Val_ACC: 2.963   Train_NMI: 10.269; Val_NMI: 0.000\n",
      "(Epoch 2 / 100) Train_Loss: 226.522; Val_Loss: 226.657   Train_ACC: 2.759; Val_ACC: 5.185   Train_NMI: 5.863; Val_NMI: 20.486\n",
      "(Epoch 3 / 100) Train_Loss: 223.406; Val_Loss: 227.840   Train_ACC: 3.130; Val_ACC: 6.296   Train_NMI: 7.954; Val_NMI: 22.427\n",
      "(Epoch 4 / 100) Train_Loss: 218.760; Val_Loss: 214.136   Train_ACC: 3.707; Val_ACC: 7.778   Train_NMI: 10.240; Val_NMI: 27.269\n",
      "(Epoch 5 / 100) Train_Loss: 212.511; Val_Loss: 209.715   Train_ACC: 3.213; Val_ACC: 5.556   Train_NMI: 8.573; Val_NMI: 26.321\n",
      "(Epoch 6 / 100) Train_Loss: 208.948; Val_Loss: 208.833   Train_ACC: 2.883; Val_ACC: 6.296   Train_NMI: 6.486; Val_NMI: 20.316\n",
      "(Epoch 7 / 100) Train_Loss: 206.342; Val_Loss: 209.238   Train_ACC: 2.801; Val_ACC: 5.556   Train_NMI: 6.374; Val_NMI: 16.268\n",
      "(Epoch 8 / 100) Train_Loss: 203.353; Val_Loss: 207.492   Train_ACC: 2.718; Val_ACC: 5.926   Train_NMI: 6.563; Val_NMI: 21.090\n",
      "(Epoch 9 / 100) Train_Loss: 200.614; Val_Loss: 202.658   Train_ACC: 3.254; Val_ACC: 7.407   Train_NMI: 9.472; Val_NMI: 33.427\n",
      "(Epoch 10 / 100) Train_Loss: 197.773; Val_Loss: 199.103   Train_ACC: 3.254; Val_ACC: 7.407   Train_NMI: 9.277; Val_NMI: 31.109\n",
      "(Epoch 11 / 100) Train_Loss: 193.792; Val_Loss: 198.591   Train_ACC: 3.336; Val_ACC: 7.037   Train_NMI: 9.644; Val_NMI: 29.420\n",
      "(Epoch 12 / 100) Train_Loss: 191.978; Val_Loss: 196.111   Train_ACC: 3.007; Val_ACC: 8.148   Train_NMI: 7.965; Val_NMI: 32.186\n",
      "(Epoch 13 / 100) Train_Loss: 189.810; Val_Loss: 193.080   Train_ACC: 3.130; Val_ACC: 6.667   Train_NMI: 8.893; Val_NMI: 27.401\n",
      "(Epoch 14 / 100) Train_Loss: 186.347; Val_Loss: 195.067   Train_ACC: 3.460; Val_ACC: 9.259   Train_NMI: 11.065; Val_NMI: 36.985\n",
      "(Epoch 15 / 100) Train_Loss: 184.409; Val_Loss: 194.684   Train_ACC: 3.542; Val_ACC: 7.778   Train_NMI: 10.930; Val_NMI: 35.809\n",
      "(Epoch 16 / 100) Train_Loss: 181.309; Val_Loss: 188.180   Train_ACC: 3.542; Val_ACC: 7.037   Train_NMI: 10.499; Val_NMI: 30.855\n",
      "(Epoch 17 / 100) Train_Loss: 180.016; Val_Loss: 188.697   Train_ACC: 3.460; Val_ACC: 8.519   Train_NMI: 10.890; Val_NMI: 37.105\n",
      "(Epoch 18 / 100) Train_Loss: 177.154; Val_Loss: 190.451   Train_ACC: 3.666; Val_ACC: 8.889   Train_NMI: 11.699; Val_NMI: 35.437\n",
      "(Epoch 19 / 100) Train_Loss: 175.870; Val_Loss: 185.076   Train_ACC: 3.707; Val_ACC: 10.000   Train_NMI: 11.548; Val_NMI: 39.525\n",
      "(Epoch 20 / 100) Train_Loss: 173.960; Val_Loss: 178.305   Train_ACC: 3.830; Val_ACC: 9.259   Train_NMI: 11.314; Val_NMI: 35.293\n",
      "(Epoch 21 / 100) Train_Loss: 172.692; Val_Loss: 177.850   Train_ACC: 4.283; Val_ACC: 10.370   Train_NMI: 13.748; Val_NMI: 41.111\n",
      "(Epoch 22 / 100) Train_Loss: 170.953; Val_Loss: 184.211   Train_ACC: 3.954; Val_ACC: 8.889   Train_NMI: 12.962; Val_NMI: 36.217\n",
      "(Epoch 23 / 100) Train_Loss: 168.993; Val_Loss: 178.133   Train_ACC: 3.789; Val_ACC: 9.259   Train_NMI: 11.690; Val_NMI: 36.688\n",
      "(Epoch 24 / 100) Train_Loss: 168.177; Val_Loss: 181.703   Train_ACC: 3.707; Val_ACC: 10.000   Train_NMI: 12.257; Val_NMI: 38.296\n",
      "(Epoch 25 / 100) Train_Loss: 166.493; Val_Loss: 176.149   Train_ACC: 3.954; Val_ACC: 9.630   Train_NMI: 13.452; Val_NMI: 38.938\n",
      "(Epoch 26 / 100) Train_Loss: 164.762; Val_Loss: 179.126   Train_ACC: 4.077; Val_ACC: 10.370   Train_NMI: 12.606; Val_NMI: 40.725\n",
      "(Epoch 27 / 100) Train_Loss: 163.965; Val_Loss: 176.300   Train_ACC: 3.954; Val_ACC: 9.630   Train_NMI: 12.150; Val_NMI: 38.627\n",
      "(Epoch 28 / 100) Train_Loss: 162.459; Val_Loss: 172.330   Train_ACC: 4.325; Val_ACC: 13.333   Train_NMI: 13.851; Val_NMI: 47.240\n",
      "(Epoch 29 / 100) Train_Loss: 161.268; Val_Loss: 169.163   Train_ACC: 4.242; Val_ACC: 9.630   Train_NMI: 13.798; Val_NMI: 40.374\n",
      "(Epoch 30 / 100) Train_Loss: 160.647; Val_Loss: 171.015   Train_ACC: 3.954; Val_ACC: 11.481   Train_NMI: 13.011; Val_NMI: 44.865\n",
      "(Epoch 31 / 100) Train_Loss: 158.962; Val_Loss: 171.303   Train_ACC: 3.748; Val_ACC: 12.222   Train_NMI: 12.267; Val_NMI: 46.272\n",
      "(Epoch 32 / 100) Train_Loss: 157.821; Val_Loss: 171.025   Train_ACC: 4.077; Val_ACC: 11.111   Train_NMI: 13.015; Val_NMI: 42.851\n",
      "(Epoch 33 / 100) Train_Loss: 157.110; Val_Loss: 167.460   Train_ACC: 3.995; Val_ACC: 11.111   Train_NMI: 14.272; Val_NMI: 41.283\n",
      "(Epoch 34 / 100) Train_Loss: 155.087; Val_Loss: 166.744   Train_ACC: 4.613; Val_ACC: 12.222   Train_NMI: 16.387; Val_NMI: 47.114\n",
      "(Epoch 35 / 100) Train_Loss: 154.188; Val_Loss: 164.568   Train_ACC: 4.407; Val_ACC: 12.222   Train_NMI: 15.696; Val_NMI: 46.603\n",
      "(Epoch 36 / 100) Train_Loss: 153.366; Val_Loss: 165.047   Train_ACC: 4.242; Val_ACC: 11.481   Train_NMI: 15.161; Val_NMI: 45.292\n",
      "(Epoch 37 / 100) Train_Loss: 151.458; Val_Loss: 167.752   Train_ACC: 4.489; Val_ACC: 12.222   Train_NMI: 16.278; Val_NMI: 46.820\n",
      "(Epoch 38 / 100) Train_Loss: 150.731; Val_Loss: 168.534   Train_ACC: 4.407; Val_ACC: 14.074   Train_NMI: 16.187; Val_NMI: 48.576\n",
      "(Epoch 39 / 100) Train_Loss: 149.975; Val_Loss: 168.581   Train_ACC: 4.448; Val_ACC: 11.481   Train_NMI: 16.118; Val_NMI: 46.760\n",
      "(Epoch 40 / 100) Train_Loss: 149.205; Val_Loss: 169.675   Train_ACC: 4.448; Val_ACC: 12.963   Train_NMI: 15.780; Val_NMI: 46.923\n",
      "(Epoch 41 / 100) Train_Loss: 148.109; Val_Loss: 164.859   Train_ACC: 4.572; Val_ACC: 14.444   Train_NMI: 16.110; Val_NMI: 50.404\n",
      "(Epoch 42 / 100) Train_Loss: 148.025; Val_Loss: 161.267   Train_ACC: 4.654; Val_ACC: 14.815   Train_NMI: 15.910; Val_NMI: 48.608\n",
      "(Epoch 43 / 100) Train_Loss: 146.693; Val_Loss: 165.257   Train_ACC: 4.489; Val_ACC: 11.852   Train_NMI: 16.036; Val_NMI: 46.020\n",
      "(Epoch 44 / 100) Train_Loss: 145.306; Val_Loss: 158.395   Train_ACC: 4.366; Val_ACC: 11.111   Train_NMI: 14.991; Val_NMI: 45.416\n",
      "(Epoch 45 / 100) Train_Loss: 144.088; Val_Loss: 159.068   Train_ACC: 4.077; Val_ACC: 11.852   Train_NMI: 13.546; Val_NMI: 44.811\n",
      "(Epoch 46 / 100) Train_Loss: 143.931; Val_Loss: 157.650   Train_ACC: 4.695; Val_ACC: 11.852   Train_NMI: 16.272; Val_NMI: 47.668\n",
      "(Epoch 47 / 100) Train_Loss: 142.689; Val_Loss: 164.674   Train_ACC: 4.736; Val_ACC: 13.704   Train_NMI: 15.779; Val_NMI: 48.373\n",
      "(Epoch 48 / 100) Train_Loss: 141.672; Val_Loss: 159.140   Train_ACC: 4.407; Val_ACC: 12.963   Train_NMI: 15.494; Val_NMI: 47.568\n",
      "(Epoch 49 / 100) Train_Loss: 140.445; Val_Loss: 160.312   Train_ACC: 4.984; Val_ACC: 12.963   Train_NMI: 16.262; Val_NMI: 48.967\n",
      "(Epoch 50 / 100) Train_Loss: 138.966; Val_Loss: 155.075   Train_ACC: 4.736; Val_ACC: 12.222   Train_NMI: 17.309; Val_NMI: 48.095\n",
      "(Epoch 51 / 100) Train_Loss: 138.067; Val_Loss: 158.527   Train_ACC: 4.819; Val_ACC: 13.333   Train_NMI: 16.900; Val_NMI: 49.497\n",
      "(Epoch 52 / 100) Train_Loss: 137.275; Val_Loss: 161.100   Train_ACC: 4.613; Val_ACC: 14.815   Train_NMI: 16.263; Val_NMI: 51.889\n",
      "(Epoch 53 / 100) Train_Loss: 135.437; Val_Loss: 159.525   Train_ACC: 4.901; Val_ACC: 13.704   Train_NMI: 17.362; Val_NMI: 51.642\n",
      "(Epoch 54 / 100) Train_Loss: 134.864; Val_Loss: 153.407   Train_ACC: 4.819; Val_ACC: 12.963   Train_NMI: 17.410; Val_NMI: 49.616\n",
      "(Epoch 55 / 100) Train_Loss: 133.717; Val_Loss: 159.392   Train_ACC: 4.778; Val_ACC: 14.444   Train_NMI: 17.824; Val_NMI: 53.744\n",
      "(Epoch 56 / 100) Train_Loss: 132.764; Val_Loss: 155.263   Train_ACC: 4.860; Val_ACC: 15.185   Train_NMI: 17.932; Val_NMI: 53.987\n",
      "(Epoch 57 / 100) Train_Loss: 132.585; Val_Loss: 151.967   Train_ACC: 5.025; Val_ACC: 14.815   Train_NMI: 18.167; Val_NMI: 54.111\n",
      "(Epoch 58 / 100) Train_Loss: 131.764; Val_Loss: 153.357   Train_ACC: 5.148; Val_ACC: 15.926   Train_NMI: 18.813; Val_NMI: 51.720\n",
      "(Epoch 59 / 100) Train_Loss: 130.820; Val_Loss: 151.832   Train_ACC: 5.189; Val_ACC: 15.185   Train_NMI: 19.260; Val_NMI: 54.153\n",
      "(Epoch 60 / 100) Train_Loss: 129.369; Val_Loss: 155.059   Train_ACC: 5.437; Val_ACC: 15.926   Train_NMI: 19.893; Val_NMI: 55.170\n",
      "(Epoch 61 / 100) Train_Loss: 128.512; Val_Loss: 152.916   Train_ACC: 5.107; Val_ACC: 14.444   Train_NMI: 18.645; Val_NMI: 51.603\n",
      "(Epoch 62 / 100) Train_Loss: 127.990; Val_Loss: 156.972   Train_ACC: 4.942; Val_ACC: 16.667   Train_NMI: 17.643; Val_NMI: 55.524\n",
      "(Epoch 63 / 100) Train_Loss: 127.105; Val_Loss: 149.404   Train_ACC: 5.189; Val_ACC: 13.704   Train_NMI: 18.460; Val_NMI: 52.452\n",
      "(Epoch 64 / 100) Train_Loss: 127.033; Val_Loss: 152.570   Train_ACC: 5.066; Val_ACC: 15.556   Train_NMI: 17.577; Val_NMI: 53.262\n"
     ]
    },
    {
     "name": "stdout",
     "output_type": "stream",
     "text": [
      "(Epoch 65 / 100) Train_Loss: 125.771; Val_Loss: 158.673   Train_ACC: 4.942; Val_ACC: 17.407   Train_NMI: 18.402; Val_NMI: 54.815\n",
      "(Epoch 66 / 100) Train_Loss: 125.105; Val_Loss: 158.436   Train_ACC: 4.984; Val_ACC: 17.037   Train_NMI: 18.282; Val_NMI: 56.969\n",
      "(Epoch 67 / 100) Train_Loss: 124.273; Val_Loss: 155.868   Train_ACC: 5.478; Val_ACC: 14.444   Train_NMI: 20.367; Val_NMI: 54.708\n",
      "(Epoch 68 / 100) Train_Loss: 123.992; Val_Loss: 154.437   Train_ACC: 5.354; Val_ACC: 15.185   Train_NMI: 19.717; Val_NMI: 54.371\n",
      "(Epoch 69 / 100) Train_Loss: 122.806; Val_Loss: 155.830   Train_ACC: 5.189; Val_ACC: 15.556   Train_NMI: 19.309; Val_NMI: 53.945\n",
      "(Epoch 70 / 100) Train_Loss: 121.957; Val_Loss: 158.327   Train_ACC: 5.437; Val_ACC: 16.296   Train_NMI: 19.724; Val_NMI: 55.849\n",
      "(Epoch 71 / 100) Train_Loss: 121.810; Val_Loss: 157.450   Train_ACC: 5.231; Val_ACC: 15.926   Train_NMI: 19.431; Val_NMI: 52.974\n",
      "(Epoch 72 / 100) Train_Loss: 120.535; Val_Loss: 152.152   Train_ACC: 5.231; Val_ACC: 16.296   Train_NMI: 18.934; Val_NMI: 53.322\n",
      "(Epoch 73 / 100) Train_Loss: 120.561; Val_Loss: 160.010   Train_ACC: 5.272; Val_ACC: 17.037   Train_NMI: 18.985; Val_NMI: 56.333\n",
      "(Epoch 74 / 100) Train_Loss: 118.915; Val_Loss: 155.595   Train_ACC: 5.437; Val_ACC: 17.407   Train_NMI: 19.668; Val_NMI: 56.327\n",
      "(Epoch 75 / 100) Train_Loss: 118.454; Val_Loss: 156.564   Train_ACC: 5.519; Val_ACC: 15.556   Train_NMI: 19.991; Val_NMI: 55.432\n",
      "(Epoch 76 / 100) Train_Loss: 118.103; Val_Loss: 157.389   Train_ACC: 5.560; Val_ACC: 17.037   Train_NMI: 20.278; Val_NMI: 56.290\n",
      "(Epoch 77 / 100) Train_Loss: 117.575; Val_Loss: 159.555   Train_ACC: 5.601; Val_ACC: 17.778   Train_NMI: 20.537; Val_NMI: 55.962\n",
      "(Epoch 78 / 100) Train_Loss: 116.732; Val_Loss: 156.168   Train_ACC: 5.437; Val_ACC: 15.926   Train_NMI: 19.640; Val_NMI: 55.188\n",
      "(Epoch 79 / 100) Train_Loss: 116.264; Val_Loss: 154.454   Train_ACC: 5.519; Val_ACC: 18.148   Train_NMI: 21.037; Val_NMI: 57.249\n",
      "(Epoch 80 / 100) Train_Loss: 115.220; Val_Loss: 160.302   Train_ACC: 5.313; Val_ACC: 16.296   Train_NMI: 20.740; Val_NMI: 55.402\n",
      "(Epoch 81 / 100) Train_Loss: 115.420; Val_Loss: 159.373   Train_ACC: 5.725; Val_ACC: 17.037   Train_NMI: 21.298; Val_NMI: 55.007\n",
      "(Epoch 82 / 100) Train_Loss: 114.664; Val_Loss: 153.455   Train_ACC: 5.231; Val_ACC: 17.037   Train_NMI: 19.919; Val_NMI: 55.136\n",
      "(Epoch 83 / 100) Train_Loss: 113.048; Val_Loss: 159.603   Train_ACC: 5.437; Val_ACC: 19.259   Train_NMI: 20.924; Val_NMI: 57.832\n",
      "(Epoch 84 / 100) Train_Loss: 111.918; Val_Loss: 159.212   Train_ACC: 5.643; Val_ACC: 16.296   Train_NMI: 21.613; Val_NMI: 57.230\n",
      "(Epoch 85 / 100) Train_Loss: 111.532; Val_Loss: 159.575   Train_ACC: 5.231; Val_ACC: 15.185   Train_NMI: 20.099; Val_NMI: 54.497\n",
      "(Epoch 86 / 100) Train_Loss: 111.120; Val_Loss: 158.064   Train_ACC: 5.354; Val_ACC: 16.667   Train_NMI: 19.964; Val_NMI: 55.717\n",
      "(Epoch 87 / 100) Train_Loss: 109.806; Val_Loss: 162.862   Train_ACC: 5.395; Val_ACC: 17.407   Train_NMI: 21.038; Val_NMI: 55.250\n",
      "(Epoch 88 / 100) Train_Loss: 110.757; Val_Loss: 156.068   Train_ACC: 5.848; Val_ACC: 18.148   Train_NMI: 21.303; Val_NMI: 55.863\n",
      "(Epoch 89 / 100) Train_Loss: 108.922; Val_Loss: 158.291   Train_ACC: 5.807; Val_ACC: 19.259   Train_NMI: 21.568; Val_NMI: 58.664\n",
      "(Epoch 90 / 100) Train_Loss: 108.868; Val_Loss: 154.607   Train_ACC: 5.890; Val_ACC: 18.148   Train_NMI: 22.089; Val_NMI: 56.317\n",
      "(Epoch 91 / 100) Train_Loss: 108.241; Val_Loss: 158.459   Train_ACC: 5.478; Val_ACC: 17.407   Train_NMI: 21.341; Val_NMI: 57.646\n",
      "(Epoch 92 / 100) Train_Loss: 107.552; Val_Loss: 163.279   Train_ACC: 5.395; Val_ACC: 18.148   Train_NMI: 21.383; Val_NMI: 59.644\n",
      "(Epoch 93 / 100) Train_Loss: 106.926; Val_Loss: 163.644   Train_ACC: 6.013; Val_ACC: 17.778   Train_NMI: 22.437; Val_NMI: 59.112\n",
      "(Epoch 94 / 100) Train_Loss: 107.131; Val_Loss: 156.631   Train_ACC: 5.313; Val_ACC: 17.407   Train_NMI: 20.722; Val_NMI: 58.210\n",
      "(Epoch 95 / 100) Train_Loss: 107.745; Val_Loss: 155.887   Train_ACC: 5.684; Val_ACC: 18.889   Train_NMI: 21.883; Val_NMI: 56.688\n",
      "(Epoch 96 / 100) Train_Loss: 105.612; Val_Loss: 160.021   Train_ACC: 5.684; Val_ACC: 18.519   Train_NMI: 21.318; Val_NMI: 57.272\n",
      "(Epoch 97 / 100) Train_Loss: 104.814; Val_Loss: 158.039   Train_ACC: 5.725; Val_ACC: 17.037   Train_NMI: 21.668; Val_NMI: 57.386\n",
      "(Epoch 98 / 100) Train_Loss: 103.974; Val_Loss: 164.168   Train_ACC: 5.601; Val_ACC: 19.259   Train_NMI: 21.762; Val_NMI: 59.207\n",
      "(Epoch 99 / 100) Train_Loss: 104.357; Val_Loss: 164.217   Train_ACC: 6.054; Val_ACC: 19.259   Train_NMI: 23.027; Val_NMI: 59.225\n",
      "(Epoch 100 / 100) Train_Loss: 102.783; Val_Loss: 164.246   Train_ACC: 5.684; Val_ACC: 18.148   Train_NMI: 22.236; Val_NMI: 58.101\n"
     ]
    }
   ],
   "source": [
    "history_loss = gmvae.train(train_dl, valid_dl)"
   ]
  },
  {
   "cell_type": "code",
   "execution_count": 17,
   "metadata": {},
   "outputs": [],
   "source": [
    "torch.save(gmvae.network.state_dict(), 'smba_gmvae.pth')"
   ]
  },
  {
   "cell_type": "code",
   "execution_count": 18,
   "metadata": {},
   "outputs": [
    {
     "data": {
      "text/plain": [
       "<All keys matched successfully>"
      ]
     },
     "execution_count": 18,
     "metadata": {},
     "output_type": "execute_result"
    }
   ],
   "source": [
    "gmvae.network.load_state_dict(torch.load('smba_gmvae.pth'))"
   ]
  },
  {
   "cell_type": "markdown",
   "metadata": {
    "colab_type": "text",
    "id": "1bHWNxV-gAl2"
   },
   "source": [
    "## Image Reconstruction"
   ]
  },
  {
   "cell_type": "code",
   "execution_count": 19,
   "metadata": {
    "colab": {
     "base_uri": "https://localhost:8080/",
     "height": 160
    },
    "colab_type": "code",
    "id": "wd5jQFFHgCbD",
    "outputId": "8e1d4654-fb01-49dc-b512-e8e4bb259e0f"
   },
   "outputs": [],
   "source": [
    "original, reconstructed = gmvae.reconstruct_data(train_dl, 15)  "
   ]
  },
  {
   "cell_type": "code",
   "execution_count": 20,
   "metadata": {},
   "outputs": [],
   "source": [
    "original_int = original.reshape(15, 16, 16, 12).argmax(axis=-1)\n",
    "reconstructed_int = reconstructed.reshape(15, 16, 16, 12).argmax(axis=-1)"
   ]
  },
  {
   "cell_type": "code",
   "execution_count": 21,
   "metadata": {},
   "outputs": [],
   "source": [
    "def get_classes(chunks_int):\n",
    "    classes = []\n",
    "    for i in chunks_int:\n",
    "        if i.max() == 6:\n",
    "            classes.append('kia')\n",
    "        else:\n",
    "            classes.append('smba')\n",
    "    return np.array(classes)"
   ]
  },
  {
   "cell_type": "code",
   "execution_count": 22,
   "metadata": {},
   "outputs": [],
   "source": [
    "org_classes = get_classes(original_int)\n",
    "rec_classes = get_classes(reconstructed_int)\n",
    "assert np.sum(org_classes == rec_classes) == len(org_classes)"
   ]
  },
  {
   "cell_type": "code",
   "execution_count": 23,
   "metadata": {},
   "outputs": [],
   "source": [
    "def get_images(chunks_int):\n",
    "    images = []\n",
    "    for game, chunk in zip(get_classes(chunks_int), chunks_int):\n",
    "        images.append(vglc_with_path_encodings.array_to_image([chunk], game=game)[0])\n",
    "    return images"
   ]
  },
  {
   "cell_type": "code",
   "execution_count": 24,
   "metadata": {},
   "outputs": [
    {
     "data": {
      "text/plain": [
       "(15, 15)"
      ]
     },
     "execution_count": 24,
     "metadata": {},
     "output_type": "execute_result"
    }
   ],
   "source": [
    "org_images = get_images(original_int)\n",
    "rec_images = get_images(reconstructed_int)\n",
    "len(org_images), len(rec_images)"
   ]
  },
  {
   "cell_type": "code",
   "execution_count": 25,
   "metadata": {},
   "outputs": [
    {
     "data": {
      "image/png": "[encoded data removed]",
      "text/plain": [
       "<Figure size 1728x576 with 30 Axes>"
      ]
     },
     "metadata": {
      "needs_background": "light"
     },
     "output_type": "display_data"
    }
   ],
   "source": [
    "fig, axes = plt.subplots(nrows=3, ncols=10, figsize=(24, 8))\n",
    "axes = axes.flatten()\n",
    "nrows, ncols = 3, 10\n",
    "\n",
    "org_idxs = np.arange(0, 29, 2)\n",
    "rec_idxs = org_idxs + 1\n",
    "\n",
    "for idx in org_idxs:\n",
    "        \n",
    "    ax = axes[idx]\n",
    "\n",
    "    ax.imshow(np.asarray(org_images[idx // 2]))\n",
    "    ax.set_title(f'Org {idx // 2 + 1}')\n",
    "    \n",
    "    ax.axis('off')\n",
    "\n",
    "for idx in rec_idxs:\n",
    "        \n",
    "    ax = axes[idx]\n",
    "\n",
    "    ax.imshow(np.asarray(rec_images[idx // 2]))\n",
    "    ax.set_title(f'Rec {idx // 2 + 1}')\n",
    "\n",
    "    ax.axis('off')\n",
    "    \n",
    "plt.show()"
   ]
  },
  {
   "cell_type": "markdown",
   "metadata": {
    "colab_type": "text",
    "id": "CAyoGFFRgMgC"
   },
   "source": [
    "## Random Generation per Category"
   ]
  },
  {
   "cell_type": "code",
   "execution_count": 26,
   "metadata": {
    "colab": {
     "base_uri": "https://localhost:8080/",
     "height": 595
    },
    "colab_type": "code",
    "id": "xE84c3U2gLjA",
    "outputId": "cd52f356-e53a-4844-9db2-3723d15ddb00"
   },
   "outputs": [
    {
     "data": {
      "image/png": "[encoded data removed]",
      "text/plain": [
       "<Figure size 1728x1728 with 108 Axes>"
      ]
     },
     "metadata": {
      "needs_background": "light"
     },
     "output_type": "display_data"
    }
   ],
   "source": [
    "def display_random_generation(generated, num_classes, n=10):\n",
    "    plt.figure(figsize=[24,24])\n",
    "    for c in range(num_classes):\n",
    "        for i in range(n):\n",
    "            plt.subplot(num_classes, n, (c * n) + i + 1)\n",
    "            chunk_int = generated[(c * n) + i].reshape(16, 16, 12).argmax(axis=-1)\n",
    "            chunk_pix = vglc_with_path_encodings.array_to_image([chunk_int], game='smba')[0]\n",
    "            plt.imshow(chunk_pix)\n",
    "            plt.gray()\n",
    "            plt.axis('off')\n",
    "    plt.show()\n",
    "\n",
    "elem_per_category = 1\n",
    "generated = gmvae.random_generation(elem_per_category)\n",
    "display_random_generation(generated, args.num_classes, elem_per_category)"
   ]
  },
  {
   "cell_type": "code",
   "execution_count": 27,
   "metadata": {},
   "outputs": [],
   "source": [
    "elem_per_category = 10000 // num_components\n",
    "generated = gmvae.random_generation(elem_per_category)"
   ]
  },
  {
   "cell_type": "code",
   "execution_count": 28,
   "metadata": {},
   "outputs": [],
   "source": [
    "generated_int = generated.reshape(-1, 16, 16, 12).argmax(axis=-1)"
   ]
  },
  {
   "cell_type": "code",
   "execution_count": 29,
   "metadata": {},
   "outputs": [
    {
     "data": {
      "text/plain": [
       "(9936, 16, 16)"
      ]
     },
     "execution_count": 29,
     "metadata": {},
     "output_type": "execute_result"
    }
   ],
   "source": [
    "generated_int.shape"
   ]
  },
  {
   "cell_type": "code",
   "execution_count": 30,
   "metadata": {},
   "outputs": [],
   "source": [
    "# since this code chunk depends on random seed, it shouldn't be run again\n",
    "with open(f'../smba_generations/smba_gmvae_{num_components}.json', 'w+') as json_f:\n",
    "    json.dump(generated_int.tolist(), json_f)"
   ]
  },
  {
   "cell_type": "markdown",
   "metadata": {
    "colab_type": "text",
    "id": "-SbXR7FkhIcq"
   },
   "source": [
    "## Visualization of the feature latent space"
   ]
  },
  {
   "cell_type": "code",
   "execution_count": 31,
   "metadata": {
    "colab": {},
    "colab_type": "code",
    "id": "bTkEBA9JhQ2C"
   },
   "outputs": [],
   "source": [
    "# get feature representations\n",
    "test_features, test_labels = gmvae.latent_features(train_dl, True)"
   ]
  },
  {
   "cell_type": "code",
   "execution_count": 32,
   "metadata": {
    "colab": {},
    "colab_type": "code",
    "id": "LNmsz5rahZAY"
   },
   "outputs": [],
   "source": [
    "# import TSNE from scikit-learn library\n",
    "from sklearn.manifold import TSNE\n",
    "\n",
    "# reduce dimensionality to 2D, we consider a subset of data because TSNE\n",
    "# is a slow algorithm\n",
    "\n",
    "first_n = 1000\n",
    "tsne_features = TSNE(n_components=2).fit_transform(test_features[:first_n])"
   ]
  },
  {
   "cell_type": "code",
   "execution_count": 33,
   "metadata": {},
   "outputs": [],
   "source": [
    "test_labels_subset = test_labels[:first_n]"
   ]
  },
  {
   "cell_type": "code",
   "execution_count": 34,
   "metadata": {},
   "outputs": [],
   "source": [
    "X_, Y_ = np.s_[:,0], np.s_[:,1]"
   ]
  },
  {
   "cell_type": "code",
   "execution_count": 35,
   "metadata": {
    "colab": {
     "base_uri": "https://localhost:8080/",
     "height": 395
    },
    "colab_type": "code",
    "id": "wyTtDdwyha-L",
    "outputId": "350e806a-6dd3-47f2-bd91-444aaf61b3dd"
   },
   "outputs": [
    {
     "data": {
      "image/png": "[encoded data removed]",
      "text/plain": [
       "<Figure size 360x360 with 1 Axes>"
      ]
     },
     "metadata": {
      "needs_background": "light"
     },
     "output_type": "display_data"
    }
   ],
   "source": [
    "fig = plt.figure(figsize=(5, 5))\n",
    "\n",
    "plt.scatter(tsne_features[X_], tsne_features[Y_])\n",
    "\n",
    "plt.title('Projection from latent space to 2D')\n",
    "plt.show()"
   ]
  },
  {
   "cell_type": "markdown",
   "metadata": {},
   "source": []
  }
 ],
 "metadata": {
  "accelerator": "GPU",
  "colab": {
   "collapsed_sections": [],
   "include_colab_link": true,
   "name": "GMVAE_Pytorch.ipynb",
   "provenance": []
  },
  "kernelspec": {
   "display_name": "Python 3",
   "language": "python",
   "name": "python3"
  },
  "language_info": {
   "codemirror_mode": {
    "name": "ipython",
    "version": 3
   },
   "file_extension": ".py",
   "mimetype": "text/x-python",
   "name": "python",
   "nbconvert_exporter": "python",
   "pygments_lexer": "ipython3",
   "version": "3.7.6"
  },
  "toc": {
   "base_numbering": 1,
   "nav_menu": {},
   "number_sections": false,
   "sideBar": true,
   "skip_h1_title": false,
   "title_cell": "Table of Contents",
   "title_sidebar": "Contents",
   "toc_cell": false,
   "toc_position": {},
   "toc_section_display": true,
   "toc_window_display": false
  },
  "varInspector": {
   "cols": {
    "lenName": 16,
    "lenType": 16,
    "lenVar": 40
   },
   "kernels_config": {
    "python": {
     "delete_cmd_postfix": "",
     "delete_cmd_prefix": "del ",
     "library": "var_list.py",
     "varRefreshCmd": "print(var_dic_list())"
    },
    "r": {
     "delete_cmd_postfix": ") ",
     "delete_cmd_prefix": "rm(",
     "library": "var_list.r",
     "varRefreshCmd": "cat(var_dic_list()) "
    }
   },
   "types_to_exclude": [
    "module",
    "function",
    "builtin_function_or_method",
    "instance",
    "_Feature"
   ],
   "window_display": false
  }
 },
 "nbformat": 4,
 "nbformat_minor": 1
}
