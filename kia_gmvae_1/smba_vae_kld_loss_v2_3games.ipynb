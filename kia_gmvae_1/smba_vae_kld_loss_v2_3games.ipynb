{
 "cells": [
  {
   "cell_type": "markdown",
   "metadata": {},
   "source": [
    "# VAE for SMBA\n",
    "\n",
    "This VAE is adapted from the GM-VAE implementation."
   ]
  },
  {
   "cell_type": "code",
   "execution_count": 1,
   "metadata": {},
   "outputs": [],
   "source": [
    "%reload_ext autoreload\n",
    "%autoreload 2"
   ]
  },
  {
   "cell_type": "code",
   "execution_count": 2,
   "metadata": {},
   "outputs": [],
   "source": [
    "num_epochs=100"
   ]
  },
  {
   "cell_type": "markdown",
   "metadata": {
    "colab_type": "text",
    "id": "rGzTb0oswH5J"
   },
   "source": [
    "## Import Libraries"
   ]
  },
  {
   "cell_type": "code",
   "execution_count": 3,
   "metadata": {
    "colab": {},
    "colab_type": "code",
    "id": "ThVeaB3CwI4j"
   },
   "outputs": [],
   "source": [
    "import json\n",
    "\n",
    "import numpy as np\n",
    "import argparse\n",
    "import random\n",
    "from torchvision import datasets, transforms\n",
    "from torch.utils.data.sampler import SubsetRandomSampler\n",
    "import torch.utils.data\n",
    "from scipy.io import loadmat\n",
    "import matplotlib.pyplot as plt\n",
    "import seaborn as sns\n",
    "%matplotlib inline\n",
    "\n",
    "from cma import CMAEvolutionStrategy\n",
    "\n",
    "import warnings\n",
    "warnings.filterwarnings('ignore')\n",
    "\n",
    "import sys\n",
    "\n",
    "pathfinder_dir = '/home/yangz2/projects/1906-pcgml/pcgml-gmmVae-exp/demos/anurag_pathfinder_smba'\n",
    "sys.path.append(pathfinder_dir)\n",
    "import test_level_smb as astar\n",
    "\n",
    "sys.path.append('../pytorch')\n",
    "from model.VAE_kld_loss_v2 import *\n",
    "\n",
    "sys.path.append('../../1906-pcgml/pcgml-gmmVae-exp/modules/')\n",
    "import vglc_with_path_encodings"
   ]
  },
  {
   "cell_type": "markdown",
   "metadata": {},
   "source": [
    "## Load data"
   ]
  },
  {
   "cell_type": "code",
   "execution_count": 4,
   "metadata": {},
   "outputs": [],
   "source": [
    "def open_json_as_nparray(json_fname):\n",
    "    with open(json_fname, 'r') as json_f:\n",
    "        return np.array(json.load(json_f))"
   ]
  },
  {
   "cell_type": "markdown",
   "metadata": {},
   "source": [
    "Load SMB."
   ]
  },
  {
   "cell_type": "code",
   "execution_count": 5,
   "metadata": {},
   "outputs": [],
   "source": [
    "mario_chunks_int = open_json_as_nparray('smbWithPath-allLevels-chunks-int.json')\n",
    "icarus_chunks_int = open_json_as_nparray('kiWithPath-allLevels-chunks-int.json')\n",
    "megaman_chunks_int = open_json_as_nparray('./megaman_with_path_chunks_int.json')\n",
    "\n",
    "chunks_int = np.concatenate([mario_chunks_int, icarus_chunks_int, megaman_chunks_int])\n",
    "labels = np.concatenate([\n",
    "    np.zeros(mario_chunks_int.shape[0]), \n",
    "    np.ones(icarus_chunks_int.shape[0]),\n",
    "    np.ones(megaman_chunks_int.shape[0]) * 2,\n",
    "]).astype(int)\n",
    "\n",
    "chunks_onehot = np.eye(len(np.unique(chunks_int)))[chunks_int]\n",
    "chunks = chunks_onehot"
   ]
  },
  {
   "cell_type": "markdown",
   "metadata": {
    "colab_type": "text",
    "id": "3QNKItMHwQU2"
   },
   "source": [
    "## Input Parameters"
   ]
  },
  {
   "cell_type": "code",
   "execution_count": 6,
   "metadata": {
    "colab": {},
    "colab_type": "code",
    "id": "8tBHkTQ4wVIG"
   },
   "outputs": [],
   "source": [
    "########################################################\n",
    "## Input Parameters\n",
    "#########################################################\n",
    "parser = argparse.ArgumentParser(description='PyTorch Implementation of DGM Clustering')\n",
    "\n",
    "## Used only in notebooks\n",
    "parser.add_argument('-f', '--file',\n",
    "                    help='Path for input file. First line should contain number of lines to search in')\n",
    "\n",
    "## Dataset\n",
    "parser.add_argument('--dataset', type=str, choices=['mnist'],\n",
    "                    default='mnist', help='dataset (default: mnist)')\n",
    "parser.add_argument('--seed', type=int, default=1, help='random seed (default: 1)')\n",
    "\n",
    "## GPU\n",
    "parser.add_argument('--cuda', type=int, default=1,\n",
    "                    help='use of cuda (default: 1)')\n",
    "parser.add_argument('--gpuID', type=int, default=0,\n",
    "                    help='set gpu id to use (default: 0)')\n",
    "\n",
    "## Training\n",
    "parser.add_argument('--epochs', type=int, default=num_epochs,\n",
    "                    help='number of total epochs to run (default: 200)')\n",
    "parser.add_argument('--batch_size', default=64, type=int,\n",
    "                    help='mini-batch size (default: 64)')\n",
    "parser.add_argument('--batch_size_val', default=200, type=int,\n",
    "                    help='mini-batch size of validation (default: 200)')\n",
    "parser.add_argument('--learning_rate', default=1e-3, type=float,\n",
    "                    help='learning rate (default: 0.001)')\n",
    "parser.add_argument('--decay_epoch', default=-1, type=int, \n",
    "                    help='Reduces the learning rate every decay_epoch')\n",
    "parser.add_argument('--lr_decay', default=0.5, type=float,\n",
    "                    help='Learning rate decay for training (default: 0.5)')\n",
    "\n",
    "## Architecture\n",
    "parser.add_argument('--gaussian_size', default=64, type=int,\n",
    "                    help='gaussian size (default: 64)')\n",
    "parser.add_argument('--input_size', default=4352, type=int,\n",
    "                    help='input size (default: 784)')  # edited for this task\n",
    "\n",
    "## Partition parameters\n",
    "parser.add_argument('--train_proportion', default=0.9, type=float,\n",
    "                    help='proportion of examples to consider for training only (default: 1.0)')\n",
    "\n",
    "## Loss function parameters\n",
    "parser.add_argument('--w_gauss', default=2, type=float,\n",
    "                    help='weight of gaussian loss (default: 1)')\n",
    "parser.add_argument('--w_categ', default=1, type=float,\n",
    "                    help='weight of categorical loss (default: 1)')\n",
    "parser.add_argument('--w_rec', default=1, type=float,\n",
    "                    help='weight of reconstruction loss (default: 1)')\n",
    "parser.add_argument('--rec_type', type=str, choices=['bce', 'mse'],\n",
    "                    default='bce', help='desired reconstruction loss function (default: bce)')\n",
    "\n",
    "## Others\n",
    "parser.add_argument('--verbose', default=0, type=int,\n",
    "                    help='print extra information at every epoch.(default: 0)')\n",
    "\n",
    "args = parser.parse_args()"
   ]
  },
  {
   "cell_type": "markdown",
   "metadata": {
    "colab_type": "text",
    "id": "Bti6lPHawc9z"
   },
   "source": [
    "Set random seed in case it was specified in the parameters\n"
   ]
  },
  {
   "cell_type": "code",
   "execution_count": 7,
   "metadata": {
    "colab": {},
    "colab_type": "code",
    "id": "IpWPxTy1wgbJ"
   },
   "outputs": [],
   "source": [
    "## Random Seed\n",
    "SEED = args.seed\n",
    "np.random.seed(SEED)\n",
    "random.seed(SEED)\n",
    "torch.manual_seed(SEED)\n",
    "if args.cuda:\n",
    "    torch.cuda.manual_seed(SEED)"
   ]
  },
  {
   "cell_type": "markdown",
   "metadata": {
    "colab_type": "text",
    "id": "fmrkmhttwkiD"
   },
   "source": [
    "## Data Partition"
   ]
  },
  {
   "cell_type": "markdown",
   "metadata": {
    "colab_type": "text",
    "id": "fUuTFMBhb2vZ"
   },
   "source": [
    "We split the training data into train and validation according to the *train_proportion* parameter:"
   ]
  },
  {
   "cell_type": "code",
   "execution_count": 8,
   "metadata": {},
   "outputs": [],
   "source": [
    "from torch.utils.data import TensorDataset, DataLoader"
   ]
  },
  {
   "cell_type": "code",
   "execution_count": 9,
   "metadata": {},
   "outputs": [],
   "source": [
    "valid_indices = np.random.randint(len(chunks), size=500)\n",
    "train_chunks, valid_chunks = chunks, chunks[valid_indices]\n",
    "train_labels, valid_labels = labels, labels[valid_indices]\n",
    "\n",
    "train_ds = TensorDataset(torch.from_numpy(train_chunks).float())\n",
    "valid_ds = TensorDataset(torch.from_numpy(valid_chunks).float())\n",
    "\n",
    "train_dl = DataLoader(train_ds, batch_size=args.batch_size, shuffle=True)\n",
    "valid_dl = DataLoader(valid_ds, batch_size=args.batch_size_val, shuffle=False)"
   ]
  },
  {
   "cell_type": "markdown",
   "metadata": {
    "colab_type": "text",
    "id": "Pt7sEfZWw_U7"
   },
   "source": [
    "## Train Model"
   ]
  },
  {
   "cell_type": "code",
   "execution_count": 10,
   "metadata": {
    "colab": {},
    "colab_type": "code",
    "id": "qTncRSCuxFEL"
   },
   "outputs": [],
   "source": [
    "# Model Initialization\n",
    "vae = VAE(args)"
   ]
  },
  {
   "cell_type": "code",
   "execution_count": 31,
   "metadata": {},
   "outputs": [
    {
     "name": "stdout",
     "output_type": "stream",
     "text": [
      "Epoch     1 / 100 | Total loss:  642.57 | Recon loss:  624.89 | Gauss loss:    8.84\n",
      "Epoch     2 / 100 | Total loss:  383.68 | Recon loss:   367.6 | Gauss loss:    8.04\n",
      "Epoch     3 / 100 | Total loss:   354.8 | Recon loss:  335.97 | Gauss loss:    9.41\n",
      "Epoch     4 / 100 | Total loss:  336.56 | Recon loss:  317.16 | Gauss loss:     9.7\n",
      "Epoch     5 / 100 | Total loss:  320.62 | Recon loss:  303.85 | Gauss loss:    8.39\n",
      "Epoch     6 / 100 | Total loss:  308.66 | Recon loss:  293.27 | Gauss loss:    7.69\n",
      "Epoch     7 / 100 | Total loss:  301.72 | Recon loss:   286.3 | Gauss loss:    7.71\n",
      "Epoch     8 / 100 | Total loss:  293.64 | Recon loss:  278.19 | Gauss loss:    7.73\n",
      "Epoch     9 / 100 | Total loss:  288.79 | Recon loss:  272.91 | Gauss loss:    7.94\n",
      "Epoch    10 / 100 | Total loss:  285.26 | Recon loss:  268.76 | Gauss loss:    8.25\n",
      "Epoch    11 / 100 | Total loss:  280.54 | Recon loss:  263.98 | Gauss loss:    8.28\n",
      "Epoch    12 / 100 | Total loss:  275.34 | Recon loss:  258.66 | Gauss loss:    8.34\n",
      "Epoch    13 / 100 | Total loss:  271.21 | Recon loss:  254.46 | Gauss loss:    8.37\n",
      "Epoch    14 / 100 | Total loss:  267.54 | Recon loss:  250.97 | Gauss loss:    8.29\n",
      "Epoch    15 / 100 | Total loss:  265.68 | Recon loss:  248.59 | Gauss loss:    8.54\n",
      "Epoch    16 / 100 | Total loss:  264.48 | Recon loss:  246.87 | Gauss loss:     8.8\n",
      "Epoch    17 / 100 | Total loss:  260.04 | Recon loss:  242.67 | Gauss loss:    8.69\n",
      "Epoch    18 / 100 | Total loss:  256.74 | Recon loss:  239.37 | Gauss loss:    8.69\n",
      "Epoch    19 / 100 | Total loss:  257.72 | Recon loss:  239.85 | Gauss loss:    8.94\n",
      "Epoch    20 / 100 | Total loss:  251.12 | Recon loss:  233.41 | Gauss loss:    8.85\n",
      "Epoch    21 / 100 | Total loss:  252.03 | Recon loss:  233.19 | Gauss loss:    9.42\n",
      "Epoch    22 / 100 | Total loss:  250.41 | Recon loss:  232.21 | Gauss loss:     9.1\n",
      "Epoch    23 / 100 | Total loss:  249.34 | Recon loss:  230.95 | Gauss loss:    9.19\n",
      "Epoch    24 / 100 | Total loss:  246.58 | Recon loss:  227.54 | Gauss loss:    9.52\n",
      "Epoch    25 / 100 | Total loss:  246.09 | Recon loss:  226.54 | Gauss loss:    9.78\n",
      "Epoch    26 / 100 | Total loss:  242.73 | Recon loss:  223.57 | Gauss loss:    9.58\n",
      "Epoch    27 / 100 | Total loss:  239.28 | Recon loss:   220.1 | Gauss loss:    9.59\n",
      "Epoch    28 / 100 | Total loss:  237.97 | Recon loss:  218.45 | Gauss loss:    9.76\n",
      "Epoch    29 / 100 | Total loss:   235.8 | Recon loss:  216.59 | Gauss loss:     9.6\n",
      "Epoch    30 / 100 | Total loss:  236.45 | Recon loss:  216.46 | Gauss loss:    10.0\n",
      "Epoch    31 / 100 | Total loss:  233.96 | Recon loss:   214.0 | Gauss loss:    9.98\n",
      "Epoch    32 / 100 | Total loss:  232.14 | Recon loss:  212.09 | Gauss loss:   10.02\n",
      "Epoch    33 / 100 | Total loss:  232.45 | Recon loss:  211.94 | Gauss loss:   10.25\n",
      "Epoch    34 / 100 | Total loss:  231.95 | Recon loss:  211.22 | Gauss loss:   10.36\n",
      "Epoch    35 / 100 | Total loss:  230.61 | Recon loss:  209.79 | Gauss loss:   10.41\n",
      "Epoch    36 / 100 | Total loss:  224.58 | Recon loss:  204.07 | Gauss loss:   10.26\n",
      "Epoch    37 / 100 | Total loss:  225.92 | Recon loss:  205.51 | Gauss loss:   10.21\n",
      "Epoch    38 / 100 | Total loss:  223.99 | Recon loss:  203.38 | Gauss loss:    10.3\n",
      "Epoch    39 / 100 | Total loss:  220.87 | Recon loss:  199.97 | Gauss loss:   10.45\n",
      "Epoch    40 / 100 | Total loss:  220.28 | Recon loss:   199.0 | Gauss loss:   10.64\n",
      "Epoch    41 / 100 | Total loss:  216.22 | Recon loss:  195.14 | Gauss loss:   10.54\n",
      "Epoch    42 / 100 | Total loss:  215.64 | Recon loss:  194.55 | Gauss loss:   10.55\n",
      "Epoch    43 / 100 | Total loss:  215.04 | Recon loss:  193.61 | Gauss loss:   10.72\n",
      "Epoch    44 / 100 | Total loss:  213.82 | Recon loss:  192.45 | Gauss loss:   10.68\n",
      "Epoch    45 / 100 | Total loss:  214.65 | Recon loss:   193.2 | Gauss loss:   10.72\n",
      "Epoch    46 / 100 | Total loss:  213.53 | Recon loss:  191.21 | Gauss loss:   11.16\n",
      "Epoch    47 / 100 | Total loss:   208.3 | Recon loss:  186.59 | Gauss loss:   10.86\n",
      "Epoch    48 / 100 | Total loss:  213.37 | Recon loss:  191.13 | Gauss loss:   11.12\n",
      "Epoch    49 / 100 | Total loss:  208.34 | Recon loss:  186.42 | Gauss loss:   10.96\n",
      "Epoch    50 / 100 | Total loss:   205.7 | Recon loss:  183.64 | Gauss loss:   11.03\n",
      "Epoch    51 / 100 | Total loss:  204.12 | Recon loss:  181.91 | Gauss loss:   11.11\n",
      "Epoch    52 / 100 | Total loss:  202.95 | Recon loss:  180.62 | Gauss loss:   11.16\n",
      "Epoch    53 / 100 | Total loss:  203.11 | Recon loss:  180.69 | Gauss loss:   11.21\n",
      "Epoch    54 / 100 | Total loss:  200.85 | Recon loss:   178.6 | Gauss loss:   11.13\n",
      "Epoch    55 / 100 | Total loss:  199.03 | Recon loss:  176.61 | Gauss loss:   11.21\n",
      "Epoch    56 / 100 | Total loss:  198.27 | Recon loss:  175.67 | Gauss loss:    11.3\n",
      "Epoch    57 / 100 | Total loss:  195.39 | Recon loss:  172.74 | Gauss loss:   11.32\n",
      "Epoch    58 / 100 | Total loss:  195.74 | Recon loss:  173.12 | Gauss loss:   11.31\n",
      "Epoch    59 / 100 | Total loss:  196.89 | Recon loss:  173.88 | Gauss loss:   11.51\n",
      "Epoch    60 / 100 | Total loss:  198.51 | Recon loss:  175.28 | Gauss loss:   11.61\n",
      "Epoch    61 / 100 | Total loss:  197.13 | Recon loss:   174.0 | Gauss loss:   11.57\n",
      "Epoch    62 / 100 | Total loss:  193.79 | Recon loss:  170.55 | Gauss loss:   11.62\n",
      "Epoch    63 / 100 | Total loss:   192.7 | Recon loss:  169.58 | Gauss loss:   11.56\n",
      "Epoch    64 / 100 | Total loss:  191.03 | Recon loss:  167.98 | Gauss loss:   11.52\n",
      "Epoch    65 / 100 | Total loss:   193.9 | Recon loss:  170.54 | Gauss loss:   11.68\n",
      "Epoch    66 / 100 | Total loss:  189.91 | Recon loss:  166.54 | Gauss loss:   11.68\n",
      "Epoch    67 / 100 | Total loss:  188.46 | Recon loss:  165.17 | Gauss loss:   11.64\n",
      "Epoch    68 / 100 | Total loss:  186.38 | Recon loss:  162.88 | Gauss loss:   11.75\n",
      "Epoch    69 / 100 | Total loss:  186.26 | Recon loss:  162.59 | Gauss loss:   11.84\n",
      "Epoch    70 / 100 | Total loss:  185.02 | Recon loss:  161.41 | Gauss loss:    11.8\n",
      "Epoch    71 / 100 | Total loss:  189.88 | Recon loss:  165.33 | Gauss loss:   12.28\n",
      "Epoch    72 / 100 | Total loss:  183.76 | Recon loss:  159.88 | Gauss loss:   11.94\n",
      "Epoch    73 / 100 | Total loss:  184.17 | Recon loss:  160.46 | Gauss loss:   11.86\n",
      "Epoch    74 / 100 | Total loss:  185.45 | Recon loss:  161.52 | Gauss loss:   11.97\n",
      "Epoch    75 / 100 | Total loss:   185.2 | Recon loss:  160.22 | Gauss loss:   12.49\n",
      "Epoch    76 / 100 | Total loss:  180.91 | Recon loss:  156.61 | Gauss loss:   12.15\n",
      "Epoch    77 / 100 | Total loss:  182.69 | Recon loss:  158.27 | Gauss loss:   12.21\n",
      "Epoch    78 / 100 | Total loss:  177.63 | Recon loss:  153.69 | Gauss loss:   11.97\n",
      "Epoch    79 / 100 | Total loss:  180.39 | Recon loss:  155.98 | Gauss loss:   12.21\n",
      "Epoch    80 / 100 | Total loss:  177.99 | Recon loss:   153.7 | Gauss loss:   12.15\n",
      "Epoch    81 / 100 | Total loss:  177.31 | Recon loss:  153.04 | Gauss loss:   12.14\n",
      "Epoch    82 / 100 | Total loss:  177.06 | Recon loss:  152.59 | Gauss loss:   12.24\n",
      "Epoch    83 / 100 | Total loss:   173.8 | Recon loss:  149.55 | Gauss loss:   12.12\n",
      "Epoch    84 / 100 | Total loss:  177.92 | Recon loss:  153.47 | Gauss loss:   12.22\n",
      "Epoch    85 / 100 | Total loss:  176.27 | Recon loss:  151.75 | Gauss loss:   12.26\n",
      "Epoch    86 / 100 | Total loss:  181.57 | Recon loss:   156.5 | Gauss loss:   12.53\n",
      "Epoch    87 / 100 | Total loss:  173.61 | Recon loss:  149.03 | Gauss loss:   12.29\n",
      "Epoch    88 / 100 | Total loss:  174.59 | Recon loss:  149.97 | Gauss loss:   12.31\n",
      "Epoch    89 / 100 | Total loss:   170.1 | Recon loss:  145.58 | Gauss loss:   12.26\n",
      "Epoch    90 / 100 | Total loss:   171.0 | Recon loss:  146.41 | Gauss loss:   12.29\n",
      "Epoch    91 / 100 | Total loss:  172.18 | Recon loss:   147.5 | Gauss loss:   12.34\n",
      "Epoch    92 / 100 | Total loss:  170.65 | Recon loss:  145.78 | Gauss loss:   12.43\n",
      "Epoch    93 / 100 | Total loss:  169.73 | Recon loss:  144.58 | Gauss loss:   12.58\n",
      "Epoch    94 / 100 | Total loss:  173.89 | Recon loss:  148.62 | Gauss loss:   12.64\n",
      "Epoch    95 / 100 | Total loss:  167.57 | Recon loss:  142.66 | Gauss loss:   12.46\n",
      "Epoch    96 / 100 | Total loss:  166.74 | Recon loss:  141.84 | Gauss loss:   12.45\n",
      "Epoch    97 / 100 | Total loss:  167.94 | Recon loss:  142.88 | Gauss loss:   12.53\n",
      "Epoch    98 / 100 | Total loss:  166.69 | Recon loss:  141.61 | Gauss loss:   12.54\n"
     ]
    },
    {
     "name": "stdout",
     "output_type": "stream",
     "text": [
      "Epoch    99 / 100 | Total loss:  168.81 | Recon loss:  143.66 | Gauss loss:   12.58\n",
      "Epoch   100 / 100 | Total loss:  166.27 | Recon loss:  141.32 | Gauss loss:   12.48\n"
     ]
    }
   ],
   "source": [
    "history_loss = vae.train(train_dl, valid_dl)"
   ]
  },
  {
   "cell_type": "code",
   "execution_count": 32,
   "metadata": {},
   "outputs": [],
   "source": [
    "# torch.save(vae.network.state_dict(), f'smba_vae_kld_loss_v2_3games.pth')"
   ]
  },
  {
   "cell_type": "code",
   "execution_count": 11,
   "metadata": {},
   "outputs": [
    {
     "data": {
      "text/plain": [
       "<All keys matched successfully>"
      ]
     },
     "execution_count": 11,
     "metadata": {},
     "output_type": "execute_result"
    }
   ],
   "source": [
    "vae.network.load_state_dict(torch.load(f'smba_vae_kld_loss_v2_3games.pth', map_location=torch.device('cpu')))"
   ]
  },
  {
   "cell_type": "markdown",
   "metadata": {
    "colab_type": "text",
    "id": "1bHWNxV-gAl2"
   },
   "source": [
    "## Image Reconstruction"
   ]
  },
  {
   "cell_type": "code",
   "execution_count": 20,
   "metadata": {
    "colab": {
     "base_uri": "https://localhost:8080/",
     "height": 160
    },
    "colab_type": "code",
    "id": "wd5jQFFHgCbD",
    "outputId": "8e1d4654-fb01-49dc-b512-e8e4bb259e0f"
   },
   "outputs": [
    {
     "ename": "ValueError",
     "evalue": "not enough values to unpack (expected 2, got 1)",
     "output_type": "error",
     "traceback": [
      "\u001b[0;31m---------------------------------------------------------------------------\u001b[0m",
      "\u001b[0;31mValueError\u001b[0m                                Traceback (most recent call last)",
      "\u001b[0;32m<ipython-input-20-ce7630d052d4>\u001b[0m in \u001b[0;36m<module>\u001b[0;34m\u001b[0m\n\u001b[0;32m----> 1\u001b[0;31m \u001b[0moriginal\u001b[0m\u001b[0;34m,\u001b[0m \u001b[0mreconstructed\u001b[0m \u001b[0;34m=\u001b[0m \u001b[0mvae\u001b[0m\u001b[0;34m.\u001b[0m\u001b[0mreconstruct_data\u001b[0m\u001b[0;34m(\u001b[0m\u001b[0mtrain_dl\u001b[0m\u001b[0;34m,\u001b[0m \u001b[0mlen\u001b[0m\u001b[0;34m(\u001b[0m\u001b[0mtrain_ds\u001b[0m\u001b[0;34m)\u001b[0m\u001b[0;34m)\u001b[0m\u001b[0;34m\u001b[0m\u001b[0;34m\u001b[0m\u001b[0m\n\u001b[0m",
      "\u001b[0;32m~/projects/gmvae_and_gmmvae/pytorch/model/VAE_kld_loss_v2.py\u001b[0m in \u001b[0;36mreconstruct_data\u001b[0;34m(self, data_loader, sample_size)\u001b[0m\n\u001b[1;32m    281\u001b[0m     \u001b[0;31m# obtain values\u001b[0m\u001b[0;34m\u001b[0m\u001b[0;34m\u001b[0m\u001b[0;34m\u001b[0m\u001b[0m\n\u001b[1;32m    282\u001b[0m     \u001b[0mit\u001b[0m \u001b[0;34m=\u001b[0m \u001b[0miter\u001b[0m\u001b[0;34m(\u001b[0m\u001b[0mtest_random_loader\u001b[0m\u001b[0;34m)\u001b[0m\u001b[0;34m\u001b[0m\u001b[0;34m\u001b[0m\u001b[0m\n\u001b[0;32m--> 283\u001b[0;31m     \u001b[0mtest_batch_data\u001b[0m\u001b[0;34m,\u001b[0m \u001b[0m_\u001b[0m \u001b[0;34m=\u001b[0m \u001b[0mit\u001b[0m\u001b[0;34m.\u001b[0m\u001b[0mnext\u001b[0m\u001b[0;34m(\u001b[0m\u001b[0;34m)\u001b[0m\u001b[0;34m\u001b[0m\u001b[0;34m\u001b[0m\u001b[0m\n\u001b[0m\u001b[1;32m    284\u001b[0m     \u001b[0moriginal\u001b[0m \u001b[0;34m=\u001b[0m \u001b[0mtest_batch_data\u001b[0m\u001b[0;34m.\u001b[0m\u001b[0mdata\u001b[0m\u001b[0;34m.\u001b[0m\u001b[0mnumpy\u001b[0m\u001b[0;34m(\u001b[0m\u001b[0;34m)\u001b[0m\u001b[0;34m\u001b[0m\u001b[0;34m\u001b[0m\u001b[0m\n\u001b[1;32m    285\u001b[0m     \u001b[0;32mif\u001b[0m \u001b[0mself\u001b[0m\u001b[0;34m.\u001b[0m\u001b[0mcuda\u001b[0m\u001b[0;34m:\u001b[0m\u001b[0;34m\u001b[0m\u001b[0;34m\u001b[0m\u001b[0m\n",
      "\u001b[0;31mValueError\u001b[0m: not enough values to unpack (expected 2, got 1)"
     ]
    }
   ],
   "source": [
    "original, reconstructed = vae.reconstruct_data(train_dl, len(train_ds))  "
   ]
  },
  {
   "cell_type": "code",
   "execution_count": null,
   "metadata": {},
   "outputs": [],
   "source": [
    "original_int = original.reshape(len(train_ds), 16, 16, 12).argmax(axis=-1)\n",
    "reconstructed_int = reconstructed.reshape(len(train_ds), 16, 16, 12).argmax(axis=-1)"
   ]
  },
  {
   "cell_type": "code",
   "execution_count": null,
   "metadata": {},
   "outputs": [],
   "source": [
    "np.sum(original_int != reconstructed_int) / len(train_ds)"
   ]
  },
  {
   "cell_type": "code",
   "execution_count": null,
   "metadata": {},
   "outputs": [],
   "source": [
    "def get_classes(chunks_int):\n",
    "    classes = []\n",
    "    for i in chunks_int:\n",
    "        if i.max() == 6:\n",
    "            classes.append('kia')\n",
    "        else:\n",
    "            classes.append('smba')\n",
    "    return np.array(classes)"
   ]
  },
  {
   "cell_type": "code",
   "execution_count": null,
   "metadata": {},
   "outputs": [],
   "source": [
    "org_classes = get_classes(original_int)\n",
    "rec_classes = get_classes(reconstructed_int)\n",
    "assert np.sum(org_classes == rec_classes) == len(org_classes)"
   ]
  },
  {
   "cell_type": "code",
   "execution_count": null,
   "metadata": {},
   "outputs": [],
   "source": [
    "def get_images(chunks_int):\n",
    "    images = []\n",
    "    for game, chunk in zip(get_classes(chunks_int), chunks_int):\n",
    "        images.append(vglc_with_path_encodings.array_to_image([chunk], game=game)[0])\n",
    "    return images"
   ]
  },
  {
   "cell_type": "code",
   "execution_count": null,
   "metadata": {},
   "outputs": [],
   "source": [
    "org_images = get_images(original_int)\n",
    "rec_images = get_images(reconstructed_int)\n",
    "len(org_images), len(rec_images)"
   ]
  },
  {
   "cell_type": "code",
   "execution_count": null,
   "metadata": {},
   "outputs": [],
   "source": [
    "fig, axes = plt.subplots(nrows=3, ncols=10, figsize=(24, 8))\n",
    "axes = axes.flatten()\n",
    "nrows, ncols = 3, 10\n",
    "\n",
    "org_idxs = np.arange(0, 29, 2)\n",
    "rec_idxs = org_idxs + 1\n",
    "\n",
    "for idx in org_idxs:\n",
    "        \n",
    "    ax = axes[idx]\n",
    "\n",
    "    ax.imshow(np.asarray(org_images[idx // 2]))\n",
    "    ax.set_title(f'Org {idx // 2 + 1}')\n",
    "    \n",
    "    ax.axis('off')\n",
    "\n",
    "for idx in rec_idxs:\n",
    "        \n",
    "    ax = axes[idx]\n",
    "\n",
    "    ax.imshow(np.asarray(rec_images[idx // 2]))\n",
    "    ax.set_title(f'Rec {idx // 2 + 1}')\n",
    "\n",
    "    ax.axis('off')\n",
    "    \n",
    "plt.show()"
   ]
  },
  {
   "cell_type": "markdown",
   "metadata": {
    "colab_type": "text",
    "id": "CAyoGFFRgMgC"
   },
   "source": [
    "## Random Generation per Category"
   ]
  },
  {
   "cell_type": "code",
   "execution_count": null,
   "metadata": {
    "colab": {
     "base_uri": "https://localhost:8080/",
     "height": 595
    },
    "colab_type": "code",
    "id": "xE84c3U2gLjA",
    "outputId": "cd52f356-e53a-4844-9db2-3723d15ddb00"
   },
   "outputs": [],
   "source": [
    "def display_random_generation(generated, num_classes, n=10):\n",
    "    plt.figure(figsize=[24,5])\n",
    "    for c in range(num_classes):\n",
    "        for i in range(n):\n",
    "            plt.subplot(num_classes, n, (c * n) + i + 1)\n",
    "            chunk_int = generated[(c * n) + i].reshape(16, 16, 12).argmax(axis=-1)\n",
    "            chunk_pix = vglc_with_path_encodings.array_to_image([chunk_int], game='smba')[0]\n",
    "            plt.imshow(chunk_pix)\n",
    "            plt.gray()\n",
    "            plt.axis('off')\n",
    "    plt.show()\n",
    "\n",
    "elem_per_category = 15\n",
    "generated = gmvae.random_generation(elem_per_category)\n",
    "display_random_generation(generated, args.num_classes, elem_per_category)"
   ]
  },
  {
   "cell_type": "code",
   "execution_count": null,
   "metadata": {},
   "outputs": [],
   "source": [
    "generated = vae.random_generation(10000)\n",
    "generated.shape"
   ]
  },
  {
   "cell_type": "code",
   "execution_count": null,
   "metadata": {},
   "outputs": [],
   "source": [
    "generated_int = generated.reshape(-1, 16, 16, 12).argmax(axis=-1)"
   ]
  },
  {
   "cell_type": "code",
   "execution_count": null,
   "metadata": {},
   "outputs": [],
   "source": [
    "generated_int.shape"
   ]
  },
  {
   "cell_type": "code",
   "execution_count": null,
   "metadata": {},
   "outputs": [],
   "source": [
    "# since this code chunk depends on random seed, it shouldn't be run again\n",
    "with open(f'../smba_generations/smba_vae_kld_loss_v2_{num_epochs}.json', 'w+') as json_f:\n",
    "    json.dump(generated_int.tolist(), json_f)"
   ]
  },
  {
   "cell_type": "markdown",
   "metadata": {
    "colab_type": "text",
    "id": "-SbXR7FkhIcq"
   },
   "source": [
    "## Visualization of latent space"
   ]
  },
  {
   "cell_type": "code",
   "execution_count": 281,
   "metadata": {},
   "outputs": [],
   "source": [
    "from sklearn.decomposition import PCA"
   ]
  },
  {
   "cell_type": "code",
   "execution_count": 282,
   "metadata": {},
   "outputs": [],
   "source": [
    "pca_variance_kept = 0.90"
   ]
  },
  {
   "cell_type": "code",
   "execution_count": 283,
   "metadata": {
    "colab": {},
    "colab_type": "code",
    "id": "bTkEBA9JhQ2C"
   },
   "outputs": [
    {
     "name": "stdout",
     "output_type": "stream",
     "text": [
      "(1000, 34)\n"
     ]
    }
   ],
   "source": [
    "features = vae.latent_features(DataLoader(train_ds, batch_size=128, shuffle=False))\n",
    "\n",
    "np.random.seed(42)\n",
    "random_idxs = np.random.choice(np.arange(len(features)), size=1000, replace=False)\n",
    "\n",
    "features_for_pca = features[random_idxs].copy()\n",
    "features_for_pca -= features_for_pca.mean(axis=0)\n",
    "features_for_pca /= features_for_pca.std(axis=0)\n",
    "\n",
    "pca_features = PCA(pca_variance_kept).fit_transform(features_for_pca)\n",
    "print(pca_features.shape)"
   ]
  },
  {
   "cell_type": "code",
   "execution_count": 284,
   "metadata": {},
   "outputs": [],
   "source": [
    "def get_kmeans_labels(X, num_clusters):\n",
    "    from sklearn.cluster import KMeans\n",
    "    distances_to_centroids = KMeans(n_clusters=num_clusters, n_init=20).fit_transform(X)\n",
    "    predicted_labels = distances_to_centroids.argmin(axis=1)\n",
    "    return distances_to_centroids, predicted_labels"
   ]
  },
  {
   "cell_type": "code",
   "execution_count": 285,
   "metadata": {},
   "outputs": [
    {
     "data": {
      "application/vnd.jupyter.widget-view+json": {
       "model_id": "",
       "version_major": 2,
       "version_minor": 0
      },
      "text/plain": [
       "HBox(children=(IntProgress(value=0, max=20), HTML(value='')))"
      ]
     },
     "metadata": {},
     "output_type": "display_data"
    },
    {
     "name": "stdout",
     "output_type": "stream",
     "text": [
      "\r"
     ]
    }
   ],
   "source": [
    "from tqdm import tqdm_notebook\n",
    "num_clusters_range = np.arange(1, 21)\n",
    "costs = []\n",
    "for num_clusters in tqdm_notebook(num_clusters_range, leave=False):\n",
    "    distances_to_centroids, predicted_labels = get_kmeans_labels(pca_features, num_clusters)\n",
    "    distances_to_closest_centroids = distances_to_centroids[np.arange(len(pca_features)), predicted_labels]\n",
    "    costs.append(np.sum(distances_to_closest_centroids))"
   ]
  },
  {
   "cell_type": "code",
   "execution_count": 288,
   "metadata": {},
   "outputs": [
    {
     "data": {
      "image/png": "[encoded data removed]",
      "text/plain": [
       "<Figure size 432x288 with 1 Axes>"
      ]
     },
     "metadata": {
      "needs_background": "light"
     },
     "output_type": "display_data"
    }
   ],
   "source": [
    "plt.plot(num_clusters_range, costs)\n",
    "plt.xticks(num_clusters_range)\n",
    "plt.xlabel('Number of clusters'); plt.ylabel('Loss')\n",
    "plt.grid()\n",
    "plt.savefig(f'K-means elbow plot for 3-game latent vectors (PCA {int(pca_variance_kept * 100)}%).png', dpi=100)"
   ]
  },
  {
   "cell_type": "code",
   "execution_count": 270,
   "metadata": {},
   "outputs": [],
   "source": [
    "# kmeans_elbow_plot(pca_features)"
   ]
  },
  {
   "cell_type": "code",
   "execution_count": 289,
   "metadata": {
    "colab": {},
    "colab_type": "code",
    "id": "LNmsz5rahZAY"
   },
   "outputs": [],
   "source": [
    "from sklearn.manifold import TSNE\n",
    "\n",
    "np.random.seed(42)\n",
    "tsne_features = TSNE(n_components=2).fit_transform(features[random_idxs])"
   ]
  },
  {
   "cell_type": "code",
   "execution_count": 290,
   "metadata": {},
   "outputs": [],
   "source": [
    "kmeans_labels = get_kmeans_labels(pca_features, num_clusters=3)[1]"
   ]
  },
  {
   "cell_type": "code",
   "execution_count": 291,
   "metadata": {},
   "outputs": [],
   "source": [
    "labels_sub = labels[random_idxs]"
   ]
  },
  {
   "cell_type": "code",
   "execution_count": 292,
   "metadata": {},
   "outputs": [],
   "source": [
    "X, Y = np.s_[:,0], np.s_[:,1]"
   ]
  },
  {
   "cell_type": "code",
   "execution_count": 312,
   "metadata": {},
   "outputs": [
    {
     "data": {
      "image/png": "[encoded data removed]",
      "text/plain": [
       "<Figure size 432x432 with 1 Axes>"
      ]
     },
     "metadata": {
      "needs_background": "light"
     },
     "output_type": "display_data"
    }
   ],
   "source": [
    "fig = plt.figure(figsize=(6, 6))\n",
    "\n",
    "games = ['Mario', 'Icarus', 'MegaMan']\n",
    "\n",
    "for i in range(3):\n",
    "    plt.scatter(\n",
    "        tsne_features[labels_sub == i][X], \n",
    "        tsne_features[labels_sub == i][Y],\n",
    "        label=games[i],\n",
    "        s=20, alpha=0.7\n",
    "    )\n",
    "\n",
    "plt.axis('off')\n",
    "plt.legend(loc='lower right')\n",
    "plt.savefig('3-game latent vectors (VAE) color-coded by game label (PCA 90%).png', dpi=100)\n",
    "plt.show()"
   ]
  },
  {
   "cell_type": "code",
   "execution_count": 296,
   "metadata": {},
   "outputs": [],
   "source": [
    "from metrics.Metrics import *\n",
    "metrics = Metrics()\n",
    "acc = metrics.cluster_acc(labels_sub, kmeans_labels)"
   ]
  },
  {
   "cell_type": "code",
   "execution_count": 301,
   "metadata": {
    "colab": {
     "base_uri": "https://localhost:8080/",
     "height": 395
    },
    "colab_type": "code",
    "id": "wyTtDdwyha-L",
    "outputId": "350e806a-6dd3-47f2-bd91-444aaf61b3dd"
   },
   "outputs": [
    {
     "data": {
      "image/png": "[encoded data removed]",
      "text/plain": [
       "<Figure size 432x432 with 1 Axes>"
      ]
     },
     "metadata": {
      "needs_background": "light"
     },
     "output_type": "display_data"
    }
   ],
   "source": [
    "fig = plt.figure(figsize=(6, 6))\n",
    "\n",
    "for i in range(3):\n",
    "    plt.scatter(\n",
    "        tsne_features[kmeans_labels == i][X], \n",
    "        tsne_features[kmeans_labels == i][Y],\n",
    "        label=f'Cluster {i+1}',\n",
    "        s=20, alpha=0.7,\n",
    "    )\n",
    "\n",
    "plt.axis('off')\n",
    "plt.legend(loc='lower right')\n",
    "plt.savefig(f'3-game latent vectors (VAE) color-coded by K-means cluster index (PCA {pca_variance_kept * 100}%) (clustering accuracy: {acc}).png', dpi=100)\n",
    "plt.show()"
   ]
  },
  {
   "cell_type": "code",
   "execution_count": 299,
   "metadata": {},
   "outputs": [],
   "source": [
    "from sklearn.mixture import GaussianMixture"
   ]
  },
  {
   "cell_type": "code",
   "execution_count": 303,
   "metadata": {},
   "outputs": [],
   "source": [
    "gmm_labels = GaussianMixture(n_components=3, covariance_type='full', n_init=20).fit_predict(pca_features)"
   ]
  },
  {
   "cell_type": "code",
   "execution_count": 304,
   "metadata": {},
   "outputs": [],
   "source": [
    "acc = metrics.cluster_acc(labels_sub, gmm_labels)"
   ]
  },
  {
   "cell_type": "code",
   "execution_count": 308,
   "metadata": {},
   "outputs": [
    {
     "data": {
      "image/png": "[encoded data removed]",
      "text/plain": [
       "<Figure size 432x432 with 1 Axes>"
      ]
     },
     "metadata": {
      "needs_background": "light"
     },
     "output_type": "display_data"
    }
   ],
   "source": [
    "fig = plt.figure(figsize=(6, 6))\n",
    "\n",
    "for i in range(3):\n",
    "    plt.scatter(\n",
    "        tsne_features[gmm_labels == i][X], \n",
    "        tsne_features[gmm_labels == i][Y],\n",
    "        label=f'Component {i+1}',\n",
    "        s=20, alpha=0.7\n",
    "    )\n",
    "\n",
    "plt.axis('off')\n",
    "plt.legend(loc='lower right')\n",
    "plt.savefig(f'3-game latent vectors (VAE) color-coded by GMM component index (PCA {pca_variance_kept * 100}) clustering accuracy: {acc * 100}%.png', dpi=100)"
   ]
  },
  {
   "cell_type": "code",
   "execution_count": 309,
   "metadata": {},
   "outputs": [
    {
     "data": {
      "application/vnd.jupyter.widget-view+json": {
       "model_id": "c32964a434dc4f74b3a36346a83a1b2e",
       "version_major": 2,
       "version_minor": 0
      },
      "text/plain": [
       "HBox(children=(IntProgress(value=0, max=20), HTML(value='')))"
      ]
     },
     "metadata": {},
     "output_type": "display_data"
    },
    {
     "name": "stdout",
     "output_type": "stream",
     "text": [
      "\n"
     ]
    }
   ],
   "source": [
    "bics = []\n",
    "for i in tqdm_notebook(np.arange(1, 21)):\n",
    "    gmm = GaussianMixture(n_components=i, covariance_type='full', n_init=20).fit(pca_features)\n",
    "    bics.append(gmm.bic(pca_features))"
   ]
  },
  {
   "cell_type": "code",
   "execution_count": 311,
   "metadata": {},
   "outputs": [
    {
     "data": {
      "image/png": "[encoded data removed]",
      "text/plain": [
       "<Figure size 432x288 with 1 Axes>"
      ]
     },
     "metadata": {
      "needs_background": "light"
     },
     "output_type": "display_data"
    }
   ],
   "source": [
    "plt.plot(np.arange(1, 21), bics)\n",
    "plt.xticks(np.arange(1, 21))\n",
    "plt.xlabel('Number of components'); plt.ylabel('BIC score')\n",
    "plt.grid()\n",
    "plt.tight_layout()\n",
    "plt.savefig(f'BIC plot for 3-game latent vectors (PCA {int(pca_variance_kept * 100)}%).png', dpi=100)"
   ]
  },
  {
   "cell_type": "code",
   "execution_count": null,
   "metadata": {},
   "outputs": [],
   "source": []
  },
  {
   "cell_type": "markdown",
   "metadata": {},
   "source": [
    "## Latent space evolution"
   ]
  },
  {
   "cell_type": "code",
   "execution_count": 72,
   "metadata": {
    "code_folding": []
   },
   "outputs": [],
   "source": [
    "char2int_smb = { \n",
    "    \"X\": 0,  # smb unpassable\n",
    "    \"S\": 1,  # smb breakable\n",
    "    \"-\": 2,  # smb background\n",
    "    \"?\": 3,  # smb question\n",
    "    \"Q\": 4,  # smb question\n",
    "    \"E\": 5,\n",
    "    \"<\": 6,\n",
    "    \">\": 7,\n",
    "    \"[\": 8,\n",
    "    \"]\": 9,\n",
    "    \"o\": 10,\n",
    "    \"P\": 11,  # for smb path (from Anurag's email)\n",
    "}\n",
    "int2char_smba = {v:k for k, v in char2int_smb.items()}"
   ]
  },
  {
   "cell_type": "code",
   "execution_count": 24,
   "metadata": {
    "code_folding": []
   },
   "outputs": [],
   "source": [
    "def chunk_int_to_chunk_char(chunk_int):\n",
    "    chunk_char = []\n",
    "    for row in chunk_int:\n",
    "        row_char = []\n",
    "        for entry in row:\n",
    "            row_char.append(int2char_smba[int(entry)])\n",
    "        row_char = ''.join(row_char)\n",
    "        chunk_char.append(row_char)\n",
    "    return chunk_char"
   ]
  },
  {
   "cell_type": "code",
   "execution_count": 25,
   "metadata": {
    "code_folding": []
   },
   "outputs": [],
   "source": [
    "def get_starting_tile(chunk:np.array)->tuple:\n",
    "    \n",
    "    \"\"\"\n",
    "    Return the starting point of mario given a chunk.\n",
    "    :param chunk: an 16-by-16 numpy array of integers\n",
    "    :return a tuple describing a possible starting point of mario in the chunk (col_idx, row_idx)\n",
    "    \"\"\"\n",
    "    \n",
    "    for col_idx in range(chunk.shape[1]):  # loop over the columns of the chunk\n",
    "        col = chunk[:, col_idx]\n",
    "        \n",
    "        # if 5 columns have been searched and no appropriate starting points have\n",
    "        # been found, consider the chunk as unplayable\n",
    "        # (need more thoughts on how to deal with such cases)\n",
    "        if col_idx == 5: return None\n",
    "        \n",
    "        for row_idx, entry in enumerate(col):  # loop over the entries of the column, from top to bottom\n",
    "            if entry in [0, 1, 3, 4, 6, 7, 8, 9]:  # tiles on which mario can stand (see above for meaning)\n",
    "                # the pathfinding code works with starting points of the format (col_idx, row_idx)\n",
    "                return col_idx, row_idx - 1  # set mario's starting point to be above that tile"
   ]
  },
  {
   "cell_type": "code",
   "execution_count": 221,
   "metadata": {},
   "outputs": [],
   "source": [
    "with open(f'{pathfinder_dir}/SMB.json') as data_file:    \n",
    "    platformerDescription = json.load(data_file)"
   ]
  },
  {
   "cell_type": "code",
   "execution_count": 222,
   "metadata": {
    "code_folding": []
   },
   "outputs": [],
   "source": [
    "def get_path_from_chunk(chunk:list, chunk_int:np.array, debug=False)->np.array:\n",
    "    \n",
    "    # chunk must be in the format of a list of strings\n",
    "    # chunk is used for pathfinding\n",
    "    \n",
    "    try:\n",
    "        # the following line will fail if no path exist\n",
    "        starting_tile = get_starting_tile(chunk_int)\n",
    "        if debug: print(starting_tile)\n",
    "        \n",
    "        paths = astar.findPaths(\n",
    "            10, \n",
    "            platformerDescription['solid'], \n",
    "            platformerDescription['jumps'], \n",
    "            chunk, \n",
    "            src=starting_tile\n",
    "        )[0]\n",
    "        if debug: print(paths)\n",
    "    \n",
    "    except:\n",
    "        # if no path exist, None will be returned\n",
    "        return None\n",
    "\n",
    "    output = np.zeros((16, 16))\n",
    "    for p in paths:\n",
    "        output[p[1], p[0]] = 1\n",
    "    \n",
    "    return output"
   ]
  },
  {
   "cell_type": "code",
   "execution_count": 223,
   "metadata": {},
   "outputs": [],
   "source": [
    "def get_chunk_int_from_latent_vec(vec):\n",
    "    latent_vec = torch.Tensor(vec).reshape(1, 64)\n",
    "    chunk_int = vae.network.generative(latent_vec)['x_rec'].squeeze().detach().numpy().reshape(16, 16, 12).argmax(-1)\n",
    "    return chunk_int"
   ]
  },
  {
   "cell_type": "code",
   "execution_count": 254,
   "metadata": {
    "code_folding": []
   },
   "outputs": [],
   "source": [
    "def get_path_scoring_func(ideal_path:np.array):\n",
    "    def path_scoring_func(vec):\n",
    "        \n",
    "        latent_vec = torch.Tensor(vec).reshape(1, 64)\n",
    "        chunk_int = vae.network.generative(latent_vec)['x_rec'].squeeze().detach().numpy().reshape(16, 16, 12).argmax(-1)\n",
    "        chunk_int[chunk_int == 11] = 2\n",
    "        chunk_char = chunk_int_to_chunk_char(chunk_int)\n",
    "\n",
    "        try:\n",
    "            generated_path = get_path_from_chunk(chunk_char, chunk_int)\n",
    "            score = np.mean(np.abs((generated_path.argmax(axis=0) - ideal_path.argmax(axis=0))))\n",
    "            return score\n",
    "        except:\n",
    "            return 1000000\n",
    "    \n",
    "    return path_scoring_func"
   ]
  },
  {
   "cell_type": "code",
   "execution_count": 255,
   "metadata": {
    "code_folding": []
   },
   "outputs": [
    {
     "data": {
      "image/png": "[encoded data removed]",
      "text/plain": [
       "<Figure size 288x288 with 1 Axes>"
      ]
     },
     "metadata": {
      "needs_background": "light"
     },
     "output_type": "display_data"
    }
   ],
   "source": [
    "ideal_path = np.array([\n",
    "    [0, 0, 0, 0, 0, 0, 0, 0, 0, 0, 0, 0, 0, 0, 0, 0],\n",
    "    [0, 0, 0, 0, 0, 0, 0, 0, 0, 0, 0, 0, 0, 0, 0, 0],\n",
    "    [0, 0, 0, 0, 0, 0, 0, 0, 0, 0, 0, 0, 0, 0, 0, 0],\n",
    "    [0, 0, 0, 0, 0, 0, 0, 0, 0, 0, 0, 0, 0, 0, 0, 0],\n",
    "    \n",
    "    [0, 0, 0, 0, 0, 0, 0, 0, 0, 0, 0, 0, 0, 0, 0, 0],\n",
    "    [0, 0, 0, 0, 0, 0, 0, 0, 0, 0, 0, 0, 0, 0, 0, 0],\n",
    "    [0, 0, 0, 0, 0, 0, 0, 0, 0, 0, 0, 0, 0, 0, 0, 0],\n",
    "    [0, 0, 0, 0, 0, 0, 0, 0, 0, 0, 0, 0, 0, 0, 0, 0],\n",
    "    \n",
    "    [1, 0, 0, 0, 0, 0, 0, 0, 0, 0, 0, 0, 0, 0, 0, 0],\n",
    "    [0, 1, 0, 0, 0, 0, 0, 0, 0, 0, 0, 0, 0, 0, 0, 1],\n",
    "    [0, 0, 1, 0, 0, 0, 0, 0, 0, 0, 0, 0, 0, 0, 1, 0],\n",
    "    [0, 0, 0, 1, 0, 0, 0, 1, 0, 0, 0, 0, 0, 1, 0, 0],\n",
    "    [0, 0, 0, 0, 1, 0, 1, 0, 1, 0, 0, 0, 1, 0, 0, 0],\n",
    "    [0, 0, 0, 0, 0, 1, 0, 0, 0, 1, 0, 1, 0, 0, 0, 0],\n",
    "    [0, 0, 0, 0, 0, 0, 0, 0, 0, 0, 1, 0, 0, 0, 0, 0],\n",
    "    [0, 0, 0, 0, 0, 0, 0, 0, 0, 0, 0, 0, 0, 0, 0, 0],\n",
    "])\n",
    "plt.matshow(ideal_path); plt.axis('off')\n",
    "plt.show()"
   ]
  },
  {
   "cell_type": "code",
   "execution_count": 256,
   "metadata": {},
   "outputs": [],
   "source": [
    "path_scoring_func = get_path_scoring_func(ideal_path)"
   ]
  },
  {
   "cell_type": "code",
   "execution_count": 257,
   "metadata": {},
   "outputs": [
    {
     "name": "stdout",
     "output_type": "stream",
     "text": [
      "(8_w,16)-aCMA-ES (mu_w=4.8,w_1=32%) in dimension 64 (seed=795636, Mon May  4 20:58:07 2020)\n",
      "Iterat #Fevals   function value  axis ratio  sigma  min&max std  t[m:s]\n",
      "    1     16 1.312500000000000e+00 1.0e+00 9.48e+00  9e+00  9e+00 0:00.2\n",
      "    2     32 1.437500000000000e+00 1.0e+00 9.12e+00  9e+00  9e+00 0:00.4\n",
      "    3     48 1.125000000000000e+00 1.0e+00 8.84e+00  9e+00  9e+00 0:00.6\n",
      "   18    288 9.375000000000000e-01 1.1e+00 7.60e+00  8e+00  8e+00 0:03.8\n",
      "   36    576 8.125000000000000e-01 1.3e+00 6.91e+00  7e+00  7e+00 0:07.9\n",
      "   58    928 7.500000000000000e-01 1.3e+00 6.80e+00  6e+00  7e+00 0:12.9\n",
      "   85   1360 6.875000000000000e-01 1.5e+00 6.37e+00  6e+00  7e+00 0:19.1\n",
      "  100   1600 6.250000000000000e-01 1.5e+00 6.42e+00  6e+00  7e+00 0:22.6\n",
      "  135   2160 6.250000000000000e-01 1.7e+00 7.13e+00  6e+00  8e+00 0:30.8\n",
      "  174   2784 6.875000000000000e-01 1.8e+00 6.61e+00  6e+00  7e+00 0:39.9\n",
      "  200   3200 6.250000000000000e-01 1.8e+00 5.92e+00  5e+00  7e+00 0:45.6\n",
      "  252   4032 6.250000000000000e-01 2.1e+00 4.37e+00  3e+00  5e+00 0:56.7\n",
      "  300   4800 6.250000000000000e-01 2.1e+00 4.07e+00  3e+00  4e+00 1:07.2\n",
      "  304   4864 6.250000000000000e-01 2.1e+00 4.10e+00  3e+00  4e+00 1:08.1\n"
     ]
    }
   ],
   "source": [
    "res = CMAEvolutionStrategy(list(np.random.normal(size=64)), 10).optimize(path_scoring_func).result"
   ]
  },
  {
   "cell_type": "code",
   "execution_count": 259,
   "metadata": {},
   "outputs": [
    {
     "data": {
      "image/png": "[encoded data removed]",
      "text/plain": [
       "<PIL.Image.Image image mode=RGB size=256x256 at 0x7F807C46E210>"
      ]
     },
     "execution_count": 259,
     "metadata": {},
     "output_type": "execute_result"
    }
   ],
   "source": [
    "vglc_with_path_encodings.array_to_image([get_chunk_int_from_latent_vec(res[0])], game='smba')[0]"
   ]
  },
  {
   "cell_type": "code",
   "execution_count": 260,
   "metadata": {},
   "outputs": [
    {
     "data": {
      "text/plain": [
       "array([[0., 0., 0., 0., 0., 0., 0., 0., 0., 0., 0., 0., 0., 0., 0., 0.],\n",
       "       [0., 0., 0., 0., 0., 0., 0., 0., 0., 0., 0., 0., 0., 0., 0., 0.],\n",
       "       [0., 0., 0., 0., 0., 0., 0., 0., 0., 0., 0., 0., 0., 0., 0., 0.],\n",
       "       [0., 0., 0., 0., 0., 0., 0., 0., 0., 0., 0., 0., 0., 0., 0., 0.],\n",
       "       [0., 0., 0., 0., 0., 0., 0., 0., 0., 0., 0., 0., 0., 0., 0., 0.],\n",
       "       [0., 0., 0., 0., 0., 0., 0., 0., 0., 0., 0., 0., 0., 0., 0., 0.],\n",
       "       [0., 0., 0., 0., 0., 0., 0., 0., 0., 0., 0., 0., 0., 0., 0., 0.],\n",
       "       [0., 0., 0., 0., 0., 0., 0., 0., 0., 0., 0., 0., 0., 0., 0., 0.],\n",
       "       [0., 0., 0., 0., 0., 0., 0., 0., 0., 0., 0., 0., 0., 0., 0., 0.],\n",
       "       [0., 1., 0., 0., 0., 0., 0., 0., 0., 0., 0., 0., 0., 0., 0., 1.],\n",
       "       [1., 0., 1., 0., 0., 0., 0., 0., 0., 0., 0., 0., 0., 0., 1., 0.],\n",
       "       [0., 0., 0., 1., 0., 0., 0., 0., 0., 0., 0., 0., 0., 1., 0., 0.],\n",
       "       [0., 0., 0., 0., 1., 0., 0., 0., 0., 0., 0., 1., 1., 0., 0., 0.],\n",
       "       [0., 0., 0., 0., 0., 1., 1., 1., 0., 0., 0., 1., 0., 0., 0., 0.],\n",
       "       [0., 0., 0., 0., 0., 0., 0., 0., 1., 1., 1., 0., 0., 0., 0., 0.],\n",
       "       [0., 0., 0., 0., 0., 0., 0., 0., 0., 0., 0., 0., 0., 0., 0., 0.]])"
      ]
     },
     "execution_count": 260,
     "metadata": {},
     "output_type": "execute_result"
    }
   ],
   "source": [
    "new_chunk = get_chunk_int_from_latent_vec(res[0])\n",
    "new_chunk[new_chunk == 11] = 2\n",
    "get_path_from_chunk(chunk_int_to_chunk_char(new_chunk), new_chunk)"
   ]
  },
  {
   "cell_type": "code",
   "execution_count": 226,
   "metadata": {},
   "outputs": [
    {
     "data": {
      "text/plain": [
       "['----------------',\n",
       " '----------------',\n",
       " '----------------',\n",
       " '----------------',\n",
       " 'SSSSSSSSSSSSSSSS',\n",
       " '---------------S',\n",
       " '-------------SSS',\n",
       " '----------------',\n",
       " '----------------',\n",
       " '----------------',\n",
       " '----------------',\n",
       " '-------------X-S',\n",
       " '-----------XX---',\n",
       " '---------XXXXX--',\n",
       " '--------XXXX----',\n",
       " 'XXXX-XXX-XX---XX']"
      ]
     },
     "execution_count": 226,
     "metadata": {},
     "output_type": "execute_result"
    }
   ],
   "source": [
    "chunk_int_to_chunk_char(new_chunk)"
   ]
  },
  {
   "cell_type": "code",
   "execution_count": 227,
   "metadata": {},
   "outputs": [
    {
     "data": {
      "text/plain": [
       "(0, 3)"
      ]
     },
     "execution_count": 227,
     "metadata": {},
     "output_type": "execute_result"
    }
   ],
   "source": [
    "get_starting_tile(new_chunk)"
   ]
  },
  {
   "cell_type": "code",
   "execution_count": null,
   "metadata": {},
   "outputs": [],
   "source": []
  },
  {
   "cell_type": "code",
   "execution_count": null,
   "metadata": {},
   "outputs": [],
   "source": []
  }
 ],
 "metadata": {
  "accelerator": "GPU",
  "colab": {
   "collapsed_sections": [],
   "include_colab_link": true,
   "name": "GMVAE_Pytorch.ipynb",
   "provenance": []
  },
  "kernelspec": {
   "display_name": "Python 3",
   "language": "python",
   "name": "python3"
  },
  "language_info": {
   "codemirror_mode": {
    "name": "ipython",
    "version": 3
   },
   "file_extension": ".py",
   "mimetype": "text/x-python",
   "name": "python",
   "nbconvert_exporter": "python",
   "pygments_lexer": "ipython3",
   "version": "3.7.6"
  },
  "toc": {
   "base_numbering": 1,
   "nav_menu": {},
   "number_sections": false,
   "sideBar": true,
   "skip_h1_title": false,
   "title_cell": "Table of Contents",
   "title_sidebar": "Contents",
   "toc_cell": false,
   "toc_position": {},
   "toc_section_display": true,
   "toc_window_display": false
  },
  "varInspector": {
   "cols": {
    "lenName": 16,
    "lenType": 16,
    "lenVar": 40
   },
   "kernels_config": {
    "python": {
     "delete_cmd_postfix": "",
     "delete_cmd_prefix": "del ",
     "library": "var_list.py",
     "varRefreshCmd": "print(var_dic_list())"
    },
    "r": {
     "delete_cmd_postfix": ") ",
     "delete_cmd_prefix": "rm(",
     "library": "var_list.r",
     "varRefreshCmd": "cat(var_dic_list()) "
    }
   },
   "types_to_exclude": [
    "module",
    "function",
    "builtin_function_or_method",
    "instance",
    "_Feature"
   ],
   "window_display": false
  }
 },
 "nbformat": 4,
 "nbformat_minor": 1
}
