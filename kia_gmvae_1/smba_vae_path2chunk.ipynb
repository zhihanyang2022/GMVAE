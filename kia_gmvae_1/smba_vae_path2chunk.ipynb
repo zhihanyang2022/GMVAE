{
 "cells": [
  {
   "cell_type": "markdown",
   "metadata": {},
   "source": [
    "# VAE for SMBA\n",
    "\n",
    "This VAE is adapted from the GM-VAE implementation."
   ]
  },
  {
   "cell_type": "code",
   "execution_count": 177,
   "metadata": {},
   "outputs": [],
   "source": [
    "%reload_ext autoreload\n",
    "%autoreload 2"
   ]
  },
  {
   "cell_type": "code",
   "execution_count": 178,
   "metadata": {},
   "outputs": [],
   "source": [
    "num_epochs=10000"
   ]
  },
  {
   "cell_type": "markdown",
   "metadata": {
    "colab_type": "text",
    "id": "rGzTb0oswH5J"
   },
   "source": [
    "## Import Libraries"
   ]
  },
  {
   "cell_type": "code",
   "execution_count": 179,
   "metadata": {
    "colab": {},
    "colab_type": "code",
    "id": "ThVeaB3CwI4j"
   },
   "outputs": [],
   "source": [
    "import json\n",
    "\n",
    "import numpy as np\n",
    "import argparse\n",
    "import random\n",
    "from torchvision import datasets, transforms\n",
    "from torch.utils.data.sampler import SubsetRandomSampler\n",
    "import torch.utils.data\n",
    "from scipy.io import loadmat\n",
    "import matplotlib.pyplot as plt\n",
    "import seaborn as sns\n",
    "%matplotlib inline\n",
    "\n",
    "from PIL import Image\n",
    "\n",
    "import warnings\n",
    "warnings.filterwarnings('ignore')\n",
    "\n",
    "import sys\n",
    "\n",
    "sys.path.append('../pytorch')\n",
    "from model.VAE_path2chunk import *\n",
    "\n",
    "sys.path.append('../../1906-pcgml/pcgml-gmmVae-exp/modules/')\n",
    "import vglc_with_path_encodings"
   ]
  },
  {
   "cell_type": "markdown",
   "metadata": {},
   "source": [
    "## Load data"
   ]
  },
  {
   "cell_type": "code",
   "execution_count": 180,
   "metadata": {},
   "outputs": [],
   "source": [
    "def open_json_as_nparray(json_fname):\n",
    "    with open(json_fname, 'r') as json_f:\n",
    "        return np.array(json.load(json_f))"
   ]
  },
  {
   "cell_type": "markdown",
   "metadata": {},
   "source": [
    "Load paths."
   ]
  },
  {
   "cell_type": "code",
   "execution_count": 181,
   "metadata": {},
   "outputs": [
    {
     "data": {
      "text/plain": [
       "(2698, 16, 16, 1)"
      ]
     },
     "execution_count": 181,
     "metadata": {},
     "output_type": "execute_result"
    }
   ],
   "source": [
    "mario_paths = open_json_as_nparray('../../1906-pcgml/pcgml-gmmVae-exp/data/mario_paths.json')\n",
    "mario_paths = np.expand_dims(mario_paths, axis=-1)\n",
    "mario_paths.shape"
   ]
  },
  {
   "cell_type": "code",
   "execution_count": 182,
   "metadata": {},
   "outputs": [
    {
     "data": {
      "text/plain": [
       "(1142, 16, 16, 1)"
      ]
     },
     "execution_count": 182,
     "metadata": {},
     "output_type": "execute_result"
    }
   ],
   "source": [
    "icarus_paths = open_json_as_nparray('../../1906-pcgml/pcgml-gmmVae-exp/data/icarus_paths.json')\n",
    "icarus_paths = np.expand_dims(icarus_paths, axis=-1)\n",
    "icarus_paths.shape"
   ]
  },
  {
   "cell_type": "code",
   "execution_count": 183,
   "metadata": {},
   "outputs": [
    {
     "data": {
      "text/plain": [
       "(3840, 16, 16, 1)"
      ]
     },
     "execution_count": 183,
     "metadata": {},
     "output_type": "execute_result"
    }
   ],
   "source": [
    "all_paths = np.concatenate([mario_paths, icarus_paths])\n",
    "all_paths.shape"
   ]
  },
  {
   "cell_type": "markdown",
   "metadata": {},
   "source": [
    "Load chunks."
   ]
  },
  {
   "cell_type": "code",
   "execution_count": 184,
   "metadata": {},
   "outputs": [],
   "source": [
    "smb_int = open_json_as_nparray('smbWithPath-allLevels-chunks-int.json')"
   ]
  },
  {
   "cell_type": "code",
   "execution_count": 185,
   "metadata": {},
   "outputs": [
    {
     "data": {
      "text/plain": [
       "(2698, 16, 16, 18)"
      ]
     },
     "execution_count": 185,
     "metadata": {},
     "output_type": "execute_result"
    }
   ],
   "source": [
    "smb_onehot = np.eye(18)[smb_int]\n",
    "smb_onehot.shape"
   ]
  },
  {
   "cell_type": "code",
   "execution_count": 186,
   "metadata": {},
   "outputs": [],
   "source": [
    "icarus_int = open_json_as_nparray('kiWithPath-allLevels-chunks-int.json')\n",
    "icarus_int = icarus_int + 12\n",
    "icarus_int[icarus_int == 18] = 11"
   ]
  },
  {
   "cell_type": "code",
   "execution_count": 187,
   "metadata": {},
   "outputs": [
    {
     "data": {
      "text/plain": [
       "(1142, 16, 16, 18)"
      ]
     },
     "execution_count": 187,
     "metadata": {},
     "output_type": "execute_result"
    }
   ],
   "source": [
    "icarus_onehot = np.eye(18)[icarus_int]\n",
    "icarus_onehot.shape"
   ]
  },
  {
   "cell_type": "code",
   "execution_count": 188,
   "metadata": {},
   "outputs": [
    {
     "data": {
      "text/plain": [
       "(3840, 16, 16, 18)"
      ]
     },
     "execution_count": 188,
     "metadata": {},
     "output_type": "execute_result"
    }
   ],
   "source": [
    "all_chunks = np.concatenate([smb_onehot, icarus_onehot])\n",
    "all_chunks.shape"
   ]
  },
  {
   "cell_type": "code",
   "execution_count": null,
   "metadata": {},
   "outputs": [],
   "source": []
  },
  {
   "cell_type": "markdown",
   "metadata": {
    "colab_type": "text",
    "id": "3QNKItMHwQU2"
   },
   "source": [
    "## Input Parameters"
   ]
  },
  {
   "cell_type": "code",
   "execution_count": 189,
   "metadata": {
    "colab": {},
    "colab_type": "code",
    "id": "8tBHkTQ4wVIG"
   },
   "outputs": [],
   "source": [
    "########################################################\n",
    "## Input Parameters\n",
    "#########################################################\n",
    "parser = argparse.ArgumentParser(description='PyTorch Implementation of DGM Clustering')\n",
    "\n",
    "## Used only in notebooks\n",
    "parser.add_argument('-f', '--file',\n",
    "                    help='Path for input file. First line should contain number of lines to search in')\n",
    "\n",
    "## Dataset\n",
    "parser.add_argument('--dataset', type=str, choices=['mnist'],\n",
    "                    default='mnist', help='dataset (default: mnist)')\n",
    "parser.add_argument('--seed', type=int, default=1, help='random seed (default: 1)')\n",
    "\n",
    "## GPU\n",
    "parser.add_argument('--cuda', type=int, default=1,\n",
    "                    help='use of cuda (default: 1)')\n",
    "parser.add_argument('--gpuID', type=int, default=0,\n",
    "                    help='set gpu id to use (default: 0)')\n",
    "\n",
    "## Training\n",
    "parser.add_argument('--epochs', type=int, default=num_epochs,\n",
    "                    help='number of total epochs to run (default: 200)')\n",
    "parser.add_argument('--batch_size', default=64, type=int,\n",
    "                    help='mini-batch size (default: 64)')\n",
    "parser.add_argument('--batch_size_val', default=200, type=int,\n",
    "                    help='mini-batch size of validation (default: 200)')\n",
    "parser.add_argument('--learning_rate', default=1e-3, type=float,\n",
    "                    help='learning rate (default: 0.001)')\n",
    "parser.add_argument('--decay_epoch', default=-1, type=int, \n",
    "                    help='Reduces the learning rate every decay_epoch')\n",
    "parser.add_argument('--lr_decay', default=0.5, type=float,\n",
    "                    help='Learning rate decay for training (default: 0.5)')\n",
    "\n",
    "## Architecture\n",
    "parser.add_argument('--gaussian_size', default=64, type=int,\n",
    "                    help='gaussian size (default: 64)')\n",
    "parser.add_argument('--input_size', default=16*16, type=int,\n",
    "                    help='input size (default: 784)')  # edited for this task\n",
    "parser.add_argument('--output_size', default=16*16*18, type=int,\n",
    "                    help='input size (default: 784)')  # edited for this task\n",
    "\n",
    "## Partition parameters\n",
    "parser.add_argument('--train_proportion', default=0.9, type=float,\n",
    "                    help='proportion of examples to consider for training only (default: 1.0)')\n",
    "\n",
    "## Loss function parameters\n",
    "parser.add_argument('--w_gauss', default=2, type=float,\n",
    "                    help='weight of gaussian loss (default: 1)')\n",
    "parser.add_argument('--w_categ', default=1, type=float,\n",
    "                    help='weight of categorical loss (default: 1)')\n",
    "parser.add_argument('--w_rec', default=1, type=float,\n",
    "                    help='weight of reconstruction loss (default: 1)')\n",
    "parser.add_argument('--rec_type', type=str, choices=['bce', 'mse'],\n",
    "                    default='bce', help='desired reconstruction loss function (default: bce)')\n",
    "\n",
    "## Others\n",
    "parser.add_argument('--verbose', default=0, type=int,\n",
    "                    help='print extra information at every epoch.(default: 0)')\n",
    "\n",
    "args = parser.parse_args()"
   ]
  },
  {
   "cell_type": "markdown",
   "metadata": {
    "colab_type": "text",
    "id": "Bti6lPHawc9z"
   },
   "source": [
    "Set random seed in case it was specified in the parameters\n"
   ]
  },
  {
   "cell_type": "code",
   "execution_count": 190,
   "metadata": {
    "colab": {},
    "colab_type": "code",
    "id": "IpWPxTy1wgbJ"
   },
   "outputs": [],
   "source": [
    "## Random Seed\n",
    "SEED = args.seed\n",
    "np.random.seed(SEED)\n",
    "random.seed(SEED)\n",
    "torch.manual_seed(SEED)\n",
    "if args.cuda:\n",
    "    torch.cuda.manual_seed(SEED)"
   ]
  },
  {
   "cell_type": "markdown",
   "metadata": {
    "colab_type": "text",
    "id": "fmrkmhttwkiD"
   },
   "source": [
    "## Data Partition"
   ]
  },
  {
   "cell_type": "markdown",
   "metadata": {
    "colab_type": "text",
    "id": "fUuTFMBhb2vZ"
   },
   "source": [
    "We split the training data into train and validation according to the *train_proportion* parameter:"
   ]
  },
  {
   "cell_type": "code",
   "execution_count": 191,
   "metadata": {},
   "outputs": [],
   "source": [
    "from torch.utils.data import TensorDataset, DataLoader"
   ]
  },
  {
   "cell_type": "code",
   "execution_count": 192,
   "metadata": {},
   "outputs": [],
   "source": [
    "assert args.train_proportion != 1"
   ]
  },
  {
   "cell_type": "code",
   "execution_count": 193,
   "metadata": {
    "colab": {},
    "colab_type": "code",
    "id": "P8F6pjC7cNX7"
   },
   "outputs": [],
   "source": [
    "def partition_dataset(n, proportion=1):\n",
    "   train_num = int(n * proportion)\n",
    "   indices = np.random.permutation(n)\n",
    "   train_indices, val_indices = indices[:train_num], indices[train_num:]\n",
    "   return train_indices, val_indices\n",
    "\n",
    "train_indices, val_indices = partition_dataset(len(all_chunks), args.train_proportion)\n",
    "train_ds = TensorDataset(torch.from_numpy(all_paths).float(), torch.from_numpy(all_chunks).float())\n",
    "train_dl = DataLoader(train_ds, batch_size=args.batch_size, sampler=SubsetRandomSampler(train_indices))\n",
    "valid_dl = DataLoader(train_ds, batch_size=args.batch_size_val, sampler=SubsetRandomSampler(val_indices))"
   ]
  },
  {
   "cell_type": "markdown",
   "metadata": {
    "colab_type": "text",
    "id": "Pt7sEfZWw_U7"
   },
   "source": [
    "## Train Model"
   ]
  },
  {
   "cell_type": "code",
   "execution_count": 194,
   "metadata": {
    "colab": {},
    "colab_type": "code",
    "id": "qTncRSCuxFEL"
   },
   "outputs": [],
   "source": [
    "# Model Initialization\n",
    "vae = VAE(args)"
   ]
  },
  {
   "cell_type": "code",
   "execution_count": 195,
   "metadata": {},
   "outputs": [
    {
     "name": "stdout",
     "output_type": "stream",
     "text": [
      "Epoch     1 / 10000 | Total loss:  766.28 | Recon loss:  758.03 | Gauss loss:    4.13\n",
      "Epoch     2 / 10000 | Total loss:  414.83 | Recon loss:  403.97 | Gauss loss:    5.43\n",
      "Epoch     3 / 10000 | Total loss:   315.4 | Recon loss:  304.63 | Gauss loss:    5.39\n",
      "Epoch     4 / 10000 | Total loss:  308.27 | Recon loss:  297.76 | Gauss loss:    5.26\n",
      "Epoch     5 / 10000 | Total loss:  304.48 | Recon loss:  294.11 | Gauss loss:    5.18\n",
      "Epoch     6 / 10000 | Total loss:  300.65 | Recon loss:  289.49 | Gauss loss:    5.58\n",
      "Epoch     7 / 10000 | Total loss:   298.0 | Recon loss:  287.39 | Gauss loss:     5.3\n",
      "Epoch     8 / 10000 | Total loss:  292.85 | Recon loss:  283.27 | Gauss loss:    4.79\n",
      "Epoch     9 / 10000 | Total loss:  288.56 | Recon loss:  280.26 | Gauss loss:    4.15\n",
      "Epoch    10 / 10000 | Total loss:   285.7 | Recon loss:  278.46 | Gauss loss:    3.62\n",
      "Epoch    11 / 10000 | Total loss:  284.86 | Recon loss:  277.11 | Gauss loss:    3.88\n",
      "Epoch    12 / 10000 | Total loss:  283.24 | Recon loss:  275.81 | Gauss loss:    3.72\n",
      "Epoch    13 / 10000 | Total loss:  281.32 | Recon loss:  273.98 | Gauss loss:    3.67\n",
      "Epoch    14 / 10000 | Total loss:  280.81 | Recon loss:  273.27 | Gauss loss:    3.77\n",
      "Epoch    15 / 10000 | Total loss:  277.98 | Recon loss:  270.71 | Gauss loss:    3.64\n",
      "Epoch    16 / 10000 | Total loss:  278.16 | Recon loss:  270.23 | Gauss loss:    3.97\n",
      "Epoch    17 / 10000 | Total loss:  275.92 | Recon loss:  267.87 | Gauss loss:    4.02\n",
      "Epoch    18 / 10000 | Total loss:  274.49 | Recon loss:   266.0 | Gauss loss:    4.25\n",
      "Epoch    19 / 10000 | Total loss:  271.16 | Recon loss:  262.15 | Gauss loss:    4.51\n",
      "Epoch    20 / 10000 | Total loss:  268.13 | Recon loss:  259.24 | Gauss loss:    4.45\n",
      "Epoch    21 / 10000 | Total loss:  266.49 | Recon loss:  256.96 | Gauss loss:    4.77\n",
      "Epoch    22 / 10000 | Total loss:  265.55 | Recon loss:  256.19 | Gauss loss:    4.68\n",
      "Epoch    23 / 10000 | Total loss:  263.57 | Recon loss:  253.65 | Gauss loss:    4.96\n",
      "Epoch    24 / 10000 | Total loss:  260.69 | Recon loss:  251.36 | Gauss loss:    4.66\n",
      "Epoch    25 / 10000 | Total loss:  258.81 | Recon loss:  249.19 | Gauss loss:    4.81\n",
      "Epoch    26 / 10000 | Total loss:  258.12 | Recon loss:  248.29 | Gauss loss:    4.91\n",
      "Epoch    27 / 10000 | Total loss:  257.29 | Recon loss:  247.18 | Gauss loss:    5.06\n",
      "Epoch    28 / 10000 | Total loss:  255.26 | Recon loss:  244.91 | Gauss loss:    5.18\n",
      "Epoch    29 / 10000 | Total loss:  253.23 | Recon loss:  242.84 | Gauss loss:     5.2\n",
      "Epoch    30 / 10000 | Total loss:  253.41 | Recon loss:  242.68 | Gauss loss:    5.36\n",
      "Epoch    31 / 10000 | Total loss:  251.76 | Recon loss:  240.97 | Gauss loss:    5.39\n",
      "Epoch    32 / 10000 | Total loss:  250.36 | Recon loss:  239.37 | Gauss loss:    5.49\n",
      "Epoch    33 / 10000 | Total loss:  247.51 | Recon loss:  236.39 | Gauss loss:    5.56\n",
      "Epoch    34 / 10000 | Total loss:  247.59 | Recon loss:  235.73 | Gauss loss:    5.93\n",
      "Epoch    35 / 10000 | Total loss:  246.74 | Recon loss:  234.36 | Gauss loss:    6.19\n",
      "Epoch    36 / 10000 | Total loss:  246.15 | Recon loss:  233.55 | Gauss loss:     6.3\n",
      "Epoch    37 / 10000 | Total loss:  244.78 | Recon loss:  231.98 | Gauss loss:     6.4\n",
      "Epoch    38 / 10000 | Total loss:  243.27 | Recon loss:  230.31 | Gauss loss:    6.48\n",
      "Epoch    39 / 10000 | Total loss:  239.99 | Recon loss:  227.21 | Gauss loss:    6.39\n",
      "Epoch    40 / 10000 | Total loss:  238.08 | Recon loss:  225.18 | Gauss loss:    6.45\n",
      "Epoch    41 / 10000 | Total loss:  238.17 | Recon loss:  225.03 | Gauss loss:    6.57\n",
      "Epoch    42 / 10000 | Total loss:  238.42 | Recon loss:  224.75 | Gauss loss:    6.84\n",
      "Epoch    43 / 10000 | Total loss:  234.89 | Recon loss:  221.29 | Gauss loss:     6.8\n",
      "Epoch    44 / 10000 | Total loss:  232.79 | Recon loss:  219.19 | Gauss loss:     6.8\n",
      "Epoch    45 / 10000 | Total loss:  232.38 | Recon loss:  218.58 | Gauss loss:     6.9\n",
      "Epoch    46 / 10000 | Total loss:  232.63 | Recon loss:  218.32 | Gauss loss:    7.15\n",
      "Epoch    47 / 10000 | Total loss:  228.93 | Recon loss:  215.15 | Gauss loss:    6.89\n",
      "Epoch    48 / 10000 | Total loss:  229.79 | Recon loss:  215.83 | Gauss loss:    6.98\n",
      "Epoch    49 / 10000 | Total loss:  230.17 | Recon loss:  216.21 | Gauss loss:    6.98\n",
      "Epoch    50 / 10000 | Total loss:  228.46 | Recon loss:  214.18 | Gauss loss:    7.14\n",
      "Epoch    51 / 10000 | Total loss:   227.6 | Recon loss:  213.16 | Gauss loss:    7.22\n",
      "Epoch    52 / 10000 | Total loss:  225.21 | Recon loss:  210.89 | Gauss loss:    7.16\n",
      "Epoch    53 / 10000 | Total loss:  223.06 | Recon loss:  208.85 | Gauss loss:    7.11\n",
      "Epoch    54 / 10000 | Total loss:  222.48 | Recon loss:  208.08 | Gauss loss:     7.2\n",
      "Epoch    55 / 10000 | Total loss:   223.1 | Recon loss:  207.92 | Gauss loss:    7.59\n",
      "Epoch    56 / 10000 | Total loss:  222.72 | Recon loss:  207.68 | Gauss loss:    7.52\n",
      "Epoch    57 / 10000 | Total loss:  221.05 | Recon loss:  205.98 | Gauss loss:    7.54\n",
      "Epoch    58 / 10000 | Total loss:   219.1 | Recon loss:  204.18 | Gauss loss:    7.46\n",
      "Epoch    59 / 10000 | Total loss:  221.71 | Recon loss:  205.99 | Gauss loss:    7.86\n",
      "Epoch    60 / 10000 | Total loss:  219.27 | Recon loss:  203.75 | Gauss loss:    7.76\n",
      "Epoch    61 / 10000 | Total loss:  219.46 | Recon loss:  204.18 | Gauss loss:    7.64\n",
      "Epoch    62 / 10000 | Total loss:  220.04 | Recon loss:  204.23 | Gauss loss:    7.91\n",
      "Epoch    63 / 10000 | Total loss:  217.44 | Recon loss:  201.96 | Gauss loss:    7.74\n",
      "Epoch    64 / 10000 | Total loss:  213.78 | Recon loss:  198.25 | Gauss loss:    7.77\n",
      "Epoch    65 / 10000 | Total loss:  214.44 | Recon loss:  198.53 | Gauss loss:    7.95\n",
      "Epoch    66 / 10000 | Total loss:  217.87 | Recon loss:  201.43 | Gauss loss:    8.22\n",
      "Epoch    67 / 10000 | Total loss:  214.75 | Recon loss:  198.52 | Gauss loss:    8.12\n",
      "Epoch    68 / 10000 | Total loss:  213.91 | Recon loss:  197.47 | Gauss loss:    8.22\n",
      "Epoch    69 / 10000 | Total loss:  214.01 | Recon loss:  197.32 | Gauss loss:    8.34\n",
      "Epoch    70 / 10000 | Total loss:  210.42 | Recon loss:  193.94 | Gauss loss:    8.24\n",
      "Epoch    71 / 10000 | Total loss:  208.52 | Recon loss:  192.16 | Gauss loss:    8.18\n",
      "Epoch    72 / 10000 | Total loss:  207.37 | Recon loss:  191.05 | Gauss loss:    8.16\n",
      "Epoch    73 / 10000 | Total loss:   206.1 | Recon loss:   189.9 | Gauss loss:     8.1\n",
      "Epoch    74 / 10000 | Total loss:  204.33 | Recon loss:  188.26 | Gauss loss:    8.04\n",
      "Epoch    75 / 10000 | Total loss:  209.92 | Recon loss:  192.94 | Gauss loss:    8.49\n",
      "Epoch    76 / 10000 | Total loss:  206.22 | Recon loss:  189.36 | Gauss loss:    8.43\n",
      "Epoch    77 / 10000 | Total loss:  204.98 | Recon loss:   187.9 | Gauss loss:    8.54\n",
      "Epoch    78 / 10000 | Total loss:  203.55 | Recon loss:  186.68 | Gauss loss:    8.44\n",
      "Epoch    79 / 10000 | Total loss:  201.41 | Recon loss:   184.7 | Gauss loss:    8.35\n",
      "Epoch    80 / 10000 | Total loss:  201.08 | Recon loss:   184.1 | Gauss loss:    8.49\n",
      "Epoch    81 / 10000 | Total loss:  199.97 | Recon loss:  182.83 | Gauss loss:    8.57\n",
      "Epoch    82 / 10000 | Total loss:  198.82 | Recon loss:  181.85 | Gauss loss:    8.49\n",
      "Epoch    83 / 10000 | Total loss:  197.61 | Recon loss:  180.42 | Gauss loss:    8.59\n",
      "Epoch    84 / 10000 | Total loss:  196.78 | Recon loss:  179.52 | Gauss loss:    8.63\n",
      "Epoch    85 / 10000 | Total loss:  196.57 | Recon loss:  179.34 | Gauss loss:    8.62\n",
      "Epoch    86 / 10000 | Total loss:   195.3 | Recon loss:  178.23 | Gauss loss:    8.53\n",
      "Epoch    87 / 10000 | Total loss:  194.51 | Recon loss:  177.25 | Gauss loss:    8.63\n",
      "Epoch    88 / 10000 | Total loss:  193.62 | Recon loss:  176.42 | Gauss loss:     8.6\n",
      "Epoch    89 / 10000 | Total loss:  192.93 | Recon loss:  175.66 | Gauss loss:    8.63\n",
      "Epoch    90 / 10000 | Total loss:  201.94 | Recon loss:  184.18 | Gauss loss:    8.88\n",
      "Epoch    91 / 10000 | Total loss:  203.17 | Recon loss:  184.69 | Gauss loss:    9.24\n",
      "Epoch    92 / 10000 | Total loss:  195.87 | Recon loss:  177.62 | Gauss loss:    9.12\n",
      "Epoch    93 / 10000 | Total loss:  192.59 | Recon loss:   174.5 | Gauss loss:    9.05\n",
      "Epoch    94 / 10000 | Total loss:  191.61 | Recon loss:  173.63 | Gauss loss:    8.99\n",
      "Epoch    95 / 10000 | Total loss:  189.56 | Recon loss:  171.54 | Gauss loss:    9.01\n",
      "Epoch    96 / 10000 | Total loss:  188.75 | Recon loss:  170.86 | Gauss loss:    8.94\n"
     ]
    },
    {
     "name": "stdout",
     "output_type": "stream",
     "text": [
      "Epoch    97 / 10000 | Total loss:  188.61 | Recon loss:  170.54 | Gauss loss:    9.04\n",
      "Epoch    98 / 10000 | Total loss:  187.76 | Recon loss:  169.88 | Gauss loss:    8.94\n",
      "Epoch    99 / 10000 | Total loss:  186.65 | Recon loss:  168.53 | Gauss loss:    9.06\n",
      "Epoch   100 / 10000 | Total loss:   186.2 | Recon loss:   168.1 | Gauss loss:    9.05\n",
      "Epoch   101 / 10000 | Total loss:   185.5 | Recon loss:  167.31 | Gauss loss:    9.09\n",
      "Epoch   102 / 10000 | Total loss:  185.37 | Recon loss:  167.14 | Gauss loss:    9.12\n",
      "Epoch   103 / 10000 | Total loss:  185.41 | Recon loss:   167.0 | Gauss loss:    9.21\n",
      "Epoch   104 / 10000 | Total loss:  184.17 | Recon loss:  165.85 | Gauss loss:    9.16\n",
      "Epoch   105 / 10000 | Total loss:  182.34 | Recon loss:  164.18 | Gauss loss:    9.08\n",
      "Epoch   106 / 10000 | Total loss:  181.75 | Recon loss:   163.3 | Gauss loss:    9.23\n",
      "Epoch   107 / 10000 | Total loss:  182.23 | Recon loss:   163.7 | Gauss loss:    9.26\n",
      "Epoch   108 / 10000 | Total loss:  182.15 | Recon loss:  163.57 | Gauss loss:    9.29\n",
      "Epoch   109 / 10000 | Total loss:   180.9 | Recon loss:  162.38 | Gauss loss:    9.26\n",
      "Epoch   110 / 10000 | Total loss:  179.52 | Recon loss:   160.9 | Gauss loss:    9.31\n",
      "Epoch   111 / 10000 | Total loss:  179.22 | Recon loss:  160.63 | Gauss loss:     9.3\n",
      "Epoch   112 / 10000 | Total loss:  178.02 | Recon loss:  159.46 | Gauss loss:    9.28\n",
      "Epoch   113 / 10000 | Total loss:   181.6 | Recon loss:  162.55 | Gauss loss:    9.53\n",
      "Epoch   114 / 10000 | Total loss:  180.59 | Recon loss:  161.42 | Gauss loss:    9.58\n",
      "Epoch   115 / 10000 | Total loss:  178.48 | Recon loss:  159.61 | Gauss loss:    9.44\n",
      "Epoch   116 / 10000 | Total loss:  177.67 | Recon loss:  158.65 | Gauss loss:    9.51\n",
      "Epoch   117 / 10000 | Total loss:  177.19 | Recon loss:  158.13 | Gauss loss:    9.53\n",
      "Epoch   118 / 10000 | Total loss:  175.77 | Recon loss:  156.81 | Gauss loss:    9.48\n",
      "Epoch   119 / 10000 | Total loss:  175.43 | Recon loss:  156.28 | Gauss loss:    9.58\n",
      "Epoch   120 / 10000 | Total loss:  173.82 | Recon loss:  154.83 | Gauss loss:    9.49\n",
      "Epoch   121 / 10000 | Total loss:  177.29 | Recon loss:  157.86 | Gauss loss:    9.72\n",
      "Epoch   122 / 10000 | Total loss:  173.65 | Recon loss:  154.51 | Gauss loss:    9.57\n",
      "Epoch   123 / 10000 | Total loss:  172.32 | Recon loss:  153.16 | Gauss loss:    9.58\n",
      "Epoch   124 / 10000 | Total loss:  172.42 | Recon loss:  153.14 | Gauss loss:    9.64\n",
      "Epoch   125 / 10000 | Total loss:  173.48 | Recon loss:  154.05 | Gauss loss:    9.72\n",
      "Epoch   126 / 10000 | Total loss:  174.65 | Recon loss:  155.03 | Gauss loss:    9.81\n",
      "Epoch   127 / 10000 | Total loss:  175.94 | Recon loss:   156.1 | Gauss loss:    9.92\n",
      "Epoch   128 / 10000 | Total loss:   173.5 | Recon loss:  153.91 | Gauss loss:    9.79\n",
      "Epoch   129 / 10000 | Total loss:  170.92 | Recon loss:  151.17 | Gauss loss:    9.87\n",
      "Epoch   130 / 10000 | Total loss:  169.11 | Recon loss:  149.59 | Gauss loss:    9.76\n",
      "Epoch   131 / 10000 | Total loss:  168.39 | Recon loss:  148.54 | Gauss loss:    9.92\n",
      "Epoch   132 / 10000 | Total loss:  168.42 | Recon loss:   148.6 | Gauss loss:    9.91\n",
      "Epoch   133 / 10000 | Total loss:   167.3 | Recon loss:  147.79 | Gauss loss:    9.76\n",
      "Epoch   134 / 10000 | Total loss:   167.0 | Recon loss:  147.21 | Gauss loss:     9.9\n",
      "Epoch   135 / 10000 | Total loss:  171.62 | Recon loss:  151.48 | Gauss loss:   10.07\n",
      "Epoch   136 / 10000 | Total loss:   167.4 | Recon loss:  147.58 | Gauss loss:    9.91\n",
      "Epoch   137 / 10000 | Total loss:   165.4 | Recon loss:  145.67 | Gauss loss:    9.87\n",
      "Epoch   138 / 10000 | Total loss:  165.62 | Recon loss:  145.79 | Gauss loss:    9.91\n",
      "Epoch   139 / 10000 | Total loss:  165.41 | Recon loss:  145.56 | Gauss loss:    9.92\n",
      "Epoch   140 / 10000 | Total loss:  164.54 | Recon loss:  144.72 | Gauss loss:    9.91\n",
      "Epoch   141 / 10000 | Total loss:  163.51 | Recon loss:  143.53 | Gauss loss:    9.99\n",
      "Epoch   142 / 10000 | Total loss:  162.97 | Recon loss:  143.03 | Gauss loss:    9.97\n",
      "Epoch   143 / 10000 | Total loss:  163.27 | Recon loss:  143.21 | Gauss loss:   10.03\n",
      "Epoch   144 / 10000 | Total loss:  162.15 | Recon loss:  142.19 | Gauss loss:    9.98\n",
      "Epoch   145 / 10000 | Total loss:  164.27 | Recon loss:  144.14 | Gauss loss:   10.06\n",
      "Epoch   146 / 10000 | Total loss:  162.74 | Recon loss:  142.54 | Gauss loss:    10.1\n",
      "Epoch   147 / 10000 | Total loss:  160.13 | Recon loss:  140.13 | Gauss loss:    10.0\n",
      "Epoch   148 / 10000 | Total loss:  159.35 | Recon loss:   139.2 | Gauss loss:   10.08\n",
      "Epoch   149 / 10000 | Total loss:  158.56 | Recon loss:  138.52 | Gauss loss:   10.02\n",
      "Epoch   150 / 10000 | Total loss:  158.74 | Recon loss:  138.34 | Gauss loss:    10.2\n",
      "Epoch   151 / 10000 | Total loss:  159.47 | Recon loss:  139.16 | Gauss loss:   10.16\n",
      "Epoch   152 / 10000 | Total loss:  169.06 | Recon loss:  148.16 | Gauss loss:   10.45\n",
      "Epoch   153 / 10000 | Total loss:  163.03 | Recon loss:  142.46 | Gauss loss:   10.28\n",
      "Epoch   154 / 10000 | Total loss:  160.86 | Recon loss:  140.25 | Gauss loss:   10.31\n",
      "Epoch   155 / 10000 | Total loss:   157.9 | Recon loss:  137.42 | Gauss loss:   10.24\n",
      "Epoch   156 / 10000 | Total loss:   156.0 | Recon loss:  135.61 | Gauss loss:   10.19\n",
      "Epoch   157 / 10000 | Total loss:  155.92 | Recon loss:  135.52 | Gauss loss:    10.2\n",
      "Epoch   158 / 10000 | Total loss:  155.27 | Recon loss:  134.75 | Gauss loss:   10.26\n",
      "Epoch   159 / 10000 | Total loss:  154.32 | Recon loss:  133.76 | Gauss loss:   10.28\n",
      "Epoch   160 / 10000 | Total loss:  153.41 | Recon loss:  132.97 | Gauss loss:   10.22\n",
      "Epoch   161 / 10000 | Total loss:  153.42 | Recon loss:  132.86 | Gauss loss:   10.28\n",
      "Epoch   162 / 10000 | Total loss:   153.0 | Recon loss:  132.45 | Gauss loss:   10.27\n",
      "Epoch   163 / 10000 | Total loss:  164.94 | Recon loss:  143.84 | Gauss loss:   10.55\n",
      "Epoch   164 / 10000 | Total loss:  164.45 | Recon loss:  143.32 | Gauss loss:   10.56\n",
      "Epoch   165 / 10000 | Total loss:  158.76 | Recon loss:  137.78 | Gauss loss:   10.49\n",
      "Epoch   166 / 10000 | Total loss:  154.21 | Recon loss:  133.64 | Gauss loss:   10.28\n",
      "Epoch   167 / 10000 | Total loss:  152.53 | Recon loss:  131.86 | Gauss loss:   10.33\n",
      "Epoch   168 / 10000 | Total loss:   151.7 | Recon loss:  130.87 | Gauss loss:   10.42\n",
      "Epoch   169 / 10000 | Total loss:  151.15 | Recon loss:  130.49 | Gauss loss:   10.33\n",
      "Epoch   170 / 10000 | Total loss:  151.64 | Recon loss:  130.74 | Gauss loss:   10.45\n",
      "Epoch   171 / 10000 | Total loss:  150.02 | Recon loss:  129.25 | Gauss loss:   10.38\n",
      "Epoch   172 / 10000 | Total loss:  168.76 | Recon loss:  147.15 | Gauss loss:   10.81\n",
      "Epoch   173 / 10000 | Total loss:  165.96 | Recon loss:  144.24 | Gauss loss:   10.86\n",
      "Epoch   174 / 10000 | Total loss:  156.46 | Recon loss:  135.03 | Gauss loss:   10.71\n",
      "Epoch   175 / 10000 | Total loss:  150.79 | Recon loss:  129.87 | Gauss loss:   10.46\n",
      "Epoch   176 / 10000 | Total loss:  149.36 | Recon loss:  128.27 | Gauss loss:   10.55\n",
      "Epoch   177 / 10000 | Total loss:  153.12 | Recon loss:  131.84 | Gauss loss:   10.64\n",
      "Epoch   178 / 10000 | Total loss:  150.49 | Recon loss:  129.09 | Gauss loss:    10.7\n",
      "Epoch   179 / 10000 | Total loss:  148.21 | Recon loss:  127.08 | Gauss loss:   10.56\n",
      "Epoch   180 / 10000 | Total loss:  146.32 | Recon loss:  125.42 | Gauss loss:   10.45\n",
      "Epoch   181 / 10000 | Total loss:  146.69 | Recon loss:  125.46 | Gauss loss:   10.61\n",
      "Epoch   182 / 10000 | Total loss:  145.52 | Recon loss:  124.38 | Gauss loss:   10.57\n",
      "Epoch   183 / 10000 | Total loss:  145.41 | Recon loss:   124.2 | Gauss loss:    10.6\n",
      "Epoch   184 / 10000 | Total loss:  144.46 | Recon loss:   123.4 | Gauss loss:   10.53\n",
      "Epoch   185 / 10000 | Total loss:  144.65 | Recon loss:  123.51 | Gauss loss:   10.57\n",
      "Epoch   186 / 10000 | Total loss:  144.13 | Recon loss:  122.92 | Gauss loss:   10.61\n",
      "Epoch   187 / 10000 | Total loss:  143.79 | Recon loss:  122.53 | Gauss loss:   10.63\n",
      "Epoch   188 / 10000 | Total loss:  143.48 | Recon loss:  122.29 | Gauss loss:   10.59\n",
      "Epoch   189 / 10000 | Total loss:  144.29 | Recon loss:  123.03 | Gauss loss:   10.63\n",
      "Epoch   190 / 10000 | Total loss:   144.5 | Recon loss:  123.19 | Gauss loss:   10.65\n",
      "Epoch   191 / 10000 | Total loss:  145.55 | Recon loss:  124.24 | Gauss loss:   10.66\n",
      "Epoch   192 / 10000 | Total loss:  146.89 | Recon loss:  125.26 | Gauss loss:   10.81\n"
     ]
    },
    {
     "name": "stdout",
     "output_type": "stream",
     "text": [
      "Epoch   193 / 10000 | Total loss:  145.27 | Recon loss:  123.64 | Gauss loss:   10.81\n",
      "Epoch   194 / 10000 | Total loss:  143.39 | Recon loss:  121.79 | Gauss loss:    10.8\n",
      "Epoch   195 / 10000 | Total loss:  143.24 | Recon loss:  121.92 | Gauss loss:   10.66\n",
      "Epoch   196 / 10000 | Total loss:  147.17 | Recon loss:  125.52 | Gauss loss:   10.83\n",
      "Epoch   197 / 10000 | Total loss:  149.53 | Recon loss:  127.84 | Gauss loss:   10.84\n",
      "Epoch   198 / 10000 | Total loss:  148.21 | Recon loss:  126.13 | Gauss loss:   11.04\n",
      "Epoch   199 / 10000 | Total loss:  144.27 | Recon loss:  122.72 | Gauss loss:   10.77\n",
      "Epoch   200 / 10000 | Total loss:  142.27 | Recon loss:  120.57 | Gauss loss:   10.85\n",
      "Epoch   201 / 10000 | Total loss:  139.24 | Recon loss:  117.76 | Gauss loss:   10.74\n",
      "Epoch   202 / 10000 | Total loss:  139.47 | Recon loss:  117.76 | Gauss loss:   10.85\n",
      "Epoch   203 / 10000 | Total loss:  139.43 | Recon loss:  118.01 | Gauss loss:   10.71\n",
      "Epoch   204 / 10000 | Total loss:  138.22 | Recon loss:  116.51 | Gauss loss:   10.86\n",
      "Epoch   205 / 10000 | Total loss:  138.21 | Recon loss:  116.53 | Gauss loss:   10.84\n",
      "Epoch   206 / 10000 | Total loss:  138.64 | Recon loss:  116.84 | Gauss loss:    10.9\n",
      "Epoch   207 / 10000 | Total loss:  137.14 | Recon loss:  115.54 | Gauss loss:    10.8\n",
      "Epoch   208 / 10000 | Total loss:  137.17 | Recon loss:  115.67 | Gauss loss:   10.75\n",
      "Epoch   209 / 10000 | Total loss:  137.79 | Recon loss:  116.05 | Gauss loss:   10.87\n",
      "Epoch   210 / 10000 | Total loss:  140.51 | Recon loss:   118.7 | Gauss loss:    10.9\n",
      "Epoch   211 / 10000 | Total loss:  148.89 | Recon loss:  126.33 | Gauss loss:   11.28\n",
      "Epoch   212 / 10000 | Total loss:  143.69 | Recon loss:  121.69 | Gauss loss:    11.0\n",
      "Epoch   213 / 10000 | Total loss:  139.86 | Recon loss:  117.87 | Gauss loss:    11.0\n",
      "Epoch   214 / 10000 | Total loss:  136.71 | Recon loss:  114.92 | Gauss loss:    10.9\n",
      "Epoch   215 / 10000 | Total loss:  136.49 | Recon loss:  114.81 | Gauss loss:   10.84\n",
      "Epoch   216 / 10000 | Total loss:  134.53 | Recon loss:  112.86 | Gauss loss:   10.83\n",
      "Epoch   217 / 10000 | Total loss:  134.21 | Recon loss:   112.5 | Gauss loss:   10.86\n",
      "Epoch   218 / 10000 | Total loss:   134.2 | Recon loss:   112.5 | Gauss loss:   10.85\n",
      "Epoch   219 / 10000 | Total loss:  134.82 | Recon loss:  112.92 | Gauss loss:   10.95\n",
      "Epoch   220 / 10000 | Total loss:  136.05 | Recon loss:  114.07 | Gauss loss:   10.99\n",
      "Epoch   221 / 10000 | Total loss:  135.06 | Recon loss:  113.08 | Gauss loss:   10.99\n",
      "Epoch   222 / 10000 | Total loss:  133.27 | Recon loss:  111.37 | Gauss loss:   10.95\n",
      "Epoch   223 / 10000 | Total loss:   133.0 | Recon loss:  111.15 | Gauss loss:   10.93\n",
      "Epoch   224 / 10000 | Total loss:  133.56 | Recon loss:  111.66 | Gauss loss:   10.95\n",
      "Epoch   225 / 10000 | Total loss:   140.2 | Recon loss:  117.89 | Gauss loss:   11.15\n",
      "Epoch   226 / 10000 | Total loss:  136.33 | Recon loss:  114.07 | Gauss loss:   11.13\n",
      "Epoch   227 / 10000 | Total loss:  135.52 | Recon loss:  113.25 | Gauss loss:   11.13\n",
      "Epoch   228 / 10000 | Total loss:  132.64 | Recon loss:  110.67 | Gauss loss:   10.98\n",
      "Epoch   229 / 10000 | Total loss:   132.2 | Recon loss:  110.17 | Gauss loss:   11.02\n",
      "Epoch   230 / 10000 | Total loss:  132.69 | Recon loss:   110.6 | Gauss loss:   11.04\n",
      "Epoch   231 / 10000 | Total loss:  132.68 | Recon loss:  110.64 | Gauss loss:   11.02\n",
      "Epoch   232 / 10000 | Total loss:  132.08 | Recon loss:  110.24 | Gauss loss:   10.92\n",
      "Epoch   233 / 10000 | Total loss:  130.81 | Recon loss:  108.95 | Gauss loss:   10.93\n",
      "Epoch   234 / 10000 | Total loss:  145.41 | Recon loss:  122.65 | Gauss loss:   11.38\n",
      "Epoch   235 / 10000 | Total loss:  151.78 | Recon loss:  128.71 | Gauss loss:   11.54\n",
      "Epoch   236 / 10000 | Total loss:  150.51 | Recon loss:  127.45 | Gauss loss:   11.53\n",
      "Epoch   237 / 10000 | Total loss:  145.16 | Recon loss:  122.49 | Gauss loss:   11.34\n",
      "Epoch   238 / 10000 | Total loss:  134.91 | Recon loss:  112.59 | Gauss loss:   11.16\n",
      "Epoch   239 / 10000 | Total loss:  131.74 | Recon loss:  109.18 | Gauss loss:   11.28\n",
      "Epoch   240 / 10000 | Total loss:  129.68 | Recon loss:  107.45 | Gauss loss:   11.12\n",
      "Epoch   241 / 10000 | Total loss:  128.42 | Recon loss:  106.05 | Gauss loss:   11.19\n",
      "Epoch   242 / 10000 | Total loss:  128.15 | Recon loss:  105.88 | Gauss loss:   11.13\n",
      "Epoch   243 / 10000 | Total loss:  128.05 | Recon loss:  105.76 | Gauss loss:   11.14\n",
      "Epoch   244 / 10000 | Total loss:  126.89 | Recon loss:   104.7 | Gauss loss:    11.1\n",
      "Epoch   245 / 10000 | Total loss:  125.46 | Recon loss:  103.32 | Gauss loss:   11.07\n",
      "Epoch   246 / 10000 | Total loss:  127.26 | Recon loss:  105.03 | Gauss loss:   11.12\n",
      "Epoch   247 / 10000 | Total loss:  126.68 | Recon loss:  104.44 | Gauss loss:   11.12\n",
      "Epoch   248 / 10000 | Total loss:  125.84 | Recon loss:  103.47 | Gauss loss:   11.18\n",
      "Epoch   249 / 10000 | Total loss:  125.74 | Recon loss:  103.44 | Gauss loss:   11.15\n",
      "Epoch   250 / 10000 | Total loss:  125.21 | Recon loss:  103.02 | Gauss loss:   11.09\n",
      "Epoch   251 / 10000 | Total loss:  126.86 | Recon loss:  104.41 | Gauss loss:   11.22\n",
      "Epoch   252 / 10000 | Total loss:  128.51 | Recon loss:  106.23 | Gauss loss:   11.14\n",
      "Epoch   253 / 10000 | Total loss:  130.89 | Recon loss:  108.42 | Gauss loss:   11.23\n",
      "Epoch   254 / 10000 | Total loss:  132.25 | Recon loss:   109.8 | Gauss loss:   11.23\n",
      "Epoch   255 / 10000 | Total loss:  131.52 | Recon loss:  109.17 | Gauss loss:   11.18\n",
      "Epoch   256 / 10000 | Total loss:  129.06 | Recon loss:  106.71 | Gauss loss:   11.18\n",
      "Epoch   257 / 10000 | Total loss:   128.6 | Recon loss:  106.19 | Gauss loss:    11.2\n",
      "Epoch   258 / 10000 | Total loss:  126.16 | Recon loss:  103.88 | Gauss loss:   11.14\n",
      "Epoch   259 / 10000 | Total loss:  124.43 | Recon loss:  101.96 | Gauss loss:   11.23\n",
      "Epoch   260 / 10000 | Total loss:  123.43 | Recon loss:  101.21 | Gauss loss:   11.11\n",
      "Epoch   261 / 10000 | Total loss:  125.77 | Recon loss:  103.28 | Gauss loss:   11.25\n",
      "Epoch   262 / 10000 | Total loss:  127.41 | Recon loss:  104.96 | Gauss loss:   11.22\n",
      "Epoch   263 / 10000 | Total loss:  125.78 | Recon loss:  103.55 | Gauss loss:   11.12\n",
      "Epoch   264 / 10000 | Total loss:  124.36 | Recon loss:  101.92 | Gauss loss:   11.22\n",
      "Epoch   265 / 10000 | Total loss:   124.0 | Recon loss:  101.56 | Gauss loss:   11.22\n",
      "Epoch   266 / 10000 | Total loss:  123.25 | Recon loss:  100.94 | Gauss loss:   11.15\n",
      "Epoch   267 / 10000 | Total loss:  123.16 | Recon loss:  100.61 | Gauss loss:   11.27\n",
      "Epoch   268 / 10000 | Total loss:  122.62 | Recon loss:  100.24 | Gauss loss:   11.19\n",
      "Epoch   269 / 10000 | Total loss:  123.83 | Recon loss:  101.36 | Gauss loss:   11.23\n",
      "Epoch   270 / 10000 | Total loss:  131.18 | Recon loss:  108.47 | Gauss loss:   11.35\n",
      "Epoch   271 / 10000 | Total loss:   130.8 | Recon loss:  108.11 | Gauss loss:   11.35\n",
      "Epoch   272 / 10000 | Total loss:  130.39 | Recon loss:   107.7 | Gauss loss:   11.34\n",
      "Epoch   273 / 10000 | Total loss:  130.64 | Recon loss:  107.89 | Gauss loss:   11.37\n",
      "Epoch   274 / 10000 | Total loss:  137.78 | Recon loss:  114.06 | Gauss loss:   11.86\n",
      "Epoch   275 / 10000 | Total loss:  132.49 | Recon loss:  109.23 | Gauss loss:   11.63\n",
      "Epoch   276 / 10000 | Total loss:  128.45 | Recon loss:  105.78 | Gauss loss:   11.34\n",
      "Epoch   277 / 10000 | Total loss:  125.15 | Recon loss:  102.38 | Gauss loss:   11.39\n",
      "Epoch   278 / 10000 | Total loss:  122.84 | Recon loss:  100.08 | Gauss loss:   11.38\n",
      "Epoch   279 / 10000 | Total loss:  122.13 | Recon loss:   99.47 | Gauss loss:   11.33\n",
      "Epoch   280 / 10000 | Total loss:  124.17 | Recon loss:  101.21 | Gauss loss:   11.48\n",
      "Epoch   281 / 10000 | Total loss:  123.31 | Recon loss:  100.29 | Gauss loss:   11.51\n",
      "Epoch   282 / 10000 | Total loss:  120.76 | Recon loss:   97.98 | Gauss loss:   11.39\n",
      "Epoch   283 / 10000 | Total loss:  119.71 | Recon loss:   97.05 | Gauss loss:   11.33\n",
      "Epoch   284 / 10000 | Total loss:   118.7 | Recon loss:   95.98 | Gauss loss:   11.36\n",
      "Epoch   285 / 10000 | Total loss:  117.64 | Recon loss:   95.05 | Gauss loss:   11.29\n",
      "Epoch   286 / 10000 | Total loss:  118.02 | Recon loss:   95.48 | Gauss loss:   11.27\n",
      "Epoch   287 / 10000 | Total loss:  118.32 | Recon loss:   95.69 | Gauss loss:   11.32\n",
      "Epoch   288 / 10000 | Total loss:  117.92 | Recon loss:   95.45 | Gauss loss:   11.24\n"
     ]
    },
    {
     "name": "stdout",
     "output_type": "stream",
     "text": [
      "Epoch   289 / 10000 | Total loss:  118.92 | Recon loss:   96.33 | Gauss loss:   11.29\n",
      "Epoch   290 / 10000 | Total loss:  120.68 | Recon loss:   97.79 | Gauss loss:   11.45\n",
      "Epoch   291 / 10000 | Total loss:  121.05 | Recon loss:   98.34 | Gauss loss:   11.36\n",
      "Epoch   292 / 10000 | Total loss:  124.99 | Recon loss:  102.12 | Gauss loss:   11.43\n",
      "Epoch   293 / 10000 | Total loss:  127.16 | Recon loss:  104.26 | Gauss loss:   11.45\n",
      "Epoch   294 / 10000 | Total loss:  124.07 | Recon loss:   101.2 | Gauss loss:   11.44\n",
      "Epoch   295 / 10000 | Total loss:  150.98 | Recon loss:  127.12 | Gauss loss:   11.93\n",
      "Epoch   296 / 10000 | Total loss:  143.25 | Recon loss:  118.92 | Gauss loss:   12.17\n",
      "Epoch   297 / 10000 | Total loss:  130.39 | Recon loss:  107.29 | Gauss loss:   11.55\n",
      "Epoch   298 / 10000 | Total loss:   123.9 | Recon loss:  100.78 | Gauss loss:   11.56\n",
      "Epoch   299 / 10000 | Total loss:  119.24 | Recon loss:   96.32 | Gauss loss:   11.46\n",
      "Epoch   300 / 10000 | Total loss:  117.32 | Recon loss:    94.5 | Gauss loss:   11.41\n",
      "Epoch   301 / 10000 | Total loss:  116.41 | Recon loss:   93.58 | Gauss loss:   11.42\n",
      "Epoch   302 / 10000 | Total loss:  116.35 | Recon loss:   93.23 | Gauss loss:   11.56\n",
      "Epoch   303 / 10000 | Total loss:  114.81 | Recon loss:   91.94 | Gauss loss:   11.44\n",
      "Epoch   304 / 10000 | Total loss:  114.73 | Recon loss:   91.95 | Gauss loss:   11.39\n",
      "Epoch   305 / 10000 | Total loss:  114.04 | Recon loss:   91.44 | Gauss loss:    11.3\n",
      "Epoch   306 / 10000 | Total loss:  114.39 | Recon loss:    91.5 | Gauss loss:   11.44\n",
      "Epoch   307 / 10000 | Total loss:  117.23 | Recon loss:   94.08 | Gauss loss:   11.57\n",
      "Epoch   308 / 10000 | Total loss:  117.41 | Recon loss:   94.38 | Gauss loss:   11.52\n",
      "Epoch   309 / 10000 | Total loss:   116.9 | Recon loss:   93.89 | Gauss loss:   11.51\n",
      "Epoch   310 / 10000 | Total loss:   116.8 | Recon loss:    93.9 | Gauss loss:   11.45\n",
      "Epoch   311 / 10000 | Total loss:  117.13 | Recon loss:   94.14 | Gauss loss:    11.5\n",
      "Epoch   312 / 10000 | Total loss:  119.24 | Recon loss:   96.08 | Gauss loss:   11.58\n",
      "Epoch   313 / 10000 | Total loss:  118.01 | Recon loss:   95.09 | Gauss loss:   11.46\n",
      "Epoch   314 / 10000 | Total loss:  116.06 | Recon loss:   93.27 | Gauss loss:   11.39\n",
      "Epoch   315 / 10000 | Total loss:  115.63 | Recon loss:   92.87 | Gauss loss:   11.38\n",
      "Epoch   316 / 10000 | Total loss:  114.44 | Recon loss:   91.61 | Gauss loss:   11.41\n",
      "Epoch   317 / 10000 | Total loss:  114.58 | Recon loss:    91.7 | Gauss loss:   11.44\n",
      "Epoch   318 / 10000 | Total loss:  114.55 | Recon loss:   91.71 | Gauss loss:   11.42\n",
      "Epoch   319 / 10000 | Total loss:  114.44 | Recon loss:   91.46 | Gauss loss:   11.49\n",
      "Epoch   320 / 10000 | Total loss:  114.75 | Recon loss:   91.77 | Gauss loss:   11.49\n",
      "Epoch   321 / 10000 | Total loss:  114.82 | Recon loss:   91.86 | Gauss loss:   11.48\n",
      "Epoch   322 / 10000 | Total loss:  115.16 | Recon loss:   92.19 | Gauss loss:   11.48\n",
      "Epoch   323 / 10000 | Total loss:  118.39 | Recon loss:   95.34 | Gauss loss:   11.53\n",
      "Epoch   324 / 10000 | Total loss:   117.5 | Recon loss:   94.59 | Gauss loss:   11.46\n",
      "Epoch   325 / 10000 | Total loss:  118.13 | Recon loss:   95.16 | Gauss loss:   11.48\n",
      "Epoch   326 / 10000 | Total loss:  126.82 | Recon loss:  103.59 | Gauss loss:   11.62\n",
      "Epoch   327 / 10000 | Total loss:  130.62 | Recon loss:  106.46 | Gauss loss:   12.08\n",
      "Epoch   328 / 10000 | Total loss:  123.52 | Recon loss:   100.3 | Gauss loss:   11.61\n",
      "Epoch   329 / 10000 | Total loss:   121.4 | Recon loss:   98.12 | Gauss loss:   11.64\n",
      "Epoch   330 / 10000 | Total loss:  118.66 | Recon loss:   95.51 | Gauss loss:   11.58\n",
      "Epoch   331 / 10000 | Total loss:  115.31 | Recon loss:   92.14 | Gauss loss:   11.58\n",
      "Epoch   332 / 10000 | Total loss:  111.89 | Recon loss:   88.97 | Gauss loss:   11.46\n",
      "Epoch   333 / 10000 | Total loss:  111.44 | Recon loss:   88.49 | Gauss loss:   11.48\n",
      "Epoch   334 / 10000 | Total loss:  110.26 | Recon loss:   87.36 | Gauss loss:   11.45\n",
      "Epoch   335 / 10000 | Total loss:  110.81 | Recon loss:   87.81 | Gauss loss:    11.5\n",
      "Epoch   336 / 10000 | Total loss:  110.62 | Recon loss:   87.55 | Gauss loss:   11.54\n",
      "Epoch   337 / 10000 | Total loss:  110.67 | Recon loss:   87.66 | Gauss loss:   11.51\n",
      "Epoch   338 / 10000 | Total loss:  110.68 | Recon loss:   87.72 | Gauss loss:   11.48\n",
      "Epoch   339 / 10000 | Total loss:  110.21 | Recon loss:   87.25 | Gauss loss:   11.48\n",
      "Epoch   340 / 10000 | Total loss:  111.55 | Recon loss:   88.39 | Gauss loss:   11.58\n",
      "Epoch   341 / 10000 | Total loss:  111.89 | Recon loss:   88.53 | Gauss loss:   11.68\n",
      "Epoch   342 / 10000 | Total loss:  111.23 | Recon loss:   88.18 | Gauss loss:   11.53\n",
      "Epoch   343 / 10000 | Total loss:  111.07 | Recon loss:   88.09 | Gauss loss:   11.49\n",
      "Epoch   344 / 10000 | Total loss:  112.19 | Recon loss:   88.89 | Gauss loss:   11.65\n",
      "Epoch   345 / 10000 | Total loss:  111.54 | Recon loss:   88.44 | Gauss loss:   11.55\n",
      "Epoch   346 / 10000 | Total loss:  111.52 | Recon loss:    88.5 | Gauss loss:   11.51\n",
      "Epoch   347 / 10000 | Total loss:   111.7 | Recon loss:   88.47 | Gauss loss:   11.61\n",
      "Epoch   348 / 10000 | Total loss:   115.0 | Recon loss:   91.58 | Gauss loss:   11.71\n",
      "Epoch   349 / 10000 | Total loss:  115.78 | Recon loss:    92.3 | Gauss loss:   11.74\n",
      "Epoch   350 / 10000 | Total loss:  114.31 | Recon loss:   91.09 | Gauss loss:   11.61\n",
      "Epoch   351 / 10000 | Total loss:  114.46 | Recon loss:   91.32 | Gauss loss:   11.57\n",
      "Epoch   352 / 10000 | Total loss:  116.04 | Recon loss:    92.6 | Gauss loss:   11.72\n",
      "Epoch   353 / 10000 | Total loss:  114.69 | Recon loss:   91.72 | Gauss loss:   11.48\n",
      "Epoch   354 / 10000 | Total loss:  113.83 | Recon loss:   90.73 | Gauss loss:   11.55\n",
      "Epoch   355 / 10000 | Total loss:  111.95 | Recon loss:   88.77 | Gauss loss:   11.59\n",
      "Epoch   356 / 10000 | Total loss:  110.66 | Recon loss:   87.51 | Gauss loss:   11.58\n",
      "Epoch   357 / 10000 | Total loss:  120.93 | Recon loss:    97.5 | Gauss loss:   11.72\n",
      "Epoch   358 / 10000 | Total loss:  131.04 | Recon loss:  106.48 | Gauss loss:   12.28\n",
      "Epoch   359 / 10000 | Total loss:  121.16 | Recon loss:   97.46 | Gauss loss:   11.85\n",
      "Epoch   360 / 10000 | Total loss:  115.98 | Recon loss:   92.46 | Gauss loss:   11.76\n",
      "Epoch   361 / 10000 | Total loss:  115.19 | Recon loss:    91.8 | Gauss loss:   11.69\n",
      "Epoch   362 / 10000 | Total loss:  112.93 | Recon loss:    89.3 | Gauss loss:   11.81\n",
      "Epoch   363 / 10000 | Total loss:  110.68 | Recon loss:   87.37 | Gauss loss:   11.65\n",
      "Epoch   364 / 10000 | Total loss:  106.97 | Recon loss:   83.92 | Gauss loss:   11.53\n",
      "Epoch   365 / 10000 | Total loss:  107.72 | Recon loss:   84.48 | Gauss loss:   11.62\n",
      "Epoch   366 / 10000 | Total loss:  106.42 | Recon loss:   83.09 | Gauss loss:   11.66\n",
      "Epoch   367 / 10000 | Total loss:  106.84 | Recon loss:   83.52 | Gauss loss:   11.66\n",
      "Epoch   368 / 10000 | Total loss:  107.36 | Recon loss:   84.07 | Gauss loss:   11.65\n",
      "Epoch   369 / 10000 | Total loss:  107.58 | Recon loss:   84.34 | Gauss loss:   11.62\n",
      "Epoch   370 / 10000 | Total loss:  106.24 | Recon loss:   83.17 | Gauss loss:   11.53\n",
      "Epoch   371 / 10000 | Total loss:  106.68 | Recon loss:   83.45 | Gauss loss:   11.62\n",
      "Epoch   372 / 10000 | Total loss:  107.83 | Recon loss:   84.53 | Gauss loss:   11.65\n",
      "Epoch   373 / 10000 | Total loss:  106.74 | Recon loss:   83.67 | Gauss loss:   11.53\n",
      "Epoch   374 / 10000 | Total loss:  106.43 | Recon loss:   83.25 | Gauss loss:   11.59\n",
      "Epoch   375 / 10000 | Total loss:  107.57 | Recon loss:   84.12 | Gauss loss:   11.72\n",
      "Epoch   376 / 10000 | Total loss:  108.45 | Recon loss:   85.22 | Gauss loss:   11.62\n",
      "Epoch   377 / 10000 | Total loss:   108.9 | Recon loss:   85.37 | Gauss loss:   11.76\n",
      "Epoch   378 / 10000 | Total loss:  110.33 | Recon loss:   86.82 | Gauss loss:   11.76\n",
      "Epoch   379 / 10000 | Total loss:  110.02 | Recon loss:   86.66 | Gauss loss:   11.68\n",
      "Epoch   380 / 10000 | Total loss:  111.43 | Recon loss:   88.05 | Gauss loss:   11.69\n",
      "Epoch   381 / 10000 | Total loss:  112.96 | Recon loss:   89.52 | Gauss loss:   11.72\n",
      "Epoch   382 / 10000 | Total loss:   109.8 | Recon loss:   86.48 | Gauss loss:   11.66\n",
      "Epoch   383 / 10000 | Total loss:  109.16 | Recon loss:   85.81 | Gauss loss:   11.67\n",
      "Epoch   384 / 10000 | Total loss:  107.97 | Recon loss:   84.45 | Gauss loss:   11.76\n"
     ]
    },
    {
     "name": "stdout",
     "output_type": "stream",
     "text": [
      "Epoch   385 / 10000 | Total loss:   106.8 | Recon loss:   83.52 | Gauss loss:   11.64\n",
      "Epoch   386 / 10000 | Total loss:  109.01 | Recon loss:   85.53 | Gauss loss:   11.74\n",
      "Epoch   387 / 10000 | Total loss:  109.78 | Recon loss:   86.64 | Gauss loss:   11.57\n",
      "Epoch   388 / 10000 | Total loss:  110.37 | Recon loss:   87.02 | Gauss loss:   11.68\n",
      "Epoch   389 / 10000 | Total loss:  108.19 | Recon loss:   84.77 | Gauss loss:   11.71\n",
      "Epoch   390 / 10000 | Total loss:  107.02 | Recon loss:   83.49 | Gauss loss:   11.76\n",
      "Epoch   391 / 10000 | Total loss:  107.39 | Recon loss:   84.05 | Gauss loss:   11.67\n",
      "Epoch   392 / 10000 | Total loss:  105.91 | Recon loss:   82.71 | Gauss loss:    11.6\n",
      "Epoch   393 / 10000 | Total loss:   107.0 | Recon loss:   83.64 | Gauss loss:   11.68\n",
      "Epoch   394 / 10000 | Total loss:  109.09 | Recon loss:   85.31 | Gauss loss:   11.89\n",
      "Epoch   395 / 10000 | Total loss:  106.73 | Recon loss:   83.18 | Gauss loss:   11.77\n",
      "Epoch   396 / 10000 | Total loss:  107.13 | Recon loss:   83.63 | Gauss loss:   11.75\n",
      "Epoch   397 / 10000 | Total loss:  124.44 | Recon loss:   99.78 | Gauss loss:   12.33\n",
      "Epoch   398 / 10000 | Total loss:  117.19 | Recon loss:   92.86 | Gauss loss:   12.17\n",
      "Epoch   399 / 10000 | Total loss:  114.23 | Recon loss:   90.51 | Gauss loss:   11.86\n",
      "Epoch   400 / 10000 | Total loss:  114.35 | Recon loss:   90.42 | Gauss loss:   11.97\n",
      "Epoch   401 / 10000 | Total loss:  111.31 | Recon loss:   87.62 | Gauss loss:   11.84\n",
      "Epoch   402 / 10000 | Total loss:  108.04 | Recon loss:    84.6 | Gauss loss:   11.72\n",
      "Epoch   403 / 10000 | Total loss:  105.14 | Recon loss:   81.75 | Gauss loss:   11.69\n",
      "Epoch   404 / 10000 | Total loss:  102.77 | Recon loss:   79.48 | Gauss loss:   11.64\n",
      "Epoch   405 / 10000 | Total loss:  102.47 | Recon loss:   79.18 | Gauss loss:   11.65\n",
      "Epoch   406 / 10000 | Total loss:  101.63 | Recon loss:   78.36 | Gauss loss:   11.64\n",
      "Epoch   407 / 10000 | Total loss:  102.42 | Recon loss:   78.98 | Gauss loss:   11.72\n",
      "Epoch   408 / 10000 | Total loss:  102.04 | Recon loss:   78.79 | Gauss loss:   11.63\n",
      "Epoch   409 / 10000 | Total loss:  101.03 | Recon loss:   77.64 | Gauss loss:    11.7\n",
      "Epoch   410 / 10000 | Total loss:  105.87 | Recon loss:    82.2 | Gauss loss:   11.83\n",
      "Epoch   411 / 10000 | Total loss:  105.71 | Recon loss:   82.23 | Gauss loss:   11.74\n",
      "Epoch   412 / 10000 | Total loss:  103.92 | Recon loss:   80.35 | Gauss loss:   11.78\n",
      "Epoch   413 / 10000 | Total loss:  104.11 | Recon loss:   80.54 | Gauss loss:   11.79\n",
      "Epoch   414 / 10000 | Total loss:  103.67 | Recon loss:   80.16 | Gauss loss:   11.75\n",
      "Epoch   415 / 10000 | Total loss:  104.81 | Recon loss:   81.23 | Gauss loss:   11.79\n",
      "Epoch   416 / 10000 | Total loss:   114.9 | Recon loss:    91.0 | Gauss loss:   11.95\n",
      "Epoch   417 / 10000 | Total loss:   134.3 | Recon loss:  108.88 | Gauss loss:   12.71\n",
      "Epoch   418 / 10000 | Total loss:   122.8 | Recon loss:   97.97 | Gauss loss:   12.41\n",
      "Epoch   419 / 10000 | Total loss:  118.38 | Recon loss:   94.25 | Gauss loss:   12.06\n",
      "Epoch   420 / 10000 | Total loss:   113.3 | Recon loss:   89.21 | Gauss loss:   12.04\n",
      "Epoch   421 / 10000 | Total loss:  107.92 | Recon loss:   83.96 | Gauss loss:   11.98\n",
      "Epoch   422 / 10000 | Total loss:  103.72 | Recon loss:   79.98 | Gauss loss:   11.87\n",
      "Epoch   423 / 10000 | Total loss:  100.81 | Recon loss:   77.38 | Gauss loss:   11.72\n",
      "Epoch   424 / 10000 | Total loss:   98.99 | Recon loss:   75.53 | Gauss loss:   11.73\n",
      "Epoch   425 / 10000 | Total loss:   98.33 | Recon loss:   74.97 | Gauss loss:   11.68\n",
      "Epoch   426 / 10000 | Total loss:   98.04 | Recon loss:   74.77 | Gauss loss:   11.63\n",
      "Epoch   427 / 10000 | Total loss:   98.55 | Recon loss:    75.1 | Gauss loss:   11.73\n",
      "Epoch   428 / 10000 | Total loss:   99.73 | Recon loss:   76.28 | Gauss loss:   11.72\n",
      "Epoch   429 / 10000 | Total loss:  100.19 | Recon loss:   76.56 | Gauss loss:   11.81\n",
      "Epoch   430 / 10000 | Total loss:  100.03 | Recon loss:   76.48 | Gauss loss:   11.78\n",
      "Epoch   431 / 10000 | Total loss:   99.02 | Recon loss:   75.72 | Gauss loss:   11.65\n",
      "Epoch   432 / 10000 | Total loss:   98.73 | Recon loss:   75.34 | Gauss loss:    11.7\n",
      "Epoch   433 / 10000 | Total loss:   99.48 | Recon loss:   75.97 | Gauss loss:   11.76\n",
      "Epoch   434 / 10000 | Total loss:   99.63 | Recon loss:   76.16 | Gauss loss:   11.73\n",
      "Epoch   435 / 10000 | Total loss:   99.55 | Recon loss:   76.29 | Gauss loss:   11.63\n",
      "Epoch   436 / 10000 | Total loss:   99.27 | Recon loss:   75.71 | Gauss loss:   11.78\n",
      "Epoch   437 / 10000 | Total loss:  100.24 | Recon loss:   76.67 | Gauss loss:   11.79\n",
      "Epoch   438 / 10000 | Total loss:  100.16 | Recon loss:   76.54 | Gauss loss:   11.81\n",
      "Epoch   439 / 10000 | Total loss:   99.87 | Recon loss:   76.57 | Gauss loss:   11.65\n",
      "Epoch   440 / 10000 | Total loss:  100.44 | Recon loss:   77.06 | Gauss loss:   11.69\n",
      "Epoch   441 / 10000 | Total loss:  100.69 | Recon loss:   77.27 | Gauss loss:   11.71\n",
      "Epoch   442 / 10000 | Total loss:  100.82 | Recon loss:    77.3 | Gauss loss:   11.76\n",
      "Epoch   443 / 10000 | Total loss:  104.64 | Recon loss:   80.97 | Gauss loss:   11.83\n",
      "Epoch   444 / 10000 | Total loss:  108.57 | Recon loss:   84.69 | Gauss loss:   11.94\n",
      "Epoch   445 / 10000 | Total loss:  108.04 | Recon loss:   84.27 | Gauss loss:   11.88\n",
      "Epoch   446 / 10000 | Total loss:  112.09 | Recon loss:   88.07 | Gauss loss:   12.01\n",
      "Epoch   447 / 10000 | Total loss:  117.08 | Recon loss:   92.86 | Gauss loss:   12.11\n",
      "Epoch   448 / 10000 | Total loss:  120.64 | Recon loss:   96.26 | Gauss loss:   12.19\n",
      "Epoch   449 / 10000 | Total loss:  118.45 | Recon loss:   94.17 | Gauss loss:   12.14\n",
      "Epoch   450 / 10000 | Total loss:  114.59 | Recon loss:   90.44 | Gauss loss:   12.08\n",
      "Epoch   451 / 10000 | Total loss:  108.31 | Recon loss:   84.56 | Gauss loss:   11.88\n",
      "Epoch   452 / 10000 | Total loss:  109.07 | Recon loss:   85.09 | Gauss loss:   11.99\n",
      "Epoch   453 / 10000 | Total loss:  108.38 | Recon loss:   84.14 | Gauss loss:   12.12\n",
      "Epoch   454 / 10000 | Total loss:  102.66 | Recon loss:   78.94 | Gauss loss:   11.86\n",
      "Epoch   455 / 10000 | Total loss:   98.76 | Recon loss:   75.31 | Gauss loss:   11.72\n",
      "Epoch   456 / 10000 | Total loss:   97.13 | Recon loss:   73.78 | Gauss loss:   11.67\n",
      "Epoch   457 / 10000 | Total loss:   96.11 | Recon loss:   72.71 | Gauss loss:    11.7\n",
      "Epoch   458 / 10000 | Total loss:   95.35 | Recon loss:   71.94 | Gauss loss:    11.7\n",
      "Epoch   459 / 10000 | Total loss:   94.89 | Recon loss:   71.49 | Gauss loss:    11.7\n",
      "Epoch   460 / 10000 | Total loss:   95.51 | Recon loss:   72.11 | Gauss loss:    11.7\n",
      "Epoch   461 / 10000 | Total loss:  103.06 | Recon loss:   78.96 | Gauss loss:   12.05\n",
      "Epoch   462 / 10000 | Total loss:  100.83 | Recon loss:   77.07 | Gauss loss:   11.88\n",
      "Epoch   463 / 10000 | Total loss:  103.17 | Recon loss:    79.3 | Gauss loss:   11.94\n",
      "Epoch   464 / 10000 | Total loss:  103.92 | Recon loss:   79.92 | Gauss loss:    12.0\n",
      "Epoch   465 / 10000 | Total loss:  106.88 | Recon loss:   82.47 | Gauss loss:   12.21\n",
      "Epoch   466 / 10000 | Total loss:  102.49 | Recon loss:   78.51 | Gauss loss:   11.99\n",
      "Epoch   467 / 10000 | Total loss:  102.17 | Recon loss:   78.41 | Gauss loss:   11.88\n",
      "Epoch   468 / 10000 | Total loss:   99.91 | Recon loss:   76.11 | Gauss loss:    11.9\n",
      "Epoch   469 / 10000 | Total loss:   98.65 | Recon loss:   74.96 | Gauss loss:   11.84\n",
      "Epoch   470 / 10000 | Total loss:   98.09 | Recon loss:   74.56 | Gauss loss:   11.77\n",
      "Epoch   471 / 10000 | Total loss:   97.58 | Recon loss:   74.01 | Gauss loss:   11.79\n",
      "Epoch   472 / 10000 | Total loss:   98.55 | Recon loss:    74.8 | Gauss loss:   11.88\n",
      "Epoch   473 / 10000 | Total loss:   97.06 | Recon loss:   73.45 | Gauss loss:   11.81\n",
      "Epoch   474 / 10000 | Total loss:   96.35 | Recon loss:   72.88 | Gauss loss:   11.73\n",
      "Epoch   475 / 10000 | Total loss:   96.29 | Recon loss:   72.72 | Gauss loss:   11.79\n",
      "Epoch   476 / 10000 | Total loss:   96.19 | Recon loss:   72.54 | Gauss loss:   11.83\n",
      "Epoch   477 / 10000 | Total loss:   97.91 | Recon loss:   74.13 | Gauss loss:   11.89\n"
     ]
    },
    {
     "ename": "KeyboardInterrupt",
     "evalue": "",
     "output_type": "error",
     "traceback": [
      "\u001b[0;31m---------------------------------------------------------------------------\u001b[0m",
      "\u001b[0;31mKeyboardInterrupt\u001b[0m                         Traceback (most recent call last)",
      "\u001b[0;32m<ipython-input-195-f341fa1b21f6>\u001b[0m in \u001b[0;36m<module>\u001b[0;34m\u001b[0m\n\u001b[0;32m----> 1\u001b[0;31m \u001b[0mhistory_loss\u001b[0m \u001b[0;34m=\u001b[0m \u001b[0mvae\u001b[0m\u001b[0;34m.\u001b[0m\u001b[0mtrain\u001b[0m\u001b[0;34m(\u001b[0m\u001b[0mtrain_dl\u001b[0m\u001b[0;34m,\u001b[0m \u001b[0mvalid_dl\u001b[0m\u001b[0;34m)\u001b[0m\u001b[0;34m\u001b[0m\u001b[0;34m\u001b[0m\u001b[0m\n\u001b[0m",
      "\u001b[0;32m~/projects/gmvae_and_gmmvae/pytorch/model/VAE_path2chunk.py\u001b[0m in \u001b[0;36mtrain\u001b[0;34m(self, train_loader, val_loader)\u001b[0m\n\u001b[1;32m    210\u001b[0m \u001b[0;34m\u001b[0m\u001b[0m\n\u001b[1;32m    211\u001b[0m     \u001b[0;32mfor\u001b[0m \u001b[0mepoch\u001b[0m \u001b[0;32min\u001b[0m \u001b[0mrange\u001b[0m\u001b[0;34m(\u001b[0m\u001b[0;36m1\u001b[0m\u001b[0;34m,\u001b[0m \u001b[0mself\u001b[0m\u001b[0;34m.\u001b[0m\u001b[0mnum_epochs\u001b[0m \u001b[0;34m+\u001b[0m \u001b[0;36m1\u001b[0m\u001b[0;34m)\u001b[0m\u001b[0;34m:\u001b[0m\u001b[0;34m\u001b[0m\u001b[0;34m\u001b[0m\u001b[0m\n\u001b[0;32m--> 212\u001b[0;31m       \u001b[0mtrain_total_loss\u001b[0m\u001b[0;34m,\u001b[0m \u001b[0mtrain_recon_loss\u001b[0m\u001b[0;34m,\u001b[0m \u001b[0mtrain_gauss_loss\u001b[0m \u001b[0;34m=\u001b[0m \u001b[0mself\u001b[0m\u001b[0;34m.\u001b[0m\u001b[0mtrain_epoch\u001b[0m\u001b[0;34m(\u001b[0m\u001b[0moptimizer\u001b[0m\u001b[0;34m,\u001b[0m \u001b[0mtrain_loader\u001b[0m\u001b[0;34m)\u001b[0m\u001b[0;34m\u001b[0m\u001b[0;34m\u001b[0m\u001b[0m\n\u001b[0m\u001b[1;32m    213\u001b[0m       \u001b[0mvalid_total_loss\u001b[0m\u001b[0;34m,\u001b[0m \u001b[0mvalid_recon_loss\u001b[0m\u001b[0;34m,\u001b[0m \u001b[0mvalid_gauss_loss\u001b[0m \u001b[0;34m=\u001b[0m \u001b[0mself\u001b[0m\u001b[0;34m.\u001b[0m\u001b[0mtest\u001b[0m\u001b[0;34m(\u001b[0m\u001b[0mval_loader\u001b[0m\u001b[0;34m)\u001b[0m\u001b[0;34m\u001b[0m\u001b[0;34m\u001b[0m\u001b[0m\n\u001b[1;32m    214\u001b[0m \u001b[0;34m\u001b[0m\u001b[0m\n",
      "\u001b[0;32m~/projects/gmvae_and_gmmvae/pytorch/model/VAE_path2chunk.py\u001b[0m in \u001b[0;36mtrain_epoch\u001b[0;34m(self, optimizer, data_loader)\u001b[0m\n\u001b[1;32m    130\u001b[0m \u001b[0;34m\u001b[0m\u001b[0m\n\u001b[1;32m    131\u001b[0m       \u001b[0;31m# perform backpropagation\u001b[0m\u001b[0;34m\u001b[0m\u001b[0;34m\u001b[0m\u001b[0;34m\u001b[0m\u001b[0m\n\u001b[0;32m--> 132\u001b[0;31m       \u001b[0mtotal\u001b[0m\u001b[0;34m.\u001b[0m\u001b[0mbackward\u001b[0m\u001b[0;34m(\u001b[0m\u001b[0;34m)\u001b[0m\u001b[0;34m\u001b[0m\u001b[0;34m\u001b[0m\u001b[0m\n\u001b[0m\u001b[1;32m    133\u001b[0m       \u001b[0moptimizer\u001b[0m\u001b[0;34m.\u001b[0m\u001b[0mstep\u001b[0m\u001b[0;34m(\u001b[0m\u001b[0;34m)\u001b[0m\u001b[0;34m\u001b[0m\u001b[0;34m\u001b[0m\u001b[0m\n\u001b[1;32m    134\u001b[0m \u001b[0;34m\u001b[0m\u001b[0m\n",
      "\u001b[0;32m~/anaconda3/envs/deep_learning/lib/python3.7/site-packages/torch/tensor.py\u001b[0m in \u001b[0;36mbackward\u001b[0;34m(self, gradient, retain_graph, create_graph)\u001b[0m\n\u001b[1;32m    164\u001b[0m                 \u001b[0mproducts\u001b[0m\u001b[0;34m.\u001b[0m \u001b[0mDefaults\u001b[0m \u001b[0mto\u001b[0m\u001b[0;31m \u001b[0m\u001b[0;31m`\u001b[0m\u001b[0;31m`\u001b[0m\u001b[0;32mFalse\u001b[0m\u001b[0;31m`\u001b[0m\u001b[0;31m`\u001b[0m\u001b[0;34m.\u001b[0m\u001b[0;34m\u001b[0m\u001b[0;34m\u001b[0m\u001b[0m\n\u001b[1;32m    165\u001b[0m         \"\"\"\n\u001b[0;32m--> 166\u001b[0;31m         \u001b[0mtorch\u001b[0m\u001b[0;34m.\u001b[0m\u001b[0mautograd\u001b[0m\u001b[0;34m.\u001b[0m\u001b[0mbackward\u001b[0m\u001b[0;34m(\u001b[0m\u001b[0mself\u001b[0m\u001b[0;34m,\u001b[0m \u001b[0mgradient\u001b[0m\u001b[0;34m,\u001b[0m \u001b[0mretain_graph\u001b[0m\u001b[0;34m,\u001b[0m \u001b[0mcreate_graph\u001b[0m\u001b[0;34m)\u001b[0m\u001b[0;34m\u001b[0m\u001b[0;34m\u001b[0m\u001b[0m\n\u001b[0m\u001b[1;32m    167\u001b[0m \u001b[0;34m\u001b[0m\u001b[0m\n\u001b[1;32m    168\u001b[0m     \u001b[0;32mdef\u001b[0m \u001b[0mregister_hook\u001b[0m\u001b[0;34m(\u001b[0m\u001b[0mself\u001b[0m\u001b[0;34m,\u001b[0m \u001b[0mhook\u001b[0m\u001b[0;34m)\u001b[0m\u001b[0;34m:\u001b[0m\u001b[0;34m\u001b[0m\u001b[0;34m\u001b[0m\u001b[0m\n",
      "\u001b[0;32m~/anaconda3/envs/deep_learning/lib/python3.7/site-packages/torch/autograd/__init__.py\u001b[0m in \u001b[0;36mbackward\u001b[0;34m(tensors, grad_tensors, retain_graph, create_graph, grad_variables)\u001b[0m\n\u001b[1;32m     97\u001b[0m     Variable._execution_engine.run_backward(\n\u001b[1;32m     98\u001b[0m         \u001b[0mtensors\u001b[0m\u001b[0;34m,\u001b[0m \u001b[0mgrad_tensors\u001b[0m\u001b[0;34m,\u001b[0m \u001b[0mretain_graph\u001b[0m\u001b[0;34m,\u001b[0m \u001b[0mcreate_graph\u001b[0m\u001b[0;34m,\u001b[0m\u001b[0;34m\u001b[0m\u001b[0;34m\u001b[0m\u001b[0m\n\u001b[0;32m---> 99\u001b[0;31m         allow_unreachable=True)  # allow_unreachable flag\n\u001b[0m\u001b[1;32m    100\u001b[0m \u001b[0;34m\u001b[0m\u001b[0m\n\u001b[1;32m    101\u001b[0m \u001b[0;34m\u001b[0m\u001b[0m\n",
      "\u001b[0;31mKeyboardInterrupt\u001b[0m: "
     ]
    }
   ],
   "source": [
    "history_loss = vae.train(train_dl, valid_dl)"
   ]
  },
  {
   "cell_type": "code",
   "execution_count": 196,
   "metadata": {},
   "outputs": [],
   "source": [
    "torch.save(vae.network.state_dict(), f'vae_path2chunk_{num_epochs}.pth')"
   ]
  },
  {
   "cell_type": "code",
   "execution_count": 228,
   "metadata": {},
   "outputs": [
    {
     "data": {
      "text/plain": [
       "<All keys matched successfully>"
      ]
     },
     "execution_count": 228,
     "metadata": {},
     "output_type": "execute_result"
    }
   ],
   "source": [
    "vae.network.load_state_dict(torch.load(f'vae_path2chunk_{num_epochs}.pth'))"
   ]
  },
  {
   "cell_type": "markdown",
   "metadata": {
    "colab_type": "text",
    "id": "1bHWNxV-gAl2"
   },
   "source": [
    "## Image Reconstruction"
   ]
  },
  {
   "cell_type": "code",
   "execution_count": 198,
   "metadata": {
    "colab": {
     "base_uri": "https://localhost:8080/",
     "height": 160
    },
    "colab_type": "code",
    "id": "wd5jQFFHgCbD",
    "outputId": "8e1d4654-fb01-49dc-b512-e8e4bb259e0f"
   },
   "outputs": [],
   "source": [
    "original, reconstructed = vae.reconstruct_data(train_dl, len(train_ds))  "
   ]
  },
  {
   "cell_type": "code",
   "execution_count": 199,
   "metadata": {},
   "outputs": [],
   "source": [
    "original_int = original.reshape(len(train_ds), 16, 16)\n",
    "reconstructed_int = reconstructed.reshape(len(train_ds), 16, 16, 18).argmax(axis=-1)"
   ]
  },
  {
   "cell_type": "code",
   "execution_count": 200,
   "metadata": {
    "code_folding": [
     0
    ]
   },
   "outputs": [],
   "source": [
    "char2int = { \n",
    "    \"X\": 0,  # smb unpassable\n",
    "    \"S\": 1,  # smb breakable\n",
    "    \"-\": 2,\n",
    "    \"?\": 3,  # smb question\n",
    "    \"Q\": 4,  # smb question\n",
    "    \"E\": 5,\n",
    "    \"<\": 6,\n",
    "    \">\": 7,\n",
    "    \"[\": 8,\n",
    "    \"]\": 9,\n",
    "    \"o\": 10,\n",
    "    \"P\": 11,  # for smb path (from Anurag's email)\n",
    "    \"T\": 12,  # ki platform\n",
    "    \"M\": 13,  # ki movable platform\n",
    "    \"D\": 14,  # ki door\n",
    "    \"#\": 15,  # ki ground\n",
    "    \"H\": 16,  # ki hazard\n",
    "    \"*\": 17,  # for ki background, different from vglc (from Anurag's email)\n",
    "}"
   ]
  },
  {
   "cell_type": "code",
   "execution_count": 201,
   "metadata": {},
   "outputs": [],
   "source": [
    "int2char = {v:k for k, v in char2int.items()}"
   ]
  },
  {
   "cell_type": "code",
   "execution_count": 202,
   "metadata": {},
   "outputs": [],
   "source": [
    "tiles_path = '../../1906-pcgml/pcgml-gmmVae-exp/data/tiles'"
   ]
  },
  {
   "cell_type": "code",
   "execution_count": 203,
   "metadata": {
    "code_folding": [
     0
    ]
   },
   "outputs": [],
   "source": [
    "char2png = {    \n",
    "    \"-\": Image.open(f'{tiles_path}/smb-background.png'),\n",
    "    \"X\": Image.open(f'{tiles_path}/smb-unpassable.png'),\n",
    "    \"S\": Image.open(f'{tiles_path}/smb-breakable.png'),\n",
    "    \"?\": Image.open(f'{tiles_path}/smb-question.png'),\n",
    "    \"Q\": Image.open(f'{tiles_path}/smb-question.png'),\n",
    "    \"o\": Image.open(f'{tiles_path}/smb-coin.png'),\n",
    "    \"E\": Image.open(f'{tiles_path}/smb-enemy.png'),\n",
    "    \"<\": Image.open(f'{tiles_path}/smb-tube-top-left.png'),\n",
    "    \">\": Image.open(f'{tiles_path}/smb-tube-top-right.png'),\n",
    "    \"[\": Image.open(f'{tiles_path}/smb-tube-lower-left.png'),\n",
    "    \"]\": Image.open(f'{tiles_path}/smb-tube-lower-right.png'),\n",
    "    \"P\": Image.open(f'{tiles_path}/smb-path.png'),\n",
    "    \"#\": Image.open(f'{tiles_path}/ki-unpassable.png'),\n",
    "    \"T\": Image.open(f'{tiles_path}/ki-passable.png'),\n",
    "    \"M\": Image.open(f'{tiles_path}/ki-moving-platform.png'),\n",
    "    \"H\": Image.open(f'{tiles_path}/ki-hazard.png'),\n",
    "    \"*\": Image.open(f'{tiles_path}/ki-background.png'),\n",
    "    \"D\": Image.open(f'{tiles_path}/ki-door.png'),\n",
    "}"
   ]
  },
  {
   "cell_type": "code",
   "execution_count": 204,
   "metadata": {},
   "outputs": [],
   "source": [
    "def array_to_image(array):\n",
    "    \"\"\"\n",
    "    Convert a 16-by-16 array of integers into a PIL.Image object\n",
    "    param: array: a 16-by-16 array of integers\n",
    "    \"\"\"\n",
    "    images = []\n",
    "    for i in array:\n",
    "        image = Image.new('RGB',(16 * 16, 16 * 16))\n",
    "        for row, seg in enumerate(i):\n",
    "            for col, tile in enumerate(seg):\n",
    "                image.paste(char2png[int2char[tile]], (col * 16, row * 16))\n",
    "        images.append(image)\n",
    "    return images"
   ]
  },
  {
   "cell_type": "code",
   "execution_count": 205,
   "metadata": {},
   "outputs": [],
   "source": [
    "def get_classes(chunks_int):\n",
    "    classes = []\n",
    "    for i in chunks_int:\n",
    "        if i.max() == 17:\n",
    "            classes.append('kia')\n",
    "        else:\n",
    "            classes.append('smba')\n",
    "    return np.array(classes)"
   ]
  },
  {
   "cell_type": "code",
   "execution_count": 206,
   "metadata": {},
   "outputs": [],
   "source": [
    "rec_classes = get_classes(reconstructed_int)"
   ]
  },
  {
   "cell_type": "code",
   "execution_count": 207,
   "metadata": {},
   "outputs": [],
   "source": [
    "def get_images(chunks_int):\n",
    "    images = []\n",
    "    for game, chunk in zip(get_classes(chunks_int), chunks_int):\n",
    "        images.append(array_to_image([chunk])[0])\n",
    "    return images"
   ]
  },
  {
   "cell_type": "code",
   "execution_count": 208,
   "metadata": {},
   "outputs": [],
   "source": [
    "rec_images = get_images(reconstructed_int)"
   ]
  },
  {
   "cell_type": "code",
   "execution_count": 209,
   "metadata": {},
   "outputs": [],
   "source": [
    "org_images = original_int"
   ]
  },
  {
   "cell_type": "code",
   "execution_count": 322,
   "metadata": {},
   "outputs": [
    {
     "data": {
      "image/png": "[encoded data removed]",
      "text/plain": [
       "<Figure size 1728x576 with 30 Axes>"
      ]
     },
     "metadata": {
      "needs_background": "light"
     },
     "output_type": "display_data"
    }
   ],
   "source": [
    "fig, axes = plt.subplots(nrows=3, ncols=10, figsize=(24, 8))\n",
    "axes = axes.flatten()\n",
    "nrows, ncols = 3, 10\n",
    "\n",
    "org_idxs = np.arange(0, 29, 2)\n",
    "rec_idxs = org_idxs + 1\n",
    "\n",
    "for idx in org_idxs:\n",
    "        \n",
    "    ax = axes[idx]\n",
    "\n",
    "    ax.matshow(np.asarray(org_images[idx // 2]))\n",
    "    ax.set_title(f'Org {idx // 2 + 1}')\n",
    "    \n",
    "    ax.axis('off')\n",
    "\n",
    "for idx in rec_idxs:\n",
    "        \n",
    "    ax = axes[idx]\n",
    "\n",
    "    ax.imshow(np.asarray(rec_images[idx // 2]))\n",
    "    ax.set_title(f'Rec {idx // 2 + 1}')\n",
    "\n",
    "    ax.axis('off')\n",
    "    \n",
    "plt.show()"
   ]
  },
  {
   "cell_type": "code",
   "execution_count": 341,
   "metadata": {},
   "outputs": [
    {
     "data": {
      "image/png": "[encoded data removed]",
      "text/plain": [
       "<Figure size 288x288 with 1 Axes>"
      ]
     },
     "metadata": {
      "needs_background": "light"
     },
     "output_type": "display_data"
    }
   ],
   "source": [
    "designed_path = np.array([\n",
    "    [0, 0, 0, 0, 0, 0, 0, 0, 0, 0, 0, 1, 0, 0, 0, 0],\n",
    "    [0, 0, 0, 0, 0, 0, 0, 0, 0, 0, 1, 1, 0, 0, 0, 0],\n",
    "    [0, 0, 0, 0, 0, 0, 0, 0, 0, 1, 1, 0, 0, 0, 0, 0],\n",
    "    [0, 0, 0, 0, 0, 0, 0, 0, 1, 1, 0, 0, 0, 0, 0, 0],\n",
    "    [0, 0, 0, 0, 0, 0, 0, 0, 1, 0, 0, 0, 0, 0, 0, 0],\n",
    "    [0, 0, 0, 0, 0, 0, 0, 0, 1, 1, 0, 0, 0, 0, 0, 0],\n",
    "    [0, 0, 0, 0, 0, 0, 0, 0, 0, 1, 1, 0, 0, 0, 0, 0],\n",
    "    [0, 0, 0, 0, 0, 0, 0, 0, 0, 0, 1, 1, 0, 0, 0, 0],\n",
    "    [0, 0, 0, 0, 0, 0, 0, 0, 0, 0, 0, 1, 0, 0, 0, 0],\n",
    "    [0, 0, 0, 0, 0, 0, 0, 0, 0, 0, 0, 1, 0, 0, 0, 0],\n",
    "    [0, 0, 0, 0, 0, 0, 0, 0, 0, 0, 0, 1, 0, 0, 0, 0],\n",
    "    [0, 0, 0, 0, 0, 0, 0, 0, 0, 0, 1, 1, 0, 0, 0, 0],\n",
    "    [0, 0, 0, 0, 0, 0, 0, 0, 0, 0, 1, 0, 0, 0, 0, 0],\n",
    "    [0, 0, 0, 0, 0, 0, 0, 0, 0, 1, 1, 0, 0, 0, 0, 0],\n",
    "    [1, 1, 1, 1, 1, 1, 1, 1, 1, 1, 0, 0, 0, 0, 0, 0],\n",
    "    [0, 0, 0, 0, 0, 0, 0, 0, 0, 0, 0, 0, 0, 0, 0, 0],\n",
    "])\n",
    "designed_path = np.array([\n",
    "    [0, 0, 0, 0, 0, 0, 0, 0, 0, 0, 0, 0, 0, 0, 0, 0],\n",
    "    [0, 0, 0, 0, 0, 0, 0, 0, 0, 0, 0, 0, 0, 0, 0, 0],\n",
    "    [0, 0, 0, 0, 0, 0, 0, 0, 0, 0, 0, 0, 0, 0, 0, 0],\n",
    "    [0, 0, 0, 0, 0, 0, 0, 0, 0, 0, 0, 0, 0, 0, 0, 0],\n",
    "    [0, 0, 0, 0, 0, 0, 0, 0, 0, 0, 0, 0, 0, 0, 0, 0],\n",
    "    [0, 0, 0, 0, 0, 0, 0, 0, 0, 0, 0, 0, 0, 0, 0, 0],\n",
    "    [0, 0, 0, 0, 0, 0, 0, 1, 1, 1, 0, 0, 0, 0, 0, 0],\n",
    "    [0, 0, 0, 0, 0, 0, 0, 1, 0, 1, 0, 0, 0, 0, 0, 0],\n",
    "    [0, 0, 0, 0, 0, 0, 0, 1, 0, 1, 0, 0, 0, 0, 0, 0],\n",
    "    [0, 0, 0, 0, 0, 0, 0, 1, 0, 1, 0, 0, 0, 0, 0, 0],\n",
    "    [0, 0, 0, 0, 0, 0, 0, 1, 0, 1, 0, 0, 0, 0, 0, 0],\n",
    "    [0, 0, 0, 0, 0, 0, 0, 1, 0, 1, 0, 0, 0, 0, 0, 0],\n",
    "    [0, 0, 0, 0, 0, 0, 0, 1, 0, 1, 0, 0, 0, 0, 0, 0],\n",
    "    [0, 0, 0, 0, 0, 0, 0, 1, 0, 1, 0, 0, 0, 0, 0, 0],\n",
    "    [1, 1, 1, 1, 1, 1, 1, 1, 1, 1, 1, 1, 1, 1, 1, 1],\n",
    "    [0, 0, 0, 0, 0, 0, 0, 0, 0, 0, 0, 0, 0, 0, 0, 0],\n",
    "])\n",
    "plt.matshow(designed_path)\n",
    "plt.show()\n",
    "\n",
    "designed_path = designed_path.reshape(1, 16, 16, 1)\n",
    "designed_path = torch.from_numpy(designed_path).float()\n",
    "test_ds = TensorDataset(designed_path, torch.zeros(1, 16, 16, 1))\n",
    "test_dl = DataLoader(test_ds)"
   ]
  },
  {
   "cell_type": "code",
   "execution_count": 342,
   "metadata": {},
   "outputs": [],
   "source": [
    "input_path, output_chunk = vae.reconstruct_data(test_dl, 1)"
   ]
  },
  {
   "cell_type": "code",
   "execution_count": 343,
   "metadata": {},
   "outputs": [
    {
     "data": {
      "image/png": "[encoded data removed]",
      "text/plain": [
       "<Figure size 432x288 with 1 Axes>"
      ]
     },
     "metadata": {
      "needs_background": "light"
     },
     "output_type": "display_data"
    }
   ],
   "source": [
    "plt.imshow(np.asarray(array_to_image([output_chunk.reshape(16, 16, 18).argmax(axis=-1)])[0]))\n",
    "plt.show()"
   ]
  },
  {
   "cell_type": "code",
   "execution_count": null,
   "metadata": {},
   "outputs": [],
   "source": []
  },
  {
   "cell_type": "code",
   "execution_count": null,
   "metadata": {},
   "outputs": [],
   "source": []
  },
  {
   "cell_type": "code",
   "execution_count": null,
   "metadata": {},
   "outputs": [],
   "source": []
  },
  {
   "cell_type": "markdown",
   "metadata": {
    "colab_type": "text",
    "id": "CAyoGFFRgMgC"
   },
   "source": [
    "## Random Generation per Category"
   ]
  },
  {
   "cell_type": "code",
   "execution_count": 147,
   "metadata": {
    "colab": {
     "base_uri": "https://localhost:8080/",
     "height": 595
    },
    "colab_type": "code",
    "id": "xE84c3U2gLjA",
    "outputId": "cd52f356-e53a-4844-9db2-3723d15ddb00"
   },
   "outputs": [
    {
     "ename": "NameError",
     "evalue": "name 'gmvae' is not defined",
     "output_type": "error",
     "traceback": [
      "\u001b[0;31m---------------------------------------------------------------------------\u001b[0m",
      "\u001b[0;31mNameError\u001b[0m                                 Traceback (most recent call last)",
      "\u001b[0;32m<ipython-input-147-9f8883793c4c>\u001b[0m in \u001b[0;36m<module>\u001b[0;34m\u001b[0m\n\u001b[1;32m     12\u001b[0m \u001b[0;34m\u001b[0m\u001b[0m\n\u001b[1;32m     13\u001b[0m \u001b[0melem_per_category\u001b[0m \u001b[0;34m=\u001b[0m \u001b[0;36m15\u001b[0m\u001b[0;34m\u001b[0m\u001b[0;34m\u001b[0m\u001b[0m\n\u001b[0;32m---> 14\u001b[0;31m \u001b[0mgenerated\u001b[0m \u001b[0;34m=\u001b[0m \u001b[0mgmvae\u001b[0m\u001b[0;34m.\u001b[0m\u001b[0mrandom_generation\u001b[0m\u001b[0;34m(\u001b[0m\u001b[0melem_per_category\u001b[0m\u001b[0;34m)\u001b[0m\u001b[0;34m\u001b[0m\u001b[0;34m\u001b[0m\u001b[0m\n\u001b[0m\u001b[1;32m     15\u001b[0m \u001b[0mdisplay_random_generation\u001b[0m\u001b[0;34m(\u001b[0m\u001b[0mgenerated\u001b[0m\u001b[0;34m,\u001b[0m \u001b[0margs\u001b[0m\u001b[0;34m.\u001b[0m\u001b[0mnum_classes\u001b[0m\u001b[0;34m,\u001b[0m \u001b[0melem_per_category\u001b[0m\u001b[0;34m)\u001b[0m\u001b[0;34m\u001b[0m\u001b[0;34m\u001b[0m\u001b[0m\n",
      "\u001b[0;31mNameError\u001b[0m: name 'gmvae' is not defined"
     ]
    }
   ],
   "source": [
    "def display_random_generation(generated, num_classes, n=10):\n",
    "    plt.figure(figsize=[24,5])\n",
    "    for c in range(num_classes):\n",
    "        for i in range(n):\n",
    "            plt.subplot(num_classes, n, (c * n) + i + 1)\n",
    "            chunk_int = generated[(c * n) + i].reshape(16, 16, 12).argmax(axis=-1)\n",
    "            chunk_pix = vglc_with_path_encodings.array_to_image([chunk_int], game='smba')[0]\n",
    "            plt.imshow(chunk_pix)\n",
    "            plt.gray()\n",
    "            plt.axis('off')\n",
    "    plt.show()\n",
    "\n",
    "elem_per_category = 15\n",
    "generated = gmvae.random_generation(elem_per_category)\n",
    "display_random_generation(generated, args.num_classes, elem_per_category)"
   ]
  },
  {
   "cell_type": "code",
   "execution_count": 149,
   "metadata": {},
   "outputs": [
    {
     "data": {
      "text/plain": [
       "(10000, 4608)"
      ]
     },
     "execution_count": 149,
     "metadata": {},
     "output_type": "execute_result"
    }
   ],
   "source": [
    "generated = vae.random_generation(10000)\n",
    "generated.shape"
   ]
  },
  {
   "cell_type": "code",
   "execution_count": 20,
   "metadata": {},
   "outputs": [],
   "source": [
    "generated_int = generated.reshape(-1, 16, 16, 12).argmax(axis=-1)"
   ]
  },
  {
   "cell_type": "code",
   "execution_count": 21,
   "metadata": {},
   "outputs": [
    {
     "data": {
      "text/plain": [
       "(10000, 16, 16)"
      ]
     },
     "execution_count": 21,
     "metadata": {},
     "output_type": "execute_result"
    }
   ],
   "source": [
    "generated_int.shape"
   ]
  },
  {
   "cell_type": "code",
   "execution_count": 22,
   "metadata": {},
   "outputs": [],
   "source": [
    "# since this code chunk depends on random seed, it shouldn't be run again\n",
    "with open(f'../smba_generations/smba_vae_kld_loss_v2_{num_epochs}.json', 'w+') as json_f:\n",
    "    json.dump(generated_int.tolist(), json_f)"
   ]
  },
  {
   "cell_type": "markdown",
   "metadata": {
    "colab_type": "text",
    "id": "-SbXR7FkhIcq"
   },
   "source": [
    "## Visualization of latent space"
   ]
  },
  {
   "cell_type": "code",
   "execution_count": 39,
   "metadata": {
    "colab": {},
    "colab_type": "code",
    "id": "bTkEBA9JhQ2C"
   },
   "outputs": [],
   "source": [
    "features = vae.latent_features(DataLoader(train_ds, batch_size=128, shuffle=False))"
   ]
  },
  {
   "cell_type": "code",
   "execution_count": 42,
   "metadata": {},
   "outputs": [],
   "source": [
    "with open('../../1906-pcgml/pcgml-gmmVae-exp/data/smba_level_idx_per_chunk.json', 'r') as json_f:\n",
    "    level_idxs = np.array(json.load(json_f))"
   ]
  },
  {
   "cell_type": "code",
   "execution_count": 43,
   "metadata": {
    "colab": {},
    "colab_type": "code",
    "id": "LNmsz5rahZAY"
   },
   "outputs": [],
   "source": [
    "from sklearn.manifold import TSNE\n",
    "\n",
    "first_n = 1000\n",
    "tsne_features = TSNE(n_components=2).fit_transform(features[:first_n])"
   ]
  },
  {
   "cell_type": "code",
   "execution_count": 44,
   "metadata": {},
   "outputs": [],
   "source": [
    "tsne_features_sub = tsne_features[:first_n]\n",
    "level_idxs_sub = level_idxs[:first_n]"
   ]
  },
  {
   "cell_type": "code",
   "execution_count": 48,
   "metadata": {},
   "outputs": [],
   "source": [
    "X, Y = np.s_[:,0], np.s_[:,1]"
   ]
  },
  {
   "cell_type": "code",
   "execution_count": 62,
   "metadata": {
    "colab": {
     "base_uri": "https://localhost:8080/",
     "height": 395
    },
    "colab_type": "code",
    "id": "wyTtDdwyha-L",
    "outputId": "350e806a-6dd3-47f2-bd91-444aaf61b3dd"
   },
   "outputs": [
    {
     "data": {
      "image/png": "[encoded data removed]",
      "text/plain": [
       "<Figure size 504x504 with 1 Axes>"
      ]
     },
     "metadata": {
      "needs_background": "light"
     },
     "output_type": "display_data"
    }
   ],
   "source": [
    "fig = plt.figure(figsize=(7, 7))\n",
    "\n",
    "labels = ['Underword', 'Overworld', 'Jumpy']\n",
    "\n",
    "for i in range(3):\n",
    "    plt.scatter(\n",
    "        tsne_features_sub[level_idxs_sub == i][X], \n",
    "        tsne_features_sub[level_idxs_sub == i][Y],\n",
    "        label=labels[i],\n",
    "        s=50, alpha=0.7\n",
    "    )\n",
    "\n",
    "plt.title('tSNE plot Mario chunks in VAE latent space')\n",
    "\n",
    "plt.legend()\n",
    "# plt.savefig('tSNE plot Mario chunks in VAE latent space.png')\n",
    "plt.show()"
   ]
  },
  {
   "cell_type": "markdown",
   "metadata": {},
   "source": []
  }
 ],
 "metadata": {
  "accelerator": "GPU",
  "colab": {
   "collapsed_sections": [],
   "include_colab_link": true,
   "name": "GMVAE_Pytorch.ipynb",
   "provenance": []
  },
  "kernelspec": {
   "display_name": "Python 3",
   "language": "python",
   "name": "python3"
  },
  "language_info": {
   "codemirror_mode": {
    "name": "ipython",
    "version": 3
   },
   "file_extension": ".py",
   "mimetype": "text/x-python",
   "name": "python",
   "nbconvert_exporter": "python",
   "pygments_lexer": "ipython3",
   "version": "3.7.6"
  },
  "toc": {
   "base_numbering": 1,
   "nav_menu": {},
   "number_sections": false,
   "sideBar": true,
   "skip_h1_title": false,
   "title_cell": "Table of Contents",
   "title_sidebar": "Contents",
   "toc_cell": false,
   "toc_position": {},
   "toc_section_display": true,
   "toc_window_display": false
  },
  "varInspector": {
   "cols": {
    "lenName": 16,
    "lenType": 16,
    "lenVar": 40
   },
   "kernels_config": {
    "python": {
     "delete_cmd_postfix": "",
     "delete_cmd_prefix": "del ",
     "library": "var_list.py",
     "varRefreshCmd": "print(var_dic_list())"
    },
    "r": {
     "delete_cmd_postfix": ") ",
     "delete_cmd_prefix": "rm(",
     "library": "var_list.r",
     "varRefreshCmd": "cat(var_dic_list()) "
    }
   },
   "types_to_exclude": [
    "module",
    "function",
    "builtin_function_or_method",
    "instance",
    "_Feature"
   ],
   "window_display": false
  }
 },
 "nbformat": 4,
 "nbformat_minor": 1
}
