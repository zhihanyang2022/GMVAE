{
 "cells": [
  {
   "cell_type": "markdown",
   "metadata": {},
   "source": [
    "# GM-VAE for SMBA"
   ]
  },
  {
   "cell_type": "code",
   "execution_count": 2,
   "metadata": {},
   "outputs": [],
   "source": [
    "num_components=4"
   ]
  },
  {
   "cell_type": "markdown",
   "metadata": {
    "colab_type": "text",
    "id": "rGzTb0oswH5J"
   },
   "source": [
    "## Import Libraries"
   ]
  },
  {
   "cell_type": "code",
   "execution_count": 3,
   "metadata": {
    "colab": {},
    "colab_type": "code",
    "id": "ThVeaB3CwI4j"
   },
   "outputs": [],
   "source": [
    "import json\n",
    "\n",
    "import numpy as np\n",
    "import argparse\n",
    "import random\n",
    "from torchvision import datasets, transforms\n",
    "from torch.utils.data.sampler import SubsetRandomSampler\n",
    "import torch.utils.data\n",
    "from scipy.io import loadmat\n",
    "\n",
    "import sys\n",
    "sys.path.append('/home/yangz2/projects/gmvae_and_gmmvae/pytorch/')\n",
    "sys.path.append('../../1906-pcgml/pcgml-gmmVae-exp/modules/')\n",
    "\n",
    "import vglc_with_path_encodings\n",
    "\n",
    "sys.path.append('../experiments')\n",
    "import smba_gmprior_effect_on_rec\n",
    "\n",
    "from model.GMVAE import *\n",
    "import matplotlib.pyplot as plt\n",
    "import seaborn as sns\n",
    "%matplotlib inline\n",
    "\n",
    "import warnings\n",
    "warnings.filterwarnings('ignore')"
   ]
  },
  {
   "cell_type": "markdown",
   "metadata": {},
   "source": [
    "## Load data"
   ]
  },
  {
   "cell_type": "code",
   "execution_count": 4,
   "metadata": {},
   "outputs": [],
   "source": [
    "def open_json_as_nparray(json_fname):\n",
    "    with open(json_fname, 'r') as json_f:\n",
    "        return np.array(json.load(json_f))"
   ]
  },
  {
   "cell_type": "markdown",
   "metadata": {},
   "source": [
    "Load SMB."
   ]
  },
  {
   "cell_type": "code",
   "execution_count": 5,
   "metadata": {},
   "outputs": [],
   "source": [
    "smb_int = open_json_as_nparray('smbWithPath-allLevels-chunks-int.json')"
   ]
  },
  {
   "cell_type": "code",
   "execution_count": 6,
   "metadata": {},
   "outputs": [
    {
     "data": {
      "text/plain": [
       "(2698, 16, 16, 12)"
      ]
     },
     "execution_count": 6,
     "metadata": {},
     "output_type": "execute_result"
    }
   ],
   "source": [
    "smb_onehot = np.eye(len(np.unique(smb_int)))[smb_int]\n",
    "smb_onehot.shape"
   ]
  },
  {
   "cell_type": "code",
   "execution_count": 7,
   "metadata": {},
   "outputs": [
    {
     "data": {
      "text/plain": [
       "(2698, 3072)"
      ]
     },
     "execution_count": 7,
     "metadata": {},
     "output_type": "execute_result"
    }
   ],
   "source": [
    "smb_onehot = smb_onehot.reshape(\n",
    "    smb_onehot.shape[0], \n",
    "    smb_onehot.shape[1] * smb_onehot.shape[2] * smb_onehot.shape[3]\n",
    ")\n",
    "smb_onehot.shape"
   ]
  },
  {
   "cell_type": "code",
   "execution_count": 8,
   "metadata": {},
   "outputs": [
    {
     "data": {
      "text/plain": [
       "((2698,), array([2, 3, 0, 2, 2, 3, 0, 0, 2, 1, 2, 2, 2, 2, 3, 0, 3, 3, 3, 2]))"
      ]
     },
     "execution_count": 8,
     "metadata": {},
     "output_type": "execute_result"
    }
   ],
   "source": [
    "np.random.seed(42)\n",
    "smb_labels = np.random.randint(num_components, size=smb_onehot.shape[0])\n",
    "smb_labels.shape, smb_labels[:20]"
   ]
  },
  {
   "cell_type": "code",
   "execution_count": 9,
   "metadata": {},
   "outputs": [],
   "source": [
    "chunks, labels = smb_onehot, smb_labels"
   ]
  },
  {
   "cell_type": "code",
   "execution_count": 10,
   "metadata": {},
   "outputs": [
    {
     "data": {
      "image/png": "[encoded data removed]",
      "text/plain": [
       "<Figure size 432x288 with 1 Axes>"
      ]
     },
     "metadata": {
      "needs_background": "light"
     },
     "output_type": "display_data"
    }
   ],
   "source": [
    "plt.bar(np.arange(num_components), np.bincount(smb_labels))\n",
    "plt.show()"
   ]
  },
  {
   "cell_type": "markdown",
   "metadata": {
    "colab_type": "text",
    "id": "3QNKItMHwQU2"
   },
   "source": [
    "## Input Parameters"
   ]
  },
  {
   "cell_type": "code",
   "execution_count": 11,
   "metadata": {
    "colab": {},
    "colab_type": "code",
    "id": "8tBHkTQ4wVIG"
   },
   "outputs": [],
   "source": [
    "########################################################\n",
    "## Input Parameters\n",
    "#########################################################\n",
    "parser = argparse.ArgumentParser(description='PyTorch Implementation of DGM Clustering')\n",
    "\n",
    "## Used only in notebooks\n",
    "parser.add_argument('-f', '--file',\n",
    "                    help='Path for input file. First line should contain number of lines to search in')\n",
    "\n",
    "## Dataset\n",
    "parser.add_argument('--dataset', type=str, choices=['mnist'],\n",
    "                    default='mnist', help='dataset (default: mnist)')\n",
    "parser.add_argument('--seed', type=int, default=1, help='random seed (default: 1)')\n",
    "\n",
    "## GPU\n",
    "parser.add_argument('--cuda', type=int, default=1,\n",
    "                    help='use of cuda (default: 1)')\n",
    "parser.add_argument('--gpuID', type=int, default=0,\n",
    "                    help='set gpu id to use (default: 0)')\n",
    "\n",
    "## Training\n",
    "parser.add_argument('--epochs', type=int, default=100,\n",
    "                    help='number of total epochs to run (default: 200)')\n",
    "parser.add_argument('--batch_size', default=64, type=int,\n",
    "                    help='mini-batch size (default: 64)')\n",
    "parser.add_argument('--batch_size_val', default=200, type=int,\n",
    "                    help='mini-batch size of validation (default: 200)')\n",
    "parser.add_argument('--learning_rate', default=1e-3, type=float,\n",
    "                    help='learning rate (default: 0.001)')\n",
    "parser.add_argument('--decay_epoch', default=-1, type=int, \n",
    "                    help='Reduces the learning rate every decay_epoch')\n",
    "parser.add_argument('--lr_decay', default=0.5, type=float,\n",
    "                    help='Learning rate decay for training (default: 0.5)')\n",
    "\n",
    "## Architecture\n",
    "parser.add_argument('--num_classes', type=int, default=num_components,\n",
    "                    help='number of classes (default: 10)')  # edited for this task\n",
    "parser.add_argument('--gaussian_size', default=64, type=int,\n",
    "                    help='gaussian size (default: 64)')\n",
    "parser.add_argument('--input_size', default=3072, type=int,\n",
    "                    help='input size (default: 784)')  # edited for this task\n",
    "\n",
    "## Partition parameters\n",
    "parser.add_argument('--train_proportion', default=0.9, type=float,\n",
    "                    help='proportion of examples to consider for training only (default: 1.0)')\n",
    "\n",
    "## Gumbel parameters\n",
    "parser.add_argument('--init_temp', default=1.0, type=float,\n",
    "                    help='Initial temperature used in gumbel-softmax (recommended 0.5-1.0, default:1.0)')\n",
    "parser.add_argument('--decay_temp', default=1, type=int, \n",
    "                    help='Set 1 to decay gumbel temperature at every epoch (default: 1)')\n",
    "parser.add_argument('--hard_gumbel', default=0, type=int, \n",
    "                    help='Set 1 to use the hard version of gumbel-softmax (default: 1)')\n",
    "parser.add_argument('--min_temp', default=0.5, type=float, \n",
    "                    help='Minimum temperature of gumbel-softmax after annealing (default: 0.5)' )\n",
    "parser.add_argument('--decay_temp_rate', default=0.013862944, type=float,\n",
    "                    help='Temperature decay rate at every epoch (default: 0.013862944)')\n",
    "\n",
    "## Loss function parameters\n",
    "parser.add_argument('--w_gauss', default=2, type=float,\n",
    "                    help='weight of gaussian loss (default: 1)')\n",
    "parser.add_argument('--w_categ', default=1, type=float,\n",
    "                    help='weight of categorical loss (default: 1)')\n",
    "parser.add_argument('--w_rec', default=1, type=float,\n",
    "                    help='weight of reconstruction loss (default: 1)')\n",
    "parser.add_argument('--rec_type', type=str, choices=['bce', 'mse'],\n",
    "                    default='bce', help='desired reconstruction loss function (default: bce)')\n",
    "\n",
    "## Others\n",
    "parser.add_argument('--verbose', default=0, type=int,\n",
    "                    help='print extra information at every epoch.(default: 0)')\n",
    "\n",
    "args = parser.parse_args()"
   ]
  },
  {
   "cell_type": "code",
   "execution_count": null,
   "metadata": {},
   "outputs": [],
   "source": []
  },
  {
   "cell_type": "markdown",
   "metadata": {
    "colab_type": "text",
    "id": "Bti6lPHawc9z"
   },
   "source": [
    "Set random seed in case it was specified in the parameters\n"
   ]
  },
  {
   "cell_type": "code",
   "execution_count": 12,
   "metadata": {
    "colab": {},
    "colab_type": "code",
    "id": "IpWPxTy1wgbJ"
   },
   "outputs": [],
   "source": [
    "## Random Seed\n",
    "SEED = args.seed\n",
    "np.random.seed(SEED)\n",
    "random.seed(SEED)\n",
    "torch.manual_seed(SEED)\n",
    "if args.cuda:\n",
    "    torch.cuda.manual_seed(SEED)"
   ]
  },
  {
   "cell_type": "markdown",
   "metadata": {
    "colab_type": "text",
    "id": "fmrkmhttwkiD"
   },
   "source": [
    "## Data Partition"
   ]
  },
  {
   "cell_type": "markdown",
   "metadata": {
    "colab_type": "text",
    "id": "fUuTFMBhb2vZ"
   },
   "source": [
    "We split the training data into train and validation according to the *train_proportion* parameter:"
   ]
  },
  {
   "cell_type": "code",
   "execution_count": 13,
   "metadata": {},
   "outputs": [],
   "source": [
    "from torch.utils.data import TensorDataset, DataLoader"
   ]
  },
  {
   "cell_type": "code",
   "execution_count": 14,
   "metadata": {},
   "outputs": [],
   "source": [
    "assert args.train_proportion != 1"
   ]
  },
  {
   "cell_type": "code",
   "execution_count": 15,
   "metadata": {
    "colab": {},
    "colab_type": "code",
    "id": "P8F6pjC7cNX7"
   },
   "outputs": [],
   "source": [
    "def partition_dataset(n, proportion=1):\n",
    "   train_num = int(n * proportion)\n",
    "   indices = np.random.permutation(n)\n",
    "   train_indices, val_indices = indices[:train_num], indices[train_num:]\n",
    "   return train_indices, val_indices\n",
    "\n",
    "train_indices, val_indices = partition_dataset(len(chunks), args.train_proportion)\n",
    "train_ds = TensorDataset(torch.from_numpy(chunks).float(), torch.from_numpy(labels).long())\n",
    "train_dl = DataLoader(train_ds, batch_size=args.batch_size, sampler=SubsetRandomSampler(train_indices))\n",
    "valid_dl = DataLoader(train_ds, batch_size=args.batch_size_val, sampler=SubsetRandomSampler(val_indices))"
   ]
  },
  {
   "cell_type": "markdown",
   "metadata": {
    "colab_type": "text",
    "id": "Pt7sEfZWw_U7"
   },
   "source": [
    "## Train Model"
   ]
  },
  {
   "cell_type": "code",
   "execution_count": 16,
   "metadata": {
    "colab": {},
    "colab_type": "code",
    "id": "qTncRSCuxFEL"
   },
   "outputs": [],
   "source": [
    "# Model Initialization\n",
    "gmvae = GMVAE(args)"
   ]
  },
  {
   "cell_type": "code",
   "execution_count": 16,
   "metadata": {},
   "outputs": [
    {
     "name": "stdout",
     "output_type": "stream",
     "text": [
      "(Epoch 1 / 100) Train_Loss: 493.635; Val_Loss: 242.492   Train_ACC: 25.865; Val_ACC: 25.926   Train_NMI: 0.038; Val_NMI: 0.158\n",
      "(Epoch 2 / 100) Train_Loss: 230.432; Val_Loss: 229.871   Train_ACC: 26.112; Val_ACC: 25.926   Train_NMI: 0.047; Val_NMI: 0.037\n",
      "(Epoch 3 / 100) Train_Loss: 227.062; Val_Loss: 232.076   Train_ACC: 26.442; Val_ACC: 27.778   Train_NMI: 0.188; Val_NMI: 0.491\n",
      "(Epoch 4 / 100) Train_Loss: 221.114; Val_Loss: 224.159   Train_ACC: 26.689; Val_ACC: 28.148   Train_NMI: 0.264; Val_NMI: 0.435\n",
      "(Epoch 5 / 100) Train_Loss: 214.709; Val_Loss: 215.492   Train_ACC: 26.730; Val_ACC: 27.778   Train_NMI: 0.124; Val_NMI: 0.479\n",
      "(Epoch 6 / 100) Train_Loss: 210.370; Val_Loss: 211.350   Train_ACC: 26.318; Val_ACC: 28.519   Train_NMI: 0.110; Val_NMI: 1.566\n",
      "(Epoch 7 / 100) Train_Loss: 206.069; Val_Loss: 211.052   Train_ACC: 25.700; Val_ACC: 27.037   Train_NMI: 0.133; Val_NMI: 0.226\n",
      "(Epoch 8 / 100) Train_Loss: 202.986; Val_Loss: 204.340   Train_ACC: 25.577; Val_ACC: 28.519   Train_NMI: 0.030; Val_NMI: 0.422\n",
      "(Epoch 9 / 100) Train_Loss: 201.632; Val_Loss: 201.724   Train_ACC: 26.236; Val_ACC: 27.037   Train_NMI: 0.123; Val_NMI: 0.501\n",
      "(Epoch 10 / 100) Train_Loss: 198.674; Val_Loss: 200.162   Train_ACC: 26.359; Val_ACC: 29.259   Train_NMI: 0.142; Val_NMI: 0.806\n",
      "(Epoch 11 / 100) Train_Loss: 196.066; Val_Loss: 199.574   Train_ACC: 26.812; Val_ACC: 28.519   Train_NMI: 0.169; Val_NMI: 0.921\n",
      "(Epoch 12 / 100) Train_Loss: 194.553; Val_Loss: 209.043   Train_ACC: 27.389; Val_ACC: 28.148   Train_NMI: 0.198; Val_NMI: 0.680\n",
      "(Epoch 13 / 100) Train_Loss: 192.406; Val_Loss: 192.346   Train_ACC: 27.142; Val_ACC: 27.407   Train_NMI: 0.147; Val_NMI: 0.376\n",
      "(Epoch 14 / 100) Train_Loss: 190.134; Val_Loss: 197.958   Train_ACC: 27.554; Val_ACC: 28.889   Train_NMI: 0.205; Val_NMI: 0.818\n",
      "(Epoch 15 / 100) Train_Loss: 188.059; Val_Loss: 193.847   Train_ACC: 27.883; Val_ACC: 29.630   Train_NMI: 0.469; Val_NMI: 1.551\n",
      "(Epoch 16 / 100) Train_Loss: 185.400; Val_Loss: 193.654   Train_ACC: 28.089; Val_ACC: 28.519   Train_NMI: 0.380; Val_NMI: 0.668\n",
      "(Epoch 17 / 100) Train_Loss: 182.716; Val_Loss: 183.790   Train_ACC: 27.554; Val_ACC: 29.630   Train_NMI: 0.267; Val_NMI: 1.067\n",
      "(Epoch 18 / 100) Train_Loss: 181.297; Val_Loss: 191.136   Train_ACC: 27.389; Val_ACC: 30.000   Train_NMI: 0.239; Val_NMI: 1.204\n",
      "(Epoch 19 / 100) Train_Loss: 178.654; Val_Loss: 187.017   Train_ACC: 26.565; Val_ACC: 30.370   Train_NMI: 0.158; Val_NMI: 1.349\n",
      "(Epoch 20 / 100) Train_Loss: 177.779; Val_Loss: 187.888   Train_ACC: 26.936; Val_ACC: 28.519   Train_NMI: 0.201; Val_NMI: 1.033\n",
      "(Epoch 21 / 100) Train_Loss: 175.398; Val_Loss: 186.420   Train_ACC: 27.100; Val_ACC: 29.259   Train_NMI: 0.210; Val_NMI: 0.896\n",
      "(Epoch 22 / 100) Train_Loss: 173.450; Val_Loss: 185.943   Train_ACC: 27.512; Val_ACC: 29.259   Train_NMI: 0.295; Val_NMI: 1.314\n",
      "(Epoch 23 / 100) Train_Loss: 172.140; Val_Loss: 181.950   Train_ACC: 26.771; Val_ACC: 27.778   Train_NMI: 0.141; Val_NMI: 1.072\n",
      "(Epoch 24 / 100) Train_Loss: 170.827; Val_Loss: 182.403   Train_ACC: 27.224; Val_ACC: 28.519   Train_NMI: 0.199; Val_NMI: 1.106\n",
      "(Epoch 25 / 100) Train_Loss: 169.028; Val_Loss: 184.669   Train_ACC: 26.606; Val_ACC: 28.889   Train_NMI: 0.195; Val_NMI: 1.393\n",
      "(Epoch 26 / 100) Train_Loss: 168.002; Val_Loss: 180.341   Train_ACC: 27.677; Val_ACC: 29.259   Train_NMI: 0.300; Val_NMI: 1.179\n",
      "(Epoch 27 / 100) Train_Loss: 166.509; Val_Loss: 180.267   Train_ACC: 26.977; Val_ACC: 28.148   Train_NMI: 0.162; Val_NMI: 1.620\n",
      "(Epoch 28 / 100) Train_Loss: 165.231; Val_Loss: 182.806   Train_ACC: 27.265; Val_ACC: 28.889   Train_NMI: 0.273; Val_NMI: 0.850\n",
      "(Epoch 29 / 100) Train_Loss: 164.474; Val_Loss: 178.042   Train_ACC: 26.812; Val_ACC: 28.889   Train_NMI: 0.176; Val_NMI: 0.876\n",
      "(Epoch 30 / 100) Train_Loss: 162.790; Val_Loss: 175.590   Train_ACC: 27.471; Val_ACC: 28.889   Train_NMI: 0.250; Val_NMI: 1.093\n",
      "(Epoch 31 / 100) Train_Loss: 162.126; Val_Loss: 172.712   Train_ACC: 27.595; Val_ACC: 28.889   Train_NMI: 0.242; Val_NMI: 1.497\n",
      "(Epoch 32 / 100) Train_Loss: 159.933; Val_Loss: 173.103   Train_ACC: 27.265; Val_ACC: 28.889   Train_NMI: 0.234; Val_NMI: 1.121\n",
      "(Epoch 33 / 100) Train_Loss: 159.067; Val_Loss: 172.414   Train_ACC: 27.471; Val_ACC: 28.148   Train_NMI: 0.225; Val_NMI: 0.823\n",
      "(Epoch 34 / 100) Train_Loss: 158.169; Val_Loss: 177.100   Train_ACC: 27.142; Val_ACC: 28.148   Train_NMI: 0.198; Val_NMI: 0.805\n",
      "(Epoch 35 / 100) Train_Loss: 157.101; Val_Loss: 172.172   Train_ACC: 27.265; Val_ACC: 28.148   Train_NMI: 0.189; Val_NMI: 0.740\n",
      "(Epoch 36 / 100) Train_Loss: 155.850; Val_Loss: 170.278   Train_ACC: 27.595; Val_ACC: 27.778   Train_NMI: 0.257; Val_NMI: 0.425\n",
      "(Epoch 37 / 100) Train_Loss: 154.996; Val_Loss: 168.570   Train_ACC: 27.018; Val_ACC: 27.778   Train_NMI: 0.142; Val_NMI: 0.587\n",
      "(Epoch 38 / 100) Train_Loss: 154.599; Val_Loss: 169.560   Train_ACC: 26.977; Val_ACC: 28.148   Train_NMI: 0.161; Val_NMI: 0.765\n",
      "(Epoch 39 / 100) Train_Loss: 153.964; Val_Loss: 175.989   Train_ACC: 27.265; Val_ACC: 28.148   Train_NMI: 0.164; Val_NMI: 0.568\n",
      "(Epoch 40 / 100) Train_Loss: 153.232; Val_Loss: 166.751   Train_ACC: 26.318; Val_ACC: 28.519   Train_NMI: 0.150; Val_NMI: 1.418\n",
      "(Epoch 41 / 100) Train_Loss: 151.846; Val_Loss: 166.018   Train_ACC: 27.100; Val_ACC: 28.148   Train_NMI: 0.205; Val_NMI: 0.676\n",
      "(Epoch 42 / 100) Train_Loss: 149.824; Val_Loss: 171.409   Train_ACC: 26.936; Val_ACC: 29.259   Train_NMI: 0.208; Val_NMI: 1.247\n",
      "(Epoch 43 / 100) Train_Loss: 149.476; Val_Loss: 168.265   Train_ACC: 27.265; Val_ACC: 28.519   Train_NMI: 0.199; Val_NMI: 0.664\n",
      "(Epoch 44 / 100) Train_Loss: 148.639; Val_Loss: 167.619   Train_ACC: 27.059; Val_ACC: 27.778   Train_NMI: 0.171; Val_NMI: 0.504\n",
      "(Epoch 45 / 100) Train_Loss: 147.023; Val_Loss: 165.471   Train_ACC: 26.977; Val_ACC: 29.259   Train_NMI: 0.202; Val_NMI: 0.855\n",
      "(Epoch 46 / 100) Train_Loss: 147.176; Val_Loss: 168.204   Train_ACC: 27.595; Val_ACC: 27.407   Train_NMI: 0.307; Val_NMI: 0.632\n",
      "(Epoch 47 / 100) Train_Loss: 146.225; Val_Loss: 164.969   Train_ACC: 27.224; Val_ACC: 29.259   Train_NMI: 0.210; Val_NMI: 0.676\n",
      "(Epoch 48 / 100) Train_Loss: 144.606; Val_Loss: 172.919   Train_ACC: 27.183; Val_ACC: 28.519   Train_NMI: 0.232; Val_NMI: 0.778\n",
      "(Epoch 49 / 100) Train_Loss: 144.934; Val_Loss: 164.180   Train_ACC: 27.059; Val_ACC: 28.148   Train_NMI: 0.202; Val_NMI: 0.934\n",
      "(Epoch 50 / 100) Train_Loss: 144.842; Val_Loss: 160.753   Train_ACC: 27.306; Val_ACC: 30.741   Train_NMI: 0.222; Val_NMI: 1.022\n",
      "(Epoch 51 / 100) Train_Loss: 143.136; Val_Loss: 161.200   Train_ACC: 27.142; Val_ACC: 28.148   Train_NMI: 0.195; Val_NMI: 1.131\n",
      "(Epoch 52 / 100) Train_Loss: 141.631; Val_Loss: 167.416   Train_ACC: 27.389; Val_ACC: 29.630   Train_NMI: 0.181; Val_NMI: 1.093\n",
      "(Epoch 53 / 100) Train_Loss: 140.825; Val_Loss: 160.422   Train_ACC: 27.389; Val_ACC: 28.148   Train_NMI: 0.201; Val_NMI: 0.603\n",
      "(Epoch 54 / 100) Train_Loss: 140.257; Val_Loss: 158.706   Train_ACC: 27.348; Val_ACC: 28.519   Train_NMI: 0.254; Val_NMI: 0.867\n",
      "(Epoch 55 / 100) Train_Loss: 139.713; Val_Loss: 159.945   Train_ACC: 27.018; Val_ACC: 28.148   Train_NMI: 0.198; Val_NMI: 0.741\n",
      "(Epoch 56 / 100) Train_Loss: 138.781; Val_Loss: 158.490   Train_ACC: 27.759; Val_ACC: 28.148   Train_NMI: 0.263; Val_NMI: 0.620\n",
      "(Epoch 57 / 100) Train_Loss: 137.503; Val_Loss: 159.795   Train_ACC: 27.718; Val_ACC: 29.259   Train_NMI: 0.271; Val_NMI: 0.670\n",
      "(Epoch 58 / 100) Train_Loss: 136.675; Val_Loss: 162.622   Train_ACC: 27.636; Val_ACC: 27.407   Train_NMI: 0.298; Val_NMI: 0.598\n",
      "(Epoch 59 / 100) Train_Loss: 136.348; Val_Loss: 159.340   Train_ACC: 27.389; Val_ACC: 28.519   Train_NMI: 0.231; Val_NMI: 0.839\n",
      "(Epoch 60 / 100) Train_Loss: 135.101; Val_Loss: 162.914   Train_ACC: 27.142; Val_ACC: 28.519   Train_NMI: 0.190; Val_NMI: 0.494\n",
      "(Epoch 61 / 100) Train_Loss: 134.411; Val_Loss: 166.390   Train_ACC: 27.842; Val_ACC: 28.148   Train_NMI: 0.301; Val_NMI: 0.529\n",
      "(Epoch 62 / 100) Train_Loss: 133.434; Val_Loss: 167.048   Train_ACC: 27.718; Val_ACC: 28.148   Train_NMI: 0.299; Val_NMI: 0.593\n",
      "(Epoch 63 / 100) Train_Loss: 132.776; Val_Loss: 159.954   Train_ACC: 27.471; Val_ACC: 28.148   Train_NMI: 0.269; Val_NMI: 0.844\n",
      "(Epoch 64 / 100) Train_Loss: 132.175; Val_Loss: 154.838   Train_ACC: 27.471; Val_ACC: 29.259   Train_NMI: 0.214; Val_NMI: 0.926\n",
      "(Epoch 65 / 100) Train_Loss: 131.457; Val_Loss: 163.968   Train_ACC: 27.430; Val_ACC: 29.259   Train_NMI: 0.265; Val_NMI: 1.334\n"
     ]
    },
    {
     "name": "stdout",
     "output_type": "stream",
     "text": [
      "(Epoch 66 / 100) Train_Loss: 130.401; Val_Loss: 162.366   Train_ACC: 27.100; Val_ACC: 28.889   Train_NMI: 0.217; Val_NMI: 0.610\n",
      "(Epoch 67 / 100) Train_Loss: 129.725; Val_Loss: 159.670   Train_ACC: 27.142; Val_ACC: 28.148   Train_NMI: 0.256; Val_NMI: 0.559\n",
      "(Epoch 68 / 100) Train_Loss: 128.824; Val_Loss: 159.695   Train_ACC: 27.512; Val_ACC: 28.889   Train_NMI: 0.262; Val_NMI: 0.819\n",
      "(Epoch 69 / 100) Train_Loss: 128.972; Val_Loss: 159.065   Train_ACC: 27.554; Val_ACC: 28.148   Train_NMI: 0.267; Val_NMI: 0.888\n",
      "(Epoch 70 / 100) Train_Loss: 127.260; Val_Loss: 162.268   Train_ACC: 27.142; Val_ACC: 28.889   Train_NMI: 0.223; Val_NMI: 0.756\n",
      "(Epoch 71 / 100) Train_Loss: 126.371; Val_Loss: 155.480   Train_ACC: 27.595; Val_ACC: 29.259   Train_NMI: 0.259; Val_NMI: 0.927\n",
      "(Epoch 72 / 100) Train_Loss: 125.786; Val_Loss: 155.628   Train_ACC: 27.471; Val_ACC: 28.519   Train_NMI: 0.260; Val_NMI: 0.674\n",
      "(Epoch 73 / 100) Train_Loss: 125.071; Val_Loss: 161.162   Train_ACC: 27.430; Val_ACC: 27.778   Train_NMI: 0.216; Val_NMI: 0.571\n",
      "(Epoch 74 / 100) Train_Loss: 124.421; Val_Loss: 161.978   Train_ACC: 27.348; Val_ACC: 29.259   Train_NMI: 0.225; Val_NMI: 0.880\n",
      "(Epoch 75 / 100) Train_Loss: 123.443; Val_Loss: 167.219   Train_ACC: 27.265; Val_ACC: 29.259   Train_NMI: 0.237; Val_NMI: 0.879\n",
      "(Epoch 76 / 100) Train_Loss: 122.706; Val_Loss: 159.074   Train_ACC: 27.512; Val_ACC: 28.519   Train_NMI: 0.239; Val_NMI: 0.760\n",
      "(Epoch 77 / 100) Train_Loss: 121.656; Val_Loss: 157.773   Train_ACC: 27.059; Val_ACC: 28.889   Train_NMI: 0.186; Val_NMI: 0.778\n",
      "(Epoch 78 / 100) Train_Loss: 121.122; Val_Loss: 161.694   Train_ACC: 27.759; Val_ACC: 28.519   Train_NMI: 0.236; Val_NMI: 0.786\n",
      "(Epoch 79 / 100) Train_Loss: 120.683; Val_Loss: 161.059   Train_ACC: 27.636; Val_ACC: 28.889   Train_NMI: 0.222; Val_NMI: 0.819\n",
      "(Epoch 80 / 100) Train_Loss: 119.787; Val_Loss: 163.131   Train_ACC: 27.306; Val_ACC: 28.889   Train_NMI: 0.215; Val_NMI: 0.878\n",
      "(Epoch 81 / 100) Train_Loss: 118.602; Val_Loss: 163.571   Train_ACC: 27.677; Val_ACC: 29.259   Train_NMI: 0.267; Val_NMI: 0.784\n",
      "(Epoch 82 / 100) Train_Loss: 118.064; Val_Loss: 165.203   Train_ACC: 27.512; Val_ACC: 28.889   Train_NMI: 0.245; Val_NMI: 0.841\n",
      "(Epoch 83 / 100) Train_Loss: 117.885; Val_Loss: 161.479   Train_ACC: 27.306; Val_ACC: 28.889   Train_NMI: 0.187; Val_NMI: 0.862\n",
      "(Epoch 84 / 100) Train_Loss: 116.881; Val_Loss: 158.938   Train_ACC: 27.759; Val_ACC: 28.519   Train_NMI: 0.242; Val_NMI: 0.767\n",
      "(Epoch 85 / 100) Train_Loss: 116.581; Val_Loss: 163.724   Train_ACC: 27.554; Val_ACC: 29.259   Train_NMI: 0.248; Val_NMI: 0.750\n",
      "(Epoch 86 / 100) Train_Loss: 116.230; Val_Loss: 162.390   Train_ACC: 27.389; Val_ACC: 29.259   Train_NMI: 0.262; Val_NMI: 0.823\n",
      "(Epoch 87 / 100) Train_Loss: 115.006; Val_Loss: 163.682   Train_ACC: 27.224; Val_ACC: 30.000   Train_NMI: 0.229; Val_NMI: 1.014\n",
      "(Epoch 88 / 100) Train_Loss: 114.391; Val_Loss: 164.239   Train_ACC: 27.306; Val_ACC: 29.259   Train_NMI: 0.223; Val_NMI: 0.884\n",
      "(Epoch 89 / 100) Train_Loss: 113.559; Val_Loss: 165.854   Train_ACC: 27.801; Val_ACC: 28.519   Train_NMI: 0.227; Val_NMI: 0.775\n",
      "(Epoch 90 / 100) Train_Loss: 112.830; Val_Loss: 167.103   Train_ACC: 27.512; Val_ACC: 28.519   Train_NMI: 0.235; Val_NMI: 0.611\n",
      "(Epoch 91 / 100) Train_Loss: 112.108; Val_Loss: 165.671   Train_ACC: 27.265; Val_ACC: 29.259   Train_NMI: 0.229; Val_NMI: 0.750\n",
      "(Epoch 92 / 100) Train_Loss: 112.340; Val_Loss: 168.577   Train_ACC: 27.183; Val_ACC: 29.259   Train_NMI: 0.172; Val_NMI: 1.022\n",
      "(Epoch 93 / 100) Train_Loss: 111.370; Val_Loss: 171.035   Train_ACC: 27.224; Val_ACC: 29.259   Train_NMI: 0.192; Val_NMI: 1.053\n",
      "(Epoch 94 / 100) Train_Loss: 110.736; Val_Loss: 164.407   Train_ACC: 27.677; Val_ACC: 29.259   Train_NMI: 0.244; Val_NMI: 0.977\n",
      "(Epoch 95 / 100) Train_Loss: 110.452; Val_Loss: 163.753   Train_ACC: 27.554; Val_ACC: 28.519   Train_NMI: 0.249; Val_NMI: 0.878\n",
      "(Epoch 96 / 100) Train_Loss: 109.643; Val_Loss: 163.453   Train_ACC: 27.265; Val_ACC: 28.519   Train_NMI: 0.200; Val_NMI: 0.718\n",
      "(Epoch 97 / 100) Train_Loss: 109.107; Val_Loss: 166.343   Train_ACC: 27.183; Val_ACC: 29.630   Train_NMI: 0.174; Val_NMI: 0.990\n",
      "(Epoch 98 / 100) Train_Loss: 109.025; Val_Loss: 173.887   Train_ACC: 27.554; Val_ACC: 28.519   Train_NMI: 0.210; Val_NMI: 0.775\n",
      "(Epoch 99 / 100) Train_Loss: 108.889; Val_Loss: 165.929   Train_ACC: 27.595; Val_ACC: 29.630   Train_NMI: 0.237; Val_NMI: 0.994\n",
      "(Epoch 100 / 100) Train_Loss: 107.993; Val_Loss: 170.572   Train_ACC: 27.471; Val_ACC: 29.630   Train_NMI: 0.224; Val_NMI: 1.098\n"
     ]
    }
   ],
   "source": [
    "history_loss = gmvae.train(train_dl, valid_dl)"
   ]
  },
  {
   "cell_type": "code",
   "execution_count": 18,
   "metadata": {},
   "outputs": [],
   "source": [
    "smba_gmprior_effect_on_rec.save_history_json(history_loss, num_components)"
   ]
  },
  {
   "cell_type": "code",
   "execution_count": 17,
   "metadata": {},
   "outputs": [],
   "source": [
    "torch.save(gmvae.network.state_dict(), 'smba_gmvae.pth')"
   ]
  },
  {
   "cell_type": "code",
   "execution_count": 17,
   "metadata": {},
   "outputs": [
    {
     "data": {
      "text/plain": [
       "<All keys matched successfully>"
      ]
     },
     "execution_count": 17,
     "metadata": {},
     "output_type": "execute_result"
    }
   ],
   "source": [
    "gmvae.network.load_state_dict(torch.load('smba_gmvae.pth'))"
   ]
  },
  {
   "cell_type": "markdown",
   "metadata": {},
   "source": [
    "## Save means and variances for each learned class"
   ]
  },
  {
   "cell_type": "code",
   "execution_count": 64,
   "metadata": {},
   "outputs": [],
   "source": [
    "def save_mus_and_vars(gmvae, num_components):\n",
    "    \n",
    "    mus_s, logvars_s = [], []\n",
    "\n",
    "    for class_idx in range(num_components):\n",
    "        zeros = torch.Tensor([[0, 0, 0, 0]])\n",
    "        zeros[0][class_idx] = 1\n",
    "        mus = gmvae.network.generative.y_mu(zeros.cuda()).detach().squeeze().cpu().numpy()\n",
    "        logvars = gmvae.network.generative.y_var(zeros.cuda()).detach().squeeze().cpu().numpy()\n",
    "\n",
    "        mus_s.append(mus); logvars_s.append(logvars)\n",
    "\n",
    "    mus_s, vars_s = np.array(mus_s), np.e ** np.array(logvars_s)\n",
    "    \n",
    "    assert mus_s.shape == (num_components, 64) == vars_s.shape\n",
    "    \n",
    "    with open(f'../smba_distance_between_gaussians/smba_{num_components}.json', 'w+') as json_f:\n",
    "        json.dump({'mus_s':mus_s.tolist(), 'vars_s':vars_s.tolist()}, json_f)\n",
    "        \n",
    "    print('Success.')"
   ]
  },
  {
   "cell_type": "code",
   "execution_count": 65,
   "metadata": {},
   "outputs": [
    {
     "name": "stdout",
     "output_type": "stream",
     "text": [
      "Success.\n"
     ]
    }
   ],
   "source": [
    "save_mus_and_vars(gmvae, num_components)"
   ]
  },
  {
   "cell_type": "code",
   "execution_count": 60,
   "metadata": {},
   "outputs": [],
   "source": []
  },
  {
   "cell_type": "markdown",
   "metadata": {
    "colab_type": "text",
    "id": "1bHWNxV-gAl2"
   },
   "source": [
    "## Image Reconstruction"
   ]
  },
  {
   "cell_type": "code",
   "execution_count": 17,
   "metadata": {
    "colab": {
     "base_uri": "https://localhost:8080/",
     "height": 160
    },
    "colab_type": "code",
    "id": "wd5jQFFHgCbD",
    "outputId": "8e1d4654-fb01-49dc-b512-e8e4bb259e0f"
   },
   "outputs": [],
   "source": [
    "original, reconstructed = gmvae.reconstruct_data(train_dl, 15)  "
   ]
  },
  {
   "cell_type": "code",
   "execution_count": 20,
   "metadata": {},
   "outputs": [],
   "source": [
    "original_int = original.reshape(15, 16, 16, 12).argmax(axis=-1)\n",
    "reconstructed_int = reconstructed.reshape(15, 16, 16, 12).argmax(axis=-1)"
   ]
  },
  {
   "cell_type": "code",
   "execution_count": 21,
   "metadata": {},
   "outputs": [],
   "source": [
    "def get_classes(chunks_int):\n",
    "    classes = []\n",
    "    for i in chunks_int:\n",
    "        if i.max() == 6:\n",
    "            classes.append('kia')\n",
    "        else:\n",
    "            classes.append('smba')\n",
    "    return np.array(classes)"
   ]
  },
  {
   "cell_type": "code",
   "execution_count": 22,
   "metadata": {},
   "outputs": [],
   "source": [
    "org_classes = get_classes(original_int)\n",
    "rec_classes = get_classes(reconstructed_int)\n",
    "assert np.sum(org_classes == rec_classes) == len(org_classes)"
   ]
  },
  {
   "cell_type": "code",
   "execution_count": 23,
   "metadata": {},
   "outputs": [],
   "source": [
    "def get_images(chunks_int):\n",
    "    images = []\n",
    "    for game, chunk in zip(get_classes(chunks_int), chunks_int):\n",
    "        images.append(vglc_with_path_encodings.array_to_image([chunk], game=game)[0])\n",
    "    return images"
   ]
  },
  {
   "cell_type": "code",
   "execution_count": 24,
   "metadata": {},
   "outputs": [
    {
     "data": {
      "text/plain": [
       "(15, 15)"
      ]
     },
     "execution_count": 24,
     "metadata": {},
     "output_type": "execute_result"
    }
   ],
   "source": [
    "org_images = get_images(original_int)\n",
    "rec_images = get_images(reconstructed_int)\n",
    "len(org_images), len(rec_images)"
   ]
  },
  {
   "cell_type": "code",
   "execution_count": 25,
   "metadata": {},
   "outputs": [
    {
     "data": {
      "image/png": "[encoded data removed]",
      "text/plain": [
       "<Figure size 1728x576 with 30 Axes>"
      ]
     },
     "metadata": {
      "needs_background": "light"
     },
     "output_type": "display_data"
    }
   ],
   "source": [
    "fig, axes = plt.subplots(nrows=3, ncols=10, figsize=(24, 8))\n",
    "axes = axes.flatten()\n",
    "nrows, ncols = 3, 10\n",
    "\n",
    "org_idxs = np.arange(0, 29, 2)\n",
    "rec_idxs = org_idxs + 1\n",
    "\n",
    "for idx in org_idxs:\n",
    "        \n",
    "    ax = axes[idx]\n",
    "\n",
    "    ax.imshow(np.asarray(org_images[idx // 2]))\n",
    "    ax.set_title(f'Org {idx // 2 + 1}')\n",
    "    \n",
    "    ax.axis('off')\n",
    "\n",
    "for idx in rec_idxs:\n",
    "        \n",
    "    ax = axes[idx]\n",
    "\n",
    "    ax.imshow(np.asarray(rec_images[idx // 2]))\n",
    "    ax.set_title(f'Rec {idx // 2 + 1}')\n",
    "\n",
    "    ax.axis('off')\n",
    "    \n",
    "plt.show()"
   ]
  },
  {
   "cell_type": "markdown",
   "metadata": {
    "colab_type": "text",
    "id": "CAyoGFFRgMgC"
   },
   "source": [
    "## Random Generation per Category"
   ]
  },
  {
   "cell_type": "code",
   "execution_count": 26,
   "metadata": {
    "colab": {
     "base_uri": "https://localhost:8080/",
     "height": 595
    },
    "colab_type": "code",
    "id": "xE84c3U2gLjA",
    "outputId": "cd52f356-e53a-4844-9db2-3723d15ddb00"
   },
   "outputs": [
    {
     "data": {
      "image/png": "[encoded data removed]",
      "text/plain": [
       "<Figure size 1728x1728 with 4 Axes>"
      ]
     },
     "metadata": {
      "needs_background": "light"
     },
     "output_type": "display_data"
    }
   ],
   "source": [
    "def display_random_generation(generated, num_classes, n=10):\n",
    "    plt.figure(figsize=[24,24])\n",
    "    for c in range(num_classes):\n",
    "        for i in range(n):\n",
    "            plt.subplot(num_classes, n, (c * n) + i + 1)\n",
    "            chunk_int = generated[(c * n) + i].reshape(16, 16, 12).argmax(axis=-1)\n",
    "            chunk_pix = vglc_with_path_encodings.array_to_image([chunk_int], game='smba')[0]\n",
    "            plt.imshow(chunk_pix)\n",
    "            plt.gray()\n",
    "            plt.axis('off')\n",
    "    plt.show()\n",
    "\n",
    "elem_per_category = 1\n",
    "generated = gmvae.random_generation(elem_per_category)\n",
    "display_random_generation(generated, args.num_classes, elem_per_category)"
   ]
  },
  {
   "cell_type": "code",
   "execution_count": 27,
   "metadata": {},
   "outputs": [],
   "source": [
    "elem_per_category = 10000 // num_components\n",
    "generated = gmvae.random_generation(elem_per_category)"
   ]
  },
  {
   "cell_type": "code",
   "execution_count": 28,
   "metadata": {},
   "outputs": [],
   "source": [
    "generated_int = generated.reshape(-1, 16, 16, 12).argmax(axis=-1)"
   ]
  },
  {
   "cell_type": "code",
   "execution_count": 29,
   "metadata": {},
   "outputs": [
    {
     "data": {
      "text/plain": [
       "(10000, 16, 16)"
      ]
     },
     "execution_count": 29,
     "metadata": {},
     "output_type": "execute_result"
    }
   ],
   "source": [
    "generated_int.shape"
   ]
  },
  {
   "cell_type": "code",
   "execution_count": 30,
   "metadata": {},
   "outputs": [],
   "source": [
    "# since this code chunk depends on random seed, it shouldn't be run again\n",
    "with open(f'../smba_generations/smba_gmvae_{num_components}.json', 'w+') as json_f:\n",
    "    json.dump(generated_int.tolist(), json_f)"
   ]
  },
  {
   "cell_type": "markdown",
   "metadata": {
    "colab_type": "text",
    "id": "-SbXR7FkhIcq"
   },
   "source": [
    "## Visualization of the feature latent space"
   ]
  },
  {
   "cell_type": "code",
   "execution_count": 17,
   "metadata": {
    "colab": {},
    "colab_type": "code",
    "id": "bTkEBA9JhQ2C"
   },
   "outputs": [
    {
     "data": {
      "text/plain": [
       "(array([669.,   0.,   0., 537.,   0.,   0., 749.,   0.,   0., 473.]),\n",
       " array([0. , 0.3, 0.6, 0.9, 1.2, 1.5, 1.8, 2.1, 2.4, 2.7, 3. ]),\n",
       " <a list of 10 Patch objects>)"
      ]
     },
     "execution_count": 17,
     "metadata": {},
     "output_type": "execute_result"
    },
    {
     "data": {
      "image/png": "[encoded data removed]",
      "text/plain": [
       "<Figure size 432x288 with 1 Axes>"
      ]
     },
     "metadata": {
      "needs_background": "light"
     },
     "output_type": "display_data"
    }
   ],
   "source": [
    "# get feature representations\n",
    "test_features, test_labels = gmvae.latent_features(train_dl, return_learned_labels=True)\n",
    "plt.hist(test_labels)"
   ]
  },
  {
   "cell_type": "code",
   "execution_count": 27,
   "metadata": {
    "colab": {},
    "colab_type": "code",
    "id": "LNmsz5rahZAY"
   },
   "outputs": [],
   "source": [
    "# import TSNE from scikit-learn library\n",
    "from sklearn.manifold import TSNE\n",
    "\n",
    "# reduce dimensionality to 2D, we consider a subset of data because TSNE\n",
    "# is a slow algorithm\n",
    "\n",
    "first_n = 1000\n",
    "tsne_features = TSNE(n_components=2).fit_transform(test_features[:first_n])"
   ]
  },
  {
   "cell_type": "code",
   "execution_count": 28,
   "metadata": {},
   "outputs": [],
   "source": [
    "test_labels_subset = test_labels[:first_n]"
   ]
  },
  {
   "cell_type": "code",
   "execution_count": 29,
   "metadata": {},
   "outputs": [],
   "source": [
    "X_, Y_ = np.s_[:,0], np.s_[:,1]"
   ]
  },
  {
   "cell_type": "code",
   "execution_count": 32,
   "metadata": {
    "colab": {
     "base_uri": "https://localhost:8080/",
     "height": 395
    },
    "colab_type": "code",
    "id": "wyTtDdwyha-L",
    "outputId": "350e806a-6dd3-47f2-bd91-444aaf61b3dd"
   },
   "outputs": [
    {
     "data": {
      "image/png": "[encoded data removed]",
      "text/plain": [
       "<Figure size 360x360 with 1 Axes>"
      ]
     },
     "metadata": {
      "needs_background": "light"
     },
     "output_type": "display_data"
    }
   ],
   "source": [
    "fig = plt.figure(figsize=(5, 5))\n",
    "\n",
    "plt.scatter(tsne_features[X_], tsne_features[Y_], s=1, c=test_labels_subset, cmap='coolwarm')\n",
    "\n",
    "plt.title('Projection from latent space to 2D')\n",
    "plt.show()"
   ]
  },
  {
   "cell_type": "markdown",
   "metadata": {},
   "source": []
  }
 ],
 "metadata": {
  "accelerator": "GPU",
  "colab": {
   "collapsed_sections": [],
   "include_colab_link": true,
   "name": "GMVAE_Pytorch.ipynb",
   "provenance": []
  },
  "kernelspec": {
   "display_name": "Python 3",
   "language": "python",
   "name": "python3"
  },
  "language_info": {
   "codemirror_mode": {
    "name": "ipython",
    "version": 3
   },
   "file_extension": ".py",
   "mimetype": "text/x-python",
   "name": "python",
   "nbconvert_exporter": "python",
   "pygments_lexer": "ipython3",
   "version": "3.7.6"
  },
  "toc": {
   "base_numbering": 1,
   "nav_menu": {},
   "number_sections": false,
   "sideBar": true,
   "skip_h1_title": false,
   "title_cell": "Table of Contents",
   "title_sidebar": "Contents",
   "toc_cell": false,
   "toc_position": {},
   "toc_section_display": true,
   "toc_window_display": false
  },
  "varInspector": {
   "cols": {
    "lenName": 16,
    "lenType": 16,
    "lenVar": 40
   },
   "kernels_config": {
    "python": {
     "delete_cmd_postfix": "",
     "delete_cmd_prefix": "del ",
     "library": "var_list.py",
     "varRefreshCmd": "print(var_dic_list())"
    },
    "r": {
     "delete_cmd_postfix": ") ",
     "delete_cmd_prefix": "rm(",
     "library": "var_list.r",
     "varRefreshCmd": "cat(var_dic_list()) "
    }
   },
   "types_to_exclude": [
    "module",
    "function",
    "builtin_function_or_method",
    "instance",
    "_Feature"
   ],
   "window_display": false
  }
 },
 "nbformat": 4,
 "nbformat_minor": 1
}
