{
 "cells": [
  {
   "cell_type": "markdown",
   "metadata": {},
   "source": [
    "# GM-VAE for SMBA"
   ]
  },
  {
   "cell_type": "code",
   "execution_count": 1,
   "metadata": {},
   "outputs": [],
   "source": [
    "num_components=6"
   ]
  },
  {
   "cell_type": "markdown",
   "metadata": {
    "colab_type": "text",
    "id": "rGzTb0oswH5J"
   },
   "source": [
    "## Import Libraries"
   ]
  },
  {
   "cell_type": "code",
   "execution_count": 5,
   "metadata": {
    "colab": {},
    "colab_type": "code",
    "id": "ThVeaB3CwI4j"
   },
   "outputs": [],
   "source": [
    "import json\n",
    "\n",
    "import numpy as np\n",
    "import argparse\n",
    "import random\n",
    "from torchvision import datasets, transforms\n",
    "from torch.utils.data.sampler import SubsetRandomSampler\n",
    "import torch.utils.data\n",
    "from scipy.io import loadmat\n",
    "\n",
    "import sys\n",
    "sys.path.append('/home/yangz2/projects/gmvae_and_gmmvae/pytorch/')\n",
    "sys.path.append('../../1906-pcgml/pcgml-gmmVae-exp/modules/')\n",
    "import vglc_with_path_encodings\n",
    "\n",
    "from model.GMVAE import *\n",
    "import matplotlib.pyplot as plt\n",
    "import seaborn as sns\n",
    "%matplotlib inline\n",
    "\n",
    "import warnings\n",
    "warnings.filterwarnings('ignore')"
   ]
  },
  {
   "cell_type": "markdown",
   "metadata": {},
   "source": [
    "## Load data"
   ]
  },
  {
   "cell_type": "code",
   "execution_count": 6,
   "metadata": {},
   "outputs": [],
   "source": [
    "def open_json_as_nparray(json_fname):\n",
    "    with open(json_fname, 'r') as json_f:\n",
    "        return np.array(json.load(json_f))"
   ]
  },
  {
   "cell_type": "markdown",
   "metadata": {},
   "source": [
    "Load SMB."
   ]
  },
  {
   "cell_type": "code",
   "execution_count": 7,
   "metadata": {},
   "outputs": [],
   "source": [
    "smb_int = open_json_as_nparray('smbWithPath-allLevels-chunks-int.json')"
   ]
  },
  {
   "cell_type": "code",
   "execution_count": 8,
   "metadata": {},
   "outputs": [
    {
     "data": {
      "text/plain": [
       "(2698, 16, 16, 12)"
      ]
     },
     "execution_count": 8,
     "metadata": {},
     "output_type": "execute_result"
    }
   ],
   "source": [
    "smb_onehot = np.eye(len(np.unique(smb_int)))[smb_int]\n",
    "smb_onehot.shape"
   ]
  },
  {
   "cell_type": "code",
   "execution_count": 9,
   "metadata": {},
   "outputs": [
    {
     "data": {
      "text/plain": [
       "(2698, 3072)"
      ]
     },
     "execution_count": 9,
     "metadata": {},
     "output_type": "execute_result"
    }
   ],
   "source": [
    "smb_onehot = smb_onehot.reshape(\n",
    "    smb_onehot.shape[0], \n",
    "    smb_onehot.shape[1] * smb_onehot.shape[2] * smb_onehot.shape[3]\n",
    ")\n",
    "smb_onehot.shape"
   ]
  },
  {
   "cell_type": "code",
   "execution_count": 10,
   "metadata": {},
   "outputs": [
    {
     "data": {
      "text/plain": [
       "((2698,), array([3, 4, 2, 4, 4, 1, 2, 2, 2, 4, 3, 2, 5, 4, 1, 3, 5, 5, 1, 3]))"
      ]
     },
     "execution_count": 10,
     "metadata": {},
     "output_type": "execute_result"
    }
   ],
   "source": [
    "np.random.seed(42)\n",
    "smb_labels = np.random.randint(num_components, size=smb_onehot.shape[0])\n",
    "smb_labels.shape, smb_labels[:20]"
   ]
  },
  {
   "cell_type": "code",
   "execution_count": 11,
   "metadata": {},
   "outputs": [],
   "source": [
    "chunks, labels = smb_onehot, smb_labels"
   ]
  },
  {
   "cell_type": "code",
   "execution_count": 12,
   "metadata": {},
   "outputs": [
    {
     "data": {
      "image/png": "[encoded data removed]",
      "text/plain": [
       "<Figure size 432x288 with 1 Axes>"
      ]
     },
     "metadata": {
      "needs_background": "light"
     },
     "output_type": "display_data"
    }
   ],
   "source": [
    "plt.bar(np.arange(num_components), np.bincount(smb_labels))\n",
    "plt.show()"
   ]
  },
  {
   "cell_type": "markdown",
   "metadata": {
    "colab_type": "text",
    "id": "3QNKItMHwQU2"
   },
   "source": [
    "## Input Parameters"
   ]
  },
  {
   "cell_type": "code",
   "execution_count": 13,
   "metadata": {
    "colab": {},
    "colab_type": "code",
    "id": "8tBHkTQ4wVIG"
   },
   "outputs": [],
   "source": [
    "########################################################\n",
    "## Input Parameters\n",
    "#########################################################\n",
    "parser = argparse.ArgumentParser(description='PyTorch Implementation of DGM Clustering')\n",
    "\n",
    "## Used only in notebooks\n",
    "parser.add_argument('-f', '--file',\n",
    "                    help='Path for input file. First line should contain number of lines to search in')\n",
    "\n",
    "## Dataset\n",
    "parser.add_argument('--dataset', type=str, choices=['mnist'],\n",
    "                    default='mnist', help='dataset (default: mnist)')\n",
    "parser.add_argument('--seed', type=int, default=1, help='random seed (default: 1)')\n",
    "\n",
    "## GPU\n",
    "parser.add_argument('--cuda', type=int, default=1,\n",
    "                    help='use of cuda (default: 1)')\n",
    "parser.add_argument('--gpuID', type=int, default=0,\n",
    "                    help='set gpu id to use (default: 0)')\n",
    "\n",
    "## Training\n",
    "parser.add_argument('--epochs', type=int, default=100,\n",
    "                    help='number of total epochs to run (default: 200)')\n",
    "parser.add_argument('--batch_size', default=64, type=int,\n",
    "                    help='mini-batch size (default: 64)')\n",
    "parser.add_argument('--batch_size_val', default=200, type=int,\n",
    "                    help='mini-batch size of validation (default: 200)')\n",
    "parser.add_argument('--learning_rate', default=1e-3, type=float,\n",
    "                    help='learning rate (default: 0.001)')\n",
    "parser.add_argument('--decay_epoch', default=-1, type=int, \n",
    "                    help='Reduces the learning rate every decay_epoch')\n",
    "parser.add_argument('--lr_decay', default=0.5, type=float,\n",
    "                    help='Learning rate decay for training (default: 0.5)')\n",
    "\n",
    "## Architecture\n",
    "parser.add_argument('--num_classes', type=int, default=num_components,\n",
    "                    help='number of classes (default: 10)')  # edited for this task\n",
    "parser.add_argument('--gaussian_size', default=64, type=int,\n",
    "                    help='gaussian size (default: 64)')\n",
    "parser.add_argument('--input_size', default=3072, type=int,\n",
    "                    help='input size (default: 784)')  # edited for this task\n",
    "\n",
    "## Partition parameters\n",
    "parser.add_argument('--train_proportion', default=0.9, type=float,\n",
    "                    help='proportion of examples to consider for training only (default: 1.0)')\n",
    "\n",
    "## Gumbel parameters\n",
    "parser.add_argument('--init_temp', default=1.0, type=float,\n",
    "                    help='Initial temperature used in gumbel-softmax (recommended 0.5-1.0, default:1.0)')\n",
    "parser.add_argument('--decay_temp', default=1, type=int, \n",
    "                    help='Set 1 to decay gumbel temperature at every epoch (default: 1)')\n",
    "parser.add_argument('--hard_gumbel', default=0, type=int, \n",
    "                    help='Set 1 to use the hard version of gumbel-softmax (default: 1)')\n",
    "parser.add_argument('--min_temp', default=0.5, type=float, \n",
    "                    help='Minimum temperature of gumbel-softmax after annealing (default: 0.5)' )\n",
    "parser.add_argument('--decay_temp_rate', default=0.013862944, type=float,\n",
    "                    help='Temperature decay rate at every epoch (default: 0.013862944)')\n",
    "\n",
    "## Loss function parameters\n",
    "parser.add_argument('--w_gauss', default=2, type=float,\n",
    "                    help='weight of gaussian loss (default: 1)')\n",
    "parser.add_argument('--w_categ', default=1, type=float,\n",
    "                    help='weight of categorical loss (default: 1)')\n",
    "parser.add_argument('--w_rec', default=1, type=float,\n",
    "                    help='weight of reconstruction loss (default: 1)')\n",
    "parser.add_argument('--rec_type', type=str, choices=['bce', 'mse'],\n",
    "                    default='bce', help='desired reconstruction loss function (default: bce)')\n",
    "\n",
    "## Others\n",
    "parser.add_argument('--verbose', default=0, type=int,\n",
    "                    help='print extra information at every epoch.(default: 0)')\n",
    "\n",
    "args = parser.parse_args()"
   ]
  },
  {
   "cell_type": "markdown",
   "metadata": {
    "colab_type": "text",
    "id": "Bti6lPHawc9z"
   },
   "source": [
    "Set random seed in case it was specified in the parameters\n"
   ]
  },
  {
   "cell_type": "code",
   "execution_count": 14,
   "metadata": {
    "colab": {},
    "colab_type": "code",
    "id": "IpWPxTy1wgbJ"
   },
   "outputs": [],
   "source": [
    "## Random Seed\n",
    "SEED = args.seed\n",
    "np.random.seed(SEED)\n",
    "random.seed(SEED)\n",
    "torch.manual_seed(SEED)\n",
    "if args.cuda:\n",
    "    torch.cuda.manual_seed(SEED)"
   ]
  },
  {
   "cell_type": "markdown",
   "metadata": {
    "colab_type": "text",
    "id": "fmrkmhttwkiD"
   },
   "source": [
    "## Data Partition"
   ]
  },
  {
   "cell_type": "markdown",
   "metadata": {
    "colab_type": "text",
    "id": "fUuTFMBhb2vZ"
   },
   "source": [
    "We split the training data into train and validation according to the *train_proportion* parameter:"
   ]
  },
  {
   "cell_type": "code",
   "execution_count": 15,
   "metadata": {},
   "outputs": [],
   "source": [
    "from torch.utils.data import TensorDataset, DataLoader"
   ]
  },
  {
   "cell_type": "code",
   "execution_count": 16,
   "metadata": {},
   "outputs": [],
   "source": [
    "assert args.train_proportion != 1"
   ]
  },
  {
   "cell_type": "code",
   "execution_count": 17,
   "metadata": {
    "colab": {},
    "colab_type": "code",
    "id": "P8F6pjC7cNX7"
   },
   "outputs": [],
   "source": [
    "def partition_dataset(n, proportion=1):\n",
    "   train_num = int(n * proportion)\n",
    "   indices = np.random.permutation(n)\n",
    "   train_indices, val_indices = indices[:train_num], indices[train_num:]\n",
    "   return train_indices, val_indices\n",
    "\n",
    "train_indices, val_indices = partition_dataset(len(chunks), args.train_proportion)\n",
    "train_ds = TensorDataset(torch.from_numpy(chunks).float(), torch.from_numpy(labels).long())\n",
    "train_dl = DataLoader(train_ds, batch_size=args.batch_size, sampler=SubsetRandomSampler(train_indices))\n",
    "valid_dl = DataLoader(train_ds, batch_size=args.batch_size_val, sampler=SubsetRandomSampler(val_indices))"
   ]
  },
  {
   "cell_type": "markdown",
   "metadata": {
    "colab_type": "text",
    "id": "Pt7sEfZWw_U7"
   },
   "source": [
    "## Train Model"
   ]
  },
  {
   "cell_type": "code",
   "execution_count": 18,
   "metadata": {
    "colab": {},
    "colab_type": "code",
    "id": "qTncRSCuxFEL"
   },
   "outputs": [],
   "source": [
    "# Model Initialization\n",
    "gmvae = GMVAE(args)"
   ]
  },
  {
   "cell_type": "code",
   "execution_count": 16,
   "metadata": {},
   "outputs": [
    {
     "name": "stdout",
     "output_type": "stream",
     "text": [
      "(Epoch 1 / 100) Train_Loss: 491.536; Val_Loss: 238.306   Train_ACC: 18.410; Val_ACC: 22.222   Train_NMI: 0.262; Val_NMI: 0.935\n",
      "(Epoch 2 / 100) Train_Loss: 229.958; Val_Loss: 234.162   Train_ACC: 18.410; Val_ACC: 21.111   Train_NMI: 0.188; Val_NMI: 0.837\n",
      "(Epoch 3 / 100) Train_Loss: 227.006; Val_Loss: 229.272   Train_ACC: 18.699; Val_ACC: 20.741   Train_NMI: 0.252; Val_NMI: 1.531\n",
      "(Epoch 4 / 100) Train_Loss: 223.804; Val_Loss: 222.221   Train_ACC: 18.493; Val_ACC: 20.370   Train_NMI: 0.296; Val_NMI: 1.064\n",
      "(Epoch 5 / 100) Train_Loss: 216.600; Val_Loss: 215.216   Train_ACC: 18.451; Val_ACC: 21.481   Train_NMI: 0.301; Val_NMI: 3.301\n",
      "(Epoch 6 / 100) Train_Loss: 212.550; Val_Loss: 210.391   Train_ACC: 18.410; Val_ACC: 20.741   Train_NMI: 0.400; Val_NMI: 1.349\n",
      "(Epoch 7 / 100) Train_Loss: 208.580; Val_Loss: 204.247   Train_ACC: 18.163; Val_ACC: 20.741   Train_NMI: 0.478; Val_NMI: 1.652\n",
      "(Epoch 8 / 100) Train_Loss: 204.508; Val_Loss: 214.582   Train_ACC: 19.069; Val_ACC: 25.185   Train_NMI: 0.402; Val_NMI: 2.199\n",
      "(Epoch 9 / 100) Train_Loss: 202.051; Val_Loss: 208.720   Train_ACC: 18.493; Val_ACC: 23.704   Train_NMI: 0.341; Val_NMI: 1.848\n",
      "(Epoch 10 / 100) Train_Loss: 199.529; Val_Loss: 204.553   Train_ACC: 18.369; Val_ACC: 25.556   Train_NMI: 0.452; Val_NMI: 3.493\n",
      "(Epoch 11 / 100) Train_Loss: 196.547; Val_Loss: 206.366   Train_ACC: 18.575; Val_ACC: 24.444   Train_NMI: 0.398; Val_NMI: 1.992\n",
      "(Epoch 12 / 100) Train_Loss: 195.992; Val_Loss: 200.637   Train_ACC: 18.657; Val_ACC: 23.704   Train_NMI: 0.442; Val_NMI: 3.665\n",
      "(Epoch 13 / 100) Train_Loss: 192.672; Val_Loss: 197.844   Train_ACC: 18.493; Val_ACC: 22.593   Train_NMI: 0.334; Val_NMI: 2.372\n",
      "(Epoch 14 / 100) Train_Loss: 190.035; Val_Loss: 198.290   Train_ACC: 19.399; Val_ACC: 22.593   Train_NMI: 0.499; Val_NMI: 3.497\n",
      "(Epoch 15 / 100) Train_Loss: 187.924; Val_Loss: 190.698   Train_ACC: 18.493; Val_ACC: 22.963   Train_NMI: 0.509; Val_NMI: 3.550\n",
      "(Epoch 16 / 100) Train_Loss: 185.898; Val_Loss: 194.066   Train_ACC: 18.616; Val_ACC: 22.593   Train_NMI: 0.332; Val_NMI: 3.174\n",
      "(Epoch 17 / 100) Train_Loss: 182.911; Val_Loss: 190.338   Train_ACC: 18.987; Val_ACC: 24.444   Train_NMI: 0.431; Val_NMI: 4.378\n",
      "(Epoch 18 / 100) Train_Loss: 181.461; Val_Loss: 188.533   Train_ACC: 18.822; Val_ACC: 22.222   Train_NMI: 0.462; Val_NMI: 3.943\n",
      "(Epoch 19 / 100) Train_Loss: 178.359; Val_Loss: 192.324   Train_ACC: 19.069; Val_ACC: 24.074   Train_NMI: 0.514; Val_NMI: 3.540\n",
      "(Epoch 20 / 100) Train_Loss: 175.966; Val_Loss: 183.832   Train_ACC: 18.740; Val_ACC: 22.593   Train_NMI: 0.397; Val_NMI: 3.167\n",
      "(Epoch 21 / 100) Train_Loss: 173.995; Val_Loss: 182.645   Train_ACC: 19.152; Val_ACC: 22.222   Train_NMI: 0.500; Val_NMI: 3.901\n",
      "(Epoch 22 / 100) Train_Loss: 172.059; Val_Loss: 184.066   Train_ACC: 18.863; Val_ACC: 22.963   Train_NMI: 0.408; Val_NMI: 3.258\n",
      "(Epoch 23 / 100) Train_Loss: 170.735; Val_Loss: 176.144   Train_ACC: 19.605; Val_ACC: 24.074   Train_NMI: 0.514; Val_NMI: 4.342\n",
      "(Epoch 24 / 100) Train_Loss: 169.100; Val_Loss: 177.861   Train_ACC: 19.028; Val_ACC: 22.963   Train_NMI: 0.464; Val_NMI: 3.621\n",
      "(Epoch 25 / 100) Train_Loss: 167.670; Val_Loss: 176.080   Train_ACC: 19.110; Val_ACC: 22.593   Train_NMI: 0.423; Val_NMI: 2.586\n",
      "(Epoch 26 / 100) Train_Loss: 165.643; Val_Loss: 173.841   Train_ACC: 18.904; Val_ACC: 22.963   Train_NMI: 0.364; Val_NMI: 3.047\n",
      "(Epoch 27 / 100) Train_Loss: 164.414; Val_Loss: 176.731   Train_ACC: 19.193; Val_ACC: 23.333   Train_NMI: 0.421; Val_NMI: 2.704\n",
      "(Epoch 28 / 100) Train_Loss: 162.647; Val_Loss: 172.906   Train_ACC: 19.069; Val_ACC: 24.444   Train_NMI: 0.376; Val_NMI: 4.373\n",
      "(Epoch 29 / 100) Train_Loss: 161.718; Val_Loss: 173.312   Train_ACC: 19.028; Val_ACC: 22.593   Train_NMI: 0.379; Val_NMI: 2.733\n",
      "(Epoch 30 / 100) Train_Loss: 160.336; Val_Loss: 175.056   Train_ACC: 19.028; Val_ACC: 23.333   Train_NMI: 0.308; Val_NMI: 2.920\n",
      "(Epoch 31 / 100) Train_Loss: 159.443; Val_Loss: 174.662   Train_ACC: 18.946; Val_ACC: 22.593   Train_NMI: 0.399; Val_NMI: 2.424\n",
      "(Epoch 32 / 100) Train_Loss: 158.395; Val_Loss: 171.736   Train_ACC: 19.069; Val_ACC: 22.593   Train_NMI: 0.370; Val_NMI: 2.704\n",
      "(Epoch 33 / 100) Train_Loss: 157.039; Val_Loss: 166.809   Train_ACC: 18.781; Val_ACC: 22.222   Train_NMI: 0.375; Val_NMI: 3.609\n",
      "(Epoch 34 / 100) Train_Loss: 156.264; Val_Loss: 171.634   Train_ACC: 18.946; Val_ACC: 22.222   Train_NMI: 0.349; Val_NMI: 2.989\n",
      "(Epoch 35 / 100) Train_Loss: 155.680; Val_Loss: 165.783   Train_ACC: 18.699; Val_ACC: 22.963   Train_NMI: 0.347; Val_NMI: 3.071\n",
      "(Epoch 36 / 100) Train_Loss: 154.908; Val_Loss: 166.614   Train_ACC: 18.822; Val_ACC: 23.704   Train_NMI: 0.364; Val_NMI: 3.525\n",
      "(Epoch 37 / 100) Train_Loss: 153.670; Val_Loss: 167.204   Train_ACC: 18.740; Val_ACC: 23.333   Train_NMI: 0.391; Val_NMI: 3.652\n",
      "(Epoch 38 / 100) Train_Loss: 153.518; Val_Loss: 167.965   Train_ACC: 18.863; Val_ACC: 22.963   Train_NMI: 0.376; Val_NMI: 2.933\n",
      "(Epoch 39 / 100) Train_Loss: 152.005; Val_Loss: 167.977   Train_ACC: 19.152; Val_ACC: 22.963   Train_NMI: 0.378; Val_NMI: 2.910\n",
      "(Epoch 40 / 100) Train_Loss: 151.298; Val_Loss: 162.736   Train_ACC: 18.946; Val_ACC: 24.074   Train_NMI: 0.444; Val_NMI: 3.214\n",
      "(Epoch 41 / 100) Train_Loss: 150.059; Val_Loss: 167.341   Train_ACC: 19.069; Val_ACC: 22.593   Train_NMI: 0.368; Val_NMI: 2.889\n",
      "(Epoch 42 / 100) Train_Loss: 149.690; Val_Loss: 167.496   Train_ACC: 19.028; Val_ACC: 22.593   Train_NMI: 0.364; Val_NMI: 2.841\n",
      "(Epoch 43 / 100) Train_Loss: 148.616; Val_Loss: 166.002   Train_ACC: 19.110; Val_ACC: 22.963   Train_NMI: 0.421; Val_NMI: 2.891\n",
      "(Epoch 44 / 100) Train_Loss: 147.605; Val_Loss: 163.164   Train_ACC: 18.616; Val_ACC: 23.333   Train_NMI: 0.269; Val_NMI: 3.753\n",
      "(Epoch 45 / 100) Train_Loss: 146.747; Val_Loss: 162.136   Train_ACC: 18.657; Val_ACC: 23.704   Train_NMI: 0.278; Val_NMI: 3.316\n",
      "(Epoch 46 / 100) Train_Loss: 146.061; Val_Loss: 157.437   Train_ACC: 19.110; Val_ACC: 23.333   Train_NMI: 0.331; Val_NMI: 2.853\n",
      "(Epoch 47 / 100) Train_Loss: 145.817; Val_Loss: 165.520   Train_ACC: 18.616; Val_ACC: 25.556   Train_NMI: 0.265; Val_NMI: 4.346\n",
      "(Epoch 48 / 100) Train_Loss: 144.953; Val_Loss: 164.579   Train_ACC: 18.616; Val_ACC: 24.815   Train_NMI: 0.333; Val_NMI: 3.369\n",
      "(Epoch 49 / 100) Train_Loss: 143.938; Val_Loss: 166.538   Train_ACC: 18.822; Val_ACC: 24.444   Train_NMI: 0.372; Val_NMI: 3.103\n",
      "(Epoch 50 / 100) Train_Loss: 142.856; Val_Loss: 156.690   Train_ACC: 19.193; Val_ACC: 22.963   Train_NMI: 0.383; Val_NMI: 2.687\n",
      "(Epoch 51 / 100) Train_Loss: 142.115; Val_Loss: 161.312   Train_ACC: 18.699; Val_ACC: 23.704   Train_NMI: 0.354; Val_NMI: 2.963\n",
      "(Epoch 52 / 100) Train_Loss: 141.479; Val_Loss: 161.243   Train_ACC: 18.493; Val_ACC: 23.333   Train_NMI: 0.242; Val_NMI: 3.516\n",
      "(Epoch 53 / 100) Train_Loss: 140.536; Val_Loss: 162.259   Train_ACC: 18.616; Val_ACC: 23.333   Train_NMI: 0.275; Val_NMI: 3.338\n",
      "(Epoch 54 / 100) Train_Loss: 139.321; Val_Loss: 161.301   Train_ACC: 18.987; Val_ACC: 24.074   Train_NMI: 0.407; Val_NMI: 3.412\n",
      "(Epoch 55 / 100) Train_Loss: 138.548; Val_Loss: 154.817   Train_ACC: 18.863; Val_ACC: 24.444   Train_NMI: 0.334; Val_NMI: 3.360\n",
      "(Epoch 56 / 100) Train_Loss: 138.078; Val_Loss: 160.034   Train_ACC: 18.740; Val_ACC: 24.444   Train_NMI: 0.329; Val_NMI: 4.293\n",
      "(Epoch 57 / 100) Train_Loss: 136.676; Val_Loss: 160.020   Train_ACC: 19.028; Val_ACC: 24.815   Train_NMI: 0.383; Val_NMI: 3.823\n",
      "(Epoch 58 / 100) Train_Loss: 136.743; Val_Loss: 158.243   Train_ACC: 18.822; Val_ACC: 23.333   Train_NMI: 0.286; Val_NMI: 3.650\n",
      "(Epoch 59 / 100) Train_Loss: 135.306; Val_Loss: 160.191   Train_ACC: 18.946; Val_ACC: 22.963   Train_NMI: 0.328; Val_NMI: 3.633\n",
      "(Epoch 60 / 100) Train_Loss: 134.960; Val_Loss: 161.118   Train_ACC: 18.740; Val_ACC: 22.963   Train_NMI: 0.355; Val_NMI: 3.894\n",
      "(Epoch 61 / 100) Train_Loss: 133.640; Val_Loss: 154.853   Train_ACC: 18.740; Val_ACC: 24.074   Train_NMI: 0.327; Val_NMI: 3.925\n",
      "(Epoch 62 / 100) Train_Loss: 133.812; Val_Loss: 158.210   Train_ACC: 19.028; Val_ACC: 23.704   Train_NMI: 0.397; Val_NMI: 3.747\n",
      "(Epoch 63 / 100) Train_Loss: 133.682; Val_Loss: 160.751   Train_ACC: 19.069; Val_ACC: 22.963   Train_NMI: 0.431; Val_NMI: 3.504\n",
      "(Epoch 64 / 100) Train_Loss: 131.928; Val_Loss: 160.601   Train_ACC: 18.822; Val_ACC: 23.333   Train_NMI: 0.340; Val_NMI: 3.744\n",
      "(Epoch 65 / 100) Train_Loss: 130.445; Val_Loss: 161.584   Train_ACC: 18.575; Val_ACC: 22.963   Train_NMI: 0.306; Val_NMI: 3.382\n"
     ]
    },
    {
     "name": "stdout",
     "output_type": "stream",
     "text": [
      "(Epoch 66 / 100) Train_Loss: 130.492; Val_Loss: 157.475   Train_ACC: 18.493; Val_ACC: 23.704   Train_NMI: 0.275; Val_NMI: 4.097\n",
      "(Epoch 67 / 100) Train_Loss: 129.317; Val_Loss: 160.098   Train_ACC: 18.699; Val_ACC: 22.593   Train_NMI: 0.368; Val_NMI: 3.421\n",
      "(Epoch 68 / 100) Train_Loss: 128.895; Val_Loss: 156.280   Train_ACC: 18.863; Val_ACC: 24.444   Train_NMI: 0.405; Val_NMI: 3.956\n",
      "(Epoch 69 / 100) Train_Loss: 128.176; Val_Loss: 153.532   Train_ACC: 18.657; Val_ACC: 23.333   Train_NMI: 0.327; Val_NMI: 2.830\n",
      "(Epoch 70 / 100) Train_Loss: 127.473; Val_Loss: 162.868   Train_ACC: 19.110; Val_ACC: 23.704   Train_NMI: 0.420; Val_NMI: 2.971\n",
      "(Epoch 71 / 100) Train_Loss: 126.848; Val_Loss: 160.276   Train_ACC: 18.740; Val_ACC: 23.333   Train_NMI: 0.428; Val_NMI: 3.802\n",
      "(Epoch 72 / 100) Train_Loss: 125.882; Val_Loss: 158.601   Train_ACC: 19.110; Val_ACC: 23.333   Train_NMI: 0.429; Val_NMI: 3.178\n",
      "(Epoch 73 / 100) Train_Loss: 125.114; Val_Loss: 160.643   Train_ACC: 19.028; Val_ACC: 23.704   Train_NMI: 0.451; Val_NMI: 3.585\n",
      "(Epoch 74 / 100) Train_Loss: 125.173; Val_Loss: 156.203   Train_ACC: 19.069; Val_ACC: 22.963   Train_NMI: 0.450; Val_NMI: 2.555\n",
      "(Epoch 75 / 100) Train_Loss: 124.608; Val_Loss: 158.397   Train_ACC: 18.987; Val_ACC: 23.704   Train_NMI: 0.385; Val_NMI: 3.553\n",
      "(Epoch 76 / 100) Train_Loss: 123.827; Val_Loss: 163.770   Train_ACC: 18.699; Val_ACC: 23.704   Train_NMI: 0.360; Val_NMI: 3.498\n",
      "(Epoch 77 / 100) Train_Loss: 122.575; Val_Loss: 156.589   Train_ACC: 18.904; Val_ACC: 23.704   Train_NMI: 0.414; Val_NMI: 3.572\n",
      "(Epoch 78 / 100) Train_Loss: 121.583; Val_Loss: 159.688   Train_ACC: 18.699; Val_ACC: 23.333   Train_NMI: 0.338; Val_NMI: 3.559\n",
      "(Epoch 79 / 100) Train_Loss: 121.353; Val_Loss: 158.962   Train_ACC: 18.657; Val_ACC: 22.963   Train_NMI: 0.333; Val_NMI: 3.173\n",
      "(Epoch 80 / 100) Train_Loss: 120.199; Val_Loss: 160.949   Train_ACC: 18.781; Val_ACC: 22.963   Train_NMI: 0.411; Val_NMI: 3.121\n",
      "(Epoch 81 / 100) Train_Loss: 120.001; Val_Loss: 158.935   Train_ACC: 18.863; Val_ACC: 24.444   Train_NMI: 0.388; Val_NMI: 3.646\n",
      "(Epoch 82 / 100) Train_Loss: 119.364; Val_Loss: 156.299   Train_ACC: 18.781; Val_ACC: 22.593   Train_NMI: 0.345; Val_NMI: 2.698\n",
      "(Epoch 83 / 100) Train_Loss: 118.491; Val_Loss: 158.776   Train_ACC: 18.822; Val_ACC: 23.704   Train_NMI: 0.377; Val_NMI: 2.854\n",
      "(Epoch 84 / 100) Train_Loss: 117.138; Val_Loss: 156.087   Train_ACC: 19.152; Val_ACC: 23.333   Train_NMI: 0.441; Val_NMI: 3.053\n",
      "(Epoch 85 / 100) Train_Loss: 116.848; Val_Loss: 160.988   Train_ACC: 18.740; Val_ACC: 23.704   Train_NMI: 0.351; Val_NMI: 3.695\n",
      "(Epoch 86 / 100) Train_Loss: 116.270; Val_Loss: 159.572   Train_ACC: 18.822; Val_ACC: 22.593   Train_NMI: 0.340; Val_NMI: 2.957\n",
      "(Epoch 87 / 100) Train_Loss: 115.457; Val_Loss: 167.077   Train_ACC: 18.699; Val_ACC: 23.333   Train_NMI: 0.342; Val_NMI: 2.588\n",
      "(Epoch 88 / 100) Train_Loss: 115.552; Val_Loss: 158.240   Train_ACC: 18.863; Val_ACC: 23.704   Train_NMI: 0.359; Val_NMI: 2.971\n",
      "(Epoch 89 / 100) Train_Loss: 113.793; Val_Loss: 156.147   Train_ACC: 18.946; Val_ACC: 23.704   Train_NMI: 0.375; Val_NMI: 3.187\n",
      "(Epoch 90 / 100) Train_Loss: 112.827; Val_Loss: 161.753   Train_ACC: 18.946; Val_ACC: 23.333   Train_NMI: 0.405; Val_NMI: 2.492\n",
      "(Epoch 91 / 100) Train_Loss: 112.775; Val_Loss: 164.535   Train_ACC: 18.699; Val_ACC: 24.074   Train_NMI: 0.333; Val_NMI: 2.974\n",
      "(Epoch 92 / 100) Train_Loss: 111.913; Val_Loss: 158.471   Train_ACC: 18.369; Val_ACC: 23.704   Train_NMI: 0.272; Val_NMI: 3.553\n",
      "(Epoch 93 / 100) Train_Loss: 112.193; Val_Loss: 158.728   Train_ACC: 18.699; Val_ACC: 23.333   Train_NMI: 0.344; Val_NMI: 3.321\n",
      "(Epoch 94 / 100) Train_Loss: 112.067; Val_Loss: 157.067   Train_ACC: 18.987; Val_ACC: 24.074   Train_NMI: 0.378; Val_NMI: 3.855\n",
      "(Epoch 95 / 100) Train_Loss: 110.473; Val_Loss: 161.669   Train_ACC: 19.069; Val_ACC: 23.704   Train_NMI: 0.427; Val_NMI: 3.080\n",
      "(Epoch 96 / 100) Train_Loss: 109.985; Val_Loss: 162.585   Train_ACC: 18.740; Val_ACC: 23.704   Train_NMI: 0.351; Val_NMI: 2.329\n",
      "(Epoch 97 / 100) Train_Loss: 109.717; Val_Loss: 165.979   Train_ACC: 18.904; Val_ACC: 23.704   Train_NMI: 0.324; Val_NMI: 3.034\n",
      "(Epoch 98 / 100) Train_Loss: 108.988; Val_Loss: 166.665   Train_ACC: 19.028; Val_ACC: 24.815   Train_NMI: 0.414; Val_NMI: 3.989\n",
      "(Epoch 99 / 100) Train_Loss: 107.850; Val_Loss: 168.776   Train_ACC: 19.069; Val_ACC: 22.593   Train_NMI: 0.395; Val_NMI: 2.212\n",
      "(Epoch 100 / 100) Train_Loss: 107.697; Val_Loss: 165.549   Train_ACC: 18.946; Val_ACC: 23.333   Train_NMI: 0.379; Val_NMI: 3.473\n"
     ]
    }
   ],
   "source": [
    "history_loss = gmvae.train(train_dl, valid_dl)"
   ]
  },
  {
   "cell_type": "code",
   "execution_count": 17,
   "metadata": {},
   "outputs": [],
   "source": [
    "torch.save(gmvae.network.state_dict(), 'smba_gmvae.pth')"
   ]
  },
  {
   "cell_type": "code",
   "execution_count": 19,
   "metadata": {},
   "outputs": [
    {
     "data": {
      "text/plain": [
       "<All keys matched successfully>"
      ]
     },
     "execution_count": 19,
     "metadata": {},
     "output_type": "execute_result"
    }
   ],
   "source": [
    "gmvae.network.load_state_dict(torch.load('smba_gmvae.pth'))"
   ]
  },
  {
   "cell_type": "markdown",
   "metadata": {
    "colab_type": "text",
    "id": "1bHWNxV-gAl2"
   },
   "source": [
    "## Image Reconstruction"
   ]
  },
  {
   "cell_type": "code",
   "execution_count": 19,
   "metadata": {
    "colab": {
     "base_uri": "https://localhost:8080/",
     "height": 160
    },
    "colab_type": "code",
    "id": "wd5jQFFHgCbD",
    "outputId": "8e1d4654-fb01-49dc-b512-e8e4bb259e0f"
   },
   "outputs": [],
   "source": [
    "original, reconstructed = gmvae.reconstruct_data(train_dl, 15)  "
   ]
  },
  {
   "cell_type": "code",
   "execution_count": 20,
   "metadata": {},
   "outputs": [],
   "source": [
    "original_int = original.reshape(15, 16, 16, 12).argmax(axis=-1)\n",
    "reconstructed_int = reconstructed.reshape(15, 16, 16, 12).argmax(axis=-1)"
   ]
  },
  {
   "cell_type": "code",
   "execution_count": 21,
   "metadata": {},
   "outputs": [],
   "source": [
    "def get_classes(chunks_int):\n",
    "    classes = []\n",
    "    for i in chunks_int:\n",
    "        if i.max() == 6:\n",
    "            classes.append('kia')\n",
    "        else:\n",
    "            classes.append('smba')\n",
    "    return np.array(classes)"
   ]
  },
  {
   "cell_type": "code",
   "execution_count": 22,
   "metadata": {},
   "outputs": [],
   "source": [
    "org_classes = get_classes(original_int)\n",
    "rec_classes = get_classes(reconstructed_int)\n",
    "assert np.sum(org_classes == rec_classes) == len(org_classes)"
   ]
  },
  {
   "cell_type": "code",
   "execution_count": 23,
   "metadata": {},
   "outputs": [],
   "source": [
    "def get_images(chunks_int):\n",
    "    images = []\n",
    "    for game, chunk in zip(get_classes(chunks_int), chunks_int):\n",
    "        images.append(vglc_with_path_encodings.array_to_image([chunk], game=game)[0])\n",
    "    return images"
   ]
  },
  {
   "cell_type": "code",
   "execution_count": 24,
   "metadata": {},
   "outputs": [
    {
     "data": {
      "text/plain": [
       "(15, 15)"
      ]
     },
     "execution_count": 24,
     "metadata": {},
     "output_type": "execute_result"
    }
   ],
   "source": [
    "org_images = get_images(original_int)\n",
    "rec_images = get_images(reconstructed_int)\n",
    "len(org_images), len(rec_images)"
   ]
  },
  {
   "cell_type": "code",
   "execution_count": 25,
   "metadata": {},
   "outputs": [
    {
     "data": {
      "image/png": "[encoded data removed]",
      "text/plain": [
       "<Figure size 1728x576 with 30 Axes>"
      ]
     },
     "metadata": {
      "needs_background": "light"
     },
     "output_type": "display_data"
    }
   ],
   "source": [
    "fig, axes = plt.subplots(nrows=3, ncols=10, figsize=(24, 8))\n",
    "axes = axes.flatten()\n",
    "nrows, ncols = 3, 10\n",
    "\n",
    "org_idxs = np.arange(0, 29, 2)\n",
    "rec_idxs = org_idxs + 1\n",
    "\n",
    "for idx in org_idxs:\n",
    "        \n",
    "    ax = axes[idx]\n",
    "\n",
    "    ax.imshow(np.asarray(org_images[idx // 2]))\n",
    "    ax.set_title(f'Org {idx // 2 + 1}')\n",
    "    \n",
    "    ax.axis('off')\n",
    "\n",
    "for idx in rec_idxs:\n",
    "        \n",
    "    ax = axes[idx]\n",
    "\n",
    "    ax.imshow(np.asarray(rec_images[idx // 2]))\n",
    "    ax.set_title(f'Rec {idx // 2 + 1}')\n",
    "\n",
    "    ax.axis('off')\n",
    "    \n",
    "plt.show()"
   ]
  },
  {
   "cell_type": "markdown",
   "metadata": {
    "colab_type": "text",
    "id": "CAyoGFFRgMgC"
   },
   "source": [
    "## Random Generation per Category"
   ]
  },
  {
   "cell_type": "code",
   "execution_count": 26,
   "metadata": {
    "colab": {
     "base_uri": "https://localhost:8080/",
     "height": 595
    },
    "colab_type": "code",
    "id": "xE84c3U2gLjA",
    "outputId": "cd52f356-e53a-4844-9db2-3723d15ddb00"
   },
   "outputs": [
    {
     "data": {
      "image/png": "[encoded data removed]",
      "text/plain": [
       "<Figure size 1728x1728 with 6 Axes>"
      ]
     },
     "metadata": {
      "needs_background": "light"
     },
     "output_type": "display_data"
    }
   ],
   "source": [
    "def display_random_generation(generated, num_classes, n=10):\n",
    "    plt.figure(figsize=[24,24])\n",
    "    for c in range(num_classes):\n",
    "        for i in range(n):\n",
    "            plt.subplot(num_classes, n, (c * n) + i + 1)\n",
    "            chunk_int = generated[(c * n) + i].reshape(16, 16, 12).argmax(axis=-1)\n",
    "            chunk_pix = vglc_with_path_encodings.array_to_image([chunk_int], game='smba')[0]\n",
    "            plt.imshow(chunk_pix)\n",
    "            plt.gray()\n",
    "            plt.axis('off')\n",
    "    plt.show()\n",
    "\n",
    "elem_per_category = 1\n",
    "generated = gmvae.random_generation(elem_per_category)\n",
    "display_random_generation(generated, args.num_classes, elem_per_category)"
   ]
  },
  {
   "cell_type": "code",
   "execution_count": 27,
   "metadata": {},
   "outputs": [],
   "source": [
    "elem_per_category = 10000 // num_components\n",
    "generated = gmvae.random_generation(elem_per_category)"
   ]
  },
  {
   "cell_type": "code",
   "execution_count": 28,
   "metadata": {},
   "outputs": [],
   "source": [
    "generated_int = generated.reshape(-1, 16, 16, 12).argmax(axis=-1)"
   ]
  },
  {
   "cell_type": "code",
   "execution_count": 29,
   "metadata": {},
   "outputs": [
    {
     "data": {
      "text/plain": [
       "(9996, 16, 16)"
      ]
     },
     "execution_count": 29,
     "metadata": {},
     "output_type": "execute_result"
    }
   ],
   "source": [
    "generated_int.shape"
   ]
  },
  {
   "cell_type": "code",
   "execution_count": 30,
   "metadata": {},
   "outputs": [],
   "source": [
    "# since this code chunk depends on random seed, it shouldn't be run again\n",
    "with open(f'../smba_generations_2_to_7/smba_gmvae_{num_components}.json', 'w+') as json_f:\n",
    "    json.dump(generated_int.tolist(), json_f)"
   ]
  },
  {
   "cell_type": "markdown",
   "metadata": {
    "colab_type": "text",
    "id": "-SbXR7FkhIcq"
   },
   "source": [
    "## Visualization of the feature latent space"
   ]
  },
  {
   "cell_type": "code",
   "execution_count": 21,
   "metadata": {
    "colab": {},
    "colab_type": "code",
    "id": "bTkEBA9JhQ2C"
   },
   "outputs": [],
   "source": [
    "# get feature representations\n",
    "test_features, test_labels = gmvae.latent_features(train_dl, return_learned_labels=True)"
   ]
  },
  {
   "cell_type": "code",
   "execution_count": 24,
   "metadata": {},
   "outputs": [
    {
     "data": {
      "text/plain": [
       "array([560, 460, 366, 364, 384, 294])"
      ]
     },
     "execution_count": 24,
     "metadata": {},
     "output_type": "execute_result"
    }
   ],
   "source": [
    "np.bincount(test_labels)"
   ]
  },
  {
   "cell_type": "code",
   "execution_count": 32,
   "metadata": {
    "colab": {},
    "colab_type": "code",
    "id": "LNmsz5rahZAY"
   },
   "outputs": [],
   "source": [
    "# import TSNE from scikit-learn library\n",
    "from sklearn.manifold import TSNE\n",
    "\n",
    "# reduce dimensionality to 2D, we consider a subset of data because TSNE\n",
    "# is a slow algorithm\n",
    "\n",
    "first_n = 1000\n",
    "tsne_features = TSNE(n_components=2).fit_transform(test_features[:first_n])"
   ]
  },
  {
   "cell_type": "code",
   "execution_count": 33,
   "metadata": {},
   "outputs": [],
   "source": [
    "test_labels_subset = test_labels[:first_n]"
   ]
  },
  {
   "cell_type": "code",
   "execution_count": 34,
   "metadata": {},
   "outputs": [],
   "source": [
    "X_, Y_ = np.s_[:,0], np.s_[:,1]"
   ]
  },
  {
   "cell_type": "code",
   "execution_count": 35,
   "metadata": {
    "colab": {
     "base_uri": "https://localhost:8080/",
     "height": 395
    },
    "colab_type": "code",
    "id": "wyTtDdwyha-L",
    "outputId": "350e806a-6dd3-47f2-bd91-444aaf61b3dd"
   },
   "outputs": [
    {
     "data": {
      "image/png": "[encoded data removed]",
      "text/plain": [
       "<Figure size 360x360 with 1 Axes>"
      ]
     },
     "metadata": {
      "needs_background": "light"
     },
     "output_type": "display_data"
    }
   ],
   "source": [
    "fig = plt.figure(figsize=(5, 5))\n",
    "\n",
    "plt.scatter(tsne_features[X_], tsne_features[Y_])\n",
    "\n",
    "plt.title('Projection from latent space to 2D')\n",
    "plt.show()"
   ]
  },
  {
   "cell_type": "markdown",
   "metadata": {},
   "source": []
  }
 ],
 "metadata": {
  "accelerator": "GPU",
  "colab": {
   "collapsed_sections": [],
   "include_colab_link": true,
   "name": "GMVAE_Pytorch.ipynb",
   "provenance": []
  },
  "kernelspec": {
   "display_name": "Python 3",
   "language": "python",
   "name": "python3"
  },
  "toc": {
   "base_numbering": 1,
   "nav_menu": {},
   "number_sections": false,
   "sideBar": true,
   "skip_h1_title": false,
   "title_cell": "Table of Contents",
   "title_sidebar": "Contents",
   "toc_cell": false,
   "toc_position": {},
   "toc_section_display": true,
   "toc_window_display": false
  },
  "varInspector": {
   "cols": {
    "lenName": 16,
    "lenType": 16,
    "lenVar": 40
   },
   "kernels_config": {
    "python": {
     "delete_cmd_postfix": "",
     "delete_cmd_prefix": "del ",
     "library": "var_list.py",
     "varRefreshCmd": "print(var_dic_list())"
    },
    "r": {
     "delete_cmd_postfix": ") ",
     "delete_cmd_prefix": "rm(",
     "library": "var_list.r",
     "varRefreshCmd": "cat(var_dic_list()) "
    }
   },
   "types_to_exclude": [
    "module",
    "function",
    "builtin_function_or_method",
    "instance",
    "_Feature"
   ],
   "window_display": false
  }
 },
 "nbformat": 4,
 "nbformat_minor": 1
}
