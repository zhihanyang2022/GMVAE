{
 "cells": [
  {
   "cell_type": "markdown",
   "metadata": {},
   "source": [
    "# GM-VAE for SMBA"
   ]
  },
  {
   "cell_type": "code",
   "execution_count": 1,
   "metadata": {},
   "outputs": [],
   "source": [
    "num_components=48"
   ]
  },
  {
   "cell_type": "markdown",
   "metadata": {
    "colab_type": "text",
    "id": "rGzTb0oswH5J"
   },
   "source": [
    "## Import Libraries"
   ]
  },
  {
   "cell_type": "code",
   "execution_count": 2,
   "metadata": {
    "colab": {},
    "colab_type": "code",
    "id": "ThVeaB3CwI4j"
   },
   "outputs": [],
   "source": [
    "import json\n",
    "\n",
    "import numpy as np\n",
    "import argparse\n",
    "import random\n",
    "from torchvision import datasets, transforms\n",
    "from torch.utils.data.sampler import SubsetRandomSampler\n",
    "import torch.utils.data\n",
    "from scipy.io import loadmat\n",
    "\n",
    "import sys\n",
    "sys.path.append('./pytorch')\n",
    "sys.path.append('../../1906-pcgml/pcgml-gmmVae-exp/modules/')\n",
    "import vglc_with_path_encodings\n",
    "\n",
    "from model.GMVAE import *\n",
    "import matplotlib.pyplot as plt\n",
    "import seaborn as sns\n",
    "%matplotlib inline\n",
    "\n",
    "import warnings\n",
    "warnings.filterwarnings('ignore')"
   ]
  },
  {
   "cell_type": "markdown",
   "metadata": {},
   "source": [
    "## Load data"
   ]
  },
  {
   "cell_type": "code",
   "execution_count": 3,
   "metadata": {},
   "outputs": [],
   "source": [
    "def open_json_as_nparray(json_fname):\n",
    "    with open(json_fname, 'r') as json_f:\n",
    "        return np.array(json.load(json_f))"
   ]
  },
  {
   "cell_type": "markdown",
   "metadata": {},
   "source": [
    "Load SMB."
   ]
  },
  {
   "cell_type": "code",
   "execution_count": 4,
   "metadata": {},
   "outputs": [],
   "source": [
    "smb_int = open_json_as_nparray('smbWithPath-allLevels-chunks-int.json')"
   ]
  },
  {
   "cell_type": "code",
   "execution_count": 5,
   "metadata": {},
   "outputs": [
    {
     "data": {
      "text/plain": [
       "(2698, 16, 16, 12)"
      ]
     },
     "execution_count": 5,
     "metadata": {},
     "output_type": "execute_result"
    }
   ],
   "source": [
    "smb_onehot = np.eye(len(np.unique(smb_int)))[smb_int]\n",
    "smb_onehot.shape"
   ]
  },
  {
   "cell_type": "code",
   "execution_count": 6,
   "metadata": {},
   "outputs": [
    {
     "data": {
      "text/plain": [
       "(2698, 3072)"
      ]
     },
     "execution_count": 6,
     "metadata": {},
     "output_type": "execute_result"
    }
   ],
   "source": [
    "smb_onehot = smb_onehot.reshape(\n",
    "    smb_onehot.shape[0], \n",
    "    smb_onehot.shape[1] * smb_onehot.shape[2] * smb_onehot.shape[3]\n",
    ")\n",
    "smb_onehot.shape"
   ]
  },
  {
   "cell_type": "code",
   "execution_count": 7,
   "metadata": {},
   "outputs": [
    {
     "data": {
      "text/plain": [
       "((2698,),\n",
       " array([38, 28, 14, 42,  7, 20, 38, 18, 22, 10, 10, 23, 35, 39, 23,  2, 21,\n",
       "         1, 23, 43]))"
      ]
     },
     "execution_count": 7,
     "metadata": {},
     "output_type": "execute_result"
    }
   ],
   "source": [
    "np.random.seed(42)\n",
    "smb_labels = np.random.randint(num_components, size=smb_onehot.shape[0])\n",
    "smb_labels.shape, smb_labels[:20]"
   ]
  },
  {
   "cell_type": "code",
   "execution_count": 8,
   "metadata": {},
   "outputs": [],
   "source": [
    "chunks, labels = smb_onehot, smb_labels"
   ]
  },
  {
   "cell_type": "code",
   "execution_count": 9,
   "metadata": {},
   "outputs": [
    {
     "data": {
      "image/png": "[encoded data removed]",
      "text/plain": [
       "<Figure size 432x288 with 1 Axes>"
      ]
     },
     "metadata": {
      "needs_background": "light"
     },
     "output_type": "display_data"
    }
   ],
   "source": [
    "plt.bar(np.arange(num_components), np.bincount(smb_labels))\n",
    "plt.show()"
   ]
  },
  {
   "cell_type": "markdown",
   "metadata": {
    "colab_type": "text",
    "id": "3QNKItMHwQU2"
   },
   "source": [
    "## Input Parameters"
   ]
  },
  {
   "cell_type": "code",
   "execution_count": 10,
   "metadata": {
    "colab": {},
    "colab_type": "code",
    "id": "8tBHkTQ4wVIG"
   },
   "outputs": [],
   "source": [
    "########################################################\n",
    "## Input Parameters\n",
    "#########################################################\n",
    "parser = argparse.ArgumentParser(description='PyTorch Implementation of DGM Clustering')\n",
    "\n",
    "## Used only in notebooks\n",
    "parser.add_argument('-f', '--file',\n",
    "                    help='Path for input file. First line should contain number of lines to search in')\n",
    "\n",
    "## Dataset\n",
    "parser.add_argument('--dataset', type=str, choices=['mnist'],\n",
    "                    default='mnist', help='dataset (default: mnist)')\n",
    "parser.add_argument('--seed', type=int, default=1, help='random seed (default: 1)')\n",
    "\n",
    "## GPU\n",
    "parser.add_argument('--cuda', type=int, default=1,\n",
    "                    help='use of cuda (default: 1)')\n",
    "parser.add_argument('--gpuID', type=int, default=0,\n",
    "                    help='set gpu id to use (default: 0)')\n",
    "\n",
    "## Training\n",
    "parser.add_argument('--epochs', type=int, default=100,\n",
    "                    help='number of total epochs to run (default: 200)')\n",
    "parser.add_argument('--batch_size', default=64, type=int,\n",
    "                    help='mini-batch size (default: 64)')\n",
    "parser.add_argument('--batch_size_val', default=200, type=int,\n",
    "                    help='mini-batch size of validation (default: 200)')\n",
    "parser.add_argument('--learning_rate', default=1e-3, type=float,\n",
    "                    help='learning rate (default: 0.001)')\n",
    "parser.add_argument('--decay_epoch', default=-1, type=int, \n",
    "                    help='Reduces the learning rate every decay_epoch')\n",
    "parser.add_argument('--lr_decay', default=0.5, type=float,\n",
    "                    help='Learning rate decay for training (default: 0.5)')\n",
    "\n",
    "## Architecture\n",
    "parser.add_argument('--num_classes', type=int, default=num_components,\n",
    "                    help='number of classes (default: 10)')  # edited for this task\n",
    "parser.add_argument('--gaussian_size', default=64, type=int,\n",
    "                    help='gaussian size (default: 64)')\n",
    "parser.add_argument('--input_size', default=3072, type=int,\n",
    "                    help='input size (default: 784)')  # edited for this task\n",
    "\n",
    "## Partition parameters\n",
    "parser.add_argument('--train_proportion', default=0.9, type=float,\n",
    "                    help='proportion of examples to consider for training only (default: 1.0)')\n",
    "\n",
    "## Gumbel parameters\n",
    "parser.add_argument('--init_temp', default=1.0, type=float,\n",
    "                    help='Initial temperature used in gumbel-softmax (recommended 0.5-1.0, default:1.0)')\n",
    "parser.add_argument('--decay_temp', default=1, type=int, \n",
    "                    help='Set 1 to decay gumbel temperature at every epoch (default: 1)')\n",
    "parser.add_argument('--hard_gumbel', default=0, type=int, \n",
    "                    help='Set 1 to use the hard version of gumbel-softmax (default: 1)')\n",
    "parser.add_argument('--min_temp', default=0.5, type=float, \n",
    "                    help='Minimum temperature of gumbel-softmax after annealing (default: 0.5)' )\n",
    "parser.add_argument('--decay_temp_rate', default=0.013862944, type=float,\n",
    "                    help='Temperature decay rate at every epoch (default: 0.013862944)')\n",
    "\n",
    "## Loss function parameters\n",
    "parser.add_argument('--w_gauss', default=2, type=float,\n",
    "                    help='weight of gaussian loss (default: 1)')\n",
    "parser.add_argument('--w_categ', default=1, type=float,\n",
    "                    help='weight of categorical loss (default: 1)')\n",
    "parser.add_argument('--w_rec', default=1, type=float,\n",
    "                    help='weight of reconstruction loss (default: 1)')\n",
    "parser.add_argument('--rec_type', type=str, choices=['bce', 'mse'],\n",
    "                    default='bce', help='desired reconstruction loss function (default: bce)')\n",
    "\n",
    "## Others\n",
    "parser.add_argument('--verbose', default=0, type=int,\n",
    "                    help='print extra information at every epoch.(default: 0)')\n",
    "\n",
    "args = parser.parse_args()"
   ]
  },
  {
   "cell_type": "markdown",
   "metadata": {
    "colab_type": "text",
    "id": "Bti6lPHawc9z"
   },
   "source": [
    "Set random seed in case it was specified in the parameters\n"
   ]
  },
  {
   "cell_type": "code",
   "execution_count": 11,
   "metadata": {
    "colab": {},
    "colab_type": "code",
    "id": "IpWPxTy1wgbJ"
   },
   "outputs": [],
   "source": [
    "## Random Seed\n",
    "SEED = args.seed\n",
    "np.random.seed(SEED)\n",
    "random.seed(SEED)\n",
    "torch.manual_seed(SEED)\n",
    "if args.cuda:\n",
    "    torch.cuda.manual_seed(SEED)"
   ]
  },
  {
   "cell_type": "markdown",
   "metadata": {
    "colab_type": "text",
    "id": "fmrkmhttwkiD"
   },
   "source": [
    "## Data Partition"
   ]
  },
  {
   "cell_type": "markdown",
   "metadata": {
    "colab_type": "text",
    "id": "fUuTFMBhb2vZ"
   },
   "source": [
    "We split the training data into train and validation according to the *train_proportion* parameter:"
   ]
  },
  {
   "cell_type": "code",
   "execution_count": 12,
   "metadata": {},
   "outputs": [],
   "source": [
    "from torch.utils.data import TensorDataset, DataLoader"
   ]
  },
  {
   "cell_type": "code",
   "execution_count": 13,
   "metadata": {},
   "outputs": [],
   "source": [
    "assert args.train_proportion != 1"
   ]
  },
  {
   "cell_type": "code",
   "execution_count": 14,
   "metadata": {
    "colab": {},
    "colab_type": "code",
    "id": "P8F6pjC7cNX7"
   },
   "outputs": [],
   "source": [
    "def partition_dataset(n, proportion=1):\n",
    "   train_num = int(n * proportion)\n",
    "   indices = np.random.permutation(n)\n",
    "   train_indices, val_indices = indices[:train_num], indices[train_num:]\n",
    "   return train_indices, val_indices\n",
    "\n",
    "train_indices, val_indices = partition_dataset(len(chunks), args.train_proportion)\n",
    "train_ds = TensorDataset(torch.from_numpy(chunks).float(), torch.from_numpy(labels).long())\n",
    "train_dl = DataLoader(train_ds, batch_size=args.batch_size, sampler=SubsetRandomSampler(train_indices))\n",
    "valid_dl = DataLoader(train_ds, batch_size=args.batch_size_val, sampler=SubsetRandomSampler(val_indices))"
   ]
  },
  {
   "cell_type": "markdown",
   "metadata": {
    "colab_type": "text",
    "id": "Pt7sEfZWw_U7"
   },
   "source": [
    "## Train Model"
   ]
  },
  {
   "cell_type": "code",
   "execution_count": 15,
   "metadata": {
    "colab": {},
    "colab_type": "code",
    "id": "qTncRSCuxFEL"
   },
   "outputs": [],
   "source": [
    "# Model Initialization\n",
    "gmvae = GMVAE(args)"
   ]
  },
  {
   "cell_type": "code",
   "execution_count": 16,
   "metadata": {},
   "outputs": [
    {
     "name": "stdout",
     "output_type": "stream",
     "text": [
      "(Epoch 1 / 100) Train_Loss: 494.964; Val_Loss: 238.940   Train_ACC: 4.242; Val_ACC: 5.185   Train_NMI: 3.557; Val_NMI: 1.349\n",
      "(Epoch 2 / 100) Train_Loss: 228.338; Val_Loss: 226.269   Train_ACC: 4.736; Val_ACC: 6.296   Train_NMI: 4.191; Val_NMI: 8.280\n",
      "(Epoch 3 / 100) Train_Loss: 224.531; Val_Loss: 226.337   Train_ACC: 3.624; Val_ACC: 8.889   Train_NMI: 4.178; Val_NMI: 19.448\n",
      "(Epoch 4 / 100) Train_Loss: 219.856; Val_Loss: 219.763   Train_ACC: 4.613; Val_ACC: 8.148   Train_NMI: 5.138; Val_NMI: 15.443\n",
      "(Epoch 5 / 100) Train_Loss: 213.991; Val_Loss: 212.849   Train_ACC: 4.366; Val_ACC: 7.407   Train_NMI: 4.369; Val_NMI: 10.432\n",
      "(Epoch 6 / 100) Train_Loss: 211.341; Val_Loss: 208.417   Train_ACC: 3.913; Val_ACC: 7.778   Train_NMI: 3.984; Val_NMI: 12.568\n",
      "(Epoch 7 / 100) Train_Loss: 207.329; Val_Loss: 213.044   Train_ACC: 4.366; Val_ACC: 8.889   Train_NMI: 4.407; Val_NMI: 18.148\n",
      "(Epoch 8 / 100) Train_Loss: 202.269; Val_Loss: 208.398   Train_ACC: 4.654; Val_ACC: 8.148   Train_NMI: 5.277; Val_NMI: 15.282\n",
      "(Epoch 9 / 100) Train_Loss: 198.166; Val_Loss: 201.347   Train_ACC: 4.201; Val_ACC: 8.148   Train_NMI: 3.457; Val_NMI: 18.860\n",
      "(Epoch 10 / 100) Train_Loss: 194.934; Val_Loss: 200.019   Train_ACC: 4.572; Val_ACC: 8.519   Train_NMI: 4.900; Val_NMI: 19.173\n",
      "(Epoch 11 / 100) Train_Loss: 191.234; Val_Loss: 193.280   Train_ACC: 4.077; Val_ACC: 7.407   Train_NMI: 2.968; Val_NMI: 15.926\n",
      "(Epoch 12 / 100) Train_Loss: 188.421; Val_Loss: 199.129   Train_ACC: 3.954; Val_ACC: 8.889   Train_NMI: 2.527; Val_NMI: 18.865\n",
      "(Epoch 13 / 100) Train_Loss: 187.150; Val_Loss: 192.642   Train_ACC: 4.366; Val_ACC: 9.630   Train_NMI: 4.203; Val_NMI: 20.199\n",
      "(Epoch 14 / 100) Train_Loss: 184.795; Val_Loss: 194.634   Train_ACC: 4.736; Val_ACC: 8.889   Train_NMI: 5.413; Val_NMI: 22.797\n",
      "(Epoch 15 / 100) Train_Loss: 182.681; Val_Loss: 185.369   Train_ACC: 4.860; Val_ACC: 8.148   Train_NMI: 4.577; Val_NMI: 20.358\n",
      "(Epoch 16 / 100) Train_Loss: 181.140; Val_Loss: 188.325   Train_ACC: 4.283; Val_ACC: 8.889   Train_NMI: 2.783; Val_NMI: 22.004\n",
      "(Epoch 17 / 100) Train_Loss: 179.104; Val_Loss: 182.714   Train_ACC: 4.736; Val_ACC: 10.741   Train_NMI: 4.429; Val_NMI: 25.487\n",
      "(Epoch 18 / 100) Train_Loss: 177.947; Val_Loss: 186.098   Train_ACC: 4.984; Val_ACC: 9.259   Train_NMI: 5.755; Val_NMI: 22.518\n",
      "(Epoch 19 / 100) Train_Loss: 176.309; Val_Loss: 189.788   Train_ACC: 5.272; Val_ACC: 10.370   Train_NMI: 5.383; Val_NMI: 24.727\n",
      "(Epoch 20 / 100) Train_Loss: 175.047; Val_Loss: 186.726   Train_ACC: 5.478; Val_ACC: 10.370   Train_NMI: 6.732; Val_NMI: 24.959\n",
      "(Epoch 21 / 100) Train_Loss: 173.839; Val_Loss: 189.801   Train_ACC: 4.778; Val_ACC: 10.370   Train_NMI: 5.022; Val_NMI: 25.319\n",
      "(Epoch 22 / 100) Train_Loss: 171.911; Val_Loss: 179.841   Train_ACC: 4.736; Val_ACC: 9.630   Train_NMI: 4.913; Val_NMI: 22.613\n",
      "(Epoch 23 / 100) Train_Loss: 171.437; Val_Loss: 177.455   Train_ACC: 4.942; Val_ACC: 10.370   Train_NMI: 6.242; Val_NMI: 25.631\n",
      "(Epoch 24 / 100) Train_Loss: 169.318; Val_Loss: 176.492   Train_ACC: 4.819; Val_ACC: 11.111   Train_NMI: 5.413; Val_NMI: 26.893\n",
      "(Epoch 25 / 100) Train_Loss: 167.658; Val_Loss: 176.721   Train_ACC: 4.942; Val_ACC: 10.741   Train_NMI: 6.721; Val_NMI: 24.136\n",
      "(Epoch 26 / 100) Train_Loss: 166.698; Val_Loss: 177.257   Train_ACC: 5.395; Val_ACC: 11.852   Train_NMI: 6.128; Val_NMI: 27.014\n",
      "(Epoch 27 / 100) Train_Loss: 164.752; Val_Loss: 171.097   Train_ACC: 5.025; Val_ACC: 10.741   Train_NMI: 5.582; Val_NMI: 24.320\n",
      "(Epoch 28 / 100) Train_Loss: 164.546; Val_Loss: 172.571   Train_ACC: 5.189; Val_ACC: 11.481   Train_NMI: 6.207; Val_NMI: 25.978\n",
      "(Epoch 29 / 100) Train_Loss: 163.207; Val_Loss: 170.672   Train_ACC: 5.148; Val_ACC: 11.481   Train_NMI: 6.197; Val_NMI: 27.592\n",
      "(Epoch 30 / 100) Train_Loss: 162.574; Val_Loss: 174.538   Train_ACC: 5.107; Val_ACC: 13.704   Train_NMI: 7.209; Val_NMI: 30.379\n",
      "(Epoch 31 / 100) Train_Loss: 161.480; Val_Loss: 176.442   Train_ACC: 5.189; Val_ACC: 10.741   Train_NMI: 6.637; Val_NMI: 24.305\n",
      "(Epoch 32 / 100) Train_Loss: 160.196; Val_Loss: 168.245   Train_ACC: 5.189; Val_ACC: 11.111   Train_NMI: 5.849; Val_NMI: 27.127\n",
      "(Epoch 33 / 100) Train_Loss: 158.428; Val_Loss: 170.321   Train_ACC: 5.189; Val_ACC: 12.222   Train_NMI: 6.453; Val_NMI: 28.290\n",
      "(Epoch 34 / 100) Train_Loss: 158.229; Val_Loss: 169.291   Train_ACC: 5.107; Val_ACC: 11.481   Train_NMI: 6.532; Val_NMI: 26.983\n",
      "(Epoch 35 / 100) Train_Loss: 156.105; Val_Loss: 171.072   Train_ACC: 5.025; Val_ACC: 10.370   Train_NMI: 6.487; Val_NMI: 25.343\n",
      "(Epoch 36 / 100) Train_Loss: 155.516; Val_Loss: 165.114   Train_ACC: 4.901; Val_ACC: 11.111   Train_NMI: 6.164; Val_NMI: 24.720\n",
      "(Epoch 37 / 100) Train_Loss: 154.988; Val_Loss: 165.849   Train_ACC: 5.066; Val_ACC: 11.481   Train_NMI: 5.700; Val_NMI: 25.869\n",
      "(Epoch 38 / 100) Train_Loss: 154.724; Val_Loss: 164.955   Train_ACC: 4.819; Val_ACC: 11.111   Train_NMI: 5.426; Val_NMI: 23.814\n",
      "(Epoch 39 / 100) Train_Loss: 152.633; Val_Loss: 170.261   Train_ACC: 4.860; Val_ACC: 10.000   Train_NMI: 6.133; Val_NMI: 25.003\n",
      "(Epoch 40 / 100) Train_Loss: 152.264; Val_Loss: 166.928   Train_ACC: 5.148; Val_ACC: 11.481   Train_NMI: 7.130; Val_NMI: 27.958\n",
      "(Epoch 41 / 100) Train_Loss: 150.580; Val_Loss: 164.543   Train_ACC: 5.437; Val_ACC: 11.481   Train_NMI: 6.526; Val_NMI: 29.325\n",
      "(Epoch 42 / 100) Train_Loss: 149.357; Val_Loss: 162.850   Train_ACC: 5.395; Val_ACC: 10.370   Train_NMI: 6.547; Val_NMI: 26.929\n",
      "(Epoch 43 / 100) Train_Loss: 148.393; Val_Loss: 160.934   Train_ACC: 5.231; Val_ACC: 12.593   Train_NMI: 6.441; Val_NMI: 28.913\n",
      "(Epoch 44 / 100) Train_Loss: 146.990; Val_Loss: 165.945   Train_ACC: 5.478; Val_ACC: 12.593   Train_NMI: 7.779; Val_NMI: 30.928\n",
      "(Epoch 45 / 100) Train_Loss: 145.443; Val_Loss: 164.711   Train_ACC: 5.437; Val_ACC: 11.852   Train_NMI: 6.913; Val_NMI: 29.643\n",
      "(Epoch 46 / 100) Train_Loss: 143.890; Val_Loss: 165.811   Train_ACC: 5.560; Val_ACC: 10.741   Train_NMI: 7.191; Val_NMI: 28.178\n",
      "(Epoch 47 / 100) Train_Loss: 143.808; Val_Loss: 161.427   Train_ACC: 5.272; Val_ACC: 11.111   Train_NMI: 6.770; Val_NMI: 27.835\n",
      "(Epoch 48 / 100) Train_Loss: 142.669; Val_Loss: 157.738   Train_ACC: 5.272; Val_ACC: 12.593   Train_NMI: 6.510; Val_NMI: 29.445\n",
      "(Epoch 49 / 100) Train_Loss: 141.776; Val_Loss: 162.456   Train_ACC: 5.231; Val_ACC: 12.593   Train_NMI: 7.079; Val_NMI: 31.346\n",
      "(Epoch 50 / 100) Train_Loss: 140.190; Val_Loss: 157.948   Train_ACC: 5.478; Val_ACC: 12.963   Train_NMI: 8.099; Val_NMI: 34.006\n",
      "(Epoch 51 / 100) Train_Loss: 139.043; Val_Loss: 162.006   Train_ACC: 5.395; Val_ACC: 11.111   Train_NMI: 7.186; Val_NMI: 27.392\n",
      "(Epoch 52 / 100) Train_Loss: 138.458; Val_Loss: 157.908   Train_ACC: 5.231; Val_ACC: 11.852   Train_NMI: 6.823; Val_NMI: 31.106\n",
      "(Epoch 53 / 100) Train_Loss: 137.043; Val_Loss: 156.740   Train_ACC: 5.478; Val_ACC: 12.222   Train_NMI: 7.586; Val_NMI: 31.988\n",
      "(Epoch 54 / 100) Train_Loss: 136.617; Val_Loss: 158.493   Train_ACC: 5.437; Val_ACC: 11.481   Train_NMI: 7.719; Val_NMI: 28.736\n",
      "(Epoch 55 / 100) Train_Loss: 136.307; Val_Loss: 156.059   Train_ACC: 5.437; Val_ACC: 11.481   Train_NMI: 7.196; Val_NMI: 30.899\n",
      "(Epoch 56 / 100) Train_Loss: 135.101; Val_Loss: 155.703   Train_ACC: 5.560; Val_ACC: 13.704   Train_NMI: 7.497; Val_NMI: 33.773\n",
      "(Epoch 57 / 100) Train_Loss: 134.595; Val_Loss: 156.359   Train_ACC: 5.725; Val_ACC: 13.704   Train_NMI: 7.953; Val_NMI: 33.771\n",
      "(Epoch 58 / 100) Train_Loss: 133.228; Val_Loss: 157.140   Train_ACC: 6.137; Val_ACC: 12.593   Train_NMI: 8.225; Val_NMI: 30.881\n",
      "(Epoch 59 / 100) Train_Loss: 132.519; Val_Loss: 159.004   Train_ACC: 5.313; Val_ACC: 12.963   Train_NMI: 7.749; Val_NMI: 35.919\n",
      "(Epoch 60 / 100) Train_Loss: 132.012; Val_Loss: 155.771   Train_ACC: 6.013; Val_ACC: 14.815   Train_NMI: 8.635; Val_NMI: 34.301\n",
      "(Epoch 61 / 100) Train_Loss: 130.407; Val_Loss: 154.749   Train_ACC: 5.643; Val_ACC: 14.074   Train_NMI: 7.781; Val_NMI: 36.207\n",
      "(Epoch 62 / 100) Train_Loss: 129.374; Val_Loss: 155.699   Train_ACC: 5.560; Val_ACC: 13.704   Train_NMI: 8.254; Val_NMI: 34.656\n",
      "(Epoch 63 / 100) Train_Loss: 129.233; Val_Loss: 154.813   Train_ACC: 5.848; Val_ACC: 15.185   Train_NMI: 8.725; Val_NMI: 36.087\n",
      "(Epoch 64 / 100) Train_Loss: 128.383; Val_Loss: 153.085   Train_ACC: 6.054; Val_ACC: 13.333   Train_NMI: 9.229; Val_NMI: 34.233\n",
      "(Epoch 65 / 100) Train_Loss: 128.486; Val_Loss: 157.822   Train_ACC: 5.684; Val_ACC: 14.074   Train_NMI: 8.353; Val_NMI: 37.405\n"
     ]
    },
    {
     "name": "stdout",
     "output_type": "stream",
     "text": [
      "(Epoch 66 / 100) Train_Loss: 127.016; Val_Loss: 153.659   Train_ACC: 6.096; Val_ACC: 13.333   Train_NMI: 8.790; Val_NMI: 34.646\n",
      "(Epoch 67 / 100) Train_Loss: 125.704; Val_Loss: 160.044   Train_ACC: 5.848; Val_ACC: 13.704   Train_NMI: 9.125; Val_NMI: 36.420\n",
      "(Epoch 68 / 100) Train_Loss: 125.448; Val_Loss: 157.640   Train_ACC: 6.096; Val_ACC: 16.667   Train_NMI: 9.043; Val_NMI: 37.220\n",
      "(Epoch 69 / 100) Train_Loss: 124.673; Val_Loss: 158.122   Train_ACC: 5.766; Val_ACC: 15.185   Train_NMI: 9.260; Val_NMI: 39.395\n",
      "(Epoch 70 / 100) Train_Loss: 123.770; Val_Loss: 157.436   Train_ACC: 6.054; Val_ACC: 13.704   Train_NMI: 9.608; Val_NMI: 36.931\n",
      "(Epoch 71 / 100) Train_Loss: 122.489; Val_Loss: 157.651   Train_ACC: 6.054; Val_ACC: 14.815   Train_NMI: 9.190; Val_NMI: 38.709\n",
      "(Epoch 72 / 100) Train_Loss: 122.435; Val_Loss: 156.349   Train_ACC: 6.013; Val_ACC: 15.185   Train_NMI: 9.146; Val_NMI: 40.260\n",
      "(Epoch 73 / 100) Train_Loss: 122.217; Val_Loss: 161.900   Train_ACC: 6.343; Val_ACC: 14.444   Train_NMI: 10.273; Val_NMI: 36.146\n",
      "(Epoch 74 / 100) Train_Loss: 122.548; Val_Loss: 161.293   Train_ACC: 6.096; Val_ACC: 15.556   Train_NMI: 8.713; Val_NMI: 39.721\n",
      "(Epoch 75 / 100) Train_Loss: 120.598; Val_Loss: 154.749   Train_ACC: 5.972; Val_ACC: 15.185   Train_NMI: 10.011; Val_NMI: 39.586\n",
      "(Epoch 76 / 100) Train_Loss: 118.395; Val_Loss: 152.967   Train_ACC: 6.054; Val_ACC: 14.444   Train_NMI: 9.196; Val_NMI: 37.222\n",
      "(Epoch 77 / 100) Train_Loss: 118.385; Val_Loss: 155.559   Train_ACC: 5.931; Val_ACC: 14.815   Train_NMI: 9.172; Val_NMI: 38.710\n",
      "(Epoch 78 / 100) Train_Loss: 118.074; Val_Loss: 159.489   Train_ACC: 6.301; Val_ACC: 15.185   Train_NMI: 9.995; Val_NMI: 38.862\n",
      "(Epoch 79 / 100) Train_Loss: 116.876; Val_Loss: 160.180   Train_ACC: 6.466; Val_ACC: 15.556   Train_NMI: 9.826; Val_NMI: 39.987\n",
      "(Epoch 80 / 100) Train_Loss: 116.734; Val_Loss: 160.031   Train_ACC: 6.219; Val_ACC: 15.926   Train_NMI: 9.783; Val_NMI: 39.910\n",
      "(Epoch 81 / 100) Train_Loss: 115.855; Val_Loss: 156.914   Train_ACC: 6.178; Val_ACC: 15.926   Train_NMI: 9.401; Val_NMI: 39.935\n",
      "(Epoch 82 / 100) Train_Loss: 115.198; Val_Loss: 161.455   Train_ACC: 5.848; Val_ACC: 15.185   Train_NMI: 8.706; Val_NMI: 38.860\n",
      "(Epoch 83 / 100) Train_Loss: 114.361; Val_Loss: 155.565   Train_ACC: 6.343; Val_ACC: 16.667   Train_NMI: 9.872; Val_NMI: 40.648\n",
      "(Epoch 84 / 100) Train_Loss: 113.428; Val_Loss: 158.525   Train_ACC: 6.137; Val_ACC: 16.667   Train_NMI: 9.522; Val_NMI: 40.734\n",
      "(Epoch 85 / 100) Train_Loss: 112.967; Val_Loss: 155.761   Train_ACC: 6.219; Val_ACC: 15.926   Train_NMI: 10.353; Val_NMI: 41.099\n",
      "(Epoch 86 / 100) Train_Loss: 112.280; Val_Loss: 155.811   Train_ACC: 6.343; Val_ACC: 17.778   Train_NMI: 9.936; Val_NMI: 42.433\n",
      "(Epoch 87 / 100) Train_Loss: 112.016; Val_Loss: 164.408   Train_ACC: 6.384; Val_ACC: 17.037   Train_NMI: 9.680; Val_NMI: 42.292\n",
      "(Epoch 88 / 100) Train_Loss: 111.248; Val_Loss: 158.120   Train_ACC: 6.466; Val_ACC: 17.037   Train_NMI: 10.191; Val_NMI: 41.543\n",
      "(Epoch 89 / 100) Train_Loss: 110.221; Val_Loss: 159.748   Train_ACC: 6.384; Val_ACC: 16.296   Train_NMI: 10.010; Val_NMI: 41.553\n",
      "(Epoch 90 / 100) Train_Loss: 109.193; Val_Loss: 161.797   Train_ACC: 6.343; Val_ACC: 17.037   Train_NMI: 10.191; Val_NMI: 42.766\n",
      "(Epoch 91 / 100) Train_Loss: 109.179; Val_Loss: 160.656   Train_ACC: 6.384; Val_ACC: 16.667   Train_NMI: 10.290; Val_NMI: 41.861\n",
      "(Epoch 92 / 100) Train_Loss: 108.264; Val_Loss: 157.671   Train_ACC: 6.384; Val_ACC: 17.037   Train_NMI: 10.454; Val_NMI: 42.684\n",
      "(Epoch 93 / 100) Train_Loss: 107.853; Val_Loss: 166.952   Train_ACC: 6.219; Val_ACC: 16.667   Train_NMI: 10.064; Val_NMI: 42.645\n",
      "(Epoch 94 / 100) Train_Loss: 109.075; Val_Loss: 159.916   Train_ACC: 6.425; Val_ACC: 15.926   Train_NMI: 10.495; Val_NMI: 42.842\n",
      "(Epoch 95 / 100) Train_Loss: 107.183; Val_Loss: 163.327   Train_ACC: 6.425; Val_ACC: 17.778   Train_NMI: 10.724; Val_NMI: 43.893\n",
      "(Epoch 96 / 100) Train_Loss: 106.703; Val_Loss: 159.473   Train_ACC: 6.631; Val_ACC: 17.778   Train_NMI: 10.946; Val_NMI: 45.170\n",
      "(Epoch 97 / 100) Train_Loss: 105.767; Val_Loss: 163.843   Train_ACC: 6.713; Val_ACC: 18.148   Train_NMI: 10.674; Val_NMI: 44.124\n",
      "(Epoch 98 / 100) Train_Loss: 104.860; Val_Loss: 167.130   Train_ACC: 6.507; Val_ACC: 17.407   Train_NMI: 10.446; Val_NMI: 43.889\n",
      "(Epoch 99 / 100) Train_Loss: 104.008; Val_Loss: 164.961   Train_ACC: 6.713; Val_ACC: 17.037   Train_NMI: 10.483; Val_NMI: 43.357\n",
      "(Epoch 100 / 100) Train_Loss: 103.511; Val_Loss: 160.125   Train_ACC: 6.590; Val_ACC: 18.148   Train_NMI: 11.117; Val_NMI: 44.877\n"
     ]
    }
   ],
   "source": [
    "history_loss = gmvae.train(train_dl, valid_dl)"
   ]
  },
  {
   "cell_type": "code",
   "execution_count": 17,
   "metadata": {},
   "outputs": [],
   "source": [
    "torch.save(gmvae.network.state_dict(), 'smba_gmvae.pth')"
   ]
  },
  {
   "cell_type": "code",
   "execution_count": 18,
   "metadata": {},
   "outputs": [
    {
     "data": {
      "text/plain": [
       "<All keys matched successfully>"
      ]
     },
     "execution_count": 18,
     "metadata": {},
     "output_type": "execute_result"
    }
   ],
   "source": [
    "gmvae.network.load_state_dict(torch.load('smba_gmvae.pth'))"
   ]
  },
  {
   "cell_type": "markdown",
   "metadata": {
    "colab_type": "text",
    "id": "1bHWNxV-gAl2"
   },
   "source": [
    "## Image Reconstruction"
   ]
  },
  {
   "cell_type": "code",
   "execution_count": 19,
   "metadata": {
    "colab": {
     "base_uri": "https://localhost:8080/",
     "height": 160
    },
    "colab_type": "code",
    "id": "wd5jQFFHgCbD",
    "outputId": "8e1d4654-fb01-49dc-b512-e8e4bb259e0f"
   },
   "outputs": [],
   "source": [
    "original, reconstructed = gmvae.reconstruct_data(train_dl, 15)  "
   ]
  },
  {
   "cell_type": "code",
   "execution_count": 20,
   "metadata": {},
   "outputs": [],
   "source": [
    "original_int = original.reshape(15, 16, 16, 12).argmax(axis=-1)\n",
    "reconstructed_int = reconstructed.reshape(15, 16, 16, 12).argmax(axis=-1)"
   ]
  },
  {
   "cell_type": "code",
   "execution_count": 21,
   "metadata": {},
   "outputs": [],
   "source": [
    "def get_classes(chunks_int):\n",
    "    classes = []\n",
    "    for i in chunks_int:\n",
    "        if i.max() == 6:\n",
    "            classes.append('kia')\n",
    "        else:\n",
    "            classes.append('smba')\n",
    "    return np.array(classes)"
   ]
  },
  {
   "cell_type": "code",
   "execution_count": 22,
   "metadata": {},
   "outputs": [],
   "source": [
    "org_classes = get_classes(original_int)\n",
    "rec_classes = get_classes(reconstructed_int)\n",
    "assert np.sum(org_classes == rec_classes) == len(org_classes)"
   ]
  },
  {
   "cell_type": "code",
   "execution_count": 23,
   "metadata": {},
   "outputs": [],
   "source": [
    "def get_images(chunks_int):\n",
    "    images = []\n",
    "    for game, chunk in zip(get_classes(chunks_int), chunks_int):\n",
    "        images.append(vglc_with_path_encodings.array_to_image([chunk], game=game)[0])\n",
    "    return images"
   ]
  },
  {
   "cell_type": "code",
   "execution_count": 24,
   "metadata": {},
   "outputs": [
    {
     "data": {
      "text/plain": [
       "(15, 15)"
      ]
     },
     "execution_count": 24,
     "metadata": {},
     "output_type": "execute_result"
    }
   ],
   "source": [
    "org_images = get_images(original_int)\n",
    "rec_images = get_images(reconstructed_int)\n",
    "len(org_images), len(rec_images)"
   ]
  },
  {
   "cell_type": "code",
   "execution_count": 25,
   "metadata": {},
   "outputs": [
    {
     "data": {
      "image/png": "[encoded data removed]",
      "text/plain": [
       "<Figure size 1728x576 with 30 Axes>"
      ]
     },
     "metadata": {
      "needs_background": "light"
     },
     "output_type": "display_data"
    }
   ],
   "source": [
    "fig, axes = plt.subplots(nrows=3, ncols=10, figsize=(24, 8))\n",
    "axes = axes.flatten()\n",
    "nrows, ncols = 3, 10\n",
    "\n",
    "org_idxs = np.arange(0, 29, 2)\n",
    "rec_idxs = org_idxs + 1\n",
    "\n",
    "for idx in org_idxs:\n",
    "        \n",
    "    ax = axes[idx]\n",
    "\n",
    "    ax.imshow(np.asarray(org_images[idx // 2]))\n",
    "    ax.set_title(f'Org {idx // 2 + 1}')\n",
    "    \n",
    "    ax.axis('off')\n",
    "\n",
    "for idx in rec_idxs:\n",
    "        \n",
    "    ax = axes[idx]\n",
    "\n",
    "    ax.imshow(np.asarray(rec_images[idx // 2]))\n",
    "    ax.set_title(f'Rec {idx // 2 + 1}')\n",
    "\n",
    "    ax.axis('off')\n",
    "    \n",
    "plt.show()"
   ]
  },
  {
   "cell_type": "markdown",
   "metadata": {
    "colab_type": "text",
    "id": "CAyoGFFRgMgC"
   },
   "source": [
    "## Random Generation per Category"
   ]
  },
  {
   "cell_type": "code",
   "execution_count": 26,
   "metadata": {
    "colab": {
     "base_uri": "https://localhost:8080/",
     "height": 595
    },
    "colab_type": "code",
    "id": "xE84c3U2gLjA",
    "outputId": "cd52f356-e53a-4844-9db2-3723d15ddb00"
   },
   "outputs": [
    {
     "data": {
      "image/png": "[encoded data removed]",
      "text/plain": [
       "<Figure size 1728x1728 with 48 Axes>"
      ]
     },
     "metadata": {
      "needs_background": "light"
     },
     "output_type": "display_data"
    }
   ],
   "source": [
    "def display_random_generation(generated, num_classes, n=10):\n",
    "    plt.figure(figsize=[24,24])\n",
    "    for c in range(num_classes):\n",
    "        for i in range(n):\n",
    "            plt.subplot(num_classes, n, (c * n) + i + 1)\n",
    "            chunk_int = generated[(c * n) + i].reshape(16, 16, 12).argmax(axis=-1)\n",
    "            chunk_pix = vglc_with_path_encodings.array_to_image([chunk_int], game='smba')[0]\n",
    "            plt.imshow(chunk_pix)\n",
    "            plt.gray()\n",
    "            plt.axis('off')\n",
    "    plt.show()\n",
    "\n",
    "elem_per_category = 1\n",
    "generated = gmvae.random_generation(elem_per_category)\n",
    "display_random_generation(generated, args.num_classes, elem_per_category)"
   ]
  },
  {
   "cell_type": "code",
   "execution_count": 27,
   "metadata": {},
   "outputs": [],
   "source": [
    "elem_per_category = 10000 // num_components\n",
    "generated = gmvae.random_generation(elem_per_category)"
   ]
  },
  {
   "cell_type": "code",
   "execution_count": 28,
   "metadata": {},
   "outputs": [],
   "source": [
    "generated_int = generated.reshape(-1, 16, 16, 12).argmax(axis=-1)"
   ]
  },
  {
   "cell_type": "code",
   "execution_count": 29,
   "metadata": {},
   "outputs": [
    {
     "data": {
      "text/plain": [
       "(9984, 16, 16)"
      ]
     },
     "execution_count": 29,
     "metadata": {},
     "output_type": "execute_result"
    }
   ],
   "source": [
    "generated_int.shape"
   ]
  },
  {
   "cell_type": "code",
   "execution_count": 30,
   "metadata": {},
   "outputs": [],
   "source": [
    "# since this code chunk depends on random seed, it shouldn't be run again\n",
    "with open(f'../smba_generations/smba_gmvae_{num_components}.json', 'w+') as json_f:\n",
    "    json.dump(generated_int.tolist(), json_f)"
   ]
  },
  {
   "cell_type": "markdown",
   "metadata": {
    "colab_type": "text",
    "id": "-SbXR7FkhIcq"
   },
   "source": [
    "## Visualization of the feature latent space"
   ]
  },
  {
   "cell_type": "code",
   "execution_count": 31,
   "metadata": {
    "colab": {},
    "colab_type": "code",
    "id": "bTkEBA9JhQ2C"
   },
   "outputs": [],
   "source": [
    "# get feature representations\n",
    "test_features, test_labels = gmvae.latent_features(train_dl, True)"
   ]
  },
  {
   "cell_type": "code",
   "execution_count": 32,
   "metadata": {
    "colab": {},
    "colab_type": "code",
    "id": "LNmsz5rahZAY"
   },
   "outputs": [],
   "source": [
    "# import TSNE from scikit-learn library\n",
    "from sklearn.manifold import TSNE\n",
    "\n",
    "# reduce dimensionality to 2D, we consider a subset of data because TSNE\n",
    "# is a slow algorithm\n",
    "\n",
    "first_n = 1000\n",
    "tsne_features = TSNE(n_components=2).fit_transform(test_features[:first_n])"
   ]
  },
  {
   "cell_type": "code",
   "execution_count": 33,
   "metadata": {},
   "outputs": [],
   "source": [
    "test_labels_subset = test_labels[:first_n]"
   ]
  },
  {
   "cell_type": "code",
   "execution_count": 34,
   "metadata": {},
   "outputs": [],
   "source": [
    "X_, Y_ = np.s_[:,0], np.s_[:,1]"
   ]
  },
  {
   "cell_type": "code",
   "execution_count": 35,
   "metadata": {
    "colab": {
     "base_uri": "https://localhost:8080/",
     "height": 395
    },
    "colab_type": "code",
    "id": "wyTtDdwyha-L",
    "outputId": "350e806a-6dd3-47f2-bd91-444aaf61b3dd"
   },
   "outputs": [
    {
     "data": {
      "image/png": "[encoded data removed]",
      "text/plain": [
       "<Figure size 360x360 with 1 Axes>"
      ]
     },
     "metadata": {
      "needs_background": "light"
     },
     "output_type": "display_data"
    }
   ],
   "source": [
    "fig = plt.figure(figsize=(5, 5))\n",
    "\n",
    "plt.scatter(tsne_features[X_], tsne_features[Y_])\n",
    "\n",
    "plt.title('Projection from latent space to 2D')\n",
    "plt.show()"
   ]
  },
  {
   "cell_type": "markdown",
   "metadata": {},
   "source": []
  }
 ],
 "metadata": {
  "accelerator": "GPU",
  "colab": {
   "collapsed_sections": [],
   "include_colab_link": true,
   "name": "GMVAE_Pytorch.ipynb",
   "provenance": []
  },
  "kernelspec": {
   "display_name": "Python 3",
   "language": "python",
   "name": "python3"
  },
  "language_info": {
   "codemirror_mode": {
    "name": "ipython",
    "version": 3
   },
   "file_extension": ".py",
   "mimetype": "text/x-python",
   "name": "python",
   "nbconvert_exporter": "python",
   "pygments_lexer": "ipython3",
   "version": "3.7.6"
  },
  "toc": {
   "base_numbering": 1,
   "nav_menu": {},
   "number_sections": false,
   "sideBar": true,
   "skip_h1_title": false,
   "title_cell": "Table of Contents",
   "title_sidebar": "Contents",
   "toc_cell": false,
   "toc_position": {},
   "toc_section_display": true,
   "toc_window_display": false
  },
  "varInspector": {
   "cols": {
    "lenName": 16,
    "lenType": 16,
    "lenVar": 40
   },
   "kernels_config": {
    "python": {
     "delete_cmd_postfix": "",
     "delete_cmd_prefix": "del ",
     "library": "var_list.py",
     "varRefreshCmd": "print(var_dic_list())"
    },
    "r": {
     "delete_cmd_postfix": ") ",
     "delete_cmd_prefix": "rm(",
     "library": "var_list.r",
     "varRefreshCmd": "cat(var_dic_list()) "
    }
   },
   "types_to_exclude": [
    "module",
    "function",
    "builtin_function_or_method",
    "instance",
    "_Feature"
   ],
   "window_display": false
  }
 },
 "nbformat": 4,
 "nbformat_minor": 1
}
