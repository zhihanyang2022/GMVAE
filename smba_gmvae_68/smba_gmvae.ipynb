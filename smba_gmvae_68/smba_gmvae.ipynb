{
 "cells": [
  {
   "cell_type": "markdown",
   "metadata": {},
   "source": [
    "# GM-VAE for SMBA"
   ]
  },
  {
   "cell_type": "code",
   "execution_count": 1,
   "metadata": {},
   "outputs": [],
   "source": [
    "num_components=68"
   ]
  },
  {
   "cell_type": "markdown",
   "metadata": {
    "colab_type": "text",
    "id": "rGzTb0oswH5J"
   },
   "source": [
    "## Import Libraries"
   ]
  },
  {
   "cell_type": "code",
   "execution_count": 2,
   "metadata": {
    "colab": {},
    "colab_type": "code",
    "id": "ThVeaB3CwI4j"
   },
   "outputs": [],
   "source": [
    "import json\n",
    "\n",
    "import numpy as np\n",
    "import argparse\n",
    "import random\n",
    "from torchvision import datasets, transforms\n",
    "from torch.utils.data.sampler import SubsetRandomSampler\n",
    "import torch.utils.data\n",
    "from scipy.io import loadmat\n",
    "\n",
    "import sys\n",
    "sys.path.append('./pytorch')\n",
    "sys.path.append('../../1906-pcgml/pcgml-gmmVae-exp/modules/')\n",
    "import vglc_with_path_encodings\n",
    "\n",
    "from model.GMVAE import *\n",
    "import matplotlib.pyplot as plt\n",
    "import seaborn as sns\n",
    "%matplotlib inline\n",
    "\n",
    "import warnings\n",
    "warnings.filterwarnings('ignore')"
   ]
  },
  {
   "cell_type": "markdown",
   "metadata": {},
   "source": [
    "## Load data"
   ]
  },
  {
   "cell_type": "code",
   "execution_count": 3,
   "metadata": {},
   "outputs": [],
   "source": [
    "def open_json_as_nparray(json_fname):\n",
    "    with open(json_fname, 'r') as json_f:\n",
    "        return np.array(json.load(json_f))"
   ]
  },
  {
   "cell_type": "markdown",
   "metadata": {},
   "source": [
    "Load SMB."
   ]
  },
  {
   "cell_type": "code",
   "execution_count": 4,
   "metadata": {},
   "outputs": [],
   "source": [
    "smb_int = open_json_as_nparray('smbWithPath-allLevels-chunks-int.json')"
   ]
  },
  {
   "cell_type": "code",
   "execution_count": 5,
   "metadata": {},
   "outputs": [
    {
     "data": {
      "text/plain": [
       "(2698, 16, 16, 12)"
      ]
     },
     "execution_count": 5,
     "metadata": {},
     "output_type": "execute_result"
    }
   ],
   "source": [
    "smb_onehot = np.eye(len(np.unique(smb_int)))[smb_int]\n",
    "smb_onehot.shape"
   ]
  },
  {
   "cell_type": "code",
   "execution_count": 6,
   "metadata": {},
   "outputs": [
    {
     "data": {
      "text/plain": [
       "(2698, 3072)"
      ]
     },
     "execution_count": 6,
     "metadata": {},
     "output_type": "execute_result"
    }
   ],
   "source": [
    "smb_onehot = smb_onehot.reshape(\n",
    "    smb_onehot.shape[0], \n",
    "    smb_onehot.shape[1] * smb_onehot.shape[2] * smb_onehot.shape[3]\n",
    ")\n",
    "smb_onehot.shape"
   ]
  },
  {
   "cell_type": "code",
   "execution_count": 7,
   "metadata": {},
   "outputs": [
    {
     "data": {
      "text/plain": [
       "((2698,),\n",
       " array([51, 14, 60, 20, 23,  2, 21, 52,  1, 29, 37,  1, 63, 59, 20, 32, 57,\n",
       "        21, 48, 58]))"
      ]
     },
     "execution_count": 7,
     "metadata": {},
     "output_type": "execute_result"
    }
   ],
   "source": [
    "np.random.seed(42)\n",
    "smb_labels = np.random.randint(num_components, size=smb_onehot.shape[0])\n",
    "smb_labels.shape, smb_labels[:20]"
   ]
  },
  {
   "cell_type": "code",
   "execution_count": 8,
   "metadata": {},
   "outputs": [],
   "source": [
    "chunks, labels = smb_onehot, smb_labels"
   ]
  },
  {
   "cell_type": "code",
   "execution_count": 9,
   "metadata": {},
   "outputs": [
    {
     "data": {
      "image/png": "[encoded data removed]",
      "text/plain": [
       "<Figure size 432x288 with 1 Axes>"
      ]
     },
     "metadata": {
      "needs_background": "light"
     },
     "output_type": "display_data"
    }
   ],
   "source": [
    "plt.bar(np.arange(num_components), np.bincount(smb_labels))\n",
    "plt.show()"
   ]
  },
  {
   "cell_type": "markdown",
   "metadata": {
    "colab_type": "text",
    "id": "3QNKItMHwQU2"
   },
   "source": [
    "## Input Parameters"
   ]
  },
  {
   "cell_type": "code",
   "execution_count": 10,
   "metadata": {
    "colab": {},
    "colab_type": "code",
    "id": "8tBHkTQ4wVIG"
   },
   "outputs": [],
   "source": [
    "########################################################\n",
    "## Input Parameters\n",
    "#########################################################\n",
    "parser = argparse.ArgumentParser(description='PyTorch Implementation of DGM Clustering')\n",
    "\n",
    "## Used only in notebooks\n",
    "parser.add_argument('-f', '--file',\n",
    "                    help='Path for input file. First line should contain number of lines to search in')\n",
    "\n",
    "## Dataset\n",
    "parser.add_argument('--dataset', type=str, choices=['mnist'],\n",
    "                    default='mnist', help='dataset (default: mnist)')\n",
    "parser.add_argument('--seed', type=int, default=1, help='random seed (default: 1)')\n",
    "\n",
    "## GPU\n",
    "parser.add_argument('--cuda', type=int, default=1,\n",
    "                    help='use of cuda (default: 1)')\n",
    "parser.add_argument('--gpuID', type=int, default=0,\n",
    "                    help='set gpu id to use (default: 0)')\n",
    "\n",
    "## Training\n",
    "parser.add_argument('--epochs', type=int, default=100,\n",
    "                    help='number of total epochs to run (default: 200)')\n",
    "parser.add_argument('--batch_size', default=64, type=int,\n",
    "                    help='mini-batch size (default: 64)')\n",
    "parser.add_argument('--batch_size_val', default=200, type=int,\n",
    "                    help='mini-batch size of validation (default: 200)')\n",
    "parser.add_argument('--learning_rate', default=1e-3, type=float,\n",
    "                    help='learning rate (default: 0.001)')\n",
    "parser.add_argument('--decay_epoch', default=-1, type=int, \n",
    "                    help='Reduces the learning rate every decay_epoch')\n",
    "parser.add_argument('--lr_decay', default=0.5, type=float,\n",
    "                    help='Learning rate decay for training (default: 0.5)')\n",
    "\n",
    "## Architecture\n",
    "parser.add_argument('--num_classes', type=int, default=num_components,\n",
    "                    help='number of classes (default: 10)')  # edited for this task\n",
    "parser.add_argument('--gaussian_size', default=64, type=int,\n",
    "                    help='gaussian size (default: 64)')\n",
    "parser.add_argument('--input_size', default=3072, type=int,\n",
    "                    help='input size (default: 784)')  # edited for this task\n",
    "\n",
    "## Partition parameters\n",
    "parser.add_argument('--train_proportion', default=0.9, type=float,\n",
    "                    help='proportion of examples to consider for training only (default: 1.0)')\n",
    "\n",
    "## Gumbel parameters\n",
    "parser.add_argument('--init_temp', default=1.0, type=float,\n",
    "                    help='Initial temperature used in gumbel-softmax (recommended 0.5-1.0, default:1.0)')\n",
    "parser.add_argument('--decay_temp', default=1, type=int, \n",
    "                    help='Set 1 to decay gumbel temperature at every epoch (default: 1)')\n",
    "parser.add_argument('--hard_gumbel', default=0, type=int, \n",
    "                    help='Set 1 to use the hard version of gumbel-softmax (default: 1)')\n",
    "parser.add_argument('--min_temp', default=0.5, type=float, \n",
    "                    help='Minimum temperature of gumbel-softmax after annealing (default: 0.5)' )\n",
    "parser.add_argument('--decay_temp_rate', default=0.013862944, type=float,\n",
    "                    help='Temperature decay rate at every epoch (default: 0.013862944)')\n",
    "\n",
    "## Loss function parameters\n",
    "parser.add_argument('--w_gauss', default=2, type=float,\n",
    "                    help='weight of gaussian loss (default: 1)')\n",
    "parser.add_argument('--w_categ', default=1, type=float,\n",
    "                    help='weight of categorical loss (default: 1)')\n",
    "parser.add_argument('--w_rec', default=1, type=float,\n",
    "                    help='weight of reconstruction loss (default: 1)')\n",
    "parser.add_argument('--rec_type', type=str, choices=['bce', 'mse'],\n",
    "                    default='bce', help='desired reconstruction loss function (default: bce)')\n",
    "\n",
    "## Others\n",
    "parser.add_argument('--verbose', default=0, type=int,\n",
    "                    help='print extra information at every epoch.(default: 0)')\n",
    "\n",
    "args = parser.parse_args()"
   ]
  },
  {
   "cell_type": "markdown",
   "metadata": {
    "colab_type": "text",
    "id": "Bti6lPHawc9z"
   },
   "source": [
    "Set random seed in case it was specified in the parameters\n"
   ]
  },
  {
   "cell_type": "code",
   "execution_count": 11,
   "metadata": {
    "colab": {},
    "colab_type": "code",
    "id": "IpWPxTy1wgbJ"
   },
   "outputs": [],
   "source": [
    "## Random Seed\n",
    "SEED = args.seed\n",
    "np.random.seed(SEED)\n",
    "random.seed(SEED)\n",
    "torch.manual_seed(SEED)\n",
    "if args.cuda:\n",
    "    torch.cuda.manual_seed(SEED)"
   ]
  },
  {
   "cell_type": "markdown",
   "metadata": {
    "colab_type": "text",
    "id": "fmrkmhttwkiD"
   },
   "source": [
    "## Data Partition"
   ]
  },
  {
   "cell_type": "markdown",
   "metadata": {
    "colab_type": "text",
    "id": "fUuTFMBhb2vZ"
   },
   "source": [
    "We split the training data into train and validation according to the *train_proportion* parameter:"
   ]
  },
  {
   "cell_type": "code",
   "execution_count": 12,
   "metadata": {},
   "outputs": [],
   "source": [
    "from torch.utils.data import TensorDataset, DataLoader"
   ]
  },
  {
   "cell_type": "code",
   "execution_count": 13,
   "metadata": {},
   "outputs": [],
   "source": [
    "assert args.train_proportion != 1"
   ]
  },
  {
   "cell_type": "code",
   "execution_count": 14,
   "metadata": {
    "colab": {},
    "colab_type": "code",
    "id": "P8F6pjC7cNX7"
   },
   "outputs": [],
   "source": [
    "def partition_dataset(n, proportion=1):\n",
    "   train_num = int(n * proportion)\n",
    "   indices = np.random.permutation(n)\n",
    "   train_indices, val_indices = indices[:train_num], indices[train_num:]\n",
    "   return train_indices, val_indices\n",
    "\n",
    "train_indices, val_indices = partition_dataset(len(chunks), args.train_proportion)\n",
    "train_ds = TensorDataset(torch.from_numpy(chunks).float(), torch.from_numpy(labels).long())\n",
    "train_dl = DataLoader(train_ds, batch_size=args.batch_size, sampler=SubsetRandomSampler(train_indices))\n",
    "valid_dl = DataLoader(train_ds, batch_size=args.batch_size_val, sampler=SubsetRandomSampler(val_indices))"
   ]
  },
  {
   "cell_type": "markdown",
   "metadata": {
    "colab_type": "text",
    "id": "Pt7sEfZWw_U7"
   },
   "source": [
    "## Train Model"
   ]
  },
  {
   "cell_type": "code",
   "execution_count": 15,
   "metadata": {
    "colab": {},
    "colab_type": "code",
    "id": "qTncRSCuxFEL"
   },
   "outputs": [],
   "source": [
    "# Model Initialization\n",
    "gmvae = GMVAE(args)"
   ]
  },
  {
   "cell_type": "code",
   "execution_count": 16,
   "metadata": {},
   "outputs": [
    {
     "name": "stdout",
     "output_type": "stream",
     "text": [
      "(Epoch 1 / 100) Train_Loss: 489.520; Val_Loss: 246.200   Train_ACC: 4.077; Val_ACC: 5.926   Train_NMI: 6.535; Val_NMI: 11.194\n",
      "(Epoch 2 / 100) Train_Loss: 228.565; Val_Loss: 227.068   Train_ACC: 3.995; Val_ACC: 5.556   Train_NMI: 5.688; Val_NMI: 7.444\n",
      "(Epoch 3 / 100) Train_Loss: 224.197; Val_Loss: 224.934   Train_ACC: 3.583; Val_ACC: 8.148   Train_NMI: 5.214; Val_NMI: 21.607\n",
      "(Epoch 4 / 100) Train_Loss: 222.641; Val_Loss: 222.913   Train_ACC: 3.336; Val_ACC: 5.185   Train_NMI: 5.055; Val_NMI: 16.507\n",
      "(Epoch 5 / 100) Train_Loss: 216.120; Val_Loss: 212.849   Train_ACC: 3.871; Val_ACC: 7.407   Train_NMI: 6.907; Val_NMI: 18.957\n",
      "(Epoch 6 / 100) Train_Loss: 211.861; Val_Loss: 213.321   Train_ACC: 3.171; Val_ACC: 5.185   Train_NMI: 4.498; Val_NMI: 8.713\n",
      "(Epoch 7 / 100) Train_Loss: 208.168; Val_Loss: 205.639   Train_ACC: 3.377; Val_ACC: 6.296   Train_NMI: 4.607; Val_NMI: 12.756\n",
      "(Epoch 8 / 100) Train_Loss: 204.953; Val_Loss: 207.095   Train_ACC: 3.460; Val_ACC: 5.556   Train_NMI: 4.503; Val_NMI: 9.502\n",
      "(Epoch 9 / 100) Train_Loss: 201.012; Val_Loss: 201.881   Train_ACC: 4.325; Val_ACC: 6.667   Train_NMI: 7.921; Val_NMI: 18.764\n",
      "(Epoch 10 / 100) Train_Loss: 198.503; Val_Loss: 200.618   Train_ACC: 3.748; Val_ACC: 8.148   Train_NMI: 6.239; Val_NMI: 25.034\n",
      "(Epoch 11 / 100) Train_Loss: 193.884; Val_Loss: 197.942   Train_ACC: 4.201; Val_ACC: 8.519   Train_NMI: 7.550; Val_NMI: 25.900\n",
      "(Epoch 12 / 100) Train_Loss: 191.116; Val_Loss: 195.092   Train_ACC: 3.789; Val_ACC: 8.889   Train_NMI: 6.966; Val_NMI: 27.260\n",
      "(Epoch 13 / 100) Train_Loss: 189.087; Val_Loss: 205.024   Train_ACC: 3.830; Val_ACC: 9.259   Train_NMI: 6.251; Val_NMI: 24.061\n",
      "(Epoch 14 / 100) Train_Loss: 187.053; Val_Loss: 191.980   Train_ACC: 4.283; Val_ACC: 8.148   Train_NMI: 7.989; Val_NMI: 22.838\n",
      "(Epoch 15 / 100) Train_Loss: 184.788; Val_Loss: 192.650   Train_ACC: 4.530; Val_ACC: 9.259   Train_NMI: 8.215; Val_NMI: 28.355\n",
      "(Epoch 16 / 100) Train_Loss: 183.613; Val_Loss: 190.558   Train_ACC: 4.077; Val_ACC: 8.889   Train_NMI: 7.266; Val_NMI: 27.760\n",
      "(Epoch 17 / 100) Train_Loss: 182.041; Val_Loss: 189.301   Train_ACC: 3.913; Val_ACC: 8.148   Train_NMI: 6.698; Val_NMI: 25.991\n",
      "(Epoch 18 / 100) Train_Loss: 180.257; Val_Loss: 185.554   Train_ACC: 3.871; Val_ACC: 8.148   Train_NMI: 6.732; Val_NMI: 22.108\n",
      "(Epoch 19 / 100) Train_Loss: 178.313; Val_Loss: 192.613   Train_ACC: 3.954; Val_ACC: 9.259   Train_NMI: 7.494; Val_NMI: 30.898\n",
      "(Epoch 20 / 100) Train_Loss: 176.377; Val_Loss: 185.383   Train_ACC: 3.871; Val_ACC: 8.889   Train_NMI: 6.678; Val_NMI: 26.377\n",
      "(Epoch 21 / 100) Train_Loss: 175.588; Val_Loss: 188.178   Train_ACC: 4.077; Val_ACC: 9.259   Train_NMI: 8.269; Val_NMI: 29.116\n",
      "(Epoch 22 / 100) Train_Loss: 174.913; Val_Loss: 183.295   Train_ACC: 4.489; Val_ACC: 8.519   Train_NMI: 9.049; Val_NMI: 27.603\n",
      "(Epoch 23 / 100) Train_Loss: 173.843; Val_Loss: 180.656   Train_ACC: 4.119; Val_ACC: 9.630   Train_NMI: 7.204; Val_NMI: 31.534\n",
      "(Epoch 24 / 100) Train_Loss: 172.582; Val_Loss: 187.037   Train_ACC: 4.325; Val_ACC: 9.259   Train_NMI: 7.882; Val_NMI: 28.308\n",
      "(Epoch 25 / 100) Train_Loss: 171.630; Val_Loss: 185.943   Train_ACC: 4.119; Val_ACC: 9.259   Train_NMI: 7.583; Val_NMI: 28.073\n",
      "(Epoch 26 / 100) Train_Loss: 171.504; Val_Loss: 185.396   Train_ACC: 3.624; Val_ACC: 7.407   Train_NMI: 6.110; Val_NMI: 23.179\n",
      "(Epoch 27 / 100) Train_Loss: 170.410; Val_Loss: 175.515   Train_ACC: 4.160; Val_ACC: 10.370   Train_NMI: 7.636; Val_NMI: 32.204\n",
      "(Epoch 28 / 100) Train_Loss: 169.305; Val_Loss: 181.239   Train_ACC: 4.077; Val_ACC: 8.889   Train_NMI: 7.554; Val_NMI: 27.094\n",
      "(Epoch 29 / 100) Train_Loss: 168.814; Val_Loss: 175.244   Train_ACC: 4.036; Val_ACC: 9.259   Train_NMI: 6.443; Val_NMI: 28.175\n",
      "(Epoch 30 / 100) Train_Loss: 168.058; Val_Loss: 181.815   Train_ACC: 4.201; Val_ACC: 10.000   Train_NMI: 7.040; Val_NMI: 26.914\n",
      "(Epoch 31 / 100) Train_Loss: 166.927; Val_Loss: 174.552   Train_ACC: 4.489; Val_ACC: 11.111   Train_NMI: 7.787; Val_NMI: 30.709\n",
      "(Epoch 32 / 100) Train_Loss: 165.775; Val_Loss: 182.077   Train_ACC: 4.613; Val_ACC: 10.741   Train_NMI: 9.017; Val_NMI: 31.282\n",
      "(Epoch 33 / 100) Train_Loss: 164.609; Val_Loss: 173.549   Train_ACC: 4.160; Val_ACC: 9.630   Train_NMI: 7.659; Val_NMI: 29.265\n",
      "(Epoch 34 / 100) Train_Loss: 164.961; Val_Loss: 171.642   Train_ACC: 4.036; Val_ACC: 10.370   Train_NMI: 7.209; Val_NMI: 32.771\n",
      "(Epoch 35 / 100) Train_Loss: 162.771; Val_Loss: 172.440   Train_ACC: 4.283; Val_ACC: 10.370   Train_NMI: 7.782; Val_NMI: 31.744\n",
      "(Epoch 36 / 100) Train_Loss: 161.310; Val_Loss: 173.998   Train_ACC: 4.366; Val_ACC: 11.852   Train_NMI: 7.937; Val_NMI: 35.340\n",
      "(Epoch 37 / 100) Train_Loss: 160.799; Val_Loss: 174.634   Train_ACC: 4.283; Val_ACC: 9.630   Train_NMI: 7.584; Val_NMI: 33.021\n",
      "(Epoch 38 / 100) Train_Loss: 160.298; Val_Loss: 173.711   Train_ACC: 4.530; Val_ACC: 10.741   Train_NMI: 8.921; Val_NMI: 33.422\n",
      "(Epoch 39 / 100) Train_Loss: 158.062; Val_Loss: 173.136   Train_ACC: 4.407; Val_ACC: 11.852   Train_NMI: 8.767; Val_NMI: 36.814\n",
      "(Epoch 40 / 100) Train_Loss: 157.161; Val_Loss: 165.176   Train_ACC: 4.572; Val_ACC: 11.852   Train_NMI: 10.848; Val_NMI: 35.699\n",
      "(Epoch 41 / 100) Train_Loss: 155.961; Val_Loss: 168.126   Train_ACC: 4.860; Val_ACC: 10.741   Train_NMI: 9.557; Val_NMI: 33.551\n",
      "(Epoch 42 / 100) Train_Loss: 155.015; Val_Loss: 165.774   Train_ACC: 4.778; Val_ACC: 12.593   Train_NMI: 9.786; Val_NMI: 37.649\n",
      "(Epoch 43 / 100) Train_Loss: 154.473; Val_Loss: 167.495   Train_ACC: 4.695; Val_ACC: 11.111   Train_NMI: 9.911; Val_NMI: 34.770\n",
      "(Epoch 44 / 100) Train_Loss: 154.140; Val_Loss: 169.411   Train_ACC: 5.107; Val_ACC: 11.852   Train_NMI: 10.378; Val_NMI: 39.295\n",
      "(Epoch 45 / 100) Train_Loss: 152.494; Val_Loss: 169.798   Train_ACC: 5.025; Val_ACC: 13.333   Train_NMI: 10.204; Val_NMI: 40.572\n",
      "(Epoch 46 / 100) Train_Loss: 151.532; Val_Loss: 163.779   Train_ACC: 5.148; Val_ACC: 12.222   Train_NMI: 11.850; Val_NMI: 39.426\n",
      "(Epoch 47 / 100) Train_Loss: 150.864; Val_Loss: 167.516   Train_ACC: 4.901; Val_ACC: 13.333   Train_NMI: 10.365; Val_NMI: 41.100\n",
      "(Epoch 48 / 100) Train_Loss: 150.242; Val_Loss: 161.006   Train_ACC: 5.189; Val_ACC: 13.333   Train_NMI: 11.322; Val_NMI: 38.656\n",
      "(Epoch 49 / 100) Train_Loss: 148.914; Val_Loss: 164.716   Train_ACC: 4.778; Val_ACC: 13.333   Train_NMI: 9.837; Val_NMI: 40.743\n",
      "(Epoch 50 / 100) Train_Loss: 148.819; Val_Loss: 161.896   Train_ACC: 5.066; Val_ACC: 13.333   Train_NMI: 11.429; Val_NMI: 39.528\n",
      "(Epoch 51 / 100) Train_Loss: 147.400; Val_Loss: 162.833   Train_ACC: 5.231; Val_ACC: 11.852   Train_NMI: 11.509; Val_NMI: 38.384\n",
      "(Epoch 52 / 100) Train_Loss: 146.780; Val_Loss: 166.589   Train_ACC: 4.530; Val_ACC: 12.963   Train_NMI: 8.300; Val_NMI: 39.719\n",
      "(Epoch 53 / 100) Train_Loss: 145.961; Val_Loss: 166.453   Train_ACC: 5.231; Val_ACC: 13.704   Train_NMI: 11.637; Val_NMI: 40.535\n",
      "(Epoch 54 / 100) Train_Loss: 144.984; Val_Loss: 158.007   Train_ACC: 5.189; Val_ACC: 14.444   Train_NMI: 10.823; Val_NMI: 43.978\n",
      "(Epoch 55 / 100) Train_Loss: 143.652; Val_Loss: 161.058   Train_ACC: 5.148; Val_ACC: 11.852   Train_NMI: 11.304; Val_NMI: 38.576\n",
      "(Epoch 56 / 100) Train_Loss: 143.088; Val_Loss: 161.211   Train_ACC: 5.313; Val_ACC: 14.444   Train_NMI: 11.961; Val_NMI: 44.653\n",
      "(Epoch 57 / 100) Train_Loss: 142.466; Val_Loss: 164.631   Train_ACC: 5.519; Val_ACC: 13.333   Train_NMI: 13.006; Val_NMI: 41.668\n",
      "(Epoch 58 / 100) Train_Loss: 141.346; Val_Loss: 164.159   Train_ACC: 5.107; Val_ACC: 15.926   Train_NMI: 10.140; Val_NMI: 44.456\n",
      "(Epoch 59 / 100) Train_Loss: 140.924; Val_Loss: 162.861   Train_ACC: 5.478; Val_ACC: 13.704   Train_NMI: 12.559; Val_NMI: 41.892\n",
      "(Epoch 60 / 100) Train_Loss: 139.895; Val_Loss: 159.502   Train_ACC: 5.231; Val_ACC: 14.815   Train_NMI: 12.346; Val_NMI: 44.193\n",
      "(Epoch 61 / 100) Train_Loss: 139.934; Val_Loss: 164.635   Train_ACC: 5.766; Val_ACC: 13.704   Train_NMI: 13.150; Val_NMI: 40.812\n",
      "(Epoch 62 / 100) Train_Loss: 139.215; Val_Loss: 159.571   Train_ACC: 5.519; Val_ACC: 16.296   Train_NMI: 13.219; Val_NMI: 46.994\n",
      "(Epoch 63 / 100) Train_Loss: 138.302; Val_Loss: 159.197   Train_ACC: 5.354; Val_ACC: 13.704   Train_NMI: 11.742; Val_NMI: 42.997\n",
      "(Epoch 64 / 100) Train_Loss: 136.932; Val_Loss: 162.510   Train_ACC: 5.478; Val_ACC: 14.074   Train_NMI: 12.601; Val_NMI: 45.844\n",
      "(Epoch 65 / 100) Train_Loss: 135.957; Val_Loss: 156.667   Train_ACC: 5.643; Val_ACC: 15.185   Train_NMI: 12.758; Val_NMI: 43.816\n"
     ]
    },
    {
     "name": "stdout",
     "output_type": "stream",
     "text": [
      "(Epoch 66 / 100) Train_Loss: 135.893; Val_Loss: 161.581   Train_ACC: 5.354; Val_ACC: 14.444   Train_NMI: 12.362; Val_NMI: 42.838\n",
      "(Epoch 67 / 100) Train_Loss: 135.036; Val_Loss: 158.275   Train_ACC: 5.395; Val_ACC: 15.185   Train_NMI: 12.362; Val_NMI: 45.507\n",
      "(Epoch 68 / 100) Train_Loss: 134.287; Val_Loss: 163.902   Train_ACC: 5.107; Val_ACC: 15.926   Train_NMI: 13.169; Val_NMI: 45.689\n",
      "(Epoch 69 / 100) Train_Loss: 134.033; Val_Loss: 157.833   Train_ACC: 5.395; Val_ACC: 15.556   Train_NMI: 12.488; Val_NMI: 44.793\n",
      "(Epoch 70 / 100) Train_Loss: 133.957; Val_Loss: 156.100   Train_ACC: 5.807; Val_ACC: 16.296   Train_NMI: 14.481; Val_NMI: 48.201\n",
      "(Epoch 71 / 100) Train_Loss: 132.747; Val_Loss: 157.556   Train_ACC: 5.437; Val_ACC: 15.185   Train_NMI: 13.412; Val_NMI: 44.838\n",
      "(Epoch 72 / 100) Train_Loss: 131.804; Val_Loss: 156.115   Train_ACC: 5.848; Val_ACC: 15.556   Train_NMI: 14.264; Val_NMI: 47.671\n",
      "(Epoch 73 / 100) Train_Loss: 131.456; Val_Loss: 160.882   Train_ACC: 5.807; Val_ACC: 15.185   Train_NMI: 14.748; Val_NMI: 47.136\n",
      "(Epoch 74 / 100) Train_Loss: 131.868; Val_Loss: 162.010   Train_ACC: 5.725; Val_ACC: 17.037   Train_NMI: 13.970; Val_NMI: 47.691\n",
      "(Epoch 75 / 100) Train_Loss: 130.361; Val_Loss: 159.851   Train_ACC: 6.137; Val_ACC: 16.667   Train_NMI: 15.596; Val_NMI: 48.936\n",
      "(Epoch 76 / 100) Train_Loss: 129.500; Val_Loss: 165.230   Train_ACC: 5.684; Val_ACC: 17.778   Train_NMI: 13.478; Val_NMI: 48.559\n",
      "(Epoch 77 / 100) Train_Loss: 128.744; Val_Loss: 159.448   Train_ACC: 5.560; Val_ACC: 18.148   Train_NMI: 14.023; Val_NMI: 48.752\n",
      "(Epoch 78 / 100) Train_Loss: 128.036; Val_Loss: 157.528   Train_ACC: 5.725; Val_ACC: 15.556   Train_NMI: 14.353; Val_NMI: 46.451\n",
      "(Epoch 79 / 100) Train_Loss: 127.603; Val_Loss: 154.652   Train_ACC: 6.096; Val_ACC: 15.185   Train_NMI: 15.210; Val_NMI: 44.675\n",
      "(Epoch 80 / 100) Train_Loss: 127.361; Val_Loss: 161.648   Train_ACC: 5.848; Val_ACC: 17.037   Train_NMI: 13.890; Val_NMI: 47.579\n",
      "(Epoch 81 / 100) Train_Loss: 127.460; Val_Loss: 160.552   Train_ACC: 5.519; Val_ACC: 16.296   Train_NMI: 12.912; Val_NMI: 48.016\n",
      "(Epoch 82 / 100) Train_Loss: 127.143; Val_Loss: 156.201   Train_ACC: 5.931; Val_ACC: 18.519   Train_NMI: 14.850; Val_NMI: 50.001\n",
      "(Epoch 83 / 100) Train_Loss: 126.337; Val_Loss: 160.538   Train_ACC: 5.725; Val_ACC: 17.037   Train_NMI: 14.968; Val_NMI: 49.392\n",
      "(Epoch 84 / 100) Train_Loss: 125.346; Val_Loss: 157.209   Train_ACC: 6.096; Val_ACC: 16.296   Train_NMI: 15.146; Val_NMI: 47.173\n",
      "(Epoch 85 / 100) Train_Loss: 124.893; Val_Loss: 159.191   Train_ACC: 5.807; Val_ACC: 18.519   Train_NMI: 14.831; Val_NMI: 50.406\n",
      "(Epoch 86 / 100) Train_Loss: 123.587; Val_Loss: 157.747   Train_ACC: 6.219; Val_ACC: 16.667   Train_NMI: 15.097; Val_NMI: 48.956\n",
      "(Epoch 87 / 100) Train_Loss: 123.172; Val_Loss: 154.329   Train_ACC: 5.560; Val_ACC: 17.037   Train_NMI: 13.886; Val_NMI: 49.664\n",
      "(Epoch 88 / 100) Train_Loss: 122.555; Val_Loss: 157.844   Train_ACC: 6.013; Val_ACC: 18.148   Train_NMI: 15.116; Val_NMI: 50.802\n",
      "(Epoch 89 / 100) Train_Loss: 122.173; Val_Loss: 158.301   Train_ACC: 6.301; Val_ACC: 17.037   Train_NMI: 15.870; Val_NMI: 49.288\n",
      "(Epoch 90 / 100) Train_Loss: 121.821; Val_Loss: 167.144   Train_ACC: 6.260; Val_ACC: 16.296   Train_NMI: 15.978; Val_NMI: 47.509\n",
      "(Epoch 91 / 100) Train_Loss: 121.392; Val_Loss: 162.111   Train_ACC: 6.096; Val_ACC: 17.407   Train_NMI: 15.184; Val_NMI: 49.751\n",
      "(Epoch 92 / 100) Train_Loss: 121.352; Val_Loss: 160.273   Train_ACC: 5.643; Val_ACC: 15.926   Train_NMI: 13.872; Val_NMI: 47.425\n",
      "(Epoch 93 / 100) Train_Loss: 119.133; Val_Loss: 161.524   Train_ACC: 6.137; Val_ACC: 18.519   Train_NMI: 14.949; Val_NMI: 49.609\n",
      "(Epoch 94 / 100) Train_Loss: 119.620; Val_Loss: 162.394   Train_ACC: 6.054; Val_ACC: 17.037   Train_NMI: 15.126; Val_NMI: 50.137\n",
      "(Epoch 95 / 100) Train_Loss: 118.851; Val_Loss: 165.549   Train_ACC: 6.137; Val_ACC: 18.148   Train_NMI: 15.895; Val_NMI: 49.580\n",
      "(Epoch 96 / 100) Train_Loss: 118.757; Val_Loss: 164.746   Train_ACC: 6.096; Val_ACC: 19.259   Train_NMI: 15.892; Val_NMI: 53.001\n",
      "(Epoch 97 / 100) Train_Loss: 118.514; Val_Loss: 162.765   Train_ACC: 6.301; Val_ACC: 17.778   Train_NMI: 16.663; Val_NMI: 49.633\n",
      "(Epoch 98 / 100) Train_Loss: 117.094; Val_Loss: 161.732   Train_ACC: 6.549; Val_ACC: 18.519   Train_NMI: 16.958; Val_NMI: 52.745\n",
      "(Epoch 99 / 100) Train_Loss: 117.122; Val_Loss: 165.637   Train_ACC: 6.549; Val_ACC: 18.889   Train_NMI: 17.098; Val_NMI: 51.501\n",
      "(Epoch 100 / 100) Train_Loss: 117.072; Val_Loss: 165.362   Train_ACC: 6.054; Val_ACC: 17.407   Train_NMI: 16.250; Val_NMI: 51.665\n"
     ]
    }
   ],
   "source": [
    "history_loss = gmvae.train(train_dl, valid_dl)"
   ]
  },
  {
   "cell_type": "code",
   "execution_count": 17,
   "metadata": {},
   "outputs": [],
   "source": [
    "torch.save(gmvae.network.state_dict(), 'smba_gmvae.pth')"
   ]
  },
  {
   "cell_type": "code",
   "execution_count": 18,
   "metadata": {},
   "outputs": [
    {
     "data": {
      "text/plain": [
       "<All keys matched successfully>"
      ]
     },
     "execution_count": 18,
     "metadata": {},
     "output_type": "execute_result"
    }
   ],
   "source": [
    "gmvae.network.load_state_dict(torch.load('smba_gmvae.pth'))"
   ]
  },
  {
   "cell_type": "markdown",
   "metadata": {
    "colab_type": "text",
    "id": "1bHWNxV-gAl2"
   },
   "source": [
    "## Image Reconstruction"
   ]
  },
  {
   "cell_type": "code",
   "execution_count": 19,
   "metadata": {
    "colab": {
     "base_uri": "https://localhost:8080/",
     "height": 160
    },
    "colab_type": "code",
    "id": "wd5jQFFHgCbD",
    "outputId": "8e1d4654-fb01-49dc-b512-e8e4bb259e0f"
   },
   "outputs": [],
   "source": [
    "original, reconstructed = gmvae.reconstruct_data(train_dl, 15)  "
   ]
  },
  {
   "cell_type": "code",
   "execution_count": 20,
   "metadata": {},
   "outputs": [],
   "source": [
    "original_int = original.reshape(15, 16, 16, 12).argmax(axis=-1)\n",
    "reconstructed_int = reconstructed.reshape(15, 16, 16, 12).argmax(axis=-1)"
   ]
  },
  {
   "cell_type": "code",
   "execution_count": 21,
   "metadata": {},
   "outputs": [],
   "source": [
    "def get_classes(chunks_int):\n",
    "    classes = []\n",
    "    for i in chunks_int:\n",
    "        if i.max() == 6:\n",
    "            classes.append('kia')\n",
    "        else:\n",
    "            classes.append('smba')\n",
    "    return np.array(classes)"
   ]
  },
  {
   "cell_type": "code",
   "execution_count": 22,
   "metadata": {},
   "outputs": [],
   "source": [
    "org_classes = get_classes(original_int)\n",
    "rec_classes = get_classes(reconstructed_int)\n",
    "assert np.sum(org_classes == rec_classes) == len(org_classes)"
   ]
  },
  {
   "cell_type": "code",
   "execution_count": 23,
   "metadata": {},
   "outputs": [],
   "source": [
    "def get_images(chunks_int):\n",
    "    images = []\n",
    "    for game, chunk in zip(get_classes(chunks_int), chunks_int):\n",
    "        images.append(vglc_with_path_encodings.array_to_image([chunk], game=game)[0])\n",
    "    return images"
   ]
  },
  {
   "cell_type": "code",
   "execution_count": 24,
   "metadata": {},
   "outputs": [
    {
     "data": {
      "text/plain": [
       "(15, 15)"
      ]
     },
     "execution_count": 24,
     "metadata": {},
     "output_type": "execute_result"
    }
   ],
   "source": [
    "org_images = get_images(original_int)\n",
    "rec_images = get_images(reconstructed_int)\n",
    "len(org_images), len(rec_images)"
   ]
  },
  {
   "cell_type": "code",
   "execution_count": 25,
   "metadata": {},
   "outputs": [
    {
     "data": {
      "image/png": "[encoded data removed]",
      "text/plain": [
       "<Figure size 1728x576 with 30 Axes>"
      ]
     },
     "metadata": {
      "needs_background": "light"
     },
     "output_type": "display_data"
    }
   ],
   "source": [
    "fig, axes = plt.subplots(nrows=3, ncols=10, figsize=(24, 8))\n",
    "axes = axes.flatten()\n",
    "nrows, ncols = 3, 10\n",
    "\n",
    "org_idxs = np.arange(0, 29, 2)\n",
    "rec_idxs = org_idxs + 1\n",
    "\n",
    "for idx in org_idxs:\n",
    "        \n",
    "    ax = axes[idx]\n",
    "\n",
    "    ax.imshow(np.asarray(org_images[idx // 2]))\n",
    "    ax.set_title(f'Org {idx // 2 + 1}')\n",
    "    \n",
    "    ax.axis('off')\n",
    "\n",
    "for idx in rec_idxs:\n",
    "        \n",
    "    ax = axes[idx]\n",
    "\n",
    "    ax.imshow(np.asarray(rec_images[idx // 2]))\n",
    "    ax.set_title(f'Rec {idx // 2 + 1}')\n",
    "\n",
    "    ax.axis('off')\n",
    "    \n",
    "plt.show()"
   ]
  },
  {
   "cell_type": "markdown",
   "metadata": {
    "colab_type": "text",
    "id": "CAyoGFFRgMgC"
   },
   "source": [
    "## Random Generation per Category"
   ]
  },
  {
   "cell_type": "code",
   "execution_count": 26,
   "metadata": {
    "colab": {
     "base_uri": "https://localhost:8080/",
     "height": 595
    },
    "colab_type": "code",
    "id": "xE84c3U2gLjA",
    "outputId": "cd52f356-e53a-4844-9db2-3723d15ddb00"
   },
   "outputs": [
    {
     "data": {
      "image/png": "[encoded data removed]",
      "text/plain": [
       "<Figure size 1728x1728 with 68 Axes>"
      ]
     },
     "metadata": {
      "needs_background": "light"
     },
     "output_type": "display_data"
    }
   ],
   "source": [
    "def display_random_generation(generated, num_classes, n=10):\n",
    "    plt.figure(figsize=[24,24])\n",
    "    for c in range(num_classes):\n",
    "        for i in range(n):\n",
    "            plt.subplot(num_classes, n, (c * n) + i + 1)\n",
    "            chunk_int = generated[(c * n) + i].reshape(16, 16, 12).argmax(axis=-1)\n",
    "            chunk_pix = vglc_with_path_encodings.array_to_image([chunk_int], game='smba')[0]\n",
    "            plt.imshow(chunk_pix)\n",
    "            plt.gray()\n",
    "            plt.axis('off')\n",
    "    plt.show()\n",
    "\n",
    "elem_per_category = 1\n",
    "generated = gmvae.random_generation(elem_per_category)\n",
    "display_random_generation(generated, args.num_classes, elem_per_category)"
   ]
  },
  {
   "cell_type": "code",
   "execution_count": 27,
   "metadata": {},
   "outputs": [],
   "source": [
    "elem_per_category = 10000 // num_components\n",
    "generated = gmvae.random_generation(elem_per_category)"
   ]
  },
  {
   "cell_type": "code",
   "execution_count": 28,
   "metadata": {},
   "outputs": [],
   "source": [
    "generated_int = generated.reshape(-1, 16, 16, 12).argmax(axis=-1)"
   ]
  },
  {
   "cell_type": "code",
   "execution_count": 29,
   "metadata": {},
   "outputs": [
    {
     "data": {
      "text/plain": [
       "(9996, 16, 16)"
      ]
     },
     "execution_count": 29,
     "metadata": {},
     "output_type": "execute_result"
    }
   ],
   "source": [
    "generated_int.shape"
   ]
  },
  {
   "cell_type": "code",
   "execution_count": 30,
   "metadata": {},
   "outputs": [],
   "source": [
    "# since this code chunk depends on random seed, it shouldn't be run again\n",
    "with open(f'../smba_generations/smba_gmvae_{num_components}.json', 'w+') as json_f:\n",
    "    json.dump(generated_int.tolist(), json_f)"
   ]
  },
  {
   "cell_type": "markdown",
   "metadata": {
    "colab_type": "text",
    "id": "-SbXR7FkhIcq"
   },
   "source": [
    "## Visualization of the feature latent space"
   ]
  },
  {
   "cell_type": "code",
   "execution_count": 31,
   "metadata": {
    "colab": {},
    "colab_type": "code",
    "id": "bTkEBA9JhQ2C"
   },
   "outputs": [],
   "source": [
    "# get feature representations\n",
    "test_features, test_labels = gmvae.latent_features(train_dl, True)"
   ]
  },
  {
   "cell_type": "code",
   "execution_count": 32,
   "metadata": {
    "colab": {},
    "colab_type": "code",
    "id": "LNmsz5rahZAY"
   },
   "outputs": [],
   "source": [
    "# import TSNE from scikit-learn library\n",
    "from sklearn.manifold import TSNE\n",
    "\n",
    "# reduce dimensionality to 2D, we consider a subset of data because TSNE\n",
    "# is a slow algorithm\n",
    "\n",
    "first_n = 1000\n",
    "tsne_features = TSNE(n_components=2).fit_transform(test_features[:first_n])"
   ]
  },
  {
   "cell_type": "code",
   "execution_count": 33,
   "metadata": {},
   "outputs": [],
   "source": [
    "test_labels_subset = test_labels[:first_n]"
   ]
  },
  {
   "cell_type": "code",
   "execution_count": 34,
   "metadata": {},
   "outputs": [],
   "source": [
    "X_, Y_ = np.s_[:,0], np.s_[:,1]"
   ]
  },
  {
   "cell_type": "code",
   "execution_count": 35,
   "metadata": {
    "colab": {
     "base_uri": "https://localhost:8080/",
     "height": 395
    },
    "colab_type": "code",
    "id": "wyTtDdwyha-L",
    "outputId": "350e806a-6dd3-47f2-bd91-444aaf61b3dd"
   },
   "outputs": [
    {
     "data": {
      "image/png": "[encoded data removed]",
      "text/plain": [
       "<Figure size 360x360 with 1 Axes>"
      ]
     },
     "metadata": {
      "needs_background": "light"
     },
     "output_type": "display_data"
    }
   ],
   "source": [
    "fig = plt.figure(figsize=(5, 5))\n",
    "\n",
    "plt.scatter(tsne_features[X_], tsne_features[Y_])\n",
    "\n",
    "plt.title('Projection from latent space to 2D')\n",
    "plt.show()"
   ]
  },
  {
   "cell_type": "markdown",
   "metadata": {},
   "source": []
  }
 ],
 "metadata": {
  "accelerator": "GPU",
  "colab": {
   "collapsed_sections": [],
   "include_colab_link": true,
   "name": "GMVAE_Pytorch.ipynb",
   "provenance": []
  },
  "kernelspec": {
   "display_name": "Python 3",
   "language": "python",
   "name": "python3"
  },
  "language_info": {
   "codemirror_mode": {
    "name": "ipython",
    "version": 3
   },
   "file_extension": ".py",
   "mimetype": "text/x-python",
   "name": "python",
   "nbconvert_exporter": "python",
   "pygments_lexer": "ipython3",
   "version": "3.7.6"
  },
  "toc": {
   "base_numbering": 1,
   "nav_menu": {},
   "number_sections": false,
   "sideBar": true,
   "skip_h1_title": false,
   "title_cell": "Table of Contents",
   "title_sidebar": "Contents",
   "toc_cell": false,
   "toc_position": {},
   "toc_section_display": true,
   "toc_window_display": false
  },
  "varInspector": {
   "cols": {
    "lenName": 16,
    "lenType": 16,
    "lenVar": 40
   },
   "kernels_config": {
    "python": {
     "delete_cmd_postfix": "",
     "delete_cmd_prefix": "del ",
     "library": "var_list.py",
     "varRefreshCmd": "print(var_dic_list())"
    },
    "r": {
     "delete_cmd_postfix": ") ",
     "delete_cmd_prefix": "rm(",
     "library": "var_list.r",
     "varRefreshCmd": "cat(var_dic_list()) "
    }
   },
   "types_to_exclude": [
    "module",
    "function",
    "builtin_function_or_method",
    "instance",
    "_Feature"
   ],
   "window_display": false
  }
 },
 "nbformat": 4,
 "nbformat_minor": 1
}
