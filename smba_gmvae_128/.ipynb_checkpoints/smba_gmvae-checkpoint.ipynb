{
 "cells": [
  {
   "cell_type": "markdown",
   "metadata": {},
   "source": [
    "# GM-VAE for SMBA"
   ]
  },
  {
   "cell_type": "code",
   "execution_count": 1,
   "metadata": {},
   "outputs": [],
   "source": [
    "num_components=128"
   ]
  },
  {
   "cell_type": "markdown",
   "metadata": {
    "colab_type": "text",
    "id": "rGzTb0oswH5J"
   },
   "source": [
    "## Import Libraries"
   ]
  },
  {
   "cell_type": "code",
   "execution_count": 2,
   "metadata": {
    "colab": {},
    "colab_type": "code",
    "id": "ThVeaB3CwI4j"
   },
   "outputs": [],
   "source": [
    "import json\n",
    "\n",
    "import numpy as np\n",
    "import argparse\n",
    "import random\n",
    "from torchvision import datasets, transforms\n",
    "from torch.utils.data.sampler import SubsetRandomSampler\n",
    "import torch.utils.data\n",
    "from scipy.io import loadmat\n",
    "\n",
    "import sys\n",
    "sys.path.append('./pytorch')\n",
    "sys.path.append('../../1906-pcgml/pcgml-gmmVae-exp/modules/')\n",
    "import vglc_with_path_encodings\n",
    "\n",
    "from model.GMVAE import *\n",
    "import matplotlib.pyplot as plt\n",
    "import seaborn as sns\n",
    "%matplotlib inline\n",
    "\n",
    "import warnings\n",
    "warnings.filterwarnings('ignore')"
   ]
  },
  {
   "cell_type": "markdown",
   "metadata": {},
   "source": [
    "## Load data"
   ]
  },
  {
   "cell_type": "code",
   "execution_count": 3,
   "metadata": {},
   "outputs": [],
   "source": [
    "def open_json_as_nparray(json_fname):\n",
    "    with open(json_fname, 'r') as json_f:\n",
    "        return np.array(json.load(json_f))"
   ]
  },
  {
   "cell_type": "markdown",
   "metadata": {},
   "source": [
    "Load SMB."
   ]
  },
  {
   "cell_type": "code",
   "execution_count": 4,
   "metadata": {},
   "outputs": [],
   "source": [
    "smb_int = open_json_as_nparray('smbWithPath-allLevels-chunks-int.json')"
   ]
  },
  {
   "cell_type": "code",
   "execution_count": 5,
   "metadata": {},
   "outputs": [
    {
     "data": {
      "text/plain": [
       "(2698, 16, 16, 12)"
      ]
     },
     "execution_count": 5,
     "metadata": {},
     "output_type": "execute_result"
    }
   ],
   "source": [
    "smb_onehot = np.eye(len(np.unique(smb_int)))[smb_int]\n",
    "smb_onehot.shape"
   ]
  },
  {
   "cell_type": "code",
   "execution_count": 6,
   "metadata": {},
   "outputs": [
    {
     "data": {
      "text/plain": [
       "(2698, 3072)"
      ]
     },
     "execution_count": 6,
     "metadata": {},
     "output_type": "execute_result"
    }
   ],
   "source": [
    "smb_onehot = smb_onehot.reshape(\n",
    "    smb_onehot.shape[0], \n",
    "    smb_onehot.shape[1] * smb_onehot.shape[2] * smb_onehot.shape[3]\n",
    ")\n",
    "smb_onehot.shape"
   ]
  },
  {
   "cell_type": "code",
   "execution_count": 7,
   "metadata": {},
   "outputs": [
    {
     "data": {
      "text/plain": [
       "((2698,),\n",
       " array([102,  51,  92,  14, 106,  71,  60,  20, 102, 121,  82,  86,  74,\n",
       "         74,  87, 116,  99, 103,  23,   2]))"
      ]
     },
     "execution_count": 7,
     "metadata": {},
     "output_type": "execute_result"
    }
   ],
   "source": [
    "np.random.seed(42)\n",
    "smb_labels = np.random.randint(num_components, size=smb_onehot.shape[0])\n",
    "smb_labels.shape, smb_labels[:20]"
   ]
  },
  {
   "cell_type": "code",
   "execution_count": 8,
   "metadata": {},
   "outputs": [],
   "source": [
    "chunks, labels = smb_onehot, smb_labels"
   ]
  },
  {
   "cell_type": "code",
   "execution_count": 9,
   "metadata": {},
   "outputs": [
    {
     "data": {
      "image/png": "[encoded data removed]",
      "text/plain": [
       "<Figure size 432x288 with 1 Axes>"
      ]
     },
     "metadata": {
      "needs_background": "light"
     },
     "output_type": "display_data"
    }
   ],
   "source": [
    "plt.bar(np.arange(num_components), np.bincount(smb_labels))\n",
    "plt.show()"
   ]
  },
  {
   "cell_type": "markdown",
   "metadata": {
    "colab_type": "text",
    "id": "3QNKItMHwQU2"
   },
   "source": [
    "## Input Parameters"
   ]
  },
  {
   "cell_type": "code",
   "execution_count": 10,
   "metadata": {
    "colab": {},
    "colab_type": "code",
    "id": "8tBHkTQ4wVIG"
   },
   "outputs": [],
   "source": [
    "########################################################\n",
    "## Input Parameters\n",
    "#########################################################\n",
    "parser = argparse.ArgumentParser(description='PyTorch Implementation of DGM Clustering')\n",
    "\n",
    "## Used only in notebooks\n",
    "parser.add_argument('-f', '--file',\n",
    "                    help='Path for input file. First line should contain number of lines to search in')\n",
    "\n",
    "## Dataset\n",
    "parser.add_argument('--dataset', type=str, choices=['mnist'],\n",
    "                    default='mnist', help='dataset (default: mnist)')\n",
    "parser.add_argument('--seed', type=int, default=1, help='random seed (default: 1)')\n",
    "\n",
    "## GPU\n",
    "parser.add_argument('--cuda', type=int, default=1,\n",
    "                    help='use of cuda (default: 1)')\n",
    "parser.add_argument('--gpuID', type=int, default=0,\n",
    "                    help='set gpu id to use (default: 0)')\n",
    "\n",
    "## Training\n",
    "parser.add_argument('--epochs', type=int, default=100,\n",
    "                    help='number of total epochs to run (default: 200)')\n",
    "parser.add_argument('--batch_size', default=64, type=int,\n",
    "                    help='mini-batch size (default: 64)')\n",
    "parser.add_argument('--batch_size_val', default=200, type=int,\n",
    "                    help='mini-batch size of validation (default: 200)')\n",
    "parser.add_argument('--learning_rate', default=1e-3, type=float,\n",
    "                    help='learning rate (default: 0.001)')\n",
    "parser.add_argument('--decay_epoch', default=-1, type=int, \n",
    "                    help='Reduces the learning rate every decay_epoch')\n",
    "parser.add_argument('--lr_decay', default=0.5, type=float,\n",
    "                    help='Learning rate decay for training (default: 0.5)')\n",
    "\n",
    "## Architecture\n",
    "parser.add_argument('--num_classes', type=int, default=num_components,\n",
    "                    help='number of classes (default: 10)')  # edited for this task\n",
    "parser.add_argument('--gaussian_size', default=64, type=int,\n",
    "                    help='gaussian size (default: 64)')\n",
    "parser.add_argument('--input_size', default=3072, type=int,\n",
    "                    help='input size (default: 784)')  # edited for this task\n",
    "\n",
    "## Partition parameters\n",
    "parser.add_argument('--train_proportion', default=0.9, type=float,\n",
    "                    help='proportion of examples to consider for training only (default: 1.0)')\n",
    "\n",
    "## Gumbel parameters\n",
    "parser.add_argument('--init_temp', default=1.0, type=float,\n",
    "                    help='Initial temperature used in gumbel-softmax (recommended 0.5-1.0, default:1.0)')\n",
    "parser.add_argument('--decay_temp', default=1, type=int, \n",
    "                    help='Set 1 to decay gumbel temperature at every epoch (default: 1)')\n",
    "parser.add_argument('--hard_gumbel', default=0, type=int, \n",
    "                    help='Set 1 to use the hard version of gumbel-softmax (default: 1)')\n",
    "parser.add_argument('--min_temp', default=0.5, type=float, \n",
    "                    help='Minimum temperature of gumbel-softmax after annealing (default: 0.5)' )\n",
    "parser.add_argument('--decay_temp_rate', default=0.013862944, type=float,\n",
    "                    help='Temperature decay rate at every epoch (default: 0.013862944)')\n",
    "\n",
    "## Loss function parameters\n",
    "parser.add_argument('--w_gauss', default=2, type=float,\n",
    "                    help='weight of gaussian loss (default: 1)')\n",
    "parser.add_argument('--w_categ', default=1, type=float,\n",
    "                    help='weight of categorical loss (default: 1)')\n",
    "parser.add_argument('--w_rec', default=1, type=float,\n",
    "                    help='weight of reconstruction loss (default: 1)')\n",
    "parser.add_argument('--rec_type', type=str, choices=['bce', 'mse'],\n",
    "                    default='bce', help='desired reconstruction loss function (default: bce)')\n",
    "\n",
    "## Others\n",
    "parser.add_argument('--verbose', default=0, type=int,\n",
    "                    help='print extra information at every epoch.(default: 0)')\n",
    "\n",
    "args = parser.parse_args()"
   ]
  },
  {
   "cell_type": "markdown",
   "metadata": {
    "colab_type": "text",
    "id": "Bti6lPHawc9z"
   },
   "source": [
    "Set random seed in case it was specified in the parameters\n"
   ]
  },
  {
   "cell_type": "code",
   "execution_count": 11,
   "metadata": {
    "colab": {},
    "colab_type": "code",
    "id": "IpWPxTy1wgbJ"
   },
   "outputs": [],
   "source": [
    "## Random Seed\n",
    "SEED = args.seed\n",
    "np.random.seed(SEED)\n",
    "random.seed(SEED)\n",
    "torch.manual_seed(SEED)\n",
    "if args.cuda:\n",
    "    torch.cuda.manual_seed(SEED)"
   ]
  },
  {
   "cell_type": "markdown",
   "metadata": {
    "colab_type": "text",
    "id": "fmrkmhttwkiD"
   },
   "source": [
    "## Data Partition"
   ]
  },
  {
   "cell_type": "markdown",
   "metadata": {
    "colab_type": "text",
    "id": "fUuTFMBhb2vZ"
   },
   "source": [
    "We split the training data into train and validation according to the *train_proportion* parameter:"
   ]
  },
  {
   "cell_type": "code",
   "execution_count": 12,
   "metadata": {},
   "outputs": [],
   "source": [
    "from torch.utils.data import TensorDataset, DataLoader"
   ]
  },
  {
   "cell_type": "code",
   "execution_count": 13,
   "metadata": {},
   "outputs": [],
   "source": [
    "assert args.train_proportion != 1"
   ]
  },
  {
   "cell_type": "code",
   "execution_count": 14,
   "metadata": {
    "colab": {},
    "colab_type": "code",
    "id": "P8F6pjC7cNX7"
   },
   "outputs": [],
   "source": [
    "def partition_dataset(n, proportion=1):\n",
    "   train_num = int(n * proportion)\n",
    "   indices = np.random.permutation(n)\n",
    "   train_indices, val_indices = indices[:train_num], indices[train_num:]\n",
    "   return train_indices, val_indices\n",
    "\n",
    "train_indices, val_indices = partition_dataset(len(chunks), args.train_proportion)\n",
    "train_ds = TensorDataset(torch.from_numpy(chunks).float(), torch.from_numpy(labels).long())\n",
    "train_dl = DataLoader(train_ds, batch_size=args.batch_size, sampler=SubsetRandomSampler(train_indices))\n",
    "valid_dl = DataLoader(train_ds, batch_size=args.batch_size_val, sampler=SubsetRandomSampler(val_indices))"
   ]
  },
  {
   "cell_type": "markdown",
   "metadata": {
    "colab_type": "text",
    "id": "Pt7sEfZWw_U7"
   },
   "source": [
    "## Train Model"
   ]
  },
  {
   "cell_type": "code",
   "execution_count": 15,
   "metadata": {
    "colab": {},
    "colab_type": "code",
    "id": "qTncRSCuxFEL"
   },
   "outputs": [],
   "source": [
    "# Model Initialization\n",
    "gmvae = GMVAE(args)"
   ]
  },
  {
   "cell_type": "code",
   "execution_count": 16,
   "metadata": {},
   "outputs": [
    {
     "name": "stdout",
     "output_type": "stream",
     "text": [
      "(Epoch 1 / 100) Train_Loss: 485.053; Val_Loss: 231.280   Train_ACC: 3.542; Val_ACC: 4.074   Train_NMI: 13.643; Val_NMI: 1.946\n",
      "(Epoch 2 / 100) Train_Loss: 226.976; Val_Loss: 222.513   Train_ACC: 2.759; Val_ACC: 4.444   Train_NMI: 9.693; Val_NMI: 20.132\n",
      "(Epoch 3 / 100) Train_Loss: 223.377; Val_Loss: 226.487   Train_ACC: 2.842; Val_ACC: 5.556   Train_NMI: 9.224; Val_NMI: 24.140\n",
      "(Epoch 4 / 100) Train_Loss: 221.478; Val_Loss: 218.922   Train_ACC: 3.254; Val_ACC: 5.556   Train_NMI: 12.846; Val_NMI: 22.112\n",
      "(Epoch 5 / 100) Train_Loss: 214.257; Val_Loss: 212.621   Train_ACC: 2.677; Val_ACC: 4.815   Train_NMI: 6.987; Val_NMI: 21.920\n",
      "(Epoch 6 / 100) Train_Loss: 210.398; Val_Loss: 213.410   Train_ACC: 2.718; Val_ACC: 4.074   Train_NMI: 8.660; Val_NMI: 13.254\n",
      "(Epoch 7 / 100) Train_Loss: 205.860; Val_Loss: 205.265   Train_ACC: 2.512; Val_ACC: 5.926   Train_NMI: 6.779; Val_NMI: 19.122\n",
      "(Epoch 8 / 100) Train_Loss: 203.053; Val_Loss: 201.789   Train_ACC: 2.554; Val_ACC: 6.296   Train_NMI: 6.717; Val_NMI: 30.522\n",
      "(Epoch 9 / 100) Train_Loss: 200.105; Val_Loss: 209.924   Train_ACC: 2.265; Val_ACC: 4.815   Train_NMI: 7.371; Val_NMI: 22.136\n",
      "(Epoch 10 / 100) Train_Loss: 197.481; Val_Loss: 201.896   Train_ACC: 2.759; Val_ACC: 6.296   Train_NMI: 9.399; Val_NMI: 36.150\n",
      "(Epoch 11 / 100) Train_Loss: 192.805; Val_Loss: 202.934   Train_ACC: 3.007; Val_ACC: 7.037   Train_NMI: 10.360; Val_NMI: 31.142\n",
      "(Epoch 12 / 100) Train_Loss: 189.928; Val_Loss: 193.483   Train_ACC: 3.501; Val_ACC: 7.778   Train_NMI: 12.276; Val_NMI: 35.308\n",
      "(Epoch 13 / 100) Train_Loss: 186.984; Val_Loss: 186.843   Train_ACC: 3.460; Val_ACC: 5.926   Train_NMI: 12.264; Val_NMI: 29.809\n",
      "(Epoch 14 / 100) Train_Loss: 185.043; Val_Loss: 186.705   Train_ACC: 3.254; Val_ACC: 7.778   Train_NMI: 10.028; Val_NMI: 32.975\n",
      "(Epoch 15 / 100) Train_Loss: 183.601; Val_Loss: 191.984   Train_ACC: 3.542; Val_ACC: 9.630   Train_NMI: 13.434; Val_NMI: 42.083\n",
      "(Epoch 16 / 100) Train_Loss: 181.491; Val_Loss: 188.977   Train_ACC: 3.789; Val_ACC: 8.519   Train_NMI: 14.821; Val_NMI: 38.357\n",
      "(Epoch 17 / 100) Train_Loss: 178.752; Val_Loss: 188.847   Train_ACC: 3.213; Val_ACC: 8.148   Train_NMI: 10.825; Val_NMI: 34.110\n",
      "(Epoch 18 / 100) Train_Loss: 177.983; Val_Loss: 185.566   Train_ACC: 3.213; Val_ACC: 7.778   Train_NMI: 10.056; Val_NMI: 37.323\n",
      "(Epoch 19 / 100) Train_Loss: 176.264; Val_Loss: 188.020   Train_ACC: 3.048; Val_ACC: 9.259   Train_NMI: 9.760; Val_NMI: 41.320\n",
      "(Epoch 20 / 100) Train_Loss: 174.420; Val_Loss: 181.388   Train_ACC: 3.336; Val_ACC: 10.370   Train_NMI: 11.800; Val_NMI: 40.213\n",
      "(Epoch 21 / 100) Train_Loss: 172.070; Val_Loss: 180.736   Train_ACC: 3.295; Val_ACC: 9.630   Train_NMI: 11.809; Val_NMI: 40.840\n",
      "(Epoch 22 / 100) Train_Loss: 170.966; Val_Loss: 184.373   Train_ACC: 3.130; Val_ACC: 9.259   Train_NMI: 11.103; Val_NMI: 41.364\n",
      "(Epoch 23 / 100) Train_Loss: 168.844; Val_Loss: 176.957   Train_ACC: 3.377; Val_ACC: 8.889   Train_NMI: 11.756; Val_NMI: 38.133\n",
      "(Epoch 24 / 100) Train_Loss: 167.463; Val_Loss: 177.647   Train_ACC: 2.965; Val_ACC: 8.889   Train_NMI: 9.563; Val_NMI: 42.325\n",
      "(Epoch 25 / 100) Train_Loss: 166.886; Val_Loss: 182.510   Train_ACC: 3.295; Val_ACC: 10.370   Train_NMI: 11.199; Val_NMI: 43.580\n",
      "(Epoch 26 / 100) Train_Loss: 165.153; Val_Loss: 178.497   Train_ACC: 3.542; Val_ACC: 9.259   Train_NMI: 12.826; Val_NMI: 40.985\n",
      "(Epoch 27 / 100) Train_Loss: 164.546; Val_Loss: 174.073   Train_ACC: 3.624; Val_ACC: 11.481   Train_NMI: 12.704; Val_NMI: 45.887\n",
      "(Epoch 28 / 100) Train_Loss: 163.066; Val_Loss: 174.133   Train_ACC: 3.501; Val_ACC: 9.630   Train_NMI: 12.213; Val_NMI: 40.375\n",
      "(Epoch 29 / 100) Train_Loss: 162.507; Val_Loss: 172.983   Train_ACC: 3.666; Val_ACC: 9.630   Train_NMI: 11.908; Val_NMI: 42.034\n",
      "(Epoch 30 / 100) Train_Loss: 161.688; Val_Loss: 171.381   Train_ACC: 3.295; Val_ACC: 9.630   Train_NMI: 11.034; Val_NMI: 41.051\n",
      "(Epoch 31 / 100) Train_Loss: 159.873; Val_Loss: 170.345   Train_ACC: 3.624; Val_ACC: 10.370   Train_NMI: 12.259; Val_NMI: 45.049\n",
      "(Epoch 32 / 100) Train_Loss: 159.611; Val_Loss: 168.062   Train_ACC: 3.418; Val_ACC: 8.519   Train_NMI: 12.866; Val_NMI: 44.747\n",
      "(Epoch 33 / 100) Train_Loss: 158.624; Val_Loss: 174.696   Train_ACC: 3.460; Val_ACC: 11.111   Train_NMI: 11.839; Val_NMI: 48.067\n",
      "(Epoch 34 / 100) Train_Loss: 156.842; Val_Loss: 167.155   Train_ACC: 3.460; Val_ACC: 10.741   Train_NMI: 12.338; Val_NMI: 44.426\n",
      "(Epoch 35 / 100) Train_Loss: 155.779; Val_Loss: 171.611   Train_ACC: 3.707; Val_ACC: 11.852   Train_NMI: 13.256; Val_NMI: 47.356\n",
      "(Epoch 36 / 100) Train_Loss: 154.228; Val_Loss: 168.050   Train_ACC: 4.077; Val_ACC: 11.111   Train_NMI: 14.976; Val_NMI: 45.518\n",
      "(Epoch 37 / 100) Train_Loss: 153.703; Val_Loss: 170.391   Train_ACC: 3.913; Val_ACC: 12.222   Train_NMI: 14.149; Val_NMI: 47.031\n",
      "(Epoch 38 / 100) Train_Loss: 152.535; Val_Loss: 166.539   Train_ACC: 3.830; Val_ACC: 13.704   Train_NMI: 14.479; Val_NMI: 50.764\n",
      "(Epoch 39 / 100) Train_Loss: 151.103; Val_Loss: 165.337   Train_ACC: 4.366; Val_ACC: 12.963   Train_NMI: 15.575; Val_NMI: 51.064\n",
      "(Epoch 40 / 100) Train_Loss: 150.872; Val_Loss: 166.809   Train_ACC: 4.366; Val_ACC: 13.333   Train_NMI: 15.478; Val_NMI: 49.171\n",
      "(Epoch 41 / 100) Train_Loss: 148.841; Val_Loss: 165.897   Train_ACC: 4.366; Val_ACC: 12.593   Train_NMI: 16.199; Val_NMI: 49.860\n",
      "(Epoch 42 / 100) Train_Loss: 148.529; Val_Loss: 162.182   Train_ACC: 4.036; Val_ACC: 14.815   Train_NMI: 16.098; Val_NMI: 53.459\n",
      "(Epoch 43 / 100) Train_Loss: 147.688; Val_Loss: 168.001   Train_ACC: 4.572; Val_ACC: 12.963   Train_NMI: 17.288; Val_NMI: 52.242\n",
      "(Epoch 44 / 100) Train_Loss: 146.046; Val_Loss: 165.402   Train_ACC: 4.695; Val_ACC: 13.704   Train_NMI: 17.830; Val_NMI: 51.951\n",
      "(Epoch 45 / 100) Train_Loss: 145.020; Val_Loss: 162.591   Train_ACC: 4.572; Val_ACC: 14.815   Train_NMI: 17.602; Val_NMI: 53.451\n",
      "(Epoch 46 / 100) Train_Loss: 143.372; Val_Loss: 155.960   Train_ACC: 4.778; Val_ACC: 15.185   Train_NMI: 19.318; Val_NMI: 56.696\n",
      "(Epoch 47 / 100) Train_Loss: 142.657; Val_Loss: 165.955   Train_ACC: 4.695; Val_ACC: 14.444   Train_NMI: 18.984; Val_NMI: 53.693\n",
      "(Epoch 48 / 100) Train_Loss: 141.073; Val_Loss: 159.645   Train_ACC: 4.654; Val_ACC: 13.704   Train_NMI: 18.671; Val_NMI: 55.276\n",
      "(Epoch 49 / 100) Train_Loss: 140.278; Val_Loss: 159.286   Train_ACC: 4.695; Val_ACC: 13.333   Train_NMI: 19.057; Val_NMI: 54.707\n",
      "(Epoch 50 / 100) Train_Loss: 138.699; Val_Loss: 157.707   Train_ACC: 4.695; Val_ACC: 16.296   Train_NMI: 18.928; Val_NMI: 57.198\n",
      "(Epoch 51 / 100) Train_Loss: 138.936; Val_Loss: 162.103   Train_ACC: 4.984; Val_ACC: 15.556   Train_NMI: 19.971; Val_NMI: 55.627\n",
      "(Epoch 52 / 100) Train_Loss: 137.002; Val_Loss: 155.408   Train_ACC: 4.407; Val_ACC: 14.074   Train_NMI: 18.901; Val_NMI: 56.428\n",
      "(Epoch 53 / 100) Train_Loss: 135.858; Val_Loss: 160.159   Train_ACC: 4.695; Val_ACC: 16.296   Train_NMI: 18.170; Val_NMI: 58.336\n",
      "(Epoch 54 / 100) Train_Loss: 135.178; Val_Loss: 156.838   Train_ACC: 4.654; Val_ACC: 14.444   Train_NMI: 18.358; Val_NMI: 54.167\n",
      "(Epoch 55 / 100) Train_Loss: 134.031; Val_Loss: 159.182   Train_ACC: 5.025; Val_ACC: 17.037   Train_NMI: 20.211; Val_NMI: 58.321\n",
      "(Epoch 56 / 100) Train_Loss: 133.407; Val_Loss: 163.062   Train_ACC: 4.654; Val_ACC: 16.296   Train_NMI: 19.975; Val_NMI: 56.967\n",
      "(Epoch 57 / 100) Train_Loss: 133.068; Val_Loss: 155.978   Train_ACC: 4.778; Val_ACC: 15.556   Train_NMI: 19.538; Val_NMI: 56.149\n",
      "(Epoch 58 / 100) Train_Loss: 131.847; Val_Loss: 160.363   Train_ACC: 4.736; Val_ACC: 16.296   Train_NMI: 19.818; Val_NMI: 57.000\n",
      "(Epoch 59 / 100) Train_Loss: 131.204; Val_Loss: 155.095   Train_ACC: 4.984; Val_ACC: 15.185   Train_NMI: 19.703; Val_NMI: 55.247\n",
      "(Epoch 60 / 100) Train_Loss: 129.987; Val_Loss: 154.764   Train_ACC: 5.025; Val_ACC: 16.667   Train_NMI: 21.490; Val_NMI: 58.412\n",
      "(Epoch 61 / 100) Train_Loss: 128.690; Val_Loss: 155.808   Train_ACC: 4.984; Val_ACC: 16.296   Train_NMI: 21.360; Val_NMI: 58.061\n",
      "(Epoch 62 / 100) Train_Loss: 127.992; Val_Loss: 154.736   Train_ACC: 4.860; Val_ACC: 18.519   Train_NMI: 20.478; Val_NMI: 58.440\n",
      "(Epoch 63 / 100) Train_Loss: 127.185; Val_Loss: 155.665   Train_ACC: 5.107; Val_ACC: 14.074   Train_NMI: 20.601; Val_NMI: 55.300\n",
      "(Epoch 64 / 100) Train_Loss: 126.582; Val_Loss: 156.581   Train_ACC: 5.025; Val_ACC: 15.556   Train_NMI: 20.402; Val_NMI: 56.379\n"
     ]
    },
    {
     "name": "stdout",
     "output_type": "stream",
     "text": [
      "(Epoch 65 / 100) Train_Loss: 125.609; Val_Loss: 153.131   Train_ACC: 5.313; Val_ACC: 17.037   Train_NMI: 22.335; Val_NMI: 59.241\n",
      "(Epoch 66 / 100) Train_Loss: 125.479; Val_Loss: 150.917   Train_ACC: 5.560; Val_ACC: 20.741   Train_NMI: 23.989; Val_NMI: 62.634\n",
      "(Epoch 67 / 100) Train_Loss: 124.169; Val_Loss: 156.070   Train_ACC: 5.478; Val_ACC: 18.519   Train_NMI: 24.161; Val_NMI: 60.700\n",
      "(Epoch 68 / 100) Train_Loss: 122.899; Val_Loss: 156.361   Train_ACC: 5.025; Val_ACC: 16.667   Train_NMI: 22.006; Val_NMI: 57.532\n",
      "(Epoch 69 / 100) Train_Loss: 122.722; Val_Loss: 157.306   Train_ACC: 5.272; Val_ACC: 17.778   Train_NMI: 23.374; Val_NMI: 59.590\n",
      "(Epoch 70 / 100) Train_Loss: 122.386; Val_Loss: 153.578   Train_ACC: 5.519; Val_ACC: 15.926   Train_NMI: 23.860; Val_NMI: 57.310\n",
      "(Epoch 71 / 100) Train_Loss: 121.399; Val_Loss: 156.274   Train_ACC: 5.272; Val_ACC: 18.519   Train_NMI: 22.190; Val_NMI: 60.368\n",
      "(Epoch 72 / 100) Train_Loss: 121.558; Val_Loss: 158.939   Train_ACC: 5.725; Val_ACC: 20.370   Train_NMI: 24.152; Val_NMI: 61.997\n",
      "(Epoch 73 / 100) Train_Loss: 120.301; Val_Loss: 160.219   Train_ACC: 5.601; Val_ACC: 17.778   Train_NMI: 23.607; Val_NMI: 59.545\n",
      "(Epoch 74 / 100) Train_Loss: 119.266; Val_Loss: 158.362   Train_ACC: 5.354; Val_ACC: 18.889   Train_NMI: 23.297; Val_NMI: 60.373\n",
      "(Epoch 75 / 100) Train_Loss: 118.578; Val_Loss: 163.053   Train_ACC: 5.478; Val_ACC: 17.778   Train_NMI: 22.895; Val_NMI: 59.081\n",
      "(Epoch 76 / 100) Train_Loss: 117.191; Val_Loss: 154.951   Train_ACC: 5.725; Val_ACC: 18.889   Train_NMI: 24.297; Val_NMI: 60.302\n",
      "(Epoch 77 / 100) Train_Loss: 117.293; Val_Loss: 156.067   Train_ACC: 5.890; Val_ACC: 20.000   Train_NMI: 23.695; Val_NMI: 62.395\n",
      "(Epoch 78 / 100) Train_Loss: 116.254; Val_Loss: 158.767   Train_ACC: 5.848; Val_ACC: 18.889   Train_NMI: 24.512; Val_NMI: 59.554\n",
      "(Epoch 79 / 100) Train_Loss: 115.385; Val_Loss: 155.923   Train_ACC: 5.478; Val_ACC: 17.778   Train_NMI: 23.925; Val_NMI: 60.533\n",
      "(Epoch 80 / 100) Train_Loss: 114.973; Val_Loss: 155.915   Train_ACC: 5.766; Val_ACC: 19.259   Train_NMI: 23.841; Val_NMI: 61.038\n",
      "(Epoch 81 / 100) Train_Loss: 114.165; Val_Loss: 156.014   Train_ACC: 5.354; Val_ACC: 18.148   Train_NMI: 24.179; Val_NMI: 60.154\n",
      "(Epoch 82 / 100) Train_Loss: 113.831; Val_Loss: 159.968   Train_ACC: 5.643; Val_ACC: 17.778   Train_NMI: 23.464; Val_NMI: 59.025\n",
      "(Epoch 83 / 100) Train_Loss: 112.477; Val_Loss: 155.506   Train_ACC: 5.189; Val_ACC: 16.296   Train_NMI: 22.288; Val_NMI: 59.257\n",
      "(Epoch 84 / 100) Train_Loss: 112.832; Val_Loss: 160.364   Train_ACC: 5.560; Val_ACC: 18.889   Train_NMI: 23.468; Val_NMI: 61.926\n",
      "(Epoch 85 / 100) Train_Loss: 111.935; Val_Loss: 166.911   Train_ACC: 5.766; Val_ACC: 20.370   Train_NMI: 25.225; Val_NMI: 63.471\n",
      "(Epoch 86 / 100) Train_Loss: 111.482; Val_Loss: 157.713   Train_ACC: 5.601; Val_ACC: 20.741   Train_NMI: 24.609; Val_NMI: 62.788\n",
      "(Epoch 87 / 100) Train_Loss: 111.681; Val_Loss: 163.418   Train_ACC: 5.890; Val_ACC: 21.111   Train_NMI: 25.362; Val_NMI: 63.475\n",
      "(Epoch 88 / 100) Train_Loss: 109.755; Val_Loss: 162.073   Train_ACC: 5.437; Val_ACC: 19.630   Train_NMI: 24.676; Val_NMI: 62.603\n",
      "(Epoch 89 / 100) Train_Loss: 109.004; Val_Loss: 162.994   Train_ACC: 5.931; Val_ACC: 19.259   Train_NMI: 25.186; Val_NMI: 61.806\n",
      "(Epoch 90 / 100) Train_Loss: 108.256; Val_Loss: 158.413   Train_ACC: 5.807; Val_ACC: 22.222   Train_NMI: 24.842; Val_NMI: 64.621\n",
      "(Epoch 91 / 100) Train_Loss: 107.408; Val_Loss: 159.268   Train_ACC: 5.931; Val_ACC: 21.111   Train_NMI: 25.619; Val_NMI: 63.540\n",
      "(Epoch 92 / 100) Train_Loss: 107.305; Val_Loss: 159.698   Train_ACC: 5.890; Val_ACC: 21.852   Train_NMI: 25.733; Val_NMI: 64.120\n",
      "(Epoch 93 / 100) Train_Loss: 106.592; Val_Loss: 161.012   Train_ACC: 6.260; Val_ACC: 18.519   Train_NMI: 26.193; Val_NMI: 61.789\n",
      "(Epoch 94 / 100) Train_Loss: 106.282; Val_Loss: 163.824   Train_ACC: 6.343; Val_ACC: 22.963   Train_NMI: 27.195; Val_NMI: 65.215\n",
      "(Epoch 95 / 100) Train_Loss: 105.199; Val_Loss: 162.845   Train_ACC: 5.931; Val_ACC: 20.000   Train_NMI: 25.682; Val_NMI: 62.833\n",
      "(Epoch 96 / 100) Train_Loss: 104.892; Val_Loss: 165.725   Train_ACC: 6.301; Val_ACC: 20.000   Train_NMI: 26.607; Val_NMI: 63.493\n",
      "(Epoch 97 / 100) Train_Loss: 103.827; Val_Loss: 161.148   Train_ACC: 5.931; Val_ACC: 20.741   Train_NMI: 26.455; Val_NMI: 63.700\n",
      "(Epoch 98 / 100) Train_Loss: 103.686; Val_Loss: 167.186   Train_ACC: 5.972; Val_ACC: 19.630   Train_NMI: 27.283; Val_NMI: 62.131\n",
      "(Epoch 99 / 100) Train_Loss: 103.450; Val_Loss: 165.209   Train_ACC: 5.848; Val_ACC: 21.852   Train_NMI: 26.172; Val_NMI: 63.272\n",
      "(Epoch 100 / 100) Train_Loss: 102.942; Val_Loss: 165.214   Train_ACC: 6.425; Val_ACC: 22.963   Train_NMI: 26.467; Val_NMI: 64.106\n"
     ]
    }
   ],
   "source": [
    "history_loss = gmvae.train(train_dl, valid_dl)"
   ]
  },
  {
   "cell_type": "code",
   "execution_count": 17,
   "metadata": {},
   "outputs": [],
   "source": [
    "torch.save(gmvae.network.state_dict(), 'smba_gmvae.pth')"
   ]
  },
  {
   "cell_type": "code",
   "execution_count": 18,
   "metadata": {},
   "outputs": [
    {
     "data": {
      "text/plain": [
       "<All keys matched successfully>"
      ]
     },
     "execution_count": 18,
     "metadata": {},
     "output_type": "execute_result"
    }
   ],
   "source": [
    "gmvae.network.load_state_dict(torch.load('smba_gmvae.pth'))"
   ]
  },
  {
   "cell_type": "markdown",
   "metadata": {
    "colab_type": "text",
    "id": "1bHWNxV-gAl2"
   },
   "source": [
    "## Image Reconstruction"
   ]
  },
  {
   "cell_type": "code",
   "execution_count": 19,
   "metadata": {
    "colab": {
     "base_uri": "https://localhost:8080/",
     "height": 160
    },
    "colab_type": "code",
    "id": "wd5jQFFHgCbD",
    "outputId": "8e1d4654-fb01-49dc-b512-e8e4bb259e0f"
   },
   "outputs": [],
   "source": [
    "original, reconstructed = gmvae.reconstruct_data(train_dl, 15)  "
   ]
  },
  {
   "cell_type": "code",
   "execution_count": 20,
   "metadata": {},
   "outputs": [],
   "source": [
    "original_int = original.reshape(15, 16, 16, 12).argmax(axis=-1)\n",
    "reconstructed_int = reconstructed.reshape(15, 16, 16, 12).argmax(axis=-1)"
   ]
  },
  {
   "cell_type": "code",
   "execution_count": 21,
   "metadata": {},
   "outputs": [],
   "source": [
    "def get_classes(chunks_int):\n",
    "    classes = []\n",
    "    for i in chunks_int:\n",
    "        if i.max() == 6:\n",
    "            classes.append('kia')\n",
    "        else:\n",
    "            classes.append('smba')\n",
    "    return np.array(classes)"
   ]
  },
  {
   "cell_type": "code",
   "execution_count": 22,
   "metadata": {},
   "outputs": [],
   "source": [
    "org_classes = get_classes(original_int)\n",
    "rec_classes = get_classes(reconstructed_int)\n",
    "assert np.sum(org_classes == rec_classes) == len(org_classes)"
   ]
  },
  {
   "cell_type": "code",
   "execution_count": 23,
   "metadata": {},
   "outputs": [],
   "source": [
    "def get_images(chunks_int):\n",
    "    images = []\n",
    "    for game, chunk in zip(get_classes(chunks_int), chunks_int):\n",
    "        images.append(vglc_with_path_encodings.array_to_image([chunk], game=game)[0])\n",
    "    return images"
   ]
  },
  {
   "cell_type": "code",
   "execution_count": 24,
   "metadata": {},
   "outputs": [
    {
     "data": {
      "text/plain": [
       "(15, 15)"
      ]
     },
     "execution_count": 24,
     "metadata": {},
     "output_type": "execute_result"
    }
   ],
   "source": [
    "org_images = get_images(original_int)\n",
    "rec_images = get_images(reconstructed_int)\n",
    "len(org_images), len(rec_images)"
   ]
  },
  {
   "cell_type": "code",
   "execution_count": 25,
   "metadata": {},
   "outputs": [
    {
     "data": {
      "image/png": "[encoded data removed]",
      "text/plain": [
       "<Figure size 1728x576 with 30 Axes>"
      ]
     },
     "metadata": {
      "needs_background": "light"
     },
     "output_type": "display_data"
    }
   ],
   "source": [
    "fig, axes = plt.subplots(nrows=3, ncols=10, figsize=(24, 8))\n",
    "axes = axes.flatten()\n",
    "nrows, ncols = 3, 10\n",
    "\n",
    "org_idxs = np.arange(0, 29, 2)\n",
    "rec_idxs = org_idxs + 1\n",
    "\n",
    "for idx in org_idxs:\n",
    "        \n",
    "    ax = axes[idx]\n",
    "\n",
    "    ax.imshow(np.asarray(org_images[idx // 2]))\n",
    "    ax.set_title(f'Org {idx // 2 + 1}')\n",
    "    \n",
    "    ax.axis('off')\n",
    "\n",
    "for idx in rec_idxs:\n",
    "        \n",
    "    ax = axes[idx]\n",
    "\n",
    "    ax.imshow(np.asarray(rec_images[idx // 2]))\n",
    "    ax.set_title(f'Rec {idx // 2 + 1}')\n",
    "\n",
    "    ax.axis('off')\n",
    "    \n",
    "plt.show()"
   ]
  },
  {
   "cell_type": "markdown",
   "metadata": {
    "colab_type": "text",
    "id": "CAyoGFFRgMgC"
   },
   "source": [
    "## Random Generation per Category"
   ]
  },
  {
   "cell_type": "code",
   "execution_count": 26,
   "metadata": {
    "colab": {
     "base_uri": "https://localhost:8080/",
     "height": 595
    },
    "colab_type": "code",
    "id": "xE84c3U2gLjA",
    "outputId": "cd52f356-e53a-4844-9db2-3723d15ddb00"
   },
   "outputs": [
    {
     "data": {
      "image/png": "[encoded data removed]",
      "text/plain": [
       "<Figure size 1728x1728 with 128 Axes>"
      ]
     },
     "metadata": {
      "needs_background": "light"
     },
     "output_type": "display_data"
    }
   ],
   "source": [
    "def display_random_generation(generated, num_classes, n=10):\n",
    "    plt.figure(figsize=[24,24])\n",
    "    for c in range(num_classes):\n",
    "        for i in range(n):\n",
    "            plt.subplot(num_classes, n, (c * n) + i + 1)\n",
    "            chunk_int = generated[(c * n) + i].reshape(16, 16, 12).argmax(axis=-1)\n",
    "            chunk_pix = vglc_with_path_encodings.array_to_image([chunk_int], game='smba')[0]\n",
    "            plt.imshow(chunk_pix)\n",
    "            plt.gray()\n",
    "            plt.axis('off')\n",
    "    plt.show()\n",
    "\n",
    "elem_per_category = 1\n",
    "generated = gmvae.random_generation(elem_per_category)\n",
    "display_random_generation(generated, args.num_classes, elem_per_category)"
   ]
  },
  {
   "cell_type": "code",
   "execution_count": 27,
   "metadata": {},
   "outputs": [],
   "source": [
    "elem_per_category = 10000 // num_components\n",
    "generated = gmvae.random_generation(elem_per_category)"
   ]
  },
  {
   "cell_type": "code",
   "execution_count": 28,
   "metadata": {},
   "outputs": [],
   "source": [
    "generated_int = generated.reshape(-1, 16, 16, 12).argmax(axis=-1)"
   ]
  },
  {
   "cell_type": "code",
   "execution_count": 29,
   "metadata": {},
   "outputs": [
    {
     "data": {
      "text/plain": [
       "(9984, 16, 16)"
      ]
     },
     "execution_count": 29,
     "metadata": {},
     "output_type": "execute_result"
    }
   ],
   "source": [
    "generated_int.shape"
   ]
  },
  {
   "cell_type": "code",
   "execution_count": 30,
   "metadata": {},
   "outputs": [],
   "source": [
    "# since this code chunk depends on random seed, it shouldn't be run again\n",
    "with open(f'../smba_generations/smba_gmvae_{num_components}.json', 'w+') as json_f:\n",
    "    json.dump(generated_int.tolist(), json_f)"
   ]
  },
  {
   "cell_type": "markdown",
   "metadata": {
    "colab_type": "text",
    "id": "-SbXR7FkhIcq"
   },
   "source": [
    "## Visualization of the feature latent space"
   ]
  },
  {
   "cell_type": "code",
   "execution_count": 31,
   "metadata": {
    "colab": {},
    "colab_type": "code",
    "id": "bTkEBA9JhQ2C"
   },
   "outputs": [],
   "source": [
    "# get feature representations\n",
    "test_features, test_labels = gmvae.latent_features(train_dl, True)"
   ]
  },
  {
   "cell_type": "code",
   "execution_count": 32,
   "metadata": {
    "colab": {},
    "colab_type": "code",
    "id": "LNmsz5rahZAY"
   },
   "outputs": [],
   "source": [
    "# import TSNE from scikit-learn library\n",
    "from sklearn.manifold import TSNE\n",
    "\n",
    "# reduce dimensionality to 2D, we consider a subset of data because TSNE\n",
    "# is a slow algorithm\n",
    "\n",
    "first_n = 1000\n",
    "tsne_features = TSNE(n_components=2).fit_transform(test_features[:first_n])"
   ]
  },
  {
   "cell_type": "code",
   "execution_count": 33,
   "metadata": {},
   "outputs": [],
   "source": [
    "test_labels_subset = test_labels[:first_n]"
   ]
  },
  {
   "cell_type": "code",
   "execution_count": 34,
   "metadata": {},
   "outputs": [],
   "source": [
    "X_, Y_ = np.s_[:,0], np.s_[:,1]"
   ]
  },
  {
   "cell_type": "code",
   "execution_count": 35,
   "metadata": {
    "colab": {
     "base_uri": "https://localhost:8080/",
     "height": 395
    },
    "colab_type": "code",
    "id": "wyTtDdwyha-L",
    "outputId": "350e806a-6dd3-47f2-bd91-444aaf61b3dd"
   },
   "outputs": [
    {
     "data": {
      "image/png": "[encoded data removed]",
      "text/plain": [
       "<Figure size 360x360 with 1 Axes>"
      ]
     },
     "metadata": {
      "needs_background": "light"
     },
     "output_type": "display_data"
    }
   ],
   "source": [
    "fig = plt.figure(figsize=(5, 5))\n",
    "\n",
    "plt.scatter(tsne_features[X_], tsne_features[Y_])\n",
    "\n",
    "plt.title('Projection from latent space to 2D')\n",
    "plt.show()"
   ]
  },
  {
   "cell_type": "markdown",
   "metadata": {},
   "source": []
  }
 ],
 "metadata": {
  "accelerator": "GPU",
  "colab": {
   "collapsed_sections": [],
   "include_colab_link": true,
   "name": "GMVAE_Pytorch.ipynb",
   "provenance": []
  },
  "kernelspec": {
   "display_name": "Python 3",
   "language": "python",
   "name": "python3"
  },
  "language_info": {
   "codemirror_mode": {
    "name": "ipython",
    "version": 3
   },
   "file_extension": ".py",
   "mimetype": "text/x-python",
   "name": "python",
   "nbconvert_exporter": "python",
   "pygments_lexer": "ipython3",
   "version": "3.7.6"
  },
  "toc": {
   "base_numbering": 1,
   "nav_menu": {},
   "number_sections": false,
   "sideBar": true,
   "skip_h1_title": false,
   "title_cell": "Table of Contents",
   "title_sidebar": "Contents",
   "toc_cell": false,
   "toc_position": {},
   "toc_section_display": true,
   "toc_window_display": false
  },
  "varInspector": {
   "cols": {
    "lenName": 16,
    "lenType": 16,
    "lenVar": 40
   },
   "kernels_config": {
    "python": {
     "delete_cmd_postfix": "",
     "delete_cmd_prefix": "del ",
     "library": "var_list.py",
     "varRefreshCmd": "print(var_dic_list())"
    },
    "r": {
     "delete_cmd_postfix": ") ",
     "delete_cmd_prefix": "rm(",
     "library": "var_list.r",
     "varRefreshCmd": "cat(var_dic_list()) "
    }
   },
   "types_to_exclude": [
    "module",
    "function",
    "builtin_function_or_method",
    "instance",
    "_Feature"
   ],
   "window_display": false
  }
 },
 "nbformat": 4,
 "nbformat_minor": 1
}
