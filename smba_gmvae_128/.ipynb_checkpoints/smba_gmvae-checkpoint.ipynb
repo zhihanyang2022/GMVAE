{
 "cells": [
  {
   "cell_type": "markdown",
   "metadata": {},
   "source": [
    "# GM-VAE for SMBA"
   ]
  },
  {
   "cell_type": "code",
   "execution_count": 9,
   "metadata": {},
   "outputs": [],
   "source": [
    "num_components=128"
   ]
  },
  {
   "cell_type": "markdown",
   "metadata": {
    "colab_type": "text",
    "id": "rGzTb0oswH5J"
   },
   "source": [
    "## Import Libraries"
   ]
  },
  {
   "cell_type": "code",
   "execution_count": 10,
   "metadata": {
    "colab": {},
    "colab_type": "code",
    "id": "ThVeaB3CwI4j"
   },
   "outputs": [],
   "source": [
    "import json\n",
    "\n",
    "import numpy as np\n",
    "import argparse\n",
    "import random\n",
    "from torchvision import datasets, transforms\n",
    "from torch.utils.data.sampler import SubsetRandomSampler\n",
    "import torch.utils.data\n",
    "from scipy.io import loadmat\n",
    "\n",
    "import sys\n",
    "sys.path.append('./pytorch')\n",
    "sys.path.append('../../1906-pcgml/pcgml-gmmVae-exp/modules/')\n",
    "import vglc_with_path_encodings\n",
    "\n",
    "from model.GMVAE import *\n",
    "import matplotlib.pyplot as plt\n",
    "import seaborn as sns\n",
    "%matplotlib inline\n",
    "\n",
    "import warnings\n",
    "warnings.filterwarnings('ignore')"
   ]
  },
  {
   "cell_type": "markdown",
   "metadata": {},
   "source": [
    "## Load data"
   ]
  },
  {
   "cell_type": "code",
   "execution_count": 2,
   "metadata": {},
   "outputs": [],
   "source": [
    "def open_json_as_nparray(json_fname):\n",
    "    with open(json_fname, 'r') as json_f:\n",
    "        return np.array(json.load(json_f))"
   ]
  },
  {
   "cell_type": "markdown",
   "metadata": {},
   "source": [
    "Load SMB."
   ]
  },
  {
   "cell_type": "code",
   "execution_count": 3,
   "metadata": {},
   "outputs": [],
   "source": [
    "smb_int = open_json_as_nparray('smbWithPath-allLevels-chunks-int.json')"
   ]
  },
  {
   "cell_type": "code",
   "execution_count": 4,
   "metadata": {},
   "outputs": [
    {
     "data": {
      "text/plain": [
       "(2698, 16, 16, 12)"
      ]
     },
     "execution_count": 4,
     "metadata": {},
     "output_type": "execute_result"
    }
   ],
   "source": [
    "smb_onehot = np.eye(len(np.unique(smb_int)))[smb_int]\n",
    "smb_onehot.shape"
   ]
  },
  {
   "cell_type": "code",
   "execution_count": 5,
   "metadata": {},
   "outputs": [
    {
     "data": {
      "text/plain": [
       "(2698, 3072)"
      ]
     },
     "execution_count": 5,
     "metadata": {},
     "output_type": "execute_result"
    }
   ],
   "source": [
    "smb_onehot = smb_onehot.reshape(\n",
    "    smb_onehot.shape[0], \n",
    "    smb_onehot.shape[1] * smb_onehot.shape[2] * smb_onehot.shape[3]\n",
    ")\n",
    "smb_onehot.shape"
   ]
  },
  {
   "cell_type": "code",
   "execution_count": 11,
   "metadata": {},
   "outputs": [
    {
     "data": {
      "text/plain": [
       "((2698,),\n",
       " array([ 6, 19, 14, 10,  7, 20,  6, 25, 18, 22, 10, 10, 23, 20,  3,  7, 23,\n",
       "         2, 21, 20]))"
      ]
     },
     "execution_count": 11,
     "metadata": {},
     "output_type": "execute_result"
    }
   ],
   "source": [
    "np.random.seed(42)\n",
    "smb_labels = np.random.randint(num_components, size=smb_onehot.shape[0])\n",
    "smb_labels.shape, smb_labels[:20]"
   ]
  },
  {
   "cell_type": "code",
   "execution_count": 12,
   "metadata": {},
   "outputs": [],
   "source": [
    "chunks, labels = smb_onehot, smb_labels"
   ]
  },
  {
   "cell_type": "code",
   "execution_count": 14,
   "metadata": {},
   "outputs": [
    {
     "data": {
      "image/png": "[encoded data removed]",
      "text/plain": [
       "<Figure size 432x288 with 1 Axes>"
      ]
     },
     "metadata": {
      "needs_background": "light"
     },
     "output_type": "display_data"
    }
   ],
   "source": [
    "plt.bar(np.arange(num_components), np.bincount(smb_labels))\n",
    "plt.show()"
   ]
  },
  {
   "cell_type": "markdown",
   "metadata": {
    "colab_type": "text",
    "id": "3QNKItMHwQU2"
   },
   "source": [
    "## Input Parameters"
   ]
  },
  {
   "cell_type": "code",
   "execution_count": 15,
   "metadata": {
    "colab": {},
    "colab_type": "code",
    "id": "8tBHkTQ4wVIG"
   },
   "outputs": [],
   "source": [
    "########################################################\n",
    "## Input Parameters\n",
    "#########################################################\n",
    "parser = argparse.ArgumentParser(description='PyTorch Implementation of DGM Clustering')\n",
    "\n",
    "## Used only in notebooks\n",
    "parser.add_argument('-f', '--file',\n",
    "                    help='Path for input file. First line should contain number of lines to search in')\n",
    "\n",
    "## Dataset\n",
    "parser.add_argument('--dataset', type=str, choices=['mnist'],\n",
    "                    default='mnist', help='dataset (default: mnist)')\n",
    "parser.add_argument('--seed', type=int, default=1, help='random seed (default: 1)')\n",
    "\n",
    "## GPU\n",
    "parser.add_argument('--cuda', type=int, default=1,\n",
    "                    help='use of cuda (default: 1)')\n",
    "parser.add_argument('--gpuID', type=int, default=0,\n",
    "                    help='set gpu id to use (default: 0)')\n",
    "\n",
    "## Training\n",
    "parser.add_argument('--epochs', type=int, default=100,\n",
    "                    help='number of total epochs to run (default: 200)')\n",
    "parser.add_argument('--batch_size', default=64, type=int,\n",
    "                    help='mini-batch size (default: 64)')\n",
    "parser.add_argument('--batch_size_val', default=200, type=int,\n",
    "                    help='mini-batch size of validation (default: 200)')\n",
    "parser.add_argument('--learning_rate', default=1e-3, type=float,\n",
    "                    help='learning rate (default: 0.001)')\n",
    "parser.add_argument('--decay_epoch', default=-1, type=int, \n",
    "                    help='Reduces the learning rate every decay_epoch')\n",
    "parser.add_argument('--lr_decay', default=0.5, type=float,\n",
    "                    help='Learning rate decay for training (default: 0.5)')\n",
    "\n",
    "## Architecture\n",
    "parser.add_argument('--num_classes', type=int, default=num_components,\n",
    "                    help='number of classes (default: 10)')  # edited for this task\n",
    "parser.add_argument('--gaussian_size', default=64, type=int,\n",
    "                    help='gaussian size (default: 64)')\n",
    "parser.add_argument('--input_size', default=3072, type=int,\n",
    "                    help='input size (default: 784)')  # edited for this task\n",
    "\n",
    "## Partition parameters\n",
    "parser.add_argument('--train_proportion', default=0.9, type=float,\n",
    "                    help='proportion of examples to consider for training only (default: 1.0)')\n",
    "\n",
    "## Gumbel parameters\n",
    "parser.add_argument('--init_temp', default=1.0, type=float,\n",
    "                    help='Initial temperature used in gumbel-softmax (recommended 0.5-1.0, default:1.0)')\n",
    "parser.add_argument('--decay_temp', default=1, type=int, \n",
    "                    help='Set 1 to decay gumbel temperature at every epoch (default: 1)')\n",
    "parser.add_argument('--hard_gumbel', default=0, type=int, \n",
    "                    help='Set 1 to use the hard version of gumbel-softmax (default: 1)')\n",
    "parser.add_argument('--min_temp', default=0.5, type=float, \n",
    "                    help='Minimum temperature of gumbel-softmax after annealing (default: 0.5)' )\n",
    "parser.add_argument('--decay_temp_rate', default=0.013862944, type=float,\n",
    "                    help='Temperature decay rate at every epoch (default: 0.013862944)')\n",
    "\n",
    "## Loss function parameters\n",
    "parser.add_argument('--w_gauss', default=2, type=float,\n",
    "                    help='weight of gaussian loss (default: 1)')\n",
    "parser.add_argument('--w_categ', default=1, type=float,\n",
    "                    help='weight of categorical loss (default: 1)')\n",
    "parser.add_argument('--w_rec', default=1, type=float,\n",
    "                    help='weight of reconstruction loss (default: 1)')\n",
    "parser.add_argument('--rec_type', type=str, choices=['bce', 'mse'],\n",
    "                    default='bce', help='desired reconstruction loss function (default: bce)')\n",
    "\n",
    "## Others\n",
    "parser.add_argument('--verbose', default=0, type=int,\n",
    "                    help='print extra information at every epoch.(default: 0)')\n",
    "\n",
    "args = parser.parse_args()"
   ]
  },
  {
   "cell_type": "markdown",
   "metadata": {
    "colab_type": "text",
    "id": "Bti6lPHawc9z"
   },
   "source": [
    "Set random seed in case it was specified in the parameters\n"
   ]
  },
  {
   "cell_type": "code",
   "execution_count": 16,
   "metadata": {
    "colab": {},
    "colab_type": "code",
    "id": "IpWPxTy1wgbJ"
   },
   "outputs": [],
   "source": [
    "## Random Seed\n",
    "SEED = args.seed\n",
    "np.random.seed(SEED)\n",
    "random.seed(SEED)\n",
    "torch.manual_seed(SEED)\n",
    "if args.cuda:\n",
    "    torch.cuda.manual_seed(SEED)"
   ]
  },
  {
   "cell_type": "markdown",
   "metadata": {
    "colab_type": "text",
    "id": "fmrkmhttwkiD"
   },
   "source": [
    "## Data Partition"
   ]
  },
  {
   "cell_type": "markdown",
   "metadata": {
    "colab_type": "text",
    "id": "fUuTFMBhb2vZ"
   },
   "source": [
    "We split the training data into train and validation according to the *train_proportion* parameter:"
   ]
  },
  {
   "cell_type": "code",
   "execution_count": 17,
   "metadata": {},
   "outputs": [],
   "source": [
    "from torch.utils.data import TensorDataset, DataLoader"
   ]
  },
  {
   "cell_type": "code",
   "execution_count": 18,
   "metadata": {},
   "outputs": [],
   "source": [
    "assert args.train_proportion != 1"
   ]
  },
  {
   "cell_type": "code",
   "execution_count": 19,
   "metadata": {
    "colab": {},
    "colab_type": "code",
    "id": "P8F6pjC7cNX7"
   },
   "outputs": [],
   "source": [
    "def partition_dataset(n, proportion=1):\n",
    "   train_num = int(n * proportion)\n",
    "   indices = np.random.permutation(n)\n",
    "   train_indices, val_indices = indices[:train_num], indices[train_num:]\n",
    "   return train_indices, val_indices\n",
    "\n",
    "train_indices, val_indices = partition_dataset(len(chunks), args.train_proportion)\n",
    "train_ds = TensorDataset(torch.from_numpy(chunks).float(), torch.from_numpy(labels).long())\n",
    "train_dl = DataLoader(train_ds, batch_size=args.batch_size, sampler=SubsetRandomSampler(train_indices))\n",
    "valid_dl = DataLoader(train_ds, batch_size=args.batch_size_val, sampler=SubsetRandomSampler(val_indices))"
   ]
  },
  {
   "cell_type": "markdown",
   "metadata": {
    "colab_type": "text",
    "id": "Pt7sEfZWw_U7"
   },
   "source": [
    "## Train Model"
   ]
  },
  {
   "cell_type": "code",
   "execution_count": 20,
   "metadata": {
    "colab": {},
    "colab_type": "code",
    "id": "qTncRSCuxFEL"
   },
   "outputs": [],
   "source": [
    "# Model Initialization\n",
    "gmvae = GMVAE(args)"
   ]
  },
  {
   "cell_type": "code",
   "execution_count": 22,
   "metadata": {},
   "outputs": [
    {
     "name": "stdout",
     "output_type": "stream",
     "text": [
      "(Epoch 1 / 100) Train_Loss: 484.912; Val_Loss: 244.425   Train_ACC: 6.013; Val_ACC: 5.926   Train_NMI: 2.468; Val_NMI: 0.778\n",
      "(Epoch 2 / 100) Train_Loss: 229.245; Val_Loss: 230.673   Train_ACC: 5.972; Val_ACC: 7.778   Train_NMI: 2.303; Val_NMI: 6.610\n",
      "(Epoch 3 / 100) Train_Loss: 225.073; Val_Loss: 232.099   Train_ACC: 5.478; Val_ACC: 8.519   Train_NMI: 1.547; Val_NMI: 9.628\n",
      "(Epoch 4 / 100) Train_Loss: 221.747; Val_Loss: 223.134   Train_ACC: 6.260; Val_ACC: 10.370   Train_NMI: 2.742; Val_NMI: 13.355\n",
      "(Epoch 5 / 100) Train_Loss: 214.951; Val_Loss: 217.633   Train_ACC: 5.643; Val_ACC: 11.111   Train_NMI: 2.731; Val_NMI: 13.196\n",
      "(Epoch 6 / 100) Train_Loss: 211.535; Val_Loss: 213.289   Train_ACC: 5.725; Val_ACC: 8.148   Train_NMI: 2.468; Val_NMI: 6.359\n",
      "(Epoch 7 / 100) Train_Loss: 207.798; Val_Loss: 207.056   Train_ACC: 5.313; Val_ACC: 7.407   Train_NMI: 2.058; Val_NMI: 6.470\n",
      "(Epoch 8 / 100) Train_Loss: 206.366; Val_Loss: 205.838   Train_ACC: 5.395; Val_ACC: 9.630   Train_NMI: 2.131; Val_NMI: 9.974\n",
      "(Epoch 9 / 100) Train_Loss: 201.660; Val_Loss: 209.405   Train_ACC: 5.395; Val_ACC: 10.000   Train_NMI: 2.029; Val_NMI: 12.308\n",
      "(Epoch 10 / 100) Train_Loss: 199.904; Val_Loss: 202.104   Train_ACC: 5.807; Val_ACC: 9.630   Train_NMI: 2.252; Val_NMI: 12.029\n",
      "(Epoch 11 / 100) Train_Loss: 197.171; Val_Loss: 202.408   Train_ACC: 6.137; Val_ACC: 11.852   Train_NMI: 2.582; Val_NMI: 14.453\n",
      "(Epoch 12 / 100) Train_Loss: 194.860; Val_Loss: 197.143   Train_ACC: 5.807; Val_ACC: 11.111   Train_NMI: 1.721; Val_NMI: 14.135\n",
      "(Epoch 13 / 100) Train_Loss: 191.783; Val_Loss: 193.783   Train_ACC: 6.137; Val_ACC: 11.852   Train_NMI: 2.633; Val_NMI: 15.772\n",
      "(Epoch 14 / 100) Train_Loss: 188.852; Val_Loss: 194.132   Train_ACC: 6.301; Val_ACC: 12.222   Train_NMI: 2.458; Val_NMI: 15.197\n",
      "(Epoch 15 / 100) Train_Loss: 186.703; Val_Loss: 194.079   Train_ACC: 6.466; Val_ACC: 11.852   Train_NMI: 3.097; Val_NMI: 17.465\n",
      "(Epoch 16 / 100) Train_Loss: 184.849; Val_Loss: 192.336   Train_ACC: 6.466; Val_ACC: 11.852   Train_NMI: 2.962; Val_NMI: 17.334\n",
      "(Epoch 17 / 100) Train_Loss: 183.866; Val_Loss: 188.942   Train_ACC: 6.672; Val_ACC: 12.222   Train_NMI: 3.622; Val_NMI: 19.938\n",
      "(Epoch 18 / 100) Train_Loss: 181.609; Val_Loss: 189.115   Train_ACC: 6.260; Val_ACC: 13.704   Train_NMI: 3.011; Val_NMI: 20.770\n",
      "(Epoch 19 / 100) Train_Loss: 179.583; Val_Loss: 192.273   Train_ACC: 6.878; Val_ACC: 12.963   Train_NMI: 4.026; Val_NMI: 19.983\n",
      "(Epoch 20 / 100) Train_Loss: 176.750; Val_Loss: 189.232   Train_ACC: 6.425; Val_ACC: 13.333   Train_NMI: 3.299; Val_NMI: 20.326\n",
      "(Epoch 21 / 100) Train_Loss: 175.276; Val_Loss: 189.474   Train_ACC: 6.466; Val_ACC: 13.333   Train_NMI: 3.449; Val_NMI: 20.209\n",
      "(Epoch 22 / 100) Train_Loss: 173.879; Val_Loss: 184.627   Train_ACC: 6.343; Val_ACC: 15.556   Train_NMI: 3.811; Val_NMI: 24.812\n",
      "(Epoch 23 / 100) Train_Loss: 172.272; Val_Loss: 181.326   Train_ACC: 6.466; Val_ACC: 13.333   Train_NMI: 3.548; Val_NMI: 18.111\n",
      "(Epoch 24 / 100) Train_Loss: 171.277; Val_Loss: 185.195   Train_ACC: 6.301; Val_ACC: 14.074   Train_NMI: 3.337; Val_NMI: 24.382\n",
      "(Epoch 25 / 100) Train_Loss: 170.144; Val_Loss: 181.260   Train_ACC: 6.590; Val_ACC: 14.444   Train_NMI: 3.230; Val_NMI: 21.255\n",
      "(Epoch 26 / 100) Train_Loss: 169.400; Val_Loss: 182.960   Train_ACC: 6.672; Val_ACC: 15.185   Train_NMI: 3.986; Val_NMI: 23.129\n",
      "(Epoch 27 / 100) Train_Loss: 168.475; Val_Loss: 181.775   Train_ACC: 6.672; Val_ACC: 15.556   Train_NMI: 3.851; Val_NMI: 23.654\n",
      "(Epoch 28 / 100) Train_Loss: 167.696; Val_Loss: 175.182   Train_ACC: 6.672; Val_ACC: 13.704   Train_NMI: 3.793; Val_NMI: 21.632\n",
      "(Epoch 29 / 100) Train_Loss: 165.849; Val_Loss: 175.083   Train_ACC: 6.796; Val_ACC: 17.407   Train_NMI: 3.604; Val_NMI: 27.318\n",
      "(Epoch 30 / 100) Train_Loss: 164.428; Val_Loss: 173.695   Train_ACC: 6.590; Val_ACC: 15.926   Train_NMI: 4.042; Val_NMI: 24.734\n",
      "(Epoch 31 / 100) Train_Loss: 164.120; Val_Loss: 177.486   Train_ACC: 7.002; Val_ACC: 15.926   Train_NMI: 4.221; Val_NMI: 25.246\n",
      "(Epoch 32 / 100) Train_Loss: 162.731; Val_Loss: 176.248   Train_ACC: 6.755; Val_ACC: 16.296   Train_NMI: 3.672; Val_NMI: 24.929\n",
      "(Epoch 33 / 100) Train_Loss: 161.455; Val_Loss: 175.056   Train_ACC: 7.125; Val_ACC: 14.815   Train_NMI: 4.184; Val_NMI: 26.995\n",
      "(Epoch 34 / 100) Train_Loss: 160.457; Val_Loss: 173.348   Train_ACC: 7.208; Val_ACC: 15.926   Train_NMI: 4.099; Val_NMI: 25.101\n",
      "(Epoch 35 / 100) Train_Loss: 159.354; Val_Loss: 173.873   Train_ACC: 7.043; Val_ACC: 15.185   Train_NMI: 4.057; Val_NMI: 24.020\n",
      "(Epoch 36 / 100) Train_Loss: 158.433; Val_Loss: 173.589   Train_ACC: 6.590; Val_ACC: 17.037   Train_NMI: 3.617; Val_NMI: 26.783\n",
      "(Epoch 37 / 100) Train_Loss: 157.959; Val_Loss: 167.883   Train_ACC: 7.043; Val_ACC: 15.556   Train_NMI: 4.341; Val_NMI: 26.524\n",
      "(Epoch 38 / 100) Train_Loss: 156.187; Val_Loss: 168.040   Train_ACC: 7.166; Val_ACC: 14.815   Train_NMI: 4.609; Val_NMI: 24.848\n",
      "(Epoch 39 / 100) Train_Loss: 155.543; Val_Loss: 169.310   Train_ACC: 7.002; Val_ACC: 14.815   Train_NMI: 4.658; Val_NMI: 25.803\n",
      "(Epoch 40 / 100) Train_Loss: 154.576; Val_Loss: 168.150   Train_ACC: 7.166; Val_ACC: 15.185   Train_NMI: 4.330; Val_NMI: 26.348\n",
      "(Epoch 41 / 100) Train_Loss: 153.490; Val_Loss: 164.903   Train_ACC: 6.755; Val_ACC: 14.815   Train_NMI: 4.560; Val_NMI: 23.858\n",
      "(Epoch 42 / 100) Train_Loss: 152.248; Val_Loss: 166.585   Train_ACC: 7.002; Val_ACC: 15.556   Train_NMI: 4.717; Val_NMI: 27.244\n",
      "(Epoch 43 / 100) Train_Loss: 151.551; Val_Loss: 165.350   Train_ACC: 7.166; Val_ACC: 15.926   Train_NMI: 4.896; Val_NMI: 25.397\n",
      "(Epoch 44 / 100) Train_Loss: 150.822; Val_Loss: 166.048   Train_ACC: 7.125; Val_ACC: 16.296   Train_NMI: 4.650; Val_NMI: 26.983\n",
      "(Epoch 45 / 100) Train_Loss: 150.468; Val_Loss: 168.172   Train_ACC: 7.578; Val_ACC: 16.667   Train_NMI: 4.631; Val_NMI: 28.504\n",
      "(Epoch 46 / 100) Train_Loss: 148.973; Val_Loss: 166.589   Train_ACC: 7.290; Val_ACC: 15.556   Train_NMI: 4.075; Val_NMI: 25.416\n",
      "(Epoch 47 / 100) Train_Loss: 147.706; Val_Loss: 165.368   Train_ACC: 7.002; Val_ACC: 15.185   Train_NMI: 4.262; Val_NMI: 27.425\n",
      "(Epoch 48 / 100) Train_Loss: 147.533; Val_Loss: 161.921   Train_ACC: 7.043; Val_ACC: 15.926   Train_NMI: 4.801; Val_NMI: 26.555\n",
      "(Epoch 49 / 100) Train_Loss: 146.196; Val_Loss: 161.845   Train_ACC: 7.249; Val_ACC: 16.296   Train_NMI: 4.839; Val_NMI: 26.311\n",
      "(Epoch 50 / 100) Train_Loss: 145.490; Val_Loss: 165.302   Train_ACC: 7.372; Val_ACC: 15.556   Train_NMI: 4.734; Val_NMI: 27.857\n",
      "(Epoch 51 / 100) Train_Loss: 144.975; Val_Loss: 160.970   Train_ACC: 7.043; Val_ACC: 16.296   Train_NMI: 5.253; Val_NMI: 28.750\n",
      "(Epoch 52 / 100) Train_Loss: 143.714; Val_Loss: 157.756   Train_ACC: 7.166; Val_ACC: 17.407   Train_NMI: 5.027; Val_NMI: 29.452\n",
      "(Epoch 53 / 100) Train_Loss: 143.626; Val_Loss: 165.493   Train_ACC: 7.414; Val_ACC: 16.667   Train_NMI: 4.927; Val_NMI: 29.730\n",
      "(Epoch 54 / 100) Train_Loss: 143.024; Val_Loss: 157.301   Train_ACC: 7.208; Val_ACC: 18.148   Train_NMI: 4.645; Val_NMI: 30.152\n",
      "(Epoch 55 / 100) Train_Loss: 141.496; Val_Loss: 160.851   Train_ACC: 7.414; Val_ACC: 17.037   Train_NMI: 5.035; Val_NMI: 27.813\n",
      "(Epoch 56 / 100) Train_Loss: 142.626; Val_Loss: 165.728   Train_ACC: 7.208; Val_ACC: 16.667   Train_NMI: 4.859; Val_NMI: 28.374\n",
      "(Epoch 57 / 100) Train_Loss: 140.450; Val_Loss: 161.191   Train_ACC: 7.290; Val_ACC: 16.296   Train_NMI: 4.915; Val_NMI: 28.572\n",
      "(Epoch 58 / 100) Train_Loss: 139.703; Val_Loss: 159.777   Train_ACC: 7.496; Val_ACC: 18.519   Train_NMI: 4.794; Val_NMI: 31.665\n",
      "(Epoch 59 / 100) Train_Loss: 137.668; Val_Loss: 163.194   Train_ACC: 7.455; Val_ACC: 17.037   Train_NMI: 4.721; Val_NMI: 29.451\n",
      "(Epoch 60 / 100) Train_Loss: 137.252; Val_Loss: 160.011   Train_ACC: 7.372; Val_ACC: 17.037   Train_NMI: 4.798; Val_NMI: 29.006\n",
      "(Epoch 61 / 100) Train_Loss: 136.201; Val_Loss: 158.283   Train_ACC: 7.496; Val_ACC: 18.519   Train_NMI: 4.985; Val_NMI: 31.795\n",
      "(Epoch 62 / 100) Train_Loss: 135.226; Val_Loss: 161.478   Train_ACC: 7.249; Val_ACC: 15.926   Train_NMI: 4.304; Val_NMI: 29.053\n",
      "(Epoch 63 / 100) Train_Loss: 134.624; Val_Loss: 158.080   Train_ACC: 7.414; Val_ACC: 19.259   Train_NMI: 4.556; Val_NMI: 32.728\n",
      "(Epoch 64 / 100) Train_Loss: 133.268; Val_Loss: 157.935   Train_ACC: 7.455; Val_ACC: 16.667   Train_NMI: 4.595; Val_NMI: 30.270\n",
      "(Epoch 65 / 100) Train_Loss: 133.731; Val_Loss: 160.186   Train_ACC: 7.578; Val_ACC: 17.037   Train_NMI: 4.807; Val_NMI: 29.486\n"
     ]
    },
    {
     "name": "stdout",
     "output_type": "stream",
     "text": [
      "(Epoch 66 / 100) Train_Loss: 132.961; Val_Loss: 161.370   Train_ACC: 7.372; Val_ACC: 17.778   Train_NMI: 4.646; Val_NMI: 31.918\n",
      "(Epoch 67 / 100) Train_Loss: 131.391; Val_Loss: 156.919   Train_ACC: 7.372; Val_ACC: 18.148   Train_NMI: 4.954; Val_NMI: 31.134\n",
      "(Epoch 68 / 100) Train_Loss: 130.046; Val_Loss: 157.025   Train_ACC: 7.331; Val_ACC: 17.037   Train_NMI: 4.468; Val_NMI: 30.627\n",
      "(Epoch 69 / 100) Train_Loss: 129.778; Val_Loss: 149.765   Train_ACC: 7.414; Val_ACC: 17.407   Train_NMI: 4.573; Val_NMI: 31.269\n",
      "(Epoch 70 / 100) Train_Loss: 128.917; Val_Loss: 159.545   Train_ACC: 7.496; Val_ACC: 18.148   Train_NMI: 5.047; Val_NMI: 33.655\n",
      "(Epoch 71 / 100) Train_Loss: 127.111; Val_Loss: 154.035   Train_ACC: 7.619; Val_ACC: 17.407   Train_NMI: 5.085; Val_NMI: 32.375\n",
      "(Epoch 72 / 100) Train_Loss: 127.044; Val_Loss: 157.704   Train_ACC: 7.414; Val_ACC: 18.889   Train_NMI: 4.866; Val_NMI: 34.228\n",
      "(Epoch 73 / 100) Train_Loss: 125.529; Val_Loss: 162.039   Train_ACC: 7.578; Val_ACC: 20.000   Train_NMI: 5.083; Val_NMI: 34.261\n",
      "(Epoch 74 / 100) Train_Loss: 125.478; Val_Loss: 155.833   Train_ACC: 7.702; Val_ACC: 18.519   Train_NMI: 5.333; Val_NMI: 33.715\n",
      "(Epoch 75 / 100) Train_Loss: 125.077; Val_Loss: 156.942   Train_ACC: 8.031; Val_ACC: 17.778   Train_NMI: 5.242; Val_NMI: 32.712\n",
      "(Epoch 76 / 100) Train_Loss: 123.782; Val_Loss: 156.503   Train_ACC: 7.867; Val_ACC: 20.370   Train_NMI: 5.448; Val_NMI: 33.063\n",
      "(Epoch 77 / 100) Train_Loss: 123.266; Val_Loss: 161.139   Train_ACC: 7.496; Val_ACC: 17.778   Train_NMI: 4.824; Val_NMI: 32.708\n",
      "(Epoch 78 / 100) Train_Loss: 122.479; Val_Loss: 157.509   Train_ACC: 7.702; Val_ACC: 19.259   Train_NMI: 5.236; Val_NMI: 34.304\n",
      "(Epoch 79 / 100) Train_Loss: 122.156; Val_Loss: 157.595   Train_ACC: 7.578; Val_ACC: 18.889   Train_NMI: 5.384; Val_NMI: 33.784\n",
      "(Epoch 80 / 100) Train_Loss: 121.737; Val_Loss: 163.729   Train_ACC: 7.578; Val_ACC: 18.889   Train_NMI: 5.522; Val_NMI: 33.442\n",
      "(Epoch 81 / 100) Train_Loss: 120.343; Val_Loss: 159.734   Train_ACC: 7.908; Val_ACC: 18.519   Train_NMI: 5.363; Val_NMI: 33.867\n",
      "(Epoch 82 / 100) Train_Loss: 119.212; Val_Loss: 159.265   Train_ACC: 7.619; Val_ACC: 18.889   Train_NMI: 5.094; Val_NMI: 34.125\n",
      "(Epoch 83 / 100) Train_Loss: 118.849; Val_Loss: 164.832   Train_ACC: 7.619; Val_ACC: 18.519   Train_NMI: 5.145; Val_NMI: 35.167\n",
      "(Epoch 84 / 100) Train_Loss: 118.639; Val_Loss: 158.468   Train_ACC: 7.908; Val_ACC: 18.519   Train_NMI: 5.584; Val_NMI: 35.170\n",
      "(Epoch 85 / 100) Train_Loss: 117.154; Val_Loss: 159.202   Train_ACC: 7.867; Val_ACC: 18.889   Train_NMI: 5.408; Val_NMI: 34.428\n",
      "(Epoch 86 / 100) Train_Loss: 117.764; Val_Loss: 158.281   Train_ACC: 7.825; Val_ACC: 18.148   Train_NMI: 5.152; Val_NMI: 33.545\n",
      "(Epoch 87 / 100) Train_Loss: 116.671; Val_Loss: 157.668   Train_ACC: 7.619; Val_ACC: 18.148   Train_NMI: 4.900; Val_NMI: 34.399\n",
      "(Epoch 88 / 100) Train_Loss: 116.418; Val_Loss: 162.567   Train_ACC: 7.825; Val_ACC: 18.889   Train_NMI: 5.336; Val_NMI: 33.946\n",
      "(Epoch 89 / 100) Train_Loss: 115.731; Val_Loss: 159.958   Train_ACC: 7.825; Val_ACC: 18.889   Train_NMI: 5.295; Val_NMI: 35.379\n",
      "(Epoch 90 / 100) Train_Loss: 114.547; Val_Loss: 165.863   Train_ACC: 8.114; Val_ACC: 17.407   Train_NMI: 5.197; Val_NMI: 31.393\n",
      "(Epoch 91 / 100) Train_Loss: 114.163; Val_Loss: 165.972   Train_ACC: 7.661; Val_ACC: 18.148   Train_NMI: 5.041; Val_NMI: 33.237\n",
      "(Epoch 92 / 100) Train_Loss: 113.155; Val_Loss: 155.378   Train_ACC: 7.619; Val_ACC: 19.259   Train_NMI: 4.802; Val_NMI: 34.563\n",
      "(Epoch 93 / 100) Train_Loss: 112.087; Val_Loss: 163.380   Train_ACC: 7.784; Val_ACC: 18.519   Train_NMI: 5.148; Val_NMI: 34.844\n",
      "(Epoch 94 / 100) Train_Loss: 111.236; Val_Loss: 158.270   Train_ACC: 7.867; Val_ACC: 17.407   Train_NMI: 5.272; Val_NMI: 33.540\n",
      "(Epoch 95 / 100) Train_Loss: 111.564; Val_Loss: 168.779   Train_ACC: 7.990; Val_ACC: 17.778   Train_NMI: 5.202; Val_NMI: 33.988\n",
      "(Epoch 96 / 100) Train_Loss: 111.028; Val_Loss: 156.510   Train_ACC: 7.661; Val_ACC: 19.259   Train_NMI: 5.151; Val_NMI: 34.441\n",
      "(Epoch 97 / 100) Train_Loss: 110.112; Val_Loss: 165.122   Train_ACC: 7.702; Val_ACC: 18.148   Train_NMI: 4.945; Val_NMI: 34.908\n",
      "(Epoch 98 / 100) Train_Loss: 109.132; Val_Loss: 161.458   Train_ACC: 7.661; Val_ACC: 19.259   Train_NMI: 4.710; Val_NMI: 34.841\n",
      "(Epoch 99 / 100) Train_Loss: 109.363; Val_Loss: 160.171   Train_ACC: 7.743; Val_ACC: 19.259   Train_NMI: 5.168; Val_NMI: 34.716\n",
      "(Epoch 100 / 100) Train_Loss: 108.190; Val_Loss: 165.670   Train_ACC: 7.496; Val_ACC: 18.519   Train_NMI: 4.986; Val_NMI: 35.177\n"
     ]
    }
   ],
   "source": [
    "history_loss = gmvae.train(train_dl, valid_dl)"
   ]
  },
  {
   "cell_type": "code",
   "execution_count": 23,
   "metadata": {},
   "outputs": [],
   "source": [
    "torch.save(gmvae.network.state_dict(), 'smba_gmvae.pth')"
   ]
  },
  {
   "cell_type": "code",
   "execution_count": 24,
   "metadata": {},
   "outputs": [
    {
     "data": {
      "text/plain": [
       "<All keys matched successfully>"
      ]
     },
     "execution_count": 24,
     "metadata": {},
     "output_type": "execute_result"
    }
   ],
   "source": [
    "gmvae.network.load_state_dict(torch.load('smba_gmvae.pth'))"
   ]
  },
  {
   "cell_type": "markdown",
   "metadata": {
    "colab_type": "text",
    "id": "1bHWNxV-gAl2"
   },
   "source": [
    "## Image Reconstruction"
   ]
  },
  {
   "cell_type": "code",
   "execution_count": 25,
   "metadata": {
    "colab": {
     "base_uri": "https://localhost:8080/",
     "height": 160
    },
    "colab_type": "code",
    "id": "wd5jQFFHgCbD",
    "outputId": "8e1d4654-fb01-49dc-b512-e8e4bb259e0f"
   },
   "outputs": [],
   "source": [
    "original, reconstructed = gmvae.reconstruct_data(train_dl, 15)  "
   ]
  },
  {
   "cell_type": "code",
   "execution_count": 26,
   "metadata": {},
   "outputs": [],
   "source": [
    "original_int = original.reshape(15, 16, 16, 12).argmax(axis=-1)\n",
    "reconstructed_int = reconstructed.reshape(15, 16, 16, 12).argmax(axis=-1)"
   ]
  },
  {
   "cell_type": "code",
   "execution_count": 27,
   "metadata": {},
   "outputs": [],
   "source": [
    "def get_classes(chunks_int):\n",
    "    classes = []\n",
    "    for i in chunks_int:\n",
    "        if i.max() == 6:\n",
    "            classes.append('kia')\n",
    "        else:\n",
    "            classes.append('smba')\n",
    "    return np.array(classes)"
   ]
  },
  {
   "cell_type": "code",
   "execution_count": 28,
   "metadata": {},
   "outputs": [],
   "source": [
    "org_classes = get_classes(original_int)\n",
    "rec_classes = get_classes(reconstructed_int)\n",
    "assert np.sum(org_classes == rec_classes) == len(org_classes)"
   ]
  },
  {
   "cell_type": "code",
   "execution_count": 29,
   "metadata": {},
   "outputs": [],
   "source": [
    "def get_images(chunks_int):\n",
    "    images = []\n",
    "    for game, chunk in zip(get_classes(chunks_int), chunks_int):\n",
    "        images.append(vglc_with_path_encodings.array_to_image([chunk], game=game)[0])\n",
    "    return images"
   ]
  },
  {
   "cell_type": "code",
   "execution_count": 30,
   "metadata": {},
   "outputs": [
    {
     "data": {
      "text/plain": [
       "(15, 15)"
      ]
     },
     "execution_count": 30,
     "metadata": {},
     "output_type": "execute_result"
    }
   ],
   "source": [
    "org_images = get_images(original_int)\n",
    "rec_images = get_images(reconstructed_int)\n",
    "len(org_images), len(rec_images)"
   ]
  },
  {
   "cell_type": "code",
   "execution_count": 31,
   "metadata": {},
   "outputs": [
    {
     "data": {
      "image/png": "[encoded data removed]",
      "text/plain": [
       "<Figure size 1728x576 with 30 Axes>"
      ]
     },
     "metadata": {
      "needs_background": "light"
     },
     "output_type": "display_data"
    }
   ],
   "source": [
    "fig, axes = plt.subplots(nrows=3, ncols=10, figsize=(24, 8))\n",
    "axes = axes.flatten()\n",
    "nrows, ncols = 3, 10\n",
    "\n",
    "org_idxs = np.arange(0, 29, 2)\n",
    "rec_idxs = org_idxs + 1\n",
    "\n",
    "for idx in org_idxs:\n",
    "        \n",
    "    ax = axes[idx]\n",
    "\n",
    "    ax.imshow(np.asarray(org_images[idx // 2]))\n",
    "    ax.set_title(f'Org {idx // 2 + 1}')\n",
    "    \n",
    "    ax.axis('off')\n",
    "\n",
    "for idx in rec_idxs:\n",
    "        \n",
    "    ax = axes[idx]\n",
    "\n",
    "    ax.imshow(np.asarray(rec_images[idx // 2]))\n",
    "    ax.set_title(f'Rec {idx // 2 + 1}')\n",
    "\n",
    "    ax.axis('off')\n",
    "    \n",
    "plt.show()"
   ]
  },
  {
   "cell_type": "markdown",
   "metadata": {
    "colab_type": "text",
    "id": "CAyoGFFRgMgC"
   },
   "source": [
    "## Random Generation per Category"
   ]
  },
  {
   "cell_type": "code",
   "execution_count": 44,
   "metadata": {
    "colab": {
     "base_uri": "https://localhost:8080/",
     "height": 595
    },
    "colab_type": "code",
    "id": "xE84c3U2gLjA",
    "outputId": "cd52f356-e53a-4844-9db2-3723d15ddb00"
   },
   "outputs": [
    {
     "data": {
      "image/png": "[encoded data removed]",
      "text/plain": [
       "<Figure size 1728x1728 with 28 Axes>"
      ]
     },
     "metadata": {
      "needs_background": "light"
     },
     "output_type": "display_data"
    }
   ],
   "source": [
    "def display_random_generation(generated, num_classes, n=10):\n",
    "    plt.figure(figsize=[24,24])\n",
    "    for c in range(num_classes):\n",
    "        for i in range(n):\n",
    "            plt.subplot(num_classes, n, (c * n) + i + 1)\n",
    "            chunk_int = generated[(c * n) + i].reshape(16, 16, 12).argmax(axis=-1)\n",
    "            chunk_pix = vglc_with_path_encodings.array_to_image([chunk_int], game='smba')[0]\n",
    "            plt.imshow(chunk_pix)\n",
    "            plt.gray()\n",
    "            plt.axis('off')\n",
    "    plt.show()\n",
    "\n",
    "elem_per_category = 1\n",
    "generated = gmvae.random_generation(elem_per_category)\n",
    "display_random_generation(generated, args.num_classes, elem_per_category)"
   ]
  },
  {
   "cell_type": "code",
   "execution_count": 35,
   "metadata": {},
   "outputs": [],
   "source": [
    "elem_per_category = 10000 // num_components\n",
    "generated = gmvae.random_generation(elem_per_category)"
   ]
  },
  {
   "cell_type": "code",
   "execution_count": 36,
   "metadata": {},
   "outputs": [],
   "source": [
    "generated_int = generated.reshape(-1, 16, 16, 12).argmax(axis=-1)"
   ]
  },
  {
   "cell_type": "code",
   "execution_count": 37,
   "metadata": {},
   "outputs": [
    {
     "data": {
      "text/plain": [
       "(9996, 16, 16)"
      ]
     },
     "execution_count": 37,
     "metadata": {},
     "output_type": "execute_result"
    }
   ],
   "source": [
    "generated_int.shape"
   ]
  },
  {
   "cell_type": "code",
   "execution_count": 38,
   "metadata": {},
   "outputs": [],
   "source": [
    "# since this code chunk depends on random seed, it shouldn't be run again\n",
    "with open(f'../smba_generations/smba_gmvae_{num_components}.json', 'w+') as json_f:\n",
    "    json.dump(generated_int.tolist(), json_f)"
   ]
  },
  {
   "cell_type": "markdown",
   "metadata": {
    "colab_type": "text",
    "id": "-SbXR7FkhIcq"
   },
   "source": [
    "## Visualization of the feature latent space"
   ]
  },
  {
   "cell_type": "code",
   "execution_count": 39,
   "metadata": {
    "colab": {},
    "colab_type": "code",
    "id": "bTkEBA9JhQ2C"
   },
   "outputs": [],
   "source": [
    "# get feature representations\n",
    "test_features, test_labels = gmvae.latent_features(train_dl, True)"
   ]
  },
  {
   "cell_type": "code",
   "execution_count": 40,
   "metadata": {
    "colab": {},
    "colab_type": "code",
    "id": "LNmsz5rahZAY"
   },
   "outputs": [],
   "source": [
    "# import TSNE from scikit-learn library\n",
    "from sklearn.manifold import TSNE\n",
    "\n",
    "# reduce dimensionality to 2D, we consider a subset of data because TSNE\n",
    "# is a slow algorithm\n",
    "\n",
    "first_n = 1000\n",
    "tsne_features = TSNE(n_components=2).fit_transform(test_features[:first_n])"
   ]
  },
  {
   "cell_type": "code",
   "execution_count": 41,
   "metadata": {},
   "outputs": [],
   "source": [
    "test_labels_subset = test_labels[:first_n]"
   ]
  },
  {
   "cell_type": "code",
   "execution_count": 42,
   "metadata": {},
   "outputs": [],
   "source": [
    "X_, Y_ = np.s_[:,0], np.s_[:,1]"
   ]
  },
  {
   "cell_type": "code",
   "execution_count": 43,
   "metadata": {
    "colab": {
     "base_uri": "https://localhost:8080/",
     "height": 395
    },
    "colab_type": "code",
    "id": "wyTtDdwyha-L",
    "outputId": "350e806a-6dd3-47f2-bd91-444aaf61b3dd"
   },
   "outputs": [
    {
     "data": {
      "image/png": "[encoded data removed]",
      "text/plain": [
       "<Figure size 360x360 with 1 Axes>"
      ]
     },
     "metadata": {
      "needs_background": "light"
     },
     "output_type": "display_data"
    }
   ],
   "source": [
    "fig = plt.figure(figsize=(5, 5))\n",
    "\n",
    "plt.scatter(tsne_features[X_], tsne_features[Y_])\n",
    "\n",
    "plt.title('Projection from latent space to 2D')\n",
    "plt.show()"
   ]
  },
  {
   "cell_type": "markdown",
   "metadata": {},
   "source": []
  }
 ],
 "metadata": {
  "accelerator": "GPU",
  "colab": {
   "collapsed_sections": [],
   "include_colab_link": true,
   "name": "GMVAE_Pytorch.ipynb",
   "provenance": []
  },
  "kernelspec": {
   "display_name": "Python 3",
   "language": "python",
   "name": "python3"
  },
  "language_info": {
   "codemirror_mode": {
    "name": "ipython",
    "version": 3
   },
   "file_extension": ".py",
   "mimetype": "text/x-python",
   "name": "python",
   "nbconvert_exporter": "python",
   "pygments_lexer": "ipython3",
   "version": "3.7.6"
  },
  "toc": {
   "base_numbering": 1,
   "nav_menu": {},
   "number_sections": false,
   "sideBar": true,
   "skip_h1_title": false,
   "title_cell": "Table of Contents",
   "title_sidebar": "Contents",
   "toc_cell": false,
   "toc_position": {},
   "toc_section_display": true,
   "toc_window_display": false
  },
  "varInspector": {
   "cols": {
    "lenName": 16,
    "lenType": 16,
    "lenVar": 40
   },
   "kernels_config": {
    "python": {
     "delete_cmd_postfix": "",
     "delete_cmd_prefix": "del ",
     "library": "var_list.py",
     "varRefreshCmd": "print(var_dic_list())"
    },
    "r": {
     "delete_cmd_postfix": ") ",
     "delete_cmd_prefix": "rm(",
     "library": "var_list.r",
     "varRefreshCmd": "cat(var_dic_list()) "
    }
   },
   "types_to_exclude": [
    "module",
    "function",
    "builtin_function_or_method",
    "instance",
    "_Feature"
   ],
   "window_display": false
  }
 },
 "nbformat": 4,
 "nbformat_minor": 1
}
