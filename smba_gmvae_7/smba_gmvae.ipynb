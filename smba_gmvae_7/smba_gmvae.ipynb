{
 "cells": [
  {
   "cell_type": "markdown",
   "metadata": {},
   "source": [
    "# GM-VAE for SMBA"
   ]
  },
  {
   "cell_type": "code",
   "execution_count": 1,
   "metadata": {},
   "outputs": [],
   "source": [
    "num_components=7"
   ]
  },
  {
   "cell_type": "markdown",
   "metadata": {
    "colab_type": "text",
    "id": "rGzTb0oswH5J"
   },
   "source": [
    "## Import Libraries"
   ]
  },
  {
   "cell_type": "code",
   "execution_count": 9,
   "metadata": {
    "colab": {},
    "colab_type": "code",
    "id": "ThVeaB3CwI4j"
   },
   "outputs": [],
   "source": [
    "import json\n",
    "\n",
    "import numpy as np\n",
    "import argparse\n",
    "import random\n",
    "from torchvision import datasets, transforms\n",
    "from torch.utils.data.sampler import SubsetRandomSampler\n",
    "import torch.utils.data\n",
    "from scipy.io import loadmat\n",
    "\n",
    "import sys\n",
    "sys.path.append('/home/yangz2/projects/gmvae_and_gmmvae/pytorch/')\n",
    "sys.path.append('../../1906-pcgml/pcgml-gmmVae-exp/modules/')\n",
    "import vglc_with_path_encodings\n",
    "\n",
    "from model.GMVAE import *\n",
    "import matplotlib.pyplot as plt\n",
    "import seaborn as sns\n",
    "%matplotlib inline\n",
    "\n",
    "import warnings\n",
    "warnings.filterwarnings('ignore')"
   ]
  },
  {
   "cell_type": "markdown",
   "metadata": {},
   "source": [
    "## Load data"
   ]
  },
  {
   "cell_type": "code",
   "execution_count": 10,
   "metadata": {},
   "outputs": [],
   "source": [
    "def open_json_as_nparray(json_fname):\n",
    "    with open(json_fname, 'r') as json_f:\n",
    "        return np.array(json.load(json_f))"
   ]
  },
  {
   "cell_type": "markdown",
   "metadata": {},
   "source": [
    "Load SMB."
   ]
  },
  {
   "cell_type": "code",
   "execution_count": 11,
   "metadata": {},
   "outputs": [],
   "source": [
    "smb_int = open_json_as_nparray('smbWithPath-allLevels-chunks-int.json')"
   ]
  },
  {
   "cell_type": "code",
   "execution_count": 12,
   "metadata": {},
   "outputs": [
    {
     "data": {
      "text/plain": [
       "(2698, 16, 16, 12)"
      ]
     },
     "execution_count": 12,
     "metadata": {},
     "output_type": "execute_result"
    }
   ],
   "source": [
    "smb_onehot = np.eye(len(np.unique(smb_int)))[smb_int]\n",
    "smb_onehot.shape"
   ]
  },
  {
   "cell_type": "code",
   "execution_count": 13,
   "metadata": {},
   "outputs": [
    {
     "data": {
      "text/plain": [
       "(2698, 3072)"
      ]
     },
     "execution_count": 13,
     "metadata": {},
     "output_type": "execute_result"
    }
   ],
   "source": [
    "smb_onehot = smb_onehot.reshape(\n",
    "    smb_onehot.shape[0], \n",
    "    smb_onehot.shape[1] * smb_onehot.shape[2] * smb_onehot.shape[3]\n",
    ")\n",
    "smb_onehot.shape"
   ]
  },
  {
   "cell_type": "code",
   "execution_count": 14,
   "metadata": {},
   "outputs": [
    {
     "data": {
      "text/plain": [
       "((2698,), array([6, 3, 4, 6, 2, 4, 4, 6, 1, 2, 6, 2, 2, 4, 3, 2, 5, 4, 1, 3]))"
      ]
     },
     "execution_count": 14,
     "metadata": {},
     "output_type": "execute_result"
    }
   ],
   "source": [
    "np.random.seed(42)\n",
    "smb_labels = np.random.randint(num_components, size=smb_onehot.shape[0])\n",
    "smb_labels.shape, smb_labels[:20]"
   ]
  },
  {
   "cell_type": "code",
   "execution_count": 15,
   "metadata": {},
   "outputs": [],
   "source": [
    "chunks, labels = smb_onehot, smb_labels"
   ]
  },
  {
   "cell_type": "code",
   "execution_count": 16,
   "metadata": {},
   "outputs": [
    {
     "data": {
      "image/png": "[encoded data removed]",
      "text/plain": [
       "<Figure size 432x288 with 1 Axes>"
      ]
     },
     "metadata": {
      "needs_background": "light"
     },
     "output_type": "display_data"
    }
   ],
   "source": [
    "plt.bar(np.arange(num_components), np.bincount(smb_labels))\n",
    "plt.show()"
   ]
  },
  {
   "cell_type": "markdown",
   "metadata": {
    "colab_type": "text",
    "id": "3QNKItMHwQU2"
   },
   "source": [
    "## Input Parameters"
   ]
  },
  {
   "cell_type": "code",
   "execution_count": 17,
   "metadata": {
    "colab": {},
    "colab_type": "code",
    "id": "8tBHkTQ4wVIG"
   },
   "outputs": [],
   "source": [
    "########################################################\n",
    "## Input Parameters\n",
    "#########################################################\n",
    "parser = argparse.ArgumentParser(description='PyTorch Implementation of DGM Clustering')\n",
    "\n",
    "## Used only in notebooks\n",
    "parser.add_argument('-f', '--file',\n",
    "                    help='Path for input file. First line should contain number of lines to search in')\n",
    "\n",
    "## Dataset\n",
    "parser.add_argument('--dataset', type=str, choices=['mnist'],\n",
    "                    default='mnist', help='dataset (default: mnist)')\n",
    "parser.add_argument('--seed', type=int, default=1, help='random seed (default: 1)')\n",
    "\n",
    "## GPU\n",
    "parser.add_argument('--cuda', type=int, default=1,\n",
    "                    help='use of cuda (default: 1)')\n",
    "parser.add_argument('--gpuID', type=int, default=0,\n",
    "                    help='set gpu id to use (default: 0)')\n",
    "\n",
    "## Training\n",
    "parser.add_argument('--epochs', type=int, default=100,\n",
    "                    help='number of total epochs to run (default: 200)')\n",
    "parser.add_argument('--batch_size', default=64, type=int,\n",
    "                    help='mini-batch size (default: 64)')\n",
    "parser.add_argument('--batch_size_val', default=200, type=int,\n",
    "                    help='mini-batch size of validation (default: 200)')\n",
    "parser.add_argument('--learning_rate', default=1e-3, type=float,\n",
    "                    help='learning rate (default: 0.001)')\n",
    "parser.add_argument('--decay_epoch', default=-1, type=int, \n",
    "                    help='Reduces the learning rate every decay_epoch')\n",
    "parser.add_argument('--lr_decay', default=0.5, type=float,\n",
    "                    help='Learning rate decay for training (default: 0.5)')\n",
    "\n",
    "## Architecture\n",
    "parser.add_argument('--num_classes', type=int, default=num_components,\n",
    "                    help='number of classes (default: 10)')  # edited for this task\n",
    "parser.add_argument('--gaussian_size', default=64, type=int,\n",
    "                    help='gaussian size (default: 64)')\n",
    "parser.add_argument('--input_size', default=3072, type=int,\n",
    "                    help='input size (default: 784)')  # edited for this task\n",
    "\n",
    "## Partition parameters\n",
    "parser.add_argument('--train_proportion', default=0.9, type=float,\n",
    "                    help='proportion of examples to consider for training only (default: 1.0)')\n",
    "\n",
    "## Gumbel parameters\n",
    "parser.add_argument('--init_temp', default=1.0, type=float,\n",
    "                    help='Initial temperature used in gumbel-softmax (recommended 0.5-1.0, default:1.0)')\n",
    "parser.add_argument('--decay_temp', default=1, type=int, \n",
    "                    help='Set 1 to decay gumbel temperature at every epoch (default: 1)')\n",
    "parser.add_argument('--hard_gumbel', default=0, type=int, \n",
    "                    help='Set 1 to use the hard version of gumbel-softmax (default: 1)')\n",
    "parser.add_argument('--min_temp', default=0.5, type=float, \n",
    "                    help='Minimum temperature of gumbel-softmax after annealing (default: 0.5)' )\n",
    "parser.add_argument('--decay_temp_rate', default=0.013862944, type=float,\n",
    "                    help='Temperature decay rate at every epoch (default: 0.013862944)')\n",
    "\n",
    "## Loss function parameters\n",
    "parser.add_argument('--w_gauss', default=2, type=float,\n",
    "                    help='weight of gaussian loss (default: 1)')\n",
    "parser.add_argument('--w_categ', default=1, type=float,\n",
    "                    help='weight of categorical loss (default: 1)')\n",
    "parser.add_argument('--w_rec', default=1, type=float,\n",
    "                    help='weight of reconstruction loss (default: 1)')\n",
    "parser.add_argument('--rec_type', type=str, choices=['bce', 'mse'],\n",
    "                    default='bce', help='desired reconstruction loss function (default: bce)')\n",
    "\n",
    "## Others\n",
    "parser.add_argument('--verbose', default=0, type=int,\n",
    "                    help='print extra information at every epoch.(default: 0)')\n",
    "\n",
    "args = parser.parse_args()"
   ]
  },
  {
   "cell_type": "markdown",
   "metadata": {
    "colab_type": "text",
    "id": "Bti6lPHawc9z"
   },
   "source": [
    "Set random seed in case it was specified in the parameters\n"
   ]
  },
  {
   "cell_type": "code",
   "execution_count": 18,
   "metadata": {
    "colab": {},
    "colab_type": "code",
    "id": "IpWPxTy1wgbJ"
   },
   "outputs": [],
   "source": [
    "## Random Seed\n",
    "SEED = args.seed\n",
    "np.random.seed(SEED)\n",
    "random.seed(SEED)\n",
    "torch.manual_seed(SEED)\n",
    "if args.cuda:\n",
    "    torch.cuda.manual_seed(SEED)"
   ]
  },
  {
   "cell_type": "markdown",
   "metadata": {
    "colab_type": "text",
    "id": "fmrkmhttwkiD"
   },
   "source": [
    "## Data Partition"
   ]
  },
  {
   "cell_type": "markdown",
   "metadata": {
    "colab_type": "text",
    "id": "fUuTFMBhb2vZ"
   },
   "source": [
    "We split the training data into train and validation according to the *train_proportion* parameter:"
   ]
  },
  {
   "cell_type": "code",
   "execution_count": 19,
   "metadata": {},
   "outputs": [],
   "source": [
    "from torch.utils.data import TensorDataset, DataLoader"
   ]
  },
  {
   "cell_type": "code",
   "execution_count": 20,
   "metadata": {},
   "outputs": [],
   "source": [
    "assert args.train_proportion != 1"
   ]
  },
  {
   "cell_type": "code",
   "execution_count": 21,
   "metadata": {
    "colab": {},
    "colab_type": "code",
    "id": "P8F6pjC7cNX7"
   },
   "outputs": [],
   "source": [
    "def partition_dataset(n, proportion=1):\n",
    "   train_num = int(n * proportion)\n",
    "   indices = np.random.permutation(n)\n",
    "   train_indices, val_indices = indices[:train_num], indices[train_num:]\n",
    "   return train_indices, val_indices\n",
    "\n",
    "train_indices, val_indices = partition_dataset(len(chunks), args.train_proportion)\n",
    "train_ds = TensorDataset(torch.from_numpy(chunks).float(), torch.from_numpy(labels).long())\n",
    "train_dl = DataLoader(train_ds, batch_size=args.batch_size, sampler=SubsetRandomSampler(train_indices))\n",
    "valid_dl = DataLoader(train_ds, batch_size=args.batch_size_val, sampler=SubsetRandomSampler(val_indices))"
   ]
  },
  {
   "cell_type": "markdown",
   "metadata": {
    "colab_type": "text",
    "id": "Pt7sEfZWw_U7"
   },
   "source": [
    "## Train Model"
   ]
  },
  {
   "cell_type": "code",
   "execution_count": 22,
   "metadata": {
    "colab": {},
    "colab_type": "code",
    "id": "qTncRSCuxFEL"
   },
   "outputs": [],
   "source": [
    "# Model Initialization\n",
    "gmvae = GMVAE(args)"
   ]
  },
  {
   "cell_type": "code",
   "execution_count": 16,
   "metadata": {},
   "outputs": [
    {
     "name": "stdout",
     "output_type": "stream",
     "text": [
      "(Epoch 1 / 100) Train_Loss: 481.293; Val_Loss: 246.433   Train_ACC: 16.804; Val_ACC: 20.741   Train_NMI: 0.407; Val_NMI: 1.724\n",
      "(Epoch 2 / 100) Train_Loss: 229.716; Val_Loss: 228.972   Train_ACC: 16.474; Val_ACC: 21.481   Train_NMI: 0.309; Val_NMI: 2.972\n",
      "(Epoch 3 / 100) Train_Loss: 226.502; Val_Loss: 231.607   Train_ACC: 16.145; Val_ACC: 21.481   Train_NMI: 0.521; Val_NMI: 2.649\n",
      "(Epoch 4 / 100) Train_Loss: 221.044; Val_Loss: 224.087   Train_ACC: 16.392; Val_ACC: 20.370   Train_NMI: 0.421; Val_NMI: 3.017\n",
      "(Epoch 5 / 100) Train_Loss: 215.660; Val_Loss: 217.877   Train_ACC: 16.227; Val_ACC: 22.222   Train_NMI: 0.392; Val_NMI: 2.699\n",
      "(Epoch 6 / 100) Train_Loss: 212.154; Val_Loss: 212.185   Train_ACC: 15.815; Val_ACC: 20.741   Train_NMI: 0.323; Val_NMI: 0.538\n",
      "(Epoch 7 / 100) Train_Loss: 207.366; Val_Loss: 212.908   Train_ACC: 15.939; Val_ACC: 22.222   Train_NMI: 0.429; Val_NMI: 3.678\n",
      "(Epoch 8 / 100) Train_Loss: 205.386; Val_Loss: 208.222   Train_ACC: 15.939; Val_ACC: 22.593   Train_NMI: 0.382; Val_NMI: 2.535\n",
      "(Epoch 9 / 100) Train_Loss: 202.789; Val_Loss: 204.083   Train_ACC: 16.145; Val_ACC: 22.222   Train_NMI: 0.526; Val_NMI: 3.358\n",
      "(Epoch 10 / 100) Train_Loss: 200.525; Val_Loss: 210.871   Train_ACC: 16.063; Val_ACC: 22.963   Train_NMI: 0.333; Val_NMI: 3.524\n",
      "(Epoch 11 / 100) Train_Loss: 198.379; Val_Loss: 203.905   Train_ACC: 16.186; Val_ACC: 22.593   Train_NMI: 0.288; Val_NMI: 2.242\n",
      "(Epoch 12 / 100) Train_Loss: 195.585; Val_Loss: 200.573   Train_ACC: 16.310; Val_ACC: 23.333   Train_NMI: 0.508; Val_NMI: 3.784\n",
      "(Epoch 13 / 100) Train_Loss: 193.616; Val_Loss: 195.154   Train_ACC: 16.186; Val_ACC: 22.593   Train_NMI: 0.450; Val_NMI: 3.204\n",
      "(Epoch 14 / 100) Train_Loss: 191.708; Val_Loss: 200.107   Train_ACC: 16.928; Val_ACC: 24.815   Train_NMI: 0.750; Val_NMI: 5.764\n",
      "(Epoch 15 / 100) Train_Loss: 190.580; Val_Loss: 194.073   Train_ACC: 16.886; Val_ACC: 22.593   Train_NMI: 0.625; Val_NMI: 2.882\n",
      "(Epoch 16 / 100) Train_Loss: 187.625; Val_Loss: 195.693   Train_ACC: 16.186; Val_ACC: 22.963   Train_NMI: 0.316; Val_NMI: 3.019\n",
      "(Epoch 17 / 100) Train_Loss: 186.446; Val_Loss: 193.613   Train_ACC: 16.351; Val_ACC: 22.963   Train_NMI: 0.450; Val_NMI: 3.794\n",
      "(Epoch 18 / 100) Train_Loss: 184.769; Val_Loss: 194.376   Train_ACC: 16.639; Val_ACC: 24.074   Train_NMI: 0.589; Val_NMI: 4.366\n",
      "(Epoch 19 / 100) Train_Loss: 183.612; Val_Loss: 189.167   Train_ACC: 16.269; Val_ACC: 23.333   Train_NMI: 0.519; Val_NMI: 4.142\n",
      "(Epoch 20 / 100) Train_Loss: 181.166; Val_Loss: 186.838   Train_ACC: 17.051; Val_ACC: 22.963   Train_NMI: 0.630; Val_NMI: 4.415\n",
      "(Epoch 21 / 100) Train_Loss: 178.885; Val_Loss: 190.850   Train_ACC: 16.433; Val_ACC: 24.074   Train_NMI: 0.404; Val_NMI: 5.665\n",
      "(Epoch 22 / 100) Train_Loss: 176.884; Val_Loss: 192.829   Train_ACC: 16.557; Val_ACC: 22.222   Train_NMI: 0.486; Val_NMI: 4.065\n",
      "(Epoch 23 / 100) Train_Loss: 175.778; Val_Loss: 182.836   Train_ACC: 16.639; Val_ACC: 21.481   Train_NMI: 0.437; Val_NMI: 3.831\n",
      "(Epoch 24 / 100) Train_Loss: 173.019; Val_Loss: 182.327   Train_ACC: 16.557; Val_ACC: 20.370   Train_NMI: 0.455; Val_NMI: 2.928\n",
      "(Epoch 25 / 100) Train_Loss: 171.610; Val_Loss: 177.744   Train_ACC: 17.092; Val_ACC: 21.481   Train_NMI: 0.504; Val_NMI: 3.732\n",
      "(Epoch 26 / 100) Train_Loss: 169.447; Val_Loss: 175.117   Train_ACC: 17.010; Val_ACC: 22.593   Train_NMI: 0.520; Val_NMI: 4.892\n",
      "(Epoch 27 / 100) Train_Loss: 166.905; Val_Loss: 177.630   Train_ACC: 16.598; Val_ACC: 21.481   Train_NMI: 0.388; Val_NMI: 4.535\n",
      "(Epoch 28 / 100) Train_Loss: 164.943; Val_Loss: 177.715   Train_ACC: 16.886; Val_ACC: 21.481   Train_NMI: 0.440; Val_NMI: 3.995\n",
      "(Epoch 29 / 100) Train_Loss: 164.298; Val_Loss: 177.254   Train_ACC: 16.763; Val_ACC: 21.111   Train_NMI: 0.479; Val_NMI: 3.212\n",
      "(Epoch 30 / 100) Train_Loss: 162.678; Val_Loss: 172.796   Train_ACC: 16.928; Val_ACC: 20.741   Train_NMI: 0.433; Val_NMI: 4.015\n",
      "(Epoch 31 / 100) Train_Loss: 160.769; Val_Loss: 172.163   Train_ACC: 17.216; Val_ACC: 21.852   Train_NMI: 0.583; Val_NMI: 3.940\n",
      "(Epoch 32 / 100) Train_Loss: 158.569; Val_Loss: 170.752   Train_ACC: 16.969; Val_ACC: 22.222   Train_NMI: 0.542; Val_NMI: 4.321\n",
      "(Epoch 33 / 100) Train_Loss: 157.482; Val_Loss: 168.808   Train_ACC: 16.763; Val_ACC: 21.852   Train_NMI: 0.591; Val_NMI: 3.538\n",
      "(Epoch 34 / 100) Train_Loss: 156.627; Val_Loss: 167.831   Train_ACC: 16.680; Val_ACC: 21.852   Train_NMI: 0.447; Val_NMI: 4.326\n",
      "(Epoch 35 / 100) Train_Loss: 154.851; Val_Loss: 168.386   Train_ACC: 16.928; Val_ACC: 21.852   Train_NMI: 0.464; Val_NMI: 3.517\n",
      "(Epoch 36 / 100) Train_Loss: 154.187; Val_Loss: 169.434   Train_ACC: 16.598; Val_ACC: 21.852   Train_NMI: 0.447; Val_NMI: 4.652\n",
      "(Epoch 37 / 100) Train_Loss: 152.042; Val_Loss: 165.730   Train_ACC: 16.969; Val_ACC: 21.481   Train_NMI: 0.461; Val_NMI: 4.169\n",
      "(Epoch 38 / 100) Train_Loss: 151.434; Val_Loss: 165.592   Train_ACC: 16.310; Val_ACC: 21.481   Train_NMI: 0.387; Val_NMI: 3.572\n",
      "(Epoch 39 / 100) Train_Loss: 151.018; Val_Loss: 169.046   Train_ACC: 16.639; Val_ACC: 21.481   Train_NMI: 0.441; Val_NMI: 3.277\n",
      "(Epoch 40 / 100) Train_Loss: 149.199; Val_Loss: 167.690   Train_ACC: 16.804; Val_ACC: 20.741   Train_NMI: 0.397; Val_NMI: 3.484\n",
      "(Epoch 41 / 100) Train_Loss: 148.739; Val_Loss: 166.581   Train_ACC: 16.845; Val_ACC: 21.481   Train_NMI: 0.548; Val_NMI: 3.448\n",
      "(Epoch 42 / 100) Train_Loss: 147.269; Val_Loss: 164.981   Train_ACC: 16.557; Val_ACC: 22.593   Train_NMI: 0.374; Val_NMI: 3.934\n",
      "(Epoch 43 / 100) Train_Loss: 145.594; Val_Loss: 157.007   Train_ACC: 16.639; Val_ACC: 21.481   Train_NMI: 0.385; Val_NMI: 3.316\n",
      "(Epoch 44 / 100) Train_Loss: 145.622; Val_Loss: 161.628   Train_ACC: 16.845; Val_ACC: 22.963   Train_NMI: 0.428; Val_NMI: 4.291\n",
      "(Epoch 45 / 100) Train_Loss: 144.579; Val_Loss: 163.620   Train_ACC: 16.639; Val_ACC: 21.852   Train_NMI: 0.373; Val_NMI: 3.819\n",
      "(Epoch 46 / 100) Train_Loss: 143.373; Val_Loss: 159.093   Train_ACC: 16.886; Val_ACC: 21.852   Train_NMI: 0.456; Val_NMI: 3.689\n",
      "(Epoch 47 / 100) Train_Loss: 142.547; Val_Loss: 162.939   Train_ACC: 17.010; Val_ACC: 22.593   Train_NMI: 0.478; Val_NMI: 4.294\n",
      "(Epoch 48 / 100) Train_Loss: 141.141; Val_Loss: 159.036   Train_ACC: 16.516; Val_ACC: 22.963   Train_NMI: 0.401; Val_NMI: 4.666\n",
      "(Epoch 49 / 100) Train_Loss: 140.968; Val_Loss: 158.677   Train_ACC: 16.598; Val_ACC: 22.593   Train_NMI: 0.424; Val_NMI: 4.412\n",
      "(Epoch 50 / 100) Train_Loss: 139.987; Val_Loss: 160.495   Train_ACC: 16.598; Val_ACC: 22.222   Train_NMI: 0.426; Val_NMI: 4.129\n",
      "(Epoch 51 / 100) Train_Loss: 140.280; Val_Loss: 157.935   Train_ACC: 16.598; Val_ACC: 22.593   Train_NMI: 0.466; Val_NMI: 3.718\n",
      "(Epoch 52 / 100) Train_Loss: 138.470; Val_Loss: 158.010   Train_ACC: 16.474; Val_ACC: 20.741   Train_NMI: 0.411; Val_NMI: 2.690\n",
      "(Epoch 53 / 100) Train_Loss: 137.509; Val_Loss: 163.209   Train_ACC: 16.804; Val_ACC: 22.593   Train_NMI: 0.423; Val_NMI: 3.675\n",
      "(Epoch 54 / 100) Train_Loss: 135.940; Val_Loss: 161.673   Train_ACC: 16.433; Val_ACC: 22.222   Train_NMI: 0.447; Val_NMI: 3.836\n",
      "(Epoch 55 / 100) Train_Loss: 135.713; Val_Loss: 162.296   Train_ACC: 16.763; Val_ACC: 22.222   Train_NMI: 0.327; Val_NMI: 3.574\n",
      "(Epoch 56 / 100) Train_Loss: 134.668; Val_Loss: 159.310   Train_ACC: 16.886; Val_ACC: 21.852   Train_NMI: 0.447; Val_NMI: 3.495\n",
      "(Epoch 57 / 100) Train_Loss: 134.359; Val_Loss: 154.747   Train_ACC: 17.051; Val_ACC: 22.222   Train_NMI: 0.513; Val_NMI: 4.200\n",
      "(Epoch 58 / 100) Train_Loss: 134.044; Val_Loss: 155.930   Train_ACC: 16.598; Val_ACC: 22.593   Train_NMI: 0.373; Val_NMI: 4.463\n",
      "(Epoch 59 / 100) Train_Loss: 133.081; Val_Loss: 152.525   Train_ACC: 16.392; Val_ACC: 21.481   Train_NMI: 0.320; Val_NMI: 3.802\n",
      "(Epoch 60 / 100) Train_Loss: 131.627; Val_Loss: 158.797   Train_ACC: 16.557; Val_ACC: 21.481   Train_NMI: 0.434; Val_NMI: 3.775\n",
      "(Epoch 61 / 100) Train_Loss: 130.749; Val_Loss: 157.011   Train_ACC: 16.886; Val_ACC: 22.963   Train_NMI: 0.408; Val_NMI: 4.099\n",
      "(Epoch 62 / 100) Train_Loss: 130.687; Val_Loss: 159.855   Train_ACC: 16.845; Val_ACC: 23.333   Train_NMI: 0.432; Val_NMI: 4.918\n",
      "(Epoch 63 / 100) Train_Loss: 129.705; Val_Loss: 162.330   Train_ACC: 16.886; Val_ACC: 21.852   Train_NMI: 0.411; Val_NMI: 4.192\n",
      "(Epoch 64 / 100) Train_Loss: 129.785; Val_Loss: 155.851   Train_ACC: 16.639; Val_ACC: 21.481   Train_NMI: 0.376; Val_NMI: 3.953\n",
      "(Epoch 65 / 100) Train_Loss: 128.280; Val_Loss: 155.868   Train_ACC: 16.557; Val_ACC: 22.593   Train_NMI: 0.399; Val_NMI: 4.129\n"
     ]
    },
    {
     "name": "stdout",
     "output_type": "stream",
     "text": [
      "(Epoch 66 / 100) Train_Loss: 127.700; Val_Loss: 159.899   Train_ACC: 16.516; Val_ACC: 23.333   Train_NMI: 0.328; Val_NMI: 4.993\n",
      "(Epoch 67 / 100) Train_Loss: 127.675; Val_Loss: 157.817   Train_ACC: 16.557; Val_ACC: 22.222   Train_NMI: 0.373; Val_NMI: 4.176\n",
      "(Epoch 68 / 100) Train_Loss: 126.846; Val_Loss: 153.368   Train_ACC: 16.598; Val_ACC: 22.963   Train_NMI: 0.364; Val_NMI: 4.448\n",
      "(Epoch 69 / 100) Train_Loss: 126.125; Val_Loss: 153.070   Train_ACC: 16.598; Val_ACC: 22.593   Train_NMI: 0.404; Val_NMI: 4.679\n",
      "(Epoch 70 / 100) Train_Loss: 125.512; Val_Loss: 154.498   Train_ACC: 16.557; Val_ACC: 21.481   Train_NMI: 0.401; Val_NMI: 3.549\n",
      "(Epoch 71 / 100) Train_Loss: 124.939; Val_Loss: 155.823   Train_ACC: 16.227; Val_ACC: 22.593   Train_NMI: 0.305; Val_NMI: 4.227\n",
      "(Epoch 72 / 100) Train_Loss: 123.177; Val_Loss: 160.927   Train_ACC: 16.969; Val_ACC: 21.852   Train_NMI: 0.454; Val_NMI: 3.652\n",
      "(Epoch 73 / 100) Train_Loss: 123.746; Val_Loss: 156.436   Train_ACC: 16.598; Val_ACC: 22.222   Train_NMI: 0.383; Val_NMI: 4.776\n",
      "(Epoch 74 / 100) Train_Loss: 124.537; Val_Loss: 161.973   Train_ACC: 16.722; Val_ACC: 22.593   Train_NMI: 0.406; Val_NMI: 4.054\n",
      "(Epoch 75 / 100) Train_Loss: 122.184; Val_Loss: 157.147   Train_ACC: 16.639; Val_ACC: 21.481   Train_NMI: 0.376; Val_NMI: 3.415\n",
      "(Epoch 76 / 100) Train_Loss: 121.754; Val_Loss: 161.798   Train_ACC: 16.598; Val_ACC: 22.963   Train_NMI: 0.407; Val_NMI: 3.577\n",
      "(Epoch 77 / 100) Train_Loss: 120.333; Val_Loss: 157.010   Train_ACC: 16.598; Val_ACC: 21.852   Train_NMI: 0.369; Val_NMI: 4.168\n",
      "(Epoch 78 / 100) Train_Loss: 120.091; Val_Loss: 157.156   Train_ACC: 16.680; Val_ACC: 21.852   Train_NMI: 0.388; Val_NMI: 3.727\n",
      "(Epoch 79 / 100) Train_Loss: 119.758; Val_Loss: 155.955   Train_ACC: 16.557; Val_ACC: 22.222   Train_NMI: 0.443; Val_NMI: 3.720\n",
      "(Epoch 80 / 100) Train_Loss: 120.092; Val_Loss: 164.564   Train_ACC: 16.433; Val_ACC: 22.593   Train_NMI: 0.364; Val_NMI: 3.692\n",
      "(Epoch 81 / 100) Train_Loss: 118.819; Val_Loss: 158.628   Train_ACC: 16.351; Val_ACC: 21.481   Train_NMI: 0.375; Val_NMI: 3.508\n",
      "(Epoch 82 / 100) Train_Loss: 117.680; Val_Loss: 158.751   Train_ACC: 16.516; Val_ACC: 22.963   Train_NMI: 0.378; Val_NMI: 3.741\n",
      "(Epoch 83 / 100) Train_Loss: 117.305; Val_Loss: 163.101   Train_ACC: 16.310; Val_ACC: 21.852   Train_NMI: 0.346; Val_NMI: 3.766\n",
      "(Epoch 84 / 100) Train_Loss: 116.597; Val_Loss: 160.574   Train_ACC: 16.557; Val_ACC: 22.593   Train_NMI: 0.356; Val_NMI: 4.309\n",
      "(Epoch 85 / 100) Train_Loss: 115.868; Val_Loss: 156.823   Train_ACC: 16.722; Val_ACC: 21.852   Train_NMI: 0.428; Val_NMI: 3.280\n",
      "(Epoch 86 / 100) Train_Loss: 115.374; Val_Loss: 157.425   Train_ACC: 16.433; Val_ACC: 21.481   Train_NMI: 0.354; Val_NMI: 3.643\n",
      "(Epoch 87 / 100) Train_Loss: 114.796; Val_Loss: 157.010   Train_ACC: 16.269; Val_ACC: 21.852   Train_NMI: 0.374; Val_NMI: 3.793\n",
      "(Epoch 88 / 100) Train_Loss: 114.904; Val_Loss: 158.583   Train_ACC: 16.392; Val_ACC: 21.111   Train_NMI: 0.332; Val_NMI: 3.455\n",
      "(Epoch 89 / 100) Train_Loss: 114.852; Val_Loss: 165.786   Train_ACC: 16.227; Val_ACC: 22.222   Train_NMI: 0.301; Val_NMI: 3.944\n",
      "(Epoch 90 / 100) Train_Loss: 114.404; Val_Loss: 160.567   Train_ACC: 16.474; Val_ACC: 21.481   Train_NMI: 0.390; Val_NMI: 3.339\n",
      "(Epoch 91 / 100) Train_Loss: 113.326; Val_Loss: 160.428   Train_ACC: 16.680; Val_ACC: 21.481   Train_NMI: 0.390; Val_NMI: 3.700\n",
      "(Epoch 92 / 100) Train_Loss: 111.641; Val_Loss: 163.542   Train_ACC: 16.763; Val_ACC: 22.593   Train_NMI: 0.385; Val_NMI: 4.054\n",
      "(Epoch 93 / 100) Train_Loss: 111.999; Val_Loss: 165.652   Train_ACC: 16.557; Val_ACC: 24.074   Train_NMI: 0.339; Val_NMI: 4.720\n",
      "(Epoch 94 / 100) Train_Loss: 110.686; Val_Loss: 163.702   Train_ACC: 16.680; Val_ACC: 21.481   Train_NMI: 0.409; Val_NMI: 3.580\n",
      "(Epoch 95 / 100) Train_Loss: 109.899; Val_Loss: 161.697   Train_ACC: 16.433; Val_ACC: 23.704   Train_NMI: 0.384; Val_NMI: 5.446\n",
      "(Epoch 96 / 100) Train_Loss: 110.315; Val_Loss: 158.458   Train_ACC: 16.392; Val_ACC: 22.593   Train_NMI: 0.366; Val_NMI: 4.528\n",
      "(Epoch 97 / 100) Train_Loss: 109.911; Val_Loss: 168.287   Train_ACC: 16.474; Val_ACC: 21.852   Train_NMI: 0.408; Val_NMI: 3.900\n",
      "(Epoch 98 / 100) Train_Loss: 109.090; Val_Loss: 160.010   Train_ACC: 16.598; Val_ACC: 22.222   Train_NMI: 0.391; Val_NMI: 3.962\n",
      "(Epoch 99 / 100) Train_Loss: 108.834; Val_Loss: 161.957   Train_ACC: 16.433; Val_ACC: 22.222   Train_NMI: 0.407; Val_NMI: 3.984\n",
      "(Epoch 100 / 100) Train_Loss: 109.093; Val_Loss: 169.562   Train_ACC: 16.433; Val_ACC: 22.593   Train_NMI: 0.352; Val_NMI: 3.632\n"
     ]
    }
   ],
   "source": [
    "history_loss = gmvae.train(train_dl, valid_dl)"
   ]
  },
  {
   "cell_type": "code",
   "execution_count": 17,
   "metadata": {},
   "outputs": [],
   "source": [
    "torch.save(gmvae.network.state_dict(), 'smba_gmvae.pth')"
   ]
  },
  {
   "cell_type": "code",
   "execution_count": 23,
   "metadata": {},
   "outputs": [
    {
     "data": {
      "text/plain": [
       "<All keys matched successfully>"
      ]
     },
     "execution_count": 23,
     "metadata": {},
     "output_type": "execute_result"
    }
   ],
   "source": [
    "gmvae.network.load_state_dict(torch.load('smba_gmvae.pth'))"
   ]
  },
  {
   "cell_type": "markdown",
   "metadata": {
    "colab_type": "text",
    "id": "1bHWNxV-gAl2"
   },
   "source": [
    "## Image Reconstruction"
   ]
  },
  {
   "cell_type": "code",
   "execution_count": 24,
   "metadata": {
    "colab": {
     "base_uri": "https://localhost:8080/",
     "height": 160
    },
    "colab_type": "code",
    "id": "wd5jQFFHgCbD",
    "outputId": "8e1d4654-fb01-49dc-b512-e8e4bb259e0f"
   },
   "outputs": [],
   "source": [
    "original, reconstructed = gmvae.reconstruct_data(train_dl, 15)  "
   ]
  },
  {
   "cell_type": "code",
   "execution_count": 53,
   "metadata": {},
   "outputs": [],
   "source": [
    "original_int = original.reshape(15, 16, 16, 12).argmax(axis=-1)\n",
    "reconstructed_int = reconstructed.reshape(15, 16, 16, 12).argmax(axis=-1)"
   ]
  },
  {
   "cell_type": "code",
   "execution_count": 54,
   "metadata": {},
   "outputs": [],
   "source": [
    "def get_classes(chunks_int):\n",
    "    classes = []\n",
    "    for i in chunks_int:\n",
    "        if i.max() == 6:\n",
    "            classes.append('kia')\n",
    "        else:\n",
    "            classes.append('smba')\n",
    "    return np.array(classes)"
   ]
  },
  {
   "cell_type": "code",
   "execution_count": 55,
   "metadata": {},
   "outputs": [],
   "source": [
    "org_classes = get_classes(original_int)\n",
    "rec_classes = get_classes(reconstructed_int)\n",
    "assert np.sum(org_classes == rec_classes) == len(org_classes)"
   ]
  },
  {
   "cell_type": "code",
   "execution_count": 56,
   "metadata": {},
   "outputs": [],
   "source": [
    "def get_images(chunks_int):\n",
    "    images = []\n",
    "    for game, chunk in zip(get_classes(chunks_int), chunks_int):\n",
    "        images.append(vglc_with_path_encodings.array_to_image([chunk], game=game)[0])\n",
    "    return images"
   ]
  },
  {
   "cell_type": "code",
   "execution_count": 57,
   "metadata": {},
   "outputs": [
    {
     "data": {
      "text/plain": [
       "(15, 15)"
      ]
     },
     "execution_count": 57,
     "metadata": {},
     "output_type": "execute_result"
    }
   ],
   "source": [
    "org_images = get_images(original_int)\n",
    "rec_images = get_images(reconstructed_int)\n",
    "len(org_images), len(rec_images)"
   ]
  },
  {
   "cell_type": "code",
   "execution_count": 58,
   "metadata": {},
   "outputs": [
    {
     "data": {
      "image/png": "[encoded data removed]",
      "text/plain": [
       "<Figure size 1728x576 with 30 Axes>"
      ]
     },
     "metadata": {
      "needs_background": "light"
     },
     "output_type": "display_data"
    }
   ],
   "source": [
    "fig, axes = plt.subplots(nrows=3, ncols=10, figsize=(24, 8))\n",
    "axes = axes.flatten()\n",
    "nrows, ncols = 3, 10\n",
    "\n",
    "org_idxs = np.arange(0, 29, 2)\n",
    "rec_idxs = org_idxs + 1\n",
    "\n",
    "for idx in org_idxs:\n",
    "        \n",
    "    ax = axes[idx]\n",
    "\n",
    "    ax.imshow(np.asarray(org_images[idx // 2]))\n",
    "    ax.set_title(f'Org {idx // 2 + 1}')\n",
    "    \n",
    "    ax.axis('off')\n",
    "\n",
    "for idx in rec_idxs:\n",
    "        \n",
    "    ax = axes[idx]\n",
    "\n",
    "    ax.imshow(np.asarray(rec_images[idx // 2]))\n",
    "    ax.set_title(f'Rec {idx // 2 + 1}')\n",
    "\n",
    "    ax.axis('off')\n",
    "    \n",
    "plt.show()"
   ]
  },
  {
   "cell_type": "markdown",
   "metadata": {
    "colab_type": "text",
    "id": "CAyoGFFRgMgC"
   },
   "source": [
    "## Random Generation per Category"
   ]
  },
  {
   "cell_type": "code",
   "execution_count": 26,
   "metadata": {
    "colab": {
     "base_uri": "https://localhost:8080/",
     "height": 595
    },
    "colab_type": "code",
    "id": "xE84c3U2gLjA",
    "outputId": "cd52f356-e53a-4844-9db2-3723d15ddb00"
   },
   "outputs": [
    {
     "data": {
      "image/png": "[encoded data removed]",
      "text/plain": [
       "<Figure size 1728x1728 with 7 Axes>"
      ]
     },
     "metadata": {
      "needs_background": "light"
     },
     "output_type": "display_data"
    }
   ],
   "source": [
    "def display_random_generation(generated, num_classes, n=10):\n",
    "    plt.figure(figsize=[24,24])\n",
    "    for c in range(num_classes):\n",
    "        for i in range(n):\n",
    "            plt.subplot(num_classes, n, (c * n) + i + 1)\n",
    "            chunk_int = generated[(c * n) + i].reshape(16, 16, 12).argmax(axis=-1)\n",
    "            chunk_pix = vglc_with_path_encodings.array_to_image([chunk_int], game='smba')[0]\n",
    "            plt.imshow(chunk_pix)\n",
    "            plt.gray()\n",
    "            plt.axis('off')\n",
    "    plt.show()\n",
    "\n",
    "elem_per_category = 1\n",
    "generated = gmvae.random_generation(elem_per_category)\n",
    "display_random_generation(generated, args.num_classes, elem_per_category)"
   ]
  },
  {
   "cell_type": "code",
   "execution_count": 27,
   "metadata": {},
   "outputs": [],
   "source": [
    "elem_per_category = 10000 // num_components\n",
    "generated = gmvae.random_generation(elem_per_category)"
   ]
  },
  {
   "cell_type": "code",
   "execution_count": 28,
   "metadata": {},
   "outputs": [],
   "source": [
    "generated_int = generated.reshape(-1, 16, 16, 12).argmax(axis=-1)"
   ]
  },
  {
   "cell_type": "code",
   "execution_count": 29,
   "metadata": {},
   "outputs": [
    {
     "data": {
      "text/plain": [
       "(9996, 16, 16)"
      ]
     },
     "execution_count": 29,
     "metadata": {},
     "output_type": "execute_result"
    }
   ],
   "source": [
    "generated_int.shape"
   ]
  },
  {
   "cell_type": "code",
   "execution_count": 30,
   "metadata": {},
   "outputs": [],
   "source": [
    "# since this code chunk depends on random seed, it shouldn't be run again\n",
    "with open(f'../smba_generations_2_to_7/smba_gmvae_{num_components}.json', 'w+') as json_f:\n",
    "    json.dump(generated_int.tolist(), json_f)"
   ]
  },
  {
   "cell_type": "markdown",
   "metadata": {
    "colab_type": "text",
    "id": "-SbXR7FkhIcq"
   },
   "source": [
    "## Visualization of the feature latent space"
   ]
  },
  {
   "cell_type": "code",
   "execution_count": 25,
   "metadata": {
    "colab": {},
    "colab_type": "code",
    "id": "bTkEBA9JhQ2C"
   },
   "outputs": [],
   "source": [
    "# get feature representations\n",
    "test_features, test_labels = gmvae.latent_features(train_dl, return_learned_labels=True)"
   ]
  },
  {
   "cell_type": "code",
   "execution_count": 26,
   "metadata": {},
   "outputs": [
    {
     "data": {
      "text/plain": [
       "array([702, 464, 229, 433, 239, 157, 204])"
      ]
     },
     "execution_count": 26,
     "metadata": {},
     "output_type": "execute_result"
    }
   ],
   "source": [
    "np.bincount(test_labels)"
   ]
  },
  {
   "cell_type": "code",
   "execution_count": 32,
   "metadata": {
    "colab": {},
    "colab_type": "code",
    "id": "LNmsz5rahZAY"
   },
   "outputs": [],
   "source": [
    "# import TSNE from scikit-learn library\n",
    "from sklearn.manifold import TSNE\n",
    "\n",
    "# reduce dimensionality to 2D, we consider a subset of data because TSNE\n",
    "# is a slow algorithm\n",
    "\n",
    "first_n = 1000\n",
    "tsne_features = TSNE(n_components=2).fit_transform(test_features[:first_n])"
   ]
  },
  {
   "cell_type": "code",
   "execution_count": 33,
   "metadata": {},
   "outputs": [],
   "source": [
    "test_labels_subset = test_labels[:first_n]"
   ]
  },
  {
   "cell_type": "code",
   "execution_count": 34,
   "metadata": {},
   "outputs": [],
   "source": [
    "X_, Y_ = np.s_[:,0], np.s_[:,1]"
   ]
  },
  {
   "cell_type": "code",
   "execution_count": 35,
   "metadata": {
    "colab": {
     "base_uri": "https://localhost:8080/",
     "height": 395
    },
    "colab_type": "code",
    "id": "wyTtDdwyha-L",
    "outputId": "350e806a-6dd3-47f2-bd91-444aaf61b3dd"
   },
   "outputs": [
    {
     "data": {
      "image/png": "[encoded data removed]",
      "text/plain": [
       "<Figure size 360x360 with 1 Axes>"
      ]
     },
     "metadata": {
      "needs_background": "light"
     },
     "output_type": "display_data"
    }
   ],
   "source": [
    "fig = plt.figure(figsize=(5, 5))\n",
    "\n",
    "plt.scatter(tsne_features[X_], tsne_features[Y_])\n",
    "\n",
    "plt.title('Projection from latent space to 2D')\n",
    "plt.show()"
   ]
  },
  {
   "cell_type": "markdown",
   "metadata": {},
   "source": []
  }
 ],
 "metadata": {
  "accelerator": "GPU",
  "colab": {
   "collapsed_sections": [],
   "include_colab_link": true,
   "name": "GMVAE_Pytorch.ipynb",
   "provenance": []
  },
  "kernelspec": {
   "display_name": "Python 3",
   "language": "python",
   "name": "python3"
  },
  "language_info": {
   "codemirror_mode": {
    "name": "ipython",
    "version": 3
   },
   "file_extension": ".py",
   "mimetype": "text/x-python",
   "name": "python",
   "nbconvert_exporter": "python",
   "pygments_lexer": "ipython3",
   "version": "3.7.6"
  },
  "toc": {
   "base_numbering": 1,
   "nav_menu": {},
   "number_sections": false,
   "sideBar": true,
   "skip_h1_title": false,
   "title_cell": "Table of Contents",
   "title_sidebar": "Contents",
   "toc_cell": false,
   "toc_position": {},
   "toc_section_display": true,
   "toc_window_display": false
  },
  "varInspector": {
   "cols": {
    "lenName": 16,
    "lenType": 16,
    "lenVar": 40
   },
   "kernels_config": {
    "python": {
     "delete_cmd_postfix": "",
     "delete_cmd_prefix": "del ",
     "library": "var_list.py",
     "varRefreshCmd": "print(var_dic_list())"
    },
    "r": {
     "delete_cmd_postfix": ") ",
     "delete_cmd_prefix": "rm(",
     "library": "var_list.r",
     "varRefreshCmd": "cat(var_dic_list()) "
    }
   },
   "types_to_exclude": [
    "module",
    "function",
    "builtin_function_or_method",
    "instance",
    "_Feature"
   ],
   "window_display": false
  }
 },
 "nbformat": 4,
 "nbformat_minor": 1
}
