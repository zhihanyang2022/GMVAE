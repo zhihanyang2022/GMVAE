{
 "cells": [
  {
   "cell_type": "markdown",
   "metadata": {},
   "source": [
    "# High-power VAE (GM-VAE with 1 component)"
   ]
  },
  {
   "cell_type": "markdown",
   "metadata": {},
   "source": [
    "Remarks:\n",
    "- Clustering accuracy cannot be calculated with only 1 components; all labels are therefore pseudo-labels."
   ]
  },
  {
   "cell_type": "markdown",
   "metadata": {
    "colab_type": "text",
    "id": "rGzTb0oswH5J"
   },
   "source": [
    "## Import Libraries"
   ]
  },
  {
   "cell_type": "code",
   "execution_count": 2,
   "metadata": {
    "colab": {},
    "colab_type": "code",
    "id": "ThVeaB3CwI4j"
   },
   "outputs": [],
   "source": [
    "import json\n",
    "\n",
    "import numpy as np\n",
    "import argparse\n",
    "import random\n",
    "from torchvision import datasets, transforms\n",
    "from torch.utils.data.sampler import SubsetRandomSampler\n",
    "import torch.utils.data\n",
    "from scipy.io import loadmat\n",
    "\n",
    "import sys\n",
    "sys.path.append('./pytorch')\n",
    "sys.path.append('../../1906-pcgml/pcgml-gmmVae-exp/modules/')\n",
    "import vglc_with_path_encodings\n",
    "\n",
    "from model.GMVAE import *\n",
    "import matplotlib.pyplot as plt\n",
    "%matplotlib inline"
   ]
  },
  {
   "cell_type": "markdown",
   "metadata": {},
   "source": [
    "## Load data"
   ]
  },
  {
   "cell_type": "code",
   "execution_count": 3,
   "metadata": {},
   "outputs": [],
   "source": [
    "def open_json_as_nparray(json_fname):\n",
    "    with open(json_fname, 'r') as json_f:\n",
    "        return np.array(json.load(json_f))"
   ]
  },
  {
   "cell_type": "markdown",
   "metadata": {},
   "source": [
    "Load SMB."
   ]
  },
  {
   "cell_type": "code",
   "execution_count": 4,
   "metadata": {},
   "outputs": [],
   "source": [
    "smb_int = open_json_as_nparray('smbWithPath-allLevels-chunks-int.json')"
   ]
  },
  {
   "cell_type": "code",
   "execution_count": 5,
   "metadata": {},
   "outputs": [
    {
     "data": {
      "text/plain": [
       "(2698, 16, 16, 12)"
      ]
     },
     "execution_count": 5,
     "metadata": {},
     "output_type": "execute_result"
    }
   ],
   "source": [
    "smb_onehot = np.eye(len(np.unique(smb_int)))[smb_int]\n",
    "smb_onehot.shape"
   ]
  },
  {
   "cell_type": "code",
   "execution_count": 6,
   "metadata": {},
   "outputs": [
    {
     "data": {
      "text/plain": [
       "(2698, 3072)"
      ]
     },
     "execution_count": 6,
     "metadata": {},
     "output_type": "execute_result"
    }
   ],
   "source": [
    "smb_onehot = smb_onehot.reshape(\n",
    "    smb_onehot.shape[0], \n",
    "    smb_onehot.shape[1] * smb_onehot.shape[2] * smb_onehot.shape[3]\n",
    ")\n",
    "smb_onehot.shape"
   ]
  },
  {
   "cell_type": "code",
   "execution_count": 14,
   "metadata": {},
   "outputs": [
    {
     "data": {
      "text/plain": [
       "(2698,)"
      ]
     },
     "execution_count": 14,
     "metadata": {},
     "output_type": "execute_result"
    }
   ],
   "source": [
    "smb_labels = np.zeros(smb_onehot.shape[0])  # pseudo-labels\n",
    "smb_labels.shape"
   ]
  },
  {
   "cell_type": "markdown",
   "metadata": {},
   "source": [
    "Load KI."
   ]
  },
  {
   "cell_type": "code",
   "execution_count": 15,
   "metadata": {},
   "outputs": [],
   "source": [
    "ki_int = open_json_as_nparray('kiWithPath-allLevels-chunks-int.json')"
   ]
  },
  {
   "cell_type": "code",
   "execution_count": 16,
   "metadata": {},
   "outputs": [
    {
     "data": {
      "text/plain": [
       "(1142, 16, 16, 7)"
      ]
     },
     "execution_count": 16,
     "metadata": {},
     "output_type": "execute_result"
    }
   ],
   "source": [
    "ki_onehot = np.eye(len(np.unique(ki_int)))[ki_int]\n",
    "ki_onehot.shape"
   ]
  },
  {
   "cell_type": "code",
   "execution_count": 17,
   "metadata": {},
   "outputs": [],
   "source": [
    "ki_onehot_zero_padded = np.zeros(\n",
    "    (\n",
    "    ki_onehot.shape[0], \n",
    "    16, 16,\n",
    "    len(np.unique(smb_int))\n",
    "    )\n",
    ")"
   ]
  },
  {
   "cell_type": "code",
   "execution_count": 18,
   "metadata": {},
   "outputs": [
    {
     "data": {
      "text/plain": [
       "(1142, 16, 16, 12)"
      ]
     },
     "execution_count": 18,
     "metadata": {},
     "output_type": "execute_result"
    }
   ],
   "source": [
    "ki_onehot_zero_padded.shape"
   ]
  },
  {
   "cell_type": "code",
   "execution_count": 19,
   "metadata": {},
   "outputs": [],
   "source": [
    "ki_onehot_zero_padded[\n",
    "    :ki_onehot.shape[0],\n",
    "    :ki_onehot.shape[1],\n",
    "    :ki_onehot.shape[2],\n",
    "    :ki_onehot.shape[3]\n",
    "] = ki_onehot"
   ]
  },
  {
   "cell_type": "code",
   "execution_count": 20,
   "metadata": {},
   "outputs": [
    {
     "data": {
      "text/plain": [
       "(1142, 16, 16, 12)"
      ]
     },
     "execution_count": 20,
     "metadata": {},
     "output_type": "execute_result"
    }
   ],
   "source": [
    "ki_onehot_zero_padded.shape"
   ]
  },
  {
   "cell_type": "code",
   "execution_count": 21,
   "metadata": {},
   "outputs": [
    {
     "data": {
      "text/plain": [
       "(1.0, 0.0)"
      ]
     },
     "execution_count": 21,
     "metadata": {},
     "output_type": "execute_result"
    }
   ],
   "source": [
    "ki_onehot_zero_padded[:,:,:,6].max(), ki_onehot_zero_padded[:,:,:,7].max()"
   ]
  },
  {
   "cell_type": "code",
   "execution_count": 22,
   "metadata": {},
   "outputs": [
    {
     "data": {
      "text/plain": [
       "(1142, 3072)"
      ]
     },
     "execution_count": 22,
     "metadata": {},
     "output_type": "execute_result"
    }
   ],
   "source": [
    "ki_onehot_zero_padded = ki_onehot_zero_padded.reshape(\n",
    "    ki_onehot_zero_padded.shape[0], \n",
    "    ki_onehot_zero_padded.shape[1] * ki_onehot_zero_padded.shape[2] * ki_onehot_zero_padded.shape[3]\n",
    ")\n",
    "ki_onehot_zero_padded.shape"
   ]
  },
  {
   "cell_type": "code",
   "execution_count": 117,
   "metadata": {},
   "outputs": [],
   "source": [
    "ki_labels = np.ones(len(ki_onehot_zero_padded))  # pseudo-labels"
   ]
  },
  {
   "cell_type": "markdown",
   "metadata": {},
   "source": [
    "Create labels."
   ]
  },
  {
   "cell_type": "code",
   "execution_count": 118,
   "metadata": {},
   "outputs": [
    {
     "data": {
      "text/plain": [
       "((3840,), array([0., 0., 0., ..., 1., 1., 1.]))"
      ]
     },
     "execution_count": 118,
     "metadata": {},
     "output_type": "execute_result"
    }
   ],
   "source": [
    "labels = np.concatenate([smb_labels, ki_labels])\n",
    "labels.shape, labels"
   ]
  },
  {
   "cell_type": "code",
   "execution_count": 119,
   "metadata": {},
   "outputs": [],
   "source": [
    "chunks = np.concatenate([smb_onehot, ki_onehot_zero_padded])"
   ]
  },
  {
   "cell_type": "code",
   "execution_count": 120,
   "metadata": {},
   "outputs": [
    {
     "data": {
      "image/png": "[encoded data removed]",
      "text/plain": [
       "<Figure size 432x288 with 1 Axes>"
      ]
     },
     "metadata": {
      "needs_background": "light"
     },
     "output_type": "display_data"
    }
   ],
   "source": [
    "plt.hist(labels)\n",
    "plt.show()"
   ]
  },
  {
   "cell_type": "markdown",
   "metadata": {
    "colab_type": "text",
    "id": "3QNKItMHwQU2"
   },
   "source": [
    "## Input Parameters"
   ]
  },
  {
   "cell_type": "code",
   "execution_count": 132,
   "metadata": {
    "colab": {},
    "colab_type": "code",
    "id": "8tBHkTQ4wVIG"
   },
   "outputs": [],
   "source": [
    "########################################################\n",
    "## Input Parameters\n",
    "#########################################################\n",
    "parser = argparse.ArgumentParser(description='PyTorch Implementation of DGM Clustering')\n",
    "\n",
    "## Used only in notebooks\n",
    "parser.add_argument('-f', '--file',\n",
    "                    help='Path for input file. First line should contain number of lines to search in')\n",
    "\n",
    "## Dataset\n",
    "parser.add_argument('--dataset', type=str, choices=['mnist'],\n",
    "                    default='mnist', help='dataset (default: mnist)')\n",
    "parser.add_argument('--seed', type=int, default=1, help='random seed (default: 1)')\n",
    "\n",
    "## GPU\n",
    "parser.add_argument('--cuda', type=int, default=1,\n",
    "                    help='use of cuda (default: 1)')\n",
    "parser.add_argument('--gpuID', type=int, default=0,\n",
    "                    help='set gpu id to use (default: 0)')\n",
    "\n",
    "## Training\n",
    "parser.add_argument('--epochs', type=int, default=100,\n",
    "                    help='number of total epochs to run (default: 200)')\n",
    "parser.add_argument('--batch_size', default=64, type=int,\n",
    "                    help='mini-batch size (default: 64)')\n",
    "parser.add_argument('--batch_size_val', default=200, type=int,\n",
    "                    help='mini-batch size of validation (default: 200)')\n",
    "parser.add_argument('--learning_rate', default=1e-3, type=float,\n",
    "                    help='learning rate (default: 0.001)')\n",
    "parser.add_argument('--decay_epoch', default=-1, type=int, \n",
    "                    help='Reduces the learning rate every decay_epoch')\n",
    "parser.add_argument('--lr_decay', default=0.5, type=float,\n",
    "                    help='Learning rate decay for training (default: 0.5)')\n",
    "\n",
    "## Architecture\n",
    "parser.add_argument('--num_classes', type=int, default=1,\n",
    "                    help='number of classes (default: 10)')  # edited for this task\n",
    "parser.add_argument('--gaussian_size', default=64, type=int,\n",
    "                    help='gaussian size (default: 64)')\n",
    "parser.add_argument('--input_size', default=3072, type=int,\n",
    "                    help='input size (default: 784)')  # edited for this task\n",
    "\n",
    "## Partition parameters\n",
    "parser.add_argument('--train_proportion', default=0.9, type=float,\n",
    "                    help='proportion of examples to consider for training only (default: 1.0)')\n",
    "\n",
    "## Gumbel parameters\n",
    "parser.add_argument('--init_temp', default=1.0, type=float,\n",
    "                    help='Initial temperature used in gumbel-softmax (recommended 0.5-1.0, default:1.0)')\n",
    "parser.add_argument('--decay_temp', default=1, type=int, \n",
    "                    help='Set 1 to decay gumbel temperature at every epoch (default: 1)')\n",
    "parser.add_argument('--hard_gumbel', default=0, type=int, \n",
    "                    help='Set 1 to use the hard version of gumbel-softmax (default: 1)')\n",
    "parser.add_argument('--min_temp', default=0.5, type=float, \n",
    "                    help='Minimum temperature of gumbel-softmax after annealing (default: 0.5)' )\n",
    "parser.add_argument('--decay_temp_rate', default=0.013862944, type=float,\n",
    "                    help='Temperature decay rate at every epoch (default: 0.013862944)')\n",
    "\n",
    "## Loss function parameters\n",
    "parser.add_argument('--w_gauss', default=2, type=float,\n",
    "                    help='weight of gaussian loss (default: 1)')\n",
    "parser.add_argument('--w_categ', default=1, type=float,\n",
    "                    help='weight of categorical loss (default: 1)')\n",
    "parser.add_argument('--w_rec', default=1, type=float,\n",
    "                    help='weight of reconstruction loss (default: 1)')\n",
    "parser.add_argument('--rec_type', type=str, choices=['bce', 'mse'],\n",
    "                    default='bce', help='desired reconstruction loss function (default: bce)')\n",
    "\n",
    "## Others\n",
    "parser.add_argument('--verbose', default=0, type=int,\n",
    "                    help='print extra information at every epoch.(default: 0)')\n",
    "\n",
    "args = parser.parse_args()"
   ]
  },
  {
   "cell_type": "markdown",
   "metadata": {
    "colab_type": "text",
    "id": "Bti6lPHawc9z"
   },
   "source": [
    "Set random seed in case it was specified in the parameters\n"
   ]
  },
  {
   "cell_type": "code",
   "execution_count": 133,
   "metadata": {
    "colab": {},
    "colab_type": "code",
    "id": "IpWPxTy1wgbJ"
   },
   "outputs": [],
   "source": [
    "## Random Seed\n",
    "SEED = args.seed\n",
    "np.random.seed(SEED)\n",
    "random.seed(SEED)\n",
    "torch.manual_seed(SEED)\n",
    "if args.cuda:\n",
    "    torch.cuda.manual_seed(SEED)"
   ]
  },
  {
   "cell_type": "markdown",
   "metadata": {
    "colab_type": "text",
    "id": "fmrkmhttwkiD"
   },
   "source": [
    "## Data Partition"
   ]
  },
  {
   "cell_type": "markdown",
   "metadata": {
    "colab_type": "text",
    "id": "fUuTFMBhb2vZ"
   },
   "source": [
    "We split the training data into train and validation according to the *train_proportion* parameter:"
   ]
  },
  {
   "cell_type": "code",
   "execution_count": 134,
   "metadata": {},
   "outputs": [],
   "source": [
    "from torch.utils.data import TensorDataset, DataLoader"
   ]
  },
  {
   "cell_type": "code",
   "execution_count": 135,
   "metadata": {},
   "outputs": [
    {
     "ename": "AssertionError",
     "evalue": "",
     "output_type": "error",
     "traceback": [
      "\u001b[0;31m---------------------------------------------------------------------------\u001b[0m",
      "\u001b[0;31mAssertionError\u001b[0m                            Traceback (most recent call last)",
      "\u001b[0;32m<ipython-input-135-4e7d9e8ef97b>\u001b[0m in \u001b[0;36m<module>\u001b[0;34m\u001b[0m\n\u001b[0;32m----> 1\u001b[0;31m \u001b[0;32massert\u001b[0m \u001b[0margs\u001b[0m\u001b[0;34m.\u001b[0m\u001b[0mtrain_proportion\u001b[0m \u001b[0;34m!=\u001b[0m \u001b[0;36m1\u001b[0m\u001b[0;34m\u001b[0m\u001b[0;34m\u001b[0m\u001b[0m\n\u001b[0m",
      "\u001b[0;31mAssertionError\u001b[0m: "
     ]
    }
   ],
   "source": [
    "assert args.train_proportion != 1"
   ]
  },
  {
   "cell_type": "code",
   "execution_count": 137,
   "metadata": {
    "colab": {},
    "colab_type": "code",
    "id": "P8F6pjC7cNX7"
   },
   "outputs": [],
   "source": [
    "def partition_dataset(n, proportion=1):\n",
    "    train_num = int(n * proportion)\n",
    "    indices = np.random.permutation(n)\n",
    "    train_indices, val_indices = indices[:train_num], indices[train_num:]\n",
    "    return train_indices, val_indices\n",
    "\n",
    "train_indices, val_indices = partition_dataset(len(chunks), args.train_proportion)\n",
    "train_ds = TensorDataset(torch.from_numpy(chunks).float(), torch.from_numpy(labels).long())\n",
    "train_dl = DataLoader(train_ds, batch_size=args.batch_size, sampler=SubsetRandomSampler(train_indices))\n",
    "valid_dl = DataLoader(train_ds, batch_size=args.batch_size_val, sampler=SubsetRandomSampler(val_indices))"
   ]
  },
  {
   "cell_type": "markdown",
   "metadata": {
    "colab_type": "text",
    "id": "Pt7sEfZWw_U7"
   },
   "source": [
    "## Train Model"
   ]
  },
  {
   "cell_type": "code",
   "execution_count": 65,
   "metadata": {
    "colab": {},
    "colab_type": "code",
    "id": "qTncRSCuxFEL"
   },
   "outputs": [],
   "source": [
    "# Model Initialization\n",
    "gmvae = GMVAE(args)"
   ]
  },
  {
   "cell_type": "code",
   "execution_count": 66,
   "metadata": {},
   "outputs": [
    {
     "name": "stdout",
     "output_type": "stream",
     "text": [
      "(Epoch 1 / 100) Train_Loss: 589.740; Val_Loss: 322.798   Train_ACC: 70.457; Val_ACC: 68.490   Train_NMI: 0.000; Val_NMI: 0.000\n",
      "(Epoch 2 / 100) Train_Loss: 312.337; Val_Loss: 318.828   Train_ACC: 70.457; Val_ACC: 68.490   Train_NMI: 0.000; Val_NMI: 0.000\n",
      "(Epoch 3 / 100) Train_Loss: 304.936; Val_Loss: 313.186   Train_ACC: 70.457; Val_ACC: 68.490   Train_NMI: 0.000; Val_NMI: 0.000\n",
      "(Epoch 4 / 100) Train_Loss: 299.558; Val_Loss: 304.868   Train_ACC: 70.457; Val_ACC: 68.490   Train_NMI: 0.000; Val_NMI: 0.000\n",
      "(Epoch 5 / 100) Train_Loss: 293.936; Val_Loss: 300.876   Train_ACC: 70.457; Val_ACC: 68.490   Train_NMI: 0.000; Val_NMI: 0.000\n",
      "(Epoch 6 / 100) Train_Loss: 288.563; Val_Loss: 292.746   Train_ACC: 70.457; Val_ACC: 68.490   Train_NMI: 0.000; Val_NMI: 0.000\n",
      "(Epoch 7 / 100) Train_Loss: 282.022; Val_Loss: 284.993   Train_ACC: 70.457; Val_ACC: 68.490   Train_NMI: 0.000; Val_NMI: 0.000\n",
      "(Epoch 8 / 100) Train_Loss: 277.186; Val_Loss: 280.698   Train_ACC: 70.457; Val_ACC: 68.490   Train_NMI: 0.000; Val_NMI: 0.000\n",
      "(Epoch 9 / 100) Train_Loss: 271.238; Val_Loss: 277.353   Train_ACC: 70.457; Val_ACC: 68.490   Train_NMI: 0.000; Val_NMI: 0.000\n",
      "(Epoch 10 / 100) Train_Loss: 267.146; Val_Loss: 274.040   Train_ACC: 70.457; Val_ACC: 68.490   Train_NMI: 0.000; Val_NMI: 0.000\n",
      "(Epoch 11 / 100) Train_Loss: 263.800; Val_Loss: 271.329   Train_ACC: 70.457; Val_ACC: 68.490   Train_NMI: 0.000; Val_NMI: 0.000\n",
      "(Epoch 12 / 100) Train_Loss: 260.341; Val_Loss: 269.930   Train_ACC: 70.457; Val_ACC: 68.490   Train_NMI: 0.000; Val_NMI: 0.000\n",
      "(Epoch 13 / 100) Train_Loss: 258.576; Val_Loss: 266.472   Train_ACC: 70.457; Val_ACC: 68.490   Train_NMI: 0.000; Val_NMI: 0.000\n",
      "(Epoch 14 / 100) Train_Loss: 255.613; Val_Loss: 263.403   Train_ACC: 70.457; Val_ACC: 68.490   Train_NMI: 0.000; Val_NMI: 0.000\n",
      "(Epoch 15 / 100) Train_Loss: 252.728; Val_Loss: 261.308   Train_ACC: 70.457; Val_ACC: 68.490   Train_NMI: 0.000; Val_NMI: 0.000\n",
      "(Epoch 16 / 100) Train_Loss: 252.227; Val_Loss: 261.203   Train_ACC: 70.457; Val_ACC: 68.490   Train_NMI: 0.000; Val_NMI: 0.000\n",
      "(Epoch 17 / 100) Train_Loss: 249.303; Val_Loss: 258.506   Train_ACC: 70.457; Val_ACC: 68.490   Train_NMI: 0.000; Val_NMI: 0.000\n",
      "(Epoch 18 / 100) Train_Loss: 248.191; Val_Loss: 256.456   Train_ACC: 70.457; Val_ACC: 68.490   Train_NMI: 0.000; Val_NMI: 0.000\n",
      "(Epoch 19 / 100) Train_Loss: 246.258; Val_Loss: 256.827   Train_ACC: 70.457; Val_ACC: 68.490   Train_NMI: 0.000; Val_NMI: 0.000\n",
      "(Epoch 20 / 100) Train_Loss: 245.149; Val_Loss: 255.154   Train_ACC: 70.457; Val_ACC: 68.490   Train_NMI: 0.000; Val_NMI: 0.000\n",
      "(Epoch 21 / 100) Train_Loss: 245.269; Val_Loss: 263.527   Train_ACC: 70.457; Val_ACC: 68.490   Train_NMI: 0.000; Val_NMI: 0.000\n",
      "(Epoch 22 / 100) Train_Loss: 250.913; Val_Loss: 254.344   Train_ACC: 70.457; Val_ACC: 68.490   Train_NMI: 0.000; Val_NMI: 0.000\n",
      "(Epoch 23 / 100) Train_Loss: 243.716; Val_Loss: 255.393   Train_ACC: 70.457; Val_ACC: 68.490   Train_NMI: 0.000; Val_NMI: 0.000\n",
      "(Epoch 24 / 100) Train_Loss: 242.550; Val_Loss: 253.940   Train_ACC: 70.457; Val_ACC: 68.490   Train_NMI: 0.000; Val_NMI: 0.000\n",
      "(Epoch 25 / 100) Train_Loss: 241.225; Val_Loss: 253.520   Train_ACC: 70.457; Val_ACC: 68.490   Train_NMI: 0.000; Val_NMI: 0.000\n",
      "(Epoch 26 / 100) Train_Loss: 240.202; Val_Loss: 250.177   Train_ACC: 70.457; Val_ACC: 68.490   Train_NMI: 0.000; Val_NMI: 0.000\n",
      "(Epoch 27 / 100) Train_Loss: 236.875; Val_Loss: 247.987   Train_ACC: 70.457; Val_ACC: 68.490   Train_NMI: 0.000; Val_NMI: 0.000\n",
      "(Epoch 28 / 100) Train_Loss: 237.116; Val_Loss: 251.299   Train_ACC: 70.457; Val_ACC: 68.490   Train_NMI: 0.000; Val_NMI: 0.000\n",
      "(Epoch 29 / 100) Train_Loss: 237.761; Val_Loss: 250.176   Train_ACC: 70.457; Val_ACC: 68.490   Train_NMI: 0.000; Val_NMI: 0.000\n",
      "(Epoch 30 / 100) Train_Loss: 236.277; Val_Loss: 249.199   Train_ACC: 70.457; Val_ACC: 68.490   Train_NMI: 0.000; Val_NMI: 0.000\n",
      "(Epoch 31 / 100) Train_Loss: 234.063; Val_Loss: 246.202   Train_ACC: 70.457; Val_ACC: 68.490   Train_NMI: 0.000; Val_NMI: 0.000\n",
      "(Epoch 32 / 100) Train_Loss: 232.327; Val_Loss: 245.426   Train_ACC: 70.457; Val_ACC: 68.490   Train_NMI: 0.000; Val_NMI: 0.000\n",
      "(Epoch 33 / 100) Train_Loss: 230.818; Val_Loss: 242.101   Train_ACC: 70.457; Val_ACC: 68.490   Train_NMI: 0.000; Val_NMI: 0.000\n",
      "(Epoch 34 / 100) Train_Loss: 228.567; Val_Loss: 241.533   Train_ACC: 70.457; Val_ACC: 68.490   Train_NMI: 0.000; Val_NMI: 0.000\n",
      "(Epoch 35 / 100) Train_Loss: 227.354; Val_Loss: 241.388   Train_ACC: 70.457; Val_ACC: 68.490   Train_NMI: 0.000; Val_NMI: 0.000\n",
      "(Epoch 36 / 100) Train_Loss: 226.229; Val_Loss: 241.662   Train_ACC: 70.457; Val_ACC: 68.490   Train_NMI: 0.000; Val_NMI: 0.000\n",
      "(Epoch 37 / 100) Train_Loss: 225.279; Val_Loss: 239.092   Train_ACC: 70.457; Val_ACC: 68.490   Train_NMI: 0.000; Val_NMI: 0.000\n",
      "(Epoch 38 / 100) Train_Loss: 223.440; Val_Loss: 237.916   Train_ACC: 70.457; Val_ACC: 68.490   Train_NMI: 0.000; Val_NMI: 0.000\n",
      "(Epoch 39 / 100) Train_Loss: 222.027; Val_Loss: 238.294   Train_ACC: 70.457; Val_ACC: 68.490   Train_NMI: 0.000; Val_NMI: 0.000\n",
      "(Epoch 40 / 100) Train_Loss: 221.788; Val_Loss: 237.537   Train_ACC: 70.457; Val_ACC: 68.490   Train_NMI: 0.000; Val_NMI: 0.000\n",
      "(Epoch 41 / 100) Train_Loss: 220.331; Val_Loss: 236.903   Train_ACC: 70.457; Val_ACC: 68.490   Train_NMI: 0.000; Val_NMI: 0.000\n",
      "(Epoch 42 / 100) Train_Loss: 219.132; Val_Loss: 238.001   Train_ACC: 70.457; Val_ACC: 68.490   Train_NMI: 0.000; Val_NMI: 0.000\n",
      "(Epoch 43 / 100) Train_Loss: 217.852; Val_Loss: 235.192   Train_ACC: 70.457; Val_ACC: 68.490   Train_NMI: 0.000; Val_NMI: 0.000\n",
      "(Epoch 44 / 100) Train_Loss: 217.396; Val_Loss: 234.827   Train_ACC: 70.457; Val_ACC: 68.490   Train_NMI: 0.000; Val_NMI: 0.000\n",
      "(Epoch 45 / 100) Train_Loss: 216.098; Val_Loss: 235.153   Train_ACC: 70.457; Val_ACC: 68.490   Train_NMI: 0.000; Val_NMI: 0.000\n",
      "(Epoch 46 / 100) Train_Loss: 215.196; Val_Loss: 233.749   Train_ACC: 70.457; Val_ACC: 68.490   Train_NMI: 0.000; Val_NMI: 0.000\n",
      "(Epoch 47 / 100) Train_Loss: 214.196; Val_Loss: 234.606   Train_ACC: 70.457; Val_ACC: 68.490   Train_NMI: 0.000; Val_NMI: 0.000\n",
      "(Epoch 48 / 100) Train_Loss: 214.388; Val_Loss: 234.969   Train_ACC: 70.457; Val_ACC: 68.490   Train_NMI: 0.000; Val_NMI: 0.000\n",
      "(Epoch 49 / 100) Train_Loss: 213.155; Val_Loss: 233.722   Train_ACC: 70.457; Val_ACC: 68.490   Train_NMI: 0.000; Val_NMI: 0.000\n",
      "(Epoch 50 / 100) Train_Loss: 211.482; Val_Loss: 233.430   Train_ACC: 70.457; Val_ACC: 68.490   Train_NMI: 0.000; Val_NMI: 0.000\n",
      "(Epoch 51 / 100) Train_Loss: 211.202; Val_Loss: 234.119   Train_ACC: 70.457; Val_ACC: 68.490   Train_NMI: 0.000; Val_NMI: 0.000\n",
      "(Epoch 52 / 100) Train_Loss: 210.857; Val_Loss: 233.921   Train_ACC: 70.457; Val_ACC: 68.490   Train_NMI: 0.000; Val_NMI: 0.000\n",
      "(Epoch 53 / 100) Train_Loss: 213.004; Val_Loss: 236.948   Train_ACC: 70.457; Val_ACC: 68.490   Train_NMI: 0.000; Val_NMI: 0.000\n",
      "(Epoch 54 / 100) Train_Loss: 210.221; Val_Loss: 233.160   Train_ACC: 70.457; Val_ACC: 68.490   Train_NMI: 0.000; Val_NMI: 0.000\n",
      "(Epoch 55 / 100) Train_Loss: 207.719; Val_Loss: 233.000   Train_ACC: 70.457; Val_ACC: 68.490   Train_NMI: 0.000; Val_NMI: 0.000\n",
      "(Epoch 56 / 100) Train_Loss: 206.483; Val_Loss: 231.952   Train_ACC: 70.457; Val_ACC: 68.490   Train_NMI: 0.000; Val_NMI: 0.000\n",
      "(Epoch 57 / 100) Train_Loss: 205.484; Val_Loss: 233.007   Train_ACC: 70.457; Val_ACC: 68.490   Train_NMI: 0.000; Val_NMI: 0.000\n",
      "(Epoch 58 / 100) Train_Loss: 204.891; Val_Loss: 231.731   Train_ACC: 70.457; Val_ACC: 68.490   Train_NMI: 0.000; Val_NMI: 0.000\n",
      "(Epoch 59 / 100) Train_Loss: 205.098; Val_Loss: 232.819   Train_ACC: 70.457; Val_ACC: 68.490   Train_NMI: 0.000; Val_NMI: 0.000\n",
      "(Epoch 60 / 100) Train_Loss: 208.468; Val_Loss: 232.139   Train_ACC: 70.457; Val_ACC: 68.490   Train_NMI: 0.000; Val_NMI: 0.000\n",
      "(Epoch 61 / 100) Train_Loss: 205.135; Val_Loss: 231.644   Train_ACC: 70.457; Val_ACC: 68.490   Train_NMI: 0.000; Val_NMI: 0.000\n",
      "(Epoch 62 / 100) Train_Loss: 205.334; Val_Loss: 231.166   Train_ACC: 70.457; Val_ACC: 68.490   Train_NMI: 0.000; Val_NMI: 0.000\n",
      "(Epoch 63 / 100) Train_Loss: 202.419; Val_Loss: 233.122   Train_ACC: 70.457; Val_ACC: 68.490   Train_NMI: 0.000; Val_NMI: 0.000\n",
      "(Epoch 64 / 100) Train_Loss: 200.789; Val_Loss: 231.316   Train_ACC: 70.457; Val_ACC: 68.490   Train_NMI: 0.000; Val_NMI: 0.000\n",
      "(Epoch 65 / 100) Train_Loss: 199.345; Val_Loss: 231.172   Train_ACC: 70.457; Val_ACC: 68.490   Train_NMI: 0.000; Val_NMI: 0.000\n"
     ]
    },
    {
     "name": "stdout",
     "output_type": "stream",
     "text": [
      "(Epoch 66 / 100) Train_Loss: 198.952; Val_Loss: 230.927   Train_ACC: 70.457; Val_ACC: 68.490   Train_NMI: 0.000; Val_NMI: 0.000\n",
      "(Epoch 67 / 100) Train_Loss: 197.828; Val_Loss: 232.339   Train_ACC: 70.457; Val_ACC: 68.490   Train_NMI: 0.000; Val_NMI: 0.000\n",
      "(Epoch 68 / 100) Train_Loss: 199.493; Val_Loss: 233.069   Train_ACC: 70.457; Val_ACC: 68.490   Train_NMI: 0.000; Val_NMI: 0.000\n",
      "(Epoch 69 / 100) Train_Loss: 197.278; Val_Loss: 230.346   Train_ACC: 70.457; Val_ACC: 68.490   Train_NMI: 0.000; Val_NMI: 0.000\n",
      "(Epoch 70 / 100) Train_Loss: 196.135; Val_Loss: 229.740   Train_ACC: 70.457; Val_ACC: 68.490   Train_NMI: 0.000; Val_NMI: 0.000\n",
      "(Epoch 71 / 100) Train_Loss: 194.485; Val_Loss: 231.998   Train_ACC: 70.457; Val_ACC: 68.490   Train_NMI: 0.000; Val_NMI: 0.000\n",
      "(Epoch 72 / 100) Train_Loss: 194.373; Val_Loss: 230.162   Train_ACC: 70.457; Val_ACC: 68.490   Train_NMI: 0.000; Val_NMI: 0.000\n",
      "(Epoch 73 / 100) Train_Loss: 193.753; Val_Loss: 232.854   Train_ACC: 70.457; Val_ACC: 68.490   Train_NMI: 0.000; Val_NMI: 0.000\n",
      "(Epoch 74 / 100) Train_Loss: 194.595; Val_Loss: 230.974   Train_ACC: 70.457; Val_ACC: 68.490   Train_NMI: 0.000; Val_NMI: 0.000\n",
      "(Epoch 75 / 100) Train_Loss: 191.874; Val_Loss: 230.147   Train_ACC: 70.457; Val_ACC: 68.490   Train_NMI: 0.000; Val_NMI: 0.000\n",
      "(Epoch 76 / 100) Train_Loss: 193.436; Val_Loss: 232.877   Train_ACC: 70.457; Val_ACC: 68.490   Train_NMI: 0.000; Val_NMI: 0.000\n",
      "(Epoch 77 / 100) Train_Loss: 192.453; Val_Loss: 231.000   Train_ACC: 70.457; Val_ACC: 68.490   Train_NMI: 0.000; Val_NMI: 0.000\n",
      "(Epoch 78 / 100) Train_Loss: 189.881; Val_Loss: 230.556   Train_ACC: 70.457; Val_ACC: 68.490   Train_NMI: 0.000; Val_NMI: 0.000\n",
      "(Epoch 79 / 100) Train_Loss: 188.929; Val_Loss: 231.292   Train_ACC: 70.457; Val_ACC: 68.490   Train_NMI: 0.000; Val_NMI: 0.000\n",
      "(Epoch 80 / 100) Train_Loss: 188.932; Val_Loss: 232.507   Train_ACC: 70.457; Val_ACC: 68.490   Train_NMI: 0.000; Val_NMI: 0.000\n",
      "(Epoch 81 / 100) Train_Loss: 186.512; Val_Loss: 231.920   Train_ACC: 70.457; Val_ACC: 68.490   Train_NMI: 0.000; Val_NMI: 0.000\n",
      "(Epoch 82 / 100) Train_Loss: 186.599; Val_Loss: 232.083   Train_ACC: 70.457; Val_ACC: 68.490   Train_NMI: 0.000; Val_NMI: 0.000\n",
      "(Epoch 83 / 100) Train_Loss: 185.308; Val_Loss: 233.618   Train_ACC: 70.457; Val_ACC: 68.490   Train_NMI: 0.000; Val_NMI: 0.000\n",
      "(Epoch 84 / 100) Train_Loss: 185.400; Val_Loss: 234.574   Train_ACC: 70.457; Val_ACC: 68.490   Train_NMI: 0.000; Val_NMI: 0.000\n",
      "(Epoch 85 / 100) Train_Loss: 186.101; Val_Loss: 234.400   Train_ACC: 70.457; Val_ACC: 68.490   Train_NMI: 0.000; Val_NMI: 0.000\n",
      "(Epoch 86 / 100) Train_Loss: 187.271; Val_Loss: 231.589   Train_ACC: 70.457; Val_ACC: 68.490   Train_NMI: 0.000; Val_NMI: 0.000\n",
      "(Epoch 87 / 100) Train_Loss: 183.368; Val_Loss: 233.447   Train_ACC: 70.457; Val_ACC: 68.490   Train_NMI: 0.000; Val_NMI: 0.000\n",
      "(Epoch 88 / 100) Train_Loss: 183.221; Val_Loss: 235.493   Train_ACC: 70.457; Val_ACC: 68.490   Train_NMI: 0.000; Val_NMI: 0.000\n",
      "(Epoch 89 / 100) Train_Loss: 181.759; Val_Loss: 234.534   Train_ACC: 70.457; Val_ACC: 68.490   Train_NMI: 0.000; Val_NMI: 0.000\n",
      "(Epoch 90 / 100) Train_Loss: 180.959; Val_Loss: 234.573   Train_ACC: 70.457; Val_ACC: 68.490   Train_NMI: 0.000; Val_NMI: 0.000\n",
      "(Epoch 91 / 100) Train_Loss: 180.680; Val_Loss: 233.028   Train_ACC: 70.457; Val_ACC: 68.490   Train_NMI: 0.000; Val_NMI: 0.000\n",
      "(Epoch 92 / 100) Train_Loss: 179.836; Val_Loss: 235.464   Train_ACC: 70.457; Val_ACC: 68.490   Train_NMI: 0.000; Val_NMI: 0.000\n",
      "(Epoch 93 / 100) Train_Loss: 178.517; Val_Loss: 236.117   Train_ACC: 70.457; Val_ACC: 68.490   Train_NMI: 0.000; Val_NMI: 0.000\n",
      "(Epoch 94 / 100) Train_Loss: 177.439; Val_Loss: 235.716   Train_ACC: 70.457; Val_ACC: 68.490   Train_NMI: 0.000; Val_NMI: 0.000\n",
      "(Epoch 95 / 100) Train_Loss: 177.225; Val_Loss: 234.755   Train_ACC: 70.457; Val_ACC: 68.490   Train_NMI: 0.000; Val_NMI: 0.000\n",
      "(Epoch 96 / 100) Train_Loss: 175.985; Val_Loss: 235.447   Train_ACC: 70.457; Val_ACC: 68.490   Train_NMI: 0.000; Val_NMI: 0.000\n",
      "(Epoch 97 / 100) Train_Loss: 175.384; Val_Loss: 237.962   Train_ACC: 70.457; Val_ACC: 68.490   Train_NMI: 0.000; Val_NMI: 0.000\n",
      "(Epoch 98 / 100) Train_Loss: 176.049; Val_Loss: 238.510   Train_ACC: 70.457; Val_ACC: 68.490   Train_NMI: 0.000; Val_NMI: 0.000\n",
      "(Epoch 99 / 100) Train_Loss: 174.857; Val_Loss: 237.305   Train_ACC: 70.457; Val_ACC: 68.490   Train_NMI: 0.000; Val_NMI: 0.000\n",
      "(Epoch 100 / 100) Train_Loss: 173.693; Val_Loss: 238.333   Train_ACC: 70.457; Val_ACC: 68.490   Train_NMI: 0.000; Val_NMI: 0.000\n"
     ]
    }
   ],
   "source": [
    "history_loss = gmvae.train(train_dl, valid_dl)"
   ]
  },
  {
   "cell_type": "code",
   "execution_count": 67,
   "metadata": {},
   "outputs": [],
   "source": [
    "torch.save(gmvae.network.state_dict(), 'high_param_gmvae_1.pth')"
   ]
  },
  {
   "cell_type": "code",
   "execution_count": 68,
   "metadata": {},
   "outputs": [
    {
     "data": {
      "text/plain": [
       "<All keys matched successfully>"
      ]
     },
     "execution_count": 68,
     "metadata": {},
     "output_type": "execute_result"
    }
   ],
   "source": [
    "gmvae.network.load_state_dict(torch.load('high_param_gmvae_1.pth'))"
   ]
  },
  {
   "cell_type": "markdown",
   "metadata": {
    "colab_type": "text",
    "id": "1bHWNxV-gAl2"
   },
   "source": [
    "## Image Reconstruction"
   ]
  },
  {
   "cell_type": "code",
   "execution_count": 69,
   "metadata": {
    "colab": {
     "base_uri": "https://localhost:8080/",
     "height": 160
    },
    "colab_type": "code",
    "id": "wd5jQFFHgCbD",
    "outputId": "8e1d4654-fb01-49dc-b512-e8e4bb259e0f"
   },
   "outputs": [],
   "source": [
    "original, reconstructed = gmvae.reconstruct_data(valid_dl, 15)  "
   ]
  },
  {
   "cell_type": "code",
   "execution_count": 70,
   "metadata": {},
   "outputs": [],
   "source": [
    "original_int = original.reshape(15, 16, 16, 12).argmax(axis=-1)\n",
    "reconstructed_int = reconstructed.reshape(15, 16, 16, 12).argmax(axis=-1)"
   ]
  },
  {
   "cell_type": "code",
   "execution_count": 88,
   "metadata": {},
   "outputs": [],
   "source": [
    "def get_class(chunk_int):\n",
    "    if chunk_int.max() <= 6:\n",
    "        return 'kia'\n",
    "    elif chunk_int.max() > 6:\n",
    "        return 'smba'"
   ]
  },
  {
   "cell_type": "code",
   "execution_count": 89,
   "metadata": {},
   "outputs": [],
   "source": [
    "def get_classes(chunks_int):\n",
    "    classes = []\n",
    "    for i in chunks_int:\n",
    "        classes.append(get_class(i))\n",
    "    return np.array(classes)"
   ]
  },
  {
   "cell_type": "code",
   "execution_count": 90,
   "metadata": {},
   "outputs": [],
   "source": [
    "org_classes = get_classes(original_int)\n",
    "rec_classes = get_classes(reconstructed_int)\n",
    "assert np.sum(org_classes == rec_classes) == len(org_classes)"
   ]
  },
  {
   "cell_type": "code",
   "execution_count": 91,
   "metadata": {},
   "outputs": [],
   "source": [
    "def get_images(chunks_int):\n",
    "    images = []\n",
    "    for game, chunk in zip(get_classes(chunks_int), chunks_int):\n",
    "        images.append(vglc_with_path_encodings.array_to_image([chunk], game=game)[0])\n",
    "    return images"
   ]
  },
  {
   "cell_type": "code",
   "execution_count": 92,
   "metadata": {},
   "outputs": [
    {
     "data": {
      "text/plain": [
       "(15, 15)"
      ]
     },
     "execution_count": 92,
     "metadata": {},
     "output_type": "execute_result"
    }
   ],
   "source": [
    "org_images = get_images(original_int)\n",
    "rec_images = get_images(reconstructed_int)\n",
    "len(org_images), len(rec_images)"
   ]
  },
  {
   "cell_type": "code",
   "execution_count": 93,
   "metadata": {},
   "outputs": [
    {
     "data": {
      "image/png": "[encoded data removed]",
      "text/plain": [
       "<Figure size 1728x576 with 30 Axes>"
      ]
     },
     "metadata": {
      "needs_background": "light"
     },
     "output_type": "display_data"
    }
   ],
   "source": [
    "fig, axes = plt.subplots(nrows=3, ncols=10, figsize=(24, 8))\n",
    "axes = axes.flatten()\n",
    "nrows, ncols = 3, 10\n",
    "\n",
    "org_idxs = np.arange(0, 29, 2)\n",
    "rec_idxs = org_idxs + 1\n",
    "\n",
    "for idx in org_idxs:\n",
    "        \n",
    "    ax = axes[idx]\n",
    "\n",
    "    ax.imshow(np.asarray(org_images[idx // 2]))\n",
    "    ax.set_title(f'Org {idx // 2 + 1}')\n",
    "    \n",
    "    ax.axis('off')\n",
    "\n",
    "for idx in rec_idxs:\n",
    "        \n",
    "    ax = axes[idx]\n",
    "\n",
    "    ax.imshow(np.asarray(rec_images[idx // 2]))\n",
    "    ax.set_title(f'Rec {idx // 2 + 1}')\n",
    "\n",
    "    ax.axis('off')\n",
    "    \n",
    "plt.show()"
   ]
  },
  {
   "cell_type": "markdown",
   "metadata": {
    "colab_type": "text",
    "id": "CAyoGFFRgMgC"
   },
   "source": [
    "## Random Generation per Category"
   ]
  },
  {
   "cell_type": "code",
   "execution_count": 94,
   "metadata": {},
   "outputs": [],
   "source": [
    "idx2game = {\n",
    "    0:'smba',\n",
    "    1:'kia'\n",
    "}"
   ]
  },
  {
   "cell_type": "code",
   "execution_count": 98,
   "metadata": {
    "colab": {
     "base_uri": "https://localhost:8080/",
     "height": 595
    },
    "colab_type": "code",
    "id": "xE84c3U2gLjA",
    "outputId": "cd52f356-e53a-4844-9db2-3723d15ddb00"
   },
   "outputs": [
    {
     "name": "stderr",
     "output_type": "stream",
     "text": [
      "/home/yangz2/anaconda3/envs/deep_learning/lib/python3.7/site-packages/PIL/Image.py:968: UserWarning: Palette images with Transparency   expressed in bytes should be converted to RGBA images\n",
      "  ' expressed in bytes should be converted ' +\n",
      "/home/yangz2/anaconda3/envs/deep_learning/lib/python3.7/site-packages/PIL/Image.py:968: UserWarning: Palette images with Transparency   expressed in bytes should be converted to RGBA images\n",
      "  ' expressed in bytes should be converted ' +\n",
      "/home/yangz2/anaconda3/envs/deep_learning/lib/python3.7/site-packages/PIL/Image.py:968: UserWarning: Palette images with Transparency   expressed in bytes should be converted to RGBA images\n",
      "  ' expressed in bytes should be converted ' +\n",
      "/home/yangz2/anaconda3/envs/deep_learning/lib/python3.7/site-packages/PIL/Image.py:968: UserWarning: Palette images with Transparency   expressed in bytes should be converted to RGBA images\n",
      "  ' expressed in bytes should be converted ' +\n",
      "/home/yangz2/anaconda3/envs/deep_learning/lib/python3.7/site-packages/PIL/Image.py:968: UserWarning: Palette images with Transparency   expressed in bytes should be converted to RGBA images\n",
      "  ' expressed in bytes should be converted ' +\n",
      "/home/yangz2/anaconda3/envs/deep_learning/lib/python3.7/site-packages/PIL/Image.py:968: UserWarning: Palette images with Transparency   expressed in bytes should be converted to RGBA images\n",
      "  ' expressed in bytes should be converted ' +\n",
      "/home/yangz2/anaconda3/envs/deep_learning/lib/python3.7/site-packages/PIL/Image.py:968: UserWarning: Palette images with Transparency   expressed in bytes should be converted to RGBA images\n",
      "  ' expressed in bytes should be converted ' +\n",
      "/home/yangz2/anaconda3/envs/deep_learning/lib/python3.7/site-packages/PIL/Image.py:968: UserWarning: Palette images with Transparency   expressed in bytes should be converted to RGBA images\n",
      "  ' expressed in bytes should be converted ' +\n",
      "/home/yangz2/anaconda3/envs/deep_learning/lib/python3.7/site-packages/PIL/Image.py:968: UserWarning: Palette images with Transparency   expressed in bytes should be converted to RGBA images\n",
      "  ' expressed in bytes should be converted ' +\n",
      "/home/yangz2/anaconda3/envs/deep_learning/lib/python3.7/site-packages/PIL/Image.py:968: UserWarning: Palette images with Transparency   expressed in bytes should be converted to RGBA images\n",
      "  ' expressed in bytes should be converted ' +\n",
      "/home/yangz2/anaconda3/envs/deep_learning/lib/python3.7/site-packages/PIL/Image.py:968: UserWarning: Palette images with Transparency   expressed in bytes should be converted to RGBA images\n",
      "  ' expressed in bytes should be converted ' +\n",
      "/home/yangz2/anaconda3/envs/deep_learning/lib/python3.7/site-packages/PIL/Image.py:968: UserWarning: Palette images with Transparency   expressed in bytes should be converted to RGBA images\n",
      "  ' expressed in bytes should be converted ' +\n",
      "/home/yangz2/anaconda3/envs/deep_learning/lib/python3.7/site-packages/PIL/Image.py:968: UserWarning: Palette images with Transparency   expressed in bytes should be converted to RGBA images\n",
      "  ' expressed in bytes should be converted ' +\n",
      "/home/yangz2/anaconda3/envs/deep_learning/lib/python3.7/site-packages/PIL/Image.py:968: UserWarning: Palette images with Transparency   expressed in bytes should be converted to RGBA images\n",
      "  ' expressed in bytes should be converted ' +\n",
      "/home/yangz2/anaconda3/envs/deep_learning/lib/python3.7/site-packages/PIL/Image.py:968: UserWarning: Palette images with Transparency   expressed in bytes should be converted to RGBA images\n",
      "  ' expressed in bytes should be converted ' +\n",
      "/home/yangz2/anaconda3/envs/deep_learning/lib/python3.7/site-packages/PIL/Image.py:968: UserWarning: Palette images with Transparency   expressed in bytes should be converted to RGBA images\n",
      "  ' expressed in bytes should be converted ' +\n",
      "/home/yangz2/anaconda3/envs/deep_learning/lib/python3.7/site-packages/PIL/Image.py:968: UserWarning: Palette images with Transparency   expressed in bytes should be converted to RGBA images\n",
      "  ' expressed in bytes should be converted ' +\n",
      "/home/yangz2/anaconda3/envs/deep_learning/lib/python3.7/site-packages/PIL/Image.py:968: UserWarning: Palette images with Transparency   expressed in bytes should be converted to RGBA images\n",
      "  ' expressed in bytes should be converted ' +\n",
      "/home/yangz2/anaconda3/envs/deep_learning/lib/python3.7/site-packages/PIL/Image.py:968: UserWarning: Palette images with Transparency   expressed in bytes should be converted to RGBA images\n",
      "  ' expressed in bytes should be converted ' +\n",
      "/home/yangz2/anaconda3/envs/deep_learning/lib/python3.7/site-packages/PIL/Image.py:968: UserWarning: Palette images with Transparency   expressed in bytes should be converted to RGBA images\n",
      "  ' expressed in bytes should be converted ' +\n",
      "/home/yangz2/anaconda3/envs/deep_learning/lib/python3.7/site-packages/PIL/Image.py:968: UserWarning: Palette images with Transparency   expressed in bytes should be converted to RGBA images\n",
      "  ' expressed in bytes should be converted ' +\n",
      "/home/yangz2/anaconda3/envs/deep_learning/lib/python3.7/site-packages/PIL/Image.py:968: UserWarning: Palette images with Transparency   expressed in bytes should be converted to RGBA images\n",
      "  ' expressed in bytes should be converted ' +\n",
      "/home/yangz2/anaconda3/envs/deep_learning/lib/python3.7/site-packages/PIL/Image.py:968: UserWarning: Palette images with Transparency   expressed in bytes should be converted to RGBA images\n",
      "  ' expressed in bytes should be converted ' +\n",
      "/home/yangz2/anaconda3/envs/deep_learning/lib/python3.7/site-packages/PIL/Image.py:968: UserWarning: Palette images with Transparency   expressed in bytes should be converted to RGBA images\n",
      "  ' expressed in bytes should be converted ' +\n",
      "/home/yangz2/anaconda3/envs/deep_learning/lib/python3.7/site-packages/PIL/Image.py:968: UserWarning: Palette images with Transparency   expressed in bytes should be converted to RGBA images\n",
      "  ' expressed in bytes should be converted ' +\n",
      "/home/yangz2/anaconda3/envs/deep_learning/lib/python3.7/site-packages/PIL/Image.py:968: UserWarning: Palette images with Transparency   expressed in bytes should be converted to RGBA images\n",
      "  ' expressed in bytes should be converted ' +\n",
      "/home/yangz2/anaconda3/envs/deep_learning/lib/python3.7/site-packages/PIL/Image.py:968: UserWarning: Palette images with Transparency   expressed in bytes should be converted to RGBA images\n",
      "  ' expressed in bytes should be converted ' +\n",
      "/home/yangz2/anaconda3/envs/deep_learning/lib/python3.7/site-packages/PIL/Image.py:968: UserWarning: Palette images with Transparency   expressed in bytes should be converted to RGBA images\n",
      "  ' expressed in bytes should be converted ' +\n",
      "/home/yangz2/anaconda3/envs/deep_learning/lib/python3.7/site-packages/PIL/Image.py:968: UserWarning: Palette images with Transparency   expressed in bytes should be converted to RGBA images\n",
      "  ' expressed in bytes should be converted ' +\n",
      "/home/yangz2/anaconda3/envs/deep_learning/lib/python3.7/site-packages/PIL/Image.py:968: UserWarning: Palette images with Transparency   expressed in bytes should be converted to RGBA images\n",
      "  ' expressed in bytes should be converted ' +\n",
      "/home/yangz2/anaconda3/envs/deep_learning/lib/python3.7/site-packages/PIL/Image.py:968: UserWarning: Palette images with Transparency   expressed in bytes should be converted to RGBA images\n",
      "  ' expressed in bytes should be converted ' +\n",
      "/home/yangz2/anaconda3/envs/deep_learning/lib/python3.7/site-packages/PIL/Image.py:968: UserWarning: Palette images with Transparency   expressed in bytes should be converted to RGBA images\n",
      "  ' expressed in bytes should be converted ' +\n",
      "/home/yangz2/anaconda3/envs/deep_learning/lib/python3.7/site-packages/PIL/Image.py:968: UserWarning: Palette images with Transparency   expressed in bytes should be converted to RGBA images\n",
      "  ' expressed in bytes should be converted ' +\n",
      "/home/yangz2/anaconda3/envs/deep_learning/lib/python3.7/site-packages/PIL/Image.py:968: UserWarning: Palette images with Transparency   expressed in bytes should be converted to RGBA images\n",
      "  ' expressed in bytes should be converted ' +\n",
      "/home/yangz2/anaconda3/envs/deep_learning/lib/python3.7/site-packages/PIL/Image.py:968: UserWarning: Palette images with Transparency   expressed in bytes should be converted to RGBA images\n",
      "  ' expressed in bytes should be converted ' +\n",
      "/home/yangz2/anaconda3/envs/deep_learning/lib/python3.7/site-packages/PIL/Image.py:968: UserWarning: Palette images with Transparency   expressed in bytes should be converted to RGBA images\n",
      "  ' expressed in bytes should be converted ' +\n",
      "/home/yangz2/anaconda3/envs/deep_learning/lib/python3.7/site-packages/PIL/Image.py:968: UserWarning: Palette images with Transparency   expressed in bytes should be converted to RGBA images\n",
      "  ' expressed in bytes should be converted ' +\n",
      "/home/yangz2/anaconda3/envs/deep_learning/lib/python3.7/site-packages/PIL/Image.py:968: UserWarning: Palette images with Transparency   expressed in bytes should be converted to RGBA images\n",
      "  ' expressed in bytes should be converted ' +\n",
      "/home/yangz2/anaconda3/envs/deep_learning/lib/python3.7/site-packages/PIL/Image.py:968: UserWarning: Palette images with Transparency   expressed in bytes should be converted to RGBA images\n",
      "  ' expressed in bytes should be converted ' +\n",
      "/home/yangz2/anaconda3/envs/deep_learning/lib/python3.7/site-packages/PIL/Image.py:968: UserWarning: Palette images with Transparency   expressed in bytes should be converted to RGBA images\n",
      "  ' expressed in bytes should be converted ' +\n",
      "/home/yangz2/anaconda3/envs/deep_learning/lib/python3.7/site-packages/PIL/Image.py:968: UserWarning: Palette images with Transparency   expressed in bytes should be converted to RGBA images\n",
      "  ' expressed in bytes should be converted ' +\n",
      "/home/yangz2/anaconda3/envs/deep_learning/lib/python3.7/site-packages/PIL/Image.py:968: UserWarning: Palette images with Transparency   expressed in bytes should be converted to RGBA images\n",
      "  ' expressed in bytes should be converted ' +\n",
      "/home/yangz2/anaconda3/envs/deep_learning/lib/python3.7/site-packages/PIL/Image.py:968: UserWarning: Palette images with Transparency   expressed in bytes should be converted to RGBA images\n",
      "  ' expressed in bytes should be converted ' +\n",
      "/home/yangz2/anaconda3/envs/deep_learning/lib/python3.7/site-packages/PIL/Image.py:968: UserWarning: Palette images with Transparency   expressed in bytes should be converted to RGBA images\n",
      "  ' expressed in bytes should be converted ' +\n",
      "/home/yangz2/anaconda3/envs/deep_learning/lib/python3.7/site-packages/PIL/Image.py:968: UserWarning: Palette images with Transparency   expressed in bytes should be converted to RGBA images\n",
      "  ' expressed in bytes should be converted ' +\n",
      "/home/yangz2/anaconda3/envs/deep_learning/lib/python3.7/site-packages/PIL/Image.py:968: UserWarning: Palette images with Transparency   expressed in bytes should be converted to RGBA images\n",
      "  ' expressed in bytes should be converted ' +\n",
      "/home/yangz2/anaconda3/envs/deep_learning/lib/python3.7/site-packages/PIL/Image.py:968: UserWarning: Palette images with Transparency   expressed in bytes should be converted to RGBA images\n",
      "  ' expressed in bytes should be converted ' +\n",
      "/home/yangz2/anaconda3/envs/deep_learning/lib/python3.7/site-packages/PIL/Image.py:968: UserWarning: Palette images with Transparency   expressed in bytes should be converted to RGBA images\n",
      "  ' expressed in bytes should be converted ' +\n",
      "/home/yangz2/anaconda3/envs/deep_learning/lib/python3.7/site-packages/PIL/Image.py:968: UserWarning: Palette images with Transparency   expressed in bytes should be converted to RGBA images\n",
      "  ' expressed in bytes should be converted ' +\n",
      "/home/yangz2/anaconda3/envs/deep_learning/lib/python3.7/site-packages/PIL/Image.py:968: UserWarning: Palette images with Transparency   expressed in bytes should be converted to RGBA images\n",
      "  ' expressed in bytes should be converted ' +\n",
      "/home/yangz2/anaconda3/envs/deep_learning/lib/python3.7/site-packages/PIL/Image.py:968: UserWarning: Palette images with Transparency   expressed in bytes should be converted to RGBA images\n",
      "  ' expressed in bytes should be converted ' +\n",
      "/home/yangz2/anaconda3/envs/deep_learning/lib/python3.7/site-packages/PIL/Image.py:968: UserWarning: Palette images with Transparency   expressed in bytes should be converted to RGBA images\n",
      "  ' expressed in bytes should be converted ' +\n",
      "/home/yangz2/anaconda3/envs/deep_learning/lib/python3.7/site-packages/PIL/Image.py:968: UserWarning: Palette images with Transparency   expressed in bytes should be converted to RGBA images\n",
      "  ' expressed in bytes should be converted ' +\n"
     ]
    },
    {
     "data": {
      "image/png": "[encoded data removed]",
      "text/plain": [
       "<Figure size 1728x144 with 10 Axes>"
      ]
     },
     "metadata": {
      "needs_background": "light"
     },
     "output_type": "display_data"
    }
   ],
   "source": [
    "def display_random_generation(generated, num_classes, n=10):\n",
    "    plt.figure(figsize=[24,24//n])\n",
    "    for c in range(num_classes):\n",
    "        for i in range(n):\n",
    "            plt.subplot(num_classes, n, (c * n) + i + 1)\n",
    "            chunk_int = generated[(c * n) + i].reshape(16, 16, 12).argmax(axis=-1)\n",
    "            chunk_class = get_class(chunk_int)\n",
    "            chunk_pix = vglc_with_path_encodings.array_to_image([chunk_int], game=chunk_class)[0]\n",
    "            plt.imshow(chunk_pix)\n",
    "            plt.gray()\n",
    "            plt.axis('off')\n",
    "    plt.show()\n",
    "\n",
    "elem_per_category = 10\n",
    "generated = gmvae.random_generation(elem_per_category)\n",
    "display_random_generation(generated, args.num_classes, elem_per_category)"
   ]
  },
  {
   "cell_type": "markdown",
   "metadata": {
    "colab_type": "text",
    "id": "-SbXR7FkhIcq"
   },
   "source": [
    "## Visualization of the feature latent space"
   ]
  },
  {
   "cell_type": "code",
   "execution_count": 162,
   "metadata": {
    "colab": {},
    "colab_type": "code",
    "id": "bTkEBA9JhQ2C"
   },
   "outputs": [],
   "source": [
    "# get feature representations\n",
    "test_features, test_labels = gmvae.latent_features(train_dl, True)\n",
    "\n",
    "indices = np.arange(len(test_features))\n",
    "np.random.seed(34)\n",
    "np.random.shuffle(indices)\n",
    "\n",
    "test_features = test_features[indices]\n",
    "test_labels = test_labels[indices]"
   ]
  },
  {
   "cell_type": "code",
   "execution_count": 163,
   "metadata": {
    "colab": {},
    "colab_type": "code",
    "id": "LNmsz5rahZAY"
   },
   "outputs": [],
   "source": [
    "# import TSNE from scikit-learn library\n",
    "from sklearn.manifold import TSNE\n",
    "\n",
    "# reduce dimensionality to 2D, we consider a subset of data because TSNE\n",
    "# is a slow algorithm\n",
    "\n",
    "first_n = 1000\n",
    "tsne_features = TSNE(n_components=2).fit_transform(test_features[:first_n])"
   ]
  },
  {
   "cell_type": "code",
   "execution_count": 164,
   "metadata": {},
   "outputs": [],
   "source": [
    "test_labels_subset = test_labels[:first_n]\n",
    "tsne_features_smba = tsne_features[test_labels_subset == 0]\n",
    "tsne_features_kia  = tsne_features[test_labels_subset == 1]"
   ]
  },
  {
   "cell_type": "code",
   "execution_count": 165,
   "metadata": {},
   "outputs": [],
   "source": [
    "X_, Y_ = np.s_[:,0], np.s_[:,1]"
   ]
  },
  {
   "cell_type": "code",
   "execution_count": 166,
   "metadata": {},
   "outputs": [],
   "source": [
    "import seaborn as sns"
   ]
  },
  {
   "cell_type": "code",
   "execution_count": 182,
   "metadata": {
    "colab": {
     "base_uri": "https://localhost:8080/",
     "height": 395
    },
    "colab_type": "code",
    "id": "wyTtDdwyha-L",
    "outputId": "350e806a-6dd3-47f2-bd91-444aaf61b3dd"
   },
   "outputs": [
    {
     "data": {
      "image/png": "[encoded data removed]",
      "text/plain": [
       "<Figure size 504x504 with 1 Axes>"
      ]
     },
     "metadata": {
      "needs_background": "light"
     },
     "output_type": "display_data"
    }
   ],
   "source": [
    "fig = plt.figure(figsize=(7, 7))\n",
    "\n",
    "plt.scatter(tsne_features_smba[X_], tsne_features_smba[Y_], label='SMBA')\n",
    "plt.scatter(tsne_features_kia[X_], tsne_features_kia[Y_], label='KIA')\n",
    "\n",
    "plt.title('GM-VAE with 1 component - SMBA vs KIA - projection from latent space to 2D')\n",
    "plt.xlabel('Project axis 1'); plt.ylabel('Projection axis 2')\n",
    "plt.legend()\n",
    "plt.savefig('gmvae1_tsne.png')"
   ]
  },
  {
   "cell_type": "code",
   "execution_count": null,
   "metadata": {},
   "outputs": [],
   "source": []
  }
 ],
 "metadata": {
  "accelerator": "GPU",
  "colab": {
   "collapsed_sections": [],
   "include_colab_link": true,
   "name": "GMVAE_Pytorch.ipynb",
   "provenance": []
  },
  "kernelspec": {
   "display_name": "Python 3",
   "language": "python",
   "name": "python3"
  },
  "language_info": {
   "codemirror_mode": {
    "name": "ipython",
    "version": 3
   },
   "file_extension": ".py",
   "mimetype": "text/x-python",
   "name": "python",
   "nbconvert_exporter": "python",
   "pygments_lexer": "ipython3",
   "version": "3.7.6"
  },
  "toc": {
   "base_numbering": 1,
   "nav_menu": {},
   "number_sections": false,
   "sideBar": true,
   "skip_h1_title": false,
   "title_cell": "Table of Contents",
   "title_sidebar": "Contents",
   "toc_cell": false,
   "toc_position": {},
   "toc_section_display": true,
   "toc_window_display": false
  },
  "varInspector": {
   "cols": {
    "lenName": 16,
    "lenType": 16,
    "lenVar": 40
   },
   "kernels_config": {
    "python": {
     "delete_cmd_postfix": "",
     "delete_cmd_prefix": "del ",
     "library": "var_list.py",
     "varRefreshCmd": "print(var_dic_list())"
    },
    "r": {
     "delete_cmd_postfix": ") ",
     "delete_cmd_prefix": "rm(",
     "library": "var_list.r",
     "varRefreshCmd": "cat(var_dic_list()) "
    }
   },
   "types_to_exclude": [
    "module",
    "function",
    "builtin_function_or_method",
    "instance",
    "_Feature"
   ],
   "window_display": false
  }
 },
 "nbformat": 4,
 "nbformat_minor": 1
}
