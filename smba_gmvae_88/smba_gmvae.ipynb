{
 "cells": [
  {
   "cell_type": "markdown",
   "metadata": {},
   "source": [
    "# GM-VAE for SMBA"
   ]
  },
  {
   "cell_type": "code",
   "execution_count": 2,
   "metadata": {},
   "outputs": [],
   "source": [
    "num_components=88"
   ]
  },
  {
   "cell_type": "markdown",
   "metadata": {
    "colab_type": "text",
    "id": "rGzTb0oswH5J"
   },
   "source": [
    "## Import Libraries"
   ]
  },
  {
   "cell_type": "code",
   "execution_count": 3,
   "metadata": {
    "colab": {},
    "colab_type": "code",
    "id": "ThVeaB3CwI4j"
   },
   "outputs": [],
   "source": [
    "import json\n",
    "\n",
    "import numpy as np\n",
    "import argparse\n",
    "import random\n",
    "from torchvision import datasets, transforms\n",
    "from torch.utils.data.sampler import SubsetRandomSampler\n",
    "import torch.utils.data\n",
    "from scipy.io import loadmat\n",
    "\n",
    "import sys\n",
    "sys.path.append('./pytorch')\n",
    "sys.path.append('../../1906-pcgml/pcgml-gmmVae-exp/modules/')\n",
    "import vglc_with_path_encodings\n",
    "\n",
    "from model.GMVAE import *\n",
    "import matplotlib.pyplot as plt\n",
    "import seaborn as sns\n",
    "%matplotlib inline\n",
    "\n",
    "import warnings\n",
    "warnings.filterwarnings('ignore')"
   ]
  },
  {
   "cell_type": "markdown",
   "metadata": {},
   "source": [
    "## Load data"
   ]
  },
  {
   "cell_type": "code",
   "execution_count": 4,
   "metadata": {},
   "outputs": [],
   "source": [
    "def open_json_as_nparray(json_fname):\n",
    "    with open(json_fname, 'r') as json_f:\n",
    "        return np.array(json.load(json_f))"
   ]
  },
  {
   "cell_type": "markdown",
   "metadata": {},
   "source": [
    "Load SMB."
   ]
  },
  {
   "cell_type": "code",
   "execution_count": 5,
   "metadata": {},
   "outputs": [],
   "source": [
    "smb_int = open_json_as_nparray('smbWithPath-allLevels-chunks-int.json')"
   ]
  },
  {
   "cell_type": "code",
   "execution_count": 6,
   "metadata": {},
   "outputs": [
    {
     "data": {
      "text/plain": [
       "(2698, 16, 16, 12)"
      ]
     },
     "execution_count": 6,
     "metadata": {},
     "output_type": "execute_result"
    }
   ],
   "source": [
    "smb_onehot = np.eye(len(np.unique(smb_int)))[smb_int]\n",
    "smb_onehot.shape"
   ]
  },
  {
   "cell_type": "code",
   "execution_count": 7,
   "metadata": {},
   "outputs": [
    {
     "data": {
      "text/plain": [
       "(2698, 3072)"
      ]
     },
     "execution_count": 7,
     "metadata": {},
     "output_type": "execute_result"
    }
   ],
   "source": [
    "smb_onehot = smb_onehot.reshape(\n",
    "    smb_onehot.shape[0], \n",
    "    smb_onehot.shape[1] * smb_onehot.shape[2] * smb_onehot.shape[3]\n",
    ")\n",
    "smb_onehot.shape"
   ]
  },
  {
   "cell_type": "code",
   "execution_count": 8,
   "metadata": {},
   "outputs": [
    {
     "data": {
      "text/plain": [
       "((2698,),\n",
       " array([51, 14, 71, 60, 20, 82, 86, 74, 74, 87, 23,  2, 21, 52,  1, 87, 29,\n",
       "        37,  1, 63]))"
      ]
     },
     "execution_count": 8,
     "metadata": {},
     "output_type": "execute_result"
    }
   ],
   "source": [
    "np.random.seed(42)\n",
    "smb_labels = np.random.randint(num_components, size=smb_onehot.shape[0])\n",
    "smb_labels.shape, smb_labels[:20]"
   ]
  },
  {
   "cell_type": "code",
   "execution_count": 9,
   "metadata": {},
   "outputs": [],
   "source": [
    "chunks, labels = smb_onehot, smb_labels"
   ]
  },
  {
   "cell_type": "code",
   "execution_count": 10,
   "metadata": {},
   "outputs": [
    {
     "data": {
      "image/png": "[encoded data removed]",
      "text/plain": [
       "<Figure size 432x288 with 1 Axes>"
      ]
     },
     "metadata": {
      "needs_background": "light"
     },
     "output_type": "display_data"
    }
   ],
   "source": [
    "plt.bar(np.arange(num_components), np.bincount(smb_labels))\n",
    "plt.show()"
   ]
  },
  {
   "cell_type": "markdown",
   "metadata": {
    "colab_type": "text",
    "id": "3QNKItMHwQU2"
   },
   "source": [
    "## Input Parameters"
   ]
  },
  {
   "cell_type": "code",
   "execution_count": 11,
   "metadata": {
    "colab": {},
    "colab_type": "code",
    "id": "8tBHkTQ4wVIG"
   },
   "outputs": [],
   "source": [
    "########################################################\n",
    "## Input Parameters\n",
    "#########################################################\n",
    "parser = argparse.ArgumentParser(description='PyTorch Implementation of DGM Clustering')\n",
    "\n",
    "## Used only in notebooks\n",
    "parser.add_argument('-f', '--file',\n",
    "                    help='Path for input file. First line should contain number of lines to search in')\n",
    "\n",
    "## Dataset\n",
    "parser.add_argument('--dataset', type=str, choices=['mnist'],\n",
    "                    default='mnist', help='dataset (default: mnist)')\n",
    "parser.add_argument('--seed', type=int, default=1, help='random seed (default: 1)')\n",
    "\n",
    "## GPU\n",
    "parser.add_argument('--cuda', type=int, default=1,\n",
    "                    help='use of cuda (default: 1)')\n",
    "parser.add_argument('--gpuID', type=int, default=0,\n",
    "                    help='set gpu id to use (default: 0)')\n",
    "\n",
    "## Training\n",
    "parser.add_argument('--epochs', type=int, default=100,\n",
    "                    help='number of total epochs to run (default: 200)')\n",
    "parser.add_argument('--batch_size', default=64, type=int,\n",
    "                    help='mini-batch size (default: 64)')\n",
    "parser.add_argument('--batch_size_val', default=200, type=int,\n",
    "                    help='mini-batch size of validation (default: 200)')\n",
    "parser.add_argument('--learning_rate', default=1e-3, type=float,\n",
    "                    help='learning rate (default: 0.001)')\n",
    "parser.add_argument('--decay_epoch', default=-1, type=int, \n",
    "                    help='Reduces the learning rate every decay_epoch')\n",
    "parser.add_argument('--lr_decay', default=0.5, type=float,\n",
    "                    help='Learning rate decay for training (default: 0.5)')\n",
    "\n",
    "## Architecture\n",
    "parser.add_argument('--num_classes', type=int, default=num_components,\n",
    "                    help='number of classes (default: 10)')  # edited for this task\n",
    "parser.add_argument('--gaussian_size', default=64, type=int,\n",
    "                    help='gaussian size (default: 64)')\n",
    "parser.add_argument('--input_size', default=3072, type=int,\n",
    "                    help='input size (default: 784)')  # edited for this task\n",
    "\n",
    "## Partition parameters\n",
    "parser.add_argument('--train_proportion', default=0.9, type=float,\n",
    "                    help='proportion of examples to consider for training only (default: 1.0)')\n",
    "\n",
    "## Gumbel parameters\n",
    "parser.add_argument('--init_temp', default=1.0, type=float,\n",
    "                    help='Initial temperature used in gumbel-softmax (recommended 0.5-1.0, default:1.0)')\n",
    "parser.add_argument('--decay_temp', default=1, type=int, \n",
    "                    help='Set 1 to decay gumbel temperature at every epoch (default: 1)')\n",
    "parser.add_argument('--hard_gumbel', default=0, type=int, \n",
    "                    help='Set 1 to use the hard version of gumbel-softmax (default: 1)')\n",
    "parser.add_argument('--min_temp', default=0.5, type=float, \n",
    "                    help='Minimum temperature of gumbel-softmax after annealing (default: 0.5)' )\n",
    "parser.add_argument('--decay_temp_rate', default=0.013862944, type=float,\n",
    "                    help='Temperature decay rate at every epoch (default: 0.013862944)')\n",
    "\n",
    "## Loss function parameters\n",
    "parser.add_argument('--w_gauss', default=2, type=float,\n",
    "                    help='weight of gaussian loss (default: 1)')\n",
    "parser.add_argument('--w_categ', default=1, type=float,\n",
    "                    help='weight of categorical loss (default: 1)')\n",
    "parser.add_argument('--w_rec', default=1, type=float,\n",
    "                    help='weight of reconstruction loss (default: 1)')\n",
    "parser.add_argument('--rec_type', type=str, choices=['bce', 'mse'],\n",
    "                    default='bce', help='desired reconstruction loss function (default: bce)')\n",
    "\n",
    "## Others\n",
    "parser.add_argument('--verbose', default=0, type=int,\n",
    "                    help='print extra information at every epoch.(default: 0)')\n",
    "\n",
    "args = parser.parse_args()"
   ]
  },
  {
   "cell_type": "markdown",
   "metadata": {
    "colab_type": "text",
    "id": "Bti6lPHawc9z"
   },
   "source": [
    "Set random seed in case it was specified in the parameters\n"
   ]
  },
  {
   "cell_type": "code",
   "execution_count": 12,
   "metadata": {
    "colab": {},
    "colab_type": "code",
    "id": "IpWPxTy1wgbJ"
   },
   "outputs": [],
   "source": [
    "## Random Seed\n",
    "SEED = args.seed\n",
    "np.random.seed(SEED)\n",
    "random.seed(SEED)\n",
    "torch.manual_seed(SEED)\n",
    "if args.cuda:\n",
    "    torch.cuda.manual_seed(SEED)"
   ]
  },
  {
   "cell_type": "markdown",
   "metadata": {
    "colab_type": "text",
    "id": "fmrkmhttwkiD"
   },
   "source": [
    "## Data Partition"
   ]
  },
  {
   "cell_type": "markdown",
   "metadata": {
    "colab_type": "text",
    "id": "fUuTFMBhb2vZ"
   },
   "source": [
    "We split the training data into train and validation according to the *train_proportion* parameter:"
   ]
  },
  {
   "cell_type": "code",
   "execution_count": 13,
   "metadata": {},
   "outputs": [],
   "source": [
    "from torch.utils.data import TensorDataset, DataLoader"
   ]
  },
  {
   "cell_type": "code",
   "execution_count": 14,
   "metadata": {},
   "outputs": [],
   "source": [
    "assert args.train_proportion != 1"
   ]
  },
  {
   "cell_type": "code",
   "execution_count": 15,
   "metadata": {
    "colab": {},
    "colab_type": "code",
    "id": "P8F6pjC7cNX7"
   },
   "outputs": [],
   "source": [
    "def partition_dataset(n, proportion=1):\n",
    "   train_num = int(n * proportion)\n",
    "   indices = np.random.permutation(n)\n",
    "   train_indices, val_indices = indices[:train_num], indices[train_num:]\n",
    "   return train_indices, val_indices\n",
    "\n",
    "train_indices, val_indices = partition_dataset(len(chunks), args.train_proportion)\n",
    "train_ds = TensorDataset(torch.from_numpy(chunks).float(), torch.from_numpy(labels).long())\n",
    "train_dl = DataLoader(train_ds, batch_size=args.batch_size, sampler=SubsetRandomSampler(train_indices))\n",
    "valid_dl = DataLoader(train_ds, batch_size=args.batch_size_val, sampler=SubsetRandomSampler(val_indices))"
   ]
  },
  {
   "cell_type": "markdown",
   "metadata": {
    "colab_type": "text",
    "id": "Pt7sEfZWw_U7"
   },
   "source": [
    "## Train Model"
   ]
  },
  {
   "cell_type": "code",
   "execution_count": 16,
   "metadata": {
    "colab": {},
    "colab_type": "code",
    "id": "qTncRSCuxFEL"
   },
   "outputs": [],
   "source": [
    "# Model Initialization\n",
    "gmvae = GMVAE(args)"
   ]
  },
  {
   "cell_type": "code",
   "execution_count": 17,
   "metadata": {},
   "outputs": [
    {
     "name": "stdout",
     "output_type": "stream",
     "text": [
      "(Epoch 1 / 100) Train_Loss: 477.644; Val_Loss: 239.148   Train_ACC: 4.201; Val_ACC: 3.704   Train_NMI: 11.650; Val_NMI: 3.754\n",
      "(Epoch 2 / 100) Train_Loss: 228.068; Val_Loss: 222.454   Train_ACC: 3.871; Val_ACC: 4.074   Train_NMI: 8.177; Val_NMI: 9.269\n",
      "(Epoch 3 / 100) Train_Loss: 223.773; Val_Loss: 231.765   Train_ACC: 3.542; Val_ACC: 7.037   Train_NMI: 8.348; Val_NMI: 22.828\n",
      "(Epoch 4 / 100) Train_Loss: 221.217; Val_Loss: 219.366   Train_ACC: 3.295; Val_ACC: 7.037   Train_NMI: 6.907; Val_NMI: 24.090\n",
      "(Epoch 5 / 100) Train_Loss: 213.899; Val_Loss: 212.850   Train_ACC: 3.583; Val_ACC: 5.926   Train_NMI: 8.320; Val_NMI: 25.325\n",
      "(Epoch 6 / 100) Train_Loss: 211.180; Val_Loss: 217.672   Train_ACC: 3.418; Val_ACC: 7.778   Train_NMI: 6.453; Val_NMI: 27.020\n",
      "(Epoch 7 / 100) Train_Loss: 207.606; Val_Loss: 211.080   Train_ACC: 3.624; Val_ACC: 6.667   Train_NMI: 7.414; Val_NMI: 26.579\n",
      "(Epoch 8 / 100) Train_Loss: 204.524; Val_Loss: 203.825   Train_ACC: 3.048; Val_ACC: 5.185   Train_NMI: 5.870; Val_NMI: 11.927\n",
      "(Epoch 9 / 100) Train_Loss: 201.801; Val_Loss: 208.041   Train_ACC: 3.171; Val_ACC: 7.037   Train_NMI: 6.305; Val_NMI: 26.790\n",
      "(Epoch 10 / 100) Train_Loss: 199.113; Val_Loss: 201.020   Train_ACC: 3.130; Val_ACC: 6.667   Train_NMI: 5.869; Val_NMI: 24.796\n",
      "(Epoch 11 / 100) Train_Loss: 195.591; Val_Loss: 203.751   Train_ACC: 3.048; Val_ACC: 5.185   Train_NMI: 5.392; Val_NMI: 20.428\n",
      "(Epoch 12 / 100) Train_Loss: 193.246; Val_Loss: 197.358   Train_ACC: 2.965; Val_ACC: 7.407   Train_NMI: 6.039; Val_NMI: 28.459\n",
      "(Epoch 13 / 100) Train_Loss: 192.665; Val_Loss: 197.660   Train_ACC: 3.295; Val_ACC: 7.407   Train_NMI: 6.709; Val_NMI: 31.758\n",
      "(Epoch 14 / 100) Train_Loss: 189.497; Val_Loss: 197.099   Train_ACC: 3.418; Val_ACC: 7.407   Train_NMI: 8.080; Val_NMI: 28.797\n",
      "(Epoch 15 / 100) Train_Loss: 188.052; Val_Loss: 191.261   Train_ACC: 3.460; Val_ACC: 8.148   Train_NMI: 8.492; Val_NMI: 30.112\n",
      "(Epoch 16 / 100) Train_Loss: 187.329; Val_Loss: 196.269   Train_ACC: 3.624; Val_ACC: 8.889   Train_NMI: 9.176; Val_NMI: 36.613\n",
      "(Epoch 17 / 100) Train_Loss: 184.501; Val_Loss: 190.542   Train_ACC: 3.460; Val_ACC: 10.000   Train_NMI: 7.609; Val_NMI: 35.365\n",
      "(Epoch 18 / 100) Train_Loss: 182.515; Val_Loss: 188.286   Train_ACC: 3.789; Val_ACC: 10.741   Train_NMI: 10.071; Val_NMI: 37.616\n",
      "(Epoch 19 / 100) Train_Loss: 179.867; Val_Loss: 187.801   Train_ACC: 3.624; Val_ACC: 10.000   Train_NMI: 9.581; Val_NMI: 38.600\n",
      "(Epoch 20 / 100) Train_Loss: 178.396; Val_Loss: 187.209   Train_ACC: 3.748; Val_ACC: 9.259   Train_NMI: 9.630; Val_NMI: 36.995\n",
      "(Epoch 21 / 100) Train_Loss: 176.845; Val_Loss: 187.583   Train_ACC: 4.242; Val_ACC: 10.370   Train_NMI: 10.936; Val_NMI: 38.699\n",
      "(Epoch 22 / 100) Train_Loss: 174.597; Val_Loss: 183.266   Train_ACC: 3.583; Val_ACC: 10.741   Train_NMI: 9.314; Val_NMI: 40.720\n",
      "(Epoch 23 / 100) Train_Loss: 172.663; Val_Loss: 188.518   Train_ACC: 4.160; Val_ACC: 11.481   Train_NMI: 10.314; Val_NMI: 40.736\n",
      "(Epoch 24 / 100) Train_Loss: 171.223; Val_Loss: 178.326   Train_ACC: 3.871; Val_ACC: 10.370   Train_NMI: 9.518; Val_NMI: 37.969\n",
      "(Epoch 25 / 100) Train_Loss: 169.428; Val_Loss: 174.943   Train_ACC: 3.748; Val_ACC: 11.481   Train_NMI: 9.432; Val_NMI: 42.652\n",
      "(Epoch 26 / 100) Train_Loss: 168.298; Val_Loss: 178.148   Train_ACC: 3.913; Val_ACC: 11.481   Train_NMI: 9.516; Val_NMI: 41.483\n",
      "(Epoch 27 / 100) Train_Loss: 167.077; Val_Loss: 176.231   Train_ACC: 4.077; Val_ACC: 10.370   Train_NMI: 9.456; Val_NMI: 39.425\n",
      "(Epoch 28 / 100) Train_Loss: 165.717; Val_Loss: 176.374   Train_ACC: 3.830; Val_ACC: 10.370   Train_NMI: 9.493; Val_NMI: 38.781\n",
      "(Epoch 29 / 100) Train_Loss: 163.649; Val_Loss: 173.513   Train_ACC: 3.583; Val_ACC: 10.000   Train_NMI: 8.634; Val_NMI: 40.941\n",
      "(Epoch 30 / 100) Train_Loss: 162.211; Val_Loss: 172.003   Train_ACC: 3.748; Val_ACC: 9.259   Train_NMI: 9.567; Val_NMI: 40.082\n",
      "(Epoch 31 / 100) Train_Loss: 160.868; Val_Loss: 170.536   Train_ACC: 3.830; Val_ACC: 11.481   Train_NMI: 10.031; Val_NMI: 40.923\n",
      "(Epoch 32 / 100) Train_Loss: 159.830; Val_Loss: 172.389   Train_ACC: 4.036; Val_ACC: 11.111   Train_NMI: 10.034; Val_NMI: 41.839\n",
      "(Epoch 33 / 100) Train_Loss: 158.383; Val_Loss: 170.550   Train_ACC: 4.119; Val_ACC: 10.741   Train_NMI: 10.885; Val_NMI: 38.382\n",
      "(Epoch 34 / 100) Train_Loss: 157.310; Val_Loss: 169.747   Train_ACC: 3.995; Val_ACC: 11.111   Train_NMI: 10.203; Val_NMI: 43.042\n",
      "(Epoch 35 / 100) Train_Loss: 155.235; Val_Loss: 168.291   Train_ACC: 3.995; Val_ACC: 11.481   Train_NMI: 10.025; Val_NMI: 42.494\n",
      "(Epoch 36 / 100) Train_Loss: 154.848; Val_Loss: 168.583   Train_ACC: 3.913; Val_ACC: 10.741   Train_NMI: 9.761; Val_NMI: 40.725\n",
      "(Epoch 37 / 100) Train_Loss: 154.346; Val_Loss: 172.543   Train_ACC: 3.913; Val_ACC: 9.630   Train_NMI: 11.076; Val_NMI: 39.285\n",
      "(Epoch 38 / 100) Train_Loss: 152.099; Val_Loss: 161.309   Train_ACC: 3.707; Val_ACC: 10.741   Train_NMI: 8.935; Val_NMI: 38.496\n",
      "(Epoch 39 / 100) Train_Loss: 151.851; Val_Loss: 168.795   Train_ACC: 3.830; Val_ACC: 11.111   Train_NMI: 9.656; Val_NMI: 41.359\n",
      "(Epoch 40 / 100) Train_Loss: 150.700; Val_Loss: 164.574   Train_ACC: 4.077; Val_ACC: 11.852   Train_NMI: 10.276; Val_NMI: 42.034\n",
      "(Epoch 41 / 100) Train_Loss: 149.537; Val_Loss: 164.508   Train_ACC: 3.995; Val_ACC: 11.852   Train_NMI: 10.251; Val_NMI: 41.557\n",
      "(Epoch 42 / 100) Train_Loss: 148.802; Val_Loss: 163.858   Train_ACC: 4.242; Val_ACC: 10.741   Train_NMI: 11.373; Val_NMI: 40.420\n",
      "(Epoch 43 / 100) Train_Loss: 148.023; Val_Loss: 166.761   Train_ACC: 4.119; Val_ACC: 12.593   Train_NMI: 11.263; Val_NMI: 42.166\n",
      "(Epoch 44 / 100) Train_Loss: 147.783; Val_Loss: 157.754   Train_ACC: 4.077; Val_ACC: 11.111   Train_NMI: 9.720; Val_NMI: 43.612\n",
      "(Epoch 45 / 100) Train_Loss: 146.205; Val_Loss: 160.528   Train_ACC: 4.242; Val_ACC: 12.593   Train_NMI: 11.383; Val_NMI: 45.960\n",
      "(Epoch 46 / 100) Train_Loss: 145.448; Val_Loss: 161.467   Train_ACC: 4.366; Val_ACC: 11.481   Train_NMI: 10.857; Val_NMI: 43.831\n",
      "(Epoch 47 / 100) Train_Loss: 144.845; Val_Loss: 165.930   Train_ACC: 4.119; Val_ACC: 13.333   Train_NMI: 11.389; Val_NMI: 44.653\n",
      "(Epoch 48 / 100) Train_Loss: 143.785; Val_Loss: 163.047   Train_ACC: 4.407; Val_ACC: 12.222   Train_NMI: 10.970; Val_NMI: 43.253\n",
      "(Epoch 49 / 100) Train_Loss: 142.433; Val_Loss: 165.039   Train_ACC: 4.077; Val_ACC: 11.481   Train_NMI: 10.179; Val_NMI: 41.538\n",
      "(Epoch 50 / 100) Train_Loss: 142.730; Val_Loss: 161.812   Train_ACC: 4.201; Val_ACC: 13.704   Train_NMI: 11.244; Val_NMI: 44.564\n",
      "(Epoch 51 / 100) Train_Loss: 141.668; Val_Loss: 156.638   Train_ACC: 4.736; Val_ACC: 12.222   Train_NMI: 12.738; Val_NMI: 45.786\n",
      "(Epoch 52 / 100) Train_Loss: 140.793; Val_Loss: 162.866   Train_ACC: 4.448; Val_ACC: 12.963   Train_NMI: 11.824; Val_NMI: 45.595\n",
      "(Epoch 53 / 100) Train_Loss: 139.391; Val_Loss: 161.010   Train_ACC: 4.201; Val_ACC: 11.481   Train_NMI: 11.099; Val_NMI: 44.412\n",
      "(Epoch 54 / 100) Train_Loss: 140.075; Val_Loss: 159.553   Train_ACC: 4.283; Val_ACC: 12.593   Train_NMI: 11.376; Val_NMI: 45.982\n",
      "(Epoch 55 / 100) Train_Loss: 139.137; Val_Loss: 155.116   Train_ACC: 4.654; Val_ACC: 14.074   Train_NMI: 12.064; Val_NMI: 45.290\n",
      "(Epoch 56 / 100) Train_Loss: 137.517; Val_Loss: 154.047   Train_ACC: 4.077; Val_ACC: 12.222   Train_NMI: 10.350; Val_NMI: 42.651\n",
      "(Epoch 57 / 100) Train_Loss: 136.804; Val_Loss: 155.064   Train_ACC: 4.119; Val_ACC: 12.593   Train_NMI: 10.767; Val_NMI: 43.358\n",
      "(Epoch 58 / 100) Train_Loss: 136.211; Val_Loss: 156.774   Train_ACC: 4.613; Val_ACC: 12.963   Train_NMI: 12.071; Val_NMI: 44.079\n",
      "(Epoch 59 / 100) Train_Loss: 136.322; Val_Loss: 156.900   Train_ACC: 4.448; Val_ACC: 11.852   Train_NMI: 12.092; Val_NMI: 43.159\n",
      "(Epoch 60 / 100) Train_Loss: 135.119; Val_Loss: 156.890   Train_ACC: 4.242; Val_ACC: 11.481   Train_NMI: 10.312; Val_NMI: 44.252\n",
      "(Epoch 61 / 100) Train_Loss: 133.859; Val_Loss: 152.151   Train_ACC: 4.283; Val_ACC: 12.222   Train_NMI: 10.856; Val_NMI: 44.420\n",
      "(Epoch 62 / 100) Train_Loss: 133.046; Val_Loss: 159.596   Train_ACC: 4.530; Val_ACC: 12.593   Train_NMI: 11.371; Val_NMI: 44.393\n",
      "(Epoch 63 / 100) Train_Loss: 132.488; Val_Loss: 157.620   Train_ACC: 4.695; Val_ACC: 12.593   Train_NMI: 13.538; Val_NMI: 45.582\n",
      "(Epoch 64 / 100) Train_Loss: 131.900; Val_Loss: 156.915   Train_ACC: 4.654; Val_ACC: 13.704   Train_NMI: 12.764; Val_NMI: 44.787\n"
     ]
    },
    {
     "name": "stdout",
     "output_type": "stream",
     "text": [
      "(Epoch 65 / 100) Train_Loss: 132.294; Val_Loss: 157.946   Train_ACC: 4.860; Val_ACC: 13.704   Train_NMI: 13.523; Val_NMI: 46.755\n",
      "(Epoch 66 / 100) Train_Loss: 130.446; Val_Loss: 158.415   Train_ACC: 4.778; Val_ACC: 12.222   Train_NMI: 13.308; Val_NMI: 44.668\n",
      "(Epoch 67 / 100) Train_Loss: 129.525; Val_Loss: 156.963   Train_ACC: 4.613; Val_ACC: 12.222   Train_NMI: 12.457; Val_NMI: 46.604\n",
      "(Epoch 68 / 100) Train_Loss: 129.046; Val_Loss: 158.615   Train_ACC: 4.572; Val_ACC: 12.222   Train_NMI: 12.619; Val_NMI: 44.969\n",
      "(Epoch 69 / 100) Train_Loss: 128.461; Val_Loss: 156.892   Train_ACC: 4.572; Val_ACC: 11.852   Train_NMI: 12.325; Val_NMI: 46.681\n",
      "(Epoch 70 / 100) Train_Loss: 127.376; Val_Loss: 158.597   Train_ACC: 4.489; Val_ACC: 12.593   Train_NMI: 12.514; Val_NMI: 45.446\n",
      "(Epoch 71 / 100) Train_Loss: 126.163; Val_Loss: 152.189   Train_ACC: 4.283; Val_ACC: 12.963   Train_NMI: 12.600; Val_NMI: 46.961\n",
      "(Epoch 72 / 100) Train_Loss: 126.412; Val_Loss: 156.872   Train_ACC: 4.901; Val_ACC: 14.074   Train_NMI: 12.842; Val_NMI: 48.306\n",
      "(Epoch 73 / 100) Train_Loss: 125.335; Val_Loss: 157.112   Train_ACC: 4.901; Val_ACC: 13.704   Train_NMI: 13.771; Val_NMI: 47.124\n",
      "(Epoch 74 / 100) Train_Loss: 125.825; Val_Loss: 157.399   Train_ACC: 4.572; Val_ACC: 12.593   Train_NMI: 12.970; Val_NMI: 46.740\n",
      "(Epoch 75 / 100) Train_Loss: 124.968; Val_Loss: 154.459   Train_ACC: 4.695; Val_ACC: 13.333   Train_NMI: 13.023; Val_NMI: 46.670\n",
      "(Epoch 76 / 100) Train_Loss: 123.767; Val_Loss: 158.594   Train_ACC: 4.613; Val_ACC: 13.333   Train_NMI: 12.733; Val_NMI: 47.174\n",
      "(Epoch 77 / 100) Train_Loss: 122.639; Val_Loss: 152.486   Train_ACC: 4.572; Val_ACC: 11.852   Train_NMI: 12.541; Val_NMI: 46.687\n",
      "(Epoch 78 / 100) Train_Loss: 121.738; Val_Loss: 153.705   Train_ACC: 4.819; Val_ACC: 12.222   Train_NMI: 13.325; Val_NMI: 46.783\n",
      "(Epoch 79 / 100) Train_Loss: 121.238; Val_Loss: 155.409   Train_ACC: 4.407; Val_ACC: 14.074   Train_NMI: 12.429; Val_NMI: 47.667\n",
      "(Epoch 80 / 100) Train_Loss: 120.172; Val_Loss: 161.085   Train_ACC: 4.819; Val_ACC: 13.333   Train_NMI: 13.208; Val_NMI: 48.118\n",
      "(Epoch 81 / 100) Train_Loss: 120.262; Val_Loss: 155.864   Train_ACC: 4.778; Val_ACC: 15.556   Train_NMI: 13.466; Val_NMI: 48.581\n",
      "(Epoch 82 / 100) Train_Loss: 120.391; Val_Loss: 154.920   Train_ACC: 4.901; Val_ACC: 14.074   Train_NMI: 14.431; Val_NMI: 50.311\n",
      "(Epoch 83 / 100) Train_Loss: 118.495; Val_Loss: 156.345   Train_ACC: 4.695; Val_ACC: 13.704   Train_NMI: 13.353; Val_NMI: 47.108\n",
      "(Epoch 84 / 100) Train_Loss: 117.396; Val_Loss: 157.150   Train_ACC: 4.695; Val_ACC: 12.593   Train_NMI: 12.830; Val_NMI: 46.547\n",
      "(Epoch 85 / 100) Train_Loss: 118.121; Val_Loss: 159.818   Train_ACC: 4.778; Val_ACC: 14.074   Train_NMI: 13.808; Val_NMI: 48.414\n",
      "(Epoch 86 / 100) Train_Loss: 117.540; Val_Loss: 157.956   Train_ACC: 4.572; Val_ACC: 12.222   Train_NMI: 13.490; Val_NMI: 46.560\n",
      "(Epoch 87 / 100) Train_Loss: 116.434; Val_Loss: 152.459   Train_ACC: 4.654; Val_ACC: 14.444   Train_NMI: 13.362; Val_NMI: 49.513\n",
      "(Epoch 88 / 100) Train_Loss: 115.172; Val_Loss: 152.756   Train_ACC: 4.613; Val_ACC: 12.593   Train_NMI: 12.993; Val_NMI: 48.630\n",
      "(Epoch 89 / 100) Train_Loss: 115.124; Val_Loss: 162.527   Train_ACC: 4.448; Val_ACC: 11.111   Train_NMI: 11.873; Val_NMI: 45.476\n",
      "(Epoch 90 / 100) Train_Loss: 114.318; Val_Loss: 158.713   Train_ACC: 4.572; Val_ACC: 14.074   Train_NMI: 13.013; Val_NMI: 49.330\n",
      "(Epoch 91 / 100) Train_Loss: 113.536; Val_Loss: 162.760   Train_ACC: 5.025; Val_ACC: 13.704   Train_NMI: 14.569; Val_NMI: 48.449\n",
      "(Epoch 92 / 100) Train_Loss: 113.207; Val_Loss: 159.797   Train_ACC: 5.231; Val_ACC: 15.556   Train_NMI: 14.919; Val_NMI: 51.049\n",
      "(Epoch 93 / 100) Train_Loss: 112.859; Val_Loss: 157.789   Train_ACC: 5.272; Val_ACC: 14.444   Train_NMI: 14.842; Val_NMI: 50.958\n",
      "(Epoch 94 / 100) Train_Loss: 113.492; Val_Loss: 158.400   Train_ACC: 4.819; Val_ACC: 14.444   Train_NMI: 13.894; Val_NMI: 49.499\n",
      "(Epoch 95 / 100) Train_Loss: 112.142; Val_Loss: 153.962   Train_ACC: 5.189; Val_ACC: 15.926   Train_NMI: 14.554; Val_NMI: 49.400\n",
      "(Epoch 96 / 100) Train_Loss: 111.780; Val_Loss: 156.541   Train_ACC: 4.901; Val_ACC: 16.296   Train_NMI: 13.841; Val_NMI: 52.488\n",
      "(Epoch 97 / 100) Train_Loss: 111.412; Val_Loss: 155.116   Train_ACC: 4.819; Val_ACC: 14.074   Train_NMI: 14.072; Val_NMI: 50.172\n",
      "(Epoch 98 / 100) Train_Loss: 111.396; Val_Loss: 157.092   Train_ACC: 4.654; Val_ACC: 14.074   Train_NMI: 13.181; Val_NMI: 49.795\n",
      "(Epoch 99 / 100) Train_Loss: 110.175; Val_Loss: 161.440   Train_ACC: 4.613; Val_ACC: 14.815   Train_NMI: 13.337; Val_NMI: 49.513\n",
      "(Epoch 100 / 100) Train_Loss: 108.150; Val_Loss: 161.903   Train_ACC: 4.860; Val_ACC: 15.556   Train_NMI: 14.224; Val_NMI: 51.153\n"
     ]
    }
   ],
   "source": [
    "history_loss = gmvae.train(train_dl, valid_dl)"
   ]
  },
  {
   "cell_type": "code",
   "execution_count": 18,
   "metadata": {},
   "outputs": [],
   "source": [
    "torch.save(gmvae.network.state_dict(), 'smba_gmvae.pth')"
   ]
  },
  {
   "cell_type": "code",
   "execution_count": 19,
   "metadata": {},
   "outputs": [
    {
     "data": {
      "text/plain": [
       "<All keys matched successfully>"
      ]
     },
     "execution_count": 19,
     "metadata": {},
     "output_type": "execute_result"
    }
   ],
   "source": [
    "gmvae.network.load_state_dict(torch.load('smba_gmvae.pth'))"
   ]
  },
  {
   "cell_type": "markdown",
   "metadata": {
    "colab_type": "text",
    "id": "1bHWNxV-gAl2"
   },
   "source": [
    "## Image Reconstruction"
   ]
  },
  {
   "cell_type": "code",
   "execution_count": 20,
   "metadata": {
    "colab": {
     "base_uri": "https://localhost:8080/",
     "height": 160
    },
    "colab_type": "code",
    "id": "wd5jQFFHgCbD",
    "outputId": "8e1d4654-fb01-49dc-b512-e8e4bb259e0f"
   },
   "outputs": [],
   "source": [
    "original, reconstructed = gmvae.reconstruct_data(train_dl, 15)  "
   ]
  },
  {
   "cell_type": "code",
   "execution_count": 21,
   "metadata": {},
   "outputs": [],
   "source": [
    "original_int = original.reshape(15, 16, 16, 12).argmax(axis=-1)\n",
    "reconstructed_int = reconstructed.reshape(15, 16, 16, 12).argmax(axis=-1)"
   ]
  },
  {
   "cell_type": "code",
   "execution_count": 22,
   "metadata": {},
   "outputs": [],
   "source": [
    "def get_classes(chunks_int):\n",
    "    classes = []\n",
    "    for i in chunks_int:\n",
    "        if i.max() == 6:\n",
    "            classes.append('kia')\n",
    "        else:\n",
    "            classes.append('smba')\n",
    "    return np.array(classes)"
   ]
  },
  {
   "cell_type": "code",
   "execution_count": 23,
   "metadata": {},
   "outputs": [],
   "source": [
    "org_classes = get_classes(original_int)\n",
    "rec_classes = get_classes(reconstructed_int)\n",
    "assert np.sum(org_classes == rec_classes) == len(org_classes)"
   ]
  },
  {
   "cell_type": "code",
   "execution_count": 24,
   "metadata": {},
   "outputs": [],
   "source": [
    "def get_images(chunks_int):\n",
    "    images = []\n",
    "    for game, chunk in zip(get_classes(chunks_int), chunks_int):\n",
    "        images.append(vglc_with_path_encodings.array_to_image([chunk], game=game)[0])\n",
    "    return images"
   ]
  },
  {
   "cell_type": "code",
   "execution_count": 25,
   "metadata": {},
   "outputs": [
    {
     "data": {
      "text/plain": [
       "(15, 15)"
      ]
     },
     "execution_count": 25,
     "metadata": {},
     "output_type": "execute_result"
    }
   ],
   "source": [
    "org_images = get_images(original_int)\n",
    "rec_images = get_images(reconstructed_int)\n",
    "len(org_images), len(rec_images)"
   ]
  },
  {
   "cell_type": "code",
   "execution_count": 26,
   "metadata": {},
   "outputs": [
    {
     "data": {
      "image/png": "[encoded data removed]",
      "text/plain": [
       "<Figure size 1728x576 with 30 Axes>"
      ]
     },
     "metadata": {
      "needs_background": "light"
     },
     "output_type": "display_data"
    }
   ],
   "source": [
    "fig, axes = plt.subplots(nrows=3, ncols=10, figsize=(24, 8))\n",
    "axes = axes.flatten()\n",
    "nrows, ncols = 3, 10\n",
    "\n",
    "org_idxs = np.arange(0, 29, 2)\n",
    "rec_idxs = org_idxs + 1\n",
    "\n",
    "for idx in org_idxs:\n",
    "        \n",
    "    ax = axes[idx]\n",
    "\n",
    "    ax.imshow(np.asarray(org_images[idx // 2]))\n",
    "    ax.set_title(f'Org {idx // 2 + 1}')\n",
    "    \n",
    "    ax.axis('off')\n",
    "\n",
    "for idx in rec_idxs:\n",
    "        \n",
    "    ax = axes[idx]\n",
    "\n",
    "    ax.imshow(np.asarray(rec_images[idx // 2]))\n",
    "    ax.set_title(f'Rec {idx // 2 + 1}')\n",
    "\n",
    "    ax.axis('off')\n",
    "    \n",
    "plt.show()"
   ]
  },
  {
   "cell_type": "markdown",
   "metadata": {
    "colab_type": "text",
    "id": "CAyoGFFRgMgC"
   },
   "source": [
    "## Random Generation per Category"
   ]
  },
  {
   "cell_type": "code",
   "execution_count": 27,
   "metadata": {
    "colab": {
     "base_uri": "https://localhost:8080/",
     "height": 595
    },
    "colab_type": "code",
    "id": "xE84c3U2gLjA",
    "outputId": "cd52f356-e53a-4844-9db2-3723d15ddb00"
   },
   "outputs": [
    {
     "data": {
      "image/png": "[encoded data removed]",
      "text/plain": [
       "<Figure size 1728x1728 with 88 Axes>"
      ]
     },
     "metadata": {
      "needs_background": "light"
     },
     "output_type": "display_data"
    }
   ],
   "source": [
    "def display_random_generation(generated, num_classes, n=10):\n",
    "    plt.figure(figsize=[24,24])\n",
    "    for c in range(num_classes):\n",
    "        for i in range(n):\n",
    "            plt.subplot(num_classes, n, (c * n) + i + 1)\n",
    "            chunk_int = generated[(c * n) + i].reshape(16, 16, 12).argmax(axis=-1)\n",
    "            chunk_pix = vglc_with_path_encodings.array_to_image([chunk_int], game='smba')[0]\n",
    "            plt.imshow(chunk_pix)\n",
    "            plt.gray()\n",
    "            plt.axis('off')\n",
    "    plt.show()\n",
    "\n",
    "elem_per_category = 1\n",
    "generated = gmvae.random_generation(elem_per_category)\n",
    "display_random_generation(generated, args.num_classes, elem_per_category)"
   ]
  },
  {
   "cell_type": "code",
   "execution_count": 28,
   "metadata": {},
   "outputs": [],
   "source": [
    "elem_per_category = 10000 // num_components\n",
    "generated = gmvae.random_generation(elem_per_category)"
   ]
  },
  {
   "cell_type": "code",
   "execution_count": 29,
   "metadata": {},
   "outputs": [],
   "source": [
    "generated_int = generated.reshape(-1, 16, 16, 12).argmax(axis=-1)"
   ]
  },
  {
   "cell_type": "code",
   "execution_count": 30,
   "metadata": {},
   "outputs": [
    {
     "data": {
      "text/plain": [
       "(9944, 16, 16)"
      ]
     },
     "execution_count": 30,
     "metadata": {},
     "output_type": "execute_result"
    }
   ],
   "source": [
    "generated_int.shape"
   ]
  },
  {
   "cell_type": "code",
   "execution_count": 31,
   "metadata": {},
   "outputs": [],
   "source": [
    "# since this code chunk depends on random seed, it shouldn't be run again\n",
    "with open(f'../smba_generations/smba_gmvae_{num_components}.json', 'w+') as json_f:\n",
    "    json.dump(generated_int.tolist(), json_f)"
   ]
  },
  {
   "cell_type": "markdown",
   "metadata": {
    "colab_type": "text",
    "id": "-SbXR7FkhIcq"
   },
   "source": [
    "## Visualization of the feature latent space"
   ]
  },
  {
   "cell_type": "code",
   "execution_count": 32,
   "metadata": {
    "colab": {},
    "colab_type": "code",
    "id": "bTkEBA9JhQ2C"
   },
   "outputs": [],
   "source": [
    "# get feature representations\n",
    "test_features, test_labels = gmvae.latent_features(train_dl, True)"
   ]
  },
  {
   "cell_type": "code",
   "execution_count": 33,
   "metadata": {
    "colab": {},
    "colab_type": "code",
    "id": "LNmsz5rahZAY"
   },
   "outputs": [],
   "source": [
    "# import TSNE from scikit-learn library\n",
    "from sklearn.manifold import TSNE\n",
    "\n",
    "# reduce dimensionality to 2D, we consider a subset of data because TSNE\n",
    "# is a slow algorithm\n",
    "\n",
    "first_n = 1000\n",
    "tsne_features = TSNE(n_components=2).fit_transform(test_features[:first_n])"
   ]
  },
  {
   "cell_type": "code",
   "execution_count": 34,
   "metadata": {},
   "outputs": [],
   "source": [
    "test_labels_subset = test_labels[:first_n]"
   ]
  },
  {
   "cell_type": "code",
   "execution_count": 35,
   "metadata": {},
   "outputs": [],
   "source": [
    "X_, Y_ = np.s_[:,0], np.s_[:,1]"
   ]
  },
  {
   "cell_type": "code",
   "execution_count": 36,
   "metadata": {
    "colab": {
     "base_uri": "https://localhost:8080/",
     "height": 395
    },
    "colab_type": "code",
    "id": "wyTtDdwyha-L",
    "outputId": "350e806a-6dd3-47f2-bd91-444aaf61b3dd"
   },
   "outputs": [
    {
     "data": {
      "image/png": "[encoded data removed]",
      "text/plain": [
       "<Figure size 360x360 with 1 Axes>"
      ]
     },
     "metadata": {
      "needs_background": "light"
     },
     "output_type": "display_data"
    }
   ],
   "source": [
    "fig = plt.figure(figsize=(5, 5))\n",
    "\n",
    "plt.scatter(tsne_features[X_], tsne_features[Y_])\n",
    "\n",
    "plt.title('Projection from latent space to 2D')\n",
    "plt.show()"
   ]
  },
  {
   "cell_type": "markdown",
   "metadata": {},
   "source": []
  }
 ],
 "metadata": {
  "accelerator": "GPU",
  "colab": {
   "collapsed_sections": [],
   "include_colab_link": true,
   "name": "GMVAE_Pytorch.ipynb",
   "provenance": []
  },
  "kernelspec": {
   "display_name": "Python 3",
   "language": "python",
   "name": "python3"
  },
  "language_info": {
   "codemirror_mode": {
    "name": "ipython",
    "version": 3
   },
   "file_extension": ".py",
   "mimetype": "text/x-python",
   "name": "python",
   "nbconvert_exporter": "python",
   "pygments_lexer": "ipython3",
   "version": "3.7.6"
  },
  "toc": {
   "base_numbering": 1,
   "nav_menu": {},
   "number_sections": false,
   "sideBar": true,
   "skip_h1_title": false,
   "title_cell": "Table of Contents",
   "title_sidebar": "Contents",
   "toc_cell": false,
   "toc_position": {},
   "toc_section_display": true,
   "toc_window_display": false
  },
  "varInspector": {
   "cols": {
    "lenName": 16,
    "lenType": 16,
    "lenVar": 40
   },
   "kernels_config": {
    "python": {
     "delete_cmd_postfix": "",
     "delete_cmd_prefix": "del ",
     "library": "var_list.py",
     "varRefreshCmd": "print(var_dic_list())"
    },
    "r": {
     "delete_cmd_postfix": ") ",
     "delete_cmd_prefix": "rm(",
     "library": "var_list.r",
     "varRefreshCmd": "cat(var_dic_list()) "
    }
   },
   "types_to_exclude": [
    "module",
    "function",
    "builtin_function_or_method",
    "instance",
    "_Feature"
   ],
   "window_display": false
  }
 },
 "nbformat": 4,
 "nbformat_minor": 1
}
