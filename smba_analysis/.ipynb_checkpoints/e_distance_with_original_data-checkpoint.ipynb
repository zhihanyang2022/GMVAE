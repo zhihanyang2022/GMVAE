{
 "cells": [
  {
   "cell_type": "code",
   "execution_count": 146,
   "metadata": {},
   "outputs": [],
   "source": [
    "import os\n",
    "from functools import partial\n",
    "import json\n",
    "from tqdm import tqdm_notebook\n",
    "import numpy as np\n",
    "import pandas as pd\n",
    "import matplotlib.pyplot as plt\n",
    "import seaborn as sns\n",
    "import dcor\n",
    "\n",
    "import sys\n",
    "sys.path.append(\"/home/yangz2/projects/1906-pcgml/pcgml-gmmVae-exp/modules/\")\n",
    "\n",
    "from metrics import Metrics\n",
    "m = Metrics(game='smba')"
   ]
  },
  {
   "cell_type": "code",
   "execution_count": 147,
   "metadata": {},
   "outputs": [
    {
     "data": {
      "text/plain": [
       "(['smba_gmvae_8_10000.json',\n",
       "  'smba_vae_gaussian_loss_10000.json',\n",
       "  '.ipynb_checkpoints',\n",
       "  'smba_gmvae_8.json',\n",
       "  'smba_gmvae_28.json',\n",
       "  'smba_gmvae_68.json',\n",
       "  'smba_gmvae_1_10000.json',\n",
       "  'smba_gmvae_88.json',\n",
       "  'smba_gmvae_108.json',\n",
       "  'smba_vae_kld_loss_10000.json',\n",
       "  'smba_gmvae_28_10000.json',\n",
       "  'smba_gmvae_128.json',\n",
       "  'smba_vae_kld_loss_v2_10000.json',\n",
       "  'smbWithPath-allLevels-chunks-int-Copy1.json',\n",
       "  'smba_gmvae_1.json',\n",
       "  'smba_gmvae_48.json'],\n",
       " ['kia_gmms.json',\n",
       "  '.ipynb_checkpoints',\n",
       "  'smba_gmms_suboptim.json',\n",
       "  'kia_gmms_suboptim.json',\n",
       "  'smba_gens.json',\n",
       "  'smba_gmms.json',\n",
       "  'kia_gens.json'])"
      ]
     },
     "execution_count": 147,
     "metadata": {},
     "output_type": "execute_result"
    }
   ],
   "source": [
    "path_to_gens = \"../smba_generations\"\n",
    "path_to_gens_2 = \"/home/yangz2/projects/1906-pcgml/pcgml-gmmVae-exp/demos/generated_chunks\"\n",
    "os.listdir(path_to_gens), os.listdir(path_to_gens_2)"
   ]
  },
  {
   "cell_type": "code",
   "execution_count": 148,
   "metadata": {
    "code_folding": []
   },
   "outputs": [],
   "source": [
    "def load_json_as_array(json_fpath):\n",
    "    with open(json_fpath, \"r\") as json_f:\n",
    "        return np.array(json.load(json_f))"
   ]
  },
  {
   "cell_type": "code",
   "execution_count": 149,
   "metadata": {
    "code_folding": []
   },
   "outputs": [],
   "source": [
    "def get_metrics_from_chunks(chunks):\n",
    "    return m.compute_metrics_for_arrays(\n",
    "        arrays=chunks, \n",
    "        metrics_to_compute=['linearity', 'leniency', 'num_jumps', 'density', 'interestingness']\n",
    "    )"
   ]
  },
  {
   "cell_type": "markdown",
   "metadata": {},
   "source": [
    "Generations whose metrics have already been calculated don't need to be calculated again."
   ]
  },
  {
   "cell_type": "code",
   "execution_count": 170,
   "metadata": {},
   "outputs": [],
   "source": [
    "try:\n",
    "    with open('metrics_per_json.json', 'r') as json_f:\n",
    "        metrics_per_json = json.load(json_f)\n",
    "    finished_json_fnames = list(metrics_per_json.keys())\n",
    "except:\n",
    "    metrics_per_json = {}"
   ]
  },
  {
   "cell_type": "code",
   "execution_count": 171,
   "metadata": {},
   "outputs": [],
   "source": [
    "refresh = False\n",
    "if refresh:\n",
    "    metrics_per_json = {}\n",
    "    finished_json_fnames = []"
   ]
  },
  {
   "cell_type": "code",
   "execution_count": 172,
   "metadata": {},
   "outputs": [
    {
     "data": {
      "text/plain": [
       "['smba_gmvae_8_10000.json',\n",
       " 'smba_vae_gaussian_loss_10000.json',\n",
       " 'smba_gmvae_1_10000.json',\n",
       " 'smba_vae_kld_loss_10000.json',\n",
       " 'smba_gmvae_28_10000.json',\n",
       " 'smba_vae_kld_loss_v2_10000.json',\n",
       " 'smbWithPath-allLevels-chunks-int-Copy1.json',\n",
       " 'smba_gens.json']"
      ]
     },
     "execution_count": 172,
     "metadata": {},
     "output_type": "execute_result"
    }
   ],
   "source": [
    "finished_json_fnames"
   ]
  },
  {
   "cell_type": "code",
   "execution_count": 153,
   "metadata": {},
   "outputs": [
    {
     "data": {
      "application/vnd.jupyter.widget-view+json": {
       "model_id": "48e6b370824b42098cc34f163c1859a7",
       "version_major": 2,
       "version_minor": 0
      },
      "text/plain": [
       "HBox(children=(IntProgress(value=0, max=7), HTML(value='')))"
      ]
     },
     "metadata": {},
     "output_type": "display_data"
    },
    {
     "name": "stdout",
     "output_type": "stream",
     "text": [
      "\n"
     ]
    }
   ],
   "source": [
    "json_fnames = [fname for fname in os.listdir(path_to_gens) if fname.split('.')[-1] == 'json' and ('10000' in fname or 'smbWithPath' in fname)]\n",
    "\n",
    "for json_fname in tqdm_notebook(json_fnames):\n",
    "    \n",
    "    if json_fname not in finished_json_fnames:\n",
    "        \n",
    "        json_fpath = os.path.join(path_to_gens, json_fname)\n",
    "        chunks = load_json_as_array(json_fpath)\n",
    "        metrics_per_json[json_fname] = get_metrics_from_chunks(chunks)\n",
    "        \n",
    "json_fpath = os.path.join(path_to_gens_2, \"smba_gens.json\")\n",
    "chunks = load_json_as_array(json_fpath)\n",
    "metrics_per_json[\"smba_gens.json\"] = get_metrics_from_chunks(chunks)"
   ]
  },
  {
   "cell_type": "code",
   "execution_count": 154,
   "metadata": {},
   "outputs": [],
   "source": [
    "with open('metrics_per_json.json', 'w+') as json_f:\n",
    "    for k, v in metrics_per_json.items(): \n",
    "        metrics_per_json[k] = np.array(v).tolist()\n",
    "    json.dump(metrics_per_json, json_f)"
   ]
  },
  {
   "cell_type": "markdown",
   "metadata": {},
   "source": [
    "## Compare the distributions of metrics for different models"
   ]
  },
  {
   "cell_type": "code",
   "execution_count": 155,
   "metadata": {},
   "outputs": [],
   "source": [
    "metrics = ['linearity', 'leniency', 'num_jumps', 'density', 'interestingness']"
   ]
  },
  {
   "cell_type": "code",
   "execution_count": 156,
   "metadata": {},
   "outputs": [],
   "source": [
    "with open('metrics_per_json.json', 'r') as json_f:\n",
    "    \n",
    "    metrics_per_json_np = {}\n",
    "    for k, v in metrics_per_json.items():\n",
    "        metrics_per_json_np[k] = np.array(v).T\n",
    "        \n",
    "    metrics_array = []\n",
    "    for k, v in metrics_per_json_np.items():\n",
    "        metrics_array.append(np.hstack([v, np.array([k] * len(v)).reshape(-1, 1)]))\n",
    "        \n",
    "    metrics_array = np.vstack(metrics_array)"
   ]
  },
  {
   "cell_type": "code",
   "execution_count": 157,
   "metadata": {},
   "outputs": [],
   "source": [
    "df = pd.DataFrame(metrics_array)"
   ]
  },
  {
   "cell_type": "code",
   "execution_count": 158,
   "metadata": {},
   "outputs": [],
   "source": [
    "df.columns = metrics + [\"components\"]"
   ]
  },
  {
   "cell_type": "code",
   "execution_count": 159,
   "metadata": {},
   "outputs": [],
   "source": [
    "replace_dict = {\n",
    "    'smbWithPath-allLevels-chunks-int-Copy1.json' : 'Training data',\n",
    "    'smba_gens.json' : 'VAE, KLD loss / 64, 10000 epochs',\n",
    "    'smba_vae_kld_loss_10000.json' : 'VAE, 2 * KLD loss / 64, 10000 epochs',\n",
    "    'smba_vae_kld_loss_v2_10000.json' : 'VAE, 2 * KLD loss, 10000 epochs',\n",
    "    'smba_vae_gaussian_loss_10000.json' : 'VAE, Gaussian loss, 10000 epochs',\n",
    "    'smba_gmvae_1_10000.json' : 'GM-VAE, 1 component, 10000 epochs',\n",
    "    'smba_gmvae_8_10000.json' : 'GM-VAE, 8 components, 10000 epochs',\n",
    "    'smba_gmvae_28_10000.json' : 'GM-VAE, 28 components, 10000 epochs'\n",
    "}"
   ]
  },
  {
   "cell_type": "code",
   "execution_count": 160,
   "metadata": {},
   "outputs": [],
   "source": [
    "df = df.replace(replace_dict)"
   ]
  },
  {
   "cell_type": "code",
   "execution_count": 161,
   "metadata": {},
   "outputs": [
    {
     "data": {
      "text/html": [
       "<div>\n",
       "<style scoped>\n",
       "    .dataframe tbody tr th:only-of-type {\n",
       "        vertical-align: middle;\n",
       "    }\n",
       "\n",
       "    .dataframe tbody tr th {\n",
       "        vertical-align: top;\n",
       "    }\n",
       "\n",
       "    .dataframe thead th {\n",
       "        text-align: right;\n",
       "    }\n",
       "</style>\n",
       "<table border=\"1\" class=\"dataframe\">\n",
       "  <thead>\n",
       "    <tr style=\"text-align: right;\">\n",
       "      <th></th>\n",
       "      <th>linearity</th>\n",
       "      <th>leniency</th>\n",
       "      <th>num_jumps</th>\n",
       "      <th>density</th>\n",
       "      <th>interestingness</th>\n",
       "      <th>components</th>\n",
       "    </tr>\n",
       "  </thead>\n",
       "  <tbody>\n",
       "    <tr>\n",
       "      <th>0</th>\n",
       "      <td>4.293841911764705</td>\n",
       "      <td>2.0</td>\n",
       "      <td>2.0</td>\n",
       "      <td>18.75</td>\n",
       "      <td>0.0</td>\n",
       "      <td>GM-VAE, 8 components, 10000 epochs</td>\n",
       "    </tr>\n",
       "    <tr>\n",
       "      <th>1</th>\n",
       "      <td>4.923529411764704</td>\n",
       "      <td>1.0</td>\n",
       "      <td>1.0</td>\n",
       "      <td>22.65625</td>\n",
       "      <td>0.0</td>\n",
       "      <td>GM-VAE, 8 components, 10000 epochs</td>\n",
       "    </tr>\n",
       "    <tr>\n",
       "      <th>2</th>\n",
       "      <td>2.2939338235294113</td>\n",
       "      <td>-1.0</td>\n",
       "      <td>1.0</td>\n",
       "      <td>10.15625</td>\n",
       "      <td>2.0</td>\n",
       "      <td>GM-VAE, 8 components, 10000 epochs</td>\n",
       "    </tr>\n",
       "    <tr>\n",
       "      <th>3</th>\n",
       "      <td>4.587591911764706</td>\n",
       "      <td>2.0</td>\n",
       "      <td>2.0</td>\n",
       "      <td>27.34375</td>\n",
       "      <td>0.0</td>\n",
       "      <td>GM-VAE, 8 components, 10000 epochs</td>\n",
       "    </tr>\n",
       "    <tr>\n",
       "      <th>4</th>\n",
       "      <td>8.201930147058825</td>\n",
       "      <td>2.0</td>\n",
       "      <td>2.0</td>\n",
       "      <td>29.6875</td>\n",
       "      <td>3.0</td>\n",
       "      <td>GM-VAE, 8 components, 10000 epochs</td>\n",
       "    </tr>\n",
       "    <tr>\n",
       "      <th>5</th>\n",
       "      <td>0.0</td>\n",
       "      <td>2.0</td>\n",
       "      <td>1.0</td>\n",
       "      <td>18.75</td>\n",
       "      <td>8.0</td>\n",
       "      <td>GM-VAE, 8 components, 10000 epochs</td>\n",
       "    </tr>\n",
       "    <tr>\n",
       "      <th>6</th>\n",
       "      <td>5.535110294117647</td>\n",
       "      <td>0.0</td>\n",
       "      <td>1.0</td>\n",
       "      <td>13.671875</td>\n",
       "      <td>1.0</td>\n",
       "      <td>GM-VAE, 8 components, 10000 epochs</td>\n",
       "    </tr>\n",
       "    <tr>\n",
       "      <th>7</th>\n",
       "      <td>2.7467830882352944</td>\n",
       "      <td>1.0</td>\n",
       "      <td>1.0</td>\n",
       "      <td>19.53125</td>\n",
       "      <td>0.0</td>\n",
       "      <td>GM-VAE, 8 components, 10000 epochs</td>\n",
       "    </tr>\n",
       "    <tr>\n",
       "      <th>8</th>\n",
       "      <td>8.269944852941176</td>\n",
       "      <td>2.0</td>\n",
       "      <td>0.0</td>\n",
       "      <td>27.734375</td>\n",
       "      <td>3.0</td>\n",
       "      <td>GM-VAE, 8 components, 10000 epochs</td>\n",
       "    </tr>\n",
       "    <tr>\n",
       "      <th>9</th>\n",
       "      <td>4.227297794117646</td>\n",
       "      <td>4.0</td>\n",
       "      <td>1.0</td>\n",
       "      <td>17.1875</td>\n",
       "      <td>4.0</td>\n",
       "      <td>GM-VAE, 8 components, 10000 epochs</td>\n",
       "    </tr>\n",
       "  </tbody>\n",
       "</table>\n",
       "</div>"
      ],
      "text/plain": [
       "            linearity leniency num_jumps    density interestingness  \\\n",
       "0   4.293841911764705      2.0       2.0      18.75             0.0   \n",
       "1   4.923529411764704      1.0       1.0   22.65625             0.0   \n",
       "2  2.2939338235294113     -1.0       1.0   10.15625             2.0   \n",
       "3   4.587591911764706      2.0       2.0   27.34375             0.0   \n",
       "4   8.201930147058825      2.0       2.0    29.6875             3.0   \n",
       "5                 0.0      2.0       1.0      18.75             8.0   \n",
       "6   5.535110294117647      0.0       1.0  13.671875             1.0   \n",
       "7  2.7467830882352944      1.0       1.0   19.53125             0.0   \n",
       "8   8.269944852941176      2.0       0.0  27.734375             3.0   \n",
       "9   4.227297794117646      4.0       1.0    17.1875             4.0   \n",
       "\n",
       "                           components  \n",
       "0  GM-VAE, 8 components, 10000 epochs  \n",
       "1  GM-VAE, 8 components, 10000 epochs  \n",
       "2  GM-VAE, 8 components, 10000 epochs  \n",
       "3  GM-VAE, 8 components, 10000 epochs  \n",
       "4  GM-VAE, 8 components, 10000 epochs  \n",
       "5  GM-VAE, 8 components, 10000 epochs  \n",
       "6  GM-VAE, 8 components, 10000 epochs  \n",
       "7  GM-VAE, 8 components, 10000 epochs  \n",
       "8  GM-VAE, 8 components, 10000 epochs  \n",
       "9  GM-VAE, 8 components, 10000 epochs  "
      ]
     },
     "execution_count": 161,
     "metadata": {},
     "output_type": "execute_result"
    }
   ],
   "source": [
    "df.head(10)"
   ]
  },
  {
   "cell_type": "code",
   "execution_count": 162,
   "metadata": {},
   "outputs": [],
   "source": [
    "df[metrics] = df[metrics].astype(float)\n",
    "df['components'] = df['components'].astype('category')"
   ]
  },
  {
   "cell_type": "code",
   "execution_count": 163,
   "metadata": {},
   "outputs": [
    {
     "data": {
      "text/plain": [
       "linearity           float64\n",
       "leniency            float64\n",
       "num_jumps           float64\n",
       "density             float64\n",
       "interestingness     float64\n",
       "components         category\n",
       "dtype: object"
      ]
     },
     "execution_count": 163,
     "metadata": {},
     "output_type": "execute_result"
    }
   ],
   "source": [
    "df.dtypes"
   ]
  },
  {
   "cell_type": "code",
   "execution_count": 164,
   "metadata": {},
   "outputs": [],
   "source": [
    "def get_energy_distance(array, metric:str):\n",
    "    return dcor.energy_distance(df.loc[df['components'] == 'Training data'][metric], array)"
   ]
  },
  {
   "cell_type": "code",
   "execution_count": 165,
   "metadata": {},
   "outputs": [],
   "source": [
    "# interestingness_edist = df.groupby('components').interestingness.agg(partial(get_energy_distance, metric='interestingness'))\n",
    "# interestingness_edist.to_json('interestingness_edist.json')"
   ]
  },
  {
   "cell_type": "code",
   "execution_count": 166,
   "metadata": {},
   "outputs": [],
   "source": [
    "interestingness_edist = pd.read_json('interestingness_edist.json', typ='series')"
   ]
  },
  {
   "cell_type": "code",
   "execution_count": 167,
   "metadata": {},
   "outputs": [],
   "source": [
    "# density_edist = df.groupby('components').density.agg(partial(get_energy_distance, metric='density'))\n",
    "# density_edist.to_json('density_edist.json')"
   ]
  },
  {
   "cell_type": "code",
   "execution_count": 168,
   "metadata": {},
   "outputs": [],
   "source": [
    "density_edist = pd.read_json('density_edist.json', typ='series')"
   ]
  },
  {
   "cell_type": "code",
   "execution_count": 174,
   "metadata": {},
   "outputs": [
    {
     "data": {
      "text/plain": [
       "Training data                           0.000000\n",
       "VAE, KLD loss / 64, 10000 epochs        1.422654\n",
       "VAE, 2 * KLD loss / 64, 10000 epochs    0.692869\n",
       "VAE, 2 * KLD loss, 10000 epochs         0.050697\n",
       "VAE, Gaussian loss, 10000 epochs        0.007101\n",
       "GM-VAE, 1 component, 10000 epochs       0.055183\n",
       "GM-VAE, 8 components, 10000 epochs      0.160777\n",
       "GM-VAE, 28 components, 10000 epochs     0.171483\n",
       "dtype: float64"
      ]
     },
     "execution_count": 174,
     "metadata": {},
     "output_type": "execute_result"
    }
   ],
   "source": [
    "interestingness_edist[list(replace_dict.values())]"
   ]
  },
  {
   "cell_type": "code",
   "execution_count": 178,
   "metadata": {},
   "outputs": [
    {
     "data": {
      "image/png": "[encoded data removed]",
      "text/plain": [
       "<Figure size 864x720 with 4 Axes>"
      ]
     },
     "metadata": {
      "needs_background": "light"
     },
     "output_type": "display_data"
    }
   ],
   "source": [
    "fig = plt.figure(figsize=(12, 10))\n",
    "\n",
    "fig.add_subplot(221)\n",
    "sns.boxplot(x=df.interestingness, y=df.components, order=list(replace_dict.values()), ax=plt.gca())\n",
    "plt.ylabel('Source of chunks'); plt.xlabel('Interestingness')\n",
    "\n",
    "fig.add_subplot(222)\n",
    "plt.barh(\n",
    "    list(reversed(list(replace_dict.values()))),\n",
    "    list(reversed(interestingness_edist[list(replace_dict.values())]))\n",
    ")\n",
    "plt.gca().get_yaxis().set_visible(False)\n",
    "plt.xlabel('E-distance with training data in terms of interestingness')\n",
    "\n",
    "fig.add_subplot(223)\n",
    "sns.boxplot(x=df.density, y=df.components, order=list(replace_dict.values()), ax=plt.gca())\n",
    "plt.ylabel('Source of chunks'); plt.xlabel('Density')\n",
    "\n",
    "fig.add_subplot(224)\n",
    "plt.barh(\n",
    "    list(reversed(list(replace_dict.values()))),\n",
    "    list(reversed(density_edist[list(replace_dict.values())]))\n",
    ")\n",
    "plt.gca().get_yaxis().set_visible(False)\n",
    "plt.xlabel('E-distance with training data in terms of density')\n",
    "\n",
    "plt.savefig('distributions_of_metrics_for_different_models.png')"
   ]
  },
  {
   "cell_type": "markdown",
   "metadata": {},
   "source": [
    "## Compute 95% boostrap confidence interval for each distance"
   ]
  },
  {
   "cell_type": "code",
   "execution_count": 55,
   "metadata": {
    "code_folding": []
   },
   "outputs": [],
   "source": [
    "def bootstrap_ci(org_mets, gen_mets, confidence_level=0.95, num_bootstraps=10):\n",
    "    \n",
    "    # org_mets and gen_mets are of shape (num_chunks, num_metrics)\n",
    "    \n",
    "    num_org = len(org_mets)\n",
    "    num_gen = len(gen_mets)\n",
    "    \n",
    "    e_distances = []\n",
    "    \n",
    "    for i in tqdm_notebook(np.arange(num_bootstraps)):\n",
    "    \n",
    "        random_idxs_org = np.random.randint(num_org, size=num_org)\n",
    "        random_idxs_gen = np.random.randint(num_gen, size=num_gen)\n",
    "    \n",
    "        org_mets_samp = org_mets[random_idxs_org]\n",
    "        gen_mets_samp = gen_mets[random_idxs_gen]\n",
    "        \n",
    "        e_distances.append(dcor.energy_distance(org_mets_samp, gen_mets_samp))\n",
    "        \n",
    "    ordered = sorted(e_distances)\n",
    "    lower = np.percentile(ordered, (1-confidence_level)/2 * 100)\n",
    "    upper = np.percentile(ordered, (confidence_level+((1-confidence_level)/2)) * 100)\n",
    "\n",
    "    return lower, upper"
   ]
  },
  {
   "cell_type": "code",
   "execution_count": 56,
   "metadata": {
    "collapsed": true
   },
   "outputs": [
    {
     "name": "stdout",
     "output_type": "stream",
     "text": [
      "\n"
     ]
    },
    {
     "data": {
      "application/vnd.jupyter.widget-view+json": {
       "model_id": "c78e1825ef5744c1a9d3cde0f233985c",
       "version_major": 2,
       "version_minor": 0
      },
      "text/plain": [
       "HBox(children=(IntProgress(value=0, max=9), HTML(value='')))"
      ]
     },
     "metadata": {},
     "output_type": "display_data"
    },
    {
     "data": {
      "application/vnd.jupyter.widget-view+json": {
       "model_id": "1da2a4f2d2964344b87c7de654856c4a",
       "version_major": 2,
       "version_minor": 0
      },
      "text/plain": [
       "HBox(children=(IntProgress(value=0, max=10), HTML(value='')))"
      ]
     },
     "metadata": {},
     "output_type": "display_data"
    },
    {
     "name": "stdout",
     "output_type": "stream",
     "text": [
      "\n"
     ]
    },
    {
     "data": {
      "application/vnd.jupyter.widget-view+json": {
       "model_id": "cf9ba18c7f0b44a6899a293ae2e8c394",
       "version_major": 2,
       "version_minor": 0
      },
      "text/plain": [
       "HBox(children=(IntProgress(value=0, max=10), HTML(value='')))"
      ]
     },
     "metadata": {},
     "output_type": "display_data"
    },
    {
     "name": "stdout",
     "output_type": "stream",
     "text": [
      "\n"
     ]
    },
    {
     "data": {
      "application/vnd.jupyter.widget-view+json": {
       "model_id": "771e67599a2c450bad89e3bf6ed930c3",
       "version_major": 2,
       "version_minor": 0
      },
      "text/plain": [
       "HBox(children=(IntProgress(value=0, max=10), HTML(value='')))"
      ]
     },
     "metadata": {},
     "output_type": "display_data"
    },
    {
     "name": "stdout",
     "output_type": "stream",
     "text": [
      "\n"
     ]
    },
    {
     "data": {
      "application/vnd.jupyter.widget-view+json": {
       "model_id": "5db787a1877248b78258edcde917d2b4",
       "version_major": 2,
       "version_minor": 0
      },
      "text/plain": [
       "HBox(children=(IntProgress(value=0, max=10), HTML(value='')))"
      ]
     },
     "metadata": {},
     "output_type": "display_data"
    },
    {
     "name": "stdout",
     "output_type": "stream",
     "text": [
      "\n"
     ]
    },
    {
     "data": {
      "application/vnd.jupyter.widget-view+json": {
       "model_id": "af3b40ed19a64a22b666ea5013218630",
       "version_major": 2,
       "version_minor": 0
      },
      "text/plain": [
       "HBox(children=(IntProgress(value=0, max=10), HTML(value='')))"
      ]
     },
     "metadata": {},
     "output_type": "display_data"
    },
    {
     "name": "stdout",
     "output_type": "stream",
     "text": [
      "\n"
     ]
    },
    {
     "data": {
      "application/vnd.jupyter.widget-view+json": {
       "model_id": "18a807e14d2d4b28855e15db22cd7a90",
       "version_major": 2,
       "version_minor": 0
      },
      "text/plain": [
       "HBox(children=(IntProgress(value=0, max=10), HTML(value='')))"
      ]
     },
     "metadata": {},
     "output_type": "display_data"
    },
    {
     "name": "stdout",
     "output_type": "stream",
     "text": [
      "\n"
     ]
    },
    {
     "data": {
      "application/vnd.jupyter.widget-view+json": {
       "model_id": "2ed3c4997d004496b6bbb0cdf60ba463",
       "version_major": 2,
       "version_minor": 0
      },
      "text/plain": [
       "HBox(children=(IntProgress(value=0, max=10), HTML(value='')))"
      ]
     },
     "metadata": {},
     "output_type": "display_data"
    },
    {
     "name": "stdout",
     "output_type": "stream",
     "text": [
      "\n"
     ]
    },
    {
     "data": {
      "application/vnd.jupyter.widget-view+json": {
       "model_id": "1a5ad1a2b80440d0b1b4829c5e2d42c1",
       "version_major": 2,
       "version_minor": 0
      },
      "text/plain": [
       "HBox(children=(IntProgress(value=0, max=10), HTML(value='')))"
      ]
     },
     "metadata": {},
     "output_type": "display_data"
    },
    {
     "name": "stdout",
     "output_type": "stream",
     "text": [
      "\n"
     ]
    },
    {
     "data": {
      "application/vnd.jupyter.widget-view+json": {
       "model_id": "4f778258f44945098f406111c774a720",
       "version_major": 2,
       "version_minor": 0
      },
      "text/plain": [
       "HBox(children=(IntProgress(value=0, max=10), HTML(value='')))"
      ]
     },
     "metadata": {},
     "output_type": "display_data"
    },
    {
     "name": "stdout",
     "output_type": "stream",
     "text": [
      "\n",
      "\n"
     ]
    }
   ],
   "source": [
    "org_idx = 6\n",
    "org_mets = metrics_per_json_np[org_idx]\n",
    "lowers = []\n",
    "uppers = []\n",
    "for mets in tqdm_notebook(metrics_per_json_np):\n",
    "    lower, upper = bootstrap_ci(org_mets.T, mets.T)\n",
    "    lowers.append(lower)\n",
    "    uppers.append(upper)"
   ]
  },
  {
   "cell_type": "code",
   "execution_count": 75,
   "metadata": {},
   "outputs": [],
   "source": [
    "with open(\"lowers.json\", \"w+\") as json_f:\n",
    "    json.dump(lowers, json_f)"
   ]
  },
  {
   "cell_type": "code",
   "execution_count": 76,
   "metadata": {},
   "outputs": [],
   "source": [
    "with open(\"uppers.json\", \"w+\") as json_f:\n",
    "    json.dump(uppers, json_f)"
   ]
  },
  {
   "cell_type": "code",
   "execution_count": 7,
   "metadata": {},
   "outputs": [],
   "source": [
    "with open(\"lowers.json\", \"r\") as json_f:\n",
    "    lowers = json.load(json_f)"
   ]
  },
  {
   "cell_type": "code",
   "execution_count": 8,
   "metadata": {},
   "outputs": [],
   "source": [
    "with open(\"uppers.json\", \"r\") as json_f:\n",
    "    uppers = json.load(json_f)"
   ]
  },
  {
   "cell_type": "markdown",
   "metadata": {},
   "source": [
    "## Compute distances"
   ]
  },
  {
   "cell_type": "code",
   "execution_count": 9,
   "metadata": {
    "collapsed": true
   },
   "outputs": [
    {
     "ename": "KeyboardInterrupt",
     "evalue": "",
     "output_type": "error",
     "traceback": [
      "\u001b[0;31m---------------------------------------------------------------------------\u001b[0m",
      "\u001b[0;31mKeyboardInterrupt\u001b[0m                         Traceback (most recent call last)",
      "\u001b[0;32m<ipython-input-9-2687e9bb0d7b>\u001b[0m in \u001b[0;36m<module>\u001b[0;34m\u001b[0m\n\u001b[1;32m      3\u001b[0m \u001b[0me_distances\u001b[0m \u001b[0;34m=\u001b[0m \u001b[0;34m[\u001b[0m\u001b[0;34m]\u001b[0m\u001b[0;34m\u001b[0m\u001b[0;34m\u001b[0m\u001b[0m\n\u001b[1;32m      4\u001b[0m \u001b[0;32mfor\u001b[0m \u001b[0mi\u001b[0m\u001b[0;34m,\u001b[0m \u001b[0mmets\u001b[0m \u001b[0;32min\u001b[0m \u001b[0menumerate\u001b[0m\u001b[0;34m(\u001b[0m\u001b[0mmetrics_per_json_np\u001b[0m\u001b[0;34m)\u001b[0m\u001b[0;34m:\u001b[0m\u001b[0;34m\u001b[0m\u001b[0;34m\u001b[0m\u001b[0m\n\u001b[0;32m----> 5\u001b[0;31m     \u001b[0me_distances\u001b[0m\u001b[0;34m.\u001b[0m\u001b[0mappend\u001b[0m\u001b[0;34m(\u001b[0m\u001b[0mdcor\u001b[0m\u001b[0;34m.\u001b[0m\u001b[0menergy_distance\u001b[0m\u001b[0;34m(\u001b[0m\u001b[0morg_mets\u001b[0m\u001b[0;34m.\u001b[0m\u001b[0mT\u001b[0m\u001b[0;34m,\u001b[0m \u001b[0mmets\u001b[0m\u001b[0;34m.\u001b[0m\u001b[0mT\u001b[0m\u001b[0;34m)\u001b[0m\u001b[0;34m)\u001b[0m\u001b[0;34m\u001b[0m\u001b[0;34m\u001b[0m\u001b[0m\n\u001b[0m",
      "\u001b[0;32m~/anaconda3/envs/deep_learning/lib/python3.7/site-packages/dcor/_energy.py\u001b[0m in \u001b[0;36menergy_distance\u001b[0;34m(x, y, **kwargs)\u001b[0m\n\u001b[1;32m    105\u001b[0m \u001b[0;34m\u001b[0m\u001b[0m\n\u001b[1;32m    106\u001b[0m     \"\"\"\n\u001b[0;32m--> 107\u001b[0;31m     \u001b[0;32mreturn\u001b[0m \u001b[0m_energy_distance_imp\u001b[0m\u001b[0;34m(\u001b[0m\u001b[0mx\u001b[0m\u001b[0;34m,\u001b[0m \u001b[0my\u001b[0m\u001b[0;34m,\u001b[0m \u001b[0;34m**\u001b[0m\u001b[0mkwargs\u001b[0m\u001b[0;34m)\u001b[0m\u001b[0;34m\u001b[0m\u001b[0;34m\u001b[0m\u001b[0m\n\u001b[0m",
      "\u001b[0;32m~/anaconda3/envs/deep_learning/lib/python3.7/site-packages/dcor/_energy.py\u001b[0m in \u001b[0;36m_energy_distance_imp\u001b[0;34m(x, y, exponent)\u001b[0m\n\u001b[1;32m     43\u001b[0m \u001b[0;34m\u001b[0m\u001b[0m\n\u001b[1;32m     44\u001b[0m     \u001b[0mdistance_xx\u001b[0m \u001b[0;34m=\u001b[0m \u001b[0mdistances\u001b[0m\u001b[0;34m.\u001b[0m\u001b[0mpairwise_distances\u001b[0m\u001b[0;34m(\u001b[0m\u001b[0mx\u001b[0m\u001b[0;34m,\u001b[0m \u001b[0mexponent\u001b[0m\u001b[0;34m=\u001b[0m\u001b[0mexponent\u001b[0m\u001b[0;34m)\u001b[0m\u001b[0;34m\u001b[0m\u001b[0;34m\u001b[0m\u001b[0m\n\u001b[0;32m---> 45\u001b[0;31m     \u001b[0mdistance_yy\u001b[0m \u001b[0;34m=\u001b[0m \u001b[0mdistances\u001b[0m\u001b[0;34m.\u001b[0m\u001b[0mpairwise_distances\u001b[0m\u001b[0;34m(\u001b[0m\u001b[0my\u001b[0m\u001b[0;34m,\u001b[0m \u001b[0mexponent\u001b[0m\u001b[0;34m=\u001b[0m\u001b[0mexponent\u001b[0m\u001b[0;34m)\u001b[0m\u001b[0;34m\u001b[0m\u001b[0;34m\u001b[0m\u001b[0m\n\u001b[0m\u001b[1;32m     46\u001b[0m     \u001b[0mdistance_xy\u001b[0m \u001b[0;34m=\u001b[0m \u001b[0mdistances\u001b[0m\u001b[0;34m.\u001b[0m\u001b[0mpairwise_distances\u001b[0m\u001b[0;34m(\u001b[0m\u001b[0mx\u001b[0m\u001b[0;34m,\u001b[0m \u001b[0my\u001b[0m\u001b[0;34m,\u001b[0m \u001b[0mexponent\u001b[0m\u001b[0;34m=\u001b[0m\u001b[0mexponent\u001b[0m\u001b[0;34m)\u001b[0m\u001b[0;34m\u001b[0m\u001b[0;34m\u001b[0m\u001b[0m\n\u001b[1;32m     47\u001b[0m \u001b[0;34m\u001b[0m\u001b[0m\n",
      "\u001b[0;32m~/anaconda3/envs/deep_learning/lib/python3.7/site-packages/dcor/distances.py\u001b[0m in \u001b[0;36mpairwise_distances\u001b[0;34m(x, y, **kwargs)\u001b[0m\n\u001b[1;32m    144\u001b[0m \u001b[0;34m\u001b[0m\u001b[0m\n\u001b[1;32m    145\u001b[0m     \u001b[0;32mif\u001b[0m \u001b[0my\u001b[0m \u001b[0;32mis\u001b[0m \u001b[0;32mNone\u001b[0m \u001b[0;32mor\u001b[0m \u001b[0my\u001b[0m \u001b[0;32mis\u001b[0m \u001b[0mx\u001b[0m\u001b[0;34m:\u001b[0m\u001b[0;34m\u001b[0m\u001b[0;34m\u001b[0m\u001b[0m\n\u001b[0;32m--> 146\u001b[0;31m         \u001b[0;32mreturn\u001b[0m \u001b[0m_pdist\u001b[0m\u001b[0;34m(\u001b[0m\u001b[0mx\u001b[0m\u001b[0;34m,\u001b[0m \u001b[0;34m**\u001b[0m\u001b[0mkwargs\u001b[0m\u001b[0;34m)\u001b[0m\u001b[0;34m\u001b[0m\u001b[0;34m\u001b[0m\u001b[0m\n\u001b[0m\u001b[1;32m    147\u001b[0m     \u001b[0;32melse\u001b[0m\u001b[0;34m:\u001b[0m\u001b[0;34m\u001b[0m\u001b[0;34m\u001b[0m\u001b[0m\n\u001b[1;32m    148\u001b[0m         \u001b[0my\u001b[0m \u001b[0;34m=\u001b[0m \u001b[0m_transform_to_2d\u001b[0m\u001b[0;34m(\u001b[0m\u001b[0my\u001b[0m\u001b[0;34m)\u001b[0m\u001b[0;34m\u001b[0m\u001b[0;34m\u001b[0m\u001b[0m\n",
      "\u001b[0;32m~/anaconda3/envs/deep_learning/lib/python3.7/site-packages/dcor/distances.py\u001b[0m in \u001b[0;36m_pdist\u001b[0;34m(x, exponent)\u001b[0m\n\u001b[1;32m     70\u001b[0m     \"\"\"\n\u001b[1;32m     71\u001b[0m     \u001b[0;32mif\u001b[0m \u001b[0m_can_be_double\u001b[0m\u001b[0;34m(\u001b[0m\u001b[0mx\u001b[0m\u001b[0;34m)\u001b[0m\u001b[0;34m:\u001b[0m\u001b[0;34m\u001b[0m\u001b[0;34m\u001b[0m\u001b[0m\n\u001b[0;32m---> 72\u001b[0;31m         \u001b[0;32mreturn\u001b[0m \u001b[0m_pdist_scipy\u001b[0m\u001b[0;34m(\u001b[0m\u001b[0mx\u001b[0m\u001b[0;34m,\u001b[0m \u001b[0mexponent\u001b[0m\u001b[0;34m)\u001b[0m\u001b[0;34m\u001b[0m\u001b[0;34m\u001b[0m\u001b[0m\n\u001b[0m\u001b[1;32m     73\u001b[0m     \u001b[0;32melse\u001b[0m\u001b[0;34m:\u001b[0m\u001b[0;34m\u001b[0m\u001b[0;34m\u001b[0m\u001b[0m\n\u001b[1;32m     74\u001b[0m         \u001b[0;32mreturn\u001b[0m \u001b[0m_cdist_naive\u001b[0m\u001b[0;34m(\u001b[0m\u001b[0mx\u001b[0m\u001b[0;34m,\u001b[0m \u001b[0mx\u001b[0m\u001b[0;34m,\u001b[0m \u001b[0mexponent\u001b[0m\u001b[0;34m)\u001b[0m\u001b[0;34m\u001b[0m\u001b[0;34m\u001b[0m\u001b[0m\n",
      "\u001b[0;32m~/anaconda3/envs/deep_learning/lib/python3.7/site-packages/dcor/distances.py\u001b[0m in \u001b[0;36m_pdist_scipy\u001b[0;34m(x, exponent)\u001b[0m\n\u001b[1;32m     36\u001b[0m         \u001b[0mmetric\u001b[0m \u001b[0;34m=\u001b[0m \u001b[0;34m'sqeuclidean'\u001b[0m\u001b[0;34m\u001b[0m\u001b[0;34m\u001b[0m\u001b[0m\n\u001b[1;32m     37\u001b[0m \u001b[0;34m\u001b[0m\u001b[0m\n\u001b[0;32m---> 38\u001b[0;31m     \u001b[0mdistances\u001b[0m \u001b[0;34m=\u001b[0m \u001b[0m_spatial\u001b[0m\u001b[0;34m.\u001b[0m\u001b[0mdistance\u001b[0m\u001b[0;34m.\u001b[0m\u001b[0mpdist\u001b[0m\u001b[0;34m(\u001b[0m\u001b[0mx\u001b[0m\u001b[0;34m,\u001b[0m \u001b[0mmetric\u001b[0m\u001b[0;34m=\u001b[0m\u001b[0mmetric\u001b[0m\u001b[0;34m)\u001b[0m\u001b[0;34m\u001b[0m\u001b[0;34m\u001b[0m\u001b[0m\n\u001b[0m\u001b[1;32m     39\u001b[0m     \u001b[0mdistances\u001b[0m \u001b[0;34m=\u001b[0m \u001b[0m_spatial\u001b[0m\u001b[0;34m.\u001b[0m\u001b[0mdistance\u001b[0m\u001b[0;34m.\u001b[0m\u001b[0msquareform\u001b[0m\u001b[0;34m(\u001b[0m\u001b[0mdistances\u001b[0m\u001b[0;34m)\u001b[0m\u001b[0;34m\u001b[0m\u001b[0;34m\u001b[0m\u001b[0m\n\u001b[1;32m     40\u001b[0m \u001b[0;34m\u001b[0m\u001b[0m\n",
      "\u001b[0;32m~/anaconda3/envs/deep_learning/lib/python3.7/site-packages/scipy/spatial/distance.py\u001b[0m in \u001b[0;36mpdist\u001b[0;34m(X, metric, *args, **kwargs)\u001b[0m\n\u001b[1;32m   2045\u001b[0m             pdist_fn = getattr(_distance_wrap,\n\u001b[1;32m   2046\u001b[0m                                \"pdist_%s_%s_wrap\" % (metric_name, typ))\n\u001b[0;32m-> 2047\u001b[0;31m             \u001b[0mpdist_fn\u001b[0m\u001b[0;34m(\u001b[0m\u001b[0mX\u001b[0m\u001b[0;34m,\u001b[0m \u001b[0mdm\u001b[0m\u001b[0;34m,\u001b[0m \u001b[0;34m**\u001b[0m\u001b[0mkwargs\u001b[0m\u001b[0;34m)\u001b[0m\u001b[0;34m\u001b[0m\u001b[0;34m\u001b[0m\u001b[0m\n\u001b[0m\u001b[1;32m   2048\u001b[0m             \u001b[0;32mreturn\u001b[0m \u001b[0mdm\u001b[0m\u001b[0;34m\u001b[0m\u001b[0;34m\u001b[0m\u001b[0m\n\u001b[1;32m   2049\u001b[0m \u001b[0;34m\u001b[0m\u001b[0m\n",
      "\u001b[0;31mKeyboardInterrupt\u001b[0m: "
     ]
    }
   ],
   "source": [
    "org_idx = 6\n",
    "org_mets = metrics_per_json_np[org_idx]\n",
    "e_distances = []\n",
    "for i, mets in enumerate(metrics_per_json_np):\n",
    "    e_distances.append(dcor.energy_distance(org_mets.T, mets.T))"
   ]
  },
  {
   "cell_type": "code",
   "execution_count": null,
   "metadata": {},
   "outputs": [],
   "source": [
    "with open(\"e_distances.json\", \"w+\") as json_f:\n",
    "    json.dump(e_distances, json_f)"
   ]
  },
  {
   "cell_type": "code",
   "execution_count": 10,
   "metadata": {},
   "outputs": [],
   "source": [
    "with open(\"e_distances.json\", \"r\") as json_f:\n",
    "    e_distances = json.load(json_f)"
   ]
  },
  {
   "cell_type": "code",
   "execution_count": 11,
   "metadata": {},
   "outputs": [],
   "source": [
    "num_components_array = [8, 28, 68, 88, 108, 128, 0, 1, 48]"
   ]
  },
  {
   "cell_type": "markdown",
   "metadata": {},
   "source": [
    "## Plot distances against number of components"
   ]
  },
  {
   "cell_type": "code",
   "execution_count": 14,
   "metadata": {
    "scrolled": true
   },
   "outputs": [
    {
     "data": {
      "image/png": "[encoded data removed]",
      "text/plain": [
       "<Figure size 432x432 with 1 Axes>"
      ]
     },
     "metadata": {
      "needs_background": "light"
     },
     "output_type": "display_data"
    }
   ],
   "source": [
    "plt.figure(figsize=(6, 6))\n",
    "\n",
    "plt.title('E-distances against number of components')\n",
    "\n",
    "plt.scatter(num_components_array, e_distances, marker=\"_\")\n",
    "plt.plot([0, 128], [0, 0], label='Zero distance')\n",
    "\n",
    "for x, y in zip(num_components_array, e_distances):\n",
    "    if x == 0:\n",
    "        plt.annotate(\"Original data with itself\", xy=(x, y-0.004))\n",
    "    else:\n",
    "        plt.annotate(f\"{x}\", xy=(x, y-0.006))\n",
    "\n",
    "# confidence bounds\n",
    "plt.scatter(num_components_array, lowers, marker='_')\n",
    "plt.scatter(num_components_array, uppers, marker='_')\n",
    "\n",
    "plt.xlabel('Number of components'); plt.ylabel('E-distance with training data')\n",
    "plt.legend(loc=\"upper right\")\n",
    "plt.grid()\n",
    "\n",
    "plt.show()"
   ]
  },
  {
   "cell_type": "code",
   "execution_count": null,
   "metadata": {},
   "outputs": [],
   "source": []
  },
  {
   "cell_type": "code",
   "execution_count": null,
   "metadata": {},
   "outputs": [],
   "source": []
  },
  {
   "cell_type": "code",
   "execution_count": null,
   "metadata": {},
   "outputs": [],
   "source": []
  }
 ],
 "metadata": {
  "kernelspec": {
   "display_name": "Python 3",
   "language": "python",
   "name": "python3"
  },
  "language_info": {
   "codemirror_mode": {
    "name": "ipython",
    "version": 3
   },
   "file_extension": ".py",
   "mimetype": "text/x-python",
   "name": "python",
   "nbconvert_exporter": "python",
   "pygments_lexer": "ipython3",
   "version": "3.7.6"
  },
  "toc": {
   "base_numbering": 1,
   "nav_menu": {},
   "number_sections": false,
   "sideBar": true,
   "skip_h1_title": false,
   "title_cell": "Table of Contents",
   "title_sidebar": "Contents",
   "toc_cell": false,
   "toc_position": {},
   "toc_section_display": true,
   "toc_window_display": false
  },
  "varInspector": {
   "cols": {
    "lenName": 16,
    "lenType": 16,
    "lenVar": 40
   },
   "kernels_config": {
    "python": {
     "delete_cmd_postfix": "",
     "delete_cmd_prefix": "del ",
     "library": "var_list.py",
     "varRefreshCmd": "print(var_dic_list())"
    },
    "r": {
     "delete_cmd_postfix": ") ",
     "delete_cmd_prefix": "rm(",
     "library": "var_list.r",
     "varRefreshCmd": "cat(var_dic_list()) "
    }
   },
   "types_to_exclude": [
    "module",
    "function",
    "builtin_function_or_method",
    "instance",
    "_Feature"
   ],
   "window_display": false
  }
 },
 "nbformat": 4,
 "nbformat_minor": 2
}
