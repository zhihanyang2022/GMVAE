{
 "cells": [
  {
   "cell_type": "code",
   "execution_count": 96,
   "metadata": {},
   "outputs": [],
   "source": [
    "import os\n",
    "import json\n",
    "from tqdm import tqdm_notebook\n",
    "import numpy as np\n",
    "import matplotlib.pyplot as plt\n",
    "import dcor\n",
    "\n",
    "import sys\n",
    "sys.path.append(\"/home/yangz2/projects/1906-pcgml/pcgml-gmmVae-exp/modules/\")\n",
    "\n",
    "from metrics import Metrics\n",
    "m = Metrics(game='smba')"
   ]
  },
  {
   "cell_type": "code",
   "execution_count": 97,
   "metadata": {},
   "outputs": [
    {
     "data": {
      "text/plain": [
       "['smba_gmvae_8.json',\n",
       " 'smba_gmvae_28.json',\n",
       " 'smba_gmvae_68.json',\n",
       " 'smba_gmvae_88.json',\n",
       " 'smba_gmvae_108.json',\n",
       " 'smba_gmvae_128.json',\n",
       " 'smbWithPath-allLevels-chunks-int-Copy1.json',\n",
       " 'smba_gmvae_1.json',\n",
       " 'smba_gmvae_48.json']"
      ]
     },
     "execution_count": 97,
     "metadata": {},
     "output_type": "execute_result"
    }
   ],
   "source": [
    "path_to_gens = \"../smba_generations\"\n",
    "os.listdir(path_to_gens)"
   ]
  },
  {
   "cell_type": "code",
   "execution_count": 98,
   "metadata": {},
   "outputs": [],
   "source": [
    "def load_json_as_array(json_fpath):\n",
    "    with open(json_fpath, \"r\") as json_f:\n",
    "        return np.array(json.load(json_f))"
   ]
  },
  {
   "cell_type": "code",
   "execution_count": 99,
   "metadata": {},
   "outputs": [],
   "source": [
    "def get_metrics_from_chunks(chunks):\n",
    "    return m.compute_metrics_for_arrays(\n",
    "        arrays=chunks, \n",
    "        metrics_to_compute=['linearity', 'leniency', 'num_jumps', 'density', 'interestingness']\n",
    "    )"
   ]
  },
  {
   "cell_type": "code",
   "execution_count": 100,
   "metadata": {},
   "outputs": [
    {
     "data": {
      "application/vnd.jupyter.widget-view+json": {
       "model_id": "3d31d62de9634cdb829d4685ea41d30b",
       "version_major": 2,
       "version_minor": 0
      },
      "text/plain": [
       "HBox(children=(IntProgress(value=0, max=9), HTML(value='')))"
      ]
     },
     "metadata": {},
     "output_type": "display_data"
    },
    {
     "name": "stdout",
     "output_type": "stream",
     "text": [
      "\n"
     ]
    }
   ],
   "source": [
    "metrics_per_json = []\n",
    "for json_fname in tqdm_notebook(os.listdir(path_to_gens)):\n",
    "    json_fpath = os.path.join(path_to_gens, json_fname)\n",
    "    chunks = load_json_as_array(json_fpath)\n",
    "    metrics_per_json.append(get_metrics_from_chunks(chunks))"
   ]
  },
  {
   "cell_type": "code",
   "execution_count": 101,
   "metadata": {},
   "outputs": [],
   "source": [
    "metrics_per_json_np = [np.array(i) for i in metrics_per_json]"
   ]
  },
  {
   "cell_type": "code",
   "execution_count": 102,
   "metadata": {},
   "outputs": [],
   "source": [
    "with open('metrics_per_json.json', 'w+') as json_f:\n",
    "    json.dump([i.tolist() for i in metrics_per_json_np], json_f)"
   ]
  },
  {
   "cell_type": "code",
   "execution_count": 103,
   "metadata": {},
   "outputs": [],
   "source": [
    "with open('metrics_per_json.json', 'r') as json_f:\n",
    "    metrics_per_json_np = [np.array(i) for i in json.load(json_f)]"
   ]
  },
  {
   "cell_type": "code",
   "execution_count": 104,
   "metadata": {},
   "outputs": [],
   "source": [
    "# make sure all metrics are on the same scale\n",
    "for i in metrics_per_json_np:\n",
    "    i -= i.mean(axis=1).reshape(-1, 1)\n",
    "    i /= i.std(axis=1).reshape(-1, 1)"
   ]
  },
  {
   "cell_type": "code",
   "execution_count": 105,
   "metadata": {},
   "outputs": [
    {
     "name": "stdout",
     "output_type": "stream",
     "text": [
      "[-5.68434189e-17  6.53699317e-17 -1.02318154e-16  1.36424205e-16\n",
      " -3.41060513e-17]\n",
      "[1. 1. 1. 1. 1.]\n",
      "[ 5.68661653e-17  1.13732331e-17 -1.50695338e-16  2.27464661e-17\n",
      " -1.13732331e-17]\n",
      "[1. 1. 1. 1. 1.]\n",
      "[ 5.68661653e-18  3.41196992e-17  5.68661653e-17 -1.42165413e-16\n",
      "  1.13732331e-17]\n",
      "[1. 1. 1. 1. 1.]\n",
      "[-1.14327069e-17  5.71635347e-18 -7.85998602e-18  1.62916074e-16\n",
      " -1.14327069e-17]\n",
      "[1. 1. 1. 1. 1.]\n",
      "[-1.37302944e-16 -1.71628680e-17  0.00000000e+00 -1.60186768e-16\n",
      "  1.71628680e-17]\n",
      "[1. 1. 1. 1. 1.]\n",
      "[-3.62957527e-17 -2.56205313e-17  1.02482125e-16  0.00000000e+00\n",
      " -9.25185854e-18]\n",
      "[1. 1. 1. 1. 1.]\n",
      "[-5.26718114e-17  0.00000000e+00  5.26718114e-17 -1.89618521e-16\n",
      " -3.42366774e-17]\n",
      "[1. 1. 1. 1. 1.]\n",
      "[-6.89226454e-17 -2.87769808e-17  1.13686838e-17 -8.70414851e-17\n",
      "  9.76996262e-17]\n",
      "[1. 1. 1. 1. 1.]\n",
      "[-2.70438942e-17  1.13869028e-17 -1.36642834e-16 -1.70803542e-16\n",
      " -3.13139827e-17]\n",
      "[1. 1. 1. 1. 1.]\n"
     ]
    }
   ],
   "source": [
    "for i in metrics_per_json_np:\n",
    "    print(i.mean(axis=1))\n",
    "    print(i.std(axis=1))"
   ]
  },
  {
   "cell_type": "code",
   "execution_count": 106,
   "metadata": {},
   "outputs": [],
   "source": [
    "org_idx = 6\n",
    "org_mets = metrics_per_json_np[org_idx]\n",
    "e_distances = []\n",
    "for i, mets in enumerate(metrics_per_json_np):\n",
    "    if (i != org_idx):\n",
    "        e_distances.append(dcor.energy_distance(org_mets.T, mets.T))"
   ]
  },
  {
   "cell_type": "code",
   "execution_count": 111,
   "metadata": {},
   "outputs": [
    {
     "data": {
      "text/plain": [
       "[0.05078401263852905,\n",
       " 0.0686465776595706,\n",
       " 0.11198868589141897,\n",
       " 0.09333824583125727,\n",
       " 0.0581212034446259,\n",
       " 0.07029160174213489,\n",
       " 0.07418419190912573,\n",
       " 0.07887983917107322]"
      ]
     },
     "execution_count": 111,
     "metadata": {},
     "output_type": "execute_result"
    }
   ],
   "source": [
    "num_components_array = [8, 28, 68, 88, 108, 128, 1, 48]\n",
    "e_distances"
   ]
  },
  {
   "cell_type": "code",
   "execution_count": 127,
   "metadata": {},
   "outputs": [
    {
     "data": {
      "image/png": "[encoded data removed]",
      "text/plain": [
       "<Figure size 504x504 with 1 Axes>"
      ]
     },
     "metadata": {
      "needs_background": "light"
     },
     "output_type": "display_data"
    }
   ],
   "source": [
    "plt.figure(figsize=(7, 7))\n",
    "plt.scatter(num_components_array, e_distances)\n",
    "plt.plot([0, 128], [0, 0], label='Zero distance with training data')\n",
    "for x, y in zip(num_components_array, e_distances):\n",
    "    plt.annotate(x, xy=(x, y-0.01))\n",
    "plt.xlabel('Number of components'); plt.ylabel('E-distance with training data')\n",
    "plt.legend()\n",
    "plt.grid()\n",
    "plt.show()"
   ]
  },
  {
   "cell_type": "markdown",
   "metadata": {},
   "source": [
    "TODO:\n",
    "- Construct bootsrap confidence intervals for the plot above\n",
    "- Train more epochs so GM-VAEs have more time to discover the structure\n",
    "- Train models from 1-10 components because maybe less components is more semantically meaningful and thus help with generation"
   ]
  },
  {
   "cell_type": "code",
   "execution_count": null,
   "metadata": {},
   "outputs": [],
   "source": []
  },
  {
   "cell_type": "code",
   "execution_count": null,
   "metadata": {},
   "outputs": [],
   "source": []
  },
  {
   "cell_type": "code",
   "execution_count": null,
   "metadata": {},
   "outputs": [],
   "source": []
  }
 ],
 "metadata": {
  "kernelspec": {
   "display_name": "Python 3",
   "language": "python",
   "name": "python3"
  },
  "language_info": {
   "codemirror_mode": {
    "name": "ipython",
    "version": 3
   },
   "file_extension": ".py",
   "mimetype": "text/x-python",
   "name": "python",
   "nbconvert_exporter": "python",
   "pygments_lexer": "ipython3",
   "version": "3.7.6"
  },
  "toc": {
   "base_numbering": 1,
   "nav_menu": {},
   "number_sections": true,
   "sideBar": true,
   "skip_h1_title": false,
   "title_cell": "Table of Contents",
   "title_sidebar": "Contents",
   "toc_cell": false,
   "toc_position": {},
   "toc_section_display": true,
   "toc_window_display": false
  },
  "varInspector": {
   "cols": {
    "lenName": 16,
    "lenType": 16,
    "lenVar": 40
   },
   "kernels_config": {
    "python": {
     "delete_cmd_postfix": "",
     "delete_cmd_prefix": "del ",
     "library": "var_list.py",
     "varRefreshCmd": "print(var_dic_list())"
    },
    "r": {
     "delete_cmd_postfix": ") ",
     "delete_cmd_prefix": "rm(",
     "library": "var_list.r",
     "varRefreshCmd": "cat(var_dic_list()) "
    }
   },
   "types_to_exclude": [
    "module",
    "function",
    "builtin_function_or_method",
    "instance",
    "_Feature"
   ],
   "window_display": false
  }
 },
 "nbformat": 4,
 "nbformat_minor": 2
}
