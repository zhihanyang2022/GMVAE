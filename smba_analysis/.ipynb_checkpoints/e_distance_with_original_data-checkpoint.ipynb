{
 "cells": [
  {
   "cell_type": "code",
   "execution_count": 1,
   "metadata": {},
   "outputs": [],
   "source": [
    "import os\n",
    "import json\n",
    "from tqdm import tqdm_notebook\n",
    "import numpy as np\n",
    "import matplotlib.pyplot as plt\n",
    "import dcor\n",
    "\n",
    "import sys\n",
    "sys.path.append(\"/home/yangz2/projects/1906-pcgml/pcgml-gmmVae-exp/modules/\")\n",
    "\n",
    "from metrics import Metrics\n",
    "m = Metrics(game='smba')"
   ]
  },
  {
   "cell_type": "code",
   "execution_count": 87,
   "metadata": {},
   "outputs": [
    {
     "data": {
      "text/plain": [
       "['smba_gmvae_8.json',\n",
       " 'smba_gmvae_28.json',\n",
       " 'smba_gmvae_68.json',\n",
       " 'smba_gmvae_88.json',\n",
       " 'smba_gmvae_108.json',\n",
       " 'smba_gmvae_128.json',\n",
       " 'smbWithPath-allLevels-chunks-int-Copy1.json',\n",
       " 'smba_gmvae_1.json',\n",
       " 'smba_gmvae_48.json']"
      ]
     },
     "execution_count": 87,
     "metadata": {},
     "output_type": "execute_result"
    }
   ],
   "source": [
    "path_to_gens = \"../smba_generations\"\n",
    "os.listdir(path_to_gens)"
   ]
  },
  {
   "cell_type": "code",
   "execution_count": 3,
   "metadata": {
    "code_folding": [
     0
    ]
   },
   "outputs": [],
   "source": [
    "def load_json_as_array(json_fpath):\n",
    "    with open(json_fpath, \"r\") as json_f:\n",
    "        return np.array(json.load(json_f))"
   ]
  },
  {
   "cell_type": "code",
   "execution_count": 4,
   "metadata": {
    "code_folding": [
     0
    ]
   },
   "outputs": [],
   "source": [
    "def get_metrics_from_chunks(chunks):\n",
    "    return m.compute_metrics_for_arrays(\n",
    "        arrays=chunks, \n",
    "        metrics_to_compute=['linearity', 'leniency', 'num_jumps', 'density', 'interestingness']\n",
    "    )"
   ]
  },
  {
   "cell_type": "code",
   "execution_count": 100,
   "metadata": {},
   "outputs": [
    {
     "data": {
      "application/vnd.jupyter.widget-view+json": {
       "model_id": "3d31d62de9634cdb829d4685ea41d30b",
       "version_major": 2,
       "version_minor": 0
      },
      "text/plain": [
       "HBox(children=(IntProgress(value=0, max=9), HTML(value='')))"
      ]
     },
     "metadata": {},
     "output_type": "display_data"
    },
    {
     "name": "stdout",
     "output_type": "stream",
     "text": [
      "\n"
     ]
    }
   ],
   "source": [
    "metrics_per_json = []\n",
    "for json_fname in tqdm_notebook(os.listdir(path_to_gens)):\n",
    "    json_fpath = os.path.join(path_to_gens, json_fname)\n",
    "    chunks = load_json_as_array(json_fpath)\n",
    "    metrics_per_json.append(get_metrics_from_chunks(chunks))"
   ]
  },
  {
   "cell_type": "code",
   "execution_count": 101,
   "metadata": {},
   "outputs": [],
   "source": [
    "metrics_per_json_np = [np.array(i) for i in metrics_per_json]"
   ]
  },
  {
   "cell_type": "code",
   "execution_count": 102,
   "metadata": {},
   "outputs": [],
   "source": [
    "with open('metrics_per_json.json', 'w+') as json_f:\n",
    "    json.dump([i.tolist() for i in metrics_per_json_np], json_f)"
   ]
  },
  {
   "cell_type": "code",
   "execution_count": 22,
   "metadata": {},
   "outputs": [],
   "source": [
    "with open('metrics_per_json.json', 'r') as json_f:\n",
    "    metrics_per_json_np = [np.array(i) for i in json.load(json_f)]"
   ]
  },
  {
   "cell_type": "code",
   "execution_count": 23,
   "metadata": {},
   "outputs": [],
   "source": [
    "# make sure all metrics are on the same scale\n",
    "for i in metrics_per_json_np:\n",
    "    i -= i.mean(axis=1).reshape(-1, 1)\n",
    "    i /= i.std(axis=1).reshape(-1, 1)"
   ]
  },
  {
   "cell_type": "markdown",
   "metadata": {},
   "source": [
    "## Compute 95% boostrap confidence interval for each distance"
   ]
  },
  {
   "cell_type": "code",
   "execution_count": 55,
   "metadata": {
    "code_folding": []
   },
   "outputs": [],
   "source": [
    "def bootstrap_ci(org_mets, gen_mets, confidence_level=0.95, num_bootstraps=10):\n",
    "    \n",
    "    # org_mets and gen_mets are of shape (num_chunks, num_metrics)\n",
    "    \n",
    "    num_org = len(org_mets)\n",
    "    num_gen = len(gen_mets)\n",
    "    \n",
    "    e_distances = []\n",
    "    \n",
    "    for i in tqdm_notebook(np.arange(num_bootstraps)):\n",
    "    \n",
    "        random_idxs_org = np.random.randint(num_org, size=num_org)\n",
    "        random_idxs_gen = np.random.randint(num_gen, size=num_gen)\n",
    "    \n",
    "        org_mets_samp = org_mets[random_idxs_org]\n",
    "        gen_mets_samp = gen_mets[random_idxs_gen]\n",
    "        \n",
    "        e_distances.append(dcor.energy_distance(org_mets_samp, gen_mets_samp))\n",
    "        \n",
    "    ordered = sorted(e_distances)\n",
    "    lower = np.percentile(ordered, (1-confidence_level)/2 * 100)\n",
    "    upper = np.percentile(ordered, (confidence_level+((1-confidence_level)/2)) * 100)\n",
    "\n",
    "    return lower, upper"
   ]
  },
  {
   "cell_type": "code",
   "execution_count": 56,
   "metadata": {},
   "outputs": [
    {
     "name": "stdout",
     "output_type": "stream",
     "text": [
      "\n"
     ]
    },
    {
     "data": {
      "application/vnd.jupyter.widget-view+json": {
       "model_id": "c78e1825ef5744c1a9d3cde0f233985c",
       "version_major": 2,
       "version_minor": 0
      },
      "text/plain": [
       "HBox(children=(IntProgress(value=0, max=9), HTML(value='')))"
      ]
     },
     "metadata": {},
     "output_type": "display_data"
    },
    {
     "data": {
      "application/vnd.jupyter.widget-view+json": {
       "model_id": "1da2a4f2d2964344b87c7de654856c4a",
       "version_major": 2,
       "version_minor": 0
      },
      "text/plain": [
       "HBox(children=(IntProgress(value=0, max=10), HTML(value='')))"
      ]
     },
     "metadata": {},
     "output_type": "display_data"
    },
    {
     "name": "stdout",
     "output_type": "stream",
     "text": [
      "\n"
     ]
    },
    {
     "data": {
      "application/vnd.jupyter.widget-view+json": {
       "model_id": "cf9ba18c7f0b44a6899a293ae2e8c394",
       "version_major": 2,
       "version_minor": 0
      },
      "text/plain": [
       "HBox(children=(IntProgress(value=0, max=10), HTML(value='')))"
      ]
     },
     "metadata": {},
     "output_type": "display_data"
    },
    {
     "name": "stdout",
     "output_type": "stream",
     "text": [
      "\n"
     ]
    },
    {
     "data": {
      "application/vnd.jupyter.widget-view+json": {
       "model_id": "771e67599a2c450bad89e3bf6ed930c3",
       "version_major": 2,
       "version_minor": 0
      },
      "text/plain": [
       "HBox(children=(IntProgress(value=0, max=10), HTML(value='')))"
      ]
     },
     "metadata": {},
     "output_type": "display_data"
    },
    {
     "name": "stdout",
     "output_type": "stream",
     "text": [
      "\n"
     ]
    },
    {
     "data": {
      "application/vnd.jupyter.widget-view+json": {
       "model_id": "5db787a1877248b78258edcde917d2b4",
       "version_major": 2,
       "version_minor": 0
      },
      "text/plain": [
       "HBox(children=(IntProgress(value=0, max=10), HTML(value='')))"
      ]
     },
     "metadata": {},
     "output_type": "display_data"
    },
    {
     "name": "stdout",
     "output_type": "stream",
     "text": [
      "\n"
     ]
    },
    {
     "data": {
      "application/vnd.jupyter.widget-view+json": {
       "model_id": "af3b40ed19a64a22b666ea5013218630",
       "version_major": 2,
       "version_minor": 0
      },
      "text/plain": [
       "HBox(children=(IntProgress(value=0, max=10), HTML(value='')))"
      ]
     },
     "metadata": {},
     "output_type": "display_data"
    },
    {
     "name": "stdout",
     "output_type": "stream",
     "text": [
      "\n"
     ]
    },
    {
     "data": {
      "application/vnd.jupyter.widget-view+json": {
       "model_id": "18a807e14d2d4b28855e15db22cd7a90",
       "version_major": 2,
       "version_minor": 0
      },
      "text/plain": [
       "HBox(children=(IntProgress(value=0, max=10), HTML(value='')))"
      ]
     },
     "metadata": {},
     "output_type": "display_data"
    },
    {
     "name": "stdout",
     "output_type": "stream",
     "text": [
      "\n"
     ]
    },
    {
     "data": {
      "application/vnd.jupyter.widget-view+json": {
       "model_id": "2ed3c4997d004496b6bbb0cdf60ba463",
       "version_major": 2,
       "version_minor": 0
      },
      "text/plain": [
       "HBox(children=(IntProgress(value=0, max=10), HTML(value='')))"
      ]
     },
     "metadata": {},
     "output_type": "display_data"
    },
    {
     "name": "stdout",
     "output_type": "stream",
     "text": [
      "\n"
     ]
    },
    {
     "data": {
      "application/vnd.jupyter.widget-view+json": {
       "model_id": "1a5ad1a2b80440d0b1b4829c5e2d42c1",
       "version_major": 2,
       "version_minor": 0
      },
      "text/plain": [
       "HBox(children=(IntProgress(value=0, max=10), HTML(value='')))"
      ]
     },
     "metadata": {},
     "output_type": "display_data"
    },
    {
     "name": "stdout",
     "output_type": "stream",
     "text": [
      "\n"
     ]
    },
    {
     "data": {
      "application/vnd.jupyter.widget-view+json": {
       "model_id": "4f778258f44945098f406111c774a720",
       "version_major": 2,
       "version_minor": 0
      },
      "text/plain": [
       "HBox(children=(IntProgress(value=0, max=10), HTML(value='')))"
      ]
     },
     "metadata": {},
     "output_type": "display_data"
    },
    {
     "name": "stdout",
     "output_type": "stream",
     "text": [
      "\n",
      "\n"
     ]
    }
   ],
   "source": [
    "org_idx = 6\n",
    "org_mets = metrics_per_json_np[org_idx]\n",
    "lowers = []\n",
    "uppers = []\n",
    "for mets in tqdm_notebook(metrics_per_json_np):\n",
    "    lower, upper = bootstrap_ci(org_mets.T, mets.T)\n",
    "    lowers.append(lower)\n",
    "    uppers.append(upper)"
   ]
  },
  {
   "cell_type": "code",
   "execution_count": 75,
   "metadata": {},
   "outputs": [],
   "source": [
    "with open(\"lowers.json\", \"w+\") as json_f:\n",
    "    json.dump(lowers, json_f)"
   ]
  },
  {
   "cell_type": "code",
   "execution_count": 76,
   "metadata": {},
   "outputs": [],
   "source": [
    "with open(\"uppers.json\", \"w+\") as json_f:\n",
    "    json.dump(uppers, json_f)"
   ]
  },
  {
   "cell_type": "code",
   "execution_count": 78,
   "metadata": {},
   "outputs": [],
   "source": [
    "with open(\"lowers.json\", \"r\") as json_f:\n",
    "    lowers = json.load(json_f)"
   ]
  },
  {
   "cell_type": "code",
   "execution_count": 79,
   "metadata": {},
   "outputs": [],
   "source": [
    "with open(\"uppers.json\", \"r\") as json_f:\n",
    "    uppers = json.load(json_f)"
   ]
  },
  {
   "cell_type": "markdown",
   "metadata": {},
   "source": [
    "## Compute distances"
   ]
  },
  {
   "cell_type": "code",
   "execution_count": 80,
   "metadata": {},
   "outputs": [],
   "source": [
    "org_idx = 6\n",
    "org_mets = metrics_per_json_np[org_idx]\n",
    "e_distances = []\n",
    "for i, mets in enumerate(metrics_per_json_np):\n",
    "    e_distances.append(dcor.energy_distance(org_mets.T, mets.T))"
   ]
  },
  {
   "cell_type": "code",
   "execution_count": 83,
   "metadata": {},
   "outputs": [],
   "source": [
    "with open(\"e_distances.json\", \"w+\") as json_f:\n",
    "    json.dump(e_distances, json_f)"
   ]
  },
  {
   "cell_type": "code",
   "execution_count": 84,
   "metadata": {},
   "outputs": [],
   "source": [
    "with open(\"e_distances.json\", \"r\") as json_f:\n",
    "    e_distances = json.load(json_f)"
   ]
  },
  {
   "cell_type": "code",
   "execution_count": 85,
   "metadata": {},
   "outputs": [],
   "source": [
    "num_components_array = [8, 28, 68, 88, 108, 128, 0, 1, 48]"
   ]
  },
  {
   "cell_type": "markdown",
   "metadata": {},
   "source": [
    "## Plot distances against number of components"
   ]
  },
  {
   "cell_type": "code",
   "execution_count": 99,
   "metadata": {},
   "outputs": [
    {
     "data": {
      "image/png": "[encoded data removed]",
      "text/plain": [
       "<Figure size 432x576 with 1 Axes>"
      ]
     },
     "metadata": {
      "needs_background": "light"
     },
     "output_type": "display_data"
    }
   ],
   "source": [
    "plt.figure(figsize=(6, 8))\n",
    "\n",
    "plt.title('E-distances against number of components')\n",
    "\n",
    "plt.scatter(num_components_array, e_distances, marker=\"_\")\n",
    "plt.plot([0, 128], [0, 0], label='Zero distance')\n",
    "\n",
    "for x, y in zip(num_components_array, e_distances):\n",
    "    if x == 0:\n",
    "        plt.annotate(\"Original data with itself\", xy=(x, y-0.004))\n",
    "    else:\n",
    "        plt.annotate(f\"{x}c (100 epochs)\", xy=(x, y-0.006))\n",
    "\n",
    "# confidence bounds\n",
    "plt.scatter(num_components_array, lowers, marker='_')\n",
    "plt.scatter(num_components_array, uppers, marker='_')\n",
    "\n",
    "plt.xlabel('Number of components'); plt.ylabel('E-distance with training data')\n",
    "plt.legend(loc=\"upper right\")\n",
    "plt.grid()\n",
    "\n",
    "plt.show()"
   ]
  },
  {
   "cell_type": "markdown",
   "metadata": {},
   "source": [
    "TODO:\n",
    "- Construct bootsrap confidence intervals for the plot above (done)\n",
    "- Train more epochs so GM-VAEs have more time to discover the structure (current models are only trained for 100 epochs) - problem: the model starts to overfit a lot\n",
    "- Train models from 1-10 components because maybe less components is more semantically meaningful and thus help with generation\n",
    "- Using spherical guassians for VAE rather full-ranked gaussians\n",
    "- Essential part is region enclosing the training latent vectors / unlearned region\n",
    "- Problem with overfitting"
   ]
  },
  {
   "cell_type": "code",
   "execution_count": null,
   "metadata": {},
   "outputs": [],
   "source": []
  },
  {
   "cell_type": "code",
   "execution_count": null,
   "metadata": {},
   "outputs": [],
   "source": []
  },
  {
   "cell_type": "code",
   "execution_count": null,
   "metadata": {},
   "outputs": [],
   "source": []
  }
 ],
 "metadata": {
  "kernelspec": {
   "display_name": "Python 3",
   "language": "python",
   "name": "python3"
  },
  "language_info": {
   "codemirror_mode": {
    "name": "ipython",
    "version": 3
   },
   "file_extension": ".py",
   "mimetype": "text/x-python",
   "name": "python",
   "nbconvert_exporter": "python",
   "pygments_lexer": "ipython3",
   "version": "3.7.6"
  },
  "toc": {
   "base_numbering": 1,
   "nav_menu": {},
   "number_sections": false,
   "sideBar": true,
   "skip_h1_title": false,
   "title_cell": "Table of Contents",
   "title_sidebar": "Contents",
   "toc_cell": false,
   "toc_position": {},
   "toc_section_display": true,
   "toc_window_display": false
  },
  "varInspector": {
   "cols": {
    "lenName": 16,
    "lenType": 16,
    "lenVar": 40
   },
   "kernels_config": {
    "python": {
     "delete_cmd_postfix": "",
     "delete_cmd_prefix": "del ",
     "library": "var_list.py",
     "varRefreshCmd": "print(var_dic_list())"
    },
    "r": {
     "delete_cmd_postfix": ") ",
     "delete_cmd_prefix": "rm(",
     "library": "var_list.r",
     "varRefreshCmd": "cat(var_dic_list()) "
    }
   },
   "types_to_exclude": [
    "module",
    "function",
    "builtin_function_or_method",
    "instance",
    "_Feature"
   ],
   "window_display": false
  }
 },
 "nbformat": 4,
 "nbformat_minor": 2
}
