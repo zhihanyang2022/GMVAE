{
 "cells": [
  {
   "cell_type": "code",
   "execution_count": 1,
   "metadata": {},
   "outputs": [],
   "source": [
    "import json\n",
    "import numpy as np\n",
    "import matplotlib.pyplot as plt"
   ]
  },
  {
   "cell_type": "code",
   "execution_count": 2,
   "metadata": {},
   "outputs": [],
   "source": [
    "with open('/home/yangz2/projects/gmvae_and_gmmvae/data/mma_chunks_int.json', 'r') as json_f:\n",
    "    chunks_int = np.array(json.load(json_f))"
   ]
  },
  {
   "cell_type": "code",
   "execution_count": 4,
   "metadata": {},
   "outputs": [
    {
     "data": {
      "text/plain": [
       "array([[[ 0,  0,  0, ...,  0,  0,  0],\n",
       "        [ 0,  0,  0, ...,  0,  0,  0],\n",
       "        [ 0,  0,  0, ...,  0,  0,  0],\n",
       "        ...,\n",
       "        [ 0,  0,  0, ..., 10,  0,  0],\n",
       "        [ 0,  0,  0, ...,  0,  0,  0],\n",
       "        [ 0,  0,  0, ...,  0,  0,  0]],\n",
       "\n",
       "       [[ 3,  3,  3, ...,  3,  0,  0],\n",
       "        [ 3,  3,  3, ...,  3,  0,  0],\n",
       "        [ 3,  3,  3, ...,  3,  0,  0],\n",
       "        ...,\n",
       "        [ 0,  0,  0, ..., 10,  0,  0],\n",
       "        [ 0,  0,  0, ...,  3,  0,  0],\n",
       "        [ 0,  0,  0, ...,  3,  0,  0]],\n",
       "\n",
       "       [[ 0,  0,  0, ..., 16,  0,  0],\n",
       "        [ 0,  0,  0, ..., 16,  0,  0],\n",
       "        [ 0,  0,  0, ..., 16,  0,  0],\n",
       "        ...,\n",
       "        [ 0,  0, 10, ...,  0,  0,  0],\n",
       "        [ 0,  0,  3, ...,  0,  0,  0],\n",
       "        [ 0,  0,  3, ...,  0,  0,  0]],\n",
       "\n",
       "       ...,\n",
       "\n",
       "       [[ 0,  0,  0, ...,  0,  0,  0],\n",
       "        [ 3,  3,  3, ...,  3,  3,  3],\n",
       "        [ 3,  3,  3, ...,  3,  3,  3],\n",
       "        ...,\n",
       "        [ 0,  0,  0, ...,  3,  0,  0],\n",
       "        [10, 10,  3, ...,  3,  0,  0],\n",
       "        [10,  3, 10, ...,  3,  0,  0]],\n",
       "\n",
       "       [[ 3,  3,  3, ...,  3,  3,  3],\n",
       "        [ 3,  3,  3, ...,  3,  3,  3],\n",
       "        [ 3,  3,  3, ...,  3,  3,  3],\n",
       "        ...,\n",
       "        [ 0,  0,  0, ...,  0,  0,  0],\n",
       "        [ 0,  0,  0, ...,  0,  0,  0],\n",
       "        [ 0,  0,  0, ...,  0,  0,  0]],\n",
       "\n",
       "       [[ 0,  0,  0, ...,  3,  0,  0],\n",
       "        [ 0,  0,  0, ...,  3,  0,  0],\n",
       "        [ 0,  0,  0, ...,  3,  0,  0],\n",
       "        ...,\n",
       "        [ 0,  0,  0, ...,  3,  3,  3],\n",
       "        [ 0,  0,  0, ...,  3,  3,  3],\n",
       "        [ 0,  0,  0, ..., 10,  3,  3]]])"
      ]
     },
     "execution_count": 4,
     "metadata": {},
     "output_type": "execute_result"
    }
   ],
   "source": [
    "chunks_int"
   ]
  },
  {
   "cell_type": "code",
   "execution_count": null,
   "metadata": {},
   "outputs": [],
   "source": []
  }
 ],
 "metadata": {
  "kernelspec": {
   "display_name": "Python 3",
   "language": "python",
   "name": "python3"
  },
  "language_info": {
   "codemirror_mode": {
    "name": "ipython",
    "version": 3
   },
   "file_extension": ".py",
   "mimetype": "text/x-python",
   "name": "python",
   "nbconvert_exporter": "python",
   "pygments_lexer": "ipython3",
   "version": "3.7.6"
  },
  "toc": {
   "base_numbering": 1,
   "nav_menu": {},
   "number_sections": true,
   "sideBar": true,
   "skip_h1_title": false,
   "title_cell": "Table of Contents",
   "title_sidebar": "Contents",
   "toc_cell": false,
   "toc_position": {},
   "toc_section_display": true,
   "toc_window_display": false
  },
  "varInspector": {
   "cols": {
    "lenName": 16,
    "lenType": 16,
    "lenVar": 40
   },
   "kernels_config": {
    "python": {
     "delete_cmd_postfix": "",
     "delete_cmd_prefix": "del ",
     "library": "var_list.py",
     "varRefreshCmd": "print(var_dic_list())"
    },
    "r": {
     "delete_cmd_postfix": ") ",
     "delete_cmd_prefix": "rm(",
     "library": "var_list.r",
     "varRefreshCmd": "cat(var_dic_list()) "
    }
   },
   "types_to_exclude": [
    "module",
    "function",
    "builtin_function_or_method",
    "instance",
    "_Feature"
   ],
   "window_display": false
  }
 },
 "nbformat": 4,
 "nbformat_minor": 2
}
