{
 "cells": [
  {
   "cell_type": "code",
   "execution_count": 5,
   "metadata": {},
   "outputs": [],
   "source": [
    "import json\n",
    "import numpy as np\n",
    "import matplotlib.pyplot as plt\n",
    "from tqdm import tqdm_notebook\n",
    "\n",
    "import numpy as np\n",
    "import pandas as pd\n",
    "import matplotlib.pyplot as plt\n",
    "from math import pi"
   ]
  },
  {
   "cell_type": "code",
   "execution_count": 4,
   "metadata": {},
   "outputs": [],
   "source": [
    "def open_json_as_nparray(json_fname):\n",
    "    with open(json_fname, 'r') as json_f:\n",
    "        return np.array(json.load(json_f))"
   ]
  },
  {
   "cell_type": "code",
   "execution_count": 6,
   "metadata": {
    "code_folding": [
     0
    ]
   },
   "outputs": [],
   "source": [
    "char2int_smb = { \n",
    "    \"X\": 0,  # smb unpassable\n",
    "    \"S\": 1,  # smb breakable\n",
    "    \"-\": 2,\n",
    "    \"?\": 3,  # smb question\n",
    "    \"Q\": 4,  # smb question\n",
    "    \"E\": 5,\n",
    "    \"<\": 6,\n",
    "    \">\": 7,\n",
    "    \"[\": 8,\n",
    "    \"]\": 9,\n",
    "    \"o\": 10,\n",
    "    \"P\": 11,  # for smb path (from Anurag's email)\n",
    "}\n",
    "int2char = {v:k for k, v in char2int_smb.items()}\n",
    "char2name = {\n",
    "    'X': 'unpassable',\n",
    "    'S': 'breakable',\n",
    "    '-': 'background',\n",
    "    '?': 'SMB question',\n",
    "    'Q': 'SMB question',\n",
    "    'E': 'SMB enemy',\n",
    "    '<': 'Top-left pipe element',\n",
    "    '>': 'Top-right pipe element',\n",
    "    '[': 'Bottom-left pipe element',\n",
    "    ']': 'Bottom-right pipe element',\n",
    "    'o': 'Coins',\n",
    "    'P': 'Player path'\n",
    "}"
   ]
  },
  {
   "cell_type": "markdown",
   "metadata": {},
   "source": [
    "## Density"
   ]
  },
  {
   "cell_type": "code",
   "execution_count": 7,
   "metadata": {},
   "outputs": [],
   "source": [
    "RESULTS_DIR = '/home/yangz2/projects/gmvae_and_gmmvae/results'\n",
    "GAME = 'smba'\n",
    "MODEL = 'gmvae'\n",
    "num_components=10"
   ]
  },
  {
   "cell_type": "code",
   "execution_count": 8,
   "metadata": {},
   "outputs": [],
   "source": [
    "json_fname = f'{RESULTS_DIR}/{GAME}_{MODEL}_generations/{GAME}_{MODEL}_{num_components}.json'\n",
    "num_components = int(json_fname.split('_')[-1].split('.')[0])\n",
    "num_gens_per_comp = 500"
   ]
  },
  {
   "cell_type": "code",
   "execution_count": 9,
   "metadata": {},
   "outputs": [],
   "source": [
    "chunks_int = open_json_as_nparray(json_fname)\n",
    "begin, end = 0, num_gens_per_comp\n",
    "chunks_by_comp = []\n",
    "for i in range(num_components):\n",
    "    chunks_by_comp.append(chunks_int[begin:end])\n",
    "    begin, end = begin + num_gens_per_comp, end + num_gens_per_comp"
   ]
  },
  {
   "cell_type": "code",
   "execution_count": 10,
   "metadata": {},
   "outputs": [],
   "source": [
    "def get_densities(chunks):\n",
    "    unique_indices = np.unique(chunks)\n",
    "    densities = {i:[] for i in unique_indices}\n",
    "    for idx, chunk in enumerate(chunks):\n",
    "        for i in unique_indices:\n",
    "            chunk_mod = chunk == i\n",
    "            densities[i].append(np.count_nonzero(chunk_mod))\n",
    "    return [np.mean(v) for k, v in densities.items()]"
   ]
  },
  {
   "cell_type": "code",
   "execution_count": 11,
   "metadata": {},
   "outputs": [
    {
     "data": {
      "text/plain": [
       "10"
      ]
     },
     "execution_count": 11,
     "metadata": {},
     "output_type": "execute_result"
    }
   ],
   "source": [
    "densities_by_comp = [get_densities(chunks) for chunks in chunks_by_comp]\n",
    "len(densities_by_comp)"
   ]
  },
  {
   "cell_type": "code",
   "execution_count": 30,
   "metadata": {},
   "outputs": [
    {
     "data": {
      "text/html": [
       "<div>\n",
       "<style scoped>\n",
       "    .dataframe tbody tr th:only-of-type {\n",
       "        vertical-align: middle;\n",
       "    }\n",
       "\n",
       "    .dataframe tbody tr th {\n",
       "        vertical-align: top;\n",
       "    }\n",
       "\n",
       "    .dataframe thead th {\n",
       "        text-align: right;\n",
       "    }\n",
       "</style>\n",
       "<table border=\"1\" class=\"dataframe\">\n",
       "  <thead>\n",
       "    <tr style=\"text-align: right;\">\n",
       "      <th></th>\n",
       "      <th>X</th>\n",
       "      <th>S</th>\n",
       "      <th>-</th>\n",
       "      <th>?</th>\n",
       "      <th>Q</th>\n",
       "      <th>E</th>\n",
       "      <th>&lt;</th>\n",
       "      <th>&gt;</th>\n",
       "      <th>[</th>\n",
       "      <th>]</th>\n",
       "      <th>o</th>\n",
       "    </tr>\n",
       "  </thead>\n",
       "  <tbody>\n",
       "    <tr>\n",
       "      <th>0</th>\n",
       "      <td>13.356</td>\n",
       "      <td>1.438</td>\n",
       "      <td>220.932</td>\n",
       "      <td>0.094</td>\n",
       "      <td>0.070</td>\n",
       "      <td>0.078</td>\n",
       "      <td>0.048</td>\n",
       "      <td>0.048</td>\n",
       "      <td>0.154</td>\n",
       "      <td>0.138</td>\n",
       "      <td>1.730</td>\n",
       "    </tr>\n",
       "    <tr>\n",
       "      <th>1</th>\n",
       "      <td>17.722</td>\n",
       "      <td>1.512</td>\n",
       "      <td>212.822</td>\n",
       "      <td>0.056</td>\n",
       "      <td>0.060</td>\n",
       "      <td>0.458</td>\n",
       "      <td>0.754</td>\n",
       "      <td>0.758</td>\n",
       "      <td>1.802</td>\n",
       "      <td>1.710</td>\n",
       "      <td>0.814</td>\n",
       "    </tr>\n",
       "    <tr>\n",
       "      <th>2</th>\n",
       "      <td>16.026</td>\n",
       "      <td>0.938</td>\n",
       "      <td>221.268</td>\n",
       "      <td>0.134</td>\n",
       "      <td>0.874</td>\n",
       "      <td>0.258</td>\n",
       "      <td>0.104</td>\n",
       "      <td>0.100</td>\n",
       "      <td>0.004</td>\n",
       "      <td>0.196</td>\n",
       "      <td>16.098</td>\n",
       "    </tr>\n",
       "    <tr>\n",
       "      <th>3</th>\n",
       "      <td>40.102</td>\n",
       "      <td>1.780</td>\n",
       "      <td>195.094</td>\n",
       "      <td>0.060</td>\n",
       "      <td>0.072</td>\n",
       "      <td>0.298</td>\n",
       "      <td>0.300</td>\n",
       "      <td>0.286</td>\n",
       "      <td>0.664</td>\n",
       "      <td>0.640</td>\n",
       "      <td>0.172</td>\n",
       "    </tr>\n",
       "    <tr>\n",
       "      <th>4</th>\n",
       "      <td>20.860</td>\n",
       "      <td>4.094</td>\n",
       "      <td>205.530</td>\n",
       "      <td>0.076</td>\n",
       "      <td>0.090</td>\n",
       "      <td>0.602</td>\n",
       "      <td>0.934</td>\n",
       "      <td>0.964</td>\n",
       "      <td>2.218</td>\n",
       "      <td>2.178</td>\n",
       "      <td>0.274</td>\n",
       "    </tr>\n",
       "    <tr>\n",
       "      <th>5</th>\n",
       "      <td>24.148</td>\n",
       "      <td>1.596</td>\n",
       "      <td>209.896</td>\n",
       "      <td>0.058</td>\n",
       "      <td>0.234</td>\n",
       "      <td>0.368</td>\n",
       "      <td>0.366</td>\n",
       "      <td>0.390</td>\n",
       "      <td>0.682</td>\n",
       "      <td>0.660</td>\n",
       "      <td>0.142</td>\n",
       "    </tr>\n",
       "    <tr>\n",
       "      <th>6</th>\n",
       "      <td>15.936</td>\n",
       "      <td>22.086</td>\n",
       "      <td>195.942</td>\n",
       "      <td>0.244</td>\n",
       "      <td>0.228</td>\n",
       "      <td>0.668</td>\n",
       "      <td>0.330</td>\n",
       "      <td>0.284</td>\n",
       "      <td>0.974</td>\n",
       "      <td>0.962</td>\n",
       "      <td>2.066</td>\n",
       "    </tr>\n",
       "    <tr>\n",
       "      <th>7</th>\n",
       "      <td>14.638</td>\n",
       "      <td>0.886</td>\n",
       "      <td>219.816</td>\n",
       "      <td>0.102</td>\n",
       "      <td>0.104</td>\n",
       "      <td>0.184</td>\n",
       "      <td>0.230</td>\n",
       "      <td>0.244</td>\n",
       "      <td>0.586</td>\n",
       "      <td>0.566</td>\n",
       "      <td>0.930</td>\n",
       "    </tr>\n",
       "    <tr>\n",
       "      <th>8</th>\n",
       "      <td>14.640</td>\n",
       "      <td>0.854</td>\n",
       "      <td>221.930</td>\n",
       "      <td>0.052</td>\n",
       "      <td>0.272</td>\n",
       "      <td>0.278</td>\n",
       "      <td>0.212</td>\n",
       "      <td>0.210</td>\n",
       "      <td>0.198</td>\n",
       "      <td>0.234</td>\n",
       "      <td>0.526</td>\n",
       "    </tr>\n",
       "    <tr>\n",
       "      <th>9</th>\n",
       "      <td>17.382</td>\n",
       "      <td>4.952</td>\n",
       "      <td>211.792</td>\n",
       "      <td>0.154</td>\n",
       "      <td>0.740</td>\n",
       "      <td>0.462</td>\n",
       "      <td>0.484</td>\n",
       "      <td>0.498</td>\n",
       "      <td>0.942</td>\n",
       "      <td>0.940</td>\n",
       "      <td>0.410</td>\n",
       "    </tr>\n",
       "  </tbody>\n",
       "</table>\n",
       "</div>"
      ],
      "text/plain": [
       "        X       S        -      ?      Q      E      <      >      [      ]  \\\n",
       "0  13.356   1.438  220.932  0.094  0.070  0.078  0.048  0.048  0.154  0.138   \n",
       "1  17.722   1.512  212.822  0.056  0.060  0.458  0.754  0.758  1.802  1.710   \n",
       "2  16.026   0.938  221.268  0.134  0.874  0.258  0.104  0.100  0.004  0.196   \n",
       "3  40.102   1.780  195.094  0.060  0.072  0.298  0.300  0.286  0.664  0.640   \n",
       "4  20.860   4.094  205.530  0.076  0.090  0.602  0.934  0.964  2.218  2.178   \n",
       "5  24.148   1.596  209.896  0.058  0.234  0.368  0.366  0.390  0.682  0.660   \n",
       "6  15.936  22.086  195.942  0.244  0.228  0.668  0.330  0.284  0.974  0.962   \n",
       "7  14.638   0.886  219.816  0.102  0.104  0.184  0.230  0.244  0.586  0.566   \n",
       "8  14.640   0.854  221.930  0.052  0.272  0.278  0.212  0.210  0.198  0.234   \n",
       "9  17.382   4.952  211.792  0.154  0.740  0.462  0.484  0.498  0.942  0.940   \n",
       "\n",
       "        o  \n",
       "0   1.730  \n",
       "1   0.814  \n",
       "2  16.098  \n",
       "3   0.172  \n",
       "4   0.274  \n",
       "5   0.142  \n",
       "6   2.066  \n",
       "7   0.930  \n",
       "8   0.526  \n",
       "9   0.410  "
      ]
     },
     "execution_count": 30,
     "metadata": {},
     "output_type": "execute_result"
    }
   ],
   "source": [
    "df = pd.DataFrame(densities_by_comp)\n",
    "df = df.fillna(0)\n",
    "# df /= df.max()\n",
    "df.columns = [int2char[i] for i in np.unique(chunks_int)]\n",
    "df = df.iloc[:,:-1]\n",
    "df.head(10)"
   ]
  },
  {
   "cell_type": "code",
   "execution_count": 47,
   "metadata": {},
   "outputs": [],
   "source": [
    "df = df.drop(['-'], axis=1)"
   ]
  },
  {
   "cell_type": "code",
   "execution_count": 48,
   "metadata": {},
   "outputs": [],
   "source": [
    "tilenames = list(df)"
   ]
  },
  {
   "cell_type": "code",
   "execution_count": 57,
   "metadata": {},
   "outputs": [
    {
     "data": {
      "image/png": "[encoded data removed]",
      "text/plain": [
       "<Figure size 2880x288 with 10 Axes>"
      ]
     },
     "metadata": {
      "needs_background": "light"
     },
     "output_type": "display_data"
    }
   ],
   "source": [
    "num_plots = len(tilenames)\n",
    "num_rows = 1\n",
    "num_cols = num_plots // num_rows\n",
    "\n",
    "plt.rcParams.update({'font.size': 13})\n",
    "\n",
    "fig, axs = plt.subplots(nrows=num_rows, ncols=num_cols, figsize=(num_cols * 4, num_rows * 4))\n",
    "if num_rows == 1:\n",
    "    axs = [axs]\n",
    "\n",
    "colors=plt.cm.rainbow(np.linspace(0,1,num_components))\n",
    "\n",
    "for row_ix in range(num_rows):\n",
    "    for col_ix in range(num_cols):\n",
    "    \n",
    "        index = row_ix * num_cols + col_ix\n",
    "    \n",
    "        axs[row_ix][col_ix].barh(np.arange(1, num_components + 1), df.iloc[:, index], \n",
    "                                 color=colors, alpha=0.5)\n",
    "        axs[row_ix][col_ix].set_title(tilenames[index])\n",
    "        \n",
    "        axs[row_ix][col_ix].set_yticks(np.arange(1, num_components + 1))\n",
    "    \n",
    "plt.savefig(\"tilewise_barplot.png\", dpi=200, bbox_inches = 'tight', pad_inches = 0)"
   ]
  },
  {
   "cell_type": "markdown",
   "metadata": {},
   "source": [
    "## Plotting generations from each component"
   ]
  },
  {
   "cell_type": "code",
   "execution_count": 77,
   "metadata": {},
   "outputs": [],
   "source": [
    "import sys\n",
    "sys.path.append('../../1906-pcgml/pcgml-gmmVae-exp/modules/')\n",
    "import vglc_with_path_encodings"
   ]
  },
  {
   "cell_type": "code",
   "execution_count": 78,
   "metadata": {},
   "outputs": [],
   "source": [
    "def get_images(chunks_int):\n",
    "    images = []\n",
    "    for chunk in chunks_int:\n",
    "        images.append(vglc_with_path_encodings.array_to_image([chunk], game='smba')[0])\n",
    "    return images"
   ]
  },
  {
   "cell_type": "code",
   "execution_count": 86,
   "metadata": {
    "code_folding": []
   },
   "outputs": [
    {
     "data": {
      "image/png": "[encoded data removed]",
      "text/plain": [
       "<Figure size 1008x432 with 60 Axes>"
      ]
     },
     "metadata": {},
     "output_type": "display_data"
    }
   ],
   "source": [
    "num_rows=6\n",
    "fig, axs = plt.subplots(num_rows, num_components, figsize=(num_components+4, num_rows))\n",
    "fig.subplots_adjust(hspace=0.05)\n",
    "# plt.suptitle('SMB', fontsize=50, y=0.915)\n",
    "for comp_idx, chunks in enumerate(chunks_by_comp):\n",
    "    imgs = get_images(chunks[:num_rows])\n",
    "    for img_idx, img in enumerate(imgs):\n",
    "        if img_idx == 1:\n",
    "            pass\n",
    "#             ax.set_ylabel(f'{comp_idx + 1}', rotation=0, fontsize=50)\n",
    "            # https://stackoverflow.com/questions/27671748/how-to-print-y-axis-label-horizontally-in-a-matplotlib-pylab-chart\n",
    "#             ax.yaxis.set_label_coords(-0.5, 0.15)\n",
    "            # https://stackoverflow.com/questions/37815976/setting-the-position-of-the-ylabel-in-a-matplotlib-graph\n",
    "        ax = axs[img_idx][comp_idx]\n",
    "#         if comp_idx == 0 and img_idx == 2:\n",
    "#             ax.set_ylabel('SMB', fontsize=20)\n",
    "        ax.imshow(img)\n",
    "        ax.set_xticks([])\n",
    "        ax.set_yticks([])\n",
    "        ax.axis('off')\n",
    "# plt.tight_layout()\n",
    "plt.savefig(f'SMB generations per component (GM-VAE {num_components}).png', dpi=600)"
   ]
  },
  {
   "cell_type": "code",
   "execution_count": null,
   "metadata": {},
   "outputs": [],
   "source": []
  },
  {
   "cell_type": "code",
   "execution_count": null,
   "metadata": {},
   "outputs": [],
   "source": []
  },
  {
   "cell_type": "code",
   "execution_count": null,
   "metadata": {},
   "outputs": [],
   "source": []
  },
  {
   "cell_type": "code",
   "execution_count": null,
   "metadata": {},
   "outputs": [],
   "source": []
  },
  {
   "cell_type": "code",
   "execution_count": null,
   "metadata": {},
   "outputs": [],
   "source": []
  },
  {
   "cell_type": "code",
   "execution_count": null,
   "metadata": {},
   "outputs": [],
   "source": []
  },
  {
   "cell_type": "code",
   "execution_count": null,
   "metadata": {},
   "outputs": [],
   "source": []
  }
 ],
 "metadata": {
  "kernelspec": {
   "display_name": "Python 3",
   "language": "python",
   "name": "python3"
  },
  "language_info": {
   "codemirror_mode": {
    "name": "ipython",
    "version": 3
   },
   "file_extension": ".py",
   "mimetype": "text/x-python",
   "name": "python",
   "nbconvert_exporter": "python",
   "pygments_lexer": "ipython3",
   "version": "3.7.7"
  },
  "toc": {
   "base_numbering": 1,
   "nav_menu": {},
   "number_sections": false,
   "sideBar": true,
   "skip_h1_title": false,
   "title_cell": "Table of Contents",
   "title_sidebar": "Contents",
   "toc_cell": false,
   "toc_position": {},
   "toc_section_display": true,
   "toc_window_display": false
  },
  "varInspector": {
   "cols": {
    "lenName": 16,
    "lenType": 16,
    "lenVar": 40
   },
   "kernels_config": {
    "python": {
     "delete_cmd_postfix": "",
     "delete_cmd_prefix": "del ",
     "library": "var_list.py",
     "varRefreshCmd": "print(var_dic_list())"
    },
    "r": {
     "delete_cmd_postfix": ") ",
     "delete_cmd_prefix": "rm(",
     "library": "var_list.r",
     "varRefreshCmd": "cat(var_dic_list()) "
    }
   },
   "types_to_exclude": [
    "module",
    "function",
    "builtin_function_or_method",
    "instance",
    "_Feature"
   ],
   "window_display": false
  }
 },
 "nbformat": 4,
 "nbformat_minor": 2
}
