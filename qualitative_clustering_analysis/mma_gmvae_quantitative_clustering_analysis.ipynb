{
 "cells": [
  {
   "cell_type": "code",
   "execution_count": 1,
   "metadata": {},
   "outputs": [],
   "source": [
    "%reload_ext autoreload\n",
    "%autoreload 2"
   ]
  },
  {
   "cell_type": "code",
   "execution_count": 2,
   "metadata": {},
   "outputs": [],
   "source": [
    "import os\n",
    "import json\n",
    "import numpy as np\n",
    "import matplotlib.pyplot as plt\n",
    "import torch\n",
    "import torch.nn as nn\n",
    "import torch.optim as optim\n",
    "from torch.utils.data import TensorDataset, DataLoader\n",
    "\n",
    "from tqdm import tqdm_notebook\n",
    "\n",
    "T = torch.from_numpy\n",
    "TD = TensorDataset\n",
    "DL = DataLoader\n",
    "\n",
    "from sklearn.metrics import confusion_matrix\n",
    "import seaborn as sns"
   ]
  },
  {
   "cell_type": "code",
   "execution_count": 3,
   "metadata": {},
   "outputs": [],
   "source": [
    "import sys\n",
    "sys.path.append('/home/yangz2/projects/bishop1995_notes/modules_for_nn_training')\n",
    "from learner import Learner\n",
    "from callbacks import CallbackHandler\n",
    "from utility_callbacks import LossCallback, MulticlassAccuracyCallback, BinaryAccuracyCallback\n",
    "\n",
    "from trainer import Trainer"
   ]
  },
  {
   "cell_type": "code",
   "execution_count": 5,
   "metadata": {},
   "outputs": [],
   "source": [
    "RESULTS_DIR = '/home/yangz2/projects/gmvae_and_gmmvae/results'\n",
    "GAME = 'mma'\n",
    "MODEL = 'gmvae'"
   ]
  },
  {
   "cell_type": "code",
   "execution_count": 6,
   "metadata": {},
   "outputs": [],
   "source": [
    "num_components_s = [2]"
   ]
  },
  {
   "cell_type": "code",
   "execution_count": 7,
   "metadata": {},
   "outputs": [
    {
     "data": {
      "application/vnd.jupyter.widget-view+json": {
       "model_id": "7e870328d3e349b69c5b37934beabbe6",
       "version_major": 2,
       "version_minor": 0
      },
      "text/plain": [
       "HBox(children=(IntProgress(value=0, max=1), HTML(value='')))"
      ]
     },
     "metadata": {},
     "output_type": "display_data"
    },
    {
     "data": {
      "application/vnd.jupyter.widget-view+json": {
       "model_id": "",
       "version_major": 2,
       "version_minor": 0
      },
      "text/plain": [
       "HBox(children=(IntProgress(value=0, description='Overall Progress', max=10, style=ProgressStyle(description_wi…"
      ]
     },
     "metadata": {},
     "output_type": "display_data"
    },
    {
     "data": {
      "application/vnd.jupyter.widget-view+json": {
       "model_id": "",
       "version_major": 2,
       "version_minor": 0
      },
      "text/plain": [
       "HBox(children=(IntProgress(value=0, description='Training', max=10, style=ProgressStyle(description_width='ini…"
      ]
     },
     "metadata": {},
     "output_type": "display_data"
    },
    {
     "data": {
      "application/vnd.jupyter.widget-view+json": {
       "model_id": "",
       "version_major": 2,
       "version_minor": 0
      },
      "text/plain": [
       "HBox(children=(IntProgress(value=0, description='Validation', max=7, style=ProgressStyle(description_width='in…"
      ]
     },
     "metadata": {},
     "output_type": "display_data"
    },
    {
     "data": {
      "application/vnd.jupyter.widget-view+json": {
       "model_id": "",
       "version_major": 2,
       "version_minor": 0
      },
      "text/plain": [
       "HBox(children=(IntProgress(value=0, description='Training', max=10, style=ProgressStyle(description_width='ini…"
      ]
     },
     "metadata": {},
     "output_type": "display_data"
    },
    {
     "data": {
      "application/vnd.jupyter.widget-view+json": {
       "model_id": "",
       "version_major": 2,
       "version_minor": 0
      },
      "text/plain": [
       "HBox(children=(IntProgress(value=0, description='Validation', max=7, style=ProgressStyle(description_width='in…"
      ]
     },
     "metadata": {},
     "output_type": "display_data"
    },
    {
     "data": {
      "application/vnd.jupyter.widget-view+json": {
       "model_id": "",
       "version_major": 2,
       "version_minor": 0
      },
      "text/plain": [
       "HBox(children=(IntProgress(value=0, description='Training', max=10, style=ProgressStyle(description_width='ini…"
      ]
     },
     "metadata": {},
     "output_type": "display_data"
    },
    {
     "data": {
      "application/vnd.jupyter.widget-view+json": {
       "model_id": "",
       "version_major": 2,
       "version_minor": 0
      },
      "text/plain": [
       "HBox(children=(IntProgress(value=0, description='Validation', max=7, style=ProgressStyle(description_width='in…"
      ]
     },
     "metadata": {},
     "output_type": "display_data"
    },
    {
     "data": {
      "application/vnd.jupyter.widget-view+json": {
       "model_id": "",
       "version_major": 2,
       "version_minor": 0
      },
      "text/plain": [
       "HBox(children=(IntProgress(value=0, description='Training', max=10, style=ProgressStyle(description_width='ini…"
      ]
     },
     "metadata": {},
     "output_type": "display_data"
    },
    {
     "data": {
      "application/vnd.jupyter.widget-view+json": {
       "model_id": "",
       "version_major": 2,
       "version_minor": 0
      },
      "text/plain": [
       "HBox(children=(IntProgress(value=0, description='Validation', max=7, style=ProgressStyle(description_width='in…"
      ]
     },
     "metadata": {},
     "output_type": "display_data"
    },
    {
     "data": {
      "application/vnd.jupyter.widget-view+json": {
       "model_id": "",
       "version_major": 2,
       "version_minor": 0
      },
      "text/plain": [
       "HBox(children=(IntProgress(value=0, description='Training', max=10, style=ProgressStyle(description_width='ini…"
      ]
     },
     "metadata": {},
     "output_type": "display_data"
    },
    {
     "data": {
      "application/vnd.jupyter.widget-view+json": {
       "model_id": "",
       "version_major": 2,
       "version_minor": 0
      },
      "text/plain": [
       "HBox(children=(IntProgress(value=0, description='Validation', max=7, style=ProgressStyle(description_width='in…"
      ]
     },
     "metadata": {},
     "output_type": "display_data"
    },
    {
     "data": {
      "application/vnd.jupyter.widget-view+json": {
       "model_id": "",
       "version_major": 2,
       "version_minor": 0
      },
      "text/plain": [
       "HBox(children=(IntProgress(value=0, description='Training', max=10, style=ProgressStyle(description_width='ini…"
      ]
     },
     "metadata": {},
     "output_type": "display_data"
    },
    {
     "data": {
      "application/vnd.jupyter.widget-view+json": {
       "model_id": "",
       "version_major": 2,
       "version_minor": 0
      },
      "text/plain": [
       "HBox(children=(IntProgress(value=0, description='Validation', max=7, style=ProgressStyle(description_width='in…"
      ]
     },
     "metadata": {},
     "output_type": "display_data"
    },
    {
     "data": {
      "application/vnd.jupyter.widget-view+json": {
       "model_id": "",
       "version_major": 2,
       "version_minor": 0
      },
      "text/plain": [
       "HBox(children=(IntProgress(value=0, description='Training', max=10, style=ProgressStyle(description_width='ini…"
      ]
     },
     "metadata": {},
     "output_type": "display_data"
    },
    {
     "data": {
      "application/vnd.jupyter.widget-view+json": {
       "model_id": "",
       "version_major": 2,
       "version_minor": 0
      },
      "text/plain": [
       "HBox(children=(IntProgress(value=0, description='Validation', max=7, style=ProgressStyle(description_width='in…"
      ]
     },
     "metadata": {},
     "output_type": "display_data"
    },
    {
     "data": {
      "application/vnd.jupyter.widget-view+json": {
       "model_id": "",
       "version_major": 2,
       "version_minor": 0
      },
      "text/plain": [
       "HBox(children=(IntProgress(value=0, description='Training', max=10, style=ProgressStyle(description_width='ini…"
      ]
     },
     "metadata": {},
     "output_type": "display_data"
    },
    {
     "data": {
      "application/vnd.jupyter.widget-view+json": {
       "model_id": "",
       "version_major": 2,
       "version_minor": 0
      },
      "text/plain": [
       "HBox(children=(IntProgress(value=0, description='Validation', max=7, style=ProgressStyle(description_width='in…"
      ]
     },
     "metadata": {},
     "output_type": "display_data"
    },
    {
     "data": {
      "application/vnd.jupyter.widget-view+json": {
       "model_id": "",
       "version_major": 2,
       "version_minor": 0
      },
      "text/plain": [
       "HBox(children=(IntProgress(value=0, description='Training', max=10, style=ProgressStyle(description_width='ini…"
      ]
     },
     "metadata": {},
     "output_type": "display_data"
    },
    {
     "data": {
      "application/vnd.jupyter.widget-view+json": {
       "model_id": "",
       "version_major": 2,
       "version_minor": 0
      },
      "text/plain": [
       "HBox(children=(IntProgress(value=0, description='Validation', max=7, style=ProgressStyle(description_width='in…"
      ]
     },
     "metadata": {},
     "output_type": "display_data"
    },
    {
     "data": {
      "application/vnd.jupyter.widget-view+json": {
       "model_id": "",
       "version_major": 2,
       "version_minor": 0
      },
      "text/plain": [
       "HBox(children=(IntProgress(value=0, description='Training', max=10, style=ProgressStyle(description_width='ini…"
      ]
     },
     "metadata": {},
     "output_type": "display_data"
    },
    {
     "data": {
      "application/vnd.jupyter.widget-view+json": {
       "model_id": "",
       "version_major": 2,
       "version_minor": 0
      },
      "text/plain": [
       "HBox(children=(IntProgress(value=0, description='Validation', max=7, style=ProgressStyle(description_width='in…"
      ]
     },
     "metadata": {},
     "output_type": "display_data"
    },
    {
     "name": "stdout",
     "output_type": "stream",
     "text": [
      "0.6225\n",
      "\n"
     ]
    }
   ],
   "source": [
    "for num_components in tqdm_notebook(num_components_s):\n",
    "    \n",
    "    with open(f'{RESULTS_DIR}/{GAME}_{MODEL}_generations/{GAME}_{MODEL}_{num_components}.json', 'r') as json_f:\n",
    "        x = np.array(json.load(json_f))\n",
    "        encoding_len = len(np.unique(x))\n",
    "        x = np.eye(encoding_len)[x]\n",
    "        x = x.reshape(-1, encoding_len * 16 * 16)\n",
    "        \n",
    "    y = np.repeat(np.arange(num_components), 500)\n",
    "    \n",
    "    seed = np.random.randint(1000)\n",
    "    np.random.seed(seed)\n",
    "    np.random.shuffle(x)\n",
    "    np.random.seed(seed)\n",
    "    np.random.shuffle(y)\n",
    "    \n",
    "    x_train, y_train = x[:300 * num_components], y[:300 * num_components]\n",
    "    x_valid, y_valid = x[-200 * num_components:], y[-200 * num_components:]\n",
    "\n",
    "    train_ds = TD(T(x_train), T(y_train))\n",
    "    train_dl = DL(train_ds, batch_size=64, shuffle=True)\n",
    "\n",
    "    valid_ds = TD(T(x_valid), T(y_valid))\n",
    "    valid_dl = DL(valid_ds, batch_size=64, shuffle=False)\n",
    "    \n",
    "    class NN(nn.Module):\n",
    "    \n",
    "        def __init__(self, num_classes, input_dim):\n",
    "            super().__init__()\n",
    "\n",
    "            self.num_classes = num_classes\n",
    "\n",
    "            self.main = nn.Sequential(\n",
    "\n",
    "                nn.Linear(input_dim, 500),\n",
    "                nn.BatchNorm1d(500),  # maintain health gradient flow\n",
    "                nn.ReLU(),\n",
    "\n",
    "                nn.Linear(500, 500),\n",
    "                nn.BatchNorm1d(500),  # maintain health gradient flow\n",
    "                nn.ReLU(),\n",
    "\n",
    "                nn.Linear(500, self.num_classes),  # maintain health gradient flow\n",
    "                nn.ReLU(),\n",
    "\n",
    "            )\n",
    "\n",
    "        def forward(self, xb):\n",
    "            xb = self.main(xb)\n",
    "            return xb.view(-1, self.num_classes)\n",
    "    \n",
    "    def get_model(input_dim, num_classes):\n",
    "        nn = NN(num_classes, input_dim)\n",
    "        return nn, optim.Adam(nn.parameters(), lr=10)\n",
    "    \n",
    "    model, opt = get_model(input_dim=x.shape[1], num_classes=num_components)\n",
    "    loss = nn.CrossEntropyLoss()\n",
    "    learn = Learner(train_dl, valid_dl, model, loss, opt)\n",
    "\n",
    "    loss_cb = LossCallback()\n",
    "    acc_cb = MulticlassAccuracyCallback()\n",
    "    cb_handler = CallbackHandler(cbs=[loss_cb, acc_cb])\n",
    "\n",
    "    trainer = Trainer(learn=learn, cb_handler=cb_handler)\n",
    "\n",
    "#     trainer.find_lr(beta=0.98, final_value=100, num_itr=300)\n",
    "    \n",
    "    trainer.set_lr(5e-4)\n",
    "    trainer.train(10)\n",
    "    \n",
    "    model.eval()\n",
    "    output = model(valid_ds.tensors[0].float())\n",
    "    ypred = output.detach().numpy().argmax(axis=1)\n",
    "    conf_mat = confusion_matrix(y_valid, ypred)\n",
    "    print(np.mean(y_valid == ypred))\n",
    "    \n",
    "    with open(f'{RESULTS_DIR}/{GAME}_{MODEL}_disentanglement_plots/confmat_{num_components}.json', 'w+') as json_f:\n",
    "        json.dump(conf_mat.tolist(), json_f)"
   ]
  },
  {
   "cell_type": "code",
   "execution_count": 23,
   "metadata": {},
   "outputs": [],
   "source": [
    "num_components_s = [2, 4, 6, 8, 10, 15, 20, 30, 40, 50]"
   ]
  },
  {
   "cell_type": "code",
   "execution_count": 24,
   "metadata": {},
   "outputs": [],
   "source": [
    "confmats = []\n",
    "for fname in sorted(\n",
    "    [fn for fn in os.listdir(f'{RESULTS_DIR}/{GAME}_{MODEL}_disentanglement_plots') if fn.split('.')[-1] == 'json'], \n",
    "    key=lambda fn : int(fn.split('.')[0].split('_')[1])\n",
    "):    \n",
    "    with open(f'{RESULTS_DIR}/{GAME}_{MODEL}_disentanglement_plots/{fname}', 'r') as json_f:\n",
    "        confmats.append(np.array(json.load(json_f)))"
   ]
  },
  {
   "cell_type": "code",
   "execution_count": 38,
   "metadata": {},
   "outputs": [
    {
     "data": {
      "text/plain": [
       "array([[0.57843137, 0.42156863],\n",
       "       [0.33163265, 0.66836735]])"
      ]
     },
     "execution_count": 38,
     "metadata": {},
     "output_type": "execute_result"
    }
   ],
   "source": [
    "confmats[0] / confmats[0].sum(axis=1).reshape(-1, 1)"
   ]
  },
  {
   "cell_type": "code",
   "execution_count": 25,
   "metadata": {},
   "outputs": [
    {
     "data": {
      "text/plain": [
       "(10, 10)"
      ]
     },
     "execution_count": 25,
     "metadata": {},
     "output_type": "execute_result"
    }
   ],
   "source": [
    "len(num_components_s), len(confmats)"
   ]
  },
  {
   "cell_type": "code",
   "execution_count": 29,
   "metadata": {},
   "outputs": [],
   "source": [
    "accs_to_search = [70, 80, 90]\n",
    "accs_s = [[] for k in accs_to_search]\n",
    "for confmat in confmats:\n",
    "    confmat = confmat / confmat.sum(axis=1).reshape(-1, 1)\n",
    "    diag = confmat * np.eye(confmat.shape[0])\n",
    "    for i, acc in enumerate(accs_to_search):\n",
    "        accs_s[i].append(np.sum(diag[diag != 0] >= (acc / 100)))"
   ]
  },
  {
   "cell_type": "code",
   "execution_count": 30,
   "metadata": {},
   "outputs": [
    {
     "data": {
      "text/plain": [
       "(3, 10)"
      ]
     },
     "execution_count": 30,
     "metadata": {},
     "output_type": "execute_result"
    }
   ],
   "source": [
    "np.array(accs_s).shape"
   ]
  },
  {
   "cell_type": "code",
   "execution_count": 36,
   "metadata": {},
   "outputs": [
    {
     "data": {
      "image/png": "[encoded data removed]",
      "text/plain": [
       "<Figure size 432x288 with 1 Axes>"
      ]
     },
     "metadata": {
      "needs_background": "light"
     },
     "output_type": "display_data"
    }
   ],
   "source": [
    "for i, (acc, accs) in enumerate(zip(accs_to_search, accs_s)):\n",
    "    plt.plot(num_components_s, np.array(accs) / np.array(num_components_s), linewidth=5, alpha=0.7, label=f'$\\geq$ {acc}%')\n",
    "plt.xlabel('Number of components', fontsize=12.5); plt.ylabel('Proportion', fontsize=12.5)\n",
    "plt.xticks(num_components_s, fontsize=12.5); plt.yticks(fontsize=12.5)\n",
    "plt.xlim(0, 52)\n",
    "plt.grid()\n",
    "plt.legend(loc='upper center', bbox_to_anchor=(0.5, 1.15),\n",
    "          ncol=3, fancybox=False, shadow=False)\n",
    "# plt.scatter([2], [0], color='red', s=50, zorder=10)\n",
    "plt.savefig(f'{RESULTS_DIR}/{GAME}_{MODEL}_disentanglement_plots/{GAME}_{MODEL}_disentanglement.png', dpi=100)"
   ]
  },
  {
   "cell_type": "code",
   "execution_count": 39,
   "metadata": {},
   "outputs": [
    {
     "name": "stdout",
     "output_type": "stream",
     "text": [
      "0.0\n",
      "0.7801666666666666\n",
      "1.0\n",
      "0.0\n",
      "0.6056666666666667\n",
      "1.0\n",
      "0.0\n",
      "0.179\n",
      "0.5\n"
     ]
    }
   ],
   "source": [
    "print(np.min(np.array(accs_s[0]) / np.array(num_components_s)))\n",
    "print(np.mean(np.array(accs_s[0]) / np.array(num_components_s)))\n",
    "print(np.max(np.array(accs_s[0]) / np.array(num_components_s)))\n",
    "\n",
    "print(np.min(np.array(accs_s[1]) / np.array(num_components_s)))\n",
    "print(np.mean(np.array(accs_s[1]) / np.array(num_components_s)))\n",
    "print(np.max(np.array(accs_s[1]) / np.array(num_components_s)))\n",
    "\n",
    "print(np.min(np.array(accs_s[2]) / np.array(num_components_s)))\n",
    "print(np.mean(np.array(accs_s[2]) / np.array(num_components_s)))\n",
    "print(np.max(np.array(accs_s[2]) / np.array(num_components_s)))"
   ]
  },
  {
   "cell_type": "code",
   "execution_count": null,
   "metadata": {},
   "outputs": [],
   "source": []
  }
 ],
 "metadata": {
  "kernelspec": {
   "display_name": "Python 3",
   "language": "python",
   "name": "python3"
  },
  "language_info": {
   "codemirror_mode": {
    "name": "ipython",
    "version": 3
   },
   "file_extension": ".py",
   "mimetype": "text/x-python",
   "name": "python",
   "nbconvert_exporter": "python",
   "pygments_lexer": "ipython3",
   "version": "3.7.6"
  },
  "toc": {
   "base_numbering": 1,
   "nav_menu": {},
   "number_sections": true,
   "sideBar": true,
   "skip_h1_title": false,
   "title_cell": "Table of Contents",
   "title_sidebar": "Contents",
   "toc_cell": false,
   "toc_position": {},
   "toc_section_display": true,
   "toc_window_display": false
  },
  "varInspector": {
   "cols": {
    "lenName": 16,
    "lenType": 16,
    "lenVar": 40
   },
   "kernels_config": {
    "python": {
     "delete_cmd_postfix": "",
     "delete_cmd_prefix": "del ",
     "library": "var_list.py",
     "varRefreshCmd": "print(var_dic_list())"
    },
    "r": {
     "delete_cmd_postfix": ") ",
     "delete_cmd_prefix": "rm(",
     "library": "var_list.r",
     "varRefreshCmd": "cat(var_dic_list()) "
    }
   },
   "types_to_exclude": [
    "module",
    "function",
    "builtin_function_or_method",
    "instance",
    "_Feature"
   ],
   "window_display": false
  }
 },
 "nbformat": 4,
 "nbformat_minor": 2
}
