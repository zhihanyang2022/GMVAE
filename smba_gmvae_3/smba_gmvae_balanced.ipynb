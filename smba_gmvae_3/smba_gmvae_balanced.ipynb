{
 "cells": [
  {
   "cell_type": "markdown",
   "metadata": {},
   "source": [
    "# GM-VAE for SMBA"
   ]
  },
  {
   "cell_type": "code",
   "execution_count": 1,
   "metadata": {},
   "outputs": [],
   "source": [
    "num_components=3"
   ]
  },
  {
   "cell_type": "markdown",
   "metadata": {
    "colab_type": "text",
    "id": "rGzTb0oswH5J"
   },
   "source": [
    "## Import Libraries"
   ]
  },
  {
   "cell_type": "code",
   "execution_count": 2,
   "metadata": {
    "colab": {},
    "colab_type": "code",
    "id": "ThVeaB3CwI4j"
   },
   "outputs": [],
   "source": [
    "import json\n",
    "\n",
    "import numpy as np\n",
    "import argparse\n",
    "import random\n",
    "from torchvision import datasets, transforms\n",
    "from torch.utils.data.sampler import SubsetRandomSampler, WeightedRandomSampler\n",
    "import torch.utils.data\n",
    "from scipy.io import loadmat\n",
    "\n",
    "import sys\n",
    "sys.path.append('/home/yangz2/projects/gmvae_and_gmmvae/pytorch/')\n",
    "sys.path.append('../../1906-pcgml/pcgml-gmmVae-exp/modules/')\n",
    "import vglc_with_path_encodings\n",
    "\n",
    "from model.GMVAE import *\n",
    "from metrics.Metrics import *\n",
    "import matplotlib.pyplot as plt\n",
    "import seaborn as sns\n",
    "%matplotlib inline\n",
    "\n",
    "import warnings\n",
    "warnings.filterwarnings('ignore')"
   ]
  },
  {
   "cell_type": "markdown",
   "metadata": {},
   "source": [
    "## Load data"
   ]
  },
  {
   "cell_type": "code",
   "execution_count": 3,
   "metadata": {},
   "outputs": [],
   "source": [
    "def open_json_as_nparray(json_fname):\n",
    "    with open(json_fname, 'r') as json_f:\n",
    "        return np.array(json.load(json_f))"
   ]
  },
  {
   "cell_type": "markdown",
   "metadata": {},
   "source": [
    "Load SMB."
   ]
  },
  {
   "cell_type": "code",
   "execution_count": 4,
   "metadata": {},
   "outputs": [],
   "source": [
    "smb_int = open_json_as_nparray('smbWithPath-allLevels-chunks-int.json')"
   ]
  },
  {
   "cell_type": "code",
   "execution_count": 5,
   "metadata": {},
   "outputs": [
    {
     "data": {
      "text/plain": [
       "(2698, 16, 16, 12)"
      ]
     },
     "execution_count": 5,
     "metadata": {},
     "output_type": "execute_result"
    }
   ],
   "source": [
    "smb_onehot = np.eye(len(np.unique(smb_int)))[smb_int]\n",
    "smb_onehot.shape"
   ]
  },
  {
   "cell_type": "code",
   "execution_count": 6,
   "metadata": {},
   "outputs": [
    {
     "data": {
      "text/plain": [
       "(2698, 3072)"
      ]
     },
     "execution_count": 6,
     "metadata": {},
     "output_type": "execute_result"
    }
   ],
   "source": [
    "smb_onehot = smb_onehot.reshape(\n",
    "    smb_onehot.shape[0], \n",
    "    smb_onehot.shape[1] * smb_onehot.shape[2] * smb_onehot.shape[3]\n",
    ")\n",
    "smb_onehot.shape"
   ]
  },
  {
   "cell_type": "code",
   "execution_count": 7,
   "metadata": {},
   "outputs": [],
   "source": [
    "chunks = smb_onehot"
   ]
  },
  {
   "cell_type": "markdown",
   "metadata": {
    "colab_type": "text",
    "id": "3QNKItMHwQU2"
   },
   "source": [
    "## Input Parameters"
   ]
  },
  {
   "cell_type": "code",
   "execution_count": 8,
   "metadata": {
    "colab": {},
    "colab_type": "code",
    "id": "8tBHkTQ4wVIG"
   },
   "outputs": [],
   "source": [
    "########################################################\n",
    "## Input Parameters\n",
    "#########################################################\n",
    "parser = argparse.ArgumentParser(description='PyTorch Implementation of DGM Clustering')\n",
    "\n",
    "## Used only in notebooks\n",
    "parser.add_argument('-f', '--file',\n",
    "                    help='Path for input file. First line should contain number of lines to search in')\n",
    "\n",
    "## Dataset\n",
    "parser.add_argument('--dataset', type=str, choices=['mnist'],\n",
    "                    default='mnist', help='dataset (default: mnist)')\n",
    "parser.add_argument('--seed', type=int, default=1, help='random seed (default: 1)')\n",
    "\n",
    "## GPU\n",
    "parser.add_argument('--cuda', type=int, default=0,\n",
    "                    help='use of cuda (default: 1)')\n",
    "parser.add_argument('--gpuID', type=int, default=0,\n",
    "                    help='set gpu id to use (default: 0)')\n",
    "\n",
    "## Training\n",
    "parser.add_argument('--epochs', type=int, default=200,\n",
    "                    help='number of total epochs to run (default: 200)')\n",
    "parser.add_argument('--batch_size', default=64, type=int,\n",
    "                    help='mini-batch size (default: 64)')\n",
    "parser.add_argument('--batch_size_val', default=200, type=int,\n",
    "                    help='mini-batch size of validation (default: 200)')\n",
    "parser.add_argument('--learning_rate', default=1e-3, type=float,\n",
    "                    help='learning rate (default: 0.001)')\n",
    "parser.add_argument('--decay_epoch', default=-1, type=int, \n",
    "                    help='Reduces the learning rate every decay_epoch')\n",
    "parser.add_argument('--lr_decay', default=0.5, type=float,\n",
    "                    help='Learning rate decay for training (default: 0.5)')\n",
    "\n",
    "## Architecture\n",
    "parser.add_argument('--num_classes', type=int, default=num_components,\n",
    "                    help='number of classes (default: 10)')  # edited for this task\n",
    "parser.add_argument('--gaussian_size', default=64, type=int,\n",
    "                    help='gaussian size (default: 64)')\n",
    "parser.add_argument('--input_size', default=3072, type=int,\n",
    "                    help='input size (default: 784)')  # edited for this task\n",
    "\n",
    "## Partition parameters\n",
    "parser.add_argument('--train_proportion', default=0.9, type=float,\n",
    "                    help='proportion of examples to consider for training only (default: 1.0)')\n",
    "\n",
    "## Gumbel parameters\n",
    "parser.add_argument('--init_temp', default=1.0, type=float,\n",
    "                    help='Initial temperature used in gumbel-softmax (recommended 0.5-1.0, default:1.0)')\n",
    "parser.add_argument('--decay_temp', default=1, type=int, \n",
    "                    help='Set 1 to decay gumbel temperature at every epoch (default: 1)')\n",
    "parser.add_argument('--hard_gumbel', default=0, type=int, \n",
    "                    help='Set 1 to use the hard version of gumbel-softmax (default: 1)')\n",
    "parser.add_argument('--min_temp', default=0.5, type=float, \n",
    "                    help='Minimum temperature of gumbel-softmax after annealing (default: 0.5)' )\n",
    "parser.add_argument('--decay_temp_rate', default=0.013862944, type=float,\n",
    "                    help='Temperature decay rate at every epoch (default: 0.013862944)')\n",
    "\n",
    "## Loss function parameters\n",
    "parser.add_argument('--w_gauss', default=2, type=float,\n",
    "                    help='weight of gaussian loss (default: 1)')\n",
    "parser.add_argument('--w_categ', default=1, type=float,\n",
    "                    help='weight of categorical loss (default: 1)')\n",
    "parser.add_argument('--w_rec', default=1, type=float,\n",
    "                    help='weight of reconstruction loss (default: 1)')\n",
    "parser.add_argument('--rec_type', type=str, choices=['bce', 'mse'],\n",
    "                    default='bce', help='desired reconstruction loss function (default: bce)')\n",
    "\n",
    "## Others\n",
    "parser.add_argument('--verbose', default=0, type=int,\n",
    "                    help='print extra information at every epoch.(default: 0)')\n",
    "\n",
    "args = parser.parse_args()"
   ]
  },
  {
   "cell_type": "markdown",
   "metadata": {
    "colab_type": "text",
    "id": "Bti6lPHawc9z"
   },
   "source": [
    "Set random seed in case it was specified in the parameters\n"
   ]
  },
  {
   "cell_type": "code",
   "execution_count": 9,
   "metadata": {
    "colab": {},
    "colab_type": "code",
    "id": "IpWPxTy1wgbJ"
   },
   "outputs": [],
   "source": [
    "## Random Seed\n",
    "SEED = args.seed\n",
    "np.random.seed(SEED)\n",
    "random.seed(SEED)\n",
    "torch.manual_seed(SEED)\n",
    "if args.cuda:\n",
    "    torch.cuda.manual_seed(SEED)"
   ]
  },
  {
   "cell_type": "markdown",
   "metadata": {
    "colab_type": "text",
    "id": "fmrkmhttwkiD"
   },
   "source": [
    "## Data Partition"
   ]
  },
  {
   "cell_type": "markdown",
   "metadata": {
    "colab_type": "text",
    "id": "fUuTFMBhb2vZ"
   },
   "source": [
    "We split the training data into train and validation according to the *train_proportion* parameter:"
   ]
  },
  {
   "cell_type": "code",
   "execution_count": 15,
   "metadata": {},
   "outputs": [],
   "source": [
    "with open('../../1906-pcgml/pcgml-gmmVae-exp/data/smba_level_idx_per_chunk.json', 'r') as json_f:\n",
    "    level_idxs = np.array(json.load(json_f))"
   ]
  },
  {
   "cell_type": "code",
   "execution_count": 16,
   "metadata": {},
   "outputs": [
    {
     "data": {
      "text/plain": [
       "(array([ 315, 1829,  554]), array([0, 1, 2]))"
      ]
     },
     "execution_count": 16,
     "metadata": {},
     "output_type": "execute_result"
    }
   ],
   "source": [
    "np.bincount(level_idxs), np.unique(level_idxs)"
   ]
  },
  {
   "cell_type": "code",
   "execution_count": 17,
   "metadata": {},
   "outputs": [
    {
     "data": {
      "text/plain": [
       "array([0.00054675, 0.00054675, 0.00054675, ..., 0.00054675, 0.00054675,\n",
       "       0.00054675])"
      ]
     },
     "execution_count": 17,
     "metadata": {},
     "output_type": "execute_result"
    }
   ],
   "source": [
    "frequency = np.bincount(level_idxs)\n",
    "1 / frequency[level_idxs]"
   ]
  },
  {
   "cell_type": "code",
   "execution_count": 18,
   "metadata": {},
   "outputs": [],
   "source": [
    "from torch.utils.data import TensorDataset, DataLoader"
   ]
  },
  {
   "cell_type": "code",
   "execution_count": 19,
   "metadata": {},
   "outputs": [],
   "source": [
    "assert args.train_proportion != 1"
   ]
  },
  {
   "cell_type": "code",
   "execution_count": 20,
   "metadata": {
    "colab": {},
    "colab_type": "code",
    "id": "P8F6pjC7cNX7"
   },
   "outputs": [],
   "source": [
    "valid_indices = np.random.randint(len(chunks), size=500)\n",
    "train_chunks, valid_chunks = chunks, chunks[valid_indices]\n",
    "train_labels, valid_labels = level_idxs, level_idxs[valid_indices]\n",
    "\n",
    "train_ds = TensorDataset(torch.from_numpy(train_chunks).float(), torch.from_numpy(train_labels).long())\n",
    "valid_ds = TensorDataset(torch.from_numpy(valid_chunks).float(), torch.from_numpy(valid_labels).long())"
   ]
  },
  {
   "cell_type": "code",
   "execution_count": 21,
   "metadata": {},
   "outputs": [],
   "source": [
    "train_sampler = WeightedRandomSampler(1 / frequency[level_idxs], num_samples=len(train_chunks), replacement=True)\n",
    "\n",
    "train_dl = DataLoader(train_ds, batch_size=64, sampler=train_sampler)\n",
    "# train_dl = DataLoader(train_ds, batch_size=args.batch_size, shuffle=True)\n",
    "valid_dl = DataLoader(valid_ds, batch_size=args.batch_size_val, shuffle=False)"
   ]
  },
  {
   "cell_type": "code",
   "execution_count": 348,
   "metadata": {},
   "outputs": [
    {
     "data": {
      "image/png": "[encoded data removed]",
      "text/plain": [
       "<Figure size 432x288 with 1 Axes>"
      ]
     },
     "metadata": {
      "needs_background": "light"
     },
     "output_type": "display_data"
    }
   ],
   "source": [
    "plt.hist(next(iter(train_dl))[1].numpy())\n",
    "plt.show()"
   ]
  },
  {
   "cell_type": "markdown",
   "metadata": {
    "colab_type": "text",
    "id": "Pt7sEfZWw_U7"
   },
   "source": [
    "## Train Model"
   ]
  },
  {
   "cell_type": "code",
   "execution_count": 10,
   "metadata": {
    "colab": {},
    "colab_type": "code",
    "id": "qTncRSCuxFEL"
   },
   "outputs": [],
   "source": [
    "# Model Initialization\n",
    "gmvae = GMVAE(args)"
   ]
  },
  {
   "cell_type": "code",
   "execution_count": 352,
   "metadata": {},
   "outputs": [
    {
     "name": "stdout",
     "output_type": "stream",
     "text": [
      "(Epoch 1 / 200) Train_Loss: 496.746; Val_Loss: 247.224   Train_ACC: 34.359; Val_ACC: 65.600   Train_NMI: 0.134; Val_NMI: 1.821\n",
      "(Epoch 2 / 200) Train_Loss: 278.785; Val_Loss: 238.445   Train_ACC: 44.589; Val_ACC: 70.800   Train_NMI: 15.176; Val_NMI: 22.366\n",
      "(Epoch 3 / 200) Train_Loss: 270.982; Val_Loss: 227.984   Train_ACC: 60.007; Val_ACC: 70.800   Train_NMI: 17.925; Val_NMI: 19.911\n",
      "(Epoch 4 / 200) Train_Loss: 255.314; Val_Loss: 225.287   Train_ACC: 63.973; Val_ACC: 76.200   Train_NMI: 37.608; Val_NMI: 56.799\n",
      "(Epoch 5 / 200) Train_Loss: 247.926; Val_Loss: 217.254   Train_ACC: 66.642; Val_ACC: 82.800   Train_NMI: 59.204; Val_NMI: 55.919\n",
      "(Epoch 6 / 200) Train_Loss: 238.192; Val_Loss: 207.286   Train_ACC: 83.655; Val_ACC: 87.400   Train_NMI: 61.189; Val_NMI: 60.965\n",
      "(Epoch 7 / 200) Train_Loss: 231.214; Val_Loss: 202.355   Train_ACC: 86.620; Val_ACC: 91.200   Train_NMI: 64.184; Val_NMI: 67.971\n",
      "(Epoch 8 / 200) Train_Loss: 226.275; Val_Loss: 198.196   Train_ACC: 87.139; Val_ACC: 92.000   Train_NMI: 64.525; Val_NMI: 69.393\n",
      "(Epoch 9 / 200) Train_Loss: 219.952; Val_Loss: 193.086   Train_ACC: 87.064; Val_ACC: 90.200   Train_NMI: 64.554; Val_NMI: 67.899\n",
      "(Epoch 10 / 200) Train_Loss: 212.412; Val_Loss: 191.065   Train_ACC: 88.176; Val_ACC: 92.200   Train_NMI: 65.880; Val_NMI: 70.416\n",
      "(Epoch 11 / 200) Train_Loss: 210.630; Val_Loss: 188.602   Train_ACC: 87.695; Val_ACC: 91.400   Train_NMI: 64.753; Val_NMI: 69.776\n",
      "(Epoch 12 / 200) Train_Loss: 205.229; Val_Loss: 186.966   Train_ACC: 89.177; Val_ACC: 92.600   Train_NMI: 67.596; Val_NMI: 72.433\n",
      "(Epoch 13 / 200) Train_Loss: 203.460; Val_Loss: 185.105   Train_ACC: 89.437; Val_ACC: 93.000   Train_NMI: 68.229; Val_NMI: 73.035\n",
      "(Epoch 14 / 200) Train_Loss: 200.449; Val_Loss: 184.747   Train_ACC: 90.215; Val_ACC: 89.000   Train_NMI: 69.337; Val_NMI: 66.564\n",
      "(Epoch 15 / 200) Train_Loss: 198.227; Val_Loss: 181.475   Train_ACC: 90.363; Val_ACC: 92.200   Train_NMI: 69.956; Val_NMI: 70.702\n",
      "(Epoch 16 / 200) Train_Loss: 199.856; Val_Loss: 179.565   Train_ACC: 89.622; Val_ACC: 92.200   Train_NMI: 68.181; Val_NMI: 72.093\n",
      "(Epoch 17 / 200) Train_Loss: 195.243; Val_Loss: 178.377   Train_ACC: 89.622; Val_ACC: 94.800   Train_NMI: 67.933; Val_NMI: 80.677\n",
      "(Epoch 18 / 200) Train_Loss: 192.965; Val_Loss: 175.677   Train_ACC: 90.771; Val_ACC: 94.000   Train_NMI: 69.709; Val_NMI: 73.949\n",
      "(Epoch 19 / 200) Train_Loss: 190.279; Val_Loss: 173.545   Train_ACC: 90.178; Val_ACC: 93.400   Train_NMI: 69.186; Val_NMI: 73.031\n",
      "(Epoch 20 / 200) Train_Loss: 190.627; Val_Loss: 172.369   Train_ACC: 90.030; Val_ACC: 93.400   Train_NMI: 69.531; Val_NMI: 74.023\n",
      "(Epoch 21 / 200) Train_Loss: 186.259; Val_Loss: 172.965   Train_ACC: 90.845; Val_ACC: 92.600   Train_NMI: 70.497; Val_NMI: 73.309\n",
      "(Epoch 22 / 200) Train_Loss: 181.659; Val_Loss: 169.043   Train_ACC: 92.328; Val_ACC: 95.400   Train_NMI: 74.234; Val_NMI: 79.968\n",
      "(Epoch 23 / 200) Train_Loss: 182.330; Val_Loss: 166.420   Train_ACC: 89.733; Val_ACC: 91.600   Train_NMI: 68.723; Val_NMI: 68.918\n",
      "(Epoch 24 / 200) Train_Loss: 179.078; Val_Loss: 164.438   Train_ACC: 89.585; Val_ACC: 95.400   Train_NMI: 67.257; Val_NMI: 79.302\n",
      "(Epoch 25 / 200) Train_Loss: 177.767; Val_Loss: 164.989   Train_ACC: 91.512; Val_ACC: 93.400   Train_NMI: 72.753; Val_NMI: 72.403\n",
      "(Epoch 26 / 200) Train_Loss: 173.963; Val_Loss: 162.285   Train_ACC: 90.437; Val_ACC: 87.400   Train_NMI: 69.152; Val_NMI: 60.590\n",
      "(Epoch 27 / 200) Train_Loss: 174.633; Val_Loss: 160.595   Train_ACC: 87.213; Val_ACC: 92.200   Train_NMI: 61.857; Val_NMI: 68.704\n",
      "(Epoch 28 / 200) Train_Loss: 172.107; Val_Loss: 160.482   Train_ACC: 87.287; Val_ACC: 84.200   Train_NMI: 62.709; Val_NMI: 56.960\n",
      "(Epoch 29 / 200) Train_Loss: 170.068; Val_Loss: 160.522   Train_ACC: 86.286; Val_ACC: 89.000   Train_NMI: 60.981; Val_NMI: 62.720\n",
      "(Epoch 30 / 200) Train_Loss: 168.783; Val_Loss: 158.745   Train_ACC: 87.176; Val_ACC: 92.200   Train_NMI: 62.462; Val_NMI: 69.250\n",
      "(Epoch 31 / 200) Train_Loss: 165.900; Val_Loss: 157.329   Train_ACC: 85.619; Val_ACC: 83.000   Train_NMI: 59.537; Val_NMI: 55.298\n",
      "(Epoch 32 / 200) Train_Loss: 166.146; Val_Loss: 156.730   Train_ACC: 86.694; Val_ACC: 91.800   Train_NMI: 61.244; Val_NMI: 67.311\n",
      "(Epoch 33 / 200) Train_Loss: 163.103; Val_Loss: 156.592   Train_ACC: 87.213; Val_ACC: 87.200   Train_NMI: 62.596; Val_NMI: 60.421\n",
      "(Epoch 34 / 200) Train_Loss: 162.737; Val_Loss: 154.911   Train_ACC: 86.101; Val_ACC: 90.800   Train_NMI: 60.524; Val_NMI: 66.319\n",
      "(Epoch 35 / 200) Train_Loss: 163.889; Val_Loss: 155.369   Train_ACC: 87.176; Val_ACC: 92.000   Train_NMI: 62.121; Val_NMI: 69.049\n",
      "(Epoch 36 / 200) Train_Loss: 161.814; Val_Loss: 152.299   Train_ACC: 87.250; Val_ACC: 89.600   Train_NMI: 62.435; Val_NMI: 64.159\n",
      "(Epoch 37 / 200) Train_Loss: 160.959; Val_Loss: 152.087   Train_ACC: 86.138; Val_ACC: 89.400   Train_NMI: 60.488; Val_NMI: 63.820\n",
      "(Epoch 38 / 200) Train_Loss: 160.947; Val_Loss: 153.178   Train_ACC: 87.472; Val_ACC: 85.600   Train_NMI: 62.310; Val_NMI: 58.795\n",
      "(Epoch 39 / 200) Train_Loss: 159.994; Val_Loss: 151.109   Train_ACC: 85.174; Val_ACC: 92.200   Train_NMI: 58.179; Val_NMI: 69.827\n",
      "(Epoch 40 / 200) Train_Loss: 155.595; Val_Loss: 149.290   Train_ACC: 88.176; Val_ACC: 91.200   Train_NMI: 63.371; Val_NMI: 67.092\n",
      "(Epoch 41 / 200) Train_Loss: 157.036; Val_Loss: 149.361   Train_ACC: 86.360; Val_ACC: 87.200   Train_NMI: 60.651; Val_NMI: 60.930\n",
      "(Epoch 42 / 200) Train_Loss: 157.463; Val_Loss: 149.695   Train_ACC: 87.361; Val_ACC: 90.400   Train_NMI: 62.030; Val_NMI: 65.574\n",
      "(Epoch 43 / 200) Train_Loss: 156.233; Val_Loss: 146.900   Train_ACC: 86.805; Val_ACC: 91.400   Train_NMI: 61.878; Val_NMI: 67.098\n",
      "(Epoch 44 / 200) Train_Loss: 154.233; Val_Loss: 148.496   Train_ACC: 87.806; Val_ACC: 93.800   Train_NMI: 63.455; Val_NMI: 73.171\n",
      "(Epoch 45 / 200) Train_Loss: 152.297; Val_Loss: 146.635   Train_ACC: 87.435; Val_ACC: 92.400   Train_NMI: 61.920; Val_NMI: 68.898\n",
      "(Epoch 46 / 200) Train_Loss: 152.928; Val_Loss: 144.242   Train_ACC: 87.843; Val_ACC: 93.800   Train_NMI: 63.545; Val_NMI: 72.853\n",
      "(Epoch 47 / 200) Train_Loss: 148.964; Val_Loss: 144.908   Train_ACC: 87.917; Val_ACC: 87.600   Train_NMI: 63.234; Val_NMI: 60.998\n",
      "(Epoch 48 / 200) Train_Loss: 147.280; Val_Loss: 143.984   Train_ACC: 88.732; Val_ACC: 94.800   Train_NMI: 65.117; Val_NMI: 75.724\n",
      "(Epoch 49 / 200) Train_Loss: 147.467; Val_Loss: 143.305   Train_ACC: 87.583; Val_ACC: 94.400   Train_NMI: 62.683; Val_NMI: 74.677\n",
      "(Epoch 50 / 200) Train_Loss: 145.898; Val_Loss: 143.286   Train_ACC: 87.027; Val_ACC: 93.000   Train_NMI: 61.706; Val_NMI: 71.790\n",
      "(Epoch 51 / 200) Train_Loss: 145.377; Val_Loss: 142.033   Train_ACC: 87.102; Val_ACC: 93.200   Train_NMI: 61.508; Val_NMI: 72.145\n",
      "(Epoch 52 / 200) Train_Loss: 143.196; Val_Loss: 141.324   Train_ACC: 86.768; Val_ACC: 93.600   Train_NMI: 61.584; Val_NMI: 72.872\n",
      "(Epoch 53 / 200) Train_Loss: 142.612; Val_Loss: 140.591   Train_ACC: 87.361; Val_ACC: 92.800   Train_NMI: 61.818; Val_NMI: 70.996\n",
      "(Epoch 54 / 200) Train_Loss: 140.982; Val_Loss: 139.067   Train_ACC: 86.471; Val_ACC: 94.200   Train_NMI: 60.493; Val_NMI: 74.265\n",
      "(Epoch 55 / 200) Train_Loss: 143.294; Val_Loss: 140.568   Train_ACC: 87.695; Val_ACC: 94.600   Train_NMI: 63.359; Val_NMI: 75.109\n",
      "(Epoch 56 / 200) Train_Loss: 142.631; Val_Loss: 138.398   Train_ACC: 87.917; Val_ACC: 94.000   Train_NMI: 62.735; Val_NMI: 73.712\n",
      "(Epoch 57 / 200) Train_Loss: 139.431; Val_Loss: 137.685   Train_ACC: 87.324; Val_ACC: 94.800   Train_NMI: 62.703; Val_NMI: 75.525\n",
      "(Epoch 58 / 200) Train_Loss: 137.650; Val_Loss: 137.102   Train_ACC: 86.805; Val_ACC: 95.200   Train_NMI: 61.263; Val_NMI: 77.107\n",
      "(Epoch 59 / 200) Train_Loss: 137.598; Val_Loss: 136.785   Train_ACC: 87.102; Val_ACC: 93.800   Train_NMI: 61.809; Val_NMI: 73.195\n",
      "(Epoch 60 / 200) Train_Loss: 135.510; Val_Loss: 135.727   Train_ACC: 87.954; Val_ACC: 93.400   Train_NMI: 63.506; Val_NMI: 72.199\n",
      "(Epoch 61 / 200) Train_Loss: 133.288; Val_Loss: 133.069   Train_ACC: 87.806; Val_ACC: 95.200   Train_NMI: 63.420; Val_NMI: 77.144\n",
      "(Epoch 62 / 200) Train_Loss: 130.851; Val_Loss: 133.481   Train_ACC: 87.917; Val_ACC: 94.800   Train_NMI: 63.624; Val_NMI: 75.863\n",
      "(Epoch 63 / 200) Train_Loss: 132.836; Val_Loss: 132.153   Train_ACC: 87.732; Val_ACC: 94.000   Train_NMI: 63.183; Val_NMI: 73.712\n",
      "(Epoch 64 / 200) Train_Loss: 131.212; Val_Loss: 132.240   Train_ACC: 87.658; Val_ACC: 94.400   Train_NMI: 62.891; Val_NMI: 74.522\n"
     ]
    },
    {
     "name": "stdout",
     "output_type": "stream",
     "text": [
      "(Epoch 65 / 200) Train_Loss: 129.054; Val_Loss: 129.474   Train_ACC: 87.769; Val_ACC: 94.200   Train_NMI: 62.702; Val_NMI: 74.171\n",
      "(Epoch 66 / 200) Train_Loss: 126.475; Val_Loss: 128.613   Train_ACC: 86.805; Val_ACC: 94.400   Train_NMI: 62.027; Val_NMI: 74.330\n",
      "(Epoch 67 / 200) Train_Loss: 127.399; Val_Loss: 128.907   Train_ACC: 87.769; Val_ACC: 89.000   Train_NMI: 62.935; Val_NMI: 63.570\n",
      "(Epoch 68 / 200) Train_Loss: 125.956; Val_Loss: 128.037   Train_ACC: 87.027; Val_ACC: 95.000   Train_NMI: 61.433; Val_NMI: 76.521\n",
      "(Epoch 69 / 200) Train_Loss: 123.117; Val_Loss: 126.200   Train_ACC: 88.028; Val_ACC: 95.000   Train_NMI: 63.598; Val_NMI: 76.166\n",
      "(Epoch 70 / 200) Train_Loss: 122.735; Val_Loss: 128.011   Train_ACC: 87.546; Val_ACC: 94.600   Train_NMI: 62.844; Val_NMI: 74.673\n",
      "(Epoch 71 / 200) Train_Loss: 118.702; Val_Loss: 125.910   Train_ACC: 85.730; Val_ACC: 95.000   Train_NMI: 59.338; Val_NMI: 76.316\n",
      "(Epoch 72 / 200) Train_Loss: 119.783; Val_Loss: 124.749   Train_ACC: 88.695; Val_ACC: 94.600   Train_NMI: 65.316; Val_NMI: 75.113\n",
      "(Epoch 73 / 200) Train_Loss: 119.898; Val_Loss: 123.438   Train_ACC: 87.398; Val_ACC: 93.600   Train_NMI: 62.014; Val_NMI: 72.691\n",
      "(Epoch 74 / 200) Train_Loss: 116.834; Val_Loss: 123.708   Train_ACC: 88.510; Val_ACC: 94.200   Train_NMI: 64.592; Val_NMI: 73.975\n",
      "(Epoch 75 / 200) Train_Loss: 115.186; Val_Loss: 122.218   Train_ACC: 87.583; Val_ACC: 93.000   Train_NMI: 62.586; Val_NMI: 69.719\n",
      "(Epoch 76 / 200) Train_Loss: 114.649; Val_Loss: 120.635   Train_ACC: 87.917; Val_ACC: 94.800   Train_NMI: 64.318; Val_NMI: 75.413\n",
      "(Epoch 77 / 200) Train_Loss: 112.606; Val_Loss: 119.284   Train_ACC: 87.472; Val_ACC: 95.000   Train_NMI: 63.090; Val_NMI: 76.067\n",
      "(Epoch 78 / 200) Train_Loss: 118.889; Val_Loss: 120.146   Train_ACC: 88.881; Val_ACC: 94.800   Train_NMI: 65.334; Val_NMI: 75.533\n",
      "(Epoch 79 / 200) Train_Loss: 114.794; Val_Loss: 118.399   Train_ACC: 87.954; Val_ACC: 95.000   Train_NMI: 63.923; Val_NMI: 76.166\n",
      "(Epoch 80 / 200) Train_Loss: 110.901; Val_Loss: 118.624   Train_ACC: 88.510; Val_ACC: 95.400   Train_NMI: 65.277; Val_NMI: 77.506\n",
      "(Epoch 81 / 200) Train_Loss: 109.571; Val_Loss: 116.740   Train_ACC: 88.547; Val_ACC: 94.200   Train_NMI: 65.238; Val_NMI: 73.975\n",
      "(Epoch 82 / 200) Train_Loss: 110.742; Val_Loss: 116.700   Train_ACC: 88.213; Val_ACC: 94.600   Train_NMI: 63.832; Val_NMI: 74.922\n",
      "(Epoch 83 / 200) Train_Loss: 107.696; Val_Loss: 117.567   Train_ACC: 88.436; Val_ACC: 95.200   Train_NMI: 64.580; Val_NMI: 76.823\n",
      "(Epoch 84 / 200) Train_Loss: 106.687; Val_Loss: 114.861   Train_ACC: 89.103; Val_ACC: 95.000   Train_NMI: 66.096; Val_NMI: 76.078\n",
      "(Epoch 85 / 200) Train_Loss: 105.072; Val_Loss: 114.996   Train_ACC: 87.732; Val_ACC: 95.000   Train_NMI: 62.942; Val_NMI: 76.166\n",
      "(Epoch 86 / 200) Train_Loss: 107.401; Val_Loss: 115.129   Train_ACC: 87.027; Val_ACC: 94.600   Train_NMI: 61.579; Val_NMI: 74.782\n",
      "(Epoch 87 / 200) Train_Loss: 106.349; Val_Loss: 114.131   Train_ACC: 87.991; Val_ACC: 94.600   Train_NMI: 63.690; Val_NMI: 74.687\n",
      "(Epoch 88 / 200) Train_Loss: 107.458; Val_Loss: 114.998   Train_ACC: 87.991; Val_ACC: 95.000   Train_NMI: 63.385; Val_NMI: 76.019\n",
      "(Epoch 89 / 200) Train_Loss: 103.110; Val_Loss: 113.575   Train_ACC: 88.213; Val_ACC: 90.000   Train_NMI: 64.072; Val_NMI: 64.820\n",
      "(Epoch 90 / 200) Train_Loss: 104.153; Val_Loss: 113.400   Train_ACC: 87.064; Val_ACC: 94.400   Train_NMI: 61.355; Val_NMI: 74.330\n",
      "(Epoch 91 / 200) Train_Loss: 102.071; Val_Loss: 111.629   Train_ACC: 88.102; Val_ACC: 95.000   Train_NMI: 64.267; Val_NMI: 76.067\n",
      "(Epoch 92 / 200) Train_Loss: 99.534; Val_Loss: 111.711   Train_ACC: 87.361; Val_ACC: 94.800   Train_NMI: 62.370; Val_NMI: 75.340\n",
      "(Epoch 93 / 200) Train_Loss: 102.824; Val_Loss: 109.930   Train_ACC: 87.064; Val_ACC: 94.400   Train_NMI: 61.570; Val_NMI: 74.788\n",
      "(Epoch 94 / 200) Train_Loss: 102.390; Val_Loss: 111.702   Train_ACC: 87.917; Val_ACC: 93.600   Train_NMI: 63.142; Val_NMI: 72.388\n",
      "(Epoch 95 / 200) Train_Loss: 98.444; Val_Loss: 109.252   Train_ACC: 87.213; Val_ACC: 95.200   Train_NMI: 62.054; Val_NMI: 76.951\n",
      "(Epoch 96 / 200) Train_Loss: 97.541; Val_Loss: 108.122   Train_ACC: 88.510; Val_ACC: 95.400   Train_NMI: 64.802; Val_NMI: 77.506\n",
      "(Epoch 97 / 200) Train_Loss: 96.860; Val_Loss: 108.670   Train_ACC: 89.288; Val_ACC: 94.400   Train_NMI: 66.556; Val_NMI: 74.330\n",
      "(Epoch 98 / 200) Train_Loss: 96.496; Val_Loss: 108.194   Train_ACC: 87.917; Val_ACC: 94.800   Train_NMI: 63.281; Val_NMI: 75.413\n",
      "(Epoch 99 / 200) Train_Loss: 93.152; Val_Loss: 106.761   Train_ACC: 86.805; Val_ACC: 93.200   Train_NMI: 61.328; Val_NMI: 71.396\n",
      "(Epoch 100 / 200) Train_Loss: 96.322; Val_Loss: 107.523   Train_ACC: 87.695; Val_ACC: 93.600   Train_NMI: 63.128; Val_NMI: 71.832\n",
      "(Epoch 101 / 200) Train_Loss: 96.404; Val_Loss: 106.991   Train_ACC: 87.176; Val_ACC: 93.800   Train_NMI: 62.058; Val_NMI: 72.105\n"
     ]
    },
    {
     "ename": "KeyboardInterrupt",
     "evalue": "",
     "output_type": "error",
     "traceback": [
      "\u001b[0;31m---------------------------------------------------------------------------\u001b[0m",
      "\u001b[0;31mKeyboardInterrupt\u001b[0m                         Traceback (most recent call last)",
      "\u001b[0;32m<ipython-input-352-9bea47431a3b>\u001b[0m in \u001b[0;36m<module>\u001b[0;34m\u001b[0m\n\u001b[0;32m----> 1\u001b[0;31m \u001b[0mhistory_loss\u001b[0m \u001b[0;34m=\u001b[0m \u001b[0mgmvae\u001b[0m\u001b[0;34m.\u001b[0m\u001b[0mtrain\u001b[0m\u001b[0;34m(\u001b[0m\u001b[0mtrain_dl\u001b[0m\u001b[0;34m,\u001b[0m \u001b[0mvalid_dl\u001b[0m\u001b[0;34m)\u001b[0m\u001b[0;34m\u001b[0m\u001b[0;34m\u001b[0m\u001b[0m\n\u001b[0m",
      "\u001b[0;32m~/projects/gmvae_and_gmmvae/pytorch/model/GMVAE.py\u001b[0m in \u001b[0;36mtrain\u001b[0;34m(self, train_loader, val_loader)\u001b[0m\n\u001b[1;32m    252\u001b[0m \u001b[0;34m\u001b[0m\u001b[0m\n\u001b[1;32m    253\u001b[0m     \u001b[0;32mfor\u001b[0m \u001b[0mepoch\u001b[0m \u001b[0;32min\u001b[0m \u001b[0mrange\u001b[0m\u001b[0;34m(\u001b[0m\u001b[0;36m1\u001b[0m\u001b[0;34m,\u001b[0m \u001b[0mself\u001b[0m\u001b[0;34m.\u001b[0m\u001b[0mnum_epochs\u001b[0m \u001b[0;34m+\u001b[0m \u001b[0;36m1\u001b[0m\u001b[0;34m)\u001b[0m\u001b[0;34m:\u001b[0m\u001b[0;34m\u001b[0m\u001b[0;34m\u001b[0m\u001b[0m\n\u001b[0;32m--> 254\u001b[0;31m       \u001b[0mtrain_loss\u001b[0m\u001b[0;34m,\u001b[0m \u001b[0mtrain_rec\u001b[0m\u001b[0;34m,\u001b[0m \u001b[0mtrain_gauss\u001b[0m\u001b[0;34m,\u001b[0m \u001b[0mtrain_cat\u001b[0m\u001b[0;34m,\u001b[0m \u001b[0mtrain_acc\u001b[0m\u001b[0;34m,\u001b[0m \u001b[0mtrain_nmi\u001b[0m \u001b[0;34m=\u001b[0m \u001b[0mself\u001b[0m\u001b[0;34m.\u001b[0m\u001b[0mtrain_epoch\u001b[0m\u001b[0;34m(\u001b[0m\u001b[0moptimizer\u001b[0m\u001b[0;34m,\u001b[0m \u001b[0mtrain_loader\u001b[0m\u001b[0;34m)\u001b[0m\u001b[0;34m\u001b[0m\u001b[0;34m\u001b[0m\u001b[0m\n\u001b[0m\u001b[1;32m    255\u001b[0m       \u001b[0mval_loss\u001b[0m\u001b[0;34m,\u001b[0m \u001b[0mval_rec\u001b[0m\u001b[0;34m,\u001b[0m \u001b[0mval_gauss\u001b[0m\u001b[0;34m,\u001b[0m \u001b[0mval_cat\u001b[0m\u001b[0;34m,\u001b[0m \u001b[0mval_acc\u001b[0m\u001b[0;34m,\u001b[0m \u001b[0mval_nmi\u001b[0m \u001b[0;34m=\u001b[0m \u001b[0mself\u001b[0m\u001b[0;34m.\u001b[0m\u001b[0mtest\u001b[0m\u001b[0;34m(\u001b[0m\u001b[0mval_loader\u001b[0m\u001b[0;34m,\u001b[0m \u001b[0;32mTrue\u001b[0m\u001b[0;34m)\u001b[0m\u001b[0;34m\u001b[0m\u001b[0;34m\u001b[0m\u001b[0m\n\u001b[1;32m    256\u001b[0m \u001b[0;34m\u001b[0m\u001b[0m\n",
      "\u001b[0;32m~/projects/gmvae_and_gmmvae/pytorch/model/GMVAE.py\u001b[0m in \u001b[0;36mtrain_epoch\u001b[0;34m(self, optimizer, data_loader)\u001b[0m\n\u001b[1;32m    137\u001b[0m       \u001b[0;31m# perform backpropagation\u001b[0m\u001b[0;34m\u001b[0m\u001b[0;34m\u001b[0m\u001b[0;34m\u001b[0m\u001b[0m\n\u001b[1;32m    138\u001b[0m       \u001b[0mtotal\u001b[0m\u001b[0;34m.\u001b[0m\u001b[0mbackward\u001b[0m\u001b[0;34m(\u001b[0m\u001b[0;34m)\u001b[0m\u001b[0;34m\u001b[0m\u001b[0;34m\u001b[0m\u001b[0m\n\u001b[0;32m--> 139\u001b[0;31m       \u001b[0moptimizer\u001b[0m\u001b[0;34m.\u001b[0m\u001b[0mstep\u001b[0m\u001b[0;34m(\u001b[0m\u001b[0;34m)\u001b[0m\u001b[0;34m\u001b[0m\u001b[0;34m\u001b[0m\u001b[0m\n\u001b[0m\u001b[1;32m    140\u001b[0m \u001b[0;34m\u001b[0m\u001b[0m\n\u001b[1;32m    141\u001b[0m       \u001b[0;31m# save predicted and true labels\u001b[0m\u001b[0;34m\u001b[0m\u001b[0;34m\u001b[0m\u001b[0;34m\u001b[0m\u001b[0m\n",
      "\u001b[0;32m~/anaconda3/envs/deep_learning/lib/python3.7/site-packages/torch/optim/adam.py\u001b[0m in \u001b[0;36mstep\u001b[0;34m(self, closure)\u001b[0m\n\u001b[1;32m    101\u001b[0m                     \u001b[0mdenom\u001b[0m \u001b[0;34m=\u001b[0m \u001b[0;34m(\u001b[0m\u001b[0mmax_exp_avg_sq\u001b[0m\u001b[0;34m.\u001b[0m\u001b[0msqrt\u001b[0m\u001b[0;34m(\u001b[0m\u001b[0;34m)\u001b[0m \u001b[0;34m/\u001b[0m \u001b[0mmath\u001b[0m\u001b[0;34m.\u001b[0m\u001b[0msqrt\u001b[0m\u001b[0;34m(\u001b[0m\u001b[0mbias_correction2\u001b[0m\u001b[0;34m)\u001b[0m\u001b[0;34m)\u001b[0m\u001b[0;34m.\u001b[0m\u001b[0madd_\u001b[0m\u001b[0;34m(\u001b[0m\u001b[0mgroup\u001b[0m\u001b[0;34m[\u001b[0m\u001b[0;34m'eps'\u001b[0m\u001b[0;34m]\u001b[0m\u001b[0;34m)\u001b[0m\u001b[0;34m\u001b[0m\u001b[0;34m\u001b[0m\u001b[0m\n\u001b[1;32m    102\u001b[0m                 \u001b[0;32melse\u001b[0m\u001b[0;34m:\u001b[0m\u001b[0;34m\u001b[0m\u001b[0;34m\u001b[0m\u001b[0m\n\u001b[0;32m--> 103\u001b[0;31m                     \u001b[0mdenom\u001b[0m \u001b[0;34m=\u001b[0m \u001b[0;34m(\u001b[0m\u001b[0mexp_avg_sq\u001b[0m\u001b[0;34m.\u001b[0m\u001b[0msqrt\u001b[0m\u001b[0;34m(\u001b[0m\u001b[0;34m)\u001b[0m \u001b[0;34m/\u001b[0m \u001b[0mmath\u001b[0m\u001b[0;34m.\u001b[0m\u001b[0msqrt\u001b[0m\u001b[0;34m(\u001b[0m\u001b[0mbias_correction2\u001b[0m\u001b[0;34m)\u001b[0m\u001b[0;34m)\u001b[0m\u001b[0;34m.\u001b[0m\u001b[0madd_\u001b[0m\u001b[0;34m(\u001b[0m\u001b[0mgroup\u001b[0m\u001b[0;34m[\u001b[0m\u001b[0;34m'eps'\u001b[0m\u001b[0;34m]\u001b[0m\u001b[0;34m)\u001b[0m\u001b[0;34m\u001b[0m\u001b[0;34m\u001b[0m\u001b[0m\n\u001b[0m\u001b[1;32m    104\u001b[0m \u001b[0;34m\u001b[0m\u001b[0m\n\u001b[1;32m    105\u001b[0m                 \u001b[0mstep_size\u001b[0m \u001b[0;34m=\u001b[0m \u001b[0mgroup\u001b[0m\u001b[0;34m[\u001b[0m\u001b[0;34m'lr'\u001b[0m\u001b[0;34m]\u001b[0m \u001b[0;34m/\u001b[0m \u001b[0mbias_correction1\u001b[0m\u001b[0;34m\u001b[0m\u001b[0;34m\u001b[0m\u001b[0m\n",
      "\u001b[0;31mKeyboardInterrupt\u001b[0m: "
     ]
    }
   ],
   "source": [
    "history_loss = gmvae.train(train_dl, valid_dl)"
   ]
  },
  {
   "cell_type": "code",
   "execution_count": 383,
   "metadata": {},
   "outputs": [],
   "source": [
    "torch.save(gmvae.network.state_dict(), 'smba_gmvae_balanced.pth')"
   ]
  },
  {
   "cell_type": "code",
   "execution_count": 11,
   "metadata": {},
   "outputs": [
    {
     "data": {
      "text/plain": [
       "<All keys matched successfully>"
      ]
     },
     "execution_count": 11,
     "metadata": {},
     "output_type": "execute_result"
    }
   ],
   "source": [
    "gmvae.network.load_state_dict(torch.load('smba_gmvae_balanced.pth', map_location=torch.device('cpu')))"
   ]
  },
  {
   "cell_type": "markdown",
   "metadata": {
    "colab_type": "text",
    "id": "1bHWNxV-gAl2"
   },
   "source": [
    "## Image Reconstruction"
   ]
  },
  {
   "cell_type": "code",
   "execution_count": 18,
   "metadata": {
    "colab": {
     "base_uri": "https://localhost:8080/",
     "height": 160
    },
    "colab_type": "code",
    "id": "wd5jQFFHgCbD",
    "outputId": "8e1d4654-fb01-49dc-b512-e8e4bb259e0f"
   },
   "outputs": [],
   "source": [
    "original, reconstructed = gmvae.reconstruct_data(train_dl, 15)  "
   ]
  },
  {
   "cell_type": "code",
   "execution_count": 19,
   "metadata": {},
   "outputs": [],
   "source": [
    "original_int = original.reshape(15, 16, 16, 12).argmax(axis=-1)\n",
    "reconstructed_int = reconstructed.reshape(15, 16, 16, 12).argmax(axis=-1)"
   ]
  },
  {
   "cell_type": "code",
   "execution_count": 20,
   "metadata": {},
   "outputs": [],
   "source": [
    "def get_classes(chunks_int):\n",
    "    classes = []\n",
    "    for i in chunks_int:\n",
    "        if i.max() == 6:\n",
    "            classes.append('kia')\n",
    "        else:\n",
    "            classes.append('smba')\n",
    "    return np.array(classes)"
   ]
  },
  {
   "cell_type": "code",
   "execution_count": 21,
   "metadata": {},
   "outputs": [],
   "source": [
    "org_classes = get_classes(original_int)\n",
    "rec_classes = get_classes(reconstructed_int)\n",
    "assert np.sum(org_classes == rec_classes) == len(org_classes)"
   ]
  },
  {
   "cell_type": "code",
   "execution_count": 22,
   "metadata": {},
   "outputs": [],
   "source": [
    "def get_images(chunks_int):\n",
    "    images = []\n",
    "    for game, chunk in zip(get_classes(chunks_int), chunks_int):\n",
    "        images.append(vglc_with_path_encodings.array_to_image([chunk], game=game)[0])\n",
    "    return images"
   ]
  },
  {
   "cell_type": "code",
   "execution_count": 23,
   "metadata": {},
   "outputs": [
    {
     "data": {
      "text/plain": [
       "(15, 15)"
      ]
     },
     "execution_count": 23,
     "metadata": {},
     "output_type": "execute_result"
    }
   ],
   "source": [
    "org_images = get_images(original_int)\n",
    "rec_images = get_images(reconstructed_int)\n",
    "len(org_images), len(rec_images)"
   ]
  },
  {
   "cell_type": "code",
   "execution_count": 24,
   "metadata": {},
   "outputs": [
    {
     "data": {
      "image/png": "[encoded data removed]",
      "text/plain": [
       "<Figure size 1728x576 with 30 Axes>"
      ]
     },
     "metadata": {
      "needs_background": "light"
     },
     "output_type": "display_data"
    }
   ],
   "source": [
    "fig, axes = plt.subplots(nrows=3, ncols=10, figsize=(24, 8))\n",
    "axes = axes.flatten()\n",
    "nrows, ncols = 3, 10\n",
    "\n",
    "org_idxs = np.arange(0, 29, 2)\n",
    "rec_idxs = org_idxs + 1\n",
    "\n",
    "for idx in org_idxs:\n",
    "        \n",
    "    ax = axes[idx]\n",
    "\n",
    "    ax.imshow(np.asarray(org_images[idx // 2]))\n",
    "    ax.set_title(f'Org {idx // 2 + 1}')\n",
    "    \n",
    "    ax.axis('off')\n",
    "\n",
    "for idx in rec_idxs:\n",
    "        \n",
    "    ax = axes[idx]\n",
    "\n",
    "    ax.imshow(np.asarray(rec_images[idx // 2]))\n",
    "    ax.set_title(f'Rec {idx // 2 + 1}')\n",
    "\n",
    "    ax.axis('off')\n",
    "    \n",
    "plt.show()"
   ]
  },
  {
   "cell_type": "markdown",
   "metadata": {
    "colab_type": "text",
    "id": "CAyoGFFRgMgC"
   },
   "source": [
    "## Random Generation per Category"
   ]
  },
  {
   "cell_type": "code",
   "execution_count": 81,
   "metadata": {
    "colab": {
     "base_uri": "https://localhost:8080/",
     "height": 595
    },
    "colab_type": "code",
    "id": "xE84c3U2gLjA",
    "outputId": "cd52f356-e53a-4844-9db2-3723d15ddb00"
   },
   "outputs": [
    {
     "data": {
      "image/png": "[encoded data removed]",
      "text/plain": [
       "<Figure size 1728x720 with 45 Axes>"
      ]
     },
     "metadata": {
      "needs_background": "light"
     },
     "output_type": "display_data"
    }
   ],
   "source": [
    "def display_random_generation(generated, num_classes, n=10):\n",
    "    plt.figure(figsize=[24,10])\n",
    "    for c in range(num_classes):\n",
    "        for i in range(n):\n",
    "            plt.subplot(num_classes, n, (c * n) + i + 1)\n",
    "            chunk_int = generated[(c * n) + i].reshape(16, 16, 12).argmax(axis=-1)\n",
    "            chunk_pix = vglc_with_path_encodings.array_to_image([chunk_int], game='smba')[0]\n",
    "            plt.imshow(chunk_pix)\n",
    "            plt.gray()\n",
    "            plt.axis('off')\n",
    "    plt.show()\n",
    "\n",
    "elem_per_category = 15\n",
    "generated = gmvae.random_generation(elem_per_category)\n",
    "display_random_generation(generated, args.num_classes, elem_per_category)"
   ]
  },
  {
   "cell_type": "code",
   "execution_count": 26,
   "metadata": {},
   "outputs": [],
   "source": [
    "elem_per_category = 10000 // num_components\n",
    "generated = gmvae.random_generation(elem_per_category)"
   ]
  },
  {
   "cell_type": "code",
   "execution_count": 27,
   "metadata": {},
   "outputs": [],
   "source": [
    "generated_int = generated.reshape(-1, 16, 16, 12).argmax(axis=-1)"
   ]
  },
  {
   "cell_type": "code",
   "execution_count": 28,
   "metadata": {},
   "outputs": [
    {
     "data": {
      "text/plain": [
       "(9999, 16, 16)"
      ]
     },
     "execution_count": 28,
     "metadata": {},
     "output_type": "execute_result"
    }
   ],
   "source": [
    "generated_int.shape"
   ]
  },
  {
   "cell_type": "code",
   "execution_count": 29,
   "metadata": {},
   "outputs": [],
   "source": [
    "# since this code chunk depends on random seed, it shouldn't be run again\n",
    "with open(f'../smba_generations_2_to_7/smba_gmvae_{num_components}.json', 'w+') as json_f:\n",
    "    json.dump(generated_int.tolist(), json_f)"
   ]
  },
  {
   "cell_type": "markdown",
   "metadata": {
    "colab_type": "text",
    "id": "-SbXR7FkhIcq"
   },
   "source": [
    "## Visualization of the feature latent space"
   ]
  },
  {
   "cell_type": "code",
   "execution_count": 22,
   "metadata": {},
   "outputs": [],
   "source": [
    "test_features, test_labels = gmvae.latent_features(DataLoader(train_ds, batch_size=64, shuffle=False), return_learned_labels=True)"
   ]
  },
  {
   "cell_type": "code",
   "execution_count": 83,
   "metadata": {},
   "outputs": [],
   "source": [
    "with open('../../1906-pcgml/pcgml-gmmVae-exp/data/smba_level_idx_per_chunk.json', 'r') as json_f:\n",
    "    level_idxs = np.array(json.load(json_f))"
   ]
  },
  {
   "cell_type": "code",
   "execution_count": 84,
   "metadata": {},
   "outputs": [],
   "source": [
    "np.random.seed(42)\n",
    "\n",
    "type1 = np.where(level_idxs == 0)[0]\n",
    "type2 = np.where(level_idxs == 1)[0]\n",
    "type3 = np.where(level_idxs == 2)[0]\n",
    "\n",
    "random_idxs_1 = np.random.choice(type1, size=333, replace=True)\n",
    "random_idxs_2 = np.random.choice(type2, size=333, replace=True)\n",
    "random_idxs_3 = np.random.choice(type3, size=333, replace=True)\n",
    "random_indices = np.concatenate([random_idxs_1, random_idxs_2, random_idxs_3])\n",
    "#random_indices = np.random.randint(len(test_features), size=1000)"
   ]
  },
  {
   "cell_type": "code",
   "execution_count": 85,
   "metadata": {},
   "outputs": [
    {
     "data": {
      "image/png": "[encoded data removed]",
      "text/plain": [
       "<Figure size 432x288 with 1 Axes>"
      ]
     },
     "metadata": {
      "needs_background": "light"
     },
     "output_type": "display_data"
    }
   ],
   "source": [
    "plt.hist(test_labels[random_indices])\n",
    "plt.show()"
   ]
  },
  {
   "cell_type": "code",
   "execution_count": 90,
   "metadata": {
    "colab": {},
    "colab_type": "code",
    "id": "LNmsz5rahZAY"
   },
   "outputs": [],
   "source": [
    "# import TSNE from scikit-learn library\n",
    "from sklearn.manifold import TSNE\n",
    "\n",
    "# reduce dimensionality to 2D, we consider a subset of data because TSNE\n",
    "# is a slow algorithm\n",
    "\n",
    "np.random.seed(10)\n",
    "tsne_features = TSNE(n_components=2).fit_transform(test_features[random_indices])"
   ]
  },
  {
   "cell_type": "code",
   "execution_count": 91,
   "metadata": {},
   "outputs": [],
   "source": [
    "X_, Y_ = np.s_[:,0], np.s_[:,1]"
   ]
  },
  {
   "cell_type": "code",
   "execution_count": 103,
   "metadata": {
    "colab": {
     "base_uri": "https://localhost:8080/",
     "height": 395
    },
    "colab_type": "code",
    "id": "wyTtDdwyha-L",
    "outputId": "350e806a-6dd3-47f2-bd91-444aaf61b3dd"
   },
   "outputs": [
    {
     "data": {
      "image/png": "[encoded data removed]",
      "text/plain": [
       "<Figure size 432x432 with 1 Axes>"
      ]
     },
     "metadata": {
      "needs_background": "light"
     },
     "output_type": "display_data"
    }
   ],
   "source": [
    "plt.figure(figsize=(6, 6))\n",
    "\n",
    "colors = ['#ff7f0e', '#2ca02c', '#1f77b4']\n",
    "\n",
    "for i in range(3):\n",
    "    \n",
    "    plt.scatter(\n",
    "        tsne_features[test_labels[random_indices] == i][X_], \n",
    "        tsne_features[test_labels[random_indices] == i][Y_],\n",
    "        s=20, alpha=0.6,\n",
    "        label=f'Cluster {i+1}',\n",
    "        color=colors[i]\n",
    "    )\n",
    "    \n",
    "plt.axis('off')\n",
    "plt.legend(loc='lower right')\n",
    "plt.savefig('smba_gmvae_arrangement_cluster.png', dpi=300)"
   ]
  },
  {
   "cell_type": "code",
   "execution_count": 102,
   "metadata": {},
   "outputs": [
    {
     "data": {
      "image/png": "[encoded data removed]",
      "text/plain": [
       "<Figure size 432x432 with 1 Axes>"
      ]
     },
     "metadata": {
      "needs_background": "light"
     },
     "output_type": "display_data"
    }
   ],
   "source": [
    "plt.figure(figsize=(6, 6))\n",
    "\n",
    "level_types = ['Underworld', 'Overworld', 'Jumpy']\n",
    "\n",
    "for i in range(3):\n",
    "\n",
    "    plt.scatter(\n",
    "        tsne_features[level_idxs[random_indices] == i][X_], \n",
    "        tsne_features[level_idxs[random_indices] == i][Y_],  \n",
    "        label=level_types[i],\n",
    "        s=20, alpha=0.6\n",
    "    )\n",
    "            \n",
    "plt.axis('off')\n",
    "plt.legend(loc='lower right')\n",
    "plt.savefig('smba_gmvae_arrangement_label.png', dpi=300)"
   ]
  },
  {
   "cell_type": "code",
   "execution_count": 397,
   "metadata": {},
   "outputs": [
    {
     "data": {
      "text/plain": [
       "0.934"
      ]
     },
     "execution_count": 397,
     "metadata": {},
     "output_type": "execute_result"
    }
   ],
   "source": [
    "metrics = Metrics()\n",
    "metrics.cluster_acc(test_labels[:first_n], level_idxs[:first_n])"
   ]
  },
  {
   "cell_type": "code",
   "execution_count": null,
   "metadata": {},
   "outputs": [],
   "source": []
  },
  {
   "cell_type": "code",
   "execution_count": null,
   "metadata": {},
   "outputs": [],
   "source": []
  }
 ],
 "metadata": {
  "accelerator": "GPU",
  "colab": {
   "collapsed_sections": [],
   "include_colab_link": true,
   "name": "GMVAE_Pytorch.ipynb",
   "provenance": []
  },
  "kernelspec": {
   "display_name": "Python 3",
   "language": "python",
   "name": "python3"
  },
  "language_info": {
   "codemirror_mode": {
    "name": "ipython",
    "version": 3
   },
   "file_extension": ".py",
   "mimetype": "text/x-python",
   "name": "python",
   "nbconvert_exporter": "python",
   "pygments_lexer": "ipython3",
   "version": "3.7.6"
  },
  "toc": {
   "base_numbering": 1,
   "nav_menu": {},
   "number_sections": false,
   "sideBar": true,
   "skip_h1_title": false,
   "title_cell": "Table of Contents",
   "title_sidebar": "Contents",
   "toc_cell": false,
   "toc_position": {},
   "toc_section_display": true,
   "toc_window_display": false
  },
  "varInspector": {
   "cols": {
    "lenName": 16,
    "lenType": 16,
    "lenVar": 40
   },
   "kernels_config": {
    "python": {
     "delete_cmd_postfix": "",
     "delete_cmd_prefix": "del ",
     "library": "var_list.py",
     "varRefreshCmd": "print(var_dic_list())"
    },
    "r": {
     "delete_cmd_postfix": ") ",
     "delete_cmd_prefix": "rm(",
     "library": "var_list.r",
     "varRefreshCmd": "cat(var_dic_list()) "
    }
   },
   "types_to_exclude": [
    "module",
    "function",
    "builtin_function_or_method",
    "instance",
    "_Feature"
   ],
   "window_display": false
  }
 },
 "nbformat": 4,
 "nbformat_minor": 1
}
