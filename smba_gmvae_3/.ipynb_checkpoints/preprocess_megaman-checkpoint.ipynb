{
 "cells": [
  {
   "cell_type": "code",
   "execution_count": 1,
   "metadata": {},
   "outputs": [],
   "source": [
    "import os\n",
    "import json\n",
    "import numpy as np\n",
    "from tqdm import tqdm_notebook"
   ]
  },
  {
   "cell_type": "code",
   "execution_count": 2,
   "metadata": {},
   "outputs": [],
   "source": [
    "megaman_dir = './megaman_chunks_char'"
   ]
  },
  {
   "cell_type": "code",
   "execution_count": 3,
   "metadata": {},
   "outputs": [
    {
     "data": {
      "application/vnd.jupyter.widget-view+json": {
       "model_id": "",
       "version_major": 2,
       "version_minor": 0
      },
      "text/plain": [
       "HBox(children=(IntProgress(value=0, max=3330), HTML(value='')))"
      ]
     },
     "metadata": {},
     "output_type": "display_data"
    },
    {
     "name": "stdout",
     "output_type": "stream",
     "text": [
      "\r"
     ]
    }
   ],
   "source": [
    "chunks_char = []\n",
    "for fname in tqdm_notebook(os.listdir(megaman_dir), leave=False):\n",
    "    if fname.split('.')[-1] == 'txt':\n",
    "        with open(f'{megaman_dir}/{fname}') as txt_f:\n",
    "            chunks_char.append([list(line.rstrip()) for line in txt_f.readlines()])\n",
    "chunks_char = np.array(chunks_char)"
   ]
  },
  {
   "cell_type": "code",
   "execution_count": 4,
   "metadata": {},
   "outputs": [
    {
     "data": {
      "text/plain": [
       "(array(['#', '*', '+', '-', 'B', 'C', 'D', 'H', 'L', 'M', 'P', 'U', 'W',\n",
       "        'l', 't', 'w', '|'], dtype='<U1'), 17)"
      ]
     },
     "execution_count": 4,
     "metadata": {},
     "output_type": "execute_result"
    }
   ],
   "source": [
    "unique_chars = np.unique(chunks_char)\n",
    "unique_chars, len(unique_chars)"
   ]
  },
  {
   "cell_type": "code",
   "execution_count": 9,
   "metadata": {},
   "outputs": [
    {
     "name": "stdout",
     "output_type": "stream",
     "text": [
      "0 : '#',\n",
      "1 : '*',\n",
      "2 : '+',\n",
      "3 : '-',\n",
      "4 : 'B',\n",
      "5 : 'C',\n",
      "6 : 'D',\n",
      "7 : 'H',\n",
      "8 : 'L',\n",
      "9 : 'M',\n",
      "10 : 'P',\n",
      "11 : 'U',\n",
      "12 : 'W',\n",
      "13 : 'l',\n",
      "14 : 't',\n",
      "15 : 'w',\n",
      "16 : '|',\n"
     ]
    }
   ],
   "source": [
    "for idx, char in enumerate(unique_chars):\n",
    "    print(f\"{idx} : '{char}',\")"
   ]
  },
  {
   "cell_type": "code",
   "execution_count": 5,
   "metadata": {},
   "outputs": [],
   "source": [
    "chunks_int = np.zeros(chunks_char.shape)\n",
    "for idx, char in enumerate(unique_chars):\n",
    "    chunks_int[chunks_char == char] = idx\n",
    "chunks_int = chunks_int.astype(int)"
   ]
  },
  {
   "cell_type": "code",
   "execution_count": 6,
   "metadata": {},
   "outputs": [
    {
     "data": {
      "text/plain": [
       "(array([ 0,  1,  2,  3,  4,  5,  6,  7,  8,  9, 10, 11, 12, 13, 14, 15, 16]),\n",
       " 17)"
      ]
     },
     "execution_count": 6,
     "metadata": {},
     "output_type": "execute_result"
    }
   ],
   "source": [
    "unique_idxs = np.unique(chunks_int)\n",
    "unique_idxs, len(unique_idxs)"
   ]
  },
  {
   "cell_type": "code",
   "execution_count": 7,
   "metadata": {},
   "outputs": [],
   "source": [
    "with open('./megaman_with_path_chunks_int.json', 'w+') as json_f:\n",
    "    json.dump(chunks_int.tolist(), json_f)"
   ]
  },
  {
   "cell_type": "code",
   "execution_count": null,
   "metadata": {},
   "outputs": [],
   "source": []
  }
 ],
 "metadata": {
  "kernelspec": {
   "display_name": "Python 3",
   "language": "python",
   "name": "python3"
  },
  "language_info": {
   "codemirror_mode": {
    "name": "ipython",
    "version": 3
   },
   "file_extension": ".py",
   "mimetype": "text/x-python",
   "name": "python",
   "nbconvert_exporter": "python",
   "pygments_lexer": "ipython3",
   "version": "3.7.6"
  },
  "toc": {
   "base_numbering": 1,
   "nav_menu": {},
   "number_sections": true,
   "sideBar": true,
   "skip_h1_title": false,
   "title_cell": "Table of Contents",
   "title_sidebar": "Contents",
   "toc_cell": false,
   "toc_position": {},
   "toc_section_display": true,
   "toc_window_display": false
  },
  "varInspector": {
   "cols": {
    "lenName": 16,
    "lenType": 16,
    "lenVar": 40
   },
   "kernels_config": {
    "python": {
     "delete_cmd_postfix": "",
     "delete_cmd_prefix": "del ",
     "library": "var_list.py",
     "varRefreshCmd": "print(var_dic_list())"
    },
    "r": {
     "delete_cmd_postfix": ") ",
     "delete_cmd_prefix": "rm(",
     "library": "var_list.r",
     "varRefreshCmd": "cat(var_dic_list()) "
    }
   },
   "types_to_exclude": [
    "module",
    "function",
    "builtin_function_or_method",
    "instance",
    "_Feature"
   ],
   "window_display": false
  }
 },
 "nbformat": 4,
 "nbformat_minor": 2
}
