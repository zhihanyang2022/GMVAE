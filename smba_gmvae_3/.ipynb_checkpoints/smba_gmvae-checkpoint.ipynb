{
 "cells": [
  {
   "cell_type": "markdown",
   "metadata": {},
   "source": [
    "# GM-VAE for SMBA"
   ]
  },
  {
   "cell_type": "code",
   "execution_count": 44,
   "metadata": {},
   "outputs": [],
   "source": [
    "num_components=3"
   ]
  },
  {
   "cell_type": "markdown",
   "metadata": {
    "colab_type": "text",
    "id": "rGzTb0oswH5J"
   },
   "source": [
    "## Import Libraries"
   ]
  },
  {
   "cell_type": "code",
   "execution_count": 45,
   "metadata": {
    "colab": {},
    "colab_type": "code",
    "id": "ThVeaB3CwI4j"
   },
   "outputs": [],
   "source": [
    "import json\n",
    "\n",
    "import numpy as np\n",
    "import argparse\n",
    "import random\n",
    "from torchvision import datasets, transforms\n",
    "from torch.utils.data.sampler import SubsetRandomSampler\n",
    "import torch.utils.data\n",
    "from scipy.io import loadmat\n",
    "\n",
    "import sys\n",
    "sys.path.append('/home/yangz2/projects/gmvae_and_gmmvae/pytorch/')\n",
    "sys.path.append('../../1906-pcgml/pcgml-gmmVae-exp/modules/')\n",
    "import vglc_with_path_encodings\n",
    "\n",
    "from model.GMVAE import *\n",
    "import matplotlib.pyplot as plt\n",
    "import seaborn as sns\n",
    "%matplotlib inline\n",
    "\n",
    "import warnings\n",
    "warnings.filterwarnings('ignore')"
   ]
  },
  {
   "cell_type": "markdown",
   "metadata": {},
   "source": [
    "## Load data"
   ]
  },
  {
   "cell_type": "code",
   "execution_count": 46,
   "metadata": {},
   "outputs": [],
   "source": [
    "def open_json_as_nparray(json_fname):\n",
    "    with open(json_fname, 'r') as json_f:\n",
    "        return np.array(json.load(json_f))"
   ]
  },
  {
   "cell_type": "markdown",
   "metadata": {},
   "source": [
    "Load SMB."
   ]
  },
  {
   "cell_type": "code",
   "execution_count": 47,
   "metadata": {},
   "outputs": [],
   "source": [
    "smb_int = open_json_as_nparray('smbWithPath-allLevels-chunks-int.json')"
   ]
  },
  {
   "cell_type": "code",
   "execution_count": 48,
   "metadata": {},
   "outputs": [
    {
     "data": {
      "text/plain": [
       "(2698, 16, 16, 12)"
      ]
     },
     "execution_count": 48,
     "metadata": {},
     "output_type": "execute_result"
    }
   ],
   "source": [
    "smb_onehot = np.eye(len(np.unique(smb_int)))[smb_int]\n",
    "smb_onehot.shape"
   ]
  },
  {
   "cell_type": "code",
   "execution_count": 49,
   "metadata": {},
   "outputs": [
    {
     "data": {
      "text/plain": [
       "(2698, 3072)"
      ]
     },
     "execution_count": 49,
     "metadata": {},
     "output_type": "execute_result"
    }
   ],
   "source": [
    "smb_onehot = smb_onehot.reshape(\n",
    "    smb_onehot.shape[0], \n",
    "    smb_onehot.shape[1] * smb_onehot.shape[2] * smb_onehot.shape[3]\n",
    ")\n",
    "smb_onehot.shape"
   ]
  },
  {
   "cell_type": "code",
   "execution_count": 50,
   "metadata": {},
   "outputs": [
    {
     "data": {
      "text/plain": [
       "((2698,), array([2, 0, 2, 2, 0, 0, 2, 1, 2, 2, 2, 2, 0, 2, 1, 0, 1, 1, 1, 1]))"
      ]
     },
     "execution_count": 50,
     "metadata": {},
     "output_type": "execute_result"
    }
   ],
   "source": [
    "np.random.seed(42)\n",
    "smb_labels = np.random.randint(num_components, size=smb_onehot.shape[0])\n",
    "smb_labels.shape, smb_labels[:20]"
   ]
  },
  {
   "cell_type": "code",
   "execution_count": 51,
   "metadata": {},
   "outputs": [],
   "source": [
    "chunks, labels = smb_onehot, smb_labels"
   ]
  },
  {
   "cell_type": "code",
   "execution_count": 52,
   "metadata": {},
   "outputs": [
    {
     "data": {
      "image/png": "[encoded data removed]",
      "text/plain": [
       "<Figure size 432x288 with 1 Axes>"
      ]
     },
     "metadata": {
      "needs_background": "light"
     },
     "output_type": "display_data"
    }
   ],
   "source": [
    "plt.bar(np.arange(num_components), np.bincount(smb_labels))\n",
    "plt.show()"
   ]
  },
  {
   "cell_type": "markdown",
   "metadata": {
    "colab_type": "text",
    "id": "3QNKItMHwQU2"
   },
   "source": [
    "## Input Parameters"
   ]
  },
  {
   "cell_type": "code",
   "execution_count": 53,
   "metadata": {
    "colab": {},
    "colab_type": "code",
    "id": "8tBHkTQ4wVIG"
   },
   "outputs": [],
   "source": [
    "########################################################\n",
    "## Input Parameters\n",
    "#########################################################\n",
    "parser = argparse.ArgumentParser(description='PyTorch Implementation of DGM Clustering')\n",
    "\n",
    "## Used only in notebooks\n",
    "parser.add_argument('-f', '--file',\n",
    "                    help='Path for input file. First line should contain number of lines to search in')\n",
    "\n",
    "## Dataset\n",
    "parser.add_argument('--dataset', type=str, choices=['mnist'],\n",
    "                    default='mnist', help='dataset (default: mnist)')\n",
    "parser.add_argument('--seed', type=int, default=1, help='random seed (default: 1)')\n",
    "\n",
    "## GPU\n",
    "parser.add_argument('--cuda', type=int, default=1,\n",
    "                    help='use of cuda (default: 1)')\n",
    "parser.add_argument('--gpuID', type=int, default=0,\n",
    "                    help='set gpu id to use (default: 0)')\n",
    "\n",
    "## Training\n",
    "parser.add_argument('--epochs', type=int, default=100,\n",
    "                    help='number of total epochs to run (default: 200)')\n",
    "parser.add_argument('--batch_size', default=64, type=int,\n",
    "                    help='mini-batch size (default: 64)')\n",
    "parser.add_argument('--batch_size_val', default=200, type=int,\n",
    "                    help='mini-batch size of validation (default: 200)')\n",
    "parser.add_argument('--learning_rate', default=1e-3, type=float,\n",
    "                    help='learning rate (default: 0.001)')\n",
    "parser.add_argument('--decay_epoch', default=-1, type=int, \n",
    "                    help='Reduces the learning rate every decay_epoch')\n",
    "parser.add_argument('--lr_decay', default=0.5, type=float,\n",
    "                    help='Learning rate decay for training (default: 0.5)')\n",
    "\n",
    "## Architecture\n",
    "parser.add_argument('--num_classes', type=int, default=num_components,\n",
    "                    help='number of classes (default: 10)')  # edited for this task\n",
    "parser.add_argument('--gaussian_size', default=64, type=int,\n",
    "                    help='gaussian size (default: 64)')\n",
    "parser.add_argument('--input_size', default=3072, type=int,\n",
    "                    help='input size (default: 784)')  # edited for this task\n",
    "\n",
    "## Partition parameters\n",
    "parser.add_argument('--train_proportion', default=0.9, type=float,\n",
    "                    help='proportion of examples to consider for training only (default: 1.0)')\n",
    "\n",
    "## Gumbel parameters\n",
    "parser.add_argument('--init_temp', default=1.0, type=float,\n",
    "                    help='Initial temperature used in gumbel-softmax (recommended 0.5-1.0, default:1.0)')\n",
    "parser.add_argument('--decay_temp', default=1, type=int, \n",
    "                    help='Set 1 to decay gumbel temperature at every epoch (default: 1)')\n",
    "parser.add_argument('--hard_gumbel', default=0, type=int, \n",
    "                    help='Set 1 to use the hard version of gumbel-softmax (default: 1)')\n",
    "parser.add_argument('--min_temp', default=0.5, type=float, \n",
    "                    help='Minimum temperature of gumbel-softmax after annealing (default: 0.5)' )\n",
    "parser.add_argument('--decay_temp_rate', default=0.013862944, type=float,\n",
    "                    help='Temperature decay rate at every epoch (default: 0.013862944)')\n",
    "\n",
    "## Loss function parameters\n",
    "parser.add_argument('--w_gauss', default=2, type=float,\n",
    "                    help='weight of gaussian loss (default: 1)')\n",
    "parser.add_argument('--w_categ', default=1, type=float,\n",
    "                    help='weight of categorical loss (default: 1)')\n",
    "parser.add_argument('--w_rec', default=1, type=float,\n",
    "                    help='weight of reconstruction loss (default: 1)')\n",
    "parser.add_argument('--rec_type', type=str, choices=['bce', 'mse'],\n",
    "                    default='bce', help='desired reconstruction loss function (default: bce)')\n",
    "\n",
    "## Others\n",
    "parser.add_argument('--verbose', default=0, type=int,\n",
    "                    help='print extra information at every epoch.(default: 0)')\n",
    "\n",
    "args = parser.parse_args()"
   ]
  },
  {
   "cell_type": "markdown",
   "metadata": {
    "colab_type": "text",
    "id": "Bti6lPHawc9z"
   },
   "source": [
    "Set random seed in case it was specified in the parameters\n"
   ]
  },
  {
   "cell_type": "code",
   "execution_count": 54,
   "metadata": {
    "colab": {},
    "colab_type": "code",
    "id": "IpWPxTy1wgbJ"
   },
   "outputs": [],
   "source": [
    "## Random Seed\n",
    "SEED = args.seed\n",
    "np.random.seed(SEED)\n",
    "random.seed(SEED)\n",
    "torch.manual_seed(SEED)\n",
    "if args.cuda:\n",
    "    torch.cuda.manual_seed(SEED)"
   ]
  },
  {
   "cell_type": "markdown",
   "metadata": {
    "colab_type": "text",
    "id": "fmrkmhttwkiD"
   },
   "source": [
    "## Data Partition"
   ]
  },
  {
   "cell_type": "markdown",
   "metadata": {
    "colab_type": "text",
    "id": "fUuTFMBhb2vZ"
   },
   "source": [
    "We split the training data into train and validation according to the *train_proportion* parameter:"
   ]
  },
  {
   "cell_type": "code",
   "execution_count": 55,
   "metadata": {},
   "outputs": [],
   "source": [
    "from torch.utils.data import TensorDataset, DataLoader"
   ]
  },
  {
   "cell_type": "code",
   "execution_count": 56,
   "metadata": {},
   "outputs": [],
   "source": [
    "assert args.train_proportion != 1"
   ]
  },
  {
   "cell_type": "code",
   "execution_count": 57,
   "metadata": {
    "colab": {},
    "colab_type": "code",
    "id": "P8F6pjC7cNX7"
   },
   "outputs": [],
   "source": [
    "def partition_dataset(n, proportion=1):\n",
    "   train_num = int(n * proportion)\n",
    "   indices = np.random.permutation(n)\n",
    "   train_indices, val_indices = indices[:train_num], indices[train_num:]\n",
    "   return train_indices, val_indices\n",
    "\n",
    "train_indices, val_indices = partition_dataset(len(chunks), args.train_proportion)\n",
    "train_ds = TensorDataset(torch.from_numpy(chunks).float(), torch.from_numpy(labels).long())\n",
    "train_dl = DataLoader(train_ds, batch_size=args.batch_size, sampler=SubsetRandomSampler(train_indices))\n",
    "valid_dl = DataLoader(train_ds, batch_size=args.batch_size_val, sampler=SubsetRandomSampler(val_indices))"
   ]
  },
  {
   "cell_type": "markdown",
   "metadata": {
    "colab_type": "text",
    "id": "Pt7sEfZWw_U7"
   },
   "source": [
    "## Train Model"
   ]
  },
  {
   "cell_type": "code",
   "execution_count": 66,
   "metadata": {
    "colab": {},
    "colab_type": "code",
    "id": "qTncRSCuxFEL"
   },
   "outputs": [],
   "source": [
    "# Model Initialization\n",
    "gmvae = GMVAE(args)"
   ]
  },
  {
   "cell_type": "code",
   "execution_count": 67,
   "metadata": {},
   "outputs": [
    {
     "name": "stdout",
     "output_type": "stream",
     "text": [
      "(Epoch 1 / 100) Train_Loss: 484.727; Val_Loss: 244.086   Train_ACC: 34.432; Val_ACC: 35.556   Train_NMI: 0.085; Val_NMI: 0.000\n",
      "(Epoch 2 / 100) Train_Loss: 230.969; Val_Loss: 230.054   Train_ACC: 34.761; Val_ACC: 35.556   Train_NMI: 0.117; Val_NMI: 0.777\n",
      "(Epoch 3 / 100) Train_Loss: 227.645; Val_Loss: 226.373   Train_ACC: 34.679; Val_ACC: 39.259   Train_NMI: 0.098; Val_NMI: 1.825\n",
      "(Epoch 4 / 100) Train_Loss: 222.253; Val_Loss: 218.894   Train_ACC: 34.514; Val_ACC: 40.370   Train_NMI: 0.079; Val_NMI: 0.824\n",
      "(Epoch 5 / 100) Train_Loss: 216.387; Val_Loss: 220.630   Train_ACC: 34.885; Val_ACC: 37.037   Train_NMI: 0.134; Val_NMI: 0.503\n",
      "(Epoch 6 / 100) Train_Loss: 212.952; Val_Loss: 216.250   Train_ACC: 34.432; Val_ACC: 39.630   Train_NMI: 0.073; Val_NMI: 0.600\n",
      "(Epoch 7 / 100) Train_Loss: 208.707; Val_Loss: 210.681   Train_ACC: 34.679; Val_ACC: 38.889   Train_NMI: 0.112; Val_NMI: 0.399\n",
      "(Epoch 8 / 100) Train_Loss: 204.406; Val_Loss: 207.858   Train_ACC: 34.885; Val_ACC: 39.259   Train_NMI: 0.131; Val_NMI: 0.494\n",
      "(Epoch 9 / 100) Train_Loss: 201.824; Val_Loss: 209.426   Train_ACC: 34.885; Val_ACC: 40.370   Train_NMI: 0.084; Val_NMI: 0.913\n",
      "(Epoch 10 / 100) Train_Loss: 198.911; Val_Loss: 196.978   Train_ACC: 34.473; Val_ACC: 37.037   Train_NMI: 0.119; Val_NMI: 1.165\n",
      "(Epoch 11 / 100) Train_Loss: 197.358; Val_Loss: 200.364   Train_ACC: 34.679; Val_ACC: 37.407   Train_NMI: 0.096; Val_NMI: 0.745\n",
      "(Epoch 12 / 100) Train_Loss: 194.242; Val_Loss: 199.348   Train_ACC: 35.338; Val_ACC: 37.778   Train_NMI: 0.132; Val_NMI: 0.873\n",
      "(Epoch 13 / 100) Train_Loss: 191.801; Val_Loss: 197.283   Train_ACC: 34.843; Val_ACC: 37.778   Train_NMI: 0.108; Val_NMI: 0.597\n",
      "(Epoch 14 / 100) Train_Loss: 189.449; Val_Loss: 194.511   Train_ACC: 35.544; Val_ACC: 37.037   Train_NMI: 0.128; Val_NMI: 0.584\n",
      "(Epoch 15 / 100) Train_Loss: 187.761; Val_Loss: 193.551   Train_ACC: 35.791; Val_ACC: 39.259   Train_NMI: 0.158; Val_NMI: 0.816\n",
      "(Epoch 16 / 100) Train_Loss: 185.330; Val_Loss: 196.466   Train_ACC: 34.802; Val_ACC: 40.000   Train_NMI: 0.116; Val_NMI: 0.858\n",
      "(Epoch 17 / 100) Train_Loss: 182.236; Val_Loss: 189.588   Train_ACC: 35.008; Val_ACC: 41.111   Train_NMI: 0.081; Val_NMI: 1.995\n",
      "(Epoch 18 / 100) Train_Loss: 179.907; Val_Loss: 190.622   Train_ACC: 34.596; Val_ACC: 38.148   Train_NMI: 0.063; Val_NMI: 0.961\n",
      "(Epoch 19 / 100) Train_Loss: 177.719; Val_Loss: 189.836   Train_ACC: 35.214; Val_ACC: 37.037   Train_NMI: 0.087; Val_NMI: 0.738\n",
      "(Epoch 20 / 100) Train_Loss: 176.050; Val_Loss: 187.486   Train_ACC: 34.596; Val_ACC: 41.111   Train_NMI: 0.059; Val_NMI: 1.936\n",
      "(Epoch 21 / 100) Train_Loss: 174.136; Val_Loss: 182.681   Train_ACC: 34.638; Val_ACC: 38.148   Train_NMI: 0.041; Val_NMI: 1.281\n",
      "(Epoch 22 / 100) Train_Loss: 172.346; Val_Loss: 182.275   Train_ACC: 34.596; Val_ACC: 37.037   Train_NMI: 0.053; Val_NMI: 1.154\n",
      "(Epoch 23 / 100) Train_Loss: 170.504; Val_Loss: 180.392   Train_ACC: 34.596; Val_ACC: 37.037   Train_NMI: 0.034; Val_NMI: 0.880\n",
      "(Epoch 24 / 100) Train_Loss: 169.452; Val_Loss: 180.874   Train_ACC: 34.267; Val_ACC: 40.000   Train_NMI: 0.032; Val_NMI: 1.161\n",
      "(Epoch 25 / 100) Train_Loss: 167.850; Val_Loss: 176.548   Train_ACC: 34.308; Val_ACC: 37.778   Train_NMI: 0.036; Val_NMI: 1.171\n",
      "(Epoch 26 / 100) Train_Loss: 167.066; Val_Loss: 174.855   Train_ACC: 34.102; Val_ACC: 36.667   Train_NMI: 0.013; Val_NMI: 1.299\n",
      "(Epoch 27 / 100) Train_Loss: 164.842; Val_Loss: 179.847   Train_ACC: 34.185; Val_ACC: 36.667   Train_NMI: 0.026; Val_NMI: 1.254\n",
      "(Epoch 28 / 100) Train_Loss: 163.527; Val_Loss: 178.372   Train_ACC: 34.226; Val_ACC: 36.667   Train_NMI: 0.033; Val_NMI: 1.018\n",
      "(Epoch 29 / 100) Train_Loss: 162.541; Val_Loss: 176.246   Train_ACC: 33.855; Val_ACC: 37.407   Train_NMI: 0.010; Val_NMI: 0.854\n",
      "(Epoch 30 / 100) Train_Loss: 160.498; Val_Loss: 170.377   Train_ACC: 34.432; Val_ACC: 36.667   Train_NMI: 0.028; Val_NMI: 1.104\n",
      "(Epoch 31 / 100) Train_Loss: 159.385; Val_Loss: 168.665   Train_ACC: 34.473; Val_ACC: 37.407   Train_NMI: 0.046; Val_NMI: 1.106\n",
      "(Epoch 32 / 100) Train_Loss: 158.049; Val_Loss: 167.712   Train_ACC: 34.226; Val_ACC: 37.778   Train_NMI: 0.029; Val_NMI: 0.998\n",
      "(Epoch 33 / 100) Train_Loss: 156.367; Val_Loss: 170.126   Train_ACC: 34.308; Val_ACC: 36.667   Train_NMI: 0.035; Val_NMI: 0.777\n",
      "(Epoch 34 / 100) Train_Loss: 154.709; Val_Loss: 168.813   Train_ACC: 34.761; Val_ACC: 37.778   Train_NMI: 0.051; Val_NMI: 0.819\n",
      "(Epoch 35 / 100) Train_Loss: 153.895; Val_Loss: 165.224   Train_ACC: 34.390; Val_ACC: 38.889   Train_NMI: 0.045; Val_NMI: 0.809\n",
      "(Epoch 36 / 100) Train_Loss: 152.783; Val_Loss: 165.449   Train_ACC: 34.679; Val_ACC: 38.148   Train_NMI: 0.069; Val_NMI: 1.218\n",
      "(Epoch 37 / 100) Train_Loss: 151.420; Val_Loss: 164.497   Train_ACC: 34.432; Val_ACC: 37.778   Train_NMI: 0.053; Val_NMI: 1.208\n",
      "(Epoch 38 / 100) Train_Loss: 150.910; Val_Loss: 167.844   Train_ACC: 34.679; Val_ACC: 37.778   Train_NMI: 0.072; Val_NMI: 0.875\n",
      "(Epoch 39 / 100) Train_Loss: 149.554; Val_Loss: 165.989   Train_ACC: 34.473; Val_ACC: 38.889   Train_NMI: 0.036; Val_NMI: 1.495\n",
      "(Epoch 40 / 100) Train_Loss: 148.372; Val_Loss: 162.984   Train_ACC: 33.979; Val_ACC: 38.889   Train_NMI: 0.019; Val_NMI: 1.062\n",
      "(Epoch 41 / 100) Train_Loss: 147.791; Val_Loss: 164.576   Train_ACC: 33.979; Val_ACC: 39.259   Train_NMI: 0.023; Val_NMI: 1.298\n",
      "(Epoch 42 / 100) Train_Loss: 147.066; Val_Loss: 161.437   Train_ACC: 34.349; Val_ACC: 38.148   Train_NMI: 0.029; Val_NMI: 1.000\n",
      "(Epoch 43 / 100) Train_Loss: 146.121; Val_Loss: 165.609   Train_ACC: 34.596; Val_ACC: 39.630   Train_NMI: 0.042; Val_NMI: 1.556\n",
      "(Epoch 44 / 100) Train_Loss: 144.907; Val_Loss: 163.430   Train_ACC: 34.267; Val_ACC: 40.370   Train_NMI: 0.031; Val_NMI: 1.734\n",
      "(Epoch 45 / 100) Train_Loss: 144.299; Val_Loss: 166.141   Train_ACC: 34.967; Val_ACC: 40.741   Train_NMI: 0.065; Val_NMI: 1.483\n",
      "(Epoch 46 / 100) Train_Loss: 144.293; Val_Loss: 161.913   Train_ACC: 34.267; Val_ACC: 38.519   Train_NMI: 0.061; Val_NMI: 1.230\n",
      "(Epoch 47 / 100) Train_Loss: 142.010; Val_Loss: 163.594   Train_ACC: 34.843; Val_ACC: 39.259   Train_NMI: 0.066; Val_NMI: 1.492\n",
      "(Epoch 48 / 100) Train_Loss: 141.482; Val_Loss: 159.931   Train_ACC: 34.843; Val_ACC: 38.519   Train_NMI: 0.056; Val_NMI: 1.511\n",
      "(Epoch 49 / 100) Train_Loss: 140.533; Val_Loss: 165.338   Train_ACC: 34.308; Val_ACC: 38.889   Train_NMI: 0.025; Val_NMI: 1.369\n",
      "(Epoch 50 / 100) Train_Loss: 139.801; Val_Loss: 163.832   Train_ACC: 34.432; Val_ACC: 38.889   Train_NMI: 0.038; Val_NMI: 1.585\n",
      "(Epoch 51 / 100) Train_Loss: 139.567; Val_Loss: 161.473   Train_ACC: 34.720; Val_ACC: 39.630   Train_NMI: 0.042; Val_NMI: 1.346\n",
      "(Epoch 52 / 100) Train_Loss: 138.427; Val_Loss: 159.545   Train_ACC: 34.514; Val_ACC: 38.889   Train_NMI: 0.044; Val_NMI: 1.196\n",
      "(Epoch 53 / 100) Train_Loss: 137.604; Val_Loss: 156.701   Train_ACC: 34.185; Val_ACC: 39.630   Train_NMI: 0.027; Val_NMI: 1.257\n",
      "(Epoch 54 / 100) Train_Loss: 136.892; Val_Loss: 158.362   Train_ACC: 34.596; Val_ACC: 38.889   Train_NMI: 0.045; Val_NMI: 1.434\n",
      "(Epoch 55 / 100) Train_Loss: 136.029; Val_Loss: 158.645   Train_ACC: 35.173; Val_ACC: 38.889   Train_NMI: 0.077; Val_NMI: 1.154\n",
      "(Epoch 56 / 100) Train_Loss: 134.774; Val_Loss: 160.714   Train_ACC: 34.679; Val_ACC: 38.889   Train_NMI: 0.043; Val_NMI: 1.651\n",
      "(Epoch 57 / 100) Train_Loss: 134.232; Val_Loss: 165.784   Train_ACC: 34.555; Val_ACC: 37.778   Train_NMI: 0.049; Val_NMI: 0.843\n",
      "(Epoch 58 / 100) Train_Loss: 133.584; Val_Loss: 160.620   Train_ACC: 34.802; Val_ACC: 38.889   Train_NMI: 0.063; Val_NMI: 1.279\n",
      "(Epoch 59 / 100) Train_Loss: 132.944; Val_Loss: 156.476   Train_ACC: 34.226; Val_ACC: 40.000   Train_NMI: 0.030; Val_NMI: 1.426\n",
      "(Epoch 60 / 100) Train_Loss: 131.606; Val_Loss: 158.620   Train_ACC: 34.514; Val_ACC: 38.148   Train_NMI: 0.046; Val_NMI: 0.858\n",
      "(Epoch 61 / 100) Train_Loss: 130.952; Val_Loss: 155.184   Train_ACC: 34.720; Val_ACC: 40.000   Train_NMI: 0.041; Val_NMI: 1.311\n",
      "(Epoch 62 / 100) Train_Loss: 130.202; Val_Loss: 160.288   Train_ACC: 34.967; Val_ACC: 38.889   Train_NMI: 0.057; Val_NMI: 1.381\n",
      "(Epoch 63 / 100) Train_Loss: 129.651; Val_Loss: 154.824   Train_ACC: 35.049; Val_ACC: 38.519   Train_NMI: 0.080; Val_NMI: 1.375\n",
      "(Epoch 64 / 100) Train_Loss: 128.560; Val_Loss: 157.668   Train_ACC: 35.132; Val_ACC: 40.000   Train_NMI: 0.077; Val_NMI: 1.479\n",
      "(Epoch 65 / 100) Train_Loss: 127.733; Val_Loss: 157.200   Train_ACC: 34.473; Val_ACC: 40.000   Train_NMI: 0.043; Val_NMI: 1.377\n"
     ]
    },
    {
     "name": "stdout",
     "output_type": "stream",
     "text": [
      "(Epoch 66 / 100) Train_Loss: 127.162; Val_Loss: 161.492   Train_ACC: 34.349; Val_ACC: 39.630   Train_NMI: 0.026; Val_NMI: 1.204\n",
      "(Epoch 67 / 100) Train_Loss: 126.170; Val_Loss: 161.458   Train_ACC: 35.297; Val_ACC: 39.259   Train_NMI: 0.084; Val_NMI: 1.392\n",
      "(Epoch 68 / 100) Train_Loss: 125.937; Val_Loss: 163.179   Train_ACC: 35.049; Val_ACC: 39.630   Train_NMI: 0.067; Val_NMI: 1.466\n",
      "(Epoch 69 / 100) Train_Loss: 124.871; Val_Loss: 157.793   Train_ACC: 35.173; Val_ACC: 38.148   Train_NMI: 0.083; Val_NMI: 1.055\n",
      "(Epoch 70 / 100) Train_Loss: 125.884; Val_Loss: 156.295   Train_ACC: 35.008; Val_ACC: 38.889   Train_NMI: 0.069; Val_NMI: 1.270\n",
      "(Epoch 71 / 100) Train_Loss: 124.213; Val_Loss: 158.374   Train_ACC: 35.049; Val_ACC: 40.370   Train_NMI: 0.072; Val_NMI: 1.478\n",
      "(Epoch 72 / 100) Train_Loss: 123.071; Val_Loss: 162.351   Train_ACC: 34.967; Val_ACC: 38.148   Train_NMI: 0.058; Val_NMI: 1.348\n",
      "(Epoch 73 / 100) Train_Loss: 123.066; Val_Loss: 157.961   Train_ACC: 34.432; Val_ACC: 38.519   Train_NMI: 0.036; Val_NMI: 0.975\n",
      "(Epoch 74 / 100) Train_Loss: 122.324; Val_Loss: 161.071   Train_ACC: 34.926; Val_ACC: 39.259   Train_NMI: 0.066; Val_NMI: 1.375\n",
      "(Epoch 75 / 100) Train_Loss: 121.374; Val_Loss: 162.362   Train_ACC: 34.638; Val_ACC: 38.519   Train_NMI: 0.044; Val_NMI: 1.196\n",
      "(Epoch 76 / 100) Train_Loss: 120.869; Val_Loss: 163.225   Train_ACC: 34.720; Val_ACC: 39.630   Train_NMI: 0.052; Val_NMI: 1.493\n",
      "(Epoch 77 / 100) Train_Loss: 120.953; Val_Loss: 157.813   Train_ACC: 34.802; Val_ACC: 40.370   Train_NMI: 0.065; Val_NMI: 1.867\n",
      "(Epoch 78 / 100) Train_Loss: 120.215; Val_Loss: 164.178   Train_ACC: 34.638; Val_ACC: 40.741   Train_NMI: 0.046; Val_NMI: 1.680\n",
      "(Epoch 79 / 100) Train_Loss: 119.086; Val_Loss: 161.893   Train_ACC: 34.720; Val_ACC: 40.000   Train_NMI: 0.048; Val_NMI: 1.654\n",
      "(Epoch 80 / 100) Train_Loss: 118.298; Val_Loss: 161.399   Train_ACC: 34.802; Val_ACC: 39.259   Train_NMI: 0.051; Val_NMI: 1.205\n",
      "(Epoch 81 / 100) Train_Loss: 117.104; Val_Loss: 158.131   Train_ACC: 34.802; Val_ACC: 38.519   Train_NMI: 0.078; Val_NMI: 1.170\n",
      "(Epoch 82 / 100) Train_Loss: 116.876; Val_Loss: 165.357   Train_ACC: 34.885; Val_ACC: 38.889   Train_NMI: 0.059; Val_NMI: 1.157\n",
      "(Epoch 83 / 100) Train_Loss: 115.856; Val_Loss: 163.847   Train_ACC: 34.926; Val_ACC: 38.148   Train_NMI: 0.072; Val_NMI: 1.188\n",
      "(Epoch 84 / 100) Train_Loss: 115.350; Val_Loss: 168.335   Train_ACC: 34.638; Val_ACC: 37.407   Train_NMI: 0.051; Val_NMI: 1.031\n",
      "(Epoch 85 / 100) Train_Loss: 115.094; Val_Loss: 166.289   Train_ACC: 34.843; Val_ACC: 39.630   Train_NMI: 0.069; Val_NMI: 1.172\n",
      "(Epoch 86 / 100) Train_Loss: 114.510; Val_Loss: 157.760   Train_ACC: 34.679; Val_ACC: 38.148   Train_NMI: 0.053; Val_NMI: 0.840\n",
      "(Epoch 87 / 100) Train_Loss: 113.708; Val_Loss: 167.571   Train_ACC: 35.049; Val_ACC: 38.889   Train_NMI: 0.060; Val_NMI: 1.097\n",
      "(Epoch 88 / 100) Train_Loss: 113.391; Val_Loss: 161.947   Train_ACC: 34.308; Val_ACC: 38.519   Train_NMI: 0.032; Val_NMI: 0.823\n",
      "(Epoch 89 / 100) Train_Loss: 112.170; Val_Loss: 166.983   Train_ACC: 34.514; Val_ACC: 37.407   Train_NMI: 0.044; Val_NMI: 0.612\n",
      "(Epoch 90 / 100) Train_Loss: 111.481; Val_Loss: 165.506   Train_ACC: 34.802; Val_ACC: 38.148   Train_NMI: 0.045; Val_NMI: 1.111\n",
      "(Epoch 91 / 100) Train_Loss: 110.910; Val_Loss: 168.069   Train_ACC: 34.761; Val_ACC: 39.259   Train_NMI: 0.051; Val_NMI: 0.937\n",
      "(Epoch 92 / 100) Train_Loss: 110.783; Val_Loss: 167.065   Train_ACC: 35.008; Val_ACC: 39.259   Train_NMI: 0.121; Val_NMI: 1.242\n",
      "(Epoch 93 / 100) Train_Loss: 109.710; Val_Loss: 165.395   Train_ACC: 34.555; Val_ACC: 38.148   Train_NMI: 0.044; Val_NMI: 1.129\n",
      "(Epoch 94 / 100) Train_Loss: 109.961; Val_Loss: 164.012   Train_ACC: 34.885; Val_ACC: 39.630   Train_NMI: 0.061; Val_NMI: 1.355\n",
      "(Epoch 95 / 100) Train_Loss: 110.193; Val_Loss: 167.557   Train_ACC: 34.802; Val_ACC: 40.370   Train_NMI: 0.057; Val_NMI: 1.411\n",
      "(Epoch 96 / 100) Train_Loss: 108.607; Val_Loss: 168.627   Train_ACC: 34.638; Val_ACC: 38.148   Train_NMI: 0.053; Val_NMI: 1.212\n",
      "(Epoch 97 / 100) Train_Loss: 107.991; Val_Loss: 175.706   Train_ACC: 34.596; Val_ACC: 37.778   Train_NMI: 0.051; Val_NMI: 0.980\n",
      "(Epoch 98 / 100) Train_Loss: 107.817; Val_Loss: 164.539   Train_ACC: 34.802; Val_ACC: 39.259   Train_NMI: 0.044; Val_NMI: 1.004\n",
      "(Epoch 99 / 100) Train_Loss: 107.122; Val_Loss: 174.659   Train_ACC: 34.308; Val_ACC: 39.259   Train_NMI: 0.037; Val_NMI: 0.981\n",
      "(Epoch 100 / 100) Train_Loss: 105.584; Val_Loss: 172.880   Train_ACC: 34.720; Val_ACC: 39.630   Train_NMI: 0.064; Val_NMI: 1.035\n"
     ]
    }
   ],
   "source": [
    "# history_loss = gmvae.train(train_dl, valid_dl)"
   ]
  },
  {
   "cell_type": "code",
   "execution_count": 70,
   "metadata": {},
   "outputs": [],
   "source": [
    "# torch.save(gmvae.network.state_dict(), 'smba_gmvae.pth')"
   ]
  },
  {
   "cell_type": "code",
   "execution_count": 71,
   "metadata": {},
   "outputs": [
    {
     "data": {
      "text/plain": [
       "<All keys matched successfully>"
      ]
     },
     "execution_count": 71,
     "metadata": {},
     "output_type": "execute_result"
    }
   ],
   "source": [
    "gmvae.network.load_state_dict(torch.load('smba_gmvae.pth'))"
   ]
  },
  {
   "cell_type": "markdown",
   "metadata": {
    "colab_type": "text",
    "id": "1bHWNxV-gAl2"
   },
   "source": [
    "## Image Reconstruction"
   ]
  },
  {
   "cell_type": "code",
   "execution_count": 18,
   "metadata": {
    "colab": {
     "base_uri": "https://localhost:8080/",
     "height": 160
    },
    "colab_type": "code",
    "id": "wd5jQFFHgCbD",
    "outputId": "8e1d4654-fb01-49dc-b512-e8e4bb259e0f"
   },
   "outputs": [],
   "source": [
    "original, reconstructed = gmvae.reconstruct_data(train_dl, 15)  "
   ]
  },
  {
   "cell_type": "code",
   "execution_count": 19,
   "metadata": {},
   "outputs": [],
   "source": [
    "original_int = original.reshape(15, 16, 16, 12).argmax(axis=-1)\n",
    "reconstructed_int = reconstructed.reshape(15, 16, 16, 12).argmax(axis=-1)"
   ]
  },
  {
   "cell_type": "code",
   "execution_count": 20,
   "metadata": {},
   "outputs": [],
   "source": [
    "def get_classes(chunks_int):\n",
    "    classes = []\n",
    "    for i in chunks_int:\n",
    "        if i.max() == 6:\n",
    "            classes.append('kia')\n",
    "        else:\n",
    "            classes.append('smba')\n",
    "    return np.array(classes)"
   ]
  },
  {
   "cell_type": "code",
   "execution_count": 21,
   "metadata": {},
   "outputs": [],
   "source": [
    "org_classes = get_classes(original_int)\n",
    "rec_classes = get_classes(reconstructed_int)\n",
    "assert np.sum(org_classes == rec_classes) == len(org_classes)"
   ]
  },
  {
   "cell_type": "code",
   "execution_count": 22,
   "metadata": {},
   "outputs": [],
   "source": [
    "def get_images(chunks_int):\n",
    "    images = []\n",
    "    for game, chunk in zip(get_classes(chunks_int), chunks_int):\n",
    "        images.append(vglc_with_path_encodings.array_to_image([chunk], game=game)[0])\n",
    "    return images"
   ]
  },
  {
   "cell_type": "code",
   "execution_count": 23,
   "metadata": {},
   "outputs": [
    {
     "data": {
      "text/plain": [
       "(15, 15)"
      ]
     },
     "execution_count": 23,
     "metadata": {},
     "output_type": "execute_result"
    }
   ],
   "source": [
    "org_images = get_images(original_int)\n",
    "rec_images = get_images(reconstructed_int)\n",
    "len(org_images), len(rec_images)"
   ]
  },
  {
   "cell_type": "code",
   "execution_count": 24,
   "metadata": {},
   "outputs": [
    {
     "data": {
      "image/png": "[encoded data removed]",
      "text/plain": [
       "<Figure size 1728x576 with 30 Axes>"
      ]
     },
     "metadata": {
      "needs_background": "light"
     },
     "output_type": "display_data"
    }
   ],
   "source": [
    "fig, axes = plt.subplots(nrows=3, ncols=10, figsize=(24, 8))\n",
    "axes = axes.flatten()\n",
    "nrows, ncols = 3, 10\n",
    "\n",
    "org_idxs = np.arange(0, 29, 2)\n",
    "rec_idxs = org_idxs + 1\n",
    "\n",
    "for idx in org_idxs:\n",
    "        \n",
    "    ax = axes[idx]\n",
    "\n",
    "    ax.imshow(np.asarray(org_images[idx // 2]))\n",
    "    ax.set_title(f'Org {idx // 2 + 1}')\n",
    "    \n",
    "    ax.axis('off')\n",
    "\n",
    "for idx in rec_idxs:\n",
    "        \n",
    "    ax = axes[idx]\n",
    "\n",
    "    ax.imshow(np.asarray(rec_images[idx // 2]))\n",
    "    ax.set_title(f'Rec {idx // 2 + 1}')\n",
    "\n",
    "    ax.axis('off')\n",
    "    \n",
    "plt.show()"
   ]
  },
  {
   "cell_type": "markdown",
   "metadata": {
    "colab_type": "text",
    "id": "CAyoGFFRgMgC"
   },
   "source": [
    "## Random Generation per Category"
   ]
  },
  {
   "cell_type": "code",
   "execution_count": 81,
   "metadata": {
    "colab": {
     "base_uri": "https://localhost:8080/",
     "height": 595
    },
    "colab_type": "code",
    "id": "xE84c3U2gLjA",
    "outputId": "cd52f356-e53a-4844-9db2-3723d15ddb00"
   },
   "outputs": [
    {
     "data": {
      "image/png": "[encoded data removed]",
      "text/plain": [
       "<Figure size 1728x720 with 45 Axes>"
      ]
     },
     "metadata": {
      "needs_background": "light"
     },
     "output_type": "display_data"
    }
   ],
   "source": [
    "def display_random_generation(generated, num_classes, n=10):\n",
    "    plt.figure(figsize=[24,10])\n",
    "    for c in range(num_classes):\n",
    "        for i in range(n):\n",
    "            plt.subplot(num_classes, n, (c * n) + i + 1)\n",
    "            chunk_int = generated[(c * n) + i].reshape(16, 16, 12).argmax(axis=-1)\n",
    "            chunk_pix = vglc_with_path_encodings.array_to_image([chunk_int], game='smba')[0]\n",
    "            plt.imshow(chunk_pix)\n",
    "            plt.gray()\n",
    "            plt.axis('off')\n",
    "    plt.show()\n",
    "\n",
    "elem_per_category = 15\n",
    "generated = gmvae.random_generation(elem_per_category)\n",
    "display_random_generation(generated, args.num_classes, elem_per_category)"
   ]
  },
  {
   "cell_type": "code",
   "execution_count": 26,
   "metadata": {},
   "outputs": [],
   "source": [
    "elem_per_category = 10000 // num_components\n",
    "generated = gmvae.random_generation(elem_per_category)"
   ]
  },
  {
   "cell_type": "code",
   "execution_count": 27,
   "metadata": {},
   "outputs": [],
   "source": [
    "generated_int = generated.reshape(-1, 16, 16, 12).argmax(axis=-1)"
   ]
  },
  {
   "cell_type": "code",
   "execution_count": 28,
   "metadata": {},
   "outputs": [
    {
     "data": {
      "text/plain": [
       "(9999, 16, 16)"
      ]
     },
     "execution_count": 28,
     "metadata": {},
     "output_type": "execute_result"
    }
   ],
   "source": [
    "generated_int.shape"
   ]
  },
  {
   "cell_type": "code",
   "execution_count": 29,
   "metadata": {},
   "outputs": [],
   "source": [
    "# since this code chunk depends on random seed, it shouldn't be run again\n",
    "with open(f'../smba_generations_2_to_7/smba_gmvae_{num_components}.json', 'w+') as json_f:\n",
    "    json.dump(generated_int.tolist(), json_f)"
   ]
  },
  {
   "cell_type": "markdown",
   "metadata": {
    "colab_type": "text",
    "id": "-SbXR7FkhIcq"
   },
   "source": [
    "## Visualization of the feature latent space"
   ]
  },
  {
   "cell_type": "code",
   "execution_count": 72,
   "metadata": {
    "colab": {},
    "colab_type": "code",
    "id": "bTkEBA9JhQ2C"
   },
   "outputs": [],
   "source": [
    "# get feature representations\n",
    "test_features, test_labels = gmvae.latent_features(train_dl, return_learned_labels=True)"
   ]
  },
  {
   "cell_type": "code",
   "execution_count": 73,
   "metadata": {},
   "outputs": [
    {
     "data": {
      "image/png": "[encoded data removed]",
      "text/plain": [
       "<Figure size 432x288 with 1 Axes>"
      ]
     },
     "metadata": {
      "needs_background": "light"
     },
     "output_type": "display_data"
    }
   ],
   "source": [
    "plt.hist(test_labels)\n",
    "plt.show()"
   ]
  },
  {
   "cell_type": "code",
   "execution_count": 74,
   "metadata": {
    "colab": {},
    "colab_type": "code",
    "id": "LNmsz5rahZAY"
   },
   "outputs": [],
   "source": [
    "# import TSNE from scikit-learn library\n",
    "from sklearn.manifold import TSNE\n",
    "\n",
    "# reduce dimensionality to 2D, we consider a subset of data because TSNE\n",
    "# is a slow algorithm\n",
    "\n",
    "first_n = 1000\n",
    "tsne_features = TSNE(n_components=2).fit_transform(test_features[:first_n])"
   ]
  },
  {
   "cell_type": "code",
   "execution_count": 75,
   "metadata": {},
   "outputs": [],
   "source": [
    "test_labels_subset = test_labels[:first_n]"
   ]
  },
  {
   "cell_type": "code",
   "execution_count": 76,
   "metadata": {},
   "outputs": [],
   "source": [
    "X_, Y_ = np.s_[:,0], np.s_[:,1]"
   ]
  },
  {
   "cell_type": "code",
   "execution_count": 78,
   "metadata": {
    "colab": {
     "base_uri": "https://localhost:8080/",
     "height": 395
    },
    "colab_type": "code",
    "id": "wyTtDdwyha-L",
    "outputId": "350e806a-6dd3-47f2-bd91-444aaf61b3dd"
   },
   "outputs": [
    {
     "data": {
      "image/png": "[encoded data removed]",
      "text/plain": [
       "<Figure size 360x360 with 1 Axes>"
      ]
     },
     "metadata": {
      "needs_background": "light"
     },
     "output_type": "display_data"
    }
   ],
   "source": [
    "fig = plt.figure(figsize=(5, 5))\n",
    "\n",
    "plt.scatter(tsne_features[X_], tsne_features[Y_], c=test_labels_subset, cmap='coolwarm')\n",
    "\n",
    "plt.title('Projection from latent space to 2D')\n",
    "plt.show()"
   ]
  },
  {
   "cell_type": "markdown",
   "metadata": {},
   "source": []
  },
  {
   "cell_type": "code",
   "execution_count": null,
   "metadata": {},
   "outputs": [],
   "source": []
  },
  {
   "cell_type": "code",
   "execution_count": null,
   "metadata": {},
   "outputs": [],
   "source": []
  },
  {
   "cell_type": "code",
   "execution_count": null,
   "metadata": {},
   "outputs": [],
   "source": []
  },
  {
   "cell_type": "code",
   "execution_count": null,
   "metadata": {},
   "outputs": [],
   "source": []
  }
 ],
 "metadata": {
  "accelerator": "GPU",
  "colab": {
   "collapsed_sections": [],
   "include_colab_link": true,
   "name": "GMVAE_Pytorch.ipynb",
   "provenance": []
  },
  "kernelspec": {
   "display_name": "Python 3",
   "language": "python",
   "name": "python3"
  },
  "language_info": {
   "codemirror_mode": {
    "name": "ipython",
    "version": 3
   },
   "file_extension": ".py",
   "mimetype": "text/x-python",
   "name": "python",
   "nbconvert_exporter": "python",
   "pygments_lexer": "ipython3",
   "version": "3.7.6"
  },
  "toc": {
   "base_numbering": 1,
   "nav_menu": {},
   "number_sections": false,
   "sideBar": true,
   "skip_h1_title": false,
   "title_cell": "Table of Contents",
   "title_sidebar": "Contents",
   "toc_cell": false,
   "toc_position": {},
   "toc_section_display": true,
   "toc_window_display": false
  },
  "varInspector": {
   "cols": {
    "lenName": 16,
    "lenType": 16,
    "lenVar": 40
   },
   "kernels_config": {
    "python": {
     "delete_cmd_postfix": "",
     "delete_cmd_prefix": "del ",
     "library": "var_list.py",
     "varRefreshCmd": "print(var_dic_list())"
    },
    "r": {
     "delete_cmd_postfix": ") ",
     "delete_cmd_prefix": "rm(",
     "library": "var_list.r",
     "varRefreshCmd": "cat(var_dic_list()) "
    }
   },
   "types_to_exclude": [
    "module",
    "function",
    "builtin_function_or_method",
    "instance",
    "_Feature"
   ],
   "window_display": false
  }
 },
 "nbformat": 4,
 "nbformat_minor": 1
}
