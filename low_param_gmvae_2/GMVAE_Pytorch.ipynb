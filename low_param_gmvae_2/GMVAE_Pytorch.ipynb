{
 "cells": [
  {
   "cell_type": "markdown",
   "metadata": {},
   "source": [
    "# Low-power GM-VAE bi-modal clustering to separate SMBA and KIA"
   ]
  },
  {
   "cell_type": "markdown",
   "metadata": {},
   "source": [
    "The purpose of this notebook is to test whether GM-VAE can successfully discover a simple structure hidden in labelled data. This gives us the confidence to apply GM-VAE to unlabelled data. The difficulty of applying GM-VAE to unlabelled data is that the resulting clusters are difficult to interpret with just examples. \n",
    "- They must be interpreted using summarizing statistics and hints (broad labels that don't necessary align with the clustering results, e.g., from which level).\n",
    "- Analysis to perform: \n",
    "    - Closeness to training data distribution in terms of metrics\n",
    "    - Novelty-quality tradeoff (we want to increase novelty without sacrificing quality)\n",
    "    - Interpretation of resulting clusters (since GM-VAE is not ad-hoc, its clusters may be more meaningful)"
   ]
  },
  {
   "cell_type": "markdown",
   "metadata": {
    "colab_type": "text",
    "id": "rGzTb0oswH5J"
   },
   "source": [
    "## Import Libraries"
   ]
  },
  {
   "cell_type": "code",
   "execution_count": 26,
   "metadata": {
    "colab": {},
    "colab_type": "code",
    "id": "ThVeaB3CwI4j"
   },
   "outputs": [],
   "source": [
    "import numpy as np\n",
    "import argparse\n",
    "import random\n",
    "from torchvision import datasets, transforms\n",
    "from torch.utils.data.sampler import SubsetRandomSampler\n",
    "import torch.utils.data\n",
    "from scipy.io import loadmat\n",
    "\n",
    "import sys\n",
    "sys.path.append('./pytorch')\n",
    "sys.path.append('../../1906-pcgml/pcgml-gmmVae-exp/modules/')\n",
    "import vglc_with_path_encodings\n",
    "\n",
    "from model.GMVAE import *\n",
    "import matplotlib.pyplot as plt\n",
    "%matplotlib inline"
   ]
  },
  {
   "cell_type": "markdown",
   "metadata": {},
   "source": [
    "## Load data"
   ]
  },
  {
   "cell_type": "code",
   "execution_count": 27,
   "metadata": {},
   "outputs": [],
   "source": [
    "def open_json_as_nparray(json_fname):\n",
    "    with open(json_fname, 'r') as json_f:\n",
    "        return np.array(json.load(json_f))"
   ]
  },
  {
   "cell_type": "markdown",
   "metadata": {},
   "source": [
    "Load SMB."
   ]
  },
  {
   "cell_type": "code",
   "execution_count": 28,
   "metadata": {},
   "outputs": [],
   "source": [
    "smb_int = open_json_as_nparray('smbWithPath-allLevels-chunks-int.json')"
   ]
  },
  {
   "cell_type": "code",
   "execution_count": 29,
   "metadata": {},
   "outputs": [
    {
     "data": {
      "text/plain": [
       "(2698, 16, 16, 12)"
      ]
     },
     "execution_count": 29,
     "metadata": {},
     "output_type": "execute_result"
    }
   ],
   "source": [
    "smb_onehot = np.eye(len(np.unique(smb_int)))[smb_int]\n",
    "smb_onehot.shape"
   ]
  },
  {
   "cell_type": "code",
   "execution_count": 30,
   "metadata": {},
   "outputs": [
    {
     "data": {
      "text/plain": [
       "(2698, 3072)"
      ]
     },
     "execution_count": 30,
     "metadata": {},
     "output_type": "execute_result"
    }
   ],
   "source": [
    "smb_onehot = smb_onehot.reshape(\n",
    "    smb_onehot.shape[0], \n",
    "    smb_onehot.shape[1] * smb_onehot.shape[2] * smb_onehot.shape[3]\n",
    ")\n",
    "smb_onehot.shape"
   ]
  },
  {
   "cell_type": "code",
   "execution_count": 31,
   "metadata": {},
   "outputs": [
    {
     "data": {
      "text/plain": [
       "(2698,)"
      ]
     },
     "execution_count": 31,
     "metadata": {},
     "output_type": "execute_result"
    }
   ],
   "source": [
    "smb_labels = np.zeros(smb_onehot.shape[0])\n",
    "smb_labels.shape"
   ]
  },
  {
   "cell_type": "markdown",
   "metadata": {},
   "source": [
    "Load KI."
   ]
  },
  {
   "cell_type": "code",
   "execution_count": 32,
   "metadata": {},
   "outputs": [],
   "source": [
    "ki_int = open_json_as_nparray('kiWithPath-allLevels-chunks-int.json')"
   ]
  },
  {
   "cell_type": "code",
   "execution_count": 33,
   "metadata": {},
   "outputs": [
    {
     "data": {
      "text/plain": [
       "(1142, 16, 16, 7)"
      ]
     },
     "execution_count": 33,
     "metadata": {},
     "output_type": "execute_result"
    }
   ],
   "source": [
    "ki_onehot = np.eye(len(np.unique(ki_int)))[ki_int]\n",
    "ki_onehot.shape"
   ]
  },
  {
   "cell_type": "code",
   "execution_count": 34,
   "metadata": {},
   "outputs": [],
   "source": [
    "ki_onehot_zero_padded = np.zeros(\n",
    "    (\n",
    "    ki_onehot.shape[0], \n",
    "    16, 16,\n",
    "    len(np.unique(smb_int))\n",
    "    )\n",
    ")"
   ]
  },
  {
   "cell_type": "code",
   "execution_count": 35,
   "metadata": {},
   "outputs": [
    {
     "data": {
      "text/plain": [
       "(1142, 16, 16, 12)"
      ]
     },
     "execution_count": 35,
     "metadata": {},
     "output_type": "execute_result"
    }
   ],
   "source": [
    "ki_onehot_zero_padded.shape"
   ]
  },
  {
   "cell_type": "code",
   "execution_count": 36,
   "metadata": {},
   "outputs": [],
   "source": [
    "ki_onehot_zero_padded[\n",
    "    :ki_onehot.shape[0],\n",
    "    :ki_onehot.shape[1],\n",
    "    :ki_onehot.shape[2],\n",
    "    :ki_onehot.shape[3]\n",
    "] = ki_onehot"
   ]
  },
  {
   "cell_type": "code",
   "execution_count": 37,
   "metadata": {},
   "outputs": [
    {
     "data": {
      "text/plain": [
       "(1142, 16, 16, 12)"
      ]
     },
     "execution_count": 37,
     "metadata": {},
     "output_type": "execute_result"
    }
   ],
   "source": [
    "ki_onehot_zero_padded.shape"
   ]
  },
  {
   "cell_type": "code",
   "execution_count": 38,
   "metadata": {},
   "outputs": [
    {
     "data": {
      "text/plain": [
       "(1.0, 0.0)"
      ]
     },
     "execution_count": 38,
     "metadata": {},
     "output_type": "execute_result"
    }
   ],
   "source": [
    "ki_onehot_zero_padded[:,:,:,6].max(), ki_onehot_zero_padded[:,:,:,7].max()"
   ]
  },
  {
   "cell_type": "code",
   "execution_count": 39,
   "metadata": {},
   "outputs": [
    {
     "data": {
      "text/plain": [
       "(1142, 3072)"
      ]
     },
     "execution_count": 39,
     "metadata": {},
     "output_type": "execute_result"
    }
   ],
   "source": [
    "ki_onehot_zero_padded = ki_onehot_zero_padded.reshape(\n",
    "    ki_onehot_zero_padded.shape[0], \n",
    "    ki_onehot_zero_padded.shape[1] * ki_onehot_zero_padded.shape[2] * ki_onehot_zero_padded.shape[3]\n",
    ")\n",
    "ki_onehot_zero_padded.shape"
   ]
  },
  {
   "cell_type": "code",
   "execution_count": 40,
   "metadata": {},
   "outputs": [],
   "source": [
    "ki_labels = np.ones(len(ki_onehot_zero_padded))"
   ]
  },
  {
   "cell_type": "markdown",
   "metadata": {},
   "source": [
    "Create labels."
   ]
  },
  {
   "cell_type": "code",
   "execution_count": 41,
   "metadata": {},
   "outputs": [
    {
     "data": {
      "text/plain": [
       "((3840,), array([0., 0., 0., ..., 1., 1., 1.]))"
      ]
     },
     "execution_count": 41,
     "metadata": {},
     "output_type": "execute_result"
    }
   ],
   "source": [
    "labels = np.concatenate([smb_labels, ki_labels])\n",
    "labels.shape, labels"
   ]
  },
  {
   "cell_type": "code",
   "execution_count": 42,
   "metadata": {},
   "outputs": [],
   "source": [
    "chunks = np.concatenate([smb_onehot, ki_onehot_zero_padded])"
   ]
  },
  {
   "cell_type": "code",
   "execution_count": 43,
   "metadata": {},
   "outputs": [
    {
     "data": {
      "image/png": "[encoded data removed]",
      "text/plain": [
       "<Figure size 432x288 with 1 Axes>"
      ]
     },
     "metadata": {
      "needs_background": "light"
     },
     "output_type": "display_data"
    }
   ],
   "source": [
    "plt.hist(labels)\n",
    "plt.show()"
   ]
  },
  {
   "cell_type": "markdown",
   "metadata": {
    "colab_type": "text",
    "id": "3QNKItMHwQU2"
   },
   "source": [
    "## Input Parameters"
   ]
  },
  {
   "cell_type": "code",
   "execution_count": 46,
   "metadata": {
    "colab": {},
    "colab_type": "code",
    "id": "8tBHkTQ4wVIG"
   },
   "outputs": [],
   "source": [
    "########################################################\n",
    "## Input Parameters\n",
    "#########################################################\n",
    "parser = argparse.ArgumentParser(description='PyTorch Implementation of DGM Clustering')\n",
    "\n",
    "## Used only in notebooks\n",
    "parser.add_argument('-f', '--file',\n",
    "                    help='Path for input file. First line should contain number of lines to search in')\n",
    "\n",
    "## Dataset\n",
    "parser.add_argument('--dataset', type=str, choices=['mnist'],\n",
    "                    default='mnist', help='dataset (default: mnist)')\n",
    "parser.add_argument('--seed', type=int, default=1, help='random seed (default: 1)')\n",
    "\n",
    "## GPU\n",
    "parser.add_argument('--cuda', type=int, default=1,\n",
    "                    help='use of cuda (default: 1)')\n",
    "parser.add_argument('--gpuID', type=int, default=0,\n",
    "                    help='set gpu id to use (default: 0)')\n",
    "\n",
    "## Training\n",
    "parser.add_argument('--epochs', type=int, default=100,\n",
    "                    help='number of total epochs to run (default: 200)')\n",
    "parser.add_argument('--batch_size', default=64, type=int,\n",
    "                    help='mini-batch size (default: 64)')\n",
    "parser.add_argument('--batch_size_val', default=200, type=int,\n",
    "                    help='mini-batch size of validation (default: 200)')\n",
    "parser.add_argument('--learning_rate', default=1e-3, type=float,\n",
    "                    help='learning rate (default: 0.001)')\n",
    "parser.add_argument('--decay_epoch', default=-1, type=int, \n",
    "                    help='Reduces the learning rate every decay_epoch')\n",
    "parser.add_argument('--lr_decay', default=0.5, type=float,\n",
    "                    help='Learning rate decay for training (default: 0.5)')\n",
    "\n",
    "## Architecture\n",
    "parser.add_argument('--num_classes', type=int, default=2,\n",
    "                    help='number of classes (default: 10)')  # edited for this task\n",
    "parser.add_argument('--gaussian_size', default=64, type=int,\n",
    "                    help='gaussian size (default: 64)')\n",
    "parser.add_argument('--input_size', default=3072, type=int,\n",
    "                    help='input size (default: 784)')  # edited for this task\n",
    "\n",
    "## Partition parameters\n",
    "parser.add_argument('--train_proportion', default=0.9, type=float,\n",
    "                    help='proportion of examples to consider for training only (default: 1.0)')\n",
    "\n",
    "## Gumbel parameters\n",
    "parser.add_argument('--init_temp', default=1.0, type=float,\n",
    "                    help='Initial temperature used in gumbel-softmax (recommended 0.5-1.0, default:1.0)')\n",
    "parser.add_argument('--decay_temp', default=1, type=int, \n",
    "                    help='Set 1 to decay gumbel temperature at every epoch (default: 1)')\n",
    "parser.add_argument('--hard_gumbel', default=0, type=int, \n",
    "                    help='Set 1 to use the hard version of gumbel-softmax (default: 1)')\n",
    "parser.add_argument('--min_temp', default=0.5, type=float, \n",
    "                    help='Minimum temperature of gumbel-softmax after annealing (default: 0.5)' )\n",
    "parser.add_argument('--decay_temp_rate', default=0.013862944, type=float,\n",
    "                    help='Temperature decay rate at every epoch (default: 0.013862944)')\n",
    "\n",
    "## Loss function parameters\n",
    "parser.add_argument('--w_gauss', default=2, type=float,\n",
    "                    help='weight of gaussian loss (default: 1)')\n",
    "parser.add_argument('--w_categ', default=1, type=float,\n",
    "                    help='weight of categorical loss (default: 1)')\n",
    "parser.add_argument('--w_rec', default=1, type=float,\n",
    "                    help='weight of reconstruction loss (default: 1)')\n",
    "parser.add_argument('--rec_type', type=str, choices=['bce', 'mse'],\n",
    "                    default='bce', help='desired reconstruction loss function (default: bce)')\n",
    "\n",
    "## Others\n",
    "parser.add_argument('--verbose', default=0, type=int,\n",
    "                    help='print extra information at every epoch.(default: 0)')\n",
    "\n",
    "args = parser.parse_args()"
   ]
  },
  {
   "cell_type": "markdown",
   "metadata": {
    "colab_type": "text",
    "id": "Bti6lPHawc9z"
   },
   "source": [
    "Set random seed in case it was specified in the parameters\n"
   ]
  },
  {
   "cell_type": "code",
   "execution_count": 47,
   "metadata": {
    "colab": {},
    "colab_type": "code",
    "id": "IpWPxTy1wgbJ"
   },
   "outputs": [],
   "source": [
    "## Random Seed\n",
    "SEED = args.seed\n",
    "np.random.seed(SEED)\n",
    "random.seed(SEED)\n",
    "torch.manual_seed(SEED)\n",
    "if args.cuda:\n",
    "    torch.cuda.manual_seed(SEED)"
   ]
  },
  {
   "cell_type": "markdown",
   "metadata": {
    "colab_type": "text",
    "id": "fmrkmhttwkiD"
   },
   "source": [
    "## Data Partition"
   ]
  },
  {
   "cell_type": "markdown",
   "metadata": {
    "colab_type": "text",
    "id": "fUuTFMBhb2vZ"
   },
   "source": [
    "We split the training data into train and validation according to the *train_proportion* parameter:"
   ]
  },
  {
   "cell_type": "code",
   "execution_count": 48,
   "metadata": {},
   "outputs": [],
   "source": [
    "from torch.utils.data import TensorDataset, DataLoader"
   ]
  },
  {
   "cell_type": "code",
   "execution_count": 49,
   "metadata": {},
   "outputs": [],
   "source": [
    "assert args.train_proportion != 1"
   ]
  },
  {
   "cell_type": "code",
   "execution_count": 59,
   "metadata": {
    "colab": {},
    "colab_type": "code",
    "id": "P8F6pjC7cNX7"
   },
   "outputs": [],
   "source": [
    "def partition_dataset(n, proportion=0.8):\n",
    "    train_num = int(n * proportion)\n",
    "    indices = np.random.permutation(n)\n",
    "    train_indices, val_indices = indices[:train_num], indices[train_num:]\n",
    "    return train_indices, val_indices\n",
    "\n",
    "train_indices, val_indices = partition_dataset(len(chunks), args.train_proportion)\n",
    "train_ds = TensorDataset(torch.from_numpy(chunks).float(), torch.from_numpy(labels).long())\n",
    "train_dl = DataLoader(train_ds, batch_size=args.batch_size, sampler=SubsetRandomSampler(train_indices))\n",
    "valid_dl = DataLoader(train_ds, batch_size=args.batch_size_val, sampler=SubsetRandomSampler(val_indices))"
   ]
  },
  {
   "cell_type": "markdown",
   "metadata": {
    "colab_type": "text",
    "id": "Pt7sEfZWw_U7"
   },
   "source": [
    "## Train Model"
   ]
  },
  {
   "cell_type": "code",
   "execution_count": 60,
   "metadata": {
    "colab": {},
    "colab_type": "code",
    "id": "qTncRSCuxFEL"
   },
   "outputs": [],
   "source": [
    "# Model Initialization\n",
    "gmvae = GMVAE(args)"
   ]
  },
  {
   "cell_type": "code",
   "execution_count": 61,
   "metadata": {
    "colab": {
     "base_uri": "https://localhost:8080/",
     "height": 1000
    },
    "colab_type": "code",
    "id": "dQx-EzIexJFV",
    "outputId": "08a10916-7a0c-45cf-fec2-f1a164c13e70"
   },
   "outputs": [
    {
     "name": "stdout",
     "output_type": "stream",
     "text": [
      "(Epoch 1 / 100) Train_Loss: 578.198; Val_Loss: 334.049   Train_ACC: 94.965; Val_ACC: 100.000   Train_NMI: 68.682; Val_NMI: 100.000\n",
      "(Epoch 2 / 100) Train_Loss: 306.525; Val_Loss: 318.589   Train_ACC: 99.913; Val_ACC: 99.740   Train_NMI: 98.959; Val_NMI: 97.461\n",
      "(Epoch 3 / 100) Train_Loss: 300.391; Val_Loss: 313.860   Train_ACC: 99.826; Val_ACC: 100.000   Train_NMI: 98.118; Val_NMI: 100.000\n",
      "(Epoch 4 / 100) Train_Loss: 295.087; Val_Loss: 307.649   Train_ACC: 100.000; Val_ACC: 100.000   Train_NMI: 100.000; Val_NMI: 100.000\n",
      "(Epoch 5 / 100) Train_Loss: 289.915; Val_Loss: 303.286   Train_ACC: 99.740; Val_ACC: 100.000   Train_NMI: 97.353; Val_NMI: 100.000\n",
      "(Epoch 6 / 100) Train_Loss: 286.463; Val_Loss: 299.906   Train_ACC: 99.971; Val_ACC: 100.000   Train_NMI: 99.600; Val_NMI: 100.000\n",
      "(Epoch 7 / 100) Train_Loss: 280.428; Val_Loss: 289.739   Train_ACC: 100.000; Val_ACC: 100.000   Train_NMI: 100.000; Val_NMI: 100.000\n",
      "(Epoch 8 / 100) Train_Loss: 274.017; Val_Loss: 286.820   Train_ACC: 100.000; Val_ACC: 100.000   Train_NMI: 100.000; Val_NMI: 100.000\n",
      "(Epoch 9 / 100) Train_Loss: 271.009; Val_Loss: 281.420   Train_ACC: 99.797; Val_ACC: 99.479   Train_NMI: 97.856; Val_NMI: 95.495\n",
      "(Epoch 10 / 100) Train_Loss: 268.374; Val_Loss: 280.243   Train_ACC: 99.682; Val_ACC: 100.000   Train_NMI: 96.871; Val_NMI: 100.000\n",
      "(Epoch 11 / 100) Train_Loss: 266.599; Val_Loss: 278.903   Train_ACC: 100.000; Val_ACC: 100.000   Train_NMI: 100.000; Val_NMI: 100.000\n",
      "(Epoch 12 / 100) Train_Loss: 262.836; Val_Loss: 274.548   Train_ACC: 99.595; Val_ACC: 100.000   Train_NMI: 96.181; Val_NMI: 100.000\n",
      "(Epoch 13 / 100) Train_Loss: 259.670; Val_Loss: 270.876   Train_ACC: 99.682; Val_ACC: 100.000   Train_NMI: 96.871; Val_NMI: 100.000\n",
      "(Epoch 14 / 100) Train_Loss: 256.243; Val_Loss: 269.423   Train_ACC: 100.000; Val_ACC: 100.000   Train_NMI: 100.000; Val_NMI: 100.000\n",
      "(Epoch 15 / 100) Train_Loss: 253.498; Val_Loss: 264.710   Train_ACC: 100.000; Val_ACC: 99.479   Train_NMI: 100.000; Val_NMI: 95.495\n",
      "(Epoch 16 / 100) Train_Loss: 250.652; Val_Loss: 263.266   Train_ACC: 99.797; Val_ACC: 99.740   Train_NMI: 97.856; Val_NMI: 97.461\n",
      "(Epoch 17 / 100) Train_Loss: 247.896; Val_Loss: 261.290   Train_ACC: 99.797; Val_ACC: 99.479   Train_NMI: 97.856; Val_NMI: 95.495\n",
      "(Epoch 18 / 100) Train_Loss: 244.453; Val_Loss: 258.195   Train_ACC: 99.971; Val_ACC: 100.000   Train_NMI: 99.600; Val_NMI: 100.000\n",
      "(Epoch 19 / 100) Train_Loss: 241.448; Val_Loss: 255.759   Train_ACC: 100.000; Val_ACC: 100.000   Train_NMI: 100.000; Val_NMI: 100.000\n",
      "(Epoch 20 / 100) Train_Loss: 238.529; Val_Loss: 252.185   Train_ACC: 100.000; Val_ACC: 99.479   Train_NMI: 100.000; Val_NMI: 95.495\n",
      "(Epoch 21 / 100) Train_Loss: 235.454; Val_Loss: 249.591   Train_ACC: 99.855; Val_ACC: 100.000   Train_NMI: 98.388; Val_NMI: 100.000\n",
      "(Epoch 22 / 100) Train_Loss: 232.587; Val_Loss: 247.850   Train_ACC: 100.000; Val_ACC: 100.000   Train_NMI: 100.000; Val_NMI: 100.000\n",
      "(Epoch 23 / 100) Train_Loss: 230.235; Val_Loss: 244.882   Train_ACC: 100.000; Val_ACC: 100.000   Train_NMI: 100.000; Val_NMI: 100.000\n",
      "(Epoch 24 / 100) Train_Loss: 228.335; Val_Loss: 244.205   Train_ACC: 100.000; Val_ACC: 100.000   Train_NMI: 100.000; Val_NMI: 100.000\n",
      "(Epoch 25 / 100) Train_Loss: 225.564; Val_Loss: 242.176   Train_ACC: 100.000; Val_ACC: 100.000   Train_NMI: 100.000; Val_NMI: 100.000\n",
      "(Epoch 26 / 100) Train_Loss: 223.700; Val_Loss: 241.138   Train_ACC: 100.000; Val_ACC: 100.000   Train_NMI: 100.000; Val_NMI: 100.000\n",
      "(Epoch 27 / 100) Train_Loss: 221.683; Val_Loss: 239.447   Train_ACC: 100.000; Val_ACC: 100.000   Train_NMI: 100.000; Val_NMI: 100.000\n",
      "(Epoch 28 / 100) Train_Loss: 219.908; Val_Loss: 237.857   Train_ACC: 100.000; Val_ACC: 100.000   Train_NMI: 100.000; Val_NMI: 100.000\n",
      "(Epoch 29 / 100) Train_Loss: 218.541; Val_Loss: 237.711   Train_ACC: 100.000; Val_ACC: 100.000   Train_NMI: 100.000; Val_NMI: 100.000\n",
      "(Epoch 30 / 100) Train_Loss: 217.244; Val_Loss: 236.957   Train_ACC: 100.000; Val_ACC: 100.000   Train_NMI: 100.000; Val_NMI: 100.000\n",
      "(Epoch 31 / 100) Train_Loss: 215.680; Val_Loss: 236.060   Train_ACC: 100.000; Val_ACC: 100.000   Train_NMI: 100.000; Val_NMI: 100.000\n",
      "(Epoch 32 / 100) Train_Loss: 214.354; Val_Loss: 234.589   Train_ACC: 100.000; Val_ACC: 100.000   Train_NMI: 100.000; Val_NMI: 100.000\n",
      "(Epoch 33 / 100) Train_Loss: 213.001; Val_Loss: 234.180   Train_ACC: 100.000; Val_ACC: 100.000   Train_NMI: 100.000; Val_NMI: 100.000\n",
      "(Epoch 34 / 100) Train_Loss: 212.729; Val_Loss: 233.671   Train_ACC: 100.000; Val_ACC: 100.000   Train_NMI: 100.000; Val_NMI: 100.000\n",
      "(Epoch 35 / 100) Train_Loss: 210.641; Val_Loss: 232.433   Train_ACC: 100.000; Val_ACC: 100.000   Train_NMI: 100.000; Val_NMI: 100.000\n",
      "(Epoch 36 / 100) Train_Loss: 208.914; Val_Loss: 232.544   Train_ACC: 100.000; Val_ACC: 100.000   Train_NMI: 100.000; Val_NMI: 100.000\n",
      "(Epoch 37 / 100) Train_Loss: 207.690; Val_Loss: 232.632   Train_ACC: 100.000; Val_ACC: 100.000   Train_NMI: 100.000; Val_NMI: 100.000\n",
      "(Epoch 38 / 100) Train_Loss: 205.982; Val_Loss: 230.954   Train_ACC: 100.000; Val_ACC: 100.000   Train_NMI: 100.000; Val_NMI: 100.000\n",
      "(Epoch 39 / 100) Train_Loss: 205.017; Val_Loss: 229.829   Train_ACC: 100.000; Val_ACC: 100.000   Train_NMI: 100.000; Val_NMI: 100.000\n",
      "(Epoch 40 / 100) Train_Loss: 203.358; Val_Loss: 230.110   Train_ACC: 100.000; Val_ACC: 100.000   Train_NMI: 100.000; Val_NMI: 100.000\n",
      "(Epoch 41 / 100) Train_Loss: 202.279; Val_Loss: 228.865   Train_ACC: 100.000; Val_ACC: 100.000   Train_NMI: 100.000; Val_NMI: 100.000\n",
      "(Epoch 42 / 100) Train_Loss: 200.650; Val_Loss: 230.003   Train_ACC: 100.000; Val_ACC: 100.000   Train_NMI: 100.000; Val_NMI: 100.000\n",
      "(Epoch 43 / 100) Train_Loss: 199.603; Val_Loss: 227.824   Train_ACC: 100.000; Val_ACC: 100.000   Train_NMI: 100.000; Val_NMI: 100.000\n",
      "(Epoch 44 / 100) Train_Loss: 197.998; Val_Loss: 227.379   Train_ACC: 100.000; Val_ACC: 100.000   Train_NMI: 100.000; Val_NMI: 100.000\n",
      "(Epoch 45 / 100) Train_Loss: 197.080; Val_Loss: 225.744   Train_ACC: 100.000; Val_ACC: 100.000   Train_NMI: 100.000; Val_NMI: 100.000\n",
      "(Epoch 46 / 100) Train_Loss: 196.183; Val_Loss: 224.869   Train_ACC: 100.000; Val_ACC: 100.000   Train_NMI: 100.000; Val_NMI: 100.000\n",
      "(Epoch 47 / 100) Train_Loss: 193.754; Val_Loss: 225.393   Train_ACC: 100.000; Val_ACC: 100.000   Train_NMI: 100.000; Val_NMI: 100.000\n",
      "(Epoch 48 / 100) Train_Loss: 193.277; Val_Loss: 225.502   Train_ACC: 100.000; Val_ACC: 100.000   Train_NMI: 100.000; Val_NMI: 100.000\n",
      "(Epoch 49 / 100) Train_Loss: 192.031; Val_Loss: 225.127   Train_ACC: 100.000; Val_ACC: 100.000   Train_NMI: 100.000; Val_NMI: 100.000\n",
      "(Epoch 50 / 100) Train_Loss: 190.833; Val_Loss: 224.589   Train_ACC: 100.000; Val_ACC: 100.000   Train_NMI: 100.000; Val_NMI: 100.000\n",
      "(Epoch 51 / 100) Train_Loss: 189.735; Val_Loss: 224.515   Train_ACC: 100.000; Val_ACC: 100.000   Train_NMI: 100.000; Val_NMI: 100.000\n",
      "(Epoch 52 / 100) Train_Loss: 187.425; Val_Loss: 222.896   Train_ACC: 100.000; Val_ACC: 100.000   Train_NMI: 100.000; Val_NMI: 100.000\n",
      "(Epoch 53 / 100) Train_Loss: 186.899; Val_Loss: 224.711   Train_ACC: 100.000; Val_ACC: 100.000   Train_NMI: 100.000; Val_NMI: 100.000\n",
      "(Epoch 54 / 100) Train_Loss: 185.236; Val_Loss: 222.529   Train_ACC: 100.000; Val_ACC: 100.000   Train_NMI: 100.000; Val_NMI: 100.000\n",
      "(Epoch 55 / 100) Train_Loss: 184.533; Val_Loss: 223.297   Train_ACC: 100.000; Val_ACC: 100.000   Train_NMI: 100.000; Val_NMI: 100.000\n",
      "(Epoch 56 / 100) Train_Loss: 182.707; Val_Loss: 222.318   Train_ACC: 100.000; Val_ACC: 100.000   Train_NMI: 100.000; Val_NMI: 100.000\n",
      "(Epoch 57 / 100) Train_Loss: 182.143; Val_Loss: 222.778   Train_ACC: 100.000; Val_ACC: 100.000   Train_NMI: 100.000; Val_NMI: 100.000\n",
      "(Epoch 58 / 100) Train_Loss: 181.030; Val_Loss: 221.649   Train_ACC: 100.000; Val_ACC: 100.000   Train_NMI: 100.000; Val_NMI: 100.000\n",
      "(Epoch 59 / 100) Train_Loss: 179.554; Val_Loss: 221.921   Train_ACC: 100.000; Val_ACC: 100.000   Train_NMI: 100.000; Val_NMI: 100.000\n",
      "(Epoch 60 / 100) Train_Loss: 177.977; Val_Loss: 221.930   Train_ACC: 100.000; Val_ACC: 100.000   Train_NMI: 100.000; Val_NMI: 100.000\n",
      "(Epoch 61 / 100) Train_Loss: 176.229; Val_Loss: 222.686   Train_ACC: 100.000; Val_ACC: 100.000   Train_NMI: 100.000; Val_NMI: 100.000\n",
      "(Epoch 62 / 100) Train_Loss: 175.875; Val_Loss: 222.577   Train_ACC: 100.000; Val_ACC: 100.000   Train_NMI: 100.000; Val_NMI: 100.000\n"
     ]
    },
    {
     "name": "stdout",
     "output_type": "stream",
     "text": [
      "(Epoch 63 / 100) Train_Loss: 174.852; Val_Loss: 224.010   Train_ACC: 100.000; Val_ACC: 100.000   Train_NMI: 100.000; Val_NMI: 100.000\n",
      "(Epoch 64 / 100) Train_Loss: 174.031; Val_Loss: 223.473   Train_ACC: 100.000; Val_ACC: 100.000   Train_NMI: 100.000; Val_NMI: 100.000\n",
      "(Epoch 65 / 100) Train_Loss: 172.466; Val_Loss: 223.618   Train_ACC: 100.000; Val_ACC: 100.000   Train_NMI: 100.000; Val_NMI: 100.000\n",
      "(Epoch 66 / 100) Train_Loss: 170.849; Val_Loss: 222.212   Train_ACC: 100.000; Val_ACC: 100.000   Train_NMI: 100.000; Val_NMI: 100.000\n",
      "(Epoch 67 / 100) Train_Loss: 169.649; Val_Loss: 221.269   Train_ACC: 100.000; Val_ACC: 100.000   Train_NMI: 100.000; Val_NMI: 100.000\n",
      "(Epoch 68 / 100) Train_Loss: 169.025; Val_Loss: 223.523   Train_ACC: 100.000; Val_ACC: 100.000   Train_NMI: 100.000; Val_NMI: 100.000\n",
      "(Epoch 69 / 100) Train_Loss: 167.516; Val_Loss: 223.750   Train_ACC: 100.000; Val_ACC: 100.000   Train_NMI: 100.000; Val_NMI: 100.000\n",
      "(Epoch 70 / 100) Train_Loss: 166.397; Val_Loss: 223.663   Train_ACC: 100.000; Val_ACC: 100.000   Train_NMI: 100.000; Val_NMI: 100.000\n",
      "(Epoch 71 / 100) Train_Loss: 164.925; Val_Loss: 222.893   Train_ACC: 100.000; Val_ACC: 100.000   Train_NMI: 100.000; Val_NMI: 100.000\n",
      "(Epoch 72 / 100) Train_Loss: 164.087; Val_Loss: 222.516   Train_ACC: 100.000; Val_ACC: 100.000   Train_NMI: 100.000; Val_NMI: 100.000\n",
      "(Epoch 73 / 100) Train_Loss: 162.485; Val_Loss: 223.062   Train_ACC: 100.000; Val_ACC: 100.000   Train_NMI: 100.000; Val_NMI: 100.000\n",
      "(Epoch 74 / 100) Train_Loss: 161.486; Val_Loss: 223.964   Train_ACC: 100.000; Val_ACC: 100.000   Train_NMI: 100.000; Val_NMI: 100.000\n",
      "(Epoch 75 / 100) Train_Loss: 160.601; Val_Loss: 224.430   Train_ACC: 100.000; Val_ACC: 100.000   Train_NMI: 100.000; Val_NMI: 100.000\n",
      "(Epoch 76 / 100) Train_Loss: 159.542; Val_Loss: 223.527   Train_ACC: 100.000; Val_ACC: 100.000   Train_NMI: 100.000; Val_NMI: 100.000\n",
      "(Epoch 77 / 100) Train_Loss: 158.023; Val_Loss: 224.529   Train_ACC: 100.000; Val_ACC: 100.000   Train_NMI: 100.000; Val_NMI: 100.000\n",
      "(Epoch 78 / 100) Train_Loss: 157.582; Val_Loss: 224.479   Train_ACC: 100.000; Val_ACC: 100.000   Train_NMI: 100.000; Val_NMI: 100.000\n",
      "(Epoch 79 / 100) Train_Loss: 156.134; Val_Loss: 226.191   Train_ACC: 100.000; Val_ACC: 100.000   Train_NMI: 100.000; Val_NMI: 100.000\n",
      "(Epoch 80 / 100) Train_Loss: 154.568; Val_Loss: 226.892   Train_ACC: 100.000; Val_ACC: 100.000   Train_NMI: 100.000; Val_NMI: 100.000\n",
      "(Epoch 81 / 100) Train_Loss: 153.874; Val_Loss: 225.433   Train_ACC: 100.000; Val_ACC: 100.000   Train_NMI: 100.000; Val_NMI: 100.000\n",
      "(Epoch 82 / 100) Train_Loss: 152.705; Val_Loss: 226.995   Train_ACC: 100.000; Val_ACC: 100.000   Train_NMI: 100.000; Val_NMI: 100.000\n",
      "(Epoch 83 / 100) Train_Loss: 151.575; Val_Loss: 228.164   Train_ACC: 100.000; Val_ACC: 100.000   Train_NMI: 100.000; Val_NMI: 100.000\n",
      "(Epoch 84 / 100) Train_Loss: 150.975; Val_Loss: 230.417   Train_ACC: 100.000; Val_ACC: 100.000   Train_NMI: 100.000; Val_NMI: 100.000\n",
      "(Epoch 85 / 100) Train_Loss: 149.830; Val_Loss: 228.819   Train_ACC: 100.000; Val_ACC: 100.000   Train_NMI: 100.000; Val_NMI: 100.000\n",
      "(Epoch 86 / 100) Train_Loss: 148.148; Val_Loss: 228.165   Train_ACC: 100.000; Val_ACC: 100.000   Train_NMI: 100.000; Val_NMI: 100.000\n",
      "(Epoch 87 / 100) Train_Loss: 147.571; Val_Loss: 230.868   Train_ACC: 100.000; Val_ACC: 100.000   Train_NMI: 100.000; Val_NMI: 100.000\n",
      "(Epoch 88 / 100) Train_Loss: 146.313; Val_Loss: 231.456   Train_ACC: 100.000; Val_ACC: 100.000   Train_NMI: 100.000; Val_NMI: 100.000\n",
      "(Epoch 89 / 100) Train_Loss: 145.474; Val_Loss: 231.122   Train_ACC: 100.000; Val_ACC: 100.000   Train_NMI: 100.000; Val_NMI: 100.000\n",
      "(Epoch 90 / 100) Train_Loss: 144.429; Val_Loss: 231.697   Train_ACC: 100.000; Val_ACC: 100.000   Train_NMI: 100.000; Val_NMI: 100.000\n",
      "(Epoch 91 / 100) Train_Loss: 142.903; Val_Loss: 232.762   Train_ACC: 100.000; Val_ACC: 100.000   Train_NMI: 100.000; Val_NMI: 100.000\n",
      "(Epoch 92 / 100) Train_Loss: 142.555; Val_Loss: 231.355   Train_ACC: 100.000; Val_ACC: 100.000   Train_NMI: 100.000; Val_NMI: 100.000\n",
      "(Epoch 93 / 100) Train_Loss: 141.234; Val_Loss: 235.663   Train_ACC: 100.000; Val_ACC: 100.000   Train_NMI: 100.000; Val_NMI: 100.000\n",
      "(Epoch 94 / 100) Train_Loss: 139.911; Val_Loss: 235.949   Train_ACC: 100.000; Val_ACC: 100.000   Train_NMI: 100.000; Val_NMI: 100.000\n",
      "(Epoch 95 / 100) Train_Loss: 139.315; Val_Loss: 234.012   Train_ACC: 100.000; Val_ACC: 100.000   Train_NMI: 100.000; Val_NMI: 100.000\n",
      "(Epoch 96 / 100) Train_Loss: 137.870; Val_Loss: 237.759   Train_ACC: 100.000; Val_ACC: 100.000   Train_NMI: 100.000; Val_NMI: 100.000\n",
      "(Epoch 97 / 100) Train_Loss: 137.167; Val_Loss: 239.234   Train_ACC: 100.000; Val_ACC: 100.000   Train_NMI: 100.000; Val_NMI: 100.000\n",
      "(Epoch 98 / 100) Train_Loss: 136.939; Val_Loss: 242.268   Train_ACC: 100.000; Val_ACC: 100.000   Train_NMI: 100.000; Val_NMI: 100.000\n",
      "(Epoch 99 / 100) Train_Loss: 135.894; Val_Loss: 238.881   Train_ACC: 100.000; Val_ACC: 100.000   Train_NMI: 100.000; Val_NMI: 100.000\n",
      "(Epoch 100 / 100) Train_Loss: 134.365; Val_Loss: 239.691   Train_ACC: 100.000; Val_ACC: 100.000   Train_NMI: 100.000; Val_NMI: 100.000\n"
     ]
    }
   ],
   "source": [
    "# Training Phase\n",
    "history_loss = gmvae.train(train_dl, valid_dl)"
   ]
  },
  {
   "cell_type": "markdown",
   "metadata": {
    "colab_type": "text",
    "id": "1bHWNxV-gAl2"
   },
   "source": [
    "## Image Reconstruction"
   ]
  },
  {
   "cell_type": "code",
   "execution_count": 62,
   "metadata": {
    "colab": {
     "base_uri": "https://localhost:8080/",
     "height": 160
    },
    "colab_type": "code",
    "id": "wd5jQFFHgCbD",
    "outputId": "8e1d4654-fb01-49dc-b512-e8e4bb259e0f"
   },
   "outputs": [],
   "source": [
    "original, reconstructed = gmvae.reconstruct_data(valid_dl, 15)  "
   ]
  },
  {
   "cell_type": "code",
   "execution_count": 63,
   "metadata": {},
   "outputs": [],
   "source": [
    "original_int = original.reshape(15, 16, 16, 12).argmax(axis=-1)\n",
    "reconstructed_int = reconstructed.reshape(15, 16, 16, 12).argmax(axis=-1)"
   ]
  },
  {
   "cell_type": "code",
   "execution_count": 64,
   "metadata": {},
   "outputs": [],
   "source": [
    "def get_classes(chunks_int):\n",
    "    classes = []\n",
    "    for i in chunks_int:\n",
    "        if i.max() == 6:\n",
    "            classes.append('kia')\n",
    "        else:\n",
    "            classes.append('smba')\n",
    "    return np.array(classes)"
   ]
  },
  {
   "cell_type": "code",
   "execution_count": 65,
   "metadata": {},
   "outputs": [],
   "source": [
    "org_classes = get_classes(original_int)\n",
    "rec_classes = get_classes(reconstructed_int)\n",
    "assert np.sum(org_classes == rec_classes) == len(org_classes)"
   ]
  },
  {
   "cell_type": "code",
   "execution_count": 66,
   "metadata": {},
   "outputs": [],
   "source": [
    "def get_images(chunks_int):\n",
    "    images = []\n",
    "    for game, chunk in zip(get_classes(chunks_int), chunks_int):\n",
    "        images.append(vglc_with_path_encodings.array_to_image([chunk], game=game)[0])\n",
    "    return images"
   ]
  },
  {
   "cell_type": "code",
   "execution_count": 67,
   "metadata": {},
   "outputs": [
    {
     "name": "stderr",
     "output_type": "stream",
     "text": [
      "/home/yangz2/anaconda3/envs/deep_learning/lib/python3.7/site-packages/PIL/Image.py:968: UserWarning: Palette images with Transparency   expressed in bytes should be converted to RGBA images\n",
      "  ' expressed in bytes should be converted ' +\n"
     ]
    },
    {
     "data": {
      "text/plain": [
       "(15, 15)"
      ]
     },
     "execution_count": 67,
     "metadata": {},
     "output_type": "execute_result"
    }
   ],
   "source": [
    "org_images = get_images(original_int)\n",
    "rec_images = get_images(reconstructed_int)\n",
    "len(org_images), len(rec_images)"
   ]
  },
  {
   "cell_type": "code",
   "execution_count": 68,
   "metadata": {},
   "outputs": [
    {
     "data": {
      "image/png": "[encoded data removed]",
      "text/plain": [
       "<Figure size 1728x576 with 30 Axes>"
      ]
     },
     "metadata": {
      "needs_background": "light"
     },
     "output_type": "display_data"
    }
   ],
   "source": [
    "fig, axes = plt.subplots(nrows=3, ncols=10, figsize=(24, 8))\n",
    "axes = axes.flatten()\n",
    "nrows, ncols = 3, 10\n",
    "\n",
    "org_idxs = np.arange(0, 29, 2)\n",
    "rec_idxs = org_idxs + 1\n",
    "\n",
    "for idx in org_idxs:\n",
    "        \n",
    "    ax = axes[idx]\n",
    "\n",
    "    ax.imshow(np.asarray(org_images[idx // 2]))\n",
    "    ax.set_title(f'Org {idx // 2 + 1}')\n",
    "    \n",
    "    ax.axis('off')\n",
    "\n",
    "for idx in rec_idxs:\n",
    "        \n",
    "    ax = axes[idx]\n",
    "\n",
    "    ax.imshow(np.asarray(rec_images[idx // 2]))\n",
    "    ax.set_title(f'Rec {idx // 2 + 1}')\n",
    "\n",
    "    ax.axis('off')\n",
    "    \n",
    "plt.show()"
   ]
  },
  {
   "cell_type": "markdown",
   "metadata": {
    "colab_type": "text",
    "id": "CAyoGFFRgMgC"
   },
   "source": [
    "## Random Generation per Category"
   ]
  },
  {
   "cell_type": "code",
   "execution_count": 74,
   "metadata": {},
   "outputs": [],
   "source": [
    "idx2game = {\n",
    "    1:'smba',\n",
    "    0:'kia'\n",
    "}"
   ]
  },
  {
   "cell_type": "code",
   "execution_count": 75,
   "metadata": {
    "colab": {
     "base_uri": "https://localhost:8080/",
     "height": 595
    },
    "colab_type": "code",
    "id": "xE84c3U2gLjA",
    "outputId": "cd52f356-e53a-4844-9db2-3723d15ddb00"
   },
   "outputs": [
    {
     "data": {
      "image/png": "[encoded data removed]",
      "text/plain": [
       "<Figure size 1728x576 with 12 Axes>"
      ]
     },
     "metadata": {
      "needs_background": "light"
     },
     "output_type": "display_data"
    }
   ],
   "source": [
    "def display_random_generation(generated, num_classes, n=10):\n",
    "    plt.figure(figsize=[24,8])\n",
    "    for c in range(num_classes):\n",
    "        for i in range(n):\n",
    "            plt.subplot(num_classes, n, (c * n) + i + 1)\n",
    "            chunk_int = generated[(c * n) + i].reshape(16, 16, 12).argmax(axis=-1)\n",
    "            chunk_pix = vglc_with_path_encodings.array_to_image([chunk_int], game=idx2game[c])[0]\n",
    "            plt.imshow(chunk_pix)\n",
    "            plt.gray()\n",
    "            plt.axis('off')\n",
    "    plt.show()\n",
    "\n",
    "elem_per_category = 6\n",
    "generated = gmvae.random_generation(elem_per_category)\n",
    "display_random_generation(generated, args.num_classes, elem_per_category)"
   ]
  },
  {
   "cell_type": "markdown",
   "metadata": {
    "colab_type": "text",
    "id": "-SbXR7FkhIcq"
   },
   "source": [
    "## Visualization of the feature latent space"
   ]
  },
  {
   "cell_type": "code",
   "execution_count": 76,
   "metadata": {
    "colab": {},
    "colab_type": "code",
    "id": "bTkEBA9JhQ2C"
   },
   "outputs": [],
   "source": [
    "# get feature representations\n",
    "test_features, test_labels = gmvae.latent_features(train_dl, True)"
   ]
  },
  {
   "cell_type": "code",
   "execution_count": 77,
   "metadata": {
    "colab": {},
    "colab_type": "code",
    "id": "LNmsz5rahZAY"
   },
   "outputs": [],
   "source": [
    "# import TSNE from scikit-learn library\n",
    "from sklearn.manifold import TSNE\n",
    "\n",
    "# reduce dimensionality to 2D, we consider a subset of data because TSNE\n",
    "# is a slow algorithm\n",
    "\n",
    "first_n = 1000\n",
    "tsne_features = TSNE(n_components=2).fit_transform(test_features[:first_n])"
   ]
  },
  {
   "cell_type": "code",
   "execution_count": 78,
   "metadata": {},
   "outputs": [],
   "source": [
    "test_labels_subset = test_labels[:first_n]\n",
    "tsne_features_smba = tsne_features[test_labels_subset == 0]\n",
    "tsne_features_kia  = tsne_features[test_labels_subset == 1]"
   ]
  },
  {
   "cell_type": "code",
   "execution_count": 79,
   "metadata": {},
   "outputs": [],
   "source": [
    "X_, Y_ = np.s_[:,0], np.s_[:,1]"
   ]
  },
  {
   "cell_type": "code",
   "execution_count": 80,
   "metadata": {
    "colab": {
     "base_uri": "https://localhost:8080/",
     "height": 395
    },
    "colab_type": "code",
    "id": "wyTtDdwyha-L",
    "outputId": "350e806a-6dd3-47f2-bd91-444aaf61b3dd"
   },
   "outputs": [
    {
     "data": {
      "image/png": "[encoded data removed]",
      "text/plain": [
       "<Figure size 360x360 with 1 Axes>"
      ]
     },
     "metadata": {
      "needs_background": "light"
     },
     "output_type": "display_data"
    }
   ],
   "source": [
    "fig = plt.figure(figsize=(5, 5))\n",
    "\n",
    "plt.scatter(tsne_features_smba[X_], tsne_features_smba[Y_], label='SMBA Chunks')\n",
    "plt.scatter(tsne_features_kia[X_], tsne_features_kia[Y_], label='KIA Chunks')\n",
    "\n",
    "plt.title('Projection from latent space to 2D')\n",
    "plt.legend()\n",
    "plt.show()"
   ]
  },
  {
   "cell_type": "code",
   "execution_count": null,
   "metadata": {},
   "outputs": [],
   "source": []
  }
 ],
 "metadata": {
  "accelerator": "GPU",
  "colab": {
   "collapsed_sections": [],
   "include_colab_link": true,
   "name": "GMVAE_Pytorch.ipynb",
   "provenance": []
  },
  "kernelspec": {
   "display_name": "Python 3",
   "language": "python",
   "name": "python3"
  },
  "language_info": {
   "codemirror_mode": {
    "name": "ipython",
    "version": 3
   },
   "file_extension": ".py",
   "mimetype": "text/x-python",
   "name": "python",
   "nbconvert_exporter": "python",
   "pygments_lexer": "ipython3",
   "version": "3.7.6"
  },
  "toc": {
   "base_numbering": 1,
   "nav_menu": {},
   "number_sections": false,
   "sideBar": true,
   "skip_h1_title": false,
   "title_cell": "Table of Contents",
   "title_sidebar": "Contents",
   "toc_cell": false,
   "toc_position": {},
   "toc_section_display": true,
   "toc_window_display": false
  },
  "varInspector": {
   "cols": {
    "lenName": 16,
    "lenType": 16,
    "lenVar": 40
   },
   "kernels_config": {
    "python": {
     "delete_cmd_postfix": "",
     "delete_cmd_prefix": "del ",
     "library": "var_list.py",
     "varRefreshCmd": "print(var_dic_list())"
    },
    "r": {
     "delete_cmd_postfix": ") ",
     "delete_cmd_prefix": "rm(",
     "library": "var_list.r",
     "varRefreshCmd": "cat(var_dic_list()) "
    }
   },
   "types_to_exclude": [
    "module",
    "function",
    "builtin_function_or_method",
    "instance",
    "_Feature"
   ],
   "window_display": false
  }
 },
 "nbformat": 4,
 "nbformat_minor": 1
}
